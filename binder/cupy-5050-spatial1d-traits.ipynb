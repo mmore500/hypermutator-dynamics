{
 "cells": [
  {
   "cell_type": "code",
   "execution_count": null,
   "metadata": {},
   "outputs": [],
   "source": [
    "%load_ext watermark\n"
   ]
  },
  {
   "cell_type": "code",
   "execution_count": null,
   "metadata": {},
   "outputs": [],
   "source": [
    "from IPython.display import display\n",
    "import pandas as pd\n",
    "import polars as pl\n",
    "import seaborn as sns\n",
    "from teeplot import teeplot as tp\n",
    "\n",
    "from pylib.munge._calc_fixprobs_from_traits import calc_fixprobs_from_traits\n",
    "from pylib.viz._get_nben_cmap import get_nben_cmap\n",
    "from pylib.viz._get_nben_hue_norm import get_nben_hue_norm\n",
    "from pylib.viz._size_fixation_heatmap import size_fixation_heatmap\n"
   ]
  },
  {
   "cell_type": "code",
   "execution_count": null,
   "metadata": {},
   "outputs": [],
   "source": [
    "%watermark -diwmuv -iv\n"
   ]
  },
  {
   "cell_type": "code",
   "execution_count": null,
   "metadata": {},
   "outputs": [],
   "source": [
    "teeplot_subdir = \"cupy-5050-spatial1d-traits\"\n",
    "teeplot_subdir\n"
   ]
  },
  {
   "cell_type": "markdown",
   "metadata": {},
   "source": [
    "## Prep Data\n"
   ]
  },
  {
   "cell_type": "code",
   "execution_count": null,
   "metadata": {},
   "outputs": [],
   "source": [
    "dfpd = pd.read_parquet(\"https://osf.io/s67d2/download\")\n",
    "display(dfpd.describe()), display(dfpd.head()), display(dfpd.tail());\n"
   ]
  },
  {
   "cell_type": "code",
   "execution_count": null,
   "metadata": {},
   "outputs": [],
   "source": [
    "(apn,) = dfpd[\"tilePopSize\"].unique()  # agents per node\n",
    "apn\n"
   ]
  },
  {
   "cell_type": "code",
   "execution_count": null,
   "metadata": {},
   "outputs": [],
   "source": [
    "dfxs = calc_fixprobs_from_traits(dfpd)\n",
    "display(dfxs.describe()), display(dfxs.head()), display(dfxs.tail());\n"
   ]
  },
  {
   "cell_type": "markdown",
   "metadata": {},
   "source": [
    "## Size Fixation Curves\n"
   ]
  },
  {
   "cell_type": "code",
   "execution_count": null,
   "metadata": {},
   "outputs": [],
   "source": [
    "for errorbar in \"sd\", \"se\", \"ci\", None:\n",
    "    tp.tee(\n",
    "        sns.relplot,\n",
    "        data=dfxs,\n",
    "        x=\"population size\",\n",
    "        y=\"fixation probability\",\n",
    "        hue=\"genotype\",\n",
    "        hue_order=[\"normomutator\", \"hypermutator\"],\n",
    "        col=\"available beneficial mutations\",\n",
    "        style=\"genotype\",\n",
    "        style_order=[\"normomutator\", \"hypermutator\"],\n",
    "        aspect=1.5,\n",
    "        col_wrap=3,\n",
    "        errorbar=errorbar,\n",
    "        height=2,\n",
    "        kind=\"line\",\n",
    "        markers=True,\n",
    "        teeplot_outexclude=\"post\",\n",
    "        teeplot_subdir=teeplot_subdir,\n",
    "        teeplot_postprocess=f\"\"\"\n",
    "teed.set(xscale=\"log\", ylim=(-0.02, 1.02))\n",
    "teed.figure.suptitle(\"n={apn} agents per node\", x=0.63, y=1.02)\n",
    "teed.set_titles(col_template=\"{{col_var}} = {{col_name:.0f}}\")\n",
    "sns.move_legend(\n",
    "    teed,\n",
    "    \"lower center\",\n",
    "    bbox_to_anchor=(0.25, 0.97),\n",
    "    frameon=False,\n",
    "    ncol=2,\n",
    "    title=None,\n",
    ")\n",
    "\"\"\",\n",
    "    )\n"
   ]
  },
  {
   "cell_type": "code",
   "execution_count": null,
   "metadata": {},
   "outputs": [],
   "source": [
    "for errorbar in \"sd\", \"se\", \"ci\", None:\n",
    "    tp.tee(\n",
    "        sns.relplot,\n",
    "        data=dfxs[dfxs[\"genotype\"] == \"hypermutator\"],\n",
    "        x=\"population size\",\n",
    "        y=\"fixation probability\",\n",
    "        hue=\"available beneficial mutations\",\n",
    "        aspect=1.5,\n",
    "        height=3,\n",
    "        kind=\"line\",\n",
    "        errorbar=errorbar,\n",
    "        linewidth=2,\n",
    "        markers=True,\n",
    "        palette=get_nben_cmap(),\n",
    "        hue_norm=get_nben_hue_norm(),\n",
    "        teeplot_outexclude=\"post\",\n",
    "        teeplot_postprocess=f\"\"\"\n",
    "teed.set(xscale=\"log\", ylim=(-0.02, 1.02))\n",
    "teed.figure.suptitle(\"n={apn} agents per node\", x=0.63, y=1.02)\n",
    "teed.set_titles(col_template='{{col_var}} = {{col_name:.0f}}')\n",
    "\"\"\",\n",
    "        teeplot_subdir=teeplot_subdir,\n",
    "    )\n"
   ]
  },
  {
   "cell_type": "markdown",
   "metadata": {},
   "source": [
    "## Size Fixation Cliffplot\n"
   ]
  },
  {
   "cell_type": "code",
   "execution_count": null,
   "metadata": {},
   "outputs": [],
   "source": [
    "from matplotlib import pyplot as plt\n",
    "from matplotlib import ticker as mpl_ticker\n"
   ]
  },
  {
   "cell_type": "code",
   "execution_count": null,
   "metadata": {},
   "outputs": [],
   "source": [
    "dfxs[\"available\\nbeneficial mutations\"] = dfxs[\n",
    "    \"available beneficial mutations\"\n",
    "]\n"
   ]
  },
  {
   "cell_type": "code",
   "execution_count": null,
   "metadata": {},
   "outputs": [],
   "source": [
    "for errorbar in \"ci\", None:\n",
    "    saveit, teed = tp.tee(\n",
    "        sns.relplot,\n",
    "        data=dfxs[dfxs[\"genotype\"] == \"hypermutator\"],\n",
    "        y=\"available\\nbeneficial mutations\",\n",
    "        x=\"fixation probability\",\n",
    "        col=\"population size\",\n",
    "        hue=\"genotype\",\n",
    "        hue_order=[\"normomutator\", \"hypermutator\"],\n",
    "        aspect=0.2,\n",
    "        errorbar=errorbar,\n",
    "        err_kws=dict(alpha=0.5),\n",
    "        height=3,\n",
    "        kind=\"line\",\n",
    "        markers=True,\n",
    "        orient=\"y\",\n",
    "        teeplot_callback=True,\n",
    "        teeplot_subdir=teeplot_subdir,\n",
    "    )\n",
    "\n",
    "    sns.move_legend(\n",
    "        teed,\n",
    "        \"lower center\",\n",
    "        bbox_to_anchor=(0.4, -0.05),\n",
    "        frameon=False,\n",
    "        ncol=2,\n",
    "        title=None,\n",
    "    )\n",
    "\n",
    "    # teed.set(xscale=\"log\", ylim=(-0.02, 1.02))\n",
    "    # teed.figure.suptitle(\"n={apn} agents per node\", x=0.63, y=1.02)\n",
    "    teed.set_titles(col_template=\"{col_var}\")\n",
    "    from pylib.viz._fill_above_linesx import fill_above_linesx\n",
    "    from pylib.viz._fill_under_linesx import fill_under_linesx\n",
    "\n",
    "    teed.set_xticklabels(rotation=-45)\n",
    "\n",
    "    for ax in teed.axes.flat:\n",
    "        fill_above_linesx(ax, color=sns.color_palette(\"tab10\")[0])\n",
    "        fill_under_linesx(ax)\n",
    "        # xlim_ = ax.get_xlim()\n",
    "        # ylim_ = ax.get_ylim()\n",
    "        # ax.fill_betweenx(\n",
    "        #     ax.get_ylim(),\n",
    "        #     ax.get_xlim()[0] - 0.05,\n",
    "        #     0,\n",
    "        #     color=\"white\",\n",
    "        #     zorder=10,\n",
    "        # )\n",
    "        # ax.fill_betweenx(\n",
    "        #     ax.get_ylim(),\n",
    "        #     1,\n",
    "        #     ax.get_xlim()[1] + 0.05,\n",
    "        #     color=\"white\",\n",
    "        #     zorder=10,\n",
    "        # )\n",
    "        # ax.set_xlim(xlim_)\n",
    "        # ax.set_ylim(ylim_)\n",
    "\n",
    "    for i, ax in enumerate(teed.axes.flat):\n",
    "        if i + 1 != (len(teed.axes.flat) + 1) // 2:\n",
    "            ax.set_xlabel(\"\")\n",
    "        ax.set_title(\"\")\n",
    "\n",
    "    plt.subplots_adjust(wspace=0.12, top=0.85)\n",
    "\n",
    "    # Adjust layout to make room for the new x-axis labels\n",
    "    # plt.subplots_adjust(bottom=0.11)\n",
    "\n",
    "    # Get the position of the current axes\n",
    "    pos = teed.axes.flat[0].get_position()\n",
    "\n",
    "    # Create a new dummy axis underneath the heatmap with minimal height\n",
    "    delta = 0.001  # Small height for the dummy axis\n",
    "    new_ax = ax.figure.add_axes(\n",
    "        [\n",
    "            pos.x0,\n",
    "            0.88,\n",
    "            pos.width * 6.7,\n",
    "            delta,\n",
    "        ],\n",
    "    )\n",
    "\n",
    "    # Set the x-axis of the dummy axis to logarithmic scale\n",
    "    new_ax.set_xscale(\"log\")\n",
    "\n",
    "    # Assume hmdf.columns are your x-axis values\n",
    "    xvals = dfxs[\"population size\"]\n",
    "    xmin = xvals.min()\n",
    "    xmax = xvals.max()\n",
    "    new_ax.set_xlim(xmin, xmax)\n",
    "\n",
    "    # Use built-in LogLocator and LogFormatterMathtext for base 10 labels\n",
    "    new_ax.xaxis.set_ticks_position(\"top\")\n",
    "    new_ax.xaxis.set_major_locator(mpl_ticker.LogLocator(base=10))\n",
    "    new_ax.xaxis.set_major_formatter(\n",
    "        mpl_ticker.LogFormatterMathtext(base=10),\n",
    "    )\n",
    "\n",
    "    # Hide the y-axis of the dummy axis\n",
    "    new_ax.get_yaxis().set_visible(False)\n",
    "\n",
    "    # Hide spines of the dummy axis\n",
    "    new_ax.spines[[\"right\", \"bottom\", \"left\"]].set_visible(False)\n",
    "\n",
    "    # Add population size text in the upper left hand corner of the figure\n",
    "    teed.fig.text(0.02, 0.97, \"population\\nsize\", ha=\"left\", va=\"top\")\n",
    "\n",
    "    saveit()\n"
   ]
  },
  {
   "cell_type": "markdown",
   "metadata": {},
   "source": [
    "## Size Fixation Heatmap\n"
   ]
  },
  {
   "cell_type": "code",
   "execution_count": null,
   "metadata": {},
   "outputs": [],
   "source": [
    "tp.tee(\n",
    "    size_fixation_heatmap,\n",
    "    fixprobs_df=dfxs,\n",
    "    genotype=\"hypermutator\",\n",
    "    index=\"available beneficial mutations\",\n",
    "    on=\"population size\",\n",
    "    values=\"fixation probability\",\n",
    "    teeplot_subdir=teeplot_subdir,\n",
    ")\n"
   ]
  },
  {
   "cell_type": "markdown",
   "metadata": {},
   "source": [
    "## Quality Check: Number Replicates Available\n"
   ]
  },
  {
   "cell_type": "code",
   "execution_count": null,
   "metadata": {},
   "outputs": [],
   "source": [
    "categories = (\n",
    "    pl.DataFrame(dfxs)\n",
    "    .group_by(\n",
    "        \"population size\",\n",
    "    )\n",
    "    .first()[\"population size\"]\n",
    "    .sort()\n",
    "    .cast(pl.String)\n",
    "    .to_list()\n",
    ")\n",
    "categories\n"
   ]
  },
  {
   "cell_type": "code",
   "execution_count": null,
   "metadata": {},
   "outputs": [],
   "source": [
    "dfy = pl.DataFrame(dfxs).with_columns(\n",
    "    pl.col(\"population size\")\n",
    "    .cast(pl.String)\n",
    "    .cast(pl.Enum(categories))\n",
    "    .alias(\"population size cat\"),\n",
    ")\n",
    "display(dfy.describe()), display(dfy.head()), display(dfy.tail());\n"
   ]
  },
  {
   "cell_type": "code",
   "execution_count": null,
   "metadata": {},
   "outputs": [],
   "source": [
    "tp.tee(\n",
    "    sns.displot,\n",
    "    data=dfy.to_pandas(),\n",
    "    x=\"population size cat\",\n",
    "    hue=\"genotype\",\n",
    "    hue_order=[\"normomutator\", \"hypermutator\"],\n",
    "    col=\"available beneficial mutations\",\n",
    "    aspect=1.5,\n",
    "    col_wrap=3,\n",
    "    height=2,\n",
    "    kind=\"hist\",\n",
    "    multiple=\"dodge\",\n",
    "    teeplot_outexclude=\"post\",\n",
    "    teeplot_postprocess=f\"\"\"\n",
    "teed.set(yscale='log')\n",
    "teed.figure.suptitle(\"n={apn} agents per node\", x=0.63, y=1.02)\n",
    "teed.set_titles(col_template='{{col_var}} = {{col_name:.0f}}')\n",
    "for ax in teed.axes.flat:\n",
    "    for label in ax.get_xticklabels():\n",
    "        label.set_rotation(45)\n",
    "        label.set_ha(\"right\")\n",
    "sns.move_legend(\n",
    "    teed, \"lower center\",\n",
    "    bbox_to_anchor=(0.25, 0.97),\n",
    "    frameon=False,\n",
    "    ncol=2,\n",
    "    title=None,\n",
    ")\n",
    "\"\"\",\n",
    "    teeplot_subdir=teeplot_subdir,\n",
    ")\n"
   ]
  },
  {
   "cell_type": "markdown",
   "metadata": {},
   "source": [
    "## Quality Check: Has Reached Fixation?\n"
   ]
  },
  {
   "cell_type": "code",
   "execution_count": null,
   "metadata": {},
   "outputs": [],
   "source": [
    "dfxs_ = dfxs[dfxs[\"genotype\"] == \"hypermutator\"].copy().reset_index(drop=True)\n"
   ]
  },
  {
   "cell_type": "code",
   "execution_count": null,
   "metadata": {},
   "outputs": [],
   "source": [
    "dfxs_[\"unfixed\"] = (dfxs_[\"fixation probability\"] != 1.0) & (\n",
    "    dfxs_[\"fixation probability\"] > 0.001\n",
    ")\n",
    "any_unfixed = dfxs_[\"unfixed\"].any()\n",
    "any_unfixed\n"
   ]
  },
  {
   "cell_type": "code",
   "execution_count": null,
   "metadata": {},
   "outputs": [],
   "source": [
    "tp.tee(\n",
    "    sns.relplot,\n",
    "    data=dfxs_[dfxs_[\"unfixed\"]],\n",
    "    x=\"population size\",\n",
    "    y=\"fixation probability\",\n",
    "    hue=\"genotype\",\n",
    "    hue_order=[\"normomutator\", \"hypermutator\"],\n",
    "    col=[None, \"available beneficial mutations\"][int(any_unfixed)],\n",
    "    style=\"genotype\",\n",
    "    style_order=[\"normomutator\", \"hypermutator\"],\n",
    "    aspect=1.5,\n",
    "    col_wrap=[None, 3][int(any_unfixed)],\n",
    "    height=2,\n",
    "    kind=\"scatter\",\n",
    "    markers=bool(any_unfixed),\n",
    "    teeplot_outexclude=\"post\",\n",
    "    teeplot_postprocess=f\"\"\"\n",
    "teed.set(xscale='log', ylim=(-0.02, 1.02))\n",
    "teed.figure.suptitle(\"n={apn} agents per node\", x=0.63, y=1.02)\n",
    "teed.set_titles(col_template='{{col_var}} = {{col_name:.0f}}')\n",
    "try:\n",
    "    sns.move_legend(\n",
    "        teed,\n",
    "        \"lower center\",\n",
    "        bbox_to_anchor=(0.25, 0.97),\n",
    "        frameon=False,\n",
    "        ncol=2,\n",
    "        title=None,\n",
    "    )\n",
    "except ValueError:\n",
    "    pass\n",
    "\"\"\",\n",
    "    teeplot_subdir=teeplot_subdir,\n",
    ")\n"
   ]
  },
  {
   "cell_type": "code",
   "execution_count": null,
   "metadata": {},
   "outputs": [],
   "source": [
    "tp.tee(\n",
    "    sns.displot,\n",
    "    data=dfxs_.reset_index(drop=True),\n",
    "    x=\"population size\",\n",
    "    hue=\"unfixed\",\n",
    "    col=\"available beneficial mutations\",\n",
    "    col_wrap=3,\n",
    "    aspect=1.5,\n",
    "    height=2,\n",
    "    multiple=\"fill\",\n",
    "    bins=dfxs_[\"population size\"].nunique(),\n",
    "    log_scale=(True, False),\n",
    "    teeplot_outexclude=\"post\",\n",
    "    teeplot_postprocess=f\"\"\"\n",
    "teed.figure.suptitle(\"n={apn} agents per node\", x=0.63, y=1.02)\n",
    "teed.set_titles(col_template='{{col_var}} = {{col_name:.0f}}')\n",
    "sns.move_legend(\n",
    "    teed,\n",
    "    \"lower center\",\n",
    "    bbox_to_anchor=(0.25, 0.97),\n",
    "    frameon=False,\n",
    "    ncol=2,\n",
    "    title=None,\n",
    ")\n",
    "\"\"\",\n",
    "    teeplot_subdir=teeplot_subdir,\n",
    ")\n"
   ]
  }
 ],
 "metadata": {
  "kernelspec": {
   "display_name": "Python 3",
   "language": "python",
   "name": "python3"
  },
  "language_info": {
   "codemirror_mode": {
    "name": "ipython",
    "version": 3
   },
   "file_extension": ".py",
   "mimetype": "text/x-python",
   "name": "python",
   "nbconvert_exporter": "python",
   "pygments_lexer": "ipython3"
  }
 },
 "nbformat": 4,
 "nbformat_minor": 2
}
