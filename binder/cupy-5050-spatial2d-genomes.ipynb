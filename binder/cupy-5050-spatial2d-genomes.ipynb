{
 "cells": [
  {
   "cell_type": "code",
   "execution_count": null,
   "metadata": {},
   "outputs": [],
   "source": [
    "%load_ext watermark\n"
   ]
  },
  {
   "cell_type": "code",
   "execution_count": null,
   "metadata": {},
   "outputs": [],
   "source": [
    "from IPython.display import display\n",
    "import pandas as pd\n",
    "import seaborn as sns\n",
    "from teeplot import teeplot as tp\n",
    "\n",
    "from pylib.munge._agg_characters_extrema import agg_characters_extrema\n",
    "from pylib.munge._calc_characters_from_genomes_cupy import (\n",
    "    calc_characters_from_genomes_cupy,\n",
    ")\n"
   ]
  },
  {
   "cell_type": "code",
   "execution_count": null,
   "metadata": {},
   "outputs": [],
   "source": [
    "%watermark -diwmuv -iv\n"
   ]
  },
  {
   "cell_type": "code",
   "execution_count": null,
   "metadata": {},
   "outputs": [],
   "source": [
    "teeplot_subdir = \"cupy-5050-spatial2d-genomes\"\n",
    "teeplot_subdir\n"
   ]
  },
  {
   "cell_type": "markdown",
   "metadata": {},
   "source": [
    "## Prep Data\n"
   ]
  },
  {
   "cell_type": "code",
   "execution_count": null,
   "metadata": {},
   "outputs": [],
   "source": [
    "df = pd.read_parquet(\"https://osf.io/8ha24/download\")\n",
    "display(df.describe()), display(df.head()), display(df.tail());\n"
   ]
  },
  {
   "cell_type": "code",
   "execution_count": null,
   "metadata": {},
   "outputs": [],
   "source": [
    "df = calc_characters_from_genomes_cupy(df)\n",
    "display(df.describe()), display(df.head()), display(df.tail());\n"
   ]
  },
  {
   "cell_type": "code",
   "execution_count": null,
   "metadata": {},
   "outputs": [],
   "source": [
    "dfagg = agg_characters_extrema(df)\n",
    "display(dfagg.describe()), display(dfagg.head()), display(dfagg.tail());\n"
   ]
  },
  {
   "cell_type": "markdown",
   "metadata": {},
   "source": [
    "## Unaccrued Beneficial Mutations\n"
   ]
  },
  {
   "cell_type": "code",
   "execution_count": null,
   "metadata": {},
   "outputs": [],
   "source": [
    "df_long = pd.melt(\n",
    "    dfagg,\n",
    "    id_vars=[\n",
    "        \"available beneficial mutations\",\n",
    "        \"population size\",\n",
    "    ],\n",
    "    value_vars=[\"min accrued beneficial\", \"max accrued beneficial\"],\n",
    "    var_name=\"extrema\",\n",
    "    value_name=\"accrued beneficial\",\n",
    ")\n",
    "df_long[\"unaccrued beneficial\"] = (\n",
    "    df_long[\"available beneficial mutations\"] - df_long[\"accrued beneficial\"]\n",
    ")\n",
    "df_long[\"has any unaccrued\\nbeneficial mutations\"] = (\n",
    "    df_long[\"unaccrued beneficial\"] > 0\n",
    ")\n",
    "df_long[\"available\\nbeneficial mutations\"] = (\n",
    "    df_long[\"available beneficial mutations\"]\n",
    ")\n",
    "display(df_long.describe()), display(df_long.head()), display(df_long.tail());\n"
   ]
  },
  {
   "cell_type": "code",
   "execution_count": null,
   "metadata": {},
   "outputs": [],
   "source": [
    "tp.tee(\n",
    "    sns.catplot,\n",
    "    data=df_long,\n",
    "    x=\"available beneficial mutations\",\n",
    "    y=\"unaccrued beneficial\",\n",
    "    hue=\"extrema\",\n",
    "    col=\"population size\",\n",
    "    col_wrap=3,\n",
    "    kind=\"boxen\",\n",
    "    k_depth=\"full\",\n",
    "    seed=1,\n",
    "    teeplot_subdir=teeplot_subdir,\n",
    ")\n"
   ]
  },
  {
   "cell_type": "code",
   "execution_count": null,
   "metadata": {},
   "outputs": [],
   "source": [
    "fildf = df_long[\n",
    "    df_long[\"extrema\"] == \"max accrued beneficial\"\n",
    "].copy().reset_index(drop=True)\n",
    "\n",
    "saveit, teed = tp.tee(\n",
    "    sns.displot,\n",
    "    data=fildf,\n",
    "    x=\"population size\",\n",
    "    hue=\"has any unaccrued\\nbeneficial mutations\",\n",
    "    hue_order=[True, False],\n",
    "    col=\"available\\nbeneficial mutations\",\n",
    "    col_wrap=4,\n",
    "    aspect=1.3,\n",
    "    height=1.8,\n",
    "    multiple=\"fill\",\n",
    "    bins=fildf[\"population size\"].nunique(),\n",
    "    log_scale=(True, False),\n",
    "    shrink=0.8,\n",
    "    palette=\"Accent\",\n",
    "    teeplot_callback=True,\n",
    "    teeplot_subdir=teeplot_subdir,\n",
    ")\n",
    "\n",
    "teed.set_titles(col_template=\"{col_var} = {col_name:.0f}\")\n",
    "teed.set_ylabels(\"\")\n",
    "# adapted from https://stackoverflow.com/a/68850867\n",
    "for ax in teed.axes.ravel():\n",
    "    # add annotations\n",
    "    for c in ax.containers:\n",
    "        # custom label calculates percent and add an empty string so 0 value bars don't have a number\n",
    "        labels = [\n",
    "            f\"{w * 100:0.2f}%\" if (w := v.get_height()) > 0.5 else \"\"\n",
    "            for v in c\n",
    "        ]\n",
    "        ax.bar_label(\n",
    "            c,\n",
    "            labels=labels,\n",
    "            label_type=\"center\",\n",
    "            fontsize=8,\n",
    "            rotation=90,\n",
    "            padding=2\n",
    "        )\n",
    "\n",
    "saveit()\n"
   ]
  },
  {
   "cell_type": "markdown",
   "metadata": {},
   "source": [
    "## Accrued Deleterious Mutations\n"
   ]
  },
  {
   "cell_type": "code",
   "execution_count": null,
   "metadata": {},
   "outputs": [],
   "source": [
    "df_long = pd.melt(\n",
    "    dfagg,\n",
    "    id_vars=[\n",
    "        \"available beneficial mutations\",\n",
    "        \"population size\",\n",
    "    ],\n",
    "    value_vars=[\"min accrued deleterious\", \"max accrued deleterious\"],\n",
    "    var_name=\"extrema\",\n",
    "    value_name=\"acc del\",\n",
    ")\n",
    "df_long[\"avlbm\"] = df_long[\"available beneficial mutations\"]\n",
    "display(df_long.describe()), display(df_long.head()), display(df_long.tail());\n"
   ]
  },
  {
   "cell_type": "code",
   "execution_count": null,
   "metadata": {},
   "outputs": [],
   "source": [
    "tp.tee(\n",
    "    sns.catplot,\n",
    "    data=df_long,\n",
    "    x=\"population size\",\n",
    "    y=\"acc del\",\n",
    "    col=\"extrema\",\n",
    "    row=\"avlbm\",\n",
    "    aspect=3,\n",
    "    height=1.5,\n",
    "    kind=\"boxen\",\n",
    "    k_depth=\"full\",\n",
    "    margin_titles=True,\n",
    "    native_scale=True,\n",
    "    log_scale=(True, False),\n",
    "    seed=1,\n",
    "    teeplot_subdir=teeplot_subdir,\n",
    ")\n"
   ]
  },
  {
   "cell_type": "markdown",
   "metadata": {},
   "source": [
    "## Fitness\n"
   ]
  },
  {
   "cell_type": "code",
   "execution_count": null,
   "metadata": {},
   "outputs": [],
   "source": [
    "dfp = df.to_pandas()\n",
    "gby = dfp.groupby(\n",
    "    \"replicate\",\n",
    ")\n",
    "dfsamp = pd.concat(\n",
    "    [\n",
    "        gby.sample(n=100, random_state=1),\n",
    "        dfp.loc[gby[\"fitness\"].idxmax()],\n",
    "        dfp.loc[gby[\"fitness\"].idxmin()],\n",
    "    ],\n",
    "    ignore_index=True,\n",
    ")\n",
    "display(dfsamp.describe()), display(dfsamp.head()), display(dfsamp.tail());\n"
   ]
  },
  {
   "cell_type": "code",
   "execution_count": null,
   "metadata": {},
   "outputs": [],
   "source": [
    "tp.tee(\n",
    "    sns.catplot,\n",
    "    data=dfsamp,\n",
    "    x=\"population size\",\n",
    "    y=\"fitness\",\n",
    "    hue=\"available beneficial mutations\",\n",
    "    aspect=2.5,\n",
    "    kind=\"boxen\",\n",
    "    k_depth=\"full\",\n",
    "    margin_titles=True,\n",
    "    native_scale=True,\n",
    "    log_scale=(True, False),\n",
    "    seed=1,\n",
    "    teeplot_subdir=teeplot_subdir,\n",
    ")\n"
   ]
  },
  {
   "cell_type": "markdown",
   "metadata": {},
   "source": [
    "## Num Unique Founders\n"
   ]
  },
  {
   "cell_type": "code",
   "execution_count": null,
   "metadata": {},
   "outputs": [],
   "source": [
    "tp.tee(\n",
    "    sns.catplot,\n",
    "    data=dfagg,\n",
    "    x=\"population size\",\n",
    "    y=\"founder nunique\",\n",
    "    hue=\"available beneficial mutations\",\n",
    "    aspect=2.5,\n",
    "    kind=\"boxen\",\n",
    "    k_depth=\"full\",\n",
    "    margin_titles=True,\n",
    "    native_scale=True,\n",
    "    log_scale=(True, False),\n",
    "    seed=1,\n",
    "    teeplot_subdir=teeplot_subdir,\n",
    ")\n"
   ]
  },
  {
   "cell_type": "markdown",
   "metadata": {},
   "source": [
    "## Hypermutator\n"
   ]
  },
  {
   "cell_type": "code",
   "execution_count": null,
   "metadata": {},
   "outputs": [],
   "source": [
    "tp.tee(\n",
    "    sns.catplot,\n",
    "    data=dfagg,\n",
    "    x=\"population size\",\n",
    "    y=\"mean accrued hypermutator\",\n",
    "    col=\"available beneficial mutations\",\n",
    "    col_wrap=4,\n",
    "    kind=\"strip\",\n",
    "    legend_out=True,\n",
    "    margin_titles=True,\n",
    "    native_scale=True,\n",
    "    log_scale=(True, False),\n",
    "    seed=1,\n",
    "    teeplot_subdir=teeplot_subdir,\n",
    ")\n"
   ]
  },
  {
   "cell_type": "code",
   "execution_count": null,
   "metadata": {},
   "outputs": [],
   "source": [
    "tp.tee(\n",
    "    sns.catplot,\n",
    "    data=dfagg,\n",
    "    x=\"population size\",\n",
    "    y=\"mean accrued hypermutator\",\n",
    "    hue=\"available beneficial mutations\",\n",
    "    aspect=2.5,\n",
    "    kind=\"bar\",\n",
    "    margin_titles=True,\n",
    "    native_scale=True,\n",
    "    log_scale=(True, False),\n",
    "    seed=1,\n",
    "    teeplot_subdir=teeplot_subdir,\n",
    ")\n"
   ]
  }
 ],
 "metadata": {
  "kernelspec": {
   "display_name": "Python 3",
   "language": "python",
   "name": "python3"
  },
  "language_info": {
   "codemirror_mode": {
    "name": "ipython",
    "version": 3
   },
   "file_extension": ".py",
   "mimetype": "text/x-python",
   "name": "python",
   "nbconvert_exporter": "python",
   "pygments_lexer": "ipython3"
  }
 },
 "nbformat": 4,
 "nbformat_minor": 2
}
