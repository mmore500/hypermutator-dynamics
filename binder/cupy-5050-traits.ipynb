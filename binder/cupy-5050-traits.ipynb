{
 "cells": [
  {
   "cell_type": "code",
   "execution_count": null,
   "metadata": {},
   "outputs": [],
   "source": [
    "%load_ext watermark\n"
   ]
  },
  {
   "cell_type": "code",
   "execution_count": null,
   "metadata": {},
   "outputs": [],
   "source": [
    "from IPython.display import display\n",
    "import pandas as pd\n",
    "import polars as pl\n",
    "from teeplot import teeplot as tp\n",
    "from tqdm import tqdm\n",
    "\n",
    "from pylib.viz._size_fixation_areaplot import size_fixation_areaplot\n"
   ]
  },
  {
   "cell_type": "code",
   "execution_count": null,
   "metadata": {},
   "outputs": [],
   "source": [
    "%watermark -diwmuv -iv\n"
   ]
  },
  {
   "cell_type": "code",
   "execution_count": null,
   "metadata": {},
   "outputs": [],
   "source": [
    "teeplot_subdir = \"cupy-5050-traits\"\n",
    "teeplot_subdir\n"
   ]
  },
  {
   "cell_type": "code",
   "execution_count": null,
   "metadata": {},
   "outputs": [],
   "source": [
    "data = [\n",
    "    {\n",
    "        \"url\": \"https://osf.io/duam2/download\",\n",
    "        \"population structure\": \"well-mixed\"\n",
    "    },\n",
    "    {\n",
    "        \"url\": \"https://osf.io/8q5v6/download\",\n",
    "        \"population structure\": \"2D demes\",\n",
    "    },\n",
    "    # {\n",
    "    #     \"url\": \"https://osf.io/s67d2/download\",\n",
    "    #     \"population structure\": \"1D demes\",\n",
    "    # },\n",
    "]\n",
    "dfs = []\n",
    "for item in tqdm(data):\n",
    "    df = pd.read_parquet(item[\"url\"])\n",
    "    df[\"population structure\"] = item[\"population structure\"]\n",
    "    df[\"available beneficial mutations\"] = df[\"nBen\"]\n",
    "    df = pl.from_pandas(df)\n",
    "    df = (\n",
    "        df.with_columns(\n",
    "            pl.when(pl.col(\"nRowSubgrid\") == 0)\n",
    "            .then(pl.col(\"nRow\"))\n",
    "            .otherwise(pl.col(\"nRowSubgrid\"))\n",
    "            .alias(\"nRowSubgrid\"),\n",
    "            pl.when(pl.col(\"nColSubgrid\") == 0)\n",
    "            .then(pl.col(\"nCol\"))\n",
    "            .otherwise(pl.col(\"nColSubgrid\"))\n",
    "            .alias(\"nColSubgrid\"),\n",
    "        )\n",
    "        .with_columns(\n",
    "            (pl.col(\"row\").cast(pl.UInt64) // pl.col(\"nRowSubgrid\")).alias(\n",
    "                \"rowGroup\"\n",
    "            ),\n",
    "            (pl.col(\"col\").cast(pl.UInt64) // pl.col(\"nColSubgrid\")).alias(\n",
    "                \"colGroup\"\n",
    "            ),\n",
    "        )\n",
    "        .with_columns(\n",
    "            (\n",
    "                pl.col(\"colGroup\")\n",
    "                + (pl.col(\"colGroup\").max() + 1) * pl.col(\"rowGroup\")\n",
    "            ).alias(\"group\"),\n",
    "        )\n",
    "        .with_columns(\n",
    "            (\n",
    "                pl.col(\"trait value\").replace_strict(\n",
    "                    {0: \"normomutator\", 1: \"hypermutator\"},\n",
    "                )\n",
    "            ).alias(\"genotype\"),\n",
    "        )\n",
    "        .with_columns(\n",
    "            (\n",
    "                pl.col(\"nColSubgrid\").cast(pl.UInt64)\n",
    "                * pl.col(\"nRowSubgrid\").cast(pl.UInt64)\n",
    "                * pl.col(\"tilePopSize\")\n",
    "            ).alias(\"population size\"),\n",
    "        )\n",
    "        .with_columns(\n",
    "            (pl.col(\"trait count\") / pl.col(\"tilePopSize\")).alias(\n",
    "                \"fixation probability\"\n",
    "            ),\n",
    "        )\n",
    "    )\n",
    "    assert (df[\"nCol\"] > 0).all()\n",
    "    assert (df[\"nRow\"] > 0).all()\n",
    "    assert (df[\"nColSubgrid\"] > 0).all()\n",
    "    assert (df[\"nRowSubgrid\"] > 0).all()\n",
    "    assert (df[\"tilePopSize\"] > 0).all()\n",
    "    assert (df[\"population size\"] > 0).all()\n",
    "    dfs.append(\n",
    "        df.group_by(\n",
    "            [\n",
    "                \"group\",\n",
    "                \"genotype\",\n",
    "                \"replicate\",\n",
    "                \"population size\",\n",
    "                \"population structure\",\n",
    "                \"available beneficial mutations\",\n",
    "            ],\n",
    "        ).agg(\n",
    "            pl.col(\"fixation probability\").mean(),\n",
    "        ),\n",
    "    )\n"
   ]
  },
  {
   "cell_type": "code",
   "execution_count": null,
   "metadata": {},
   "outputs": [],
   "source": [
    "dfxs = pl.concat(dfs, how=\"vertical_relaxed\").to_pandas()\n",
    "dfxs[\"fixation\\nprobability\"] = dfxs[\"fixation probability\"]\n",
    "dfxs[\"population\\nstructure\"] = dfxs[\"population structure\"]\n",
    "dfxs[\"available\\nbeneficial\\nmutations\"] = dfxs[\"available beneficial mutations\"]\n",
    "\n",
    "display(dfxs.describe())\n",
    "display(dfxs.head())\n",
    "display(dfxs.tail())\n"
   ]
  },
  {
   "cell_type": "code",
   "execution_count": null,
   "metadata": {},
   "outputs": [],
   "source": [
    "apn = int(dfxs[\"population size\"].min())  # agents per node\n",
    "apn\n"
   ]
  },
  {
   "cell_type": "code",
   "execution_count": null,
   "metadata": {},
   "outputs": [],
   "source": [
    "for errorbar in \"sd\", \"se\", \"ci\", None:\n",
    "    tp.tee(\n",
    "        size_fixation_areaplot,\n",
    "        fixprobs_df=dfxs[\n",
    "            dfxs[\"available beneficial mutations\"] <= 4\n",
    "        ],\n",
    "        x=\"population size\",\n",
    "        y=\"fixation probability\",\n",
    "        hue=\"genotype\",\n",
    "        hue_order=[\"normomutator\", \"hypermutator\"],\n",
    "        col=\"available\\nbeneficial\\nmutations\",\n",
    "        row=\"population\\nstructure\",\n",
    "        style=\"genotype\",\n",
    "        style_order=[\"normomutator\", \"hypermutator\"],\n",
    "        errorbar=errorbar,\n",
    "        height=2,\n",
    "        facet_kws=dict(margin_titles=True),\n",
    "        markers=True,\n",
    "        teeplot_outexclude=\"post\",\n",
    "        teeplot_subdir=teeplot_subdir,\n",
    "        teeplot_postprocess=f\"\"\"\n",
    "teed.figure.suptitle(\"n={apn} agents per node\", x=0.63, y=1.06)\n",
    "teed.set_titles(col_template=\"{{col_var}} = {{col_name:.0f}}\")\n",
    "teed.set_titles(row_template=\"{{row_name}}\")\n",
    "teed.set_ylabels(\"fixation probability\")\n",
    "sns.move_legend(\n",
    "    teed,\n",
    "    \"lower center\",\n",
    "    bbox_to_anchor=(0.25, 0.95),\n",
    "    frameon=False,\n",
    "    ncol=2,\n",
    "    title=None,\n",
    ")\n",
    "\"\"\",\n",
    "    )\n"
   ]
  }
 ],
 "metadata": {
  "kernelspec": {
   "display_name": "Python 3",
   "language": "python",
   "name": "python3"
  },
  "language_info": {
   "codemirror_mode": {
    "name": "ipython",
    "version": 3
   },
   "file_extension": ".py",
   "mimetype": "text/x-python",
   "name": "python",
   "nbconvert_exporter": "python",
   "pygments_lexer": "ipython3"
  }
 },
 "nbformat": 4,
 "nbformat_minor": 2
}
