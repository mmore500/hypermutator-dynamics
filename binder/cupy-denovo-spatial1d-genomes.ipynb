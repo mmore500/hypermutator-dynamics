{
 "cells": [
  {
   "cell_type": "code",
   "execution_count": null,
   "metadata": {},
   "outputs": [],
   "source": [
    "%load_ext watermark\n"
   ]
  },
  {
   "cell_type": "code",
   "execution_count": null,
   "metadata": {},
   "outputs": [],
   "source": [
    "from IPython.display import display\n",
    "import pandas as pd\n",
    "import polars as pl\n",
    "import seaborn as sns\n",
    "from teeplot import teeplot as tp\n",
    "\n",
    "from pylib.munge._agg_characters_extrema import agg_characters_extrema\n",
    "from pylib.munge._calc_characters_from_genomes_cupy import (\n",
    "    calc_characters_from_genomes_cupy,\n",
    ")\n"
   ]
  },
  {
   "cell_type": "code",
   "execution_count": null,
   "metadata": {},
   "outputs": [],
   "source": [
    "%watermark -diwmuv -iv\n"
   ]
  },
  {
   "cell_type": "code",
   "execution_count": null,
   "metadata": {},
   "outputs": [],
   "source": [
    "teeplot_subdir = \"cupy-spatial1d\"\n",
    "teeplot_subdir\n"
   ]
  },
  {
   "cell_type": "markdown",
   "metadata": {},
   "source": [
    "## Prep Data\n"
   ]
  },
  {
   "cell_type": "code",
   "execution_count": null,
   "metadata": {},
   "outputs": [],
   "source": [
    "df = pd.read_parquet(\"https://osf.io/k87f6/download\")\n",
    "\n",
    "display(df.describe()), display(df.head()), display(df.tail());\n"
   ]
  },
  {
   "cell_type": "code",
   "execution_count": null,
   "metadata": {},
   "outputs": [],
   "source": [
    "df = calc_characters_from_genomes_cupy(df)\n",
    "display(df.describe()), display(df.head()), display(df.tail());\n"
   ]
  },
  {
   "cell_type": "code",
   "execution_count": null,
   "metadata": {},
   "outputs": [],
   "source": [
    "dfagg = agg_characters_extrema(df)\n",
    "display(dfagg.describe()), display(dfagg.head()), display(dfagg.tail());\n"
   ]
  },
  {
   "cell_type": "markdown",
   "metadata": {},
   "source": [
    "## TODO\n"
   ]
  },
  {
   "cell_type": "code",
   "execution_count": null,
   "metadata": {},
   "outputs": [],
   "source": [
    "tp.tee(\n",
    "    sns.relplot,\n",
    "    data=dfagg[\n",
    "        dfagg[\"min accrued beneficial\"]\n",
    "        != dfagg[\"available beneficial mutations\"]\n",
    "    ],\n",
    "    y=\"min accrued beneficial\",\n",
    "    x=\"max accrued beneficial\",\n",
    "    col=\"available beneficial mutations\",\n",
    "    col_wrap=3,\n",
    "    teeplot_subdir=teeplot_subdir,\n",
    ")\n"
   ]
  }
 ],
 "metadata": {
  "kernelspec": {
   "display_name": "Python 3",
   "language": "python",
   "name": "python3"
  },
  "language_info": {
   "codemirror_mode": {
    "name": "ipython",
    "version": 3
   },
   "file_extension": ".py",
   "mimetype": "text/x-python",
   "name": "python",
   "nbconvert_exporter": "python",
   "pygments_lexer": "ipython3"
  }
 },
 "nbformat": 4,
 "nbformat_minor": 2
}
