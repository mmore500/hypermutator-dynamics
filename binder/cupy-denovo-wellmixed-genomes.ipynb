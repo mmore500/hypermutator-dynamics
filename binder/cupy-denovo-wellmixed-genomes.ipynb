{
 "cells": [
  {
   "cell_type": "code",
   "execution_count": null,
   "metadata": {},
   "outputs": [],
   "source": [
    "%load_ext watermark\n"
   ]
  },
  {
   "cell_type": "code",
   "execution_count": null,
   "metadata": {},
   "outputs": [],
   "source": [
    "from IPython.display import display\n",
    "import pandas as pd\n",
    "import seaborn as sns\n",
    "from teeplot import teeplot as tp\n",
    "\n",
    "from pylib.munge._agg_characters_extrema import agg_characters_extrema\n",
    "from pylib.munge._calc_characters_from_genomes_cupy import (\n",
    "    calc_characters_from_genomes_cupy,\n",
    ")\n"
   ]
  },
  {
   "cell_type": "code",
   "execution_count": null,
   "metadata": {},
   "outputs": [],
   "source": [
    "%watermark -diwmuv -iv\n"
   ]
  },
  {
   "cell_type": "code",
   "execution_count": null,
   "metadata": {},
   "outputs": [],
   "source": [
    "teeplot_subdir = \"cupy-denovo-wellmixed-genomes\"\n",
    "teeplot_subdir\n"
   ]
  },
  {
   "cell_type": "markdown",
   "metadata": {},
   "source": [
    "## Prep Data\n"
   ]
  },
  {
   "cell_type": "code",
   "execution_count": null,
   "metadata": {},
   "outputs": [],
   "source": [
    "df = pd.read_parquet(\"https://osf.io/bpmks/download\")\n",
    "display(df.describe()), display(df.head()), display(df.tail());\n"
   ]
  },
  {
   "cell_type": "code",
   "execution_count": null,
   "metadata": {},
   "outputs": [],
   "source": [
    "df = calc_characters_from_genomes_cupy(df)\n",
    "display(df.describe()), display(df.head()), display(df.tail());\n"
   ]
  },
  {
   "cell_type": "code",
   "execution_count": null,
   "metadata": {},
   "outputs": [],
   "source": [
    "dfagg = agg_characters_extrema(df)\n",
    "display(dfagg.describe()), display(dfagg.head()), display(dfagg.tail());\n"
   ]
  },
  {
   "cell_type": "markdown",
   "metadata": {},
   "source": [
    "## Unaccrued Beneficial Mutations\n"
   ]
  },
  {
   "cell_type": "code",
   "execution_count": null,
   "metadata": {},
   "outputs": [],
   "source": [
    "df_long = pd.melt(\n",
    "    dfagg,\n",
    "    id_vars=[\n",
    "        \"available beneficial mutations\",\n",
    "        \"population size\",\n",
    "    ],\n",
    "    value_vars=[\"min accrued beneficial\", \"max accrued beneficial\"],\n",
    "    var_name=\"extrema\",\n",
    "    value_name=\"accrued beneficial\",\n",
    ")\n",
    "df_long[\"unaccrued beneficial\"] = (\n",
    "    df_long[\"available beneficial mutations\"] - df_long[\"accrued beneficial\"]\n",
    ")\n",
    "display(df_long.describe()), display(df_long.head()), display(df_long.tail());\n"
   ]
  },
  {
   "cell_type": "code",
   "execution_count": null,
   "metadata": {},
   "outputs": [],
   "source": [
    "tp.tee(\n",
    "    sns.catplot,\n",
    "    data=df_long,\n",
    "    x=\"available beneficial mutations\",\n",
    "    y=\"unaccrued beneficial\",\n",
    "    hue=\"extrema\",\n",
    "    col=\"population size\",\n",
    "    col_wrap=3,\n",
    "    kind=\"boxen\",\n",
    "    k_depth=\"full\",\n",
    "    seed=1,\n",
    "    teeplot_subdir=teeplot_subdir,\n",
    ")\n"
   ]
  },
  {
   "cell_type": "markdown",
   "metadata": {},
   "source": [
    "## Accrued Deleterious Mutations\n"
   ]
  },
  {
   "cell_type": "code",
   "execution_count": null,
   "metadata": {},
   "outputs": [],
   "source": [
    "df_long = pd.melt(\n",
    "    dfagg,\n",
    "    id_vars=[\n",
    "        \"available beneficial mutations\",\n",
    "        \"population size\",\n",
    "    ],\n",
    "    value_vars=[\"min accrued deleterious\", \"max accrued deleterious\"],\n",
    "    var_name=\"extrema\",\n",
    "    value_name=\"acc del\",\n",
    ")\n",
    "df_long[\"avlbm\"] = df_long[\"available beneficial mutations\"]\n",
    "display(df_long.describe()), display(df_long.head()), display(df_long.tail());\n"
   ]
  },
  {
   "cell_type": "code",
   "execution_count": null,
   "metadata": {},
   "outputs": [],
   "source": [
    "tp.tee(\n",
    "    sns.catplot,\n",
    "    data=df_long,\n",
    "    x=\"population size\",\n",
    "    y=\"acc del\",\n",
    "    col=\"extrema\",\n",
    "    row=\"avlbm\",\n",
    "    aspect=3,\n",
    "    height=1.5,\n",
    "    kind=\"boxen\",\n",
    "    k_depth=\"full\",\n",
    "    margin_titles=True,\n",
    "    native_scale=True,\n",
    "    log_scale=(True, False),\n",
    "    seed=1,\n",
    "    teeplot_subdir=teeplot_subdir,\n",
    ")\n"
   ]
  },
  {
   "cell_type": "markdown",
   "metadata": {},
   "source": [
    "## Fitness\n"
   ]
  },
  {
   "cell_type": "code",
   "execution_count": null,
   "metadata": {},
   "outputs": [],
   "source": [
    "dfp = df.to_pandas()\n",
    "gby = dfp.groupby(\n",
    "    \"replicate\",\n",
    ")\n",
    "dfsamp = pd.concat(\n",
    "    [\n",
    "        gby.sample(n=100, random_state=1),\n",
    "        dfp.loc[gby[\"fitness\"].idxmax()],\n",
    "        dfp.loc[gby[\"fitness\"].idxmin()],\n",
    "    ],\n",
    "    ignore_index=True,\n",
    ")\n",
    "display(dfsamp.describe()), display(dfsamp.head()), display(dfsamp.tail());\n"
   ]
  },
  {
   "cell_type": "code",
   "execution_count": null,
   "metadata": {},
   "outputs": [],
   "source": [
    "tp.tee(\n",
    "    sns.catplot,\n",
    "    data=dfsamp,\n",
    "    x=\"population size\",\n",
    "    y=\"fitness\",\n",
    "    hue=\"available beneficial mutations\",\n",
    "    aspect=2.5,\n",
    "    kind=\"boxen\",\n",
    "    k_depth=\"full\",\n",
    "    margin_titles=True,\n",
    "    native_scale=True,\n",
    "    log_scale=(True, False),\n",
    "    seed=1,\n",
    "    teeplot_subdir=teeplot_subdir,\n",
    ")\n"
   ]
  },
  {
   "cell_type": "markdown",
   "metadata": {},
   "source": [
    "## Num Unique Founders\n"
   ]
  },
  {
   "cell_type": "code",
   "execution_count": null,
   "metadata": {},
   "outputs": [],
   "source": [
    "tp.tee(\n",
    "    sns.catplot,\n",
    "    data=dfagg,\n",
    "    x=\"population size\",\n",
    "    y=\"founder nunique\",\n",
    "    hue=\"available beneficial mutations\",\n",
    "    aspect=2.5,\n",
    "    kind=\"boxen\",\n",
    "    k_depth=\"full\",\n",
    "    margin_titles=True,\n",
    "    native_scale=True,\n",
    "    log_scale=(True, False),\n",
    "    seed=1,\n",
    "    teeplot_subdir=teeplot_subdir,\n",
    ")\n"
   ]
  },
  {
   "cell_type": "markdown",
   "metadata": {},
   "source": [
    "## Hypermutator\n"
   ]
  },
  {
   "cell_type": "code",
   "execution_count": null,
   "metadata": {},
   "outputs": [],
   "source": [
    "tp.tee(\n",
    "    sns.catplot,\n",
    "    data=dfagg,\n",
    "    x=\"population size\",\n",
    "    y=\"mean accrued hypermutator\",\n",
    "    col=\"available beneficial mutations\",\n",
    "    col_wrap=4,\n",
    "    kind=\"strip\",\n",
    "    legend_out=True,\n",
    "    margin_titles=True,\n",
    "    native_scale=True,\n",
    "    log_scale=(True, False),\n",
    "    seed=1,\n",
    "    teeplot_subdir=teeplot_subdir,\n",
    ")\n"
   ]
  },
  {
   "cell_type": "code",
   "execution_count": null,
   "metadata": {},
   "outputs": [],
   "source": [
    "tp.tee(\n",
    "    sns.catplot,\n",
    "    data=dfagg,\n",
    "    x=\"population size\",\n",
    "    y=\"mean accrued hypermutator\",\n",
    "    hue=\"available beneficial mutations\",\n",
    "    aspect=2.5,\n",
    "    kind=\"bar\",\n",
    "    margin_titles=True,\n",
    "    native_scale=True,\n",
    "    log_scale=(True, False),\n",
    "    seed=1,\n",
    "    teeplot_subdir=teeplot_subdir,\n",
    ")\n"
   ]
  }
 ],
 "metadata": {
  "kernelspec": {
   "display_name": "Python 3",
   "language": "python",
   "name": "python3"
  },
  "language_info": {
   "codemirror_mode": {
    "name": "ipython",
    "version": 3
   },
   "file_extension": ".py",
   "mimetype": "text/x-python",
   "name": "python",
   "nbconvert_exporter": "python",
   "pygments_lexer": "ipython3"
  }
 },
 "nbformat": 4,
 "nbformat_minor": 2
}
