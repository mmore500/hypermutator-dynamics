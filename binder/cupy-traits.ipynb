{
 "cells": [
  {
   "cell_type": "code",
   "execution_count": null,
   "metadata": {},
   "outputs": [],
   "source": [
    "%load_ext watermark\n"
   ]
  },
  {
   "cell_type": "code",
   "execution_count": null,
   "metadata": {},
   "outputs": [],
   "source": [
    "import itertools as it\n",
    "\n",
    "from IPython.display import display\n",
    "import pandas as pd\n",
    "import polars as pl\n",
    "import seaborn as sns\n",
    "from teeplot import teeplot as tp\n",
    "\n",
    "from pylib.munge._calc_fixprobs_from_traits import calc_fixprobs_from_traits\n",
    "from pylib.viz._get_nben_cmap import get_nben_cmap\n",
    "from pylib.viz._get_nben_hue_norm import get_nben_hue_norm\n",
    "from pylib.viz._size_fixation_areaplot import size_fixation_areaplot\n",
    "from pylib.viz._size_fixation_cliffplot import size_fixation_cliffplot\n",
    "from pylib.viz._size_fixation_heatmap import size_fixation_heatmap\n"
   ]
  },
  {
   "cell_type": "code",
   "execution_count": null,
   "metadata": {},
   "outputs": [],
   "source": [
    "%watermark -diwmuv -iv\n"
   ]
  },
  {
   "cell_type": "code",
   "execution_count": null,
   "metadata": {},
   "outputs": [],
   "source": [
    "teeplot_subdir = \"cupy-traits\"\n",
    "teeplot_subdir\n"
   ]
  },
  {
   "cell_type": "markdown",
   "metadata": {},
   "source": [
    "## Prep Data\n"
   ]
  },
  {
   "cell_type": "code",
   "execution_count": null,
   "metadata": {},
   "outputs": [],
   "source": [
    "dfxs = pl.concat(\n",
    "    [\n",
    "        pl.from_pandas(\n",
    "            calc_fixprobs_from_traits(\n",
    "                pd.read_parquet(\"https://osf.io/s67d2/download\"),\n",
    "            ),\n",
    "        ).with_columns(\n",
    "            pl.lit(\"50/50\").alias(\"initial conditions\"),\n",
    "            pl.lit(\"1D demes\").alias(\"population structure\"),\n",
    "        ),\n",
    "        pl.from_pandas(\n",
    "            calc_fixprobs_from_traits(\n",
    "                pd.read_parquet(\"https://osf.io/8q5v6/download\"),\n",
    "            ),\n",
    "        ).with_columns(\n",
    "            pl.lit(\"50/50\").alias(\"initial conditions\"),\n",
    "            pl.lit(\"2D demes\").alias(\"population structure\"),\n",
    "        ),\n",
    "        pl.from_pandas(\n",
    "            calc_fixprobs_from_traits(\n",
    "                pd.read_parquet(\"https://osf.io/duam2/download\"),\n",
    "            ),\n",
    "        ).with_columns(\n",
    "            pl.lit(\"50/50\").alias(\"initial conditions\"),\n",
    "            pl.lit(\"well-mixed\").alias(\"population structure\"),\n",
    "        ),\n",
    "        pl.from_pandas(\n",
    "            calc_fixprobs_from_traits(\n",
    "                pd.read_parquet(\"https://osf.io/seuyf/download\"),\n",
    "            ),\n",
    "        ).with_columns(\n",
    "            pl.lit(\"de novo\").alias(\"initial conditions\"),\n",
    "            pl.lit(\"1D demes\").alias(\"population structure\"),\n",
    "        ),\n",
    "        pl.from_pandas(\n",
    "            calc_fixprobs_from_traits(\n",
    "                pd.read_parquet(\"https://osf.io/ag4ur/download\"),\n",
    "            ),\n",
    "        ).with_columns(\n",
    "            pl.lit(\"de novo\").alias(\"initial conditions\"),\n",
    "            pl.lit(\"2D demes\").alias(\"population structure\"),\n",
    "        ),\n",
    "        pl.from_pandas(\n",
    "            calc_fixprobs_from_traits(\n",
    "                pd.read_parquet(\"https://osf.io/edwbu/download\"),\n",
    "            ),\n",
    "        ).with_columns(\n",
    "            pl.lit(\"de novo\").alias(\"initial conditions\"),\n",
    "            pl.lit(\"well-mixed\").alias(\"population structure\"),\n",
    "        ),\n",
    "    ],\n",
    ")\n",
    "\n",
    "display(dfxs.describe()), display(dfxs.head()), display(dfxs.tail());\n"
   ]
  },
  {
   "cell_type": "markdown",
   "metadata": {},
   "source": [
    "## Size Fixation Cliffplot\n"
   ]
  },
  {
   "cell_type": "code",
   "execution_count": null,
   "metadata": {},
   "outputs": [],
   "source": [
    "for errorbar in \"sd\", \"se\", \"ci\", None:\n",
    "    with tp.teed(\n",
    "        sns.relplot,\n",
    "        data=dfxs.filter(\n",
    "            pl.col(\"genotype\") == \"hypermutator\",\n",
    "        ).with_columns(\n",
    "            pl.col(\"fixation probability\").alias(\"fix\\nprob\"),\n",
    "            pl.col(\"population structure\").alias(\"population\\nstructure\"),\n",
    "            pl.col(\"initial conditions\").alias(\"initial\\nconditions\"),\n",
    "        ),\n",
    "        x=\"available beneficial mutations\",\n",
    "        y=\"fix\\nprob\",\n",
    "        row=\"population size\",\n",
    "        hue=\"population\\nstructure\",\n",
    "        hue_order=[\"well-mixed\", \"1D demes\", \"2D demes\"],\n",
    "        style=\"initial\\nconditions\",\n",
    "        style_order=[\"de novo\", \"50/50\"],\n",
    "        aspect=10,\n",
    "        errorbar=errorbar,\n",
    "        # facet_kws=dict(margin_titles=True),\n",
    "        height=0.8,\n",
    "        kind=\"line\",\n",
    "        markers=True,\n",
    "        palette=\"Dark2\",\n",
    "        seed=1,\n",
    "        teeplot_subdir=teeplot_subdir,\n",
    "    ) as teed:\n",
    "        teed.set_titles(\n",
    "            col_template=\"{{col_var}} = {{col_name:.0f}}\",\n",
    "        )\n",
    "        teed.set(ylim=(0, 1), xlim=(1, 40))\n",
    "        sns.move_legend(\n",
    "            teed,\n",
    "            \"lower center\",\n",
    "            bbox_to_anchor=(0.4, 0.97),\n",
    "            frameon=False,\n",
    "            ncol=7,\n",
    "            title=None,\n",
    "            columnspacing=0.7,\n",
    "        )\n",
    "        for ax in teed.axes.flat:\n",
    "            ax.axhline(0.5, ls=\":\", c=\"gray\", lw=1)\n",
    "            ax.set_yticks([0, 0.5, 1])\n",
    "            ax.set_yticklabels([\"\", \"0.5\", \"\"])\n",
    "        teed.tight_layout()\n"
   ]
  }
 ],
 "metadata": {
  "kernelspec": {
   "display_name": "Python 3",
   "language": "python",
   "name": "python3"
  },
  "language_info": {
   "codemirror_mode": {
    "name": "ipython",
    "version": 3
   },
   "file_extension": ".py",
   "mimetype": "text/x-python",
   "name": "python",
   "nbconvert_exporter": "python",
   "pygments_lexer": "ipython3"
  }
 },
 "nbformat": 4,
 "nbformat_minor": 2
}
