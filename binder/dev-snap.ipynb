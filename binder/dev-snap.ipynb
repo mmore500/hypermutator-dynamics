{
 "cells": [
  {
   "cell_type": "code",
   "execution_count": 1,
   "metadata": {
    "execution": {
     "iopub.execute_input": "2025-04-13T00:42:51.566312Z",
     "iopub.status.busy": "2025-04-13T00:42:51.566134Z",
     "iopub.status.idle": "2025-04-13T00:42:51.579175Z",
     "shell.execute_reply": "2025-04-13T00:42:51.578611Z"
    }
   },
   "outputs": [],
   "source": [
    "%load_ext watermark\n"
   ]
  },
  {
   "cell_type": "code",
   "execution_count": 2,
   "metadata": {
    "execution": {
     "iopub.execute_input": "2025-04-13T00:42:51.581222Z",
     "iopub.status.busy": "2025-04-13T00:42:51.580879Z",
     "iopub.status.idle": "2025-04-13T00:42:55.879964Z",
     "shell.execute_reply": "2025-04-13T00:42:55.879251Z"
    }
   },
   "outputs": [],
   "source": [
    "from IPython.display import display\n",
    "import pandas as pd\n",
    "import polars as pl\n",
    "import seaborn as sns\n",
    "from teeplot import teeplot as tp\n"
   ]
  },
  {
   "cell_type": "code",
   "execution_count": 3,
   "metadata": {
    "execution": {
     "iopub.execute_input": "2025-04-13T00:42:55.882301Z",
     "iopub.status.busy": "2025-04-13T00:42:55.882023Z",
     "iopub.status.idle": "2025-04-13T00:42:55.940828Z",
     "shell.execute_reply": "2025-04-13T00:42:55.940125Z"
    }
   },
   "outputs": [
    {
     "name": "stdout",
     "output_type": "stream",
     "text": [
      "Last updated: 2025-04-13T00:42:55.883373+00:00\n",
      "\n",
      "Python implementation: CPython\n",
      "Python version       : 3.10.12\n",
      "IPython version      : 7.31.1\n",
      "\n",
      "Compiler    : GCC 11.4.0\n",
      "OS          : Linux\n",
      "Release     : 6.8.0-1025-azure\n",
      "Machine     : x86_64\n",
      "Processor   : x86_64\n",
      "CPU cores   : 4\n",
      "Architecture: 64bit\n",
      "\n",
      "pandas : 2.2.3\n",
      "polars : 1.9.0\n",
      "teeplot: 1.2.0\n",
      "seaborn: 0.13.2\n",
      "\n",
      "Watermark: 2.4.3\n",
      "\n"
     ]
    }
   ],
   "source": [
    "%watermark -diwmuv -iv\n"
   ]
  },
  {
   "cell_type": "code",
   "execution_count": 4,
   "metadata": {
    "execution": {
     "iopub.execute_input": "2025-04-13T00:42:55.967731Z",
     "iopub.status.busy": "2025-04-13T00:42:55.967145Z",
     "iopub.status.idle": "2025-04-13T00:42:55.972991Z",
     "shell.execute_reply": "2025-04-13T00:42:55.972367Z"
    }
   },
   "outputs": [
    {
     "data": {
      "text/plain": [
       "'dev-snap'"
      ]
     },
     "execution_count": 4,
     "metadata": {},
     "output_type": "execute_result"
    }
   ],
   "source": [
    "teeplot_subdir = \"dev-snap\"\n",
    "teeplot_subdir\n"
   ]
  },
  {
   "cell_type": "markdown",
   "metadata": {},
   "source": [
    "## Prep Data\n"
   ]
  },
  {
   "cell_type": "code",
   "execution_count": 5,
   "metadata": {
    "execution": {
     "iopub.execute_input": "2025-04-13T00:42:55.974907Z",
     "iopub.status.busy": "2025-04-13T00:42:55.974572Z",
     "iopub.status.idle": "2025-04-13T00:43:12.551276Z",
     "shell.execute_reply": "2025-04-13T00:43:12.550625Z"
    }
   },
   "outputs": [
    {
     "data": {
      "text/html": [
       "<div><style>\n",
       ".dataframe > thead > tr,\n",
       ".dataframe > tbody > tr {\n",
       "  text-align: right;\n",
       "  white-space: pre-wrap;\n",
       "}\n",
       "</style>\n",
       "<small>shape: (9, 28)</small><table border=\"1\" class=\"dataframe\"><thead><tr><th>statistic</th><th>data_hex</th><th>is_extant</th><th>fitness</th><th>tile</th><th>row</th><th>col</th><th>genomeFlavor</th><th>globalSeed</th><th>nCol</th><th>nRow</th><th>nWav</th><th>nTrait</th><th>nCycle</th><th>nColSubgrid</th><th>nRowSubgrid</th><th>nonBlock</th><th>tilePopSize</th><th>tournSize</th><th>msec</th><th>tsc</th><th>replicate</th><th>_compconf_dummy</th><th>CEREBRASLIB_HYPERMUT_NUM_AVAIL_BEN_MUTS</th><th>CEREBRASLIB_TRAITLOGGER_NUM_BITS</th><th>CEREBRASLIB_TRAITLOGGER_DSTREAM_ALGO_NAME</th><th>CEREBRASLIB_TRAITLOGGER_DILATION</th><th>ASYNC_GA_GENOME_FLAVOR</th></tr><tr><td>str</td><td>str</td><td>f64</td><td>f64</td><td>f64</td><td>f64</td><td>f64</td><td>str</td><td>f64</td><td>f64</td><td>f64</td><td>f64</td><td>f64</td><td>f64</td><td>f64</td><td>f64</td><td>f64</td><td>f64</td><td>f64</td><td>f64</td><td>f64</td><td>str</td><td>f64</td><td>f64</td><td>f64</td><td>str</td><td>f64</td><td>str</td></tr></thead><tbody><tr><td>&quot;count&quot;</td><td>&quot;22365000&quot;</td><td>2.2365e7</td><td>2.2365e7</td><td>2.2365e7</td><td>2.2365e7</td><td>2.2365e7</td><td>&quot;22365000&quot;</td><td>2.2365e7</td><td>2.2365e7</td><td>2.2365e7</td><td>2.2365e7</td><td>2.2365e7</td><td>2.2365e7</td><td>2.2365e7</td><td>2.2365e7</td><td>2.2365e7</td><td>2.2365e7</td><td>2.2365e7</td><td>2.2365e7</td><td>2.2365e7</td><td>&quot;22365000&quot;</td><td>2.2365e7</td><td>2.2365e7</td><td>2.2365e7</td><td>&quot;22365000&quot;</td><td>2.2365e7</td><td>&quot;22365000&quot;</td></tr><tr><td>&quot;null_count&quot;</td><td>&quot;0&quot;</td><td>0.0</td><td>0.0</td><td>0.0</td><td>0.0</td><td>0.0</td><td>&quot;0&quot;</td><td>0.0</td><td>0.0</td><td>0.0</td><td>0.0</td><td>0.0</td><td>0.0</td><td>0.0</td><td>0.0</td><td>0.0</td><td>0.0</td><td>0.0</td><td>0.0</td><td>0.0</td><td>&quot;0&quot;</td><td>0.0</td><td>0.0</td><td>0.0</td><td>&quot;0&quot;</td><td>0.0</td><td>&quot;0&quot;</td></tr><tr><td>&quot;mean&quot;</td><td>null</td><td>1.0</td><td>17.899414</td><td>372749.5</td><td>496.5</td><td>374.5</td><td>null</td><td>15.5</td><td>750.0</td><td>994.0</td><td>3.0</td><td>2.0</td><td>150000.0</td><td>0.0</td><td>0.0</td><td>0.0</td><td>256.0</td><td>1.1</td><td>0.0</td><td>0.0</td><td>null</td><td>42.0</td><td>18.0</td><td>256.0</td><td>null</td><td>8.0</td><td>null</td></tr><tr><td>&quot;std&quot;</td><td>null</td><td>null</td><td>4.218406</td><td>215207.317651</td><td>286.942945</td><td>216.506163</td><td>null</td><td>8.655442</td><td>0.0</td><td>0.0</td><td>0.0</td><td>0.0</td><td>0.0</td><td>0.0</td><td>0.0</td><td>null</td><td>0.0</td><td>0.0</td><td>0.0</td><td>0.0</td><td>null</td><td>0.0</td><td>4.242641</td><td>0.0</td><td>null</td><td>0.0</td><td>null</td></tr><tr><td>&quot;min&quot;</td><td>&quot;0001000b00023a0dbeef0ace&quot;</td><td>1.0</td><td>-1.0</td><td>0.0</td><td>0.0</td><td>0.0</td><td>null</td><td>1.0</td><td>750.0</td><td>994.0</td><td>3.0</td><td>2.0</td><td>150000.0</td><td>0.0</td><td>0.0</td><td>0.0</td><td>256.0</td><td>1.1</td><td>0.0</td><td>0.0</td><td>null</td><td>42.0</td><td>12.0</td><td>256.0</td><td>null</td><td>8.0</td><td>null</td></tr><tr><td>&quot;25%&quot;</td><td>null</td><td>null</td><td>15.0</td><td>186375.0</td><td>248.0</td><td>187.0</td><td>null</td><td>8.0</td><td>750.0</td><td>994.0</td><td>3.0</td><td>2.0</td><td>150000.0</td><td>0.0</td><td>0.0</td><td>null</td><td>256.0</td><td>1.1</td><td>0.0</td><td>0.0</td><td>null</td><td>42.0</td><td>15.0</td><td>256.0</td><td>null</td><td>8.0</td><td>null</td></tr><tr><td>&quot;50%&quot;</td><td>null</td><td>null</td><td>18.0</td><td>372750.0</td><td>497.0</td><td>375.0</td><td>null</td><td>16.0</td><td>750.0</td><td>994.0</td><td>3.0</td><td>2.0</td><td>150000.0</td><td>0.0</td><td>0.0</td><td>null</td><td>256.0</td><td>1.1</td><td>0.0</td><td>0.0</td><td>null</td><td>42.0</td><td>18.0</td><td>256.0</td><td>null</td><td>8.0</td><td>null</td></tr><tr><td>&quot;75%&quot;</td><td>null</td><td>null</td><td>21.0</td><td>559124.0</td><td>745.0</td><td>562.0</td><td>null</td><td>23.0</td><td>750.0</td><td>994.0</td><td>3.0</td><td>2.0</td><td>150000.0</td><td>0.0</td><td>0.0</td><td>null</td><td>256.0</td><td>1.1</td><td>0.0</td><td>0.0</td><td>null</td><td>42.0</td><td>21.0</td><td>256.0</td><td>null</td><td>8.0</td><td>null</td></tr><tr><td>&quot;max&quot;</td><td>&quot;0664001200023e2a00000000&quot;</td><td>1.0</td><td>24.0</td><td>745499.0</td><td>993.0</td><td>749.0</td><td>null</td><td>30.0</td><td>750.0</td><td>994.0</td><td>3.0</td><td>2.0</td><td>150000.0</td><td>0.0</td><td>0.0</td><td>0.0</td><td>256.0</td><td>1.1</td><td>0.0</td><td>0.0</td><td>null</td><td>42.0</td><td>24.0</td><td>256.0</td><td>null</td><td>8.0</td><td>null</td></tr></tbody></table></div>"
      ],
      "text/plain": [
       "shape: (9, 28)\n",
       "┌───────────┬───────────┬───────────┬───────────┬───┬───────────┬───────────┬───────────┬──────────┐\n",
       "│ statistic ┆ data_hex  ┆ is_extant ┆ fitness   ┆ … ┆ CEREBRASL ┆ CEREBRASL ┆ CEREBRASL ┆ ASYNC_GA │\n",
       "│ ---       ┆ ---       ┆ ---       ┆ ---       ┆   ┆ IB_TRAITL ┆ IB_TRAITL ┆ IB_TRAITL ┆ _GENOME_ │\n",
       "│ str       ┆ str       ┆ f64       ┆ f64       ┆   ┆ OGGER_NUM ┆ OGGER_DST ┆ OGGER_DIL ┆ FLAVOR   │\n",
       "│           ┆           ┆           ┆           ┆   ┆ _BI…      ┆ REA…      ┆ ATI…      ┆ ---      │\n",
       "│           ┆           ┆           ┆           ┆   ┆ ---       ┆ ---       ┆ ---       ┆ str      │\n",
       "│           ┆           ┆           ┆           ┆   ┆ f64       ┆ str       ┆ f64       ┆          │\n",
       "╞═══════════╪═══════════╪═══════════╪═══════════╪═══╪═══════════╪═══════════╪═══════════╪══════════╡\n",
       "│ count     ┆ 22365000  ┆ 2.2365e7  ┆ 2.2365e7  ┆ … ┆ 2.2365e7  ┆ 22365000  ┆ 2.2365e7  ┆ 22365000 │\n",
       "│ null_coun ┆ 0         ┆ 0.0       ┆ 0.0       ┆ … ┆ 0.0       ┆ 0         ┆ 0.0       ┆ 0        │\n",
       "│ t         ┆           ┆           ┆           ┆   ┆           ┆           ┆           ┆          │\n",
       "│ mean      ┆ null      ┆ 1.0       ┆ 17.899414 ┆ … ┆ 256.0     ┆ null      ┆ 8.0       ┆ null     │\n",
       "│ std       ┆ null      ┆ null      ┆ 4.218406  ┆ … ┆ 0.0       ┆ null      ┆ 0.0       ┆ null     │\n",
       "│ min       ┆ 0001000b0 ┆ 1.0       ┆ -1.0      ┆ … ┆ 256.0     ┆ null      ┆ 8.0       ┆ null     │\n",
       "│           ┆ 0023a0dbe ┆           ┆           ┆   ┆           ┆           ┆           ┆          │\n",
       "│           ┆ ef0ace    ┆           ┆           ┆   ┆           ┆           ┆           ┆          │\n",
       "│ 25%       ┆ null      ┆ null      ┆ 15.0      ┆ … ┆ 256.0     ┆ null      ┆ 8.0       ┆ null     │\n",
       "│ 50%       ┆ null      ┆ null      ┆ 18.0      ┆ … ┆ 256.0     ┆ null      ┆ 8.0       ┆ null     │\n",
       "│ 75%       ┆ null      ┆ null      ┆ 21.0      ┆ … ┆ 256.0     ┆ null      ┆ 8.0       ┆ null     │\n",
       "│ max       ┆ 066400120 ┆ 1.0       ┆ 24.0      ┆ … ┆ 256.0     ┆ null      ┆ 8.0       ┆ null     │\n",
       "│           ┆ 0023e2a00 ┆           ┆           ┆   ┆           ┆           ┆           ┆          │\n",
       "│           ┆ 000000    ┆           ┆           ┆   ┆           ┆           ┆           ┆          │\n",
       "└───────────┴───────────┴───────────┴───────────┴───┴───────────┴───────────┴───────────┴──────────┘"
      ]
     },
     "metadata": {},
     "output_type": "display_data"
    },
    {
     "data": {
      "text/html": [
       "<div><style>\n",
       ".dataframe > thead > tr,\n",
       ".dataframe > tbody > tr {\n",
       "  text-align: right;\n",
       "  white-space: pre-wrap;\n",
       "}\n",
       "</style>\n",
       "<small>shape: (5, 27)</small><table border=\"1\" class=\"dataframe\"><thead><tr><th>data_hex</th><th>is_extant</th><th>fitness</th><th>tile</th><th>row</th><th>col</th><th>genomeFlavor</th><th>globalSeed</th><th>nCol</th><th>nRow</th><th>nWav</th><th>nTrait</th><th>nCycle</th><th>nColSubgrid</th><th>nRowSubgrid</th><th>nonBlock</th><th>tilePopSize</th><th>tournSize</th><th>msec</th><th>tsc</th><th>replicate</th><th>_compconf_dummy</th><th>CEREBRASLIB_HYPERMUT_NUM_AVAIL_BEN_MUTS</th><th>CEREBRASLIB_TRAITLOGGER_NUM_BITS</th><th>CEREBRASLIB_TRAITLOGGER_DSTREAM_ALGO_NAME</th><th>CEREBRASLIB_TRAITLOGGER_DILATION</th><th>ASYNC_GA_GENOME_FLAVOR</th></tr><tr><td>str</td><td>bool</td><td>f32</td><td>u32</td><td>u16</td><td>u16</td><td>cat</td><td>u32</td><td>u16</td><td>u16</td><td>u8</td><td>u8</td><td>u32</td><td>u16</td><td>u16</td><td>bool</td><td>u16</td><td>f32</td><td>f32</td><td>u64</td><td>cat</td><td>u32</td><td>i16</td><td>u32</td><td>cat</td><td>u32</td><td>cat</td></tr></thead><tbody><tr><td>&quot;0001000c000238fdbeef0ace&quot;</td><td>true</td><td>12.0</td><td>0</td><td>0</td><td>0</td><td>&quot;genome_hypermutator_cappedxl_d…</td><td>1</td><td>750</td><td>994</td><td>3</td><td>2</td><td>150000</td><td>0</td><td>0</td><td>false</td><td>256</td><td>1.1</td><td>0.0</td><td>0</td><td>&quot;b8031b83-6701-4c28-ae06-465aa3…</td><td>42</td><td>12</td><td>256</td><td>&quot;hybrid_0_steady_1_stretched_2_…</td><td>8</td><td>&quot;genome_hypermutator_cappedxl_d…</td></tr><tr><td>&quot;0001000c00023aedbeef0ace&quot;</td><td>true</td><td>12.0</td><td>1</td><td>0</td><td>1</td><td>&quot;genome_hypermutator_cappedxl_d…</td><td>1</td><td>750</td><td>994</td><td>3</td><td>2</td><td>150000</td><td>0</td><td>0</td><td>false</td><td>256</td><td>1.1</td><td>0.0</td><td>0</td><td>&quot;b8031b83-6701-4c28-ae06-465aa3…</td><td>42</td><td>12</td><td>256</td><td>&quot;hybrid_0_steady_1_stretched_2_…</td><td>8</td><td>&quot;genome_hypermutator_cappedxl_d…</td></tr><tr><td>&quot;0001000c00023adebeef0ace&quot;</td><td>true</td><td>12.0</td><td>2</td><td>0</td><td>2</td><td>&quot;genome_hypermutator_cappedxl_d…</td><td>1</td><td>750</td><td>994</td><td>3</td><td>2</td><td>150000</td><td>0</td><td>0</td><td>false</td><td>256</td><td>1.1</td><td>0.0</td><td>0</td><td>&quot;b8031b83-6701-4c28-ae06-465aa3…</td><td>42</td><td>12</td><td>256</td><td>&quot;hybrid_0_steady_1_stretched_2_…</td><td>8</td><td>&quot;genome_hypermutator_cappedxl_d…</td></tr><tr><td>&quot;0001000c00023adbbeef0ace&quot;</td><td>true</td><td>12.0</td><td>3</td><td>0</td><td>3</td><td>&quot;genome_hypermutator_cappedxl_d…</td><td>1</td><td>750</td><td>994</td><td>3</td><td>2</td><td>150000</td><td>0</td><td>0</td><td>false</td><td>256</td><td>1.1</td><td>0.0</td><td>0</td><td>&quot;b8031b83-6701-4c28-ae06-465aa3…</td><td>42</td><td>12</td><td>256</td><td>&quot;hybrid_0_steady_1_stretched_2_…</td><td>8</td><td>&quot;genome_hypermutator_cappedxl_d…</td></tr><tr><td>&quot;0001000c00023ac4beef0ace&quot;</td><td>true</td><td>12.0</td><td>4</td><td>0</td><td>4</td><td>&quot;genome_hypermutator_cappedxl_d…</td><td>1</td><td>750</td><td>994</td><td>3</td><td>2</td><td>150000</td><td>0</td><td>0</td><td>false</td><td>256</td><td>1.1</td><td>0.0</td><td>0</td><td>&quot;b8031b83-6701-4c28-ae06-465aa3…</td><td>42</td><td>12</td><td>256</td><td>&quot;hybrid_0_steady_1_stretched_2_…</td><td>8</td><td>&quot;genome_hypermutator_cappedxl_d…</td></tr></tbody></table></div>"
      ],
      "text/plain": [
       "shape: (5, 27)\n",
       "┌─────────────┬───────────┬─────────┬──────┬───┬────────────┬────────────┬────────────┬────────────┐\n",
       "│ data_hex    ┆ is_extant ┆ fitness ┆ tile ┆ … ┆ CEREBRASLI ┆ CEREBRASLI ┆ CEREBRASLI ┆ ASYNC_GA_G │\n",
       "│ ---         ┆ ---       ┆ ---     ┆ ---  ┆   ┆ B_TRAITLOG ┆ B_TRAITLOG ┆ B_TRAITLOG ┆ ENOME_FLAV │\n",
       "│ str         ┆ bool      ┆ f32     ┆ u32  ┆   ┆ GER_NUM_BI ┆ GER_DSTREA ┆ GER_DILATI ┆ OR         │\n",
       "│             ┆           ┆         ┆      ┆   ┆ …          ┆ …          ┆ …          ┆ ---        │\n",
       "│             ┆           ┆         ┆      ┆   ┆ ---        ┆ ---        ┆ ---        ┆ cat        │\n",
       "│             ┆           ┆         ┆      ┆   ┆ u32        ┆ cat        ┆ u32        ┆            │\n",
       "╞═════════════╪═══════════╪═════════╪══════╪═══╪════════════╪════════════╪════════════╪════════════╡\n",
       "│ 0001000c000 ┆ true      ┆ 12.0    ┆ 0    ┆ … ┆ 256        ┆ hybrid_0_s ┆ 8          ┆ genome_hyp │\n",
       "│ 238fdbeef0a ┆           ┆         ┆      ┆   ┆            ┆ teady_1_st ┆            ┆ ermutator_ │\n",
       "│ ce          ┆           ┆         ┆      ┆   ┆            ┆ retched_2_ ┆            ┆ cappedxl_d │\n",
       "│             ┆           ┆         ┆      ┆   ┆            ┆ …          ┆            ┆ …          │\n",
       "│ 0001000c000 ┆ true      ┆ 12.0    ┆ 1    ┆ … ┆ 256        ┆ hybrid_0_s ┆ 8          ┆ genome_hyp │\n",
       "│ 23aedbeef0a ┆           ┆         ┆      ┆   ┆            ┆ teady_1_st ┆            ┆ ermutator_ │\n",
       "│ ce          ┆           ┆         ┆      ┆   ┆            ┆ retched_2_ ┆            ┆ cappedxl_d │\n",
       "│             ┆           ┆         ┆      ┆   ┆            ┆ …          ┆            ┆ …          │\n",
       "│ 0001000c000 ┆ true      ┆ 12.0    ┆ 2    ┆ … ┆ 256        ┆ hybrid_0_s ┆ 8          ┆ genome_hyp │\n",
       "│ 23adebeef0a ┆           ┆         ┆      ┆   ┆            ┆ teady_1_st ┆            ┆ ermutator_ │\n",
       "│ ce          ┆           ┆         ┆      ┆   ┆            ┆ retched_2_ ┆            ┆ cappedxl_d │\n",
       "│             ┆           ┆         ┆      ┆   ┆            ┆ …          ┆            ┆ …          │\n",
       "│ 0001000c000 ┆ true      ┆ 12.0    ┆ 3    ┆ … ┆ 256        ┆ hybrid_0_s ┆ 8          ┆ genome_hyp │\n",
       "│ 23adbbeef0a ┆           ┆         ┆      ┆   ┆            ┆ teady_1_st ┆            ┆ ermutator_ │\n",
       "│ ce          ┆           ┆         ┆      ┆   ┆            ┆ retched_2_ ┆            ┆ cappedxl_d │\n",
       "│             ┆           ┆         ┆      ┆   ┆            ┆ …          ┆            ┆ …          │\n",
       "│ 0001000c000 ┆ true      ┆ 12.0    ┆ 4    ┆ … ┆ 256        ┆ hybrid_0_s ┆ 8          ┆ genome_hyp │\n",
       "│ 23ac4beef0a ┆           ┆         ┆      ┆   ┆            ┆ teady_1_st ┆            ┆ ermutator_ │\n",
       "│ ce          ┆           ┆         ┆      ┆   ┆            ┆ retched_2_ ┆            ┆ cappedxl_d │\n",
       "│             ┆           ┆         ┆      ┆   ┆            ┆ …          ┆            ┆ …          │\n",
       "└─────────────┴───────────┴─────────┴──────┴───┴────────────┴────────────┴────────────┴────────────┘"
      ]
     },
     "metadata": {},
     "output_type": "display_data"
    },
    {
     "data": {
      "text/html": [
       "<div><style>\n",
       ".dataframe > thead > tr,\n",
       ".dataframe > tbody > tr {\n",
       "  text-align: right;\n",
       "  white-space: pre-wrap;\n",
       "}\n",
       "</style>\n",
       "<small>shape: (5, 27)</small><table border=\"1\" class=\"dataframe\"><thead><tr><th>data_hex</th><th>is_extant</th><th>fitness</th><th>tile</th><th>row</th><th>col</th><th>genomeFlavor</th><th>globalSeed</th><th>nCol</th><th>nRow</th><th>nWav</th><th>nTrait</th><th>nCycle</th><th>nColSubgrid</th><th>nRowSubgrid</th><th>nonBlock</th><th>tilePopSize</th><th>tournSize</th><th>msec</th><th>tsc</th><th>replicate</th><th>_compconf_dummy</th><th>CEREBRASLIB_HYPERMUT_NUM_AVAIL_BEN_MUTS</th><th>CEREBRASLIB_TRAITLOGGER_NUM_BITS</th><th>CEREBRASLIB_TRAITLOGGER_DSTREAM_ALGO_NAME</th><th>CEREBRASLIB_TRAITLOGGER_DILATION</th><th>ASYNC_GA_GENOME_FLAVOR</th></tr><tr><td>str</td><td>bool</td><td>f32</td><td>u32</td><td>u16</td><td>u16</td><td>cat</td><td>u32</td><td>u16</td><td>u16</td><td>u8</td><td>u8</td><td>u32</td><td>u16</td><td>u16</td><td>bool</td><td>u16</td><td>f32</td><td>f32</td><td>u64</td><td>cat</td><td>u32</td><td>i16</td><td>u32</td><td>cat</td><td>u32</td><td>cat</td></tr></thead><tbody><tr><td>&quot;0064001800023bfc00010002&quot;</td><td>true</td><td>24.0</td><td>745495</td><td>993</td><td>745</td><td>&quot;genome_hypermutator_cappedxl_d…</td><td>30</td><td>750</td><td>994</td><td>3</td><td>2</td><td>150000</td><td>0</td><td>0</td><td>false</td><td>256</td><td>1.1</td><td>0.0</td><td>0</td><td>&quot;beda3909-70f7-47da-a9d6-803c6e…</td><td>42</td><td>24</td><td>256</td><td>&quot;hybrid_0_steady_1_stretched_2_…</td><td>8</td><td>&quot;genome_hypermutator_cappedxl_d…</td></tr><tr><td>&quot;0064001800023c2c00010002&quot;</td><td>true</td><td>24.0</td><td>745496</td><td>993</td><td>746</td><td>&quot;genome_hypermutator_cappedxl_d…</td><td>30</td><td>750</td><td>994</td><td>3</td><td>2</td><td>150000</td><td>0</td><td>0</td><td>false</td><td>256</td><td>1.1</td><td>0.0</td><td>0</td><td>&quot;beda3909-70f7-47da-a9d6-803c6e…</td><td>42</td><td>24</td><td>256</td><td>&quot;hybrid_0_steady_1_stretched_2_…</td><td>8</td><td>&quot;genome_hypermutator_cappedxl_d…</td></tr><tr><td>&quot;0164001700023bf600000000&quot;</td><td>true</td><td>23.0</td><td>745497</td><td>993</td><td>747</td><td>&quot;genome_hypermutator_cappedxl_d…</td><td>30</td><td>750</td><td>994</td><td>3</td><td>2</td><td>150000</td><td>0</td><td>0</td><td>false</td><td>256</td><td>1.1</td><td>0.0</td><td>0</td><td>&quot;beda3909-70f7-47da-a9d6-803c6e…</td><td>42</td><td>24</td><td>256</td><td>&quot;hybrid_0_steady_1_stretched_2_…</td><td>8</td><td>&quot;genome_hypermutator_cappedxl_d…</td></tr><tr><td>&quot;0064001800023bf300000000&quot;</td><td>true</td><td>24.0</td><td>745498</td><td>993</td><td>748</td><td>&quot;genome_hypermutator_cappedxl_d…</td><td>30</td><td>750</td><td>994</td><td>3</td><td>2</td><td>150000</td><td>0</td><td>0</td><td>false</td><td>256</td><td>1.1</td><td>0.0</td><td>0</td><td>&quot;beda3909-70f7-47da-a9d6-803c6e…</td><td>42</td><td>24</td><td>256</td><td>&quot;hybrid_0_steady_1_stretched_2_…</td><td>8</td><td>&quot;genome_hypermutator_cappedxl_d…</td></tr><tr><td>&quot;0064001800023a4300010002&quot;</td><td>true</td><td>24.0</td><td>745499</td><td>993</td><td>749</td><td>&quot;genome_hypermutator_cappedxl_d…</td><td>30</td><td>750</td><td>994</td><td>3</td><td>2</td><td>150000</td><td>0</td><td>0</td><td>false</td><td>256</td><td>1.1</td><td>0.0</td><td>0</td><td>&quot;beda3909-70f7-47da-a9d6-803c6e…</td><td>42</td><td>24</td><td>256</td><td>&quot;hybrid_0_steady_1_stretched_2_…</td><td>8</td><td>&quot;genome_hypermutator_cappedxl_d…</td></tr></tbody></table></div>"
      ],
      "text/plain": [
       "shape: (5, 27)\n",
       "┌────────────┬───────────┬─────────┬────────┬───┬────────────┬────────────┬────────────┬───────────┐\n",
       "│ data_hex   ┆ is_extant ┆ fitness ┆ tile   ┆ … ┆ CEREBRASLI ┆ CEREBRASLI ┆ CEREBRASLI ┆ ASYNC_GA_ │\n",
       "│ ---        ┆ ---       ┆ ---     ┆ ---    ┆   ┆ B_TRAITLOG ┆ B_TRAITLOG ┆ B_TRAITLOG ┆ GENOME_FL │\n",
       "│ str        ┆ bool      ┆ f32     ┆ u32    ┆   ┆ GER_NUM_BI ┆ GER_DSTREA ┆ GER_DILATI ┆ AVOR      │\n",
       "│            ┆           ┆         ┆        ┆   ┆ …          ┆ …          ┆ …          ┆ ---       │\n",
       "│            ┆           ┆         ┆        ┆   ┆ ---        ┆ ---        ┆ ---        ┆ cat       │\n",
       "│            ┆           ┆         ┆        ┆   ┆ u32        ┆ cat        ┆ u32        ┆           │\n",
       "╞════════════╪═══════════╪═════════╪════════╪═══╪════════════╪════════════╪════════════╪═══════════╡\n",
       "│ 0064001800 ┆ true      ┆ 24.0    ┆ 745495 ┆ … ┆ 256        ┆ hybrid_0_s ┆ 8          ┆ genome_hy │\n",
       "│ 023bfc0001 ┆           ┆         ┆        ┆   ┆            ┆ teady_1_st ┆            ┆ permutato │\n",
       "│ 0002       ┆           ┆         ┆        ┆   ┆            ┆ retched_2_ ┆            ┆ r_cappedx │\n",
       "│            ┆           ┆         ┆        ┆   ┆            ┆ …          ┆            ┆ l_d…      │\n",
       "│ 0064001800 ┆ true      ┆ 24.0    ┆ 745496 ┆ … ┆ 256        ┆ hybrid_0_s ┆ 8          ┆ genome_hy │\n",
       "│ 023c2c0001 ┆           ┆         ┆        ┆   ┆            ┆ teady_1_st ┆            ┆ permutato │\n",
       "│ 0002       ┆           ┆         ┆        ┆   ┆            ┆ retched_2_ ┆            ┆ r_cappedx │\n",
       "│            ┆           ┆         ┆        ┆   ┆            ┆ …          ┆            ┆ l_d…      │\n",
       "│ 0164001700 ┆ true      ┆ 23.0    ┆ 745497 ┆ … ┆ 256        ┆ hybrid_0_s ┆ 8          ┆ genome_hy │\n",
       "│ 023bf60000 ┆           ┆         ┆        ┆   ┆            ┆ teady_1_st ┆            ┆ permutato │\n",
       "│ 0000       ┆           ┆         ┆        ┆   ┆            ┆ retched_2_ ┆            ┆ r_cappedx │\n",
       "│            ┆           ┆         ┆        ┆   ┆            ┆ …          ┆            ┆ l_d…      │\n",
       "│ 0064001800 ┆ true      ┆ 24.0    ┆ 745498 ┆ … ┆ 256        ┆ hybrid_0_s ┆ 8          ┆ genome_hy │\n",
       "│ 023bf30000 ┆           ┆         ┆        ┆   ┆            ┆ teady_1_st ┆            ┆ permutato │\n",
       "│ 0000       ┆           ┆         ┆        ┆   ┆            ┆ retched_2_ ┆            ┆ r_cappedx │\n",
       "│            ┆           ┆         ┆        ┆   ┆            ┆ …          ┆            ┆ l_d…      │\n",
       "│ 0064001800 ┆ true      ┆ 24.0    ┆ 745499 ┆ … ┆ 256        ┆ hybrid_0_s ┆ 8          ┆ genome_hy │\n",
       "│ 023a430001 ┆           ┆         ┆        ┆   ┆            ┆ teady_1_st ┆            ┆ permutato │\n",
       "│ 0002       ┆           ┆         ┆        ┆   ┆            ┆ retched_2_ ┆            ┆ r_cappedx │\n",
       "│            ┆           ┆         ┆        ┆   ┆            ┆ …          ┆            ┆ l_d…      │\n",
       "└────────────┴───────────┴─────────┴────────┴───┴────────────┴────────────┴────────────┴───────────┘"
      ]
     },
     "metadata": {},
     "output_type": "display_data"
    }
   ],
   "source": [
    "dfxs = pl.from_pandas(\n",
    "    pd.read_parquet(\"https://osf.io/2yfx6/download\"),\n",
    ")\n",
    "display(dfxs.describe()), display(dfxs.head()), display(dfxs.tail());\n"
   ]
  },
  {
   "cell_type": "code",
   "execution_count": 6,
   "metadata": {
    "execution": {
     "iopub.execute_input": "2025-04-13T00:43:12.553325Z",
     "iopub.status.busy": "2025-04-13T00:43:12.553116Z",
     "iopub.status.idle": "2025-04-13T00:43:12.556664Z",
     "shell.execute_reply": "2025-04-13T00:43:12.556157Z"
    }
   },
   "outputs": [],
   "source": [
    "def correct_endianness(name: str) -> pl.Expr:\n",
    "    offset = name + \"_hexoffset\"\n",
    "    width = name + \"_hexwidth\"\n",
    "    return (\n",
    "        pl.col(offset)\n",
    "        - pl.col(offset).mod(8)\n",
    "        + pl.col(offset).mod(8).xor(7)\n",
    "        - (pl.col(width) - 1)\n",
    "    )\n"
   ]
  },
  {
   "cell_type": "code",
   "execution_count": 7,
   "metadata": {
    "execution": {
     "iopub.execute_input": "2025-04-13T00:43:12.558733Z",
     "iopub.status.busy": "2025-04-13T00:43:12.558248Z",
     "iopub.status.idle": "2025-04-13T00:43:13.971132Z",
     "shell.execute_reply": "2025-04-13T00:43:13.970520Z"
    }
   },
   "outputs": [
    {
     "data": {
      "text/html": [
       "<div><style>\n",
       ".dataframe > thead > tr,\n",
       ".dataframe > tbody > tr {\n",
       "  text-align: right;\n",
       "  white-space: pre-wrap;\n",
       "}\n",
       "</style>\n",
       "<small>shape: (9, 41)</small><table border=\"1\" class=\"dataframe\"><thead><tr><th>statistic</th><th>data_hex</th><th>is_extant</th><th>fitness</th><th>tile</th><th>row</th><th>col</th><th>genomeFlavor</th><th>globalSeed</th><th>nCol</th><th>nRow</th><th>nWav</th><th>nTrait</th><th>nCycle</th><th>nColSubgrid</th><th>nRowSubgrid</th><th>nonBlock</th><th>tilePopSize</th><th>tournSize</th><th>msec</th><th>tsc</th><th>replicate</th><th>_compconf_dummy</th><th>CEREBRASLIB_HYPERMUT_NUM_AVAIL_BEN_MUTS</th><th>CEREBRASLIB_TRAITLOGGER_NUM_BITS</th><th>CEREBRASLIB_TRAITLOGGER_DSTREAM_ALGO_NAME</th><th>CEREBRASLIB_TRAITLOGGER_DILATION</th><th>ASYNC_GA_GENOME_FLAVOR</th><th>netbencount_hexoffset</th><th>netbencount_hexwidth</th><th>mutator_hexoffset</th><th>mutator_hexwidth</th><th>delcount_hexoffset</th><th>delcount_hexwidth</th><th>counter_hexoffset</th><th>counter_hexwidth</th><th>snapshot_netbencount_hexoffset</th><th>snapshot_netbencount_hexwidth</th><th>snapshot_counter_hexoffset</th><th>snapshot_counter_hexwidth</th><th>snapshot_counter_dilation</th></tr><tr><td>str</td><td>str</td><td>f64</td><td>f64</td><td>f64</td><td>f64</td><td>f64</td><td>str</td><td>f64</td><td>f64</td><td>f64</td><td>f64</td><td>f64</td><td>f64</td><td>f64</td><td>f64</td><td>f64</td><td>f64</td><td>f64</td><td>f64</td><td>f64</td><td>str</td><td>f64</td><td>f64</td><td>f64</td><td>str</td><td>f64</td><td>str</td><td>f64</td><td>f64</td><td>f64</td><td>f64</td><td>f64</td><td>f64</td><td>f64</td><td>f64</td><td>f64</td><td>f64</td><td>f64</td><td>f64</td><td>f64</td></tr></thead><tbody><tr><td>&quot;count&quot;</td><td>&quot;22365000&quot;</td><td>2.2365e7</td><td>2.2365e7</td><td>2.2365e7</td><td>2.2365e7</td><td>2.2365e7</td><td>&quot;22365000&quot;</td><td>2.2365e7</td><td>2.2365e7</td><td>2.2365e7</td><td>2.2365e7</td><td>2.2365e7</td><td>2.2365e7</td><td>2.2365e7</td><td>2.2365e7</td><td>2.2365e7</td><td>2.2365e7</td><td>2.2365e7</td><td>2.2365e7</td><td>2.2365e7</td><td>&quot;22365000&quot;</td><td>2.2365e7</td><td>2.2365e7</td><td>2.2365e7</td><td>&quot;22365000&quot;</td><td>2.2365e7</td><td>&quot;22365000&quot;</td><td>2.2365e7</td><td>2.2365e7</td><td>2.2365e7</td><td>2.2365e7</td><td>2.2365e7</td><td>2.2365e7</td><td>2.2365e7</td><td>2.2365e7</td><td>2.2365e7</td><td>2.2365e7</td><td>2.2365e7</td><td>2.2365e7</td><td>2.2365e7</td></tr><tr><td>&quot;null_count&quot;</td><td>&quot;0&quot;</td><td>0.0</td><td>0.0</td><td>0.0</td><td>0.0</td><td>0.0</td><td>&quot;0&quot;</td><td>0.0</td><td>0.0</td><td>0.0</td><td>0.0</td><td>0.0</td><td>0.0</td><td>0.0</td><td>0.0</td><td>0.0</td><td>0.0</td><td>0.0</td><td>0.0</td><td>0.0</td><td>&quot;0&quot;</td><td>0.0</td><td>0.0</td><td>0.0</td><td>&quot;0&quot;</td><td>0.0</td><td>&quot;0&quot;</td><td>0.0</td><td>0.0</td><td>0.0</td><td>0.0</td><td>0.0</td><td>0.0</td><td>0.0</td><td>0.0</td><td>0.0</td><td>0.0</td><td>0.0</td><td>0.0</td><td>0.0</td></tr><tr><td>&quot;mean&quot;</td><td>null</td><td>1.0</td><td>17.899414</td><td>372749.5</td><td>496.5</td><td>374.5</td><td>null</td><td>15.5</td><td>750.0</td><td>994.0</td><td>3.0</td><td>2.0</td><td>150000.0</td><td>0.0</td><td>0.0</td><td>0.0</td><td>256.0</td><td>1.1</td><td>0.0</td><td>0.0</td><td>null</td><td>42.0</td><td>18.0</td><td>256.0</td><td>null</td><td>8.0</td><td>null</td><td>4.0</td><td>4.0</td><td>2.0</td><td>2.0</td><td>0.0</td><td>2.0</td><td>8.0</td><td>8.0</td><td>20.0</td><td>4.0</td><td>16.0</td><td>4.0</td><td>256.0</td></tr><tr><td>&quot;std&quot;</td><td>null</td><td>null</td><td>4.218406</td><td>215207.317651</td><td>286.942945</td><td>216.506163</td><td>null</td><td>8.655442</td><td>0.0</td><td>0.0</td><td>0.0</td><td>0.0</td><td>0.0</td><td>0.0</td><td>0.0</td><td>null</td><td>0.0</td><td>0.0</td><td>0.0</td><td>0.0</td><td>null</td><td>0.0</td><td>4.242641</td><td>0.0</td><td>null</td><td>0.0</td><td>null</td><td>0.0</td><td>0.0</td><td>0.0</td><td>0.0</td><td>0.0</td><td>0.0</td><td>0.0</td><td>0.0</td><td>0.0</td><td>0.0</td><td>0.0</td><td>0.0</td><td>0.0</td></tr><tr><td>&quot;min&quot;</td><td>&quot;0001000b00023a0dbeef0ace&quot;</td><td>1.0</td><td>-1.0</td><td>0.0</td><td>0.0</td><td>0.0</td><td>null</td><td>1.0</td><td>750.0</td><td>994.0</td><td>3.0</td><td>2.0</td><td>150000.0</td><td>0.0</td><td>0.0</td><td>0.0</td><td>256.0</td><td>1.1</td><td>0.0</td><td>0.0</td><td>null</td><td>42.0</td><td>12.0</td><td>256.0</td><td>null</td><td>8.0</td><td>null</td><td>4.0</td><td>4.0</td><td>2.0</td><td>2.0</td><td>0.0</td><td>2.0</td><td>8.0</td><td>8.0</td><td>20.0</td><td>4.0</td><td>16.0</td><td>4.0</td><td>256.0</td></tr><tr><td>&quot;25%&quot;</td><td>null</td><td>null</td><td>15.0</td><td>186375.0</td><td>248.0</td><td>187.0</td><td>null</td><td>8.0</td><td>750.0</td><td>994.0</td><td>3.0</td><td>2.0</td><td>150000.0</td><td>0.0</td><td>0.0</td><td>null</td><td>256.0</td><td>1.1</td><td>0.0</td><td>0.0</td><td>null</td><td>42.0</td><td>15.0</td><td>256.0</td><td>null</td><td>8.0</td><td>null</td><td>4.0</td><td>4.0</td><td>2.0</td><td>2.0</td><td>0.0</td><td>2.0</td><td>8.0</td><td>8.0</td><td>20.0</td><td>4.0</td><td>16.0</td><td>4.0</td><td>256.0</td></tr><tr><td>&quot;50%&quot;</td><td>null</td><td>null</td><td>18.0</td><td>372750.0</td><td>497.0</td><td>375.0</td><td>null</td><td>16.0</td><td>750.0</td><td>994.0</td><td>3.0</td><td>2.0</td><td>150000.0</td><td>0.0</td><td>0.0</td><td>null</td><td>256.0</td><td>1.1</td><td>0.0</td><td>0.0</td><td>null</td><td>42.0</td><td>18.0</td><td>256.0</td><td>null</td><td>8.0</td><td>null</td><td>4.0</td><td>4.0</td><td>2.0</td><td>2.0</td><td>0.0</td><td>2.0</td><td>8.0</td><td>8.0</td><td>20.0</td><td>4.0</td><td>16.0</td><td>4.0</td><td>256.0</td></tr><tr><td>&quot;75%&quot;</td><td>null</td><td>null</td><td>21.0</td><td>559124.0</td><td>745.0</td><td>562.0</td><td>null</td><td>23.0</td><td>750.0</td><td>994.0</td><td>3.0</td><td>2.0</td><td>150000.0</td><td>0.0</td><td>0.0</td><td>null</td><td>256.0</td><td>1.1</td><td>0.0</td><td>0.0</td><td>null</td><td>42.0</td><td>21.0</td><td>256.0</td><td>null</td><td>8.0</td><td>null</td><td>4.0</td><td>4.0</td><td>2.0</td><td>2.0</td><td>0.0</td><td>2.0</td><td>8.0</td><td>8.0</td><td>20.0</td><td>4.0</td><td>16.0</td><td>4.0</td><td>256.0</td></tr><tr><td>&quot;max&quot;</td><td>&quot;0664001200023e2a00000000&quot;</td><td>1.0</td><td>24.0</td><td>745499.0</td><td>993.0</td><td>749.0</td><td>null</td><td>30.0</td><td>750.0</td><td>994.0</td><td>3.0</td><td>2.0</td><td>150000.0</td><td>0.0</td><td>0.0</td><td>0.0</td><td>256.0</td><td>1.1</td><td>0.0</td><td>0.0</td><td>null</td><td>42.0</td><td>24.0</td><td>256.0</td><td>null</td><td>8.0</td><td>null</td><td>4.0</td><td>4.0</td><td>2.0</td><td>2.0</td><td>0.0</td><td>2.0</td><td>8.0</td><td>8.0</td><td>20.0</td><td>4.0</td><td>16.0</td><td>4.0</td><td>256.0</td></tr></tbody></table></div>"
      ],
      "text/plain": [
       "shape: (9, 41)\n",
       "┌───────────┬───────────┬───────────┬───────────┬───┬───────────┬───────────┬───────────┬──────────┐\n",
       "│ statistic ┆ data_hex  ┆ is_extant ┆ fitness   ┆ … ┆ snapshot_ ┆ snapshot_ ┆ snapshot_ ┆ snapshot │\n",
       "│ ---       ┆ ---       ┆ ---       ┆ ---       ┆   ┆ netbencou ┆ counter_h ┆ counter_h ┆ _counter │\n",
       "│ str       ┆ str       ┆ f64       ┆ f64       ┆   ┆ nt_hexwid ┆ exoffset  ┆ exwidth   ┆ _dilatio │\n",
       "│           ┆           ┆           ┆           ┆   ┆ th        ┆ ---       ┆ ---       ┆ n        │\n",
       "│           ┆           ┆           ┆           ┆   ┆ ---       ┆ f64       ┆ f64       ┆ ---      │\n",
       "│           ┆           ┆           ┆           ┆   ┆ f64       ┆           ┆           ┆ f64      │\n",
       "╞═══════════╪═══════════╪═══════════╪═══════════╪═══╪═══════════╪═══════════╪═══════════╪══════════╡\n",
       "│ count     ┆ 22365000  ┆ 2.2365e7  ┆ 2.2365e7  ┆ … ┆ 2.2365e7  ┆ 2.2365e7  ┆ 2.2365e7  ┆ 2.2365e7 │\n",
       "│ null_coun ┆ 0         ┆ 0.0       ┆ 0.0       ┆ … ┆ 0.0       ┆ 0.0       ┆ 0.0       ┆ 0.0      │\n",
       "│ t         ┆           ┆           ┆           ┆   ┆           ┆           ┆           ┆          │\n",
       "│ mean      ┆ null      ┆ 1.0       ┆ 17.899414 ┆ … ┆ 4.0       ┆ 16.0      ┆ 4.0       ┆ 256.0    │\n",
       "│ std       ┆ null      ┆ null      ┆ 4.218406  ┆ … ┆ 0.0       ┆ 0.0       ┆ 0.0       ┆ 0.0      │\n",
       "│ min       ┆ 0001000b0 ┆ 1.0       ┆ -1.0      ┆ … ┆ 4.0       ┆ 16.0      ┆ 4.0       ┆ 256.0    │\n",
       "│           ┆ 0023a0dbe ┆           ┆           ┆   ┆           ┆           ┆           ┆          │\n",
       "│           ┆ ef0ace    ┆           ┆           ┆   ┆           ┆           ┆           ┆          │\n",
       "│ 25%       ┆ null      ┆ null      ┆ 15.0      ┆ … ┆ 4.0       ┆ 16.0      ┆ 4.0       ┆ 256.0    │\n",
       "│ 50%       ┆ null      ┆ null      ┆ 18.0      ┆ … ┆ 4.0       ┆ 16.0      ┆ 4.0       ┆ 256.0    │\n",
       "│ 75%       ┆ null      ┆ null      ┆ 21.0      ┆ … ┆ 4.0       ┆ 16.0      ┆ 4.0       ┆ 256.0    │\n",
       "│ max       ┆ 066400120 ┆ 1.0       ┆ 24.0      ┆ … ┆ 4.0       ┆ 16.0      ┆ 4.0       ┆ 256.0    │\n",
       "│           ┆ 0023e2a00 ┆           ┆           ┆   ┆           ┆           ┆           ┆          │\n",
       "│           ┆ 000000    ┆           ┆           ┆   ┆           ┆           ┆           ┆          │\n",
       "└───────────┴───────────┴───────────┴───────────┴───┴───────────┴───────────┴───────────┴──────────┘"
      ]
     },
     "metadata": {},
     "output_type": "display_data"
    },
    {
     "data": {
      "text/html": [
       "<div><style>\n",
       ".dataframe > thead > tr,\n",
       ".dataframe > tbody > tr {\n",
       "  text-align: right;\n",
       "  white-space: pre-wrap;\n",
       "}\n",
       "</style>\n",
       "<small>shape: (5, 40)</small><table border=\"1\" class=\"dataframe\"><thead><tr><th>data_hex</th><th>is_extant</th><th>fitness</th><th>tile</th><th>row</th><th>col</th><th>genomeFlavor</th><th>globalSeed</th><th>nCol</th><th>nRow</th><th>nWav</th><th>nTrait</th><th>nCycle</th><th>nColSubgrid</th><th>nRowSubgrid</th><th>nonBlock</th><th>tilePopSize</th><th>tournSize</th><th>msec</th><th>tsc</th><th>replicate</th><th>_compconf_dummy</th><th>CEREBRASLIB_HYPERMUT_NUM_AVAIL_BEN_MUTS</th><th>CEREBRASLIB_TRAITLOGGER_NUM_BITS</th><th>CEREBRASLIB_TRAITLOGGER_DSTREAM_ALGO_NAME</th><th>CEREBRASLIB_TRAITLOGGER_DILATION</th><th>ASYNC_GA_GENOME_FLAVOR</th><th>netbencount_hexoffset</th><th>netbencount_hexwidth</th><th>mutator_hexoffset</th><th>mutator_hexwidth</th><th>delcount_hexoffset</th><th>delcount_hexwidth</th><th>counter_hexoffset</th><th>counter_hexwidth</th><th>snapshot_netbencount_hexoffset</th><th>snapshot_netbencount_hexwidth</th><th>snapshot_counter_hexoffset</th><th>snapshot_counter_hexwidth</th><th>snapshot_counter_dilation</th></tr><tr><td>str</td><td>bool</td><td>f32</td><td>u32</td><td>u16</td><td>u16</td><td>cat</td><td>u32</td><td>u16</td><td>u16</td><td>u8</td><td>u8</td><td>u32</td><td>u16</td><td>u16</td><td>bool</td><td>u16</td><td>f32</td><td>f32</td><td>u64</td><td>cat</td><td>u32</td><td>i16</td><td>u32</td><td>cat</td><td>u32</td><td>cat</td><td>u8</td><td>u8</td><td>u8</td><td>u8</td><td>u8</td><td>u8</td><td>u8</td><td>u8</td><td>u8</td><td>u8</td><td>u8</td><td>u8</td><td>u16</td></tr></thead><tbody><tr><td>&quot;0001000c000238fdbeef0ace&quot;</td><td>true</td><td>12.0</td><td>0</td><td>0</td><td>0</td><td>&quot;genome_hypermutator_cappedxl_d…</td><td>1</td><td>750</td><td>994</td><td>3</td><td>2</td><td>150000</td><td>0</td><td>0</td><td>false</td><td>256</td><td>1.1</td><td>0.0</td><td>0</td><td>&quot;b8031b83-6701-4c28-ae06-465aa3…</td><td>42</td><td>12</td><td>256</td><td>&quot;hybrid_0_steady_1_stretched_2_…</td><td>8</td><td>&quot;genome_hypermutator_cappedxl_d…</td><td>4</td><td>4</td><td>2</td><td>2</td><td>0</td><td>2</td><td>8</td><td>8</td><td>20</td><td>4</td><td>16</td><td>4</td><td>256</td></tr><tr><td>&quot;0001000c00023aedbeef0ace&quot;</td><td>true</td><td>12.0</td><td>1</td><td>0</td><td>1</td><td>&quot;genome_hypermutator_cappedxl_d…</td><td>1</td><td>750</td><td>994</td><td>3</td><td>2</td><td>150000</td><td>0</td><td>0</td><td>false</td><td>256</td><td>1.1</td><td>0.0</td><td>0</td><td>&quot;b8031b83-6701-4c28-ae06-465aa3…</td><td>42</td><td>12</td><td>256</td><td>&quot;hybrid_0_steady_1_stretched_2_…</td><td>8</td><td>&quot;genome_hypermutator_cappedxl_d…</td><td>4</td><td>4</td><td>2</td><td>2</td><td>0</td><td>2</td><td>8</td><td>8</td><td>20</td><td>4</td><td>16</td><td>4</td><td>256</td></tr><tr><td>&quot;0001000c00023adebeef0ace&quot;</td><td>true</td><td>12.0</td><td>2</td><td>0</td><td>2</td><td>&quot;genome_hypermutator_cappedxl_d…</td><td>1</td><td>750</td><td>994</td><td>3</td><td>2</td><td>150000</td><td>0</td><td>0</td><td>false</td><td>256</td><td>1.1</td><td>0.0</td><td>0</td><td>&quot;b8031b83-6701-4c28-ae06-465aa3…</td><td>42</td><td>12</td><td>256</td><td>&quot;hybrid_0_steady_1_stretched_2_…</td><td>8</td><td>&quot;genome_hypermutator_cappedxl_d…</td><td>4</td><td>4</td><td>2</td><td>2</td><td>0</td><td>2</td><td>8</td><td>8</td><td>20</td><td>4</td><td>16</td><td>4</td><td>256</td></tr><tr><td>&quot;0001000c00023adbbeef0ace&quot;</td><td>true</td><td>12.0</td><td>3</td><td>0</td><td>3</td><td>&quot;genome_hypermutator_cappedxl_d…</td><td>1</td><td>750</td><td>994</td><td>3</td><td>2</td><td>150000</td><td>0</td><td>0</td><td>false</td><td>256</td><td>1.1</td><td>0.0</td><td>0</td><td>&quot;b8031b83-6701-4c28-ae06-465aa3…</td><td>42</td><td>12</td><td>256</td><td>&quot;hybrid_0_steady_1_stretched_2_…</td><td>8</td><td>&quot;genome_hypermutator_cappedxl_d…</td><td>4</td><td>4</td><td>2</td><td>2</td><td>0</td><td>2</td><td>8</td><td>8</td><td>20</td><td>4</td><td>16</td><td>4</td><td>256</td></tr><tr><td>&quot;0001000c00023ac4beef0ace&quot;</td><td>true</td><td>12.0</td><td>4</td><td>0</td><td>4</td><td>&quot;genome_hypermutator_cappedxl_d…</td><td>1</td><td>750</td><td>994</td><td>3</td><td>2</td><td>150000</td><td>0</td><td>0</td><td>false</td><td>256</td><td>1.1</td><td>0.0</td><td>0</td><td>&quot;b8031b83-6701-4c28-ae06-465aa3…</td><td>42</td><td>12</td><td>256</td><td>&quot;hybrid_0_steady_1_stretched_2_…</td><td>8</td><td>&quot;genome_hypermutator_cappedxl_d…</td><td>4</td><td>4</td><td>2</td><td>2</td><td>0</td><td>2</td><td>8</td><td>8</td><td>20</td><td>4</td><td>16</td><td>4</td><td>256</td></tr></tbody></table></div>"
      ],
      "text/plain": [
       "shape: (5, 40)\n",
       "┌─────────────┬───────────┬─────────┬──────┬───┬────────────┬────────────┬────────────┬────────────┐\n",
       "│ data_hex    ┆ is_extant ┆ fitness ┆ tile ┆ … ┆ snapshot_n ┆ snapshot_c ┆ snapshot_c ┆ snapshot_c │\n",
       "│ ---         ┆ ---       ┆ ---     ┆ ---  ┆   ┆ etbencount ┆ ounter_hex ┆ ounter_hex ┆ ounter_dil │\n",
       "│ str         ┆ bool      ┆ f32     ┆ u32  ┆   ┆ _hexwidth  ┆ offset     ┆ width      ┆ ation      │\n",
       "│             ┆           ┆         ┆      ┆   ┆ ---        ┆ ---        ┆ ---        ┆ ---        │\n",
       "│             ┆           ┆         ┆      ┆   ┆ u8         ┆ u8         ┆ u8         ┆ u16        │\n",
       "╞═════════════╪═══════════╪═════════╪══════╪═══╪════════════╪════════════╪════════════╪════════════╡\n",
       "│ 0001000c000 ┆ true      ┆ 12.0    ┆ 0    ┆ … ┆ 4          ┆ 16         ┆ 4          ┆ 256        │\n",
       "│ 238fdbeef0a ┆           ┆         ┆      ┆   ┆            ┆            ┆            ┆            │\n",
       "│ ce          ┆           ┆         ┆      ┆   ┆            ┆            ┆            ┆            │\n",
       "│ 0001000c000 ┆ true      ┆ 12.0    ┆ 1    ┆ … ┆ 4          ┆ 16         ┆ 4          ┆ 256        │\n",
       "│ 23aedbeef0a ┆           ┆         ┆      ┆   ┆            ┆            ┆            ┆            │\n",
       "│ ce          ┆           ┆         ┆      ┆   ┆            ┆            ┆            ┆            │\n",
       "│ 0001000c000 ┆ true      ┆ 12.0    ┆ 2    ┆ … ┆ 4          ┆ 16         ┆ 4          ┆ 256        │\n",
       "│ 23adebeef0a ┆           ┆         ┆      ┆   ┆            ┆            ┆            ┆            │\n",
       "│ ce          ┆           ┆         ┆      ┆   ┆            ┆            ┆            ┆            │\n",
       "│ 0001000c000 ┆ true      ┆ 12.0    ┆ 3    ┆ … ┆ 4          ┆ 16         ┆ 4          ┆ 256        │\n",
       "│ 23adbbeef0a ┆           ┆         ┆      ┆   ┆            ┆            ┆            ┆            │\n",
       "│ ce          ┆           ┆         ┆      ┆   ┆            ┆            ┆            ┆            │\n",
       "│ 0001000c000 ┆ true      ┆ 12.0    ┆ 4    ┆ … ┆ 4          ┆ 16         ┆ 4          ┆ 256        │\n",
       "│ 23ac4beef0a ┆           ┆         ┆      ┆   ┆            ┆            ┆            ┆            │\n",
       "│ ce          ┆           ┆         ┆      ┆   ┆            ┆            ┆            ┆            │\n",
       "└─────────────┴───────────┴─────────┴──────┴───┴────────────┴────────────┴────────────┴────────────┘"
      ]
     },
     "metadata": {},
     "output_type": "display_data"
    },
    {
     "data": {
      "text/html": [
       "<div><style>\n",
       ".dataframe > thead > tr,\n",
       ".dataframe > tbody > tr {\n",
       "  text-align: right;\n",
       "  white-space: pre-wrap;\n",
       "}\n",
       "</style>\n",
       "<small>shape: (5, 40)</small><table border=\"1\" class=\"dataframe\"><thead><tr><th>data_hex</th><th>is_extant</th><th>fitness</th><th>tile</th><th>row</th><th>col</th><th>genomeFlavor</th><th>globalSeed</th><th>nCol</th><th>nRow</th><th>nWav</th><th>nTrait</th><th>nCycle</th><th>nColSubgrid</th><th>nRowSubgrid</th><th>nonBlock</th><th>tilePopSize</th><th>tournSize</th><th>msec</th><th>tsc</th><th>replicate</th><th>_compconf_dummy</th><th>CEREBRASLIB_HYPERMUT_NUM_AVAIL_BEN_MUTS</th><th>CEREBRASLIB_TRAITLOGGER_NUM_BITS</th><th>CEREBRASLIB_TRAITLOGGER_DSTREAM_ALGO_NAME</th><th>CEREBRASLIB_TRAITLOGGER_DILATION</th><th>ASYNC_GA_GENOME_FLAVOR</th><th>netbencount_hexoffset</th><th>netbencount_hexwidth</th><th>mutator_hexoffset</th><th>mutator_hexwidth</th><th>delcount_hexoffset</th><th>delcount_hexwidth</th><th>counter_hexoffset</th><th>counter_hexwidth</th><th>snapshot_netbencount_hexoffset</th><th>snapshot_netbencount_hexwidth</th><th>snapshot_counter_hexoffset</th><th>snapshot_counter_hexwidth</th><th>snapshot_counter_dilation</th></tr><tr><td>str</td><td>bool</td><td>f32</td><td>u32</td><td>u16</td><td>u16</td><td>cat</td><td>u32</td><td>u16</td><td>u16</td><td>u8</td><td>u8</td><td>u32</td><td>u16</td><td>u16</td><td>bool</td><td>u16</td><td>f32</td><td>f32</td><td>u64</td><td>cat</td><td>u32</td><td>i16</td><td>u32</td><td>cat</td><td>u32</td><td>cat</td><td>u8</td><td>u8</td><td>u8</td><td>u8</td><td>u8</td><td>u8</td><td>u8</td><td>u8</td><td>u8</td><td>u8</td><td>u8</td><td>u8</td><td>u16</td></tr></thead><tbody><tr><td>&quot;0064001800023bfc00010002&quot;</td><td>true</td><td>24.0</td><td>745495</td><td>993</td><td>745</td><td>&quot;genome_hypermutator_cappedxl_d…</td><td>30</td><td>750</td><td>994</td><td>3</td><td>2</td><td>150000</td><td>0</td><td>0</td><td>false</td><td>256</td><td>1.1</td><td>0.0</td><td>0</td><td>&quot;beda3909-70f7-47da-a9d6-803c6e…</td><td>42</td><td>24</td><td>256</td><td>&quot;hybrid_0_steady_1_stretched_2_…</td><td>8</td><td>&quot;genome_hypermutator_cappedxl_d…</td><td>4</td><td>4</td><td>2</td><td>2</td><td>0</td><td>2</td><td>8</td><td>8</td><td>20</td><td>4</td><td>16</td><td>4</td><td>256</td></tr><tr><td>&quot;0064001800023c2c00010002&quot;</td><td>true</td><td>24.0</td><td>745496</td><td>993</td><td>746</td><td>&quot;genome_hypermutator_cappedxl_d…</td><td>30</td><td>750</td><td>994</td><td>3</td><td>2</td><td>150000</td><td>0</td><td>0</td><td>false</td><td>256</td><td>1.1</td><td>0.0</td><td>0</td><td>&quot;beda3909-70f7-47da-a9d6-803c6e…</td><td>42</td><td>24</td><td>256</td><td>&quot;hybrid_0_steady_1_stretched_2_…</td><td>8</td><td>&quot;genome_hypermutator_cappedxl_d…</td><td>4</td><td>4</td><td>2</td><td>2</td><td>0</td><td>2</td><td>8</td><td>8</td><td>20</td><td>4</td><td>16</td><td>4</td><td>256</td></tr><tr><td>&quot;0164001700023bf600000000&quot;</td><td>true</td><td>23.0</td><td>745497</td><td>993</td><td>747</td><td>&quot;genome_hypermutator_cappedxl_d…</td><td>30</td><td>750</td><td>994</td><td>3</td><td>2</td><td>150000</td><td>0</td><td>0</td><td>false</td><td>256</td><td>1.1</td><td>0.0</td><td>0</td><td>&quot;beda3909-70f7-47da-a9d6-803c6e…</td><td>42</td><td>24</td><td>256</td><td>&quot;hybrid_0_steady_1_stretched_2_…</td><td>8</td><td>&quot;genome_hypermutator_cappedxl_d…</td><td>4</td><td>4</td><td>2</td><td>2</td><td>0</td><td>2</td><td>8</td><td>8</td><td>20</td><td>4</td><td>16</td><td>4</td><td>256</td></tr><tr><td>&quot;0064001800023bf300000000&quot;</td><td>true</td><td>24.0</td><td>745498</td><td>993</td><td>748</td><td>&quot;genome_hypermutator_cappedxl_d…</td><td>30</td><td>750</td><td>994</td><td>3</td><td>2</td><td>150000</td><td>0</td><td>0</td><td>false</td><td>256</td><td>1.1</td><td>0.0</td><td>0</td><td>&quot;beda3909-70f7-47da-a9d6-803c6e…</td><td>42</td><td>24</td><td>256</td><td>&quot;hybrid_0_steady_1_stretched_2_…</td><td>8</td><td>&quot;genome_hypermutator_cappedxl_d…</td><td>4</td><td>4</td><td>2</td><td>2</td><td>0</td><td>2</td><td>8</td><td>8</td><td>20</td><td>4</td><td>16</td><td>4</td><td>256</td></tr><tr><td>&quot;0064001800023a4300010002&quot;</td><td>true</td><td>24.0</td><td>745499</td><td>993</td><td>749</td><td>&quot;genome_hypermutator_cappedxl_d…</td><td>30</td><td>750</td><td>994</td><td>3</td><td>2</td><td>150000</td><td>0</td><td>0</td><td>false</td><td>256</td><td>1.1</td><td>0.0</td><td>0</td><td>&quot;beda3909-70f7-47da-a9d6-803c6e…</td><td>42</td><td>24</td><td>256</td><td>&quot;hybrid_0_steady_1_stretched_2_…</td><td>8</td><td>&quot;genome_hypermutator_cappedxl_d…</td><td>4</td><td>4</td><td>2</td><td>2</td><td>0</td><td>2</td><td>8</td><td>8</td><td>20</td><td>4</td><td>16</td><td>4</td><td>256</td></tr></tbody></table></div>"
      ],
      "text/plain": [
       "shape: (5, 40)\n",
       "┌────────────┬───────────┬─────────┬────────┬───┬────────────┬────────────┬────────────┬───────────┐\n",
       "│ data_hex   ┆ is_extant ┆ fitness ┆ tile   ┆ … ┆ snapshot_n ┆ snapshot_c ┆ snapshot_c ┆ snapshot_ │\n",
       "│ ---        ┆ ---       ┆ ---     ┆ ---    ┆   ┆ etbencount ┆ ounter_hex ┆ ounter_hex ┆ counter_d │\n",
       "│ str        ┆ bool      ┆ f32     ┆ u32    ┆   ┆ _hexwidth  ┆ offset     ┆ width      ┆ ilation   │\n",
       "│            ┆           ┆         ┆        ┆   ┆ ---        ┆ ---        ┆ ---        ┆ ---       │\n",
       "│            ┆           ┆         ┆        ┆   ┆ u8         ┆ u8         ┆ u8         ┆ u16       │\n",
       "╞════════════╪═══════════╪═════════╪════════╪═══╪════════════╪════════════╪════════════╪═══════════╡\n",
       "│ 0064001800 ┆ true      ┆ 24.0    ┆ 745495 ┆ … ┆ 4          ┆ 16         ┆ 4          ┆ 256       │\n",
       "│ 023bfc0001 ┆           ┆         ┆        ┆   ┆            ┆            ┆            ┆           │\n",
       "│ 0002       ┆           ┆         ┆        ┆   ┆            ┆            ┆            ┆           │\n",
       "│ 0064001800 ┆ true      ┆ 24.0    ┆ 745496 ┆ … ┆ 4          ┆ 16         ┆ 4          ┆ 256       │\n",
       "│ 023c2c0001 ┆           ┆         ┆        ┆   ┆            ┆            ┆            ┆           │\n",
       "│ 0002       ┆           ┆         ┆        ┆   ┆            ┆            ┆            ┆           │\n",
       "│ 0164001700 ┆ true      ┆ 23.0    ┆ 745497 ┆ … ┆ 4          ┆ 16         ┆ 4          ┆ 256       │\n",
       "│ 023bf60000 ┆           ┆         ┆        ┆   ┆            ┆            ┆            ┆           │\n",
       "│ 0000       ┆           ┆         ┆        ┆   ┆            ┆            ┆            ┆           │\n",
       "│ 0064001800 ┆ true      ┆ 24.0    ┆ 745498 ┆ … ┆ 4          ┆ 16         ┆ 4          ┆ 256       │\n",
       "│ 023bf30000 ┆           ┆         ┆        ┆   ┆            ┆            ┆            ┆           │\n",
       "│ 0000       ┆           ┆         ┆        ┆   ┆            ┆            ┆            ┆           │\n",
       "│ 0064001800 ┆ true      ┆ 24.0    ┆ 745499 ┆ … ┆ 4          ┆ 16         ┆ 4          ┆ 256       │\n",
       "│ 023a430001 ┆           ┆         ┆        ┆   ┆            ┆            ┆            ┆           │\n",
       "│ 0002       ┆           ┆         ┆        ┆   ┆            ┆            ┆            ┆           │\n",
       "└────────────┴───────────┴─────────┴────────┴───┴────────────┴────────────┴────────────┴───────────┘"
      ]
     },
     "metadata": {},
     "output_type": "display_data"
    }
   ],
   "source": [
    "dfys = dfxs.with_columns(\n",
    "    netbencount_hexoffset=pl.lit(0, dtype=pl.UInt8),\n",
    "    netbencount_hexwidth=pl.lit(4, dtype=pl.UInt8),\n",
    "    mutator_hexoffset=pl.lit(4, dtype=pl.UInt8),\n",
    "    mutator_hexwidth=pl.lit(2, dtype=pl.UInt8),\n",
    "    delcount_hexoffset=pl.lit(6, dtype=pl.UInt8),\n",
    "    delcount_hexwidth=pl.lit(2, dtype=pl.UInt8),\n",
    "    counter_hexoffset=pl.lit(8, dtype=pl.UInt8),\n",
    "    counter_hexwidth=pl.lit(8, dtype=pl.UInt8),\n",
    "    snapshot_netbencount_hexoffset=pl.lit(16, dtype=pl.UInt8),\n",
    "    snapshot_netbencount_hexwidth=pl.lit(4, dtype=pl.UInt8),\n",
    "    snapshot_counter_hexoffset=pl.lit(20, dtype=pl.UInt8),\n",
    "    snapshot_counter_hexwidth=pl.lit(4, dtype=pl.UInt8),\n",
    "    snapshot_counter_dilation=pl.lit(256, dtype=pl.UInt16),\n",
    ").with_columns(\n",
    "    netbencount_hexoffset=correct_endianness(\"netbencount\"),\n",
    "    mutator_hexoffset=correct_endianness(\"mutator\"),\n",
    "    delcount_hexoffset=correct_endianness(\"delcount\"),\n",
    "    counter_hexoffset=correct_endianness(\"counter\"),\n",
    "    snapshot_netbencount_hexoffset=correct_endianness(\"snapshot_netbencount\"),\n",
    "    snapshot_counter_hexoffset=correct_endianness(\"snapshot_counter\"),\n",
    ")\n",
    "\n",
    "display(dfys.describe()), display(dfys.head()), display(dfys.tail());\n"
   ]
  },
  {
   "cell_type": "code",
   "execution_count": 8,
   "metadata": {
    "execution": {
     "iopub.execute_input": "2025-04-13T00:43:13.973202Z",
     "iopub.status.busy": "2025-04-13T00:43:13.972993Z",
     "iopub.status.idle": "2025-04-13T00:43:14.115487Z",
     "shell.execute_reply": "2025-04-13T00:43:14.114825Z"
    }
   },
   "outputs": [
    {
     "name": "stdout",
     "output_type": "stream",
     "text": [
      "dfys[\"data_hex\"].str.len_bytes().unique().item()=24\n",
      "dfys[\"delcount_hexoffset\"].unique().item()=0\n",
      "dfys[\"mutator_hexoffset\"].unique().item()=2\n",
      "dfys[\"snapshot_netbencount_hexoffset\"].unique().item()=20\n",
      "dfys[\"snapshot_counter_hexoffset\"].unique().item()=16\n"
     ]
    }
   ],
   "source": [
    "print(\n",
    "    f'{dfys[\"data_hex\"].str.len_bytes().unique().item()=}',\n",
    "    f'{dfys[\"delcount_hexoffset\"].unique().item()=}',\n",
    "    f'{dfys[\"mutator_hexoffset\"].unique().item()=}',\n",
    "    f'{dfys[\"snapshot_netbencount_hexoffset\"].unique().item()=}',\n",
    "    f'{dfys[\"snapshot_counter_hexoffset\"].unique().item()=}',\n",
    "    sep=\"\\n\",\n",
    ")\n"
   ]
  },
  {
   "cell_type": "code",
   "execution_count": 9,
   "metadata": {
    "execution": {
     "iopub.execute_input": "2025-04-13T00:43:14.117532Z",
     "iopub.status.busy": "2025-04-13T00:43:14.117321Z",
     "iopub.status.idle": "2025-04-13T00:43:15.282142Z",
     "shell.execute_reply": "2025-04-13T00:43:15.281525Z"
    }
   },
   "outputs": [
    {
     "data": {
      "text/html": [
       "<div><style>\n",
       ".dataframe > thead > tr,\n",
       ".dataframe > tbody > tr {\n",
       "  text-align: right;\n",
       "  white-space: pre-wrap;\n",
       "}\n",
       "</style>\n",
       "<small>shape: (22_365_000, 43)</small><table border=\"1\" class=\"dataframe\"><thead><tr><th>data_hex</th><th>is_extant</th><th>fitness</th><th>tile</th><th>row</th><th>col</th><th>genomeFlavor</th><th>globalSeed</th><th>nCol</th><th>nRow</th><th>nWav</th><th>nTrait</th><th>nCycle</th><th>nColSubgrid</th><th>nRowSubgrid</th><th>nonBlock</th><th>tilePopSize</th><th>tournSize</th><th>msec</th><th>tsc</th><th>replicate</th><th>_compconf_dummy</th><th>CEREBRASLIB_HYPERMUT_NUM_AVAIL_BEN_MUTS</th><th>CEREBRASLIB_TRAITLOGGER_NUM_BITS</th><th>CEREBRASLIB_TRAITLOGGER_DSTREAM_ALGO_NAME</th><th>CEREBRASLIB_TRAITLOGGER_DILATION</th><th>ASYNC_GA_GENOME_FLAVOR</th><th>netbencount_hexoffset</th><th>netbencount_hexwidth</th><th>mutator_hexoffset</th><th>mutator_hexwidth</th><th>delcount_hexoffset</th><th>delcount_hexwidth</th><th>counter_hexoffset</th><th>counter_hexwidth</th><th>snapshot_netbencount_hexoffset</th><th>snapshot_netbencount_hexwidth</th><th>snapshot_counter_hexoffset</th><th>snapshot_counter_hexwidth</th><th>snapshot_counter_dilation</th><th>mutator</th><th>snapshot_netbencount</th><th>snapshot_counter</th></tr><tr><td>str</td><td>bool</td><td>f32</td><td>u32</td><td>u16</td><td>u16</td><td>cat</td><td>u32</td><td>u16</td><td>u16</td><td>u8</td><td>u8</td><td>u32</td><td>u16</td><td>u16</td><td>bool</td><td>u16</td><td>f32</td><td>f32</td><td>u64</td><td>cat</td><td>u32</td><td>i16</td><td>u32</td><td>cat</td><td>u32</td><td>cat</td><td>u8</td><td>u8</td><td>u8</td><td>u8</td><td>u8</td><td>u8</td><td>u8</td><td>u8</td><td>u8</td><td>u8</td><td>u8</td><td>u8</td><td>u16</td><td>i64</td><td>i64</td><td>i64</td></tr></thead><tbody><tr><td>&quot;0001000c000238fdbeef0ace&quot;</td><td>true</td><td>12.0</td><td>0</td><td>0</td><td>0</td><td>&quot;genome_hypermutator_cappedxl_d…</td><td>1</td><td>750</td><td>994</td><td>3</td><td>2</td><td>150000</td><td>0</td><td>0</td><td>false</td><td>256</td><td>1.1</td><td>0.0</td><td>0</td><td>&quot;b8031b83-6701-4c28-ae06-465aa3…</td><td>42</td><td>12</td><td>256</td><td>&quot;hybrid_0_steady_1_stretched_2_…</td><td>8</td><td>&quot;genome_hypermutator_cappedxl_d…</td><td>4</td><td>4</td><td>2</td><td>2</td><td>0</td><td>2</td><td>8</td><td>8</td><td>20</td><td>4</td><td>16</td><td>4</td><td>256</td><td>1</td><td>2766</td><td>12513024</td></tr><tr><td>&quot;0001000c00023aedbeef0ace&quot;</td><td>true</td><td>12.0</td><td>1</td><td>0</td><td>1</td><td>&quot;genome_hypermutator_cappedxl_d…</td><td>1</td><td>750</td><td>994</td><td>3</td><td>2</td><td>150000</td><td>0</td><td>0</td><td>false</td><td>256</td><td>1.1</td><td>0.0</td><td>0</td><td>&quot;b8031b83-6701-4c28-ae06-465aa3…</td><td>42</td><td>12</td><td>256</td><td>&quot;hybrid_0_steady_1_stretched_2_…</td><td>8</td><td>&quot;genome_hypermutator_cappedxl_d…</td><td>4</td><td>4</td><td>2</td><td>2</td><td>0</td><td>2</td><td>8</td><td>8</td><td>20</td><td>4</td><td>16</td><td>4</td><td>256</td><td>1</td><td>2766</td><td>12513024</td></tr><tr><td>&quot;0001000c00023adebeef0ace&quot;</td><td>true</td><td>12.0</td><td>2</td><td>0</td><td>2</td><td>&quot;genome_hypermutator_cappedxl_d…</td><td>1</td><td>750</td><td>994</td><td>3</td><td>2</td><td>150000</td><td>0</td><td>0</td><td>false</td><td>256</td><td>1.1</td><td>0.0</td><td>0</td><td>&quot;b8031b83-6701-4c28-ae06-465aa3…</td><td>42</td><td>12</td><td>256</td><td>&quot;hybrid_0_steady_1_stretched_2_…</td><td>8</td><td>&quot;genome_hypermutator_cappedxl_d…</td><td>4</td><td>4</td><td>2</td><td>2</td><td>0</td><td>2</td><td>8</td><td>8</td><td>20</td><td>4</td><td>16</td><td>4</td><td>256</td><td>1</td><td>2766</td><td>12513024</td></tr><tr><td>&quot;0001000c00023adbbeef0ace&quot;</td><td>true</td><td>12.0</td><td>3</td><td>0</td><td>3</td><td>&quot;genome_hypermutator_cappedxl_d…</td><td>1</td><td>750</td><td>994</td><td>3</td><td>2</td><td>150000</td><td>0</td><td>0</td><td>false</td><td>256</td><td>1.1</td><td>0.0</td><td>0</td><td>&quot;b8031b83-6701-4c28-ae06-465aa3…</td><td>42</td><td>12</td><td>256</td><td>&quot;hybrid_0_steady_1_stretched_2_…</td><td>8</td><td>&quot;genome_hypermutator_cappedxl_d…</td><td>4</td><td>4</td><td>2</td><td>2</td><td>0</td><td>2</td><td>8</td><td>8</td><td>20</td><td>4</td><td>16</td><td>4</td><td>256</td><td>1</td><td>2766</td><td>12513024</td></tr><tr><td>&quot;0001000c00023ac4beef0ace&quot;</td><td>true</td><td>12.0</td><td>4</td><td>0</td><td>4</td><td>&quot;genome_hypermutator_cappedxl_d…</td><td>1</td><td>750</td><td>994</td><td>3</td><td>2</td><td>150000</td><td>0</td><td>0</td><td>false</td><td>256</td><td>1.1</td><td>0.0</td><td>0</td><td>&quot;b8031b83-6701-4c28-ae06-465aa3…</td><td>42</td><td>12</td><td>256</td><td>&quot;hybrid_0_steady_1_stretched_2_…</td><td>8</td><td>&quot;genome_hypermutator_cappedxl_d…</td><td>4</td><td>4</td><td>2</td><td>2</td><td>0</td><td>2</td><td>8</td><td>8</td><td>20</td><td>4</td><td>16</td><td>4</td><td>256</td><td>1</td><td>2766</td><td>12513024</td></tr><tr><td>&hellip;</td><td>&hellip;</td><td>&hellip;</td><td>&hellip;</td><td>&hellip;</td><td>&hellip;</td><td>&hellip;</td><td>&hellip;</td><td>&hellip;</td><td>&hellip;</td><td>&hellip;</td><td>&hellip;</td><td>&hellip;</td><td>&hellip;</td><td>&hellip;</td><td>&hellip;</td><td>&hellip;</td><td>&hellip;</td><td>&hellip;</td><td>&hellip;</td><td>&hellip;</td><td>&hellip;</td><td>&hellip;</td><td>&hellip;</td><td>&hellip;</td><td>&hellip;</td><td>&hellip;</td><td>&hellip;</td><td>&hellip;</td><td>&hellip;</td><td>&hellip;</td><td>&hellip;</td><td>&hellip;</td><td>&hellip;</td><td>&hellip;</td><td>&hellip;</td><td>&hellip;</td><td>&hellip;</td><td>&hellip;</td><td>&hellip;</td><td>&hellip;</td><td>&hellip;</td><td>&hellip;</td></tr><tr><td>&quot;0064001800023bfc00010002&quot;</td><td>true</td><td>24.0</td><td>745495</td><td>993</td><td>745</td><td>&quot;genome_hypermutator_cappedxl_d…</td><td>30</td><td>750</td><td>994</td><td>3</td><td>2</td><td>150000</td><td>0</td><td>0</td><td>false</td><td>256</td><td>1.1</td><td>0.0</td><td>0</td><td>&quot;beda3909-70f7-47da-a9d6-803c6e…</td><td>42</td><td>24</td><td>256</td><td>&quot;hybrid_0_steady_1_stretched_2_…</td><td>8</td><td>&quot;genome_hypermutator_cappedxl_d…</td><td>4</td><td>4</td><td>2</td><td>2</td><td>0</td><td>2</td><td>8</td><td>8</td><td>20</td><td>4</td><td>16</td><td>4</td><td>256</td><td>100</td><td>2</td><td>256</td></tr><tr><td>&quot;0064001800023c2c00010002&quot;</td><td>true</td><td>24.0</td><td>745496</td><td>993</td><td>746</td><td>&quot;genome_hypermutator_cappedxl_d…</td><td>30</td><td>750</td><td>994</td><td>3</td><td>2</td><td>150000</td><td>0</td><td>0</td><td>false</td><td>256</td><td>1.1</td><td>0.0</td><td>0</td><td>&quot;beda3909-70f7-47da-a9d6-803c6e…</td><td>42</td><td>24</td><td>256</td><td>&quot;hybrid_0_steady_1_stretched_2_…</td><td>8</td><td>&quot;genome_hypermutator_cappedxl_d…</td><td>4</td><td>4</td><td>2</td><td>2</td><td>0</td><td>2</td><td>8</td><td>8</td><td>20</td><td>4</td><td>16</td><td>4</td><td>256</td><td>100</td><td>2</td><td>256</td></tr><tr><td>&quot;0164001700023bf600000000&quot;</td><td>true</td><td>23.0</td><td>745497</td><td>993</td><td>747</td><td>&quot;genome_hypermutator_cappedxl_d…</td><td>30</td><td>750</td><td>994</td><td>3</td><td>2</td><td>150000</td><td>0</td><td>0</td><td>false</td><td>256</td><td>1.1</td><td>0.0</td><td>0</td><td>&quot;beda3909-70f7-47da-a9d6-803c6e…</td><td>42</td><td>24</td><td>256</td><td>&quot;hybrid_0_steady_1_stretched_2_…</td><td>8</td><td>&quot;genome_hypermutator_cappedxl_d…</td><td>4</td><td>4</td><td>2</td><td>2</td><td>0</td><td>2</td><td>8</td><td>8</td><td>20</td><td>4</td><td>16</td><td>4</td><td>256</td><td>100</td><td>0</td><td>0</td></tr><tr><td>&quot;0064001800023bf300000000&quot;</td><td>true</td><td>24.0</td><td>745498</td><td>993</td><td>748</td><td>&quot;genome_hypermutator_cappedxl_d…</td><td>30</td><td>750</td><td>994</td><td>3</td><td>2</td><td>150000</td><td>0</td><td>0</td><td>false</td><td>256</td><td>1.1</td><td>0.0</td><td>0</td><td>&quot;beda3909-70f7-47da-a9d6-803c6e…</td><td>42</td><td>24</td><td>256</td><td>&quot;hybrid_0_steady_1_stretched_2_…</td><td>8</td><td>&quot;genome_hypermutator_cappedxl_d…</td><td>4</td><td>4</td><td>2</td><td>2</td><td>0</td><td>2</td><td>8</td><td>8</td><td>20</td><td>4</td><td>16</td><td>4</td><td>256</td><td>100</td><td>0</td><td>0</td></tr><tr><td>&quot;0064001800023a4300010002&quot;</td><td>true</td><td>24.0</td><td>745499</td><td>993</td><td>749</td><td>&quot;genome_hypermutator_cappedxl_d…</td><td>30</td><td>750</td><td>994</td><td>3</td><td>2</td><td>150000</td><td>0</td><td>0</td><td>false</td><td>256</td><td>1.1</td><td>0.0</td><td>0</td><td>&quot;beda3909-70f7-47da-a9d6-803c6e…</td><td>42</td><td>24</td><td>256</td><td>&quot;hybrid_0_steady_1_stretched_2_…</td><td>8</td><td>&quot;genome_hypermutator_cappedxl_d…</td><td>4</td><td>4</td><td>2</td><td>2</td><td>0</td><td>2</td><td>8</td><td>8</td><td>20</td><td>4</td><td>16</td><td>4</td><td>256</td><td>100</td><td>2</td><td>256</td></tr></tbody></table></div>"
      ],
      "text/plain": [
       "shape: (22_365_000, 43)\n",
       "┌─────────────┬───────────┬─────────┬────────┬───┬─────────────┬─────────┬────────────┬────────────┐\n",
       "│ data_hex    ┆ is_extant ┆ fitness ┆ tile   ┆ … ┆ snapshot_co ┆ mutator ┆ snapshot_n ┆ snapshot_c │\n",
       "│ ---         ┆ ---       ┆ ---     ┆ ---    ┆   ┆ unter_dilat ┆ ---     ┆ etbencount ┆ ounter     │\n",
       "│ str         ┆ bool      ┆ f32     ┆ u32    ┆   ┆ ion         ┆ i64     ┆ ---        ┆ ---        │\n",
       "│             ┆           ┆         ┆        ┆   ┆ ---         ┆         ┆ i64        ┆ i64        │\n",
       "│             ┆           ┆         ┆        ┆   ┆ u16         ┆         ┆            ┆            │\n",
       "╞═════════════╪═══════════╪═════════╪════════╪═══╪═════════════╪═════════╪════════════╪════════════╡\n",
       "│ 0001000c000 ┆ true      ┆ 12.0    ┆ 0      ┆ … ┆ 256         ┆ 1       ┆ 2766       ┆ 12513024   │\n",
       "│ 238fdbeef0a ┆           ┆         ┆        ┆   ┆             ┆         ┆            ┆            │\n",
       "│ ce          ┆           ┆         ┆        ┆   ┆             ┆         ┆            ┆            │\n",
       "│ 0001000c000 ┆ true      ┆ 12.0    ┆ 1      ┆ … ┆ 256         ┆ 1       ┆ 2766       ┆ 12513024   │\n",
       "│ 23aedbeef0a ┆           ┆         ┆        ┆   ┆             ┆         ┆            ┆            │\n",
       "│ ce          ┆           ┆         ┆        ┆   ┆             ┆         ┆            ┆            │\n",
       "│ 0001000c000 ┆ true      ┆ 12.0    ┆ 2      ┆ … ┆ 256         ┆ 1       ┆ 2766       ┆ 12513024   │\n",
       "│ 23adebeef0a ┆           ┆         ┆        ┆   ┆             ┆         ┆            ┆            │\n",
       "│ ce          ┆           ┆         ┆        ┆   ┆             ┆         ┆            ┆            │\n",
       "│ 0001000c000 ┆ true      ┆ 12.0    ┆ 3      ┆ … ┆ 256         ┆ 1       ┆ 2766       ┆ 12513024   │\n",
       "│ 23adbbeef0a ┆           ┆         ┆        ┆   ┆             ┆         ┆            ┆            │\n",
       "│ ce          ┆           ┆         ┆        ┆   ┆             ┆         ┆            ┆            │\n",
       "│ 0001000c000 ┆ true      ┆ 12.0    ┆ 4      ┆ … ┆ 256         ┆ 1       ┆ 2766       ┆ 12513024   │\n",
       "│ 23ac4beef0a ┆           ┆         ┆        ┆   ┆             ┆         ┆            ┆            │\n",
       "│ ce          ┆           ┆         ┆        ┆   ┆             ┆         ┆            ┆            │\n",
       "│ …           ┆ …         ┆ …       ┆ …      ┆ … ┆ …           ┆ …       ┆ …          ┆ …          │\n",
       "│ 00640018000 ┆ true      ┆ 24.0    ┆ 745495 ┆ … ┆ 256         ┆ 100     ┆ 2          ┆ 256        │\n",
       "│ 23bfc000100 ┆           ┆         ┆        ┆   ┆             ┆         ┆            ┆            │\n",
       "│ 02          ┆           ┆         ┆        ┆   ┆             ┆         ┆            ┆            │\n",
       "│ 00640018000 ┆ true      ┆ 24.0    ┆ 745496 ┆ … ┆ 256         ┆ 100     ┆ 2          ┆ 256        │\n",
       "│ 23c2c000100 ┆           ┆         ┆        ┆   ┆             ┆         ┆            ┆            │\n",
       "│ 02          ┆           ┆         ┆        ┆   ┆             ┆         ┆            ┆            │\n",
       "│ 01640017000 ┆ true      ┆ 23.0    ┆ 745497 ┆ … ┆ 256         ┆ 100     ┆ 0          ┆ 0          │\n",
       "│ 23bf6000000 ┆           ┆         ┆        ┆   ┆             ┆         ┆            ┆            │\n",
       "│ 00          ┆           ┆         ┆        ┆   ┆             ┆         ┆            ┆            │\n",
       "│ 00640018000 ┆ true      ┆ 24.0    ┆ 745498 ┆ … ┆ 256         ┆ 100     ┆ 0          ┆ 0          │\n",
       "│ 23bf3000000 ┆           ┆         ┆        ┆   ┆             ┆         ┆            ┆            │\n",
       "│ 00          ┆           ┆         ┆        ┆   ┆             ┆         ┆            ┆            │\n",
       "│ 00640018000 ┆ true      ┆ 24.0    ┆ 745499 ┆ … ┆ 256         ┆ 100     ┆ 2          ┆ 256        │\n",
       "│ 23a43000100 ┆           ┆         ┆        ┆   ┆             ┆         ┆            ┆            │\n",
       "│ 02          ┆           ┆         ┆        ┆   ┆             ┆         ┆            ┆            │\n",
       "└─────────────┴───────────┴─────────┴────────┴───┴─────────────┴─────────┴────────────┴────────────┘"
      ]
     },
     "execution_count": 9,
     "metadata": {},
     "output_type": "execute_result"
    }
   ],
   "source": [
    "dfzs = dfys.with_columns(\n",
    "    mutator=pl.col(\"data_hex\")\n",
    "    .str.slice(\n",
    "        int(dfys[\"mutator_hexoffset\"].unique().item()),\n",
    "        int(dfys[\"mutator_hexwidth\"].unique().item()),\n",
    "    )\n",
    "    .str.to_integer(base=16),\n",
    "    snapshot_netbencount=pl.col(\"data_hex\")\n",
    "    .str.slice(\n",
    "        int(dfys[\"snapshot_netbencount_hexoffset\"].unique().item()),\n",
    "        int(dfys[\"snapshot_netbencount_hexwidth\"].unique().item()),\n",
    "    )\n",
    "    .str.to_integer(base=16),\n",
    "    snapshot_counter=pl.col(\"data_hex\")\n",
    "    .str.slice(\n",
    "        int(dfys[\"snapshot_counter_hexoffset\"].unique().item()),\n",
    "        int(dfys[\"snapshot_counter_hexwidth\"].unique().item()),\n",
    "    )\n",
    "    .str.to_integer(base=16),\n",
    ").with_columns(\n",
    "    snapshot_counter=pl.col(\"snapshot_counter\")\n",
    "    * pl.col(\"snapshot_counter_dilation\"),\n",
    ")\n",
    "dfzs\n"
   ]
  },
  {
   "cell_type": "code",
   "execution_count": 10,
   "metadata": {
    "execution": {
     "iopub.execute_input": "2025-04-13T00:43:15.284134Z",
     "iopub.status.busy": "2025-04-13T00:43:15.283774Z",
     "iopub.status.idle": "2025-04-13T00:43:15.342942Z",
     "shell.execute_reply": "2025-04-13T00:43:15.342355Z"
    }
   },
   "outputs": [],
   "source": [
    "assert set(dfzs[\"mutator\"].unique()) <= {1, 100}, dfzs[\"mutator\"].unique()\n"
   ]
  },
  {
   "cell_type": "code",
   "execution_count": 11,
   "metadata": {
    "execution": {
     "iopub.execute_input": "2025-04-13T00:43:15.345209Z",
     "iopub.status.busy": "2025-04-13T00:43:15.344987Z",
     "iopub.status.idle": "2025-04-13T00:43:15.398844Z",
     "shell.execute_reply": "2025-04-13T00:43:15.398259Z"
    }
   },
   "outputs": [],
   "source": [
    "df = dfzs.group_by(\"replicate\").first()\n"
   ]
  },
  {
   "cell_type": "markdown",
   "metadata": {},
   "source": [
    "## Plot Data\n"
   ]
  },
  {
   "cell_type": "code",
   "execution_count": 12,
   "metadata": {
    "execution": {
     "iopub.execute_input": "2025-04-13T00:43:15.401040Z",
     "iopub.status.busy": "2025-04-13T00:43:15.400852Z",
     "iopub.status.idle": "2025-04-13T00:43:16.167926Z",
     "shell.execute_reply": "2025-04-13T00:43:16.167265Z"
    }
   },
   "outputs": [
    {
     "name": "stdout",
     "output_type": "stream",
     "text": [
      "teeplots/dev-snap/viz=catplot+x=cerebraslib-hypermut-num-avail-ben-muts+y=snapshot-netbencount+ext=.pdf\n",
      "teeplots/dev-snap/viz=catplot+x=cerebraslib-hypermut-num-avail-ben-muts+y=snapshot-netbencount+ext=.png\n"
     ]
    },
    {
     "data": {
      "image/png": "[encoded data removed]",
      "text/plain": [
       "<Figure size 511.111x500 with 1 Axes>"
      ]
     },
     "metadata": {},
     "output_type": "display_data"
    }
   ],
   "source": [
    "with tp.teed(\n",
    "    sns.catplot,\n",
    "    data=df.filter(\n",
    "        pl.col(\"mutator\") == 100,\n",
    "    ),\n",
    "    x=\"CEREBRASLIB_HYPERMUT_NUM_AVAIL_BEN_MUTS\",\n",
    "    y=\"snapshot_netbencount\",\n",
    "    teeplot_subdir=teeplot_subdir,\n",
    ") as g:\n",
    "    pass\n"
   ]
  },
  {
   "cell_type": "code",
   "execution_count": 13,
   "metadata": {
    "execution": {
     "iopub.execute_input": "2025-04-13T00:43:16.170240Z",
     "iopub.status.busy": "2025-04-13T00:43:16.169788Z",
     "iopub.status.idle": "2025-04-13T00:43:17.391249Z",
     "shell.execute_reply": "2025-04-13T00:43:17.390636Z"
    }
   },
   "outputs": [
    {
     "name": "stdout",
     "output_type": "stream",
     "text": [
      "teeplots/dev-snap/col=cerebraslib-hypermut-num-avail-ben-muts+viz=catplot+y=snapshot-counter+ext=.pdf\n",
      "teeplots/dev-snap/col=cerebraslib-hypermut-num-avail-ben-muts+viz=catplot+y=snapshot-counter+ext=.png\n"
     ]
    },
    {
     "data": {
      "image/png": "[encoded data removed]",
      "text/plain": [
       "<Figure size 2011.11x500 with 4 Axes>"
      ]
     },
     "metadata": {},
     "output_type": "display_data"
    }
   ],
   "source": [
    "with tp.teed(\n",
    "    sns.catplot,\n",
    "    data=df.filter(\n",
    "        pl.col(\"mutator\") == 100,\n",
    "    ),\n",
    "    col=\"CEREBRASLIB_HYPERMUT_NUM_AVAIL_BEN_MUTS\",\n",
    "    y=\"snapshot_counter\",\n",
    "    teeplot_subdir=teeplot_subdir,\n",
    ") as g:\n",
    "    pass\n"
   ]
  }
 ],
 "metadata": {
  "kernelspec": {
   "display_name": "env310",
   "language": "python",
   "name": "python3"
  },
  "language_info": {
   "codemirror_mode": {
    "name": "ipython",
    "version": 3
   },
   "file_extension": ".py",
   "mimetype": "text/x-python",
   "name": "python",
   "nbconvert_exporter": "python",
   "pygments_lexer": "ipython3",
   "version": "3.10.12"
  }
 },
 "nbformat": 4,
 "nbformat_minor": 2
}
