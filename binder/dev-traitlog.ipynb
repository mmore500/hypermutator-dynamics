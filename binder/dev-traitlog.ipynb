{
 "cells": [
  {
   "cell_type": "code",
   "execution_count": 1,
   "metadata": {
    "execution": {
     "iopub.execute_input": "2025-03-13T16:32:53.878299Z",
     "iopub.status.busy": "2025-03-13T16:32:53.877835Z",
     "iopub.status.idle": "2025-03-13T16:32:53.891276Z",
     "shell.execute_reply": "2025-03-13T16:32:53.890816Z"
    }
   },
   "outputs": [],
   "source": [
    "%load_ext watermark\n"
   ]
  },
  {
   "cell_type": "code",
   "execution_count": 2,
   "metadata": {
    "execution": {
     "iopub.execute_input": "2025-03-13T16:32:53.892954Z",
     "iopub.status.busy": "2025-03-13T16:32:53.892769Z",
     "iopub.status.idle": "2025-03-13T16:32:56.751166Z",
     "shell.execute_reply": "2025-03-13T16:32:56.750526Z"
    }
   },
   "outputs": [],
   "source": [
    "import os\n",
    "\n",
    "import downstream\n",
    "import imageio\n",
    "from IPython.display import display\n",
    "import numpy as np\n",
    "import pandas as pd\n",
    "import polars as pl\n",
    "import seaborn as sns\n",
    "from teeplot import teeplot as tp\n",
    "from tqdm import tqdm\n",
    "\n",
    "from pylib.munge._addend_groups import addend_groups\n",
    "from pylib.munge._union_upsample import union_upsample\n",
    "from pylib.munge._squeeze import squeeze_int\n"
   ]
  },
  {
   "cell_type": "code",
   "execution_count": 3,
   "metadata": {
    "execution": {
     "iopub.execute_input": "2025-03-13T16:32:56.753571Z",
     "iopub.status.busy": "2025-03-13T16:32:56.753120Z",
     "iopub.status.idle": "2025-03-13T16:32:56.770254Z",
     "shell.execute_reply": "2025-03-13T16:32:56.769601Z"
    }
   },
   "outputs": [
    {
     "name": "stdout",
     "output_type": "stream",
     "text": [
      "Last updated: 2025-03-13T16:32:56.754680+00:00\n",
      "\n",
      "Python implementation: CPython\n",
      "Python version       : 3.10.12\n",
      "IPython version      : 7.31.1\n",
      "\n",
      "Compiler    : GCC 11.4.0\n",
      "OS          : Linux\n",
      "Release     : 6.8.0-1021-azure\n",
      "Machine     : x86_64\n",
      "Processor   : x86_64\n",
      "CPU cores   : 4\n",
      "Architecture: 64bit\n",
      "\n",
      "pandas    : 2.2.3\n",
      "seaborn   : 0.13.2\n",
      "numpy     : 2.1.2\n",
      "downstream: 1.6.2\n",
      "teeplot   : 1.2.0\n",
      "imageio   : 2.36.1\n",
      "polars    : 1.9.0\n",
      "\n",
      "Watermark: 2.4.3\n",
      "\n"
     ]
    }
   ],
   "source": [
    "%watermark -diwmuv -iv\n"
   ]
  },
  {
   "cell_type": "code",
   "execution_count": 4,
   "metadata": {
    "execution": {
     "iopub.execute_input": "2025-03-13T16:32:56.795521Z",
     "iopub.status.busy": "2025-03-13T16:32:56.795026Z",
     "iopub.status.idle": "2025-03-13T16:32:56.800608Z",
     "shell.execute_reply": "2025-03-13T16:32:56.800156Z"
    }
   },
   "outputs": [
    {
     "data": {
      "text/plain": [
       "'dev-traitlog'"
      ]
     },
     "execution_count": 4,
     "metadata": {},
     "output_type": "execute_result"
    }
   ],
   "source": [
    "teeplot_subdir = \"dev-traitlog\"\n",
    "teeplot_subdir\n"
   ]
  },
  {
   "cell_type": "markdown",
   "metadata": {},
   "source": [
    "## Prep Data\n"
   ]
  },
  {
   "cell_type": "code",
   "execution_count": 5,
   "metadata": {
    "execution": {
     "iopub.execute_input": "2025-03-13T16:32:56.802668Z",
     "iopub.status.busy": "2025-03-13T16:32:56.802252Z",
     "iopub.status.idle": "2025-03-13T16:33:14.780261Z",
     "shell.execute_reply": "2025-03-13T16:33:14.779734Z"
    }
   },
   "outputs": [
    {
     "data": {
      "text/html": [
       "<div><style>\n",
       ".dataframe > thead > tr,\n",
       ".dataframe > tbody > tr {\n",
       "  text-align: right;\n",
       "  white-space: pre-wrap;\n",
       "}\n",
       "</style>\n",
       "<small>shape: (9, 34)</small><table border=\"1\" class=\"dataframe\"><thead><tr><th>statistic</th><th>dstream_data_id</th><th>data_hex</th><th>tile</th><th>row</th><th>col</th><th>genomeFlavor</th><th>globalSeed</th><th>nCol</th><th>nRow</th><th>nWav</th><th>nTrait</th><th>nCycle</th><th>nColSubgrid</th><th>nRowSubgrid</th><th>nonBlock</th><th>tilePopSize</th><th>tournSize</th><th>msec</th><th>tsc</th><th>replicate</th><th>_compconf_dummy</th><th>CEREBRASLIB_HYPERMUT_NUM_AVAIL_BEN_MUTS</th><th>CEREBRASLIB_TRAITLOGGER_NUM_BITS</th><th>CEREBRASLIB_TRAITLOGGER_DSTREAM_ALGO_NAME</th><th>CEREBRASLIB_TRAITLOGGER_DILATION</th><th>ASYNC_GA_GENOME_FLAVOR</th><th>dstream_algo</th><th>dstream_storage_bitoffset</th><th>dstream_storage_bitwidth</th><th>dstream_S</th><th>dstream_T_bitoffset</th><th>dstream_T_bitwidth</th><th>trait_value</th></tr><tr><td>str</td><td>f64</td><td>str</td><td>f64</td><td>f64</td><td>f64</td><td>str</td><td>f64</td><td>f64</td><td>f64</td><td>f64</td><td>f64</td><td>f64</td><td>f64</td><td>f64</td><td>f64</td><td>f64</td><td>f64</td><td>f64</td><td>f64</td><td>str</td><td>f64</td><td>f64</td><td>f64</td><td>str</td><td>f64</td><td>str</td><td>str</td><td>f64</td><td>f64</td><td>f64</td><td>f64</td><td>f64</td><td>f64</td></tr></thead><tbody><tr><td>&quot;count&quot;</td><td>2.2365e7</td><td>&quot;22365000&quot;</td><td>2.2365e7</td><td>2.2365e7</td><td>2.2365e7</td><td>&quot;22365000&quot;</td><td>2.2365e7</td><td>2.2365e7</td><td>2.2365e7</td><td>2.2365e7</td><td>2.2365e7</td><td>2.2365e7</td><td>2.2365e7</td><td>2.2365e7</td><td>2.2365e7</td><td>2.2365e7</td><td>2.2365e7</td><td>2.2365e7</td><td>2.2365e7</td><td>&quot;22365000&quot;</td><td>2.2365e7</td><td>2.2365e7</td><td>2.2365e7</td><td>&quot;22365000&quot;</td><td>2.2365e7</td><td>&quot;22365000&quot;</td><td>&quot;22365000&quot;</td><td>2.2365e7</td><td>2.2365e7</td><td>2.2365e7</td><td>2.2365e7</td><td>2.2365e7</td><td>2.2365e7</td></tr><tr><td>&quot;null_count&quot;</td><td>0.0</td><td>&quot;0&quot;</td><td>0.0</td><td>0.0</td><td>0.0</td><td>&quot;0&quot;</td><td>0.0</td><td>0.0</td><td>0.0</td><td>0.0</td><td>0.0</td><td>0.0</td><td>0.0</td><td>0.0</td><td>0.0</td><td>0.0</td><td>0.0</td><td>0.0</td><td>0.0</td><td>&quot;0&quot;</td><td>0.0</td><td>0.0</td><td>0.0</td><td>&quot;0&quot;</td><td>0.0</td><td>&quot;0&quot;</td><td>&quot;0&quot;</td><td>0.0</td><td>0.0</td><td>0.0</td><td>0.0</td><td>0.0</td><td>0.0</td></tr><tr><td>&quot;mean&quot;</td><td>1.1182e7</td><td>null</td><td>372749.5</td><td>496.5</td><td>374.5</td><td>null</td><td>15.5</td><td>750.0</td><td>994.0</td><td>3.0</td><td>2.0</td><td>150000.0</td><td>0.0</td><td>0.0</td><td>0.0</td><td>256.0</td><td>1.1</td><td>0.0</td><td>0.0</td><td>null</td><td>42.0</td><td>18.0</td><td>256.0</td><td>null</td><td>8.0</td><td>null</td><td>null</td><td>0.0</td><td>256.0</td><td>256.0</td><td>256.0</td><td>32.0</td><td>0.0</td></tr><tr><td>&quot;std&quot;</td><td>6.4562e6</td><td>null</td><td>215207.317651</td><td>286.942945</td><td>216.506163</td><td>null</td><td>8.655442</td><td>0.0</td><td>0.0</td><td>0.0</td><td>0.0</td><td>0.0</td><td>0.0</td><td>0.0</td><td>null</td><td>0.0</td><td>0.0</td><td>0.0</td><td>0.0</td><td>null</td><td>0.0</td><td>4.242641</td><td>0.0</td><td>null</td><td>0.0</td><td>null</td><td>null</td><td>0.0</td><td>0.0</td><td>0.0</td><td>0.0</td><td>0.0</td><td>0.0</td></tr><tr><td>&quot;min&quot;</td><td>0.0</td><td>&quot;000000000000000000000000000000…</td><td>0.0</td><td>0.0</td><td>0.0</td><td>null</td><td>1.0</td><td>750.0</td><td>994.0</td><td>3.0</td><td>2.0</td><td>150000.0</td><td>0.0</td><td>0.0</td><td>0.0</td><td>256.0</td><td>1.1</td><td>0.0</td><td>0.0</td><td>null</td><td>42.0</td><td>12.0</td><td>256.0</td><td>null</td><td>8.0</td><td>null</td><td>null</td><td>0.0</td><td>256.0</td><td>256.0</td><td>256.0</td><td>32.0</td><td>0.0</td></tr><tr><td>&quot;25%&quot;</td><td>5.59125e6</td><td>null</td><td>186375.0</td><td>248.0</td><td>187.0</td><td>null</td><td>8.0</td><td>750.0</td><td>994.0</td><td>3.0</td><td>2.0</td><td>150000.0</td><td>0.0</td><td>0.0</td><td>null</td><td>256.0</td><td>1.1</td><td>0.0</td><td>0.0</td><td>null</td><td>42.0</td><td>15.0</td><td>256.0</td><td>null</td><td>8.0</td><td>null</td><td>null</td><td>0.0</td><td>256.0</td><td>256.0</td><td>256.0</td><td>32.0</td><td>0.0</td></tr><tr><td>&quot;50%&quot;</td><td>1.11825e7</td><td>null</td><td>372750.0</td><td>497.0</td><td>375.0</td><td>null</td><td>16.0</td><td>750.0</td><td>994.0</td><td>3.0</td><td>2.0</td><td>150000.0</td><td>0.0</td><td>0.0</td><td>null</td><td>256.0</td><td>1.1</td><td>0.0</td><td>0.0</td><td>null</td><td>42.0</td><td>18.0</td><td>256.0</td><td>null</td><td>8.0</td><td>null</td><td>null</td><td>0.0</td><td>256.0</td><td>256.0</td><td>256.0</td><td>32.0</td><td>0.0</td></tr><tr><td>&quot;75%&quot;</td><td>1.6773749e7</td><td>null</td><td>559124.0</td><td>745.0</td><td>562.0</td><td>null</td><td>23.0</td><td>750.0</td><td>994.0</td><td>3.0</td><td>2.0</td><td>150000.0</td><td>0.0</td><td>0.0</td><td>null</td><td>256.0</td><td>1.1</td><td>0.0</td><td>0.0</td><td>null</td><td>42.0</td><td>21.0</td><td>256.0</td><td>null</td><td>8.0</td><td>null</td><td>null</td><td>0.0</td><td>256.0</td><td>256.0</td><td>256.0</td><td>32.0</td><td>0.0</td></tr><tr><td>&quot;max&quot;</td><td>2.2364999e7</td><td>&quot;ffffffffffffffffffffffffffffff…</td><td>745499.0</td><td>993.0</td><td>749.0</td><td>null</td><td>30.0</td><td>750.0</td><td>994.0</td><td>3.0</td><td>2.0</td><td>150000.0</td><td>0.0</td><td>0.0</td><td>0.0</td><td>256.0</td><td>1.1</td><td>0.0</td><td>0.0</td><td>null</td><td>42.0</td><td>24.0</td><td>256.0</td><td>null</td><td>8.0</td><td>null</td><td>null</td><td>0.0</td><td>256.0</td><td>256.0</td><td>256.0</td><td>32.0</td><td>0.0</td></tr></tbody></table></div>"
      ],
      "text/plain": [
       "shape: (9, 34)\n",
       "┌───────────┬───────────┬───────────┬───────────┬───┬───────────┬───────────┬───────────┬──────────┐\n",
       "│ statistic ┆ dstream_d ┆ data_hex  ┆ tile      ┆ … ┆ dstream_S ┆ dstream_T ┆ dstream_T ┆ trait_va │\n",
       "│ ---       ┆ ata_id    ┆ ---       ┆ ---       ┆   ┆ ---       ┆ _bitoffse ┆ _bitwidth ┆ lue      │\n",
       "│ str       ┆ ---       ┆ str       ┆ f64       ┆   ┆ f64       ┆ t         ┆ ---       ┆ ---      │\n",
       "│           ┆ f64       ┆           ┆           ┆   ┆           ┆ ---       ┆ f64       ┆ f64      │\n",
       "│           ┆           ┆           ┆           ┆   ┆           ┆ f64       ┆           ┆          │\n",
       "╞═══════════╪═══════════╪═══════════╪═══════════╪═══╪═══════════╪═══════════╪═══════════╪══════════╡\n",
       "│ count     ┆ 2.2365e7  ┆ 22365000  ┆ 2.2365e7  ┆ … ┆ 2.2365e7  ┆ 2.2365e7  ┆ 2.2365e7  ┆ 2.2365e7 │\n",
       "│ null_coun ┆ 0.0       ┆ 0         ┆ 0.0       ┆ … ┆ 0.0       ┆ 0.0       ┆ 0.0       ┆ 0.0      │\n",
       "│ t         ┆           ┆           ┆           ┆   ┆           ┆           ┆           ┆          │\n",
       "│ mean      ┆ 1.1182e7  ┆ null      ┆ 372749.5  ┆ … ┆ 256.0     ┆ 256.0     ┆ 32.0      ┆ 0.0      │\n",
       "│ std       ┆ 6.4562e6  ┆ null      ┆ 215207.31 ┆ … ┆ 0.0       ┆ 0.0       ┆ 0.0       ┆ 0.0      │\n",
       "│           ┆           ┆           ┆ 7651      ┆   ┆           ┆           ┆           ┆          │\n",
       "│ min       ┆ 0.0       ┆ 000000000 ┆ 0.0       ┆ … ┆ 256.0     ┆ 256.0     ┆ 32.0      ┆ 0.0      │\n",
       "│           ┆           ┆ 000000000 ┆           ┆   ┆           ┆           ┆           ┆          │\n",
       "│           ┆           ┆ 000000000 ┆           ┆   ┆           ┆           ┆           ┆          │\n",
       "│           ┆           ┆ 000…      ┆           ┆   ┆           ┆           ┆           ┆          │\n",
       "│ 25%       ┆ 5.59125e6 ┆ null      ┆ 186375.0  ┆ … ┆ 256.0     ┆ 256.0     ┆ 32.0      ┆ 0.0      │\n",
       "│ 50%       ┆ 1.11825e7 ┆ null      ┆ 372750.0  ┆ … ┆ 256.0     ┆ 256.0     ┆ 32.0      ┆ 0.0      │\n",
       "│ 75%       ┆ 1.6773749 ┆ null      ┆ 559124.0  ┆ … ┆ 256.0     ┆ 256.0     ┆ 32.0      ┆ 0.0      │\n",
       "│           ┆ e7        ┆           ┆           ┆   ┆           ┆           ┆           ┆          │\n",
       "│ max       ┆ 2.2364999 ┆ fffffffff ┆ 745499.0  ┆ … ┆ 256.0     ┆ 256.0     ┆ 32.0      ┆ 0.0      │\n",
       "│           ┆ e7        ┆ fffffffff ┆           ┆   ┆           ┆           ┆           ┆          │\n",
       "│           ┆           ┆ fffffffff ┆           ┆   ┆           ┆           ┆           ┆          │\n",
       "│           ┆           ┆ fff…      ┆           ┆   ┆           ┆           ┆           ┆          │\n",
       "└───────────┴───────────┴───────────┴───────────┴───┴───────────┴───────────┴───────────┴──────────┘"
      ]
     },
     "metadata": {},
     "output_type": "display_data"
    },
    {
     "data": {
      "text/html": [
       "<div><style>\n",
       ".dataframe > thead > tr,\n",
       ".dataframe > tbody > tr {\n",
       "  text-align: right;\n",
       "  white-space: pre-wrap;\n",
       "}\n",
       "</style>\n",
       "<small>shape: (5, 33)</small><table border=\"1\" class=\"dataframe\"><thead><tr><th>dstream_data_id</th><th>data_hex</th><th>tile</th><th>row</th><th>col</th><th>genomeFlavor</th><th>globalSeed</th><th>nCol</th><th>nRow</th><th>nWav</th><th>nTrait</th><th>nCycle</th><th>nColSubgrid</th><th>nRowSubgrid</th><th>nonBlock</th><th>tilePopSize</th><th>tournSize</th><th>msec</th><th>tsc</th><th>replicate</th><th>_compconf_dummy</th><th>CEREBRASLIB_HYPERMUT_NUM_AVAIL_BEN_MUTS</th><th>CEREBRASLIB_TRAITLOGGER_NUM_BITS</th><th>CEREBRASLIB_TRAITLOGGER_DSTREAM_ALGO_NAME</th><th>CEREBRASLIB_TRAITLOGGER_DILATION</th><th>ASYNC_GA_GENOME_FLAVOR</th><th>dstream_algo</th><th>dstream_storage_bitoffset</th><th>dstream_storage_bitwidth</th><th>dstream_S</th><th>dstream_T_bitoffset</th><th>dstream_T_bitwidth</th><th>trait_value</th></tr><tr><td>u32</td><td>str</td><td>u32</td><td>u16</td><td>u16</td><td>cat</td><td>u32</td><td>u16</td><td>u16</td><td>u8</td><td>u8</td><td>u32</td><td>u16</td><td>u16</td><td>bool</td><td>u16</td><td>f32</td><td>f32</td><td>u64</td><td>cat</td><td>u32</td><td>i16</td><td>u32</td><td>cat</td><td>u32</td><td>cat</td><td>cat</td><td>u16</td><td>u16</td><td>u16</td><td>u16</td><td>u16</td><td>u16</td></tr></thead><tbody><tr><td>0</td><td>&quot;1e0e31ecccedb6dfffffffffffffff…</td><td>0</td><td>0</td><td>0</td><td>&quot;genome_hypermutator_cappedxl_d…</td><td>1</td><td>750</td><td>994</td><td>3</td><td>2</td><td>150000</td><td>0</td><td>0</td><td>false</td><td>256</td><td>1.1</td><td>0.0</td><td>0</td><td>&quot;b8031b83-6701-4c28-ae06-465aa3…</td><td>42</td><td>12</td><td>256</td><td>&quot;hybrid_0_steady_1_stretched_2_…</td><td>8</td><td>&quot;genome_hypermutator_cappedxl_d…</td><td>&quot;dstream.hybrid_0_steady_1_stre…</td><td>0</td><td>256</td><td>256</td><td>256</td><td>32</td><td>0</td></tr><tr><td>1</td><td>&quot;1e0e31ecccedb6dfffffffffffffff…</td><td>1</td><td>0</td><td>1</td><td>&quot;genome_hypermutator_cappedxl_d…</td><td>1</td><td>750</td><td>994</td><td>3</td><td>2</td><td>150000</td><td>0</td><td>0</td><td>false</td><td>256</td><td>1.1</td><td>0.0</td><td>0</td><td>&quot;b8031b83-6701-4c28-ae06-465aa3…</td><td>42</td><td>12</td><td>256</td><td>&quot;hybrid_0_steady_1_stretched_2_…</td><td>8</td><td>&quot;genome_hypermutator_cappedxl_d…</td><td>&quot;dstream.hybrid_0_steady_1_stre…</td><td>0</td><td>256</td><td>256</td><td>256</td><td>32</td><td>0</td></tr><tr><td>2</td><td>&quot;1e0e31ecccedb6dfffffffffffffff…</td><td>2</td><td>0</td><td>2</td><td>&quot;genome_hypermutator_cappedxl_d…</td><td>1</td><td>750</td><td>994</td><td>3</td><td>2</td><td>150000</td><td>0</td><td>0</td><td>false</td><td>256</td><td>1.1</td><td>0.0</td><td>0</td><td>&quot;b8031b83-6701-4c28-ae06-465aa3…</td><td>42</td><td>12</td><td>256</td><td>&quot;hybrid_0_steady_1_stretched_2_…</td><td>8</td><td>&quot;genome_hypermutator_cappedxl_d…</td><td>&quot;dstream.hybrid_0_steady_1_stre…</td><td>0</td><td>256</td><td>256</td><td>256</td><td>32</td><td>0</td></tr><tr><td>3</td><td>&quot;1e0e31ecccedb6dfffffffffffffff…</td><td>3</td><td>0</td><td>3</td><td>&quot;genome_hypermutator_cappedxl_d…</td><td>1</td><td>750</td><td>994</td><td>3</td><td>2</td><td>150000</td><td>0</td><td>0</td><td>false</td><td>256</td><td>1.1</td><td>0.0</td><td>0</td><td>&quot;b8031b83-6701-4c28-ae06-465aa3…</td><td>42</td><td>12</td><td>256</td><td>&quot;hybrid_0_steady_1_stretched_2_…</td><td>8</td><td>&quot;genome_hypermutator_cappedxl_d…</td><td>&quot;dstream.hybrid_0_steady_1_stre…</td><td>0</td><td>256</td><td>256</td><td>256</td><td>32</td><td>0</td></tr><tr><td>4</td><td>&quot;1e0e31ecccedb6dfffffffffffffff…</td><td>4</td><td>0</td><td>4</td><td>&quot;genome_hypermutator_cappedxl_d…</td><td>1</td><td>750</td><td>994</td><td>3</td><td>2</td><td>150000</td><td>0</td><td>0</td><td>false</td><td>256</td><td>1.1</td><td>0.0</td><td>0</td><td>&quot;b8031b83-6701-4c28-ae06-465aa3…</td><td>42</td><td>12</td><td>256</td><td>&quot;hybrid_0_steady_1_stretched_2_…</td><td>8</td><td>&quot;genome_hypermutator_cappedxl_d…</td><td>&quot;dstream.hybrid_0_steady_1_stre…</td><td>0</td><td>256</td><td>256</td><td>256</td><td>32</td><td>0</td></tr></tbody></table></div>"
      ],
      "text/plain": [
       "shape: (5, 33)\n",
       "┌─────────────┬─────────────┬──────┬─────┬───┬───────────┬─────────────┬─────────────┬─────────────┐\n",
       "│ dstream_dat ┆ data_hex    ┆ tile ┆ row ┆ … ┆ dstream_S ┆ dstream_T_b ┆ dstream_T_b ┆ trait_value │\n",
       "│ a_id        ┆ ---         ┆ ---  ┆ --- ┆   ┆ ---       ┆ itoffset    ┆ itwidth     ┆ ---         │\n",
       "│ ---         ┆ str         ┆ u32  ┆ u16 ┆   ┆ u16       ┆ ---         ┆ ---         ┆ u16         │\n",
       "│ u32         ┆             ┆      ┆     ┆   ┆           ┆ u16         ┆ u16         ┆             │\n",
       "╞═════════════╪═════════════╪══════╪═════╪═══╪═══════════╪═════════════╪═════════════╪═════════════╡\n",
       "│ 0           ┆ 1e0e31eccce ┆ 0    ┆ 0   ┆ … ┆ 256       ┆ 256         ┆ 32          ┆ 0           │\n",
       "│             ┆ db6dfffffff ┆      ┆     ┆   ┆           ┆             ┆             ┆             │\n",
       "│             ┆ ffffffff…   ┆      ┆     ┆   ┆           ┆             ┆             ┆             │\n",
       "│ 1           ┆ 1e0e31eccce ┆ 1    ┆ 0   ┆ … ┆ 256       ┆ 256         ┆ 32          ┆ 0           │\n",
       "│             ┆ db6dfffffff ┆      ┆     ┆   ┆           ┆             ┆             ┆             │\n",
       "│             ┆ ffffffff…   ┆      ┆     ┆   ┆           ┆             ┆             ┆             │\n",
       "│ 2           ┆ 1e0e31eccce ┆ 2    ┆ 0   ┆ … ┆ 256       ┆ 256         ┆ 32          ┆ 0           │\n",
       "│             ┆ db6dfffffff ┆      ┆     ┆   ┆           ┆             ┆             ┆             │\n",
       "│             ┆ ffffffff…   ┆      ┆     ┆   ┆           ┆             ┆             ┆             │\n",
       "│ 3           ┆ 1e0e31eccce ┆ 3    ┆ 0   ┆ … ┆ 256       ┆ 256         ┆ 32          ┆ 0           │\n",
       "│             ┆ db6dfffffff ┆      ┆     ┆   ┆           ┆             ┆             ┆             │\n",
       "│             ┆ ffffffff…   ┆      ┆     ┆   ┆           ┆             ┆             ┆             │\n",
       "│ 4           ┆ 1e0e31eccce ┆ 4    ┆ 0   ┆ … ┆ 256       ┆ 256         ┆ 32          ┆ 0           │\n",
       "│             ┆ db6dfffffff ┆      ┆     ┆   ┆           ┆             ┆             ┆             │\n",
       "│             ┆ ffffffff…   ┆      ┆     ┆   ┆           ┆             ┆             ┆             │\n",
       "└─────────────┴─────────────┴──────┴─────┴───┴───────────┴─────────────┴─────────────┴─────────────┘"
      ]
     },
     "metadata": {},
     "output_type": "display_data"
    },
    {
     "data": {
      "text/html": [
       "<div><style>\n",
       ".dataframe > thead > tr,\n",
       ".dataframe > tbody > tr {\n",
       "  text-align: right;\n",
       "  white-space: pre-wrap;\n",
       "}\n",
       "</style>\n",
       "<small>shape: (5, 33)</small><table border=\"1\" class=\"dataframe\"><thead><tr><th>dstream_data_id</th><th>data_hex</th><th>tile</th><th>row</th><th>col</th><th>genomeFlavor</th><th>globalSeed</th><th>nCol</th><th>nRow</th><th>nWav</th><th>nTrait</th><th>nCycle</th><th>nColSubgrid</th><th>nRowSubgrid</th><th>nonBlock</th><th>tilePopSize</th><th>tournSize</th><th>msec</th><th>tsc</th><th>replicate</th><th>_compconf_dummy</th><th>CEREBRASLIB_HYPERMUT_NUM_AVAIL_BEN_MUTS</th><th>CEREBRASLIB_TRAITLOGGER_NUM_BITS</th><th>CEREBRASLIB_TRAITLOGGER_DSTREAM_ALGO_NAME</th><th>CEREBRASLIB_TRAITLOGGER_DILATION</th><th>ASYNC_GA_GENOME_FLAVOR</th><th>dstream_algo</th><th>dstream_storage_bitoffset</th><th>dstream_storage_bitwidth</th><th>dstream_S</th><th>dstream_T_bitoffset</th><th>dstream_T_bitwidth</th><th>trait_value</th></tr><tr><td>u32</td><td>str</td><td>u32</td><td>u16</td><td>u16</td><td>cat</td><td>u32</td><td>u16</td><td>u16</td><td>u8</td><td>u8</td><td>u32</td><td>u16</td><td>u16</td><td>bool</td><td>u16</td><td>f32</td><td>f32</td><td>u64</td><td>cat</td><td>u32</td><td>i16</td><td>u32</td><td>cat</td><td>u32</td><td>cat</td><td>cat</td><td>u16</td><td>u16</td><td>u16</td><td>u16</td><td>u16</td><td>u16</td></tr></thead><tbody><tr><td>22364995</td><td>&quot;fcf39cccccd24924a0000000000000…</td><td>745495</td><td>993</td><td>745</td><td>&quot;genome_hypermutator_cappedxl_d…</td><td>30</td><td>750</td><td>994</td><td>3</td><td>2</td><td>150000</td><td>0</td><td>0</td><td>false</td><td>256</td><td>1.1</td><td>0.0</td><td>0</td><td>&quot;beda3909-70f7-47da-a9d6-803c6e…</td><td>42</td><td>24</td><td>256</td><td>&quot;hybrid_0_steady_1_stretched_2_…</td><td>8</td><td>&quot;genome_hypermutator_cappedxl_d…</td><td>&quot;dstream.hybrid_0_steady_1_stre…</td><td>0</td><td>256</td><td>256</td><td>256</td><td>32</td><td>0</td></tr><tr><td>22364996</td><td>&quot;fcf39cecccd24924a8000000000000…</td><td>745496</td><td>993</td><td>746</td><td>&quot;genome_hypermutator_cappedxl_d…</td><td>30</td><td>750</td><td>994</td><td>3</td><td>2</td><td>150000</td><td>0</td><td>0</td><td>false</td><td>256</td><td>1.1</td><td>0.0</td><td>0</td><td>&quot;beda3909-70f7-47da-a9d6-803c6e…</td><td>42</td><td>24</td><td>256</td><td>&quot;hybrid_0_steady_1_stretched_2_…</td><td>8</td><td>&quot;genome_hypermutator_cappedxl_d…</td><td>&quot;dstream.hybrid_0_steady_1_stre…</td><td>0</td><td>256</td><td>256</td><td>256</td><td>32</td><td>0</td></tr><tr><td>22364997</td><td>&quot;fcf3dcecccda4924a0000000000000…</td><td>745497</td><td>993</td><td>747</td><td>&quot;genome_hypermutator_cappedxl_d…</td><td>30</td><td>750</td><td>994</td><td>3</td><td>2</td><td>150000</td><td>0</td><td>0</td><td>false</td><td>256</td><td>1.1</td><td>0.0</td><td>0</td><td>&quot;beda3909-70f7-47da-a9d6-803c6e…</td><td>42</td><td>24</td><td>256</td><td>&quot;hybrid_0_steady_1_stretched_2_…</td><td>8</td><td>&quot;genome_hypermutator_cappedxl_d…</td><td>&quot;dstream.hybrid_0_steady_1_stre…</td><td>0</td><td>256</td><td>256</td><td>256</td><td>32</td><td>0</td></tr><tr><td>22364998</td><td>&quot;f8f39ccccc92492000000000000000…</td><td>745498</td><td>993</td><td>748</td><td>&quot;genome_hypermutator_cappedxl_d…</td><td>30</td><td>750</td><td>994</td><td>3</td><td>2</td><td>150000</td><td>0</td><td>0</td><td>false</td><td>256</td><td>1.1</td><td>0.0</td><td>0</td><td>&quot;beda3909-70f7-47da-a9d6-803c6e…</td><td>42</td><td>24</td><td>256</td><td>&quot;hybrid_0_steady_1_stretched_2_…</td><td>8</td><td>&quot;genome_hypermutator_cappedxl_d…</td><td>&quot;dstream.hybrid_0_steady_1_stre…</td><td>0</td><td>256</td><td>256</td><td>256</td><td>32</td><td>0</td></tr><tr><td>22364999</td><td>&quot;f8f39ccccc92492480000000000000…</td><td>745499</td><td>993</td><td>749</td><td>&quot;genome_hypermutator_cappedxl_d…</td><td>30</td><td>750</td><td>994</td><td>3</td><td>2</td><td>150000</td><td>0</td><td>0</td><td>false</td><td>256</td><td>1.1</td><td>0.0</td><td>0</td><td>&quot;beda3909-70f7-47da-a9d6-803c6e…</td><td>42</td><td>24</td><td>256</td><td>&quot;hybrid_0_steady_1_stretched_2_…</td><td>8</td><td>&quot;genome_hypermutator_cappedxl_d…</td><td>&quot;dstream.hybrid_0_steady_1_stre…</td><td>0</td><td>256</td><td>256</td><td>256</td><td>32</td><td>0</td></tr></tbody></table></div>"
      ],
      "text/plain": [
       "shape: (5, 33)\n",
       "┌─────────────┬─────────────┬────────┬─────┬───┬───────────┬─────────────┬────────────┬────────────┐\n",
       "│ dstream_dat ┆ data_hex    ┆ tile   ┆ row ┆ … ┆ dstream_S ┆ dstream_T_b ┆ dstream_T_ ┆ trait_valu │\n",
       "│ a_id        ┆ ---         ┆ ---    ┆ --- ┆   ┆ ---       ┆ itoffset    ┆ bitwidth   ┆ e          │\n",
       "│ ---         ┆ str         ┆ u32    ┆ u16 ┆   ┆ u16       ┆ ---         ┆ ---        ┆ ---        │\n",
       "│ u32         ┆             ┆        ┆     ┆   ┆           ┆ u16         ┆ u16        ┆ u16        │\n",
       "╞═════════════╪═════════════╪════════╪═════╪═══╪═══════════╪═════════════╪════════════╪════════════╡\n",
       "│ 22364995    ┆ fcf39cccccd ┆ 745495 ┆ 993 ┆ … ┆ 256       ┆ 256         ┆ 32         ┆ 0          │\n",
       "│             ┆ 24924a00000 ┆        ┆     ┆   ┆           ┆             ┆            ┆            │\n",
       "│             ┆ 00000000…   ┆        ┆     ┆   ┆           ┆             ┆            ┆            │\n",
       "│ 22364996    ┆ fcf39cecccd ┆ 745496 ┆ 993 ┆ … ┆ 256       ┆ 256         ┆ 32         ┆ 0          │\n",
       "│             ┆ 24924a80000 ┆        ┆     ┆   ┆           ┆             ┆            ┆            │\n",
       "│             ┆ 00000000…   ┆        ┆     ┆   ┆           ┆             ┆            ┆            │\n",
       "│ 22364997    ┆ fcf3dcecccd ┆ 745497 ┆ 993 ┆ … ┆ 256       ┆ 256         ┆ 32         ┆ 0          │\n",
       "│             ┆ a4924a00000 ┆        ┆     ┆   ┆           ┆             ┆            ┆            │\n",
       "│             ┆ 00000000…   ┆        ┆     ┆   ┆           ┆             ┆            ┆            │\n",
       "│ 22364998    ┆ f8f39ccccc9 ┆ 745498 ┆ 993 ┆ … ┆ 256       ┆ 256         ┆ 32         ┆ 0          │\n",
       "│             ┆ 24920000000 ┆        ┆     ┆   ┆           ┆             ┆            ┆            │\n",
       "│             ┆ 00000000…   ┆        ┆     ┆   ┆           ┆             ┆            ┆            │\n",
       "│ 22364999    ┆ f8f39ccccc9 ┆ 745499 ┆ 993 ┆ … ┆ 256       ┆ 256         ┆ 32         ┆ 0          │\n",
       "│             ┆ 24924800000 ┆        ┆     ┆   ┆           ┆             ┆            ┆            │\n",
       "│             ┆ 00000000…   ┆        ┆     ┆   ┆           ┆             ┆            ┆            │\n",
       "└─────────────┴─────────────┴────────┴─────┴───┴───────────┴─────────────┴────────────┴────────────┘"
      ]
     },
     "metadata": {},
     "output_type": "display_data"
    }
   ],
   "source": [
    "dfxs = pl.from_pandas(\n",
    "    pd.read_parquet(\"https://osf.io/349vr/download\"),\n",
    ").with_row_index(\n",
    "    \"dstream_data_id\",\n",
    ")\n",
    "display(dfxs.describe()), display(dfxs.head()), display(dfxs.tail());\n"
   ]
  },
  {
   "cell_type": "code",
   "execution_count": 6,
   "metadata": {
    "execution": {
     "iopub.execute_input": "2025-03-13T16:33:14.782181Z",
     "iopub.status.busy": "2025-03-13T16:33:14.781994Z",
     "iopub.status.idle": "2025-03-13T16:33:14.787890Z",
     "shell.execute_reply": "2025-03-13T16:33:14.787415Z"
    }
   },
   "outputs": [],
   "source": [
    "def unpack_logger_timeseries_data(df: pl.DataFrame) -> pl.DataFrame:\n",
    "\n",
    "    # sample every 64th tile\n",
    "    df = df.filter((pl.col(\"col\") % 8 == 0) & (pl.col(\"row\") % 8 == 0))\n",
    "\n",
    "    # unpack dstream data items from logger hex strings\n",
    "    dfu = downstream.dataframe.unpack_data_packed(df)\n",
    "    df = downstream.dataframe.explode_lookup_unpacked(\n",
    "        dfu.with_columns(\n",
    "            # fast forward loggers to at least dstream_S entries\n",
    "            # (i.e., buffer filled)\n",
    "            # these will be semantically-correct zero values\n",
    "            dstream_T=pl.max_horizontal(\n",
    "                pl.col(\"dstream_T\"), pl.col(\"dstream_S\")\n",
    "            ),\n",
    "        ),\n",
    "        value_type=\"uint8\",\n",
    "    )\n",
    "\n",
    "    # join metadata onto unpacked data\n",
    "    df = df.join(\n",
    "        dfu.select(\n",
    "            \"dstream_data_id\",\n",
    "            \"CEREBRASLIB_HYPERMUT_NUM_AVAIL_BEN_MUTS\",\n",
    "            \"CEREBRASLIB_TRAITLOGGER_DILATION\",\n",
    "            \"col\",\n",
    "            \"replicate\",\n",
    "            \"row\",\n",
    "            \"tile\",\n",
    "        ),\n",
    "        on=\"dstream_data_id\",\n",
    "    )\n",
    "\n",
    "    # apply dilation to dstream_T and dstream_Tbar\n",
    "    df = df.with_columns(\n",
    "        dstream_T=pl.col(\"dstream_T\")\n",
    "        * pl.col(\"CEREBRASLIB_TRAITLOGGER_DILATION\"),\n",
    "        dstream_Tbar=pl.col(\"dstream_Tbar\")\n",
    "        * pl.col(\"CEREBRASLIB_TRAITLOGGER_DILATION\"),\n",
    "    )\n",
    "\n",
    "    # addend time time series groups with final zero value entry\n",
    "    df = addend_groups(\n",
    "        df,\n",
    "        group_by=[\"replicate\", \"tile\"],\n",
    "        aggs=(\n",
    "            pl.col(\"CEREBRASLIB_HYPERMUT_NUM_AVAIL_BEN_MUTS\")\n",
    "            .unique()\n",
    "            .pipe(squeeze_int),\n",
    "            pl.col(\"col\").unique().pipe(squeeze_int),\n",
    "            (pl.col(\"dstream_Tbar\") + 1).max().alias(\"dstream_Tbar\"),\n",
    "            pl.lit(0).alias(\"dstream_value\"),\n",
    "            pl.col(\"row\").unique().pipe(squeeze_int),\n",
    "        ),\n",
    "        inner_only=True,\n",
    "    )\n",
    "\n",
    "    # upsample to fill in dstream_Tbar dropped by some loggers\n",
    "    # prevents ampling biases from longer-running vs shorter-running loggers\n",
    "    df = union_upsample(\n",
    "        df,\n",
    "        upsample=\"dstream_Tbar\",\n",
    "        group_by=\"tile\",\n",
    "        fill_null_ops=[\n",
    "            (pl.all(), {\"strategy\": \"forward\"}),\n",
    "            (pl.all(), {\"strategy\": \"zero\"}),\n",
    "        ],\n",
    "    )\n",
    "    assert len(df[\"dstream_Tbar\"].value_counts()[\"count\"].unique()) == 1\n",
    "\n",
    "    return df\n"
   ]
  },
  {
   "cell_type": "code",
   "execution_count": 7,
   "metadata": {
    "execution": {
     "iopub.execute_input": "2025-03-13T16:33:14.789621Z",
     "iopub.status.busy": "2025-03-13T16:33:14.789440Z",
     "iopub.status.idle": "2025-03-13T16:33:58.532242Z",
     "shell.execute_reply": "2025-03-13T16:33:58.531721Z"
    }
   },
   "outputs": [
    {
     "name": "stderr",
     "output_type": "stream",
     "text": [
      "0it [00:00, ?it/s]/usr/local/lib/python3.10/dist-packages/downstream/dataframe/_impl/_check_downstream_version.py:29: UserWarning: Dataframe downstream_version column not provided\n",
      "  warnings.warn(\n",
      "1it [00:01,  1.71s/it]/usr/local/lib/python3.10/dist-packages/downstream/dataframe/_impl/_check_downstream_version.py:29: UserWarning: Dataframe downstream_version column not provided\n",
      "  warnings.warn(\n",
      "2it [00:02,  1.46s/it]/usr/local/lib/python3.10/dist-packages/downstream/dataframe/_impl/_check_downstream_version.py:29: UserWarning: Dataframe downstream_version column not provided\n",
      "  warnings.warn(\n",
      "3it [00:04,  1.41s/it]/usr/local/lib/python3.10/dist-packages/downstream/dataframe/_impl/_check_downstream_version.py:29: UserWarning: Dataframe downstream_version column not provided\n",
      "  warnings.warn(\n",
      "4it [00:05,  1.38s/it]/usr/local/lib/python3.10/dist-packages/downstream/dataframe/_impl/_check_downstream_version.py:29: UserWarning: Dataframe downstream_version column not provided\n",
      "  warnings.warn(\n",
      "5it [00:07,  1.38s/it]/usr/local/lib/python3.10/dist-packages/downstream/dataframe/_impl/_check_downstream_version.py:29: UserWarning: Dataframe downstream_version column not provided\n",
      "  warnings.warn(\n",
      "6it [00:08,  1.47s/it]/usr/local/lib/python3.10/dist-packages/downstream/dataframe/_impl/_check_downstream_version.py:29: UserWarning: Dataframe downstream_version column not provided\n",
      "  warnings.warn(\n",
      "7it [00:10,  1.45s/it]/usr/local/lib/python3.10/dist-packages/downstream/dataframe/_impl/_check_downstream_version.py:29: UserWarning: Dataframe downstream_version column not provided\n",
      "  warnings.warn(\n",
      "8it [00:11,  1.46s/it]/usr/local/lib/python3.10/dist-packages/downstream/dataframe/_impl/_check_downstream_version.py:29: UserWarning: Dataframe downstream_version column not provided\n",
      "  warnings.warn(\n",
      "9it [00:12,  1.43s/it]/usr/local/lib/python3.10/dist-packages/downstream/dataframe/_impl/_check_downstream_version.py:29: UserWarning: Dataframe downstream_version column not provided\n",
      "  warnings.warn(\n",
      "10it [00:14,  1.42s/it]/usr/local/lib/python3.10/dist-packages/downstream/dataframe/_impl/_check_downstream_version.py:29: UserWarning: Dataframe downstream_version column not provided\n",
      "  warnings.warn(\n",
      "11it [00:15,  1.39s/it]/usr/local/lib/python3.10/dist-packages/downstream/dataframe/_impl/_check_downstream_version.py:29: UserWarning: Dataframe downstream_version column not provided\n",
      "  warnings.warn(\n",
      "12it [00:17,  1.38s/it]/usr/local/lib/python3.10/dist-packages/downstream/dataframe/_impl/_check_downstream_version.py:29: UserWarning: Dataframe downstream_version column not provided\n",
      "  warnings.warn(\n",
      "13it [00:18,  1.37s/it]/usr/local/lib/python3.10/dist-packages/downstream/dataframe/_impl/_check_downstream_version.py:29: UserWarning: Dataframe downstream_version column not provided\n",
      "  warnings.warn(\n",
      "14it [00:19,  1.36s/it]/usr/local/lib/python3.10/dist-packages/downstream/dataframe/_impl/_check_downstream_version.py:29: UserWarning: Dataframe downstream_version column not provided\n",
      "  warnings.warn(\n",
      "15it [00:21,  1.46s/it]/usr/local/lib/python3.10/dist-packages/downstream/dataframe/_impl/_check_downstream_version.py:29: UserWarning: Dataframe downstream_version column not provided\n",
      "  warnings.warn(\n",
      "16it [00:23,  1.54s/it]/usr/local/lib/python3.10/dist-packages/downstream/dataframe/_impl/_check_downstream_version.py:29: UserWarning: Dataframe downstream_version column not provided\n",
      "  warnings.warn(\n",
      "17it [00:24,  1.49s/it]/usr/local/lib/python3.10/dist-packages/downstream/dataframe/_impl/_check_downstream_version.py:29: UserWarning: Dataframe downstream_version column not provided\n",
      "  warnings.warn(\n",
      "18it [00:26,  1.54s/it]/usr/local/lib/python3.10/dist-packages/downstream/dataframe/_impl/_check_downstream_version.py:29: UserWarning: Dataframe downstream_version column not provided\n",
      "  warnings.warn(\n",
      "19it [00:27,  1.50s/it]/usr/local/lib/python3.10/dist-packages/downstream/dataframe/_impl/_check_downstream_version.py:29: UserWarning: Dataframe downstream_version column not provided\n",
      "  warnings.warn(\n",
      "20it [00:29,  1.50s/it]/usr/local/lib/python3.10/dist-packages/downstream/dataframe/_impl/_check_downstream_version.py:29: UserWarning: Dataframe downstream_version column not provided\n",
      "  warnings.warn(\n",
      "21it [00:30,  1.49s/it]/usr/local/lib/python3.10/dist-packages/downstream/dataframe/_impl/_check_downstream_version.py:29: UserWarning: Dataframe downstream_version column not provided\n",
      "  warnings.warn(\n",
      "22it [00:31,  1.45s/it]/usr/local/lib/python3.10/dist-packages/downstream/dataframe/_impl/_check_downstream_version.py:29: UserWarning: Dataframe downstream_version column not provided\n",
      "  warnings.warn(\n",
      "23it [00:33,  1.44s/it]/usr/local/lib/python3.10/dist-packages/downstream/dataframe/_impl/_check_downstream_version.py:29: UserWarning: Dataframe downstream_version column not provided\n",
      "  warnings.warn(\n",
      "24it [00:34,  1.47s/it]/usr/local/lib/python3.10/dist-packages/downstream/dataframe/_impl/_check_downstream_version.py:29: UserWarning: Dataframe downstream_version column not provided\n",
      "  warnings.warn(\n",
      "25it [00:36,  1.43s/it]/usr/local/lib/python3.10/dist-packages/downstream/dataframe/_impl/_check_downstream_version.py:29: UserWarning: Dataframe downstream_version column not provided\n",
      "  warnings.warn(\n",
      "26it [00:37,  1.45s/it]/usr/local/lib/python3.10/dist-packages/downstream/dataframe/_impl/_check_downstream_version.py:29: UserWarning: Dataframe downstream_version column not provided\n",
      "  warnings.warn(\n",
      "27it [00:39,  1.41s/it]/usr/local/lib/python3.10/dist-packages/downstream/dataframe/_impl/_check_downstream_version.py:29: UserWarning: Dataframe downstream_version column not provided\n",
      "  warnings.warn(\n",
      "28it [00:40,  1.50s/it]/usr/local/lib/python3.10/dist-packages/downstream/dataframe/_impl/_check_downstream_version.py:29: UserWarning: Dataframe downstream_version column not provided\n",
      "  warnings.warn(\n",
      "29it [00:42,  1.46s/it]/usr/local/lib/python3.10/dist-packages/downstream/dataframe/_impl/_check_downstream_version.py:29: UserWarning: Dataframe downstream_version column not provided\n",
      "  warnings.warn(\n",
      "30it [00:43,  1.46s/it]\n"
     ]
    }
   ],
   "source": [
    "res = []\n",
    "for _, df in tqdm(dfxs.group_by(\"replicate\")):\n",
    "    df = unpack_logger_timeseries_data(df)\n",
    "    res.append(df)\n",
    "\n",
    "df = pl.concat(res)\n"
   ]
  },
  {
   "cell_type": "markdown",
   "metadata": {},
   "source": [
    "## Plot Data\n"
   ]
  },
  {
   "cell_type": "code",
   "execution_count": 8,
   "metadata": {
    "execution": {
     "iopub.execute_input": "2025-03-13T16:33:58.534376Z",
     "iopub.status.busy": "2025-03-13T16:33:58.533932Z",
     "iopub.status.idle": "2025-03-13T16:34:11.544207Z",
     "shell.execute_reply": "2025-03-13T16:34:11.484572Z"
    }
   },
   "outputs": [],
   "source": [
    "# take the mean of dstream_value at each dstream_Tbar across tiles\n",
    "df_mean = df.group_by(\"replicate\", \"dstream_Tbar\").agg(\n",
    "    pl.col(\"dstream_value\").mean(),\n",
    "    pl.col(\"CEREBRASLIB_HYPERMUT_NUM_AVAIL_BEN_MUTS\")\n",
    "    .unique()\n",
    "    .pipe(squeeze_int),\n",
    ")\n"
   ]
  },
  {
   "cell_type": "code",
   "execution_count": 9,
   "metadata": {
    "execution": {
     "iopub.execute_input": "2025-03-13T16:34:11.753790Z",
     "iopub.status.busy": "2025-03-13T16:34:11.749546Z",
     "iopub.status.idle": "2025-03-13T16:34:24.936609Z",
     "shell.execute_reply": "2025-03-13T16:34:24.935961Z"
    }
   },
   "outputs": [
    {
     "name": "stderr",
     "output_type": "stream",
     "text": [
      "/usr/local/lib/python3.10/dist-packages/seaborn/axisgrid.py:123: UserWarning: Tight layout not applied. tight_layout cannot make Axes height small enough to accommodate all Axes decorations.\n",
      "  self._figure.tight_layout(*args, **kwargs)\n",
      "/usr/local/lib/python3.10/dist-packages/seaborn/axisgrid.py:123: UserWarning: Tight layout not applied. tight_layout cannot make Axes height small enough to accommodate all Axes decorations.\n",
      "  self._figure.tight_layout(*args, **kwargs)\n"
     ]
    },
    {
     "name": "stdout",
     "output_type": "stream",
     "text": [
      "teeplots/dev-traitlog/col=replicate-number+hue=replicate+kind=line+row=cerebraslib-hypermut-num-avail-ben-muts+viz=relplot+x=dstream-tbar+y=dstream-value+ext=.pdf\n",
      "teeplots/dev-traitlog/col=replicate-number+hue=replicate+kind=line+row=cerebraslib-hypermut-num-avail-ben-muts+viz=relplot+x=dstream-tbar+y=dstream-value+ext=.png\n"
     ]
    },
    {
     "data": {
      "image/png": "[encoded data removed]",
      "text/plain": [
       "<Figure size 1080x600 with 30 Axes>"
      ]
     },
     "metadata": {},
     "output_type": "display_data"
    }
   ],
   "source": [
    "with tp.teed(\n",
    "    sns.relplot,\n",
    "    data=df_mean.with_columns(\n",
    "        pl.col(\"replicate\")\n",
    "        .rank(method=\"dense\")\n",
    "        .over(\"CEREBRASLIB_HYPERMUT_NUM_AVAIL_BEN_MUTS\")\n",
    "        .cast(pl.Int32)\n",
    "        .alias(\"replicate number\")\n",
    "    ),\n",
    "    x=\"dstream_Tbar\",\n",
    "    y=\"dstream_value\",\n",
    "    hue=\"replicate\",\n",
    "    col=\"replicate number\",\n",
    "    row=\"CEREBRASLIB_HYPERMUT_NUM_AVAIL_BEN_MUTS\",\n",
    "    alpha=0.5,\n",
    "    aspect=1.5,\n",
    "    errorbar=None,\n",
    "    height=1.2,\n",
    "    linewidth=1,\n",
    "    legend=False,\n",
    "    kind=\"line\",\n",
    "    marker=\"d\",\n",
    "    markersize=4,\n",
    "    markers=True,\n",
    "    facet_kws=dict(margin_titles=True),\n",
    "    teeplot_subdir=teeplot_subdir,\n",
    "    teeplot_outexclude=[\"marker\"],\n",
    ") as g:\n",
    "    g.set(xlim=(10, 80000))\n",
    "    g.set(ylim=(0.00001, 2))\n",
    "    g.set_titles(\n",
    "        col_template=\"\",\n",
    "        row_template=\"{row_name} Avail\\nBen Muts\",\n",
    "    )\n",
    "    g.set_axis_labels(x_var=\"Generations\", y_var=\"Normomut\\nPrevalence\")\n",
    "    for ax in g.axes.flat:\n",
    "        ax.axhline(1, ls=\"--\", color=\"black\", linewidth=1, zorder=-10)\n",
    "        ax.set_yscale(\"log\")\n",
    "        ax.set_xscale(\"log\")\n"
   ]
  },
  {
   "cell_type": "markdown",
   "metadata": {},
   "source": [
    "## Animate Data\n"
   ]
  },
  {
   "cell_type": "code",
   "execution_count": 10,
   "metadata": {
    "execution": {
     "iopub.execute_input": "2025-03-13T16:34:24.960376Z",
     "iopub.status.busy": "2025-03-13T16:34:24.959961Z",
     "iopub.status.idle": "2025-03-13T16:35:53.759937Z",
     "shell.execute_reply": "2025-03-13T16:35:53.758737Z"
    }
   },
   "outputs": [
    {
     "name": "stderr",
     "output_type": "stream",
     "text": [
      "0it [00:00, ?it/s]"
     ]
    },
    {
     "name": "stdout",
     "output_type": "stream",
     "text": [
      "257\n"
     ]
    },
    {
     "name": "stderr",
     "output_type": "stream",
     "text": [
      "1it [00:11, 11.11s/it]"
     ]
    },
    {
     "name": "stdout",
     "output_type": "stream",
     "text": [
      "257\n"
     ]
    },
    {
     "name": "stderr",
     "output_type": "stream",
     "text": [
      "2it [00:13,  6.22s/it]"
     ]
    },
    {
     "name": "stdout",
     "output_type": "stream",
     "text": [
      "264\n"
     ]
    },
    {
     "name": "stderr",
     "output_type": "stream",
     "text": [
      "3it [00:16,  4.69s/it]"
     ]
    },
    {
     "name": "stdout",
     "output_type": "stream",
     "text": [
      "257\n"
     ]
    },
    {
     "name": "stderr",
     "output_type": "stream",
     "text": [
      "4it [00:19,  3.80s/it]"
     ]
    },
    {
     "name": "stdout",
     "output_type": "stream",
     "text": [
      "268\n"
     ]
    },
    {
     "name": "stderr",
     "output_type": "stream",
     "text": [
      "5it [00:22,  3.44s/it]"
     ]
    },
    {
     "name": "stdout",
     "output_type": "stream",
     "text": [
      "298\n"
     ]
    },
    {
     "name": "stderr",
     "output_type": "stream",
     "text": [
      "6it [00:25,  3.42s/it]"
     ]
    },
    {
     "name": "stdout",
     "output_type": "stream",
     "text": [
      "259\n"
     ]
    },
    {
     "name": "stderr",
     "output_type": "stream",
     "text": [
      "7it [00:28,  3.21s/it]"
     ]
    },
    {
     "name": "stdout",
     "output_type": "stream",
     "text": [
      "257\n"
     ]
    },
    {
     "name": "stderr",
     "output_type": "stream",
     "text": [
      "8it [00:30,  3.03s/it]"
     ]
    },
    {
     "name": "stdout",
     "output_type": "stream",
     "text": [
      "257\n"
     ]
    },
    {
     "name": "stderr",
     "output_type": "stream",
     "text": [
      "9it [00:33,  2.90s/it]"
     ]
    },
    {
     "name": "stdout",
     "output_type": "stream",
     "text": [
      "257\n"
     ]
    },
    {
     "name": "stderr",
     "output_type": "stream",
     "text": [
      "10it [00:36,  2.82s/it]"
     ]
    },
    {
     "name": "stdout",
     "output_type": "stream",
     "text": [
      "257\n"
     ]
    },
    {
     "name": "stderr",
     "output_type": "stream",
     "text": [
      "11it [00:38,  2.70s/it]"
     ]
    },
    {
     "name": "stdout",
     "output_type": "stream",
     "text": [
      "257\n"
     ]
    },
    {
     "name": "stderr",
     "output_type": "stream",
     "text": [
      "12it [00:41,  2.69s/it]"
     ]
    },
    {
     "name": "stdout",
     "output_type": "stream",
     "text": [
      "274\n"
     ]
    },
    {
     "name": "stderr",
     "output_type": "stream",
     "text": [
      "13it [00:44,  2.79s/it]"
     ]
    },
    {
     "name": "stdout",
     "output_type": "stream",
     "text": [
      "278\n"
     ]
    },
    {
     "name": "stderr",
     "output_type": "stream",
     "text": [
      "14it [00:46,  2.78s/it]"
     ]
    },
    {
     "name": "stdout",
     "output_type": "stream",
     "text": [
      "257\n"
     ]
    },
    {
     "name": "stderr",
     "output_type": "stream",
     "text": [
      "15it [00:49,  2.66s/it]"
     ]
    },
    {
     "name": "stdout",
     "output_type": "stream",
     "text": [
      "278\n"
     ]
    },
    {
     "name": "stderr",
     "output_type": "stream",
     "text": [
      "16it [00:52,  2.73s/it]"
     ]
    },
    {
     "name": "stdout",
     "output_type": "stream",
     "text": [
      "257\n"
     ]
    },
    {
     "name": "stderr",
     "output_type": "stream",
     "text": [
      "17it [00:54,  2.69s/it]"
     ]
    },
    {
     "name": "stdout",
     "output_type": "stream",
     "text": [
      "277\n"
     ]
    },
    {
     "name": "stderr",
     "output_type": "stream",
     "text": [
      "18it [00:57,  2.78s/it]"
     ]
    },
    {
     "name": "stdout",
     "output_type": "stream",
     "text": [
      "257\n"
     ]
    },
    {
     "name": "stderr",
     "output_type": "stream",
     "text": [
      "19it [01:00,  2.68s/it]"
     ]
    },
    {
     "name": "stdout",
     "output_type": "stream",
     "text": [
      "257\n"
     ]
    },
    {
     "name": "stderr",
     "output_type": "stream",
     "text": [
      "20it [01:02,  2.60s/it]"
     ]
    },
    {
     "name": "stdout",
     "output_type": "stream",
     "text": [
      "293\n"
     ]
    },
    {
     "name": "stderr",
     "output_type": "stream",
     "text": [
      "21it [01:05,  2.73s/it]"
     ]
    },
    {
     "name": "stdout",
     "output_type": "stream",
     "text": [
      "257\n"
     ]
    },
    {
     "name": "stderr",
     "output_type": "stream",
     "text": [
      "22it [01:08,  2.77s/it]"
     ]
    },
    {
     "name": "stdout",
     "output_type": "stream",
     "text": [
      "257\n"
     ]
    },
    {
     "name": "stderr",
     "output_type": "stream",
     "text": [
      "23it [01:11,  2.68s/it]"
     ]
    },
    {
     "name": "stdout",
     "output_type": "stream",
     "text": [
      "257\n"
     ]
    },
    {
     "name": "stderr",
     "output_type": "stream",
     "text": [
      "24it [01:13,  2.63s/it]"
     ]
    },
    {
     "name": "stdout",
     "output_type": "stream",
     "text": [
      "257\n"
     ]
    },
    {
     "name": "stderr",
     "output_type": "stream",
     "text": [
      "25it [01:15,  2.56s/it]"
     ]
    },
    {
     "name": "stdout",
     "output_type": "stream",
     "text": [
      "257\n"
     ]
    },
    {
     "name": "stderr",
     "output_type": "stream",
     "text": [
      "26it [01:18,  2.56s/it]"
     ]
    },
    {
     "name": "stdout",
     "output_type": "stream",
     "text": [
      "257\n"
     ]
    },
    {
     "name": "stderr",
     "output_type": "stream",
     "text": [
      "27it [01:21,  2.55s/it]"
     ]
    },
    {
     "name": "stdout",
     "output_type": "stream",
     "text": [
      "261\n"
     ]
    },
    {
     "name": "stderr",
     "output_type": "stream",
     "text": [
      "28it [01:23,  2.53s/it]"
     ]
    },
    {
     "name": "stdout",
     "output_type": "stream",
     "text": [
      "257\n"
     ]
    },
    {
     "name": "stderr",
     "output_type": "stream",
     "text": [
      "29it [01:25,  2.51s/it]"
     ]
    },
    {
     "name": "stdout",
     "output_type": "stream",
     "text": [
      "257\n"
     ]
    },
    {
     "name": "stderr",
     "output_type": "stream",
     "text": [
      "30it [01:28,  2.95s/it]\n"
     ]
    }
   ],
   "source": [
    "os.makedirs(teeplot_subdir, exist_ok=True)\n",
    "\n",
    "for (replicate, nmut), dfr in tqdm(\n",
    "    df.group_by(\"replicate\", \"CEREBRASLIB_HYPERMUT_NUM_AVAIL_BEN_MUTS\"),\n",
    "):\n",
    "    frames = []\n",
    "    for _, dff in dfr.sort(\"dstream_Tbar\").group_by(\n",
    "        \"dstream_Tbar\", maintain_order=True\n",
    "    ):\n",
    "\n",
    "        dff = dff.with_columns(\n",
    "            col_rank=pl.col(\"col\").rank(method=\"dense\").cast(pl.Int32) - 1,\n",
    "            row_rank=pl.col(\"row\").rank(method=\"dense\").cast(pl.Int32) - 1,\n",
    "        )\n",
    "\n",
    "        num_rows = dff[\"row_rank\"].max() + 1\n",
    "        num_cols = dff[\"col_rank\"].max() + 1\n",
    "\n",
    "        frame = np.empty((num_rows, num_cols), dtype=np.uint8)\n",
    "        frame[dff[\"row_rank\"], dff[\"col_rank\"]] = dff[\"dstream_value\"] * 255\n",
    "        frame = np.kron(frame, np.ones((4, 4), dtype=frame.dtype))\n",
    "        frames.append(frame)\n",
    "\n",
    "    print(len(frames))\n",
    "    outpath = f\"{teeplot_subdir}/a=traits+nmut={nmut}+rep={replicate}+ext=.gif\"\n",
    "    imageio.mimsave(outpath, frames, duration=0.2)\n"
   ]
  }
 ],
 "metadata": {
  "kernelspec": {
   "display_name": "env310",
   "language": "python",
   "name": "python3"
  },
  "language_info": {
   "codemirror_mode": {
    "name": "ipython",
    "version": 3
   },
   "file_extension": ".py",
   "mimetype": "text/x-python",
   "name": "python",
   "nbconvert_exporter": "python",
   "pygments_lexer": "ipython3",
   "version": "3.10.12"
  }
 },
 "nbformat": 4,
 "nbformat_minor": 2
}
