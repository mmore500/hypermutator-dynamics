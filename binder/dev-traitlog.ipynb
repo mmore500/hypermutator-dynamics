{
 "cells": [
  {
   "cell_type": "code",
   "execution_count": 1,
   "metadata": {
    "execution": {
     "iopub.execute_input": "2025-01-08T03:32:52.336010Z",
     "iopub.status.busy": "2025-01-08T03:32:52.335833Z",
     "iopub.status.idle": "2025-01-08T03:32:52.348629Z",
     "shell.execute_reply": "2025-01-08T03:32:52.348159Z"
    }
   },
   "outputs": [],
   "source": [
    "%load_ext watermark\n"
   ]
  },
  {
   "cell_type": "code",
   "execution_count": 2,
   "metadata": {
    "execution": {
     "iopub.execute_input": "2025-01-08T03:32:52.350475Z",
     "iopub.status.busy": "2025-01-08T03:32:52.350055Z",
     "iopub.status.idle": "2025-01-08T03:32:55.593244Z",
     "shell.execute_reply": "2025-01-08T03:32:55.592673Z"
    }
   },
   "outputs": [],
   "source": [
    "import itertools as it\n",
    "\n",
    "from IPython.display import display\n",
    "import numpy as np\n",
    "import pandas as pd\n",
    "import polars as pl\n",
    "import seaborn as sns\n",
    "from teeplot import teeplot as tp\n"
   ]
  },
  {
   "cell_type": "code",
   "execution_count": 3,
   "metadata": {
    "execution": {
     "iopub.execute_input": "2025-01-08T03:32:55.595445Z",
     "iopub.status.busy": "2025-01-08T03:32:55.595201Z",
     "iopub.status.idle": "2025-01-08T03:32:55.614532Z",
     "shell.execute_reply": "2025-01-08T03:32:55.613941Z"
    }
   },
   "outputs": [
    {
     "name": "stdout",
     "output_type": "stream",
     "text": [
      "Last updated: 2025-01-08T03:32:55.596488+00:00\n",
      "\n",
      "Python implementation: CPython\n",
      "Python version       : 3.10.12\n",
      "IPython version      : 7.31.1\n",
      "\n",
      "Compiler    : GCC 11.4.0\n",
      "OS          : Linux\n",
      "Release     : 6.5.0-1025-azure\n",
      "Machine     : x86_64\n",
      "Processor   : x86_64\n",
      "CPU cores   : 4\n",
      "Architecture: 64bit\n",
      "\n",
      "pandas : 2.2.3\n",
      "numpy  : 2.1.2\n",
      "polars : 1.9.0\n",
      "teeplot: 1.2.0\n",
      "seaborn: 0.13.2\n",
      "\n",
      "Watermark: 2.4.3\n",
      "\n"
     ]
    }
   ],
   "source": [
    "%watermark -diwmuv -iv\n"
   ]
  },
  {
   "cell_type": "code",
   "execution_count": 4,
   "metadata": {
    "execution": {
     "iopub.execute_input": "2025-01-08T03:32:55.640072Z",
     "iopub.status.busy": "2025-01-08T03:32:55.639716Z",
     "iopub.status.idle": "2025-01-08T03:32:55.645149Z",
     "shell.execute_reply": "2025-01-08T03:32:55.644686Z"
    }
   },
   "outputs": [
    {
     "data": {
      "text/plain": [
       "'dev-traitlog'"
      ]
     },
     "execution_count": 4,
     "metadata": {},
     "output_type": "execute_result"
    }
   ],
   "source": [
    "teeplot_subdir = \"dev-traitlog\"\n",
    "teeplot_subdir\n"
   ]
  },
  {
   "cell_type": "markdown",
   "metadata": {},
   "source": [
    "## Prep Data\n"
   ]
  },
  {
   "cell_type": "code",
   "execution_count": 5,
   "metadata": {
    "execution": {
     "iopub.execute_input": "2025-01-08T03:32:55.646916Z",
     "iopub.status.busy": "2025-01-08T03:32:55.646605Z",
     "iopub.status.idle": "2025-01-08T03:33:59.370741Z",
     "shell.execute_reply": "2025-01-08T03:33:59.353137Z"
    }
   },
   "outputs": [
    {
     "data": {
      "text/html": [
       "<div>\n",
       "<style scoped>\n",
       "    .dataframe tbody tr th:only-of-type {\n",
       "        vertical-align: middle;\n",
       "    }\n",
       "\n",
       "    .dataframe tbody tr th {\n",
       "        vertical-align: top;\n",
       "    }\n",
       "\n",
       "    .dataframe thead th {\n",
       "        text-align: right;\n",
       "    }\n",
       "</style>\n",
       "<table border=\"1\" class=\"dataframe\">\n",
       "  <thead>\n",
       "    <tr style=\"text-align: right;\">\n",
       "      <th></th>\n",
       "      <th>dstream_data_id</th>\n",
       "      <th>dstream_T</th>\n",
       "      <th>dstream_value_bitwidth</th>\n",
       "      <th>dstream_value</th>\n",
       "      <th>dstream_Tbar</th>\n",
       "    </tr>\n",
       "  </thead>\n",
       "  <tbody>\n",
       "    <tr>\n",
       "      <th>count</th>\n",
       "      <td>1.908480e+08</td>\n",
       "      <td>1.908480e+08</td>\n",
       "      <td>190848000.0</td>\n",
       "      <td>1.908480e+08</td>\n",
       "      <td>1.908480e+08</td>\n",
       "    </tr>\n",
       "    <tr>\n",
       "      <th>mean</th>\n",
       "      <td>3.727495e+05</td>\n",
       "      <td>5.000010e+05</td>\n",
       "      <td>1.0</td>\n",
       "      <td>9.781210e-01</td>\n",
       "      <td>2.469990e+05</td>\n",
       "    </tr>\n",
       "    <tr>\n",
       "      <th>std</th>\n",
       "      <td>2.152073e+05</td>\n",
       "      <td>1.380040e-02</td>\n",
       "      <td>0.0</td>\n",
       "      <td>1.462885e-01</td>\n",
       "      <td>1.433998e+05</td>\n",
       "    </tr>\n",
       "    <tr>\n",
       "      <th>min</th>\n",
       "      <td>0.000000e+00</td>\n",
       "      <td>4.999980e+05</td>\n",
       "      <td>1.0</td>\n",
       "      <td>0.000000e+00</td>\n",
       "      <td>1.023000e+03</td>\n",
       "    </tr>\n",
       "    <tr>\n",
       "      <th>25%</th>\n",
       "      <td>1.863748e+05</td>\n",
       "      <td>5.000010e+05</td>\n",
       "      <td>1.0</td>\n",
       "      <td>1.000000e+00</td>\n",
       "      <td>1.256950e+05</td>\n",
       "    </tr>\n",
       "    <tr>\n",
       "      <th>50%</th>\n",
       "      <td>3.727495e+05</td>\n",
       "      <td>5.000010e+05</td>\n",
       "      <td>1.0</td>\n",
       "      <td>1.000000e+00</td>\n",
       "      <td>2.503670e+05</td>\n",
       "    </tr>\n",
       "    <tr>\n",
       "      <th>75%</th>\n",
       "      <td>5.591242e+05</td>\n",
       "      <td>5.000010e+05</td>\n",
       "      <td>1.0</td>\n",
       "      <td>1.000000e+00</td>\n",
       "      <td>3.691510e+05</td>\n",
       "    </tr>\n",
       "    <tr>\n",
       "      <th>max</th>\n",
       "      <td>7.454990e+05</td>\n",
       "      <td>5.000010e+05</td>\n",
       "      <td>1.0</td>\n",
       "      <td>1.000000e+00</td>\n",
       "      <td>4.997110e+05</td>\n",
       "    </tr>\n",
       "  </tbody>\n",
       "</table>\n",
       "</div>"
      ],
      "text/plain": [
       "       dstream_data_id     dstream_T  dstream_value_bitwidth  dstream_value  \\\n",
       "count     1.908480e+08  1.908480e+08             190848000.0   1.908480e+08   \n",
       "mean      3.727495e+05  5.000010e+05                     1.0   9.781210e-01   \n",
       "std       2.152073e+05  1.380040e-02                     0.0   1.462885e-01   \n",
       "min       0.000000e+00  4.999980e+05                     1.0   0.000000e+00   \n",
       "25%       1.863748e+05  5.000010e+05                     1.0   1.000000e+00   \n",
       "50%       3.727495e+05  5.000010e+05                     1.0   1.000000e+00   \n",
       "75%       5.591242e+05  5.000010e+05                     1.0   1.000000e+00   \n",
       "max       7.454990e+05  5.000010e+05                     1.0   1.000000e+00   \n",
       "\n",
       "       dstream_Tbar  \n",
       "count  1.908480e+08  \n",
       "mean   2.469990e+05  \n",
       "std    1.433998e+05  \n",
       "min    1.023000e+03  \n",
       "25%    1.256950e+05  \n",
       "50%    2.503670e+05  \n",
       "75%    3.691510e+05  \n",
       "max    4.997110e+05  "
      ]
     },
     "metadata": {},
     "output_type": "display_data"
    },
    {
     "data": {
      "text/html": [
       "<div>\n",
       "<style scoped>\n",
       "    .dataframe tbody tr th:only-of-type {\n",
       "        vertical-align: middle;\n",
       "    }\n",
       "\n",
       "    .dataframe tbody tr th {\n",
       "        vertical-align: top;\n",
       "    }\n",
       "\n",
       "    .dataframe thead th {\n",
       "        text-align: right;\n",
       "    }\n",
       "</style>\n",
       "<table border=\"1\" class=\"dataframe\">\n",
       "  <thead>\n",
       "    <tr style=\"text-align: right;\">\n",
       "      <th></th>\n",
       "      <th>dstream_data_id</th>\n",
       "      <th>dstream_T</th>\n",
       "      <th>dstream_value_bitwidth</th>\n",
       "      <th>dstream_value</th>\n",
       "      <th>dstream_Tbar</th>\n",
       "    </tr>\n",
       "  </thead>\n",
       "  <tbody>\n",
       "    <tr>\n",
       "      <th>0</th>\n",
       "      <td>665144</td>\n",
       "      <td>499998</td>\n",
       "      <td>1</td>\n",
       "      <td>1</td>\n",
       "      <td>262143</td>\n",
       "    </tr>\n",
       "    <tr>\n",
       "      <th>1</th>\n",
       "      <td>665144</td>\n",
       "      <td>499998</td>\n",
       "      <td>1</td>\n",
       "      <td>1</td>\n",
       "      <td>1023</td>\n",
       "    </tr>\n",
       "    <tr>\n",
       "      <th>2</th>\n",
       "      <td>665144</td>\n",
       "      <td>499998</td>\n",
       "      <td>1</td>\n",
       "      <td>0</td>\n",
       "      <td>2047</td>\n",
       "    </tr>\n",
       "    <tr>\n",
       "      <th>3</th>\n",
       "      <td>665144</td>\n",
       "      <td>499998</td>\n",
       "      <td>1</td>\n",
       "      <td>0</td>\n",
       "      <td>4095</td>\n",
       "    </tr>\n",
       "    <tr>\n",
       "      <th>4</th>\n",
       "      <td>665144</td>\n",
       "      <td>499998</td>\n",
       "      <td>1</td>\n",
       "      <td>0</td>\n",
       "      <td>8191</td>\n",
       "    </tr>\n",
       "  </tbody>\n",
       "</table>\n",
       "</div>"
      ],
      "text/plain": [
       "   dstream_data_id  dstream_T  dstream_value_bitwidth  dstream_value  \\\n",
       "0           665144     499998                       1              1   \n",
       "1           665144     499998                       1              1   \n",
       "2           665144     499998                       1              0   \n",
       "3           665144     499998                       1              0   \n",
       "4           665144     499998                       1              0   \n",
       "\n",
       "   dstream_Tbar  \n",
       "0        262143  \n",
       "1          1023  \n",
       "2          2047  \n",
       "3          4095  \n",
       "4          8191  "
      ]
     },
     "metadata": {},
     "output_type": "display_data"
    },
    {
     "data": {
      "text/html": [
       "<div>\n",
       "<style scoped>\n",
       "    .dataframe tbody tr th:only-of-type {\n",
       "        vertical-align: middle;\n",
       "    }\n",
       "\n",
       "    .dataframe tbody tr th {\n",
       "        vertical-align: top;\n",
       "    }\n",
       "\n",
       "    .dataframe thead th {\n",
       "        text-align: right;\n",
       "    }\n",
       "</style>\n",
       "<table border=\"1\" class=\"dataframe\">\n",
       "  <thead>\n",
       "    <tr style=\"text-align: right;\">\n",
       "      <th></th>\n",
       "      <th>dstream_data_id</th>\n",
       "      <th>dstream_T</th>\n",
       "      <th>dstream_value_bitwidth</th>\n",
       "      <th>dstream_value</th>\n",
       "      <th>dstream_Tbar</th>\n",
       "    </tr>\n",
       "  </thead>\n",
       "  <tbody>\n",
       "    <tr>\n",
       "      <th>190847995</th>\n",
       "      <td>745499</td>\n",
       "      <td>500001</td>\n",
       "      <td>1</td>\n",
       "      <td>1</td>\n",
       "      <td>252927</td>\n",
       "    </tr>\n",
       "    <tr>\n",
       "      <th>190847996</th>\n",
       "      <td>745499</td>\n",
       "      <td>500001</td>\n",
       "      <td>1</td>\n",
       "      <td>1</td>\n",
       "      <td>254975</td>\n",
       "    </tr>\n",
       "    <tr>\n",
       "      <th>190847997</th>\n",
       "      <td>745499</td>\n",
       "      <td>500001</td>\n",
       "      <td>1</td>\n",
       "      <td>1</td>\n",
       "      <td>257023</td>\n",
       "    </tr>\n",
       "    <tr>\n",
       "      <th>190847998</th>\n",
       "      <td>745499</td>\n",
       "      <td>500001</td>\n",
       "      <td>1</td>\n",
       "      <td>1</td>\n",
       "      <td>259071</td>\n",
       "    </tr>\n",
       "    <tr>\n",
       "      <th>190847999</th>\n",
       "      <td>745499</td>\n",
       "      <td>500001</td>\n",
       "      <td>1</td>\n",
       "      <td>1</td>\n",
       "      <td>261119</td>\n",
       "    </tr>\n",
       "  </tbody>\n",
       "</table>\n",
       "</div>"
      ],
      "text/plain": [
       "           dstream_data_id  dstream_T  dstream_value_bitwidth  dstream_value  \\\n",
       "190847995           745499     500001                       1              1   \n",
       "190847996           745499     500001                       1              1   \n",
       "190847997           745499     500001                       1              1   \n",
       "190847998           745499     500001                       1              1   \n",
       "190847999           745499     500001                       1              1   \n",
       "\n",
       "           dstream_Tbar  \n",
       "190847995        252927  \n",
       "190847996        254975  \n",
       "190847997        257023  \n",
       "190847998        259071  \n",
       "190847999        261119  "
      ]
     },
     "metadata": {},
     "output_type": "display_data"
    }
   ],
   "source": [
    "dfxs = pd.read_parquet(\"https://osf.io/utsgn/download\")\n",
    "display(dfxs.describe()), display(dfxs.head()), display(dfxs.tail());\n"
   ]
  }
 ],
 "metadata": {
  "kernelspec": {
   "display_name": "env310",
   "language": "python",
   "name": "python3"
  },
  "language_info": {
   "codemirror_mode": {
    "name": "ipython",
    "version": 3
   },
   "file_extension": ".py",
   "mimetype": "text/x-python",
   "name": "python",
   "nbconvert_exporter": "python",
   "pygments_lexer": "ipython3",
   "version": "3.10.12"
  }
 },
 "nbformat": 4,
 "nbformat_minor": 2
}
