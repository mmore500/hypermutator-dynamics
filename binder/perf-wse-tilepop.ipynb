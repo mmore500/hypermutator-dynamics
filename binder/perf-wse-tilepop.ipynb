{
 "cells": [
  {
   "cell_type": "code",
   "execution_count": null,
   "metadata": {},
   "outputs": [],
   "source": [
    "%load_ext watermark\n"
   ]
  },
  {
   "cell_type": "code",
   "execution_count": null,
   "metadata": {},
   "outputs": [],
   "source": [
    "from IPython.display import display\n",
    "from backstrip import backplot\n",
    "from matplotlib import ticker as mpl_ticker\n",
    "import polars as pl\n",
    "import seaborn as sns\n",
    "from teeplot import teeplot as tp\n"
   ]
  },
  {
   "cell_type": "code",
   "execution_count": null,
   "metadata": {},
   "outputs": [],
   "source": [
    "%watermark -diwmuv -iv\n"
   ]
  },
  {
   "cell_type": "markdown",
   "metadata": {},
   "source": [
    "## Prep Data\n"
   ]
  },
  {
   "cell_type": "code",
   "execution_count": null,
   "metadata": {},
   "outputs": [],
   "source": [
    "df = pl.concat(\n",
    "    [\n",
    "        # pl.read_parquet(\n",
    "        #     \"https://osf.io/3nxh4/download\",\n",
    "        #     # [\n",
    "        #     #     \"https://osf.io/3nxh4/download\",\n",
    "        #     #     \"https://osf.io/6tj37/download\",\n",
    "        #     #     \"https://osf.io/q96rk/download\",\n",
    "        #     #     \"https://osf.io/e6fmt/download\",\n",
    "        #     #     \"https://osf.io/avypr/download\",\n",
    "        #     # ],\n",
    "        #     use_pyarrow=True,\n",
    "        # ).filter(\n",
    "        #     pl.col(\"tile\") == 749 * 993 - 1\n",
    "        # ).with_columns(\n",
    "        #     pl.lit(\"WSE CS-2\").alias(\"hardware\"),\n",
    "        #     pl.lit(\"50/50 poisson\").alias(\"experiment design\"),\n",
    "        #     pl.lit(32 * 750 * 994).alias(\"net population size\")\n",
    "        # ),\n",
    "        pl.read_parquet(\n",
    "            \"https://osf.io/vh9pb/download\",\n",
    "            use_pyarrow=True,\n",
    "        )\n",
    "        .filter(pl.col(\"tile\") == 749 * 993 - 1)\n",
    "        .with_columns(\n",
    "            pl.lit(\"WSE CS-2\").alias(\"hardware\"),\n",
    "            pl.lit(\"50/50 poisson\").alias(\"experiment design\"),\n",
    "            pl.lit(256 * 750 * 994).alias(\"net population size\"),\n",
    "        ),\n",
    "        pl.read_parquet(\n",
    "            \"https://osf.io/sx92b/download\",\n",
    "            # [\n",
    "            #     \"https://osf.io/sx92b/download\",\n",
    "            #     \"https://osf.io/ebtgm/download\",\n",
    "            #     \"https://osf.io/jndbw/download\",\n",
    "            #     \"https://osf.io/wq4bt/download\",\n",
    "            #     \"https://osf.io/qsv4j/download\",\n",
    "            #     \"https://osf.io/s8cq3/download\",\n",
    "            # ],\n",
    "            use_pyarrow=True,\n",
    "        )\n",
    "        .filter(pl.col(\"tile\") == 749 * 993 - 1)\n",
    "        .with_columns(\n",
    "            pl.lit(\"WSE CS-2\").alias(\"hardware\"),\n",
    "            pl.lit(\"50/50 poisson\").alias(\"experiment design\"),\n",
    "            pl.lit(2048 * 750 * 994).alias(\"net population size\"),\n",
    "        ),\n",
    "        pl.read_parquet(\n",
    "            \"https://osf.io/ebtgm/download\",\n",
    "            use_pyarrow=True,\n",
    "        )\n",
    "        .filter(pl.col(\"tile\") == 749 * 993 - 1)\n",
    "        .with_columns(\n",
    "            pl.lit(\"WSE CS-2\").alias(\"hardware\"),\n",
    "            pl.lit(\"50/50 poisson\").alias(\"experiment design\"),\n",
    "            pl.lit(2048 * 750 * 994).alias(\"net population size\"),\n",
    "        ),\n",
    "        pl.read_parquet(\n",
    "            \"https://osf.io/jndbw/download\",\n",
    "            use_pyarrow=True,\n",
    "        )\n",
    "        .filter(pl.col(\"tile\") == 749 * 993 - 1)\n",
    "        .with_columns(\n",
    "            pl.lit(\"WSE CS-2\").alias(\"hardware\"),\n",
    "            pl.lit(\"50/50 poisson\").alias(\"experiment design\"),\n",
    "            pl.lit(2048 * 750 * 994).alias(\"net population size\"),\n",
    "        ),\n",
    "        pl.read_parquet(\n",
    "            \"https://osf.io/wq4bt/download\",\n",
    "            use_pyarrow=True,\n",
    "        )\n",
    "        .filter(pl.col(\"tile\") == 749 * 993 - 1)\n",
    "        .with_columns(\n",
    "            pl.lit(\"WSE CS-2\").alias(\"hardware\"),\n",
    "            pl.lit(\"50/50 poisson\").alias(\"experiment design\"),\n",
    "            pl.lit(2048 * 750 * 994).alias(\"net population size\"),\n",
    "        ),\n",
    "        pl.read_parquet(\n",
    "            \"https://osf.io/qsv4j/download\",\n",
    "            use_pyarrow=True,\n",
    "        )\n",
    "        .filter(pl.col(\"tile\") == 749 * 993 - 1)\n",
    "        .with_columns(\n",
    "            pl.lit(\"WSE CS-2\").alias(\"hardware\"),\n",
    "            pl.lit(\"50/50 poisson\").alias(\"experiment design\"),\n",
    "            pl.lit(2048 * 750 * 994).alias(\"net population size\"),\n",
    "        ),\n",
    "        pl.read_parquet(\n",
    "            \"https://osf.io/s8cq3/download\",\n",
    "            use_pyarrow=True,\n",
    "        )\n",
    "        .filter(pl.col(\"tile\") == 749 * 993 - 1)\n",
    "        .with_columns(\n",
    "            pl.lit(\"WSE CS-2\").alias(\"hardware\"),\n",
    "            pl.lit(\"50/50 poisson\").alias(\"experiment design\"),\n",
    "            pl.lit(2048 * 750 * 994).alias(\"net population size\"),\n",
    "        ),\n",
    "    ],\n",
    "    how=\"diagonal_relaxed\",\n",
    ")\n"
   ]
  },
  {
   "cell_type": "code",
   "execution_count": null,
   "metadata": {},
   "outputs": [],
   "source": [
    "df = df.with_columns(\n",
    "    (pl.col(\"net population size\") / pl.col(\"tsc seconds per cycle\")).alias(\n",
    "        \"throughput (agent-generations/sec)\"\n",
    "    ),\n",
    ").with_columns(\n",
    "    pl.col(\"net population size\")\n",
    "    .map_elements(\n",
    "        lambda x: f\"${x:.2e} }}$\".replace(\"e+\", r\"\\!\\!\\times\\!\\!10^{\"),\n",
    "        return_dtype=pl.String,\n",
    "    )\n",
    "    .alias(\"net population\"),\n",
    ")\n",
    "display(df)\n",
    "display(df.describe())\n"
   ]
  },
  {
   "cell_type": "markdown",
   "metadata": {},
   "source": [
    "## Throughput\n"
   ]
  },
  {
   "cell_type": "code",
   "execution_count": null,
   "metadata": {},
   "outputs": [],
   "source": [
    "saveit, g = tp.tee(\n",
    "    backplot,\n",
    "    data=df.to_pandas(),\n",
    "    x=\"throughput (agent-generations/sec)\",\n",
    "    hue=\"net population\",\n",
    "    hue_order=sorted(df[\"net population\"].unique(), key=float),\n",
    "    col=\"experiment design\",\n",
    "    aspect=2.0,\n",
    "    height=1.7,\n",
    "    orient=\"h\",\n",
    "    # log_scale=(True, False),\n",
    "    palette=sns.color_palette(\"Pastel1\"),\n",
    "    sharex=False,\n",
    "    sharey=False,\n",
    "    teeplot_callback=True,\n",
    ")\n",
    "\n",
    "for ax in g.axes.flat:\n",
    "    ax.xaxis.set_major_formatter(\n",
    "        mpl_ticker.FuncFormatter(\n",
    "            lambda x, _: f\"${x:.1e} }}$\".replace(\"e+\", r\"\\!\\!\\times\\!\\!10^{\"),\n",
    "        ),\n",
    "    )\n",
    "\n",
    "saveit()\n"
   ]
  },
  {
   "cell_type": "markdown",
   "metadata": {},
   "source": [
    "## Speed and Througnhput\n"
   ]
  },
  {
   "cell_type": "code",
   "execution_count": null,
   "metadata": {},
   "outputs": [],
   "source": [
    "df.group_by(\"hardware\", \"experiment design\", \"net population size\",).agg(\n",
    "    pl.col(\"throughput (agent-generations/sec)\")\n",
    "    .mean()\n",
    "    .alias(\"mean_throughput\"),\n",
    "    pl.col(\"throughput (agent-generations/sec)\").std().alias(\"std_throughput\"),\n",
    "    pl.col(\"tsc cycle hertz\").mean().alias(\"mean_speed\"),\n",
    "    pl.col(\"tsc cycle hertz\").std().alias(\"std_speed\"),\n",
    ")\n"
   ]
  }
 ],
 "metadata": {
  "kernelspec": {
   "display_name": "Python 3",
   "language": "python",
   "name": "python3"
  },
  "language_info": {
   "codemirror_mode": {
    "name": "ipython",
    "version": 3
   },
   "file_extension": ".py",
   "mimetype": "text/x-python",
   "name": "python",
   "nbconvert_exporter": "python",
   "pygments_lexer": "ipython3"
  }
 },
 "nbformat": 4,
 "nbformat_minor": 2
}
