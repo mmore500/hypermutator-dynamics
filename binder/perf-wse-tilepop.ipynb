{
 "cells": [
  {
   "cell_type": "code",
   "execution_count": 1,
   "metadata": {
    "execution": {
     "iopub.execute_input": "2025-03-31T18:17:21.640064Z",
     "iopub.status.busy": "2025-03-31T18:17:21.639877Z",
     "iopub.status.idle": "2025-03-31T18:17:21.653355Z",
     "shell.execute_reply": "2025-03-31T18:17:21.652773Z"
    }
   },
   "outputs": [],
   "source": [
    "%load_ext watermark\n"
   ]
  },
  {
   "cell_type": "code",
   "execution_count": 2,
   "metadata": {
    "execution": {
     "iopub.execute_input": "2025-03-31T18:17:21.655368Z",
     "iopub.status.busy": "2025-03-31T18:17:21.655035Z",
     "iopub.status.idle": "2025-03-31T18:17:25.065689Z",
     "shell.execute_reply": "2025-03-31T18:17:25.065094Z"
    }
   },
   "outputs": [],
   "source": [
    "from IPython.display import display\n",
    "from backstrip import backplot\n",
    "from matplotlib import ticker as mpl_ticker\n",
    "import polars as pl\n",
    "import seaborn as sns\n",
    "from teeplot import teeplot as tp\n"
   ]
  },
  {
   "cell_type": "code",
   "execution_count": 3,
   "metadata": {
    "execution": {
     "iopub.execute_input": "2025-03-31T18:17:25.067850Z",
     "iopub.status.busy": "2025-03-31T18:17:25.067562Z",
     "iopub.status.idle": "2025-03-31T18:17:25.081669Z",
     "shell.execute_reply": "2025-03-31T18:17:25.081099Z"
    }
   },
   "outputs": [
    {
     "name": "stdout",
     "output_type": "stream",
     "text": [
      "Last updated: 2025-03-31T18:17:25.068881+00:00\n",
      "\n",
      "Python implementation: CPython\n",
      "Python version       : 3.10.12\n",
      "IPython version      : 7.31.1\n",
      "\n",
      "Compiler    : GCC 11.4.0\n",
      "OS          : Linux\n",
      "Release     : 6.8.0-1021-azure\n",
      "Machine     : x86_64\n",
      "Processor   : x86_64\n",
      "CPU cores   : 4\n",
      "Architecture: 64bit\n",
      "\n",
      "polars    : 1.9.0\n",
      "seaborn   : 0.13.2\n",
      "teeplot   : 1.2.0\n",
      "matplotlib: 3.9.2\n",
      "\n",
      "Watermark: 2.4.3\n",
      "\n"
     ]
    }
   ],
   "source": [
    "%watermark -diwmuv -iv\n"
   ]
  },
  {
   "cell_type": "markdown",
   "metadata": {},
   "source": [
    "## Prep Data\n"
   ]
  },
  {
   "cell_type": "code",
   "execution_count": 4,
   "metadata": {
    "execution": {
     "iopub.execute_input": "2025-03-31T18:17:25.107911Z",
     "iopub.status.busy": "2025-03-31T18:17:25.107695Z",
     "iopub.status.idle": "2025-03-31T18:18:19.964164Z",
     "shell.execute_reply": "2025-03-31T18:18:19.963457Z"
    }
   },
   "outputs": [],
   "source": [
    "df = pl.concat(\n",
    "    [\n",
    "        # pl.read_parquet(\n",
    "        #     \"https://osf.io/3nxh4/download\",\n",
    "        #     # [\n",
    "        #     #     \"https://osf.io/3nxh4/download\",\n",
    "        #     #     \"https://osf.io/6tj37/download\",\n",
    "        #     #     \"https://osf.io/q96rk/download\",\n",
    "        #     #     \"https://osf.io/e6fmt/download\",\n",
    "        #     #     \"https://osf.io/avypr/download\",\n",
    "        #     # ],\n",
    "        #     use_pyarrow=True,\n",
    "        # ).filter(\n",
    "        #     pl.col(\"tile\") == 749 * 993 - 1\n",
    "        # ).with_columns(\n",
    "        #     pl.lit(\"WSE CS-2\").alias(\"hardware\"),\n",
    "        #     pl.lit(\"50/50 counter-based\").alias(\"experiment design\"),\n",
    "        #     pl.lit(32 * 750 * 994).alias(\"net population size\")\n",
    "        # ),\n",
    "        pl.read_parquet(\n",
    "            \"https://osf.io/vh9pb/download\",\n",
    "            use_pyarrow=True,\n",
    "        )\n",
    "        .filter(pl.col(\"tile\") == 749 * 993 - 1)\n",
    "        .with_columns(\n",
    "            pl.lit(\"WSE CS-2\").alias(\"hardware\"),\n",
    "            pl.lit(\"50/50 counter-based\").alias(\"experiment design\"),\n",
    "            pl.lit(256 * 750 * 994).alias(\"net population size\"),\n",
    "        ),\n",
    "        pl.read_parquet(\n",
    "            \"https://osf.io/sx92b/download\",\n",
    "            # [\n",
    "            #     \"https://osf.io/sx92b/download\",\n",
    "            #     \"https://osf.io/ebtgm/download\",\n",
    "            #     \"https://osf.io/jndbw/download\",\n",
    "            #     \"https://osf.io/wq4bt/download\",\n",
    "            #     \"https://osf.io/qsv4j/download\",\n",
    "            #     \"https://osf.io/s8cq3/download\",\n",
    "            # ],\n",
    "            use_pyarrow=True,\n",
    "        )\n",
    "        .filter(pl.col(\"tile\") == 749 * 993 - 1)\n",
    "        .with_columns(\n",
    "            pl.lit(\"WSE CS-2\").alias(\"hardware\"),\n",
    "            pl.lit(\"50/50 counter-based\").alias(\"experiment design\"),\n",
    "            pl.lit(2048 * 750 * 994).alias(\"net population size\"),\n",
    "        ),\n",
    "        pl.read_parquet(\n",
    "            \"https://osf.io/ebtgm/download\",\n",
    "            use_pyarrow=True,\n",
    "        )\n",
    "        .filter(pl.col(\"tile\") == 749 * 993 - 1)\n",
    "        .with_columns(\n",
    "            pl.lit(\"WSE CS-2\").alias(\"hardware\"),\n",
    "            pl.lit(\"50/50 counter-based\").alias(\"experiment design\"),\n",
    "            pl.lit(2048 * 750 * 994).alias(\"net population size\"),\n",
    "        ),\n",
    "        pl.read_parquet(\n",
    "            \"https://osf.io/jndbw/download\",\n",
    "            use_pyarrow=True,\n",
    "        )\n",
    "        .filter(pl.col(\"tile\") == 749 * 993 - 1)\n",
    "        .with_columns(\n",
    "            pl.lit(\"WSE CS-2\").alias(\"hardware\"),\n",
    "            pl.lit(\"50/50 counter-based\").alias(\"experiment design\"),\n",
    "            pl.lit(2048 * 750 * 994).alias(\"net population size\"),\n",
    "        ),\n",
    "        pl.read_parquet(\n",
    "            \"https://osf.io/wq4bt/download\",\n",
    "            use_pyarrow=True,\n",
    "        )\n",
    "        .filter(pl.col(\"tile\") == 749 * 993 - 1)\n",
    "        .with_columns(\n",
    "            pl.lit(\"WSE CS-2\").alias(\"hardware\"),\n",
    "            pl.lit(\"50/50 counter-based\").alias(\"experiment design\"),\n",
    "            pl.lit(2048 * 750 * 994).alias(\"net population size\"),\n",
    "        ),\n",
    "        pl.read_parquet(\n",
    "            \"https://osf.io/qsv4j/download\",\n",
    "            use_pyarrow=True,\n",
    "        )\n",
    "        .filter(pl.col(\"tile\") == 749 * 993 - 1)\n",
    "        .with_columns(\n",
    "            pl.lit(\"WSE CS-2\").alias(\"hardware\"),\n",
    "            pl.lit(\"50/50 counter-based\").alias(\"experiment design\"),\n",
    "            pl.lit(2048 * 750 * 994).alias(\"net population size\"),\n",
    "        ),\n",
    "        pl.read_parquet(\n",
    "            \"https://osf.io/s8cq3/download\",\n",
    "            use_pyarrow=True,\n",
    "        )\n",
    "        .filter(pl.col(\"tile\") == 749 * 993 - 1)\n",
    "        .with_columns(\n",
    "            pl.lit(\"WSE CS-2\").alias(\"hardware\"),\n",
    "            pl.lit(\"50/50 counter-based\").alias(\"experiment design\"),\n",
    "            pl.lit(2048 * 750 * 994).alias(\"net population size\"),\n",
    "        ),\n",
    "    ],\n",
    "    how=\"diagonal_relaxed\",\n",
    ")\n"
   ]
  },
  {
   "cell_type": "code",
   "execution_count": 5,
   "metadata": {
    "execution": {
     "iopub.execute_input": "2025-03-31T18:18:19.967030Z",
     "iopub.status.busy": "2025-03-31T18:18:19.966584Z",
     "iopub.status.idle": "2025-03-31T18:18:19.998863Z",
     "shell.execute_reply": "2025-03-31T18:18:19.998254Z"
    }
   },
   "outputs": [
    {
     "data": {
      "text/html": [
       "<div><style>\n",
       ".dataframe > thead > tr,\n",
       ".dataframe > tbody > tr {\n",
       "  text-align: right;\n",
       "  white-space: pre-wrap;\n",
       "}\n",
       "</style>\n",
       "<small>shape: (66, 26)</small><table border=\"1\" class=\"dataframe\"><thead><tr><th>tsc ticks</th><th>tsc seconds</th><th>tsc seconds per cycle</th><th>tsc cycle hertz</th><th>tsc ns per cycle</th><th>recv sum</th><th>send sum</th><th>cycle count</th><th>tsc start</th><th>tsc end</th><th>send N</th><th>send S</th><th>send E</th><th>send W</th><th>recv N</th><th>recv S</th><th>recv E</th><th>recv W</th><th>tile</th><th>row</th><th>col</th><th>hardware</th><th>experiment design</th><th>net population size</th><th>throughput (agent-generations/sec)</th><th>net population</th></tr><tr><td>u64</td><td>f32</td><td>f32</td><td>f32</td><td>f32</td><td>u32</td><td>u32</td><td>u32</td><td>u64</td><td>u64</td><td>u32</td><td>u32</td><td>u32</td><td>u32</td><td>u32</td><td>u32</td><td>u32</td><td>u32</td><td>u32</td><td>u16</td><td>u16</td><td>str</td><td>str</td><td>i32</td><td>f64</td><td>str</td></tr></thead><tbody><tr><td>100556096187</td><td>118.301292</td><td>0.000237</td><td>4226.496582</td><td>236602.578125</td><td>1000004</td><td>4000008</td><td>500000</td><td>35409</td><td>100556131596</td><td>1000002</td><td>1000002</td><td>1000002</td><td>1000002</td><td>250001</td><td>250001</td><td>250001</td><td>250001</td><td>743756</td><td>991</td><td>506</td><td>&quot;WSE CS-2&quot;</td><td>&quot;50/50 counter-based&quot;</td><td>190848000</td><td>8.0662e11</td><td>&quot;$1.91\\!\\!\\times\\!\\!10^{08 }$&quot;</td></tr><tr><td>97343932661</td><td>114.52227</td><td>0.000229</td><td>4365.962891</td><td>229044.546875</td><td>1000001</td><td>4000008</td><td>500000</td><td>35409</td><td>97343968070</td><td>1000002</td><td>1000002</td><td>1000002</td><td>1000002</td><td>250000</td><td>250000</td><td>250000</td><td>250001</td><td>743756</td><td>991</td><td>506</td><td>&quot;WSE CS-2&quot;</td><td>&quot;50/50 counter-based&quot;</td><td>190848000</td><td>8.3324e11</td><td>&quot;$1.91\\!\\!\\times\\!\\!10^{08 }$&quot;</td></tr><tr><td>103518809824</td><td>121.786835</td><td>0.000244</td><td>4105.53418</td><td>243573.671875</td><td>1000004</td><td>4000008</td><td>500000</td><td>35409</td><td>103518845233</td><td>1000002</td><td>1000002</td><td>1000002</td><td>1000002</td><td>250001</td><td>250001</td><td>250001</td><td>250001</td><td>743756</td><td>991</td><td>506</td><td>&quot;WSE CS-2&quot;</td><td>&quot;50/50 counter-based&quot;</td><td>190848000</td><td>7.8353e11</td><td>&quot;$1.91\\!\\!\\times\\!\\!10^{08 }$&quot;</td></tr><tr><td>94024082523</td><td>110.61657</td><td>0.000221</td><td>4520.118652</td><td>221233.140625</td><td>1000003</td><td>4000008</td><td>500000</td><td>35408</td><td>94024117931</td><td>1000002</td><td>1000002</td><td>1000002</td><td>1000002</td><td>250001</td><td>250001</td><td>250001</td><td>250000</td><td>743756</td><td>991</td><td>506</td><td>&quot;WSE CS-2&quot;</td><td>&quot;50/50 counter-based&quot;</td><td>190848000</td><td>8.6266e11</td><td>&quot;$1.91\\!\\!\\times\\!\\!10^{08 }$&quot;</td></tr><tr><td>97347237626</td><td>114.526161</td><td>0.000229</td><td>4365.814453</td><td>229052.328125</td><td>1000003</td><td>4000008</td><td>500000</td><td>34407</td><td>97347272033</td><td>1000002</td><td>1000002</td><td>1000002</td><td>1000002</td><td>250001</td><td>250000</td><td>250001</td><td>250001</td><td>743756</td><td>991</td><td>506</td><td>&quot;WSE CS-2&quot;</td><td>&quot;50/50 counter-based&quot;</td><td>190848000</td><td>8.3321e11</td><td>&quot;$1.91\\!\\!\\times\\!\\!10^{08 }$&quot;</td></tr><tr><td>&hellip;</td><td>&hellip;</td><td>&hellip;</td><td>&hellip;</td><td>&hellip;</td><td>&hellip;</td><td>&hellip;</td><td>&hellip;</td><td>&hellip;</td><td>&hellip;</td><td>&hellip;</td><td>&hellip;</td><td>&hellip;</td><td>&hellip;</td><td>&hellip;</td><td>&hellip;</td><td>&hellip;</td><td>&hellip;</td><td>&hellip;</td><td>&hellip;</td><td>&hellip;</td><td>&hellip;</td><td>&hellip;</td><td>&hellip;</td><td>&hellip;</td><td>&hellip;</td></tr><tr><td>775436104688</td><td>912.277771</td><td>0.001825</td><td>548.078674</td><td>1824555.5</td><td>1000003</td><td>4000008</td><td>500000</td><td>279501</td><td>775436384189</td><td>1000002</td><td>1000002</td><td>1000002</td><td>1000002</td><td>250001</td><td>250001</td><td>250000</td><td>250001</td><td>743756</td><td>991</td><td>506</td><td>&quot;WSE CS-2&quot;</td><td>&quot;50/50 counter-based&quot;</td><td>1526784000</td><td>8.3680e11</td><td>&quot;$1.53\\!\\!\\times\\!\\!10^{09 }$&quot;</td></tr><tr><td>775435787724</td><td>912.277405</td><td>0.001825</td><td>548.078918</td><td>1.8246e6</td><td>1000002</td><td>4000008</td><td>500000</td><td>279783</td><td>775436067507</td><td>1000002</td><td>1000002</td><td>1000002</td><td>1000002</td><td>250000</td><td>250001</td><td>250001</td><td>250000</td><td>743756</td><td>991</td><td>506</td><td>&quot;WSE CS-2&quot;</td><td>&quot;50/50 counter-based&quot;</td><td>1526784000</td><td>8.3680e11</td><td>&quot;$1.53\\!\\!\\times\\!\\!10^{09 }$&quot;</td></tr><tr><td>773387627855</td><td>909.867798</td><td>0.00182</td><td>549.530396</td><td>1.8197e6</td><td>1000002</td><td>4000008</td><td>500000</td><td>279417</td><td>773387907272</td><td>1000002</td><td>1000002</td><td>1000002</td><td>1000002</td><td>250001</td><td>250000</td><td>250001</td><td>250000</td><td>743756</td><td>991</td><td>506</td><td>&quot;WSE CS-2&quot;</td><td>&quot;50/50 counter-based&quot;</td><td>1526784000</td><td>8.3901e11</td><td>&quot;$1.53\\!\\!\\times\\!\\!10^{09 }$&quot;</td></tr><tr><td>773391253966</td><td>909.87207</td><td>0.00182</td><td>549.527832</td><td>1.8197e6</td><td>1000004</td><td>4000008</td><td>500000</td><td>280299</td><td>773391534265</td><td>1000002</td><td>1000002</td><td>1000002</td><td>1000002</td><td>250001</td><td>250001</td><td>250001</td><td>250001</td><td>743756</td><td>991</td><td>506</td><td>&quot;WSE CS-2&quot;</td><td>&quot;50/50 counter-based&quot;</td><td>1526784000</td><td>8.3901e11</td><td>&quot;$1.53\\!\\!\\times\\!\\!10^{09 }$&quot;</td></tr><tr><td>773391312616</td><td>909.872131</td><td>0.00182</td><td>549.527771</td><td>1.8197e6</td><td>1000003</td><td>4000008</td><td>500000</td><td>280527</td><td>773391593143</td><td>1000002</td><td>1000002</td><td>1000002</td><td>1000002</td><td>250001</td><td>250001</td><td>250001</td><td>250000</td><td>743756</td><td>991</td><td>506</td><td>&quot;WSE CS-2&quot;</td><td>&quot;50/50 counter-based&quot;</td><td>1526784000</td><td>8.3901e11</td><td>&quot;$1.53\\!\\!\\times\\!\\!10^{09 }$&quot;</td></tr></tbody></table></div>"
      ],
      "text/plain": [
       "shape: (66, 26)\n",
       "┌───────────┬───────────┬───────────┬───────────┬───┬───────────┬───────────┬───────────┬──────────┐\n",
       "│ tsc ticks ┆ tsc       ┆ tsc       ┆ tsc cycle ┆ … ┆ experimen ┆ net popul ┆ throughpu ┆ net popu │\n",
       "│ ---       ┆ seconds   ┆ seconds   ┆ hertz     ┆   ┆ t design  ┆ ation     ┆ t (agent- ┆ lation   │\n",
       "│ u64       ┆ ---       ┆ per cycle ┆ ---       ┆   ┆ ---       ┆ size      ┆ generatio ┆ ---      │\n",
       "│           ┆ f32       ┆ ---       ┆ f32       ┆   ┆ str       ┆ ---       ┆ ns/…      ┆ str      │\n",
       "│           ┆           ┆ f32       ┆           ┆   ┆           ┆ i32       ┆ ---       ┆          │\n",
       "│           ┆           ┆           ┆           ┆   ┆           ┆           ┆ f64       ┆          │\n",
       "╞═══════════╪═══════════╪═══════════╪═══════════╪═══╪═══════════╪═══════════╪═══════════╪══════════╡\n",
       "│ 100556096 ┆ 118.30129 ┆ 0.000237  ┆ 4226.4965 ┆ … ┆ 50/50 cou ┆ 190848000 ┆ 8.0662e11 ┆ $1.91\\!\\ │\n",
       "│ 187       ┆ 2         ┆           ┆ 82        ┆   ┆ nter-base ┆           ┆           ┆ !\\times\\ │\n",
       "│           ┆           ┆           ┆           ┆   ┆ d         ┆           ┆           ┆ !\\!10^{0 │\n",
       "│           ┆           ┆           ┆           ┆   ┆           ┆           ┆           ┆ 8 }$     │\n",
       "│ 973439326 ┆ 114.52227 ┆ 0.000229  ┆ 4365.9628 ┆ … ┆ 50/50 cou ┆ 190848000 ┆ 8.3324e11 ┆ $1.91\\!\\ │\n",
       "│ 61        ┆           ┆           ┆ 91        ┆   ┆ nter-base ┆           ┆           ┆ !\\times\\ │\n",
       "│           ┆           ┆           ┆           ┆   ┆ d         ┆           ┆           ┆ !\\!10^{0 │\n",
       "│           ┆           ┆           ┆           ┆   ┆           ┆           ┆           ┆ 8 }$     │\n",
       "│ 103518809 ┆ 121.78683 ┆ 0.000244  ┆ 4105.5341 ┆ … ┆ 50/50 cou ┆ 190848000 ┆ 7.8353e11 ┆ $1.91\\!\\ │\n",
       "│ 824       ┆ 5         ┆           ┆ 8         ┆   ┆ nter-base ┆           ┆           ┆ !\\times\\ │\n",
       "│           ┆           ┆           ┆           ┆   ┆ d         ┆           ┆           ┆ !\\!10^{0 │\n",
       "│           ┆           ┆           ┆           ┆   ┆           ┆           ┆           ┆ 8 }$     │\n",
       "│ 940240825 ┆ 110.61657 ┆ 0.000221  ┆ 4520.1186 ┆ … ┆ 50/50 cou ┆ 190848000 ┆ 8.6266e11 ┆ $1.91\\!\\ │\n",
       "│ 23        ┆           ┆           ┆ 52        ┆   ┆ nter-base ┆           ┆           ┆ !\\times\\ │\n",
       "│           ┆           ┆           ┆           ┆   ┆ d         ┆           ┆           ┆ !\\!10^{0 │\n",
       "│           ┆           ┆           ┆           ┆   ┆           ┆           ┆           ┆ 8 }$     │\n",
       "│ 973472376 ┆ 114.52616 ┆ 0.000229  ┆ 4365.8144 ┆ … ┆ 50/50 cou ┆ 190848000 ┆ 8.3321e11 ┆ $1.91\\!\\ │\n",
       "│ 26        ┆ 1         ┆           ┆ 53        ┆   ┆ nter-base ┆           ┆           ┆ !\\times\\ │\n",
       "│           ┆           ┆           ┆           ┆   ┆ d         ┆           ┆           ┆ !\\!10^{0 │\n",
       "│           ┆           ┆           ┆           ┆   ┆           ┆           ┆           ┆ 8 }$     │\n",
       "│ …         ┆ …         ┆ …         ┆ …         ┆ … ┆ …         ┆ …         ┆ …         ┆ …        │\n",
       "│ 775436104 ┆ 912.27777 ┆ 0.001825  ┆ 548.07867 ┆ … ┆ 50/50 cou ┆ 152678400 ┆ 8.3680e11 ┆ $1.53\\!\\ │\n",
       "│ 688       ┆ 1         ┆           ┆ 4         ┆   ┆ nter-base ┆ 0         ┆           ┆ !\\times\\ │\n",
       "│           ┆           ┆           ┆           ┆   ┆ d         ┆           ┆           ┆ !\\!10^{0 │\n",
       "│           ┆           ┆           ┆           ┆   ┆           ┆           ┆           ┆ 9 }$     │\n",
       "│ 775435787 ┆ 912.27740 ┆ 0.001825  ┆ 548.07891 ┆ … ┆ 50/50 cou ┆ 152678400 ┆ 8.3680e11 ┆ $1.53\\!\\ │\n",
       "│ 724       ┆ 5         ┆           ┆ 8         ┆   ┆ nter-base ┆ 0         ┆           ┆ !\\times\\ │\n",
       "│           ┆           ┆           ┆           ┆   ┆ d         ┆           ┆           ┆ !\\!10^{0 │\n",
       "│           ┆           ┆           ┆           ┆   ┆           ┆           ┆           ┆ 9 }$     │\n",
       "│ 773387627 ┆ 909.86779 ┆ 0.00182   ┆ 549.53039 ┆ … ┆ 50/50 cou ┆ 152678400 ┆ 8.3901e11 ┆ $1.53\\!\\ │\n",
       "│ 855       ┆ 8         ┆           ┆ 6         ┆   ┆ nter-base ┆ 0         ┆           ┆ !\\times\\ │\n",
       "│           ┆           ┆           ┆           ┆   ┆ d         ┆           ┆           ┆ !\\!10^{0 │\n",
       "│           ┆           ┆           ┆           ┆   ┆           ┆           ┆           ┆ 9 }$     │\n",
       "│ 773391253 ┆ 909.87207 ┆ 0.00182   ┆ 549.52783 ┆ … ┆ 50/50 cou ┆ 152678400 ┆ 8.3901e11 ┆ $1.53\\!\\ │\n",
       "│ 966       ┆           ┆           ┆ 2         ┆   ┆ nter-base ┆ 0         ┆           ┆ !\\times\\ │\n",
       "│           ┆           ┆           ┆           ┆   ┆ d         ┆           ┆           ┆ !\\!10^{0 │\n",
       "│           ┆           ┆           ┆           ┆   ┆           ┆           ┆           ┆ 9 }$     │\n",
       "│ 773391312 ┆ 909.87213 ┆ 0.00182   ┆ 549.52777 ┆ … ┆ 50/50 cou ┆ 152678400 ┆ 8.3901e11 ┆ $1.53\\!\\ │\n",
       "│ 616       ┆ 1         ┆           ┆ 1         ┆   ┆ nter-base ┆ 0         ┆           ┆ !\\times\\ │\n",
       "│           ┆           ┆           ┆           ┆   ┆ d         ┆           ┆           ┆ !\\!10^{0 │\n",
       "│           ┆           ┆           ┆           ┆   ┆           ┆           ┆           ┆ 9 }$     │\n",
       "└───────────┴───────────┴───────────┴───────────┴───┴───────────┴───────────┴───────────┴──────────┘"
      ]
     },
     "metadata": {},
     "output_type": "display_data"
    },
    {
     "data": {
      "text/html": [
       "<div><style>\n",
       ".dataframe > thead > tr,\n",
       ".dataframe > tbody > tr {\n",
       "  text-align: right;\n",
       "  white-space: pre-wrap;\n",
       "}\n",
       "</style>\n",
       "<small>shape: (9, 27)</small><table border=\"1\" class=\"dataframe\"><thead><tr><th>statistic</th><th>tsc ticks</th><th>tsc seconds</th><th>tsc seconds per cycle</th><th>tsc cycle hertz</th><th>tsc ns per cycle</th><th>recv sum</th><th>send sum</th><th>cycle count</th><th>tsc start</th><th>tsc end</th><th>send N</th><th>send S</th><th>send E</th><th>send W</th><th>recv N</th><th>recv S</th><th>recv E</th><th>recv W</th><th>tile</th><th>row</th><th>col</th><th>hardware</th><th>experiment design</th><th>net population size</th><th>throughput (agent-generations/sec)</th><th>net population</th></tr><tr><td>str</td><td>f64</td><td>f64</td><td>f64</td><td>f64</td><td>f64</td><td>f64</td><td>f64</td><td>f64</td><td>f64</td><td>f64</td><td>f64</td><td>f64</td><td>f64</td><td>f64</td><td>f64</td><td>f64</td><td>f64</td><td>f64</td><td>f64</td><td>f64</td><td>f64</td><td>str</td><td>str</td><td>f64</td><td>f64</td><td>str</td></tr></thead><tbody><tr><td>&quot;count&quot;</td><td>66.0</td><td>66.0</td><td>66.0</td><td>66.0</td><td>66.0</td><td>66.0</td><td>66.0</td><td>66.0</td><td>66.0</td><td>66.0</td><td>66.0</td><td>66.0</td><td>66.0</td><td>66.0</td><td>66.0</td><td>66.0</td><td>66.0</td><td>66.0</td><td>66.0</td><td>66.0</td><td>66.0</td><td>&quot;66&quot;</td><td>&quot;66&quot;</td><td>66.0</td><td>66.0</td><td>&quot;66&quot;</td></tr><tr><td>&quot;null_count&quot;</td><td>0.0</td><td>0.0</td><td>0.0</td><td>0.0</td><td>0.0</td><td>0.0</td><td>0.0</td><td>0.0</td><td>0.0</td><td>0.0</td><td>0.0</td><td>0.0</td><td>0.0</td><td>0.0</td><td>0.0</td><td>0.0</td><td>0.0</td><td>0.0</td><td>0.0</td><td>0.0</td><td>0.0</td><td>&quot;0&quot;</td><td>&quot;0&quot;</td><td>0.0</td><td>0.0</td><td>&quot;0&quot;</td></tr><tr><td>&quot;mean&quot;</td><td>4.0549e11</td><td>477.049164</td><td>0.000954</td><td>2598.829102</td><td>954098.3125</td><td>1.0000e6</td><td>4.000008e6</td><td>500000.0</td><td>146307.060606</td><td>4.0549e11</td><td>1.000002e6</td><td>1.000002e6</td><td>1.000002e6</td><td>1.000002e6</td><td>250000.666667</td><td>250000.272727</td><td>250000.5</td><td>250000.545455</td><td>743756.0</td><td>991.0</td><td>506.0</td><td>null</td><td>null</td><td>7.9809e8</td><td>8.2963e11</td><td>null</td></tr><tr><td>&quot;std&quot;</td><td>3.3854e11</td><td>398.281342</td><td>0.000797</td><td>1888.623779</td><td>796562.6875</td><td>1.563944</td><td>0.0</td><td>0.0</td><td>122818.591452</td><td>3.3854e11</td><td>0.0</td><td>0.0</td><td>0.0</td><td>0.0</td><td>0.563869</td><td>0.7554</td><td>0.662164</td><td>0.501745</td><td>0.0</td><td>0.0</td><td>0.0</td><td>null</td><td>null</td><td>6.7030e8</td><td>2.3453e10</td><td>null</td></tr><tr><td>&quot;min&quot;</td><td>9.4023e10</td><td>110.615601</td><td>0.000221</td><td>548.078674</td><td>221231.203125</td><td>999997.0</td><td>4.000008e6</td><td>500000.0</td><td>34407.0</td><td>9.4023e10</td><td>1.000002e6</td><td>1.000002e6</td><td>1.000002e6</td><td>1.000002e6</td><td>249998.0</td><td>249998.0</td><td>249998.0</td><td>250000.0</td><td>743756.0</td><td>991.0</td><td>506.0</td><td>&quot;WSE CS-2&quot;</td><td>&quot;50/50 counter-based&quot;</td><td>1.90848e8</td><td>7.8353e11</td><td>&quot;$1.53\\!\\!\\times\\!\\!10^{09 }$&quot;</td></tr><tr><td>&quot;25%&quot;</td><td>9.7348e10</td><td>114.526726</td><td>0.000229</td><td>549.529663</td><td>229053.453125</td><td>1.000001e6</td><td>4.000008e6</td><td>500000.0</td><td>35163.0</td><td>9.7348e10</td><td>1.000002e6</td><td>1.000002e6</td><td>1.000002e6</td><td>1.000002e6</td><td>250000.0</td><td>250000.0</td><td>250000.0</td><td>250000.0</td><td>743756.0</td><td>991.0</td><td>506.0</td><td>null</td><td>null</td><td>1.90848e8</td><td>8.0862e11</td><td>null</td></tr><tr><td>&quot;50%&quot;</td><td>1.0352e11</td><td>121.786537</td><td>0.000244</td><td>4105.557617</td><td>243573.078125</td><td>1.000002e6</td><td>4.000008e6</td><td>500000.0</td><td>35547.0</td><td>1.0352e11</td><td>1.000002e6</td><td>1.000002e6</td><td>1.000002e6</td><td>1.000002e6</td><td>250001.0</td><td>250000.0</td><td>250001.0</td><td>250001.0</td><td>743756.0</td><td>991.0</td><td>506.0</td><td>null</td><td>null</td><td>1.90848e8</td><td>8.3680e11</td><td>null</td></tr><tr><td>&quot;75%&quot;</td><td>7.7339e11</td><td>909.868958</td><td>0.00182</td><td>4365.793457</td><td>1.819738e6</td><td>1.000003e6</td><td>4.000008e6</td><td>500000.0</td><td>279501.0</td><td>7.7339e11</td><td>1.000002e6</td><td>1.000002e6</td><td>1.000002e6</td><td>1.000002e6</td><td>250001.0</td><td>250001.0</td><td>250001.0</td><td>250001.0</td><td>743756.0</td><td>991.0</td><td>506.0</td><td>null</td><td>null</td><td>1.5268e9</td><td>8.4067e11</td><td>null</td></tr><tr><td>&quot;max&quot;</td><td>7.7544e11</td><td>912.277771</td><td>0.001825</td><td>4520.158203</td><td>1824555.5</td><td>1.000004e6</td><td>4.000008e6</td><td>500000.0</td><td>280527.0</td><td>7.7544e11</td><td>1.000002e6</td><td>1.000002e6</td><td>1.000002e6</td><td>1.000002e6</td><td>250001.0</td><td>250001.0</td><td>250001.0</td><td>250001.0</td><td>743756.0</td><td>991.0</td><td>506.0</td><td>&quot;WSE CS-2&quot;</td><td>&quot;50/50 counter-based&quot;</td><td>1.5268e9</td><td>8.6266e11</td><td>&quot;$1.91\\!\\!\\times\\!\\!10^{08 }$&quot;</td></tr></tbody></table></div>"
      ],
      "text/plain": [
       "shape: (9, 27)\n",
       "┌───────────┬───────────┬───────────┬───────────┬───┬───────────┬───────────┬───────────┬──────────┐\n",
       "│ statistic ┆ tsc ticks ┆ tsc       ┆ tsc       ┆ … ┆ experimen ┆ net popul ┆ throughpu ┆ net popu │\n",
       "│ ---       ┆ ---       ┆ seconds   ┆ seconds   ┆   ┆ t design  ┆ ation     ┆ t (agent- ┆ lation   │\n",
       "│ str       ┆ f64       ┆ ---       ┆ per cycle ┆   ┆ ---       ┆ size      ┆ generatio ┆ ---      │\n",
       "│           ┆           ┆ f64       ┆ ---       ┆   ┆ str       ┆ ---       ┆ ns/…      ┆ str      │\n",
       "│           ┆           ┆           ┆ f64       ┆   ┆           ┆ f64       ┆ ---       ┆          │\n",
       "│           ┆           ┆           ┆           ┆   ┆           ┆           ┆ f64       ┆          │\n",
       "╞═══════════╪═══════════╪═══════════╪═══════════╪═══╪═══════════╪═══════════╪═══════════╪══════════╡\n",
       "│ count     ┆ 66.0      ┆ 66.0      ┆ 66.0      ┆ … ┆ 66        ┆ 66.0      ┆ 66.0      ┆ 66       │\n",
       "│ null_coun ┆ 0.0       ┆ 0.0       ┆ 0.0       ┆ … ┆ 0         ┆ 0.0       ┆ 0.0       ┆ 0        │\n",
       "│ t         ┆           ┆           ┆           ┆   ┆           ┆           ┆           ┆          │\n",
       "│ mean      ┆ 4.0549e11 ┆ 477.04916 ┆ 0.000954  ┆ … ┆ null      ┆ 7.9809e8  ┆ 8.2963e11 ┆ null     │\n",
       "│           ┆           ┆ 4         ┆           ┆   ┆           ┆           ┆           ┆          │\n",
       "│ std       ┆ 3.3854e11 ┆ 398.28134 ┆ 0.000797  ┆ … ┆ null      ┆ 6.7030e8  ┆ 2.3453e10 ┆ null     │\n",
       "│           ┆           ┆ 2         ┆           ┆   ┆           ┆           ┆           ┆          │\n",
       "│ min       ┆ 9.4023e10 ┆ 110.61560 ┆ 0.000221  ┆ … ┆ 50/50 cou ┆ 1.90848e8 ┆ 7.8353e11 ┆ $1.53\\!\\ │\n",
       "│           ┆           ┆ 1         ┆           ┆   ┆ nter-base ┆           ┆           ┆ !\\times\\ │\n",
       "│           ┆           ┆           ┆           ┆   ┆ d         ┆           ┆           ┆ !\\!10^{0 │\n",
       "│           ┆           ┆           ┆           ┆   ┆           ┆           ┆           ┆ 9 }$     │\n",
       "│ 25%       ┆ 9.7348e10 ┆ 114.52672 ┆ 0.000229  ┆ … ┆ null      ┆ 1.90848e8 ┆ 8.0862e11 ┆ null     │\n",
       "│           ┆           ┆ 6         ┆           ┆   ┆           ┆           ┆           ┆          │\n",
       "│ 50%       ┆ 1.0352e11 ┆ 121.78653 ┆ 0.000244  ┆ … ┆ null      ┆ 1.90848e8 ┆ 8.3680e11 ┆ null     │\n",
       "│           ┆           ┆ 7         ┆           ┆   ┆           ┆           ┆           ┆          │\n",
       "│ 75%       ┆ 7.7339e11 ┆ 909.86895 ┆ 0.00182   ┆ … ┆ null      ┆ 1.5268e9  ┆ 8.4067e11 ┆ null     │\n",
       "│           ┆           ┆ 8         ┆           ┆   ┆           ┆           ┆           ┆          │\n",
       "│ max       ┆ 7.7544e11 ┆ 912.27777 ┆ 0.001825  ┆ … ┆ 50/50 cou ┆ 1.5268e9  ┆ 8.6266e11 ┆ $1.91\\!\\ │\n",
       "│           ┆           ┆ 1         ┆           ┆   ┆ nter-base ┆           ┆           ┆ !\\times\\ │\n",
       "│           ┆           ┆           ┆           ┆   ┆ d         ┆           ┆           ┆ !\\!10^{0 │\n",
       "│           ┆           ┆           ┆           ┆   ┆           ┆           ┆           ┆ 8 }$     │\n",
       "└───────────┴───────────┴───────────┴───────────┴───┴───────────┴───────────┴───────────┴──────────┘"
      ]
     },
     "metadata": {},
     "output_type": "display_data"
    }
   ],
   "source": [
    "df = df.with_columns(\n",
    "    (pl.col(\"net population size\") / pl.col(\"tsc seconds per cycle\")).alias(\n",
    "        \"throughput (agent-generations/sec)\",\n",
    "    ),\n",
    ").with_columns(\n",
    "    pl.col(\"net population size\")\n",
    "    .map_elements(\n",
    "        lambda x: f\"${x:.2e} }}$\".replace(\"e+\", r\"\\!\\!\\times\\!\\!10^{\"),\n",
    "        return_dtype=pl.String,\n",
    "    )\n",
    "    .alias(\"net population\"),\n",
    ")\n",
    "display(df)\n",
    "display(df.describe())\n"
   ]
  },
  {
   "cell_type": "markdown",
   "metadata": {},
   "source": [
    "## Throughput\n"
   ]
  },
  {
   "cell_type": "code",
   "execution_count": 6,
   "metadata": {
    "execution": {
     "iopub.execute_input": "2025-03-31T18:18:20.000764Z",
     "iopub.status.busy": "2025-03-31T18:18:20.000560Z",
     "iopub.status.idle": "2025-03-31T18:18:20.984557Z",
     "shell.execute_reply": "2025-03-31T18:18:20.983983Z"
    }
   },
   "outputs": [
    {
     "name": "stderr",
     "output_type": "stream",
     "text": [
      "/usr/local/lib/python3.10/dist-packages/backstrip/_backplot.py:127: UserWarning: The palette list has more values (9) than needed (2), which may not be intended.\n",
      "  g = sns.catplot(\n"
     ]
    },
    {
     "name": "stdout",
     "output_type": "stream",
     "text": [
      "teeplots/col=experiment-design+hue=net-population+orient=h+viz=backplot+x=throughput-agent-generations-sec+ext=.pdf\n",
      "teeplots/col=experiment-design+hue=net-population+orient=h+viz=backplot+x=throughput-agent-generations-sec+ext=.png\n"
     ]
    },
    {
     "data": {
      "image/png": "[encoded data removed]",
      "text/plain": [
       "<Figure size 460.39x170 with 1 Axes>"
      ]
     },
     "metadata": {},
     "output_type": "display_data"
    },
    {
     "data": {
      "text/plain": [
       "<seaborn.axisgrid.FacetGrid at 0x7fdc8eb81bd0>"
      ]
     },
     "execution_count": 6,
     "metadata": {},
     "output_type": "execute_result"
    }
   ],
   "source": [
    "saveit, g = tp.tee(\n",
    "    backplot,\n",
    "    data=df.to_pandas(),\n",
    "    x=\"throughput (agent-generations/sec)\",\n",
    "    hue=\"net population\",\n",
    "    hue_order=sorted(df[\"net population\"].unique(), reverse=True),\n",
    "    col=\"experiment design\",\n",
    "    aspect=2.0,\n",
    "    height=1.7,\n",
    "    orient=\"h\",\n",
    "    # log_scale=(True, False),\n",
    "    palette=sns.color_palette(\"Pastel1\"),\n",
    "    sharex=False,\n",
    "    sharey=False,\n",
    "    teeplot_callback=True,\n",
    ")\n",
    "\n",
    "for ax in g.axes.flat:\n",
    "    ax.xaxis.set_major_formatter(\n",
    "        mpl_ticker.FuncFormatter(\n",
    "            lambda x, _: f\"${x:.1e} }}$\".replace(\"e+\", r\"\\!\\!\\times\\!\\!10^{\"),\n",
    "        ),\n",
    "    )\n",
    "\n",
    "saveit()\n"
   ]
  },
  {
   "cell_type": "markdown",
   "metadata": {},
   "source": [
    "## Speed and Througnhput\n"
   ]
  },
  {
   "cell_type": "code",
   "execution_count": 7,
   "metadata": {
    "execution": {
     "iopub.execute_input": "2025-03-31T18:18:20.986718Z",
     "iopub.status.busy": "2025-03-31T18:18:20.986345Z",
     "iopub.status.idle": "2025-03-31T18:18:20.992324Z",
     "shell.execute_reply": "2025-03-31T18:18:20.991796Z"
    }
   },
   "outputs": [
    {
     "data": {
      "text/html": [
       "<div><style>\n",
       ".dataframe > thead > tr,\n",
       ".dataframe > tbody > tr {\n",
       "  text-align: right;\n",
       "  white-space: pre-wrap;\n",
       "}\n",
       "</style>\n",
       "<small>shape: (2, 7)</small><table border=\"1\" class=\"dataframe\"><thead><tr><th>hardware</th><th>experiment design</th><th>net population size</th><th>mean_throughput</th><th>std_throughput</th><th>mean_speed</th><th>std_speed</th></tr><tr><td>str</td><td>str</td><td>i32</td><td>f64</td><td>f64</td><td>f32</td><td>f32</td></tr></thead><tbody><tr><td>&quot;WSE CS-2&quot;</td><td>&quot;50/50 counter-based&quot;</td><td>1526784000</td><td>8.3888e11</td><td>1.6895e9</td><td>549.445679</td><td>1.106605</td></tr><tr><td>&quot;WSE CS-2&quot;</td><td>&quot;50/50 counter-based&quot;</td><td>190848000</td><td>8.2192e11</td><td>2.9740e10</td><td>4306.648438</td><td>155.83284</td></tr></tbody></table></div>"
      ],
      "text/plain": [
       "shape: (2, 7)\n",
       "┌──────────┬───────────────┬───────────────┬──────────────┬──────────────┬─────────────┬───────────┐\n",
       "│ hardware ┆ experiment    ┆ net           ┆ mean_through ┆ std_throughp ┆ mean_speed  ┆ std_speed │\n",
       "│ ---      ┆ design        ┆ population    ┆ put          ┆ ut           ┆ ---         ┆ ---       │\n",
       "│ str      ┆ ---           ┆ size          ┆ ---          ┆ ---          ┆ f32         ┆ f32       │\n",
       "│          ┆ str           ┆ ---           ┆ f64          ┆ f64          ┆             ┆           │\n",
       "│          ┆               ┆ i32           ┆              ┆              ┆             ┆           │\n",
       "╞══════════╪═══════════════╪═══════════════╪══════════════╪══════════════╪═════════════╪═══════════╡\n",
       "│ WSE CS-2 ┆ 50/50         ┆ 1526784000    ┆ 8.3888e11    ┆ 1.6895e9     ┆ 549.445679  ┆ 1.106605  │\n",
       "│          ┆ counter-based ┆               ┆              ┆              ┆             ┆           │\n",
       "│ WSE CS-2 ┆ 50/50         ┆ 190848000     ┆ 8.2192e11    ┆ 2.9740e10    ┆ 4306.648438 ┆ 155.83284 │\n",
       "│          ┆ counter-based ┆               ┆              ┆              ┆             ┆           │\n",
       "└──────────┴───────────────┴───────────────┴──────────────┴──────────────┴─────────────┴───────────┘"
      ]
     },
     "execution_count": 7,
     "metadata": {},
     "output_type": "execute_result"
    }
   ],
   "source": [
    "df.group_by(\"hardware\", \"experiment design\", \"net population size\",).agg(\n",
    "    pl.col(\"throughput (agent-generations/sec)\")\n",
    "    .mean()\n",
    "    .alias(\"mean_throughput\"),\n",
    "    pl.col(\"throughput (agent-generations/sec)\").std().alias(\"std_throughput\"),\n",
    "    pl.col(\"tsc cycle hertz\").mean().alias(\"mean_speed\"),\n",
    "    pl.col(\"tsc cycle hertz\").std().alias(\"std_speed\"),\n",
    ")\n"
   ]
  }
 ],
 "metadata": {
  "kernelspec": {
   "display_name": "Python 3",
   "language": "python",
   "name": "python3"
  },
  "language_info": {
   "codemirror_mode": {
    "name": "ipython",
    "version": 3
   },
   "file_extension": ".py",
   "mimetype": "text/x-python",
   "name": "python",
   "nbconvert_exporter": "python",
   "pygments_lexer": "ipython3",
   "version": "3.10.12"
  }
 },
 "nbformat": 4,
 "nbformat_minor": 2
}
