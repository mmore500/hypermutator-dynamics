{
 "cells": [
  {
   "cell_type": "code",
   "execution_count": 1,
   "metadata": {
    "execution": {
     "iopub.execute_input": "2025-03-13T13:33:16.413429Z",
     "iopub.status.busy": "2025-03-13T13:33:16.413247Z",
     "iopub.status.idle": "2025-03-13T13:33:16.426809Z",
     "shell.execute_reply": "2025-03-13T13:33:16.426371Z"
    }
   },
   "outputs": [],
   "source": [
    "%load_ext watermark\n"
   ]
  },
  {
   "cell_type": "code",
   "execution_count": 2,
   "metadata": {
    "execution": {
     "iopub.execute_input": "2025-03-13T13:33:16.428489Z",
     "iopub.status.busy": "2025-03-13T13:33:16.428310Z",
     "iopub.status.idle": "2025-03-13T13:33:20.743991Z",
     "shell.execute_reply": "2025-03-13T13:33:20.743315Z"
    }
   },
   "outputs": [],
   "source": [
    "from IPython.display import display\n",
    "from backstrip import backplot\n",
    "import polars as pl\n",
    "import seaborn as sns\n",
    "from teeplot import teeplot as tp\n"
   ]
  },
  {
   "cell_type": "code",
   "execution_count": 3,
   "metadata": {
    "execution": {
     "iopub.execute_input": "2025-03-13T13:33:20.746584Z",
     "iopub.status.busy": "2025-03-13T13:33:20.746056Z",
     "iopub.status.idle": "2025-03-13T13:33:20.784839Z",
     "shell.execute_reply": "2025-03-13T13:33:20.784254Z"
    }
   },
   "outputs": [
    {
     "name": "stdout",
     "output_type": "stream",
     "text": [
      "Last updated: 2025-03-13T13:33:20.747667+00:00\n",
      "\n",
      "Python implementation: CPython\n",
      "Python version       : 3.10.12\n",
      "IPython version      : 7.31.1\n",
      "\n",
      "Compiler    : GCC 11.4.0\n",
      "OS          : Linux\n",
      "Release     : 6.8.0-1021-azure\n",
      "Machine     : x86_64\n",
      "Processor   : x86_64\n",
      "CPU cores   : 4\n",
      "Architecture: 64bit\n",
      "\n",
      "seaborn: 0.13.2\n",
      "teeplot: 1.2.0\n",
      "polars : 1.9.0\n",
      "\n",
      "Watermark: 2.4.3\n",
      "\n"
     ]
    }
   ],
   "source": [
    "%watermark -diwmuv -iv\n"
   ]
  },
  {
   "cell_type": "code",
   "execution_count": 4,
   "metadata": {
    "execution": {
     "iopub.execute_input": "2025-03-13T13:33:20.811498Z",
     "iopub.status.busy": "2025-03-13T13:33:20.811116Z",
     "iopub.status.idle": "2025-03-13T13:33:20.816737Z",
     "shell.execute_reply": "2025-03-13T13:33:20.816257Z"
    }
   },
   "outputs": [
    {
     "data": {
      "text/plain": [
       "'perf-wse-vs-gpu-100k'"
      ]
     },
     "execution_count": 4,
     "metadata": {},
     "output_type": "execute_result"
    }
   ],
   "source": [
    "teeplot_subdir = \"perf-wse-vs-gpu-100k\"\n",
    "teeplot_subdir\n"
   ]
  },
  {
   "cell_type": "markdown",
   "metadata": {},
   "source": [
    "## Prep Data\n"
   ]
  },
  {
   "cell_type": "code",
   "execution_count": 5,
   "metadata": {
    "execution": {
     "iopub.execute_input": "2025-03-13T13:33:20.818558Z",
     "iopub.status.busy": "2025-03-13T13:33:20.818377Z",
     "iopub.status.idle": "2025-03-13T13:33:24.661503Z",
     "shell.execute_reply": "2025-03-13T13:33:24.660854Z"
    }
   },
   "outputs": [
    {
     "data": {
      "text/html": [
       "<div><style>\n",
       ".dataframe > thead > tr,\n",
       ".dataframe > tbody > tr {\n",
       "  text-align: right;\n",
       "  white-space: pre-wrap;\n",
       "}\n",
       "</style>\n",
       "<small>shape: (21, 25)</small><table border=\"1\" class=\"dataframe\"><thead><tr><th>tsc ticks</th><th>tsc seconds</th><th>tsc seconds per cycle</th><th>tsc cycle hertz</th><th>tsc ns per cycle</th><th>recv sum</th><th>send sum</th><th>cycle count</th><th>tsc start</th><th>tsc end</th><th>send N</th><th>send S</th><th>send E</th><th>send W</th><th>recv N</th><th>recv S</th><th>recv E</th><th>recv W</th><th>tile</th><th>row</th><th>col</th><th>hardware</th><th>experiment design</th><th>net population size</th><th>throughput (agent-generations/sec)</th></tr><tr><td>u64</td><td>f32</td><td>f32</td><td>f32</td><td>f32</td><td>u32</td><td>u32</td><td>u32</td><td>u64</td><td>u64</td><td>u32</td><td>u32</td><td>u32</td><td>u32</td><td>u32</td><td>u32</td><td>u32</td><td>u32</td><td>u32</td><td>u16</td><td>u16</td><td>str</td><td>str</td><td>i32</td><td>f64</td></tr></thead><tbody><tr><td>0</td><td>13424.635742</td><td>0.134246</td><td>7.448992</td><td>1.34246352e8</td><td>0</td><td>0</td><td>0</td><td>0</td><td>0</td><td>0</td><td>0</td><td>0</td><td>0</td><td>0</td><td>0</td><td>0</td><td>0</td><td>0</td><td>0</td><td>0</td><td>&quot;GPU A100&quot;</td><td>&quot;denovo poisson&quot;</td><td>15116544</td><td>1.1260e8</td></tr><tr><td>0</td><td>13424.725586</td><td>0.134247</td><td>7.448942</td><td>1.34247248e8</td><td>0</td><td>0</td><td>0</td><td>0</td><td>0</td><td>0</td><td>0</td><td>0</td><td>0</td><td>0</td><td>0</td><td>0</td><td>0</td><td>0</td><td>0</td><td>0</td><td>&quot;GPU A100&quot;</td><td>&quot;denovo poisson&quot;</td><td>15116544</td><td>1.1260e8</td></tr><tr><td>0</td><td>13426.507812</td><td>0.134265</td><td>7.447953</td><td>1.34265072e8</td><td>0</td><td>0</td><td>0</td><td>0</td><td>0</td><td>0</td><td>0</td><td>0</td><td>0</td><td>0</td><td>0</td><td>0</td><td>0</td><td>0</td><td>0</td><td>0</td><td>&quot;GPU A100&quot;</td><td>&quot;denovo poisson&quot;</td><td>15116544</td><td>1.1259e8</td></tr><tr><td>0</td><td>13435.211914</td><td>0.134352</td><td>7.443128</td><td>1.34352128e8</td><td>0</td><td>0</td><td>0</td><td>0</td><td>0</td><td>0</td><td>0</td><td>0</td><td>0</td><td>0</td><td>0</td><td>0</td><td>0</td><td>0</td><td>0</td><td>0</td><td>&quot;GPU A100&quot;</td><td>&quot;denovo poisson&quot;</td><td>15116544</td><td>1.1251e8</td></tr><tr><td>0</td><td>13437.150391</td><td>0.134372</td><td>7.442054</td><td>1.34371504e8</td><td>0</td><td>0</td><td>0</td><td>0</td><td>0</td><td>0</td><td>0</td><td>0</td><td>0</td><td>0</td><td>0</td><td>0</td><td>0</td><td>0</td><td>0</td><td>0</td><td>&quot;GPU A100&quot;</td><td>&quot;denovo poisson&quot;</td><td>15116544</td><td>1.1250e8</td></tr><tr><td>&hellip;</td><td>&hellip;</td><td>&hellip;</td><td>&hellip;</td><td>&hellip;</td><td>&hellip;</td><td>&hellip;</td><td>&hellip;</td><td>&hellip;</td><td>&hellip;</td><td>&hellip;</td><td>&hellip;</td><td>&hellip;</td><td>&hellip;</td><td>&hellip;</td><td>&hellip;</td><td>&hellip;</td><td>&hellip;</td><td>&hellip;</td><td>&hellip;</td><td>&hellip;</td><td>&hellip;</td><td>&hellip;</td><td>&hellip;</td><td>&hellip;</td></tr><tr><td>0</td><td>13550.757812</td><td>0.135508</td><td>7.379661</td><td>1.35507584e8</td><td>0</td><td>0</td><td>0</td><td>0</td><td>0</td><td>0</td><td>0</td><td>0</td><td>0</td><td>0</td><td>0</td><td>0</td><td>0</td><td>0</td><td>0</td><td>0</td><td>&quot;GPU A100&quot;</td><td>&quot;denovo poisson&quot;</td><td>15116544</td><td>1.1155e8</td></tr><tr><td>0</td><td>13551.762695</td><td>0.135518</td><td>7.379114</td><td>1.35517616e8</td><td>0</td><td>0</td><td>0</td><td>0</td><td>0</td><td>0</td><td>0</td><td>0</td><td>0</td><td>0</td><td>0</td><td>0</td><td>0</td><td>0</td><td>0</td><td>0</td><td>&quot;GPU A100&quot;</td><td>&quot;denovo poisson&quot;</td><td>15116544</td><td>1.1155e8</td></tr><tr><td>0</td><td>13557.875977</td><td>0.135579</td><td>7.375786</td><td>1.35578768e8</td><td>0</td><td>0</td><td>0</td><td>0</td><td>0</td><td>0</td><td>0</td><td>0</td><td>0</td><td>0</td><td>0</td><td>0</td><td>0</td><td>0</td><td>0</td><td>0</td><td>&quot;GPU A100&quot;</td><td>&quot;denovo poisson&quot;</td><td>15116544</td><td>1.1150e8</td></tr><tr><td>0</td><td>13561.860352</td><td>0.135619</td><td>7.37362</td><td>1.35618608e8</td><td>0</td><td>0</td><td>0</td><td>0</td><td>0</td><td>0</td><td>0</td><td>0</td><td>0</td><td>0</td><td>0</td><td>0</td><td>0</td><td>0</td><td>0</td><td>0</td><td>&quot;GPU A100&quot;</td><td>&quot;denovo poisson&quot;</td><td>15116544</td><td>1.1146e8</td></tr><tr><td>0</td><td>13554.707031</td><td>0.135547</td><td>7.377511</td><td>1.35547072e8</td><td>0</td><td>0</td><td>0</td><td>0</td><td>0</td><td>0</td><td>0</td><td>0</td><td>0</td><td>0</td><td>0</td><td>0</td><td>0</td><td>0</td><td>0</td><td>0</td><td>&quot;GPU A100&quot;</td><td>&quot;denovo poisson&quot;</td><td>15116544</td><td>1.1152e8</td></tr></tbody></table></div>"
      ],
      "text/plain": [
       "shape: (21, 25)\n",
       "┌───────────┬───────────┬───────────┬───────────┬───┬──────────┬───────────┬───────────┬───────────┐\n",
       "│ tsc ticks ┆ tsc       ┆ tsc       ┆ tsc cycle ┆ … ┆ hardware ┆ experimen ┆ net popul ┆ throughpu │\n",
       "│ ---       ┆ seconds   ┆ seconds   ┆ hertz     ┆   ┆ ---      ┆ t design  ┆ ation     ┆ t (agent- │\n",
       "│ u64       ┆ ---       ┆ per cycle ┆ ---       ┆   ┆ str      ┆ ---       ┆ size      ┆ generatio │\n",
       "│           ┆ f32       ┆ ---       ┆ f32       ┆   ┆          ┆ str       ┆ ---       ┆ ns/…      │\n",
       "│           ┆           ┆ f32       ┆           ┆   ┆          ┆           ┆ i32       ┆ ---       │\n",
       "│           ┆           ┆           ┆           ┆   ┆          ┆           ┆           ┆ f64       │\n",
       "╞═══════════╪═══════════╪═══════════╪═══════════╪═══╪══════════╪═══════════╪═══════════╪═══════════╡\n",
       "│ 0         ┆ 13424.635 ┆ 0.134246  ┆ 7.448992  ┆ … ┆ GPU A100 ┆ denovo    ┆ 15116544  ┆ 1.1260e8  │\n",
       "│           ┆ 742       ┆           ┆           ┆   ┆          ┆ poisson   ┆           ┆           │\n",
       "│ 0         ┆ 13424.725 ┆ 0.134247  ┆ 7.448942  ┆ … ┆ GPU A100 ┆ denovo    ┆ 15116544  ┆ 1.1260e8  │\n",
       "│           ┆ 586       ┆           ┆           ┆   ┆          ┆ poisson   ┆           ┆           │\n",
       "│ 0         ┆ 13426.507 ┆ 0.134265  ┆ 7.447953  ┆ … ┆ GPU A100 ┆ denovo    ┆ 15116544  ┆ 1.1259e8  │\n",
       "│           ┆ 812       ┆           ┆           ┆   ┆          ┆ poisson   ┆           ┆           │\n",
       "│ 0         ┆ 13435.211 ┆ 0.134352  ┆ 7.443128  ┆ … ┆ GPU A100 ┆ denovo    ┆ 15116544  ┆ 1.1251e8  │\n",
       "│           ┆ 914       ┆           ┆           ┆   ┆          ┆ poisson   ┆           ┆           │\n",
       "│ 0         ┆ 13437.150 ┆ 0.134372  ┆ 7.442054  ┆ … ┆ GPU A100 ┆ denovo    ┆ 15116544  ┆ 1.1250e8  │\n",
       "│           ┆ 391       ┆           ┆           ┆   ┆          ┆ poisson   ┆           ┆           │\n",
       "│ …         ┆ …         ┆ …         ┆ …         ┆ … ┆ …        ┆ …         ┆ …         ┆ …         │\n",
       "│ 0         ┆ 13550.757 ┆ 0.135508  ┆ 7.379661  ┆ … ┆ GPU A100 ┆ denovo    ┆ 15116544  ┆ 1.1155e8  │\n",
       "│           ┆ 812       ┆           ┆           ┆   ┆          ┆ poisson   ┆           ┆           │\n",
       "│ 0         ┆ 13551.762 ┆ 0.135518  ┆ 7.379114  ┆ … ┆ GPU A100 ┆ denovo    ┆ 15116544  ┆ 1.1155e8  │\n",
       "│           ┆ 695       ┆           ┆           ┆   ┆          ┆ poisson   ┆           ┆           │\n",
       "│ 0         ┆ 13557.875 ┆ 0.135579  ┆ 7.375786  ┆ … ┆ GPU A100 ┆ denovo    ┆ 15116544  ┆ 1.1150e8  │\n",
       "│           ┆ 977       ┆           ┆           ┆   ┆          ┆ poisson   ┆           ┆           │\n",
       "│ 0         ┆ 13561.860 ┆ 0.135619  ┆ 7.37362   ┆ … ┆ GPU A100 ┆ denovo    ┆ 15116544  ┆ 1.1146e8  │\n",
       "│           ┆ 352       ┆           ┆           ┆   ┆          ┆ poisson   ┆           ┆           │\n",
       "│ 0         ┆ 13554.707 ┆ 0.135547  ┆ 7.377511  ┆ … ┆ GPU A100 ┆ denovo    ┆ 15116544  ┆ 1.1152e8  │\n",
       "│           ┆ 031       ┆           ┆           ┆   ┆          ┆ poisson   ┆           ┆           │\n",
       "└───────────┴───────────┴───────────┴───────────┴───┴──────────┴───────────┴───────────┴───────────┘"
      ]
     },
     "metadata": {},
     "output_type": "display_data"
    },
    {
     "data": {
      "text/html": [
       "<div><style>\n",
       ".dataframe > thead > tr,\n",
       ".dataframe > tbody > tr {\n",
       "  text-align: right;\n",
       "  white-space: pre-wrap;\n",
       "}\n",
       "</style>\n",
       "<small>shape: (9, 26)</small><table border=\"1\" class=\"dataframe\"><thead><tr><th>statistic</th><th>tsc ticks</th><th>tsc seconds</th><th>tsc seconds per cycle</th><th>tsc cycle hertz</th><th>tsc ns per cycle</th><th>recv sum</th><th>send sum</th><th>cycle count</th><th>tsc start</th><th>tsc end</th><th>send N</th><th>send S</th><th>send E</th><th>send W</th><th>recv N</th><th>recv S</th><th>recv E</th><th>recv W</th><th>tile</th><th>row</th><th>col</th><th>hardware</th><th>experiment design</th><th>net population size</th><th>throughput (agent-generations/sec)</th></tr><tr><td>str</td><td>f64</td><td>f64</td><td>f64</td><td>f64</td><td>f64</td><td>f64</td><td>f64</td><td>f64</td><td>f64</td><td>f64</td><td>f64</td><td>f64</td><td>f64</td><td>f64</td><td>f64</td><td>f64</td><td>f64</td><td>f64</td><td>f64</td><td>f64</td><td>f64</td><td>str</td><td>str</td><td>f64</td><td>f64</td></tr></thead><tbody><tr><td>&quot;count&quot;</td><td>21.0</td><td>21.0</td><td>21.0</td><td>21.0</td><td>21.0</td><td>21.0</td><td>21.0</td><td>21.0</td><td>21.0</td><td>21.0</td><td>21.0</td><td>21.0</td><td>21.0</td><td>21.0</td><td>21.0</td><td>21.0</td><td>21.0</td><td>21.0</td><td>21.0</td><td>21.0</td><td>21.0</td><td>&quot;21&quot;</td><td>&quot;21&quot;</td><td>21.0</td><td>21.0</td></tr><tr><td>&quot;null_count&quot;</td><td>0.0</td><td>0.0</td><td>0.0</td><td>0.0</td><td>0.0</td><td>0.0</td><td>0.0</td><td>0.0</td><td>0.0</td><td>0.0</td><td>0.0</td><td>0.0</td><td>0.0</td><td>0.0</td><td>0.0</td><td>0.0</td><td>0.0</td><td>0.0</td><td>0.0</td><td>0.0</td><td>0.0</td><td>&quot;0&quot;</td><td>&quot;0&quot;</td><td>0.0</td><td>0.0</td></tr><tr><td>&quot;mean&quot;</td><td>0.0</td><td>13479.355469</td><td>0.134794</td><td>7.418886</td><td>1.34793552e8</td><td>0.0</td><td>0.0</td><td>0.0</td><td>0.0</td><td>0.0</td><td>0.0</td><td>0.0</td><td>0.0</td><td>0.0</td><td>0.0</td><td>0.0</td><td>0.0</td><td>0.0</td><td>0.0</td><td>0.0</td><td>0.0</td><td>null</td><td>null</td><td>1.5116544e7</td><td>1.1215e8</td></tr><tr><td>&quot;std&quot;</td><td>0.0</td><td>58.689163</td><td>0.000587</td><td>0.032237</td><td>586891.5</td><td>0.0</td><td>0.0</td><td>0.0</td><td>0.0</td><td>0.0</td><td>0.0</td><td>0.0</td><td>0.0</td><td>0.0</td><td>0.0</td><td>0.0</td><td>0.0</td><td>0.0</td><td>0.0</td><td>0.0</td><td>0.0</td><td>null</td><td>null</td><td>0.0</td><td>487314.016066</td></tr><tr><td>&quot;min&quot;</td><td>0.0</td><td>13424.635742</td><td>0.134246</td><td>7.37362</td><td>1.34246352e8</td><td>0.0</td><td>0.0</td><td>0.0</td><td>0.0</td><td>0.0</td><td>0.0</td><td>0.0</td><td>0.0</td><td>0.0</td><td>0.0</td><td>0.0</td><td>0.0</td><td>0.0</td><td>0.0</td><td>0.0</td><td>0.0</td><td>&quot;GPU A100&quot;</td><td>&quot;denovo poisson&quot;</td><td>1.5116544e7</td><td>1.1146e8</td></tr><tr><td>&quot;25%&quot;</td><td>0.0</td><td>13434.679688</td><td>0.134347</td><td>7.381255</td><td>1.343468e8</td><td>0.0</td><td>0.0</td><td>0.0</td><td>0.0</td><td>0.0</td><td>0.0</td><td>0.0</td><td>0.0</td><td>0.0</td><td>0.0</td><td>0.0</td><td>0.0</td><td>0.0</td><td>0.0</td><td>0.0</td><td>0.0</td><td>null</td><td>null</td><td>1.5116544e7</td><td>1.1158e8</td></tr><tr><td>&quot;50%&quot;</td><td>0.0</td><td>13441.760742</td><td>0.134418</td><td>7.439502</td><td>1.344176e8</td><td>0.0</td><td>0.0</td><td>0.0</td><td>0.0</td><td>0.0</td><td>0.0</td><td>0.0</td><td>0.0</td><td>0.0</td><td>0.0</td><td>0.0</td><td>0.0</td><td>0.0</td><td>0.0</td><td>0.0</td><td>0.0</td><td>null</td><td>null</td><td>1.5116544e7</td><td>1.1246e8</td></tr><tr><td>&quot;75%&quot;</td><td>0.0</td><td>13547.833008</td><td>0.135478</td><td>7.443423</td><td>1.3547832e8</td><td>0.0</td><td>0.0</td><td>0.0</td><td>0.0</td><td>0.0</td><td>0.0</td><td>0.0</td><td>0.0</td><td>0.0</td><td>0.0</td><td>0.0</td><td>0.0</td><td>0.0</td><td>0.0</td><td>0.0</td><td>0.0</td><td>null</td><td>null</td><td>1.5116544e7</td><td>1.1252e8</td></tr><tr><td>&quot;max&quot;</td><td>0.0</td><td>13561.860352</td><td>0.135619</td><td>7.448992</td><td>1.35618608e8</td><td>0.0</td><td>0.0</td><td>0.0</td><td>0.0</td><td>0.0</td><td>0.0</td><td>0.0</td><td>0.0</td><td>0.0</td><td>0.0</td><td>0.0</td><td>0.0</td><td>0.0</td><td>0.0</td><td>0.0</td><td>0.0</td><td>&quot;GPU A100&quot;</td><td>&quot;denovo poisson&quot;</td><td>1.5116544e7</td><td>1.1260e8</td></tr></tbody></table></div>"
      ],
      "text/plain": [
       "shape: (9, 26)\n",
       "┌───────────┬───────────┬───────────┬───────────┬───┬──────────┬───────────┬───────────┬───────────┐\n",
       "│ statistic ┆ tsc ticks ┆ tsc       ┆ tsc       ┆ … ┆ hardware ┆ experimen ┆ net popul ┆ throughpu │\n",
       "│ ---       ┆ ---       ┆ seconds   ┆ seconds   ┆   ┆ ---      ┆ t design  ┆ ation     ┆ t (agent- │\n",
       "│ str       ┆ f64       ┆ ---       ┆ per cycle ┆   ┆ str      ┆ ---       ┆ size      ┆ generatio │\n",
       "│           ┆           ┆ f64       ┆ ---       ┆   ┆          ┆ str       ┆ ---       ┆ ns/…      │\n",
       "│           ┆           ┆           ┆ f64       ┆   ┆          ┆           ┆ f64       ┆ ---       │\n",
       "│           ┆           ┆           ┆           ┆   ┆          ┆           ┆           ┆ f64       │\n",
       "╞═══════════╪═══════════╪═══════════╪═══════════╪═══╪══════════╪═══════════╪═══════════╪═══════════╡\n",
       "│ count     ┆ 21.0      ┆ 21.0      ┆ 21.0      ┆ … ┆ 21       ┆ 21        ┆ 21.0      ┆ 21.0      │\n",
       "│ null_coun ┆ 0.0       ┆ 0.0       ┆ 0.0       ┆ … ┆ 0        ┆ 0         ┆ 0.0       ┆ 0.0       │\n",
       "│ t         ┆           ┆           ┆           ┆   ┆          ┆           ┆           ┆           │\n",
       "│ mean      ┆ 0.0       ┆ 13479.355 ┆ 0.134794  ┆ … ┆ null     ┆ null      ┆ 1.5116544 ┆ 1.1215e8  │\n",
       "│           ┆           ┆ 469       ┆           ┆   ┆          ┆           ┆ e7        ┆           │\n",
       "│ std       ┆ 0.0       ┆ 58.689163 ┆ 0.000587  ┆ … ┆ null     ┆ null      ┆ 0.0       ┆ 487314.01 │\n",
       "│           ┆           ┆           ┆           ┆   ┆          ┆           ┆           ┆ 6066      │\n",
       "│ min       ┆ 0.0       ┆ 13424.635 ┆ 0.134246  ┆ … ┆ GPU A100 ┆ denovo    ┆ 1.5116544 ┆ 1.1146e8  │\n",
       "│           ┆           ┆ 742       ┆           ┆   ┆          ┆ poisson   ┆ e7        ┆           │\n",
       "│ 25%       ┆ 0.0       ┆ 13434.679 ┆ 0.134347  ┆ … ┆ null     ┆ null      ┆ 1.5116544 ┆ 1.1158e8  │\n",
       "│           ┆           ┆ 688       ┆           ┆   ┆          ┆           ┆ e7        ┆           │\n",
       "│ 50%       ┆ 0.0       ┆ 13441.760 ┆ 0.134418  ┆ … ┆ null     ┆ null      ┆ 1.5116544 ┆ 1.1246e8  │\n",
       "│           ┆           ┆ 742       ┆           ┆   ┆          ┆           ┆ e7        ┆           │\n",
       "│ 75%       ┆ 0.0       ┆ 13547.833 ┆ 0.135478  ┆ … ┆ null     ┆ null      ┆ 1.5116544 ┆ 1.1252e8  │\n",
       "│           ┆           ┆ 008       ┆           ┆   ┆          ┆           ┆ e7        ┆           │\n",
       "│ max       ┆ 0.0       ┆ 13561.860 ┆ 0.135619  ┆ … ┆ GPU A100 ┆ denovo    ┆ 1.5116544 ┆ 1.1260e8  │\n",
       "│           ┆           ┆ 352       ┆           ┆   ┆          ┆ poisson   ┆ e7        ┆           │\n",
       "└───────────┴───────────┴───────────┴───────────┴───┴──────────┴───────────┴───────────┴───────────┘"
      ]
     },
     "metadata": {},
     "output_type": "display_data"
    }
   ],
   "source": [
    "cupy_perf = (\n",
    "    pl.concat(\n",
    "        [\n",
    "            pl.read_parquet(\n",
    "                \"https://osf.io/jbqxy/download\",\n",
    "                use_pyarrow=True,\n",
    "            ).with_columns(\n",
    "                pl.lit(\"GPU A100\").alias(\"hardware\"),\n",
    "                pl.lit(\"denovo poisson\").alias(\"experiment design\"),\n",
    "                pl.lit(256 * 243 * 243).alias(\"net population size\"),\n",
    "            ),\n",
    "        ],\n",
    "    )\n",
    "    .filter(pl.col(\"tile\") == 0)\n",
    "    .with_columns(\n",
    "        (\n",
    "            pl.col(\"net population size\") / pl.col(\"tsc seconds per cycle\")\n",
    "        ).alias(\"throughput (agent-generations/sec)\"),\n",
    "    )\n",
    ")\n",
    "display(cupy_perf)\n",
    "display(cupy_perf.describe())\n"
   ]
  },
  {
   "cell_type": "code",
   "execution_count": 6,
   "metadata": {
    "execution": {
     "iopub.execute_input": "2025-03-13T13:33:24.663837Z",
     "iopub.status.busy": "2025-03-13T13:33:24.663385Z",
     "iopub.status.idle": "2025-03-13T13:33:33.089936Z",
     "shell.execute_reply": "2025-03-13T13:33:33.089274Z"
    }
   },
   "outputs": [],
   "source": [
    "wse_perf = pl.concat(\n",
    "    [\n",
    "        pl.read_parquet(\n",
    "            \"https://osf.io/h3tu4/download\",\n",
    "            use_pyarrow=True,\n",
    "        )\n",
    "        .filter(pl.col(\"tile\") == 749 * 993 - 1)\n",
    "        .with_columns(\n",
    "            pl.lit(\"WSE CS-2\").alias(\"hardware\"),\n",
    "            pl.lit(\"50/50 site-explicit\").alias(\"experiment design\"),\n",
    "            pl.lit(256 * 750 * 994).alias(\"net population size\"),\n",
    "        ),\n",
    "        pl.read_parquet(\n",
    "            \"https://osf.io/w97nx/download\",\n",
    "            use_pyarrow=True,\n",
    "        )\n",
    "        .filter(pl.col(\"tile\") == 749 * 993 - 1)\n",
    "        .with_columns(\n",
    "            pl.lit(\"WSE CS-2\").alias(\"hardware\"),\n",
    "            pl.lit(\"denovo site-explicit\").alias(\"experiment design\"),\n",
    "            pl.lit(256 * 750 * 994).alias(\"net population size\"),\n",
    "        ),\n",
    "        pl.read_parquet(\n",
    "            \"https://osf.io/vh9pb/download\",\n",
    "            use_pyarrow=True,\n",
    "        )\n",
    "        .filter(pl.col(\"tile\") == 749 * 993 - 1)\n",
    "        .with_columns(\n",
    "            pl.lit(\"WSE CS-2\").alias(\"hardware\"),\n",
    "            pl.lit(\"50/50 poisson\").alias(\"experiment design\"),\n",
    "            pl.lit(256 * 750 * 994).alias(\"net population size\"),\n",
    "        ),\n",
    "        pl.read_parquet(\n",
    "            \"https://osf.io/zp9gt/download\",\n",
    "            use_pyarrow=True,\n",
    "        )\n",
    "        .filter(pl.col(\"tile\") == 749 * 993 - 1)\n",
    "        .with_columns(\n",
    "            pl.lit(\"WSE CS-2\").alias(\"hardware\"),\n",
    "            pl.lit(\"denovo poisson\").alias(\"experiment design\"),\n",
    "            pl.lit(256 * 750 * 994).alias(\"net population size\"),\n",
    "        ),\n",
    "    ],\n",
    ").with_columns(\n",
    "    (pl.col(\"net population size\") / pl.col(\"tsc seconds per cycle\")).alias(\n",
    "        \"throughput (agent-generations/sec)\"\n",
    "    ),\n",
    ")\n"
   ]
  },
  {
   "cell_type": "code",
   "execution_count": 7,
   "metadata": {
    "execution": {
     "iopub.execute_input": "2025-03-13T13:33:33.092171Z",
     "iopub.status.busy": "2025-03-13T13:33:33.091717Z",
     "iopub.status.idle": "2025-03-13T13:33:33.104589Z",
     "shell.execute_reply": "2025-03-13T13:33:33.103991Z"
    }
   },
   "outputs": [
    {
     "data": {
      "text/html": [
       "<div><style>\n",
       ".dataframe > thead > tr,\n",
       ".dataframe > tbody > tr {\n",
       "  text-align: right;\n",
       "  white-space: pre-wrap;\n",
       "}\n",
       "</style>\n",
       "<small>shape: (273, 25)</small><table border=\"1\" class=\"dataframe\"><thead><tr><th>tsc ticks</th><th>tsc seconds</th><th>tsc seconds per cycle</th><th>tsc cycle hertz</th><th>tsc ns per cycle</th><th>recv sum</th><th>send sum</th><th>cycle count</th><th>tsc start</th><th>tsc end</th><th>send N</th><th>send S</th><th>send E</th><th>send W</th><th>recv N</th><th>recv S</th><th>recv E</th><th>recv W</th><th>tile</th><th>row</th><th>col</th><th>hardware</th><th>experiment design</th><th>net population size</th><th>throughput (agent-generations/sec)</th></tr><tr><td>u64</td><td>f32</td><td>f32</td><td>f32</td><td>f32</td><td>u32</td><td>u32</td><td>u32</td><td>u64</td><td>u64</td><td>u32</td><td>u32</td><td>u32</td><td>u32</td><td>u32</td><td>u32</td><td>u32</td><td>u32</td><td>u32</td><td>u16</td><td>u16</td><td>str</td><td>str</td><td>i32</td><td>f64</td></tr></thead><tbody><tr><td>0</td><td>13424.635742</td><td>0.134246</td><td>7.448992</td><td>1.34246352e8</td><td>0</td><td>0</td><td>0</td><td>0</td><td>0</td><td>0</td><td>0</td><td>0</td><td>0</td><td>0</td><td>0</td><td>0</td><td>0</td><td>0</td><td>0</td><td>0</td><td>&quot;GPU A100&quot;</td><td>&quot;denovo poisson&quot;</td><td>15116544</td><td>1.1260e8</td></tr><tr><td>0</td><td>13424.725586</td><td>0.134247</td><td>7.448942</td><td>1.34247248e8</td><td>0</td><td>0</td><td>0</td><td>0</td><td>0</td><td>0</td><td>0</td><td>0</td><td>0</td><td>0</td><td>0</td><td>0</td><td>0</td><td>0</td><td>0</td><td>0</td><td>&quot;GPU A100&quot;</td><td>&quot;denovo poisson&quot;</td><td>15116544</td><td>1.1260e8</td></tr><tr><td>0</td><td>13426.507812</td><td>0.134265</td><td>7.447953</td><td>1.34265072e8</td><td>0</td><td>0</td><td>0</td><td>0</td><td>0</td><td>0</td><td>0</td><td>0</td><td>0</td><td>0</td><td>0</td><td>0</td><td>0</td><td>0</td><td>0</td><td>0</td><td>&quot;GPU A100&quot;</td><td>&quot;denovo poisson&quot;</td><td>15116544</td><td>1.1259e8</td></tr><tr><td>0</td><td>13435.211914</td><td>0.134352</td><td>7.443128</td><td>1.34352128e8</td><td>0</td><td>0</td><td>0</td><td>0</td><td>0</td><td>0</td><td>0</td><td>0</td><td>0</td><td>0</td><td>0</td><td>0</td><td>0</td><td>0</td><td>0</td><td>0</td><td>&quot;GPU A100&quot;</td><td>&quot;denovo poisson&quot;</td><td>15116544</td><td>1.1251e8</td></tr><tr><td>0</td><td>13437.150391</td><td>0.134372</td><td>7.442054</td><td>1.34371504e8</td><td>0</td><td>0</td><td>0</td><td>0</td><td>0</td><td>0</td><td>0</td><td>0</td><td>0</td><td>0</td><td>0</td><td>0</td><td>0</td><td>0</td><td>0</td><td>0</td><td>&quot;GPU A100&quot;</td><td>&quot;denovo poisson&quot;</td><td>15116544</td><td>1.1250e8</td></tr><tr><td>&hellip;</td><td>&hellip;</td><td>&hellip;</td><td>&hellip;</td><td>&hellip;</td><td>&hellip;</td><td>&hellip;</td><td>&hellip;</td><td>&hellip;</td><td>&hellip;</td><td>&hellip;</td><td>&hellip;</td><td>&hellip;</td><td>&hellip;</td><td>&hellip;</td><td>&hellip;</td><td>&hellip;</td><td>&hellip;</td><td>&hellip;</td><td>&hellip;</td><td>&hellip;</td><td>&hellip;</td><td>&hellip;</td><td>&hellip;</td><td>&hellip;</td></tr><tr><td>103685662536</td><td>121.983131</td><td>0.000244</td><td>4098.927246</td><td>243966.265625</td><td>1000003</td><td>4000008</td><td>500000</td><td>27523</td><td>103685690059</td><td>1000002</td><td>1000002</td><td>1000002</td><td>1000002</td><td>250001</td><td>250000</td><td>250001</td><td>250001</td><td>743756</td><td>991</td><td>506</td><td>&quot;WSE CS-2&quot;</td><td>&quot;denovo poisson&quot;</td><td>190848000</td><td>7.8227e11</td></tr><tr><td>103659336568</td><td>121.952164</td><td>0.000244</td><td>4099.968262</td><td>243904.328125</td><td>1000002</td><td>4000008</td><td>500000</td><td>27559</td><td>103659364127</td><td>1000002</td><td>1000002</td><td>1000002</td><td>1000002</td><td>250000</td><td>250000</td><td>250001</td><td>250001</td><td>743756</td><td>991</td><td>506</td><td>&quot;WSE CS-2&quot;</td><td>&quot;denovo poisson&quot;</td><td>190848000</td><td>7.8247e11</td></tr><tr><td>103683860081</td><td>121.98101</td><td>0.000244</td><td>4098.998535</td><td>243962.03125</td><td>1000000</td><td>4000008</td><td>500000</td><td>27558</td><td>103683887639</td><td>1000002</td><td>1000002</td><td>1000002</td><td>1000002</td><td>250000</td><td>250000</td><td>250000</td><td>250000</td><td>743756</td><td>991</td><td>506</td><td>&quot;WSE CS-2&quot;</td><td>&quot;denovo poisson&quot;</td><td>190848000</td><td>7.8229e11</td></tr><tr><td>103884915780</td><td>122.217545</td><td>0.000244</td><td>4091.06543</td><td>244435.09375</td><td>1000001</td><td>4000008</td><td>500000</td><td>28261</td><td>103884944041</td><td>1000002</td><td>1000002</td><td>1000002</td><td>1000002</td><td>250000</td><td>250000</td><td>250001</td><td>250000</td><td>743756</td><td>991</td><td>506</td><td>&quot;WSE CS-2&quot;</td><td>&quot;denovo poisson&quot;</td><td>190848000</td><td>7.8077e11</td></tr><tr><td>103659250820</td><td>121.952057</td><td>0.000244</td><td>4099.97168</td><td>243904.125</td><td>1000000</td><td>4000008</td><td>500000</td><td>28261</td><td>103659279081</td><td>1000002</td><td>1000002</td><td>1000002</td><td>1000002</td><td>250000</td><td>250000</td><td>250000</td><td>250000</td><td>743756</td><td>991</td><td>506</td><td>&quot;WSE CS-2&quot;</td><td>&quot;denovo poisson&quot;</td><td>190848000</td><td>7.8247e11</td></tr></tbody></table></div>"
      ],
      "text/plain": [
       "shape: (273, 25)\n",
       "┌───────────┬───────────┬───────────┬───────────┬───┬──────────┬───────────┬───────────┬───────────┐\n",
       "│ tsc ticks ┆ tsc       ┆ tsc       ┆ tsc cycle ┆ … ┆ hardware ┆ experimen ┆ net popul ┆ throughpu │\n",
       "│ ---       ┆ seconds   ┆ seconds   ┆ hertz     ┆   ┆ ---      ┆ t design  ┆ ation     ┆ t (agent- │\n",
       "│ u64       ┆ ---       ┆ per cycle ┆ ---       ┆   ┆ str      ┆ ---       ┆ size      ┆ generatio │\n",
       "│           ┆ f32       ┆ ---       ┆ f32       ┆   ┆          ┆ str       ┆ ---       ┆ ns/…      │\n",
       "│           ┆           ┆ f32       ┆           ┆   ┆          ┆           ┆ i32       ┆ ---       │\n",
       "│           ┆           ┆           ┆           ┆   ┆          ┆           ┆           ┆ f64       │\n",
       "╞═══════════╪═══════════╪═══════════╪═══════════╪═══╪══════════╪═══════════╪═══════════╪═══════════╡\n",
       "│ 0         ┆ 13424.635 ┆ 0.134246  ┆ 7.448992  ┆ … ┆ GPU A100 ┆ denovo    ┆ 15116544  ┆ 1.1260e8  │\n",
       "│           ┆ 742       ┆           ┆           ┆   ┆          ┆ poisson   ┆           ┆           │\n",
       "│ 0         ┆ 13424.725 ┆ 0.134247  ┆ 7.448942  ┆ … ┆ GPU A100 ┆ denovo    ┆ 15116544  ┆ 1.1260e8  │\n",
       "│           ┆ 586       ┆           ┆           ┆   ┆          ┆ poisson   ┆           ┆           │\n",
       "│ 0         ┆ 13426.507 ┆ 0.134265  ┆ 7.447953  ┆ … ┆ GPU A100 ┆ denovo    ┆ 15116544  ┆ 1.1259e8  │\n",
       "│           ┆ 812       ┆           ┆           ┆   ┆          ┆ poisson   ┆           ┆           │\n",
       "│ 0         ┆ 13435.211 ┆ 0.134352  ┆ 7.443128  ┆ … ┆ GPU A100 ┆ denovo    ┆ 15116544  ┆ 1.1251e8  │\n",
       "│           ┆ 914       ┆           ┆           ┆   ┆          ┆ poisson   ┆           ┆           │\n",
       "│ 0         ┆ 13437.150 ┆ 0.134372  ┆ 7.442054  ┆ … ┆ GPU A100 ┆ denovo    ┆ 15116544  ┆ 1.1250e8  │\n",
       "│           ┆ 391       ┆           ┆           ┆   ┆          ┆ poisson   ┆           ┆           │\n",
       "│ …         ┆ …         ┆ …         ┆ …         ┆ … ┆ …        ┆ …         ┆ …         ┆ …         │\n",
       "│ 103685662 ┆ 121.98313 ┆ 0.000244  ┆ 4098.9272 ┆ … ┆ WSE CS-2 ┆ denovo    ┆ 190848000 ┆ 7.8227e11 │\n",
       "│ 536       ┆ 1         ┆           ┆ 46        ┆   ┆          ┆ poisson   ┆           ┆           │\n",
       "│ 103659336 ┆ 121.95216 ┆ 0.000244  ┆ 4099.9682 ┆ … ┆ WSE CS-2 ┆ denovo    ┆ 190848000 ┆ 7.8247e11 │\n",
       "│ 568       ┆ 4         ┆           ┆ 62        ┆   ┆          ┆ poisson   ┆           ┆           │\n",
       "│ 103683860 ┆ 121.98101 ┆ 0.000244  ┆ 4098.9985 ┆ … ┆ WSE CS-2 ┆ denovo    ┆ 190848000 ┆ 7.8229e11 │\n",
       "│ 081       ┆           ┆           ┆ 35        ┆   ┆          ┆ poisson   ┆           ┆           │\n",
       "│ 103884915 ┆ 122.21754 ┆ 0.000244  ┆ 4091.0654 ┆ … ┆ WSE CS-2 ┆ denovo    ┆ 190848000 ┆ 7.8077e11 │\n",
       "│ 780       ┆ 5         ┆           ┆ 3         ┆   ┆          ┆ poisson   ┆           ┆           │\n",
       "│ 103659250 ┆ 121.95205 ┆ 0.000244  ┆ 4099.9716 ┆ … ┆ WSE CS-2 ┆ denovo    ┆ 190848000 ┆ 7.8247e11 │\n",
       "│ 820       ┆ 7         ┆           ┆ 8         ┆   ┆          ┆ poisson   ┆           ┆           │\n",
       "└───────────┴───────────┴───────────┴───────────┴───┴──────────┴───────────┴───────────┴───────────┘"
      ]
     },
     "metadata": {},
     "output_type": "display_data"
    },
    {
     "data": {
      "text/html": [
       "<div><style>\n",
       ".dataframe > thead > tr,\n",
       ".dataframe > tbody > tr {\n",
       "  text-align: right;\n",
       "  white-space: pre-wrap;\n",
       "}\n",
       "</style>\n",
       "<small>shape: (9, 26)</small><table border=\"1\" class=\"dataframe\"><thead><tr><th>statistic</th><th>tsc ticks</th><th>tsc seconds</th><th>tsc seconds per cycle</th><th>tsc cycle hertz</th><th>tsc ns per cycle</th><th>recv sum</th><th>send sum</th><th>cycle count</th><th>tsc start</th><th>tsc end</th><th>send N</th><th>send S</th><th>send E</th><th>send W</th><th>recv N</th><th>recv S</th><th>recv E</th><th>recv W</th><th>tile</th><th>row</th><th>col</th><th>hardware</th><th>experiment design</th><th>net population size</th><th>throughput (agent-generations/sec)</th></tr><tr><td>str</td><td>f64</td><td>f64</td><td>f64</td><td>f64</td><td>f64</td><td>f64</td><td>f64</td><td>f64</td><td>f64</td><td>f64</td><td>f64</td><td>f64</td><td>f64</td><td>f64</td><td>f64</td><td>f64</td><td>f64</td><td>f64</td><td>f64</td><td>f64</td><td>f64</td><td>str</td><td>str</td><td>f64</td><td>f64</td></tr></thead><tbody><tr><td>&quot;count&quot;</td><td>273.0</td><td>273.0</td><td>273.0</td><td>273.0</td><td>273.0</td><td>273.0</td><td>273.0</td><td>273.0</td><td>273.0</td><td>273.0</td><td>273.0</td><td>273.0</td><td>273.0</td><td>273.0</td><td>273.0</td><td>273.0</td><td>273.0</td><td>273.0</td><td>273.0</td><td>273.0</td><td>273.0</td><td>&quot;273&quot;</td><td>&quot;273&quot;</td><td>273.0</td><td>273.0</td></tr><tr><td>&quot;null_count&quot;</td><td>0.0</td><td>0.0</td><td>0.0</td><td>0.0</td><td>0.0</td><td>0.0</td><td>0.0</td><td>0.0</td><td>0.0</td><td>0.0</td><td>0.0</td><td>0.0</td><td>0.0</td><td>0.0</td><td>0.0</td><td>0.0</td><td>0.0</td><td>0.0</td><td>0.0</td><td>0.0</td><td>0.0</td><td>&quot;0&quot;</td><td>&quot;0&quot;</td><td>0.0</td><td>0.0</td></tr><tr><td>&quot;mean&quot;</td><td>1.0751e11</td><td>1163.357178</td><td>0.010622</td><td>3449.05542</td><td>1.0621702e7</td><td>923077.32967</td><td>3.6923e6</td><td>461538.461538</td><td>26886.446886</td><td>1.0751e11</td><td>923078.769231</td><td>923078.769231</td><td>923078.769231</td><td>923078.769231</td><td>230769.377289</td><td>230768.882784</td><td>230769.556777</td><td>230769.512821</td><td>686544.0</td><td>914.769231</td><td>467.076923</td><td>null</td><td>null</td><td>1.7733e8</td><td>6.5815e11</td></tr><tr><td>&quot;std&quot;</td><td>3.6153e10</td><td>3561.953613</td><td>0.035912</td><td>1120.967773</td><td>3.5911536e7</td><td>266958.856706</td><td>1.0678e6</td><td>133479.369497</td><td>8127.476264</td><td>3.6153e10</td><td>266959.272912</td><td>266959.272912</td><td>266959.272912</td><td>266959.272912</td><td>66739.727306</td><td>66739.584188</td><td>66739.779038</td><td>66739.766333</td><td>198552.16388</td><td>264.55611</td><td>135.081122</td><td>null</td><td>null</td><td>4.6913e7</td><td>2.1424e11</td></tr><tr><td>&quot;min&quot;</td><td>0.0</td><td>110.615601</td><td>0.000221</td><td>7.37362</td><td>221231.203125</td><td>0.0</td><td>0.0</td><td>0.0</td><td>0.0</td><td>0.0</td><td>0.0</td><td>0.0</td><td>0.0</td><td>0.0</td><td>0.0</td><td>0.0</td><td>0.0</td><td>0.0</td><td>0.0</td><td>0.0</td><td>0.0</td><td>&quot;GPU A100&quot;</td><td>&quot;50/50 poisson&quot;</td><td>1.5116544e7</td><td>1.1146e8</td></tr><tr><td>&quot;25%&quot;</td><td>1.0271e11</td><td>121.95208</td><td>0.000244</td><td>3204.392822</td><td>243904.15625</td><td>1e6</td><td>4.000008e6</td><td>500000.0</td><td>27523.0</td><td>1.0271e11</td><td>1.000002e6</td><td>1.000002e6</td><td>1.000002e6</td><td>1.000002e6</td><td>250000.0</td><td>250000.0</td><td>250000.0</td><td>250000.0</td><td>743756.0</td><td>991.0</td><td>506.0</td><td>null</td><td>null</td><td>1.90848e8</td><td>6.1155e11</td></tr><tr><td>&quot;50%&quot;</td><td>1.0389e11</td><td>130.341278</td><td>0.000261</td><td>3836.083252</td><td>260682.5625</td><td>1.000001e6</td><td>4.000008e6</td><td>500000.0</td><td>28261.0</td><td>1.0389e11</td><td>1.000002e6</td><td>1.000002e6</td><td>1.000002e6</td><td>1.000002e6</td><td>250001.0</td><td>250000.0</td><td>250000.0</td><td>250000.0</td><td>743756.0</td><td>991.0</td><td>506.0</td><td>null</td><td>null</td><td>1.90848e8</td><td>7.3211e11</td></tr><tr><td>&quot;75%&quot;</td><td>1.2696e11</td><td>156.035812</td><td>0.000312</td><td>4099.971191</td><td>312071.625</td><td>1.000003e6</td><td>4.000008e6</td><td>500000.0</td><td>28567.0</td><td>1.2696e11</td><td>1.000002e6</td><td>1.000002e6</td><td>1.000002e6</td><td>1.000002e6</td><td>250001.0</td><td>250000.0</td><td>250001.0</td><td>250001.0</td><td>743756.0</td><td>991.0</td><td>506.0</td><td>null</td><td>null</td><td>1.90848e8</td><td>7.8247e11</td></tr><tr><td>&quot;max&quot;</td><td>1.7584e11</td><td>13561.860352</td><td>0.135619</td><td>4520.158203</td><td>1.35618608e8</td><td>1.000004e6</td><td>4.000008e6</td><td>500000.0</td><td>35548.0</td><td>1.7584e11</td><td>1.000002e6</td><td>1.000002e6</td><td>1.000002e6</td><td>1.000002e6</td><td>250001.0</td><td>250001.0</td><td>250001.0</td><td>250001.0</td><td>743756.0</td><td>991.0</td><td>506.0</td><td>&quot;WSE CS-2&quot;</td><td>&quot;denovo site-explicit&quot;</td><td>1.90848e8</td><td>8.6266e11</td></tr></tbody></table></div>"
      ],
      "text/plain": [
       "shape: (9, 26)\n",
       "┌───────────┬───────────┬───────────┬───────────┬───┬──────────┬───────────┬───────────┬───────────┐\n",
       "│ statistic ┆ tsc ticks ┆ tsc       ┆ tsc       ┆ … ┆ hardware ┆ experimen ┆ net popul ┆ throughpu │\n",
       "│ ---       ┆ ---       ┆ seconds   ┆ seconds   ┆   ┆ ---      ┆ t design  ┆ ation     ┆ t (agent- │\n",
       "│ str       ┆ f64       ┆ ---       ┆ per cycle ┆   ┆ str      ┆ ---       ┆ size      ┆ generatio │\n",
       "│           ┆           ┆ f64       ┆ ---       ┆   ┆          ┆ str       ┆ ---       ┆ ns/…      │\n",
       "│           ┆           ┆           ┆ f64       ┆   ┆          ┆           ┆ f64       ┆ ---       │\n",
       "│           ┆           ┆           ┆           ┆   ┆          ┆           ┆           ┆ f64       │\n",
       "╞═══════════╪═══════════╪═══════════╪═══════════╪═══╪══════════╪═══════════╪═══════════╪═══════════╡\n",
       "│ count     ┆ 273.0     ┆ 273.0     ┆ 273.0     ┆ … ┆ 273      ┆ 273       ┆ 273.0     ┆ 273.0     │\n",
       "│ null_coun ┆ 0.0       ┆ 0.0       ┆ 0.0       ┆ … ┆ 0        ┆ 0         ┆ 0.0       ┆ 0.0       │\n",
       "│ t         ┆           ┆           ┆           ┆   ┆          ┆           ┆           ┆           │\n",
       "│ mean      ┆ 1.0751e11 ┆ 1163.3571 ┆ 0.010622  ┆ … ┆ null     ┆ null      ┆ 1.7733e8  ┆ 6.5815e11 │\n",
       "│           ┆           ┆ 78        ┆           ┆   ┆          ┆           ┆           ┆           │\n",
       "│ std       ┆ 3.6153e10 ┆ 3561.9536 ┆ 0.035912  ┆ … ┆ null     ┆ null      ┆ 4.6913e7  ┆ 2.1424e11 │\n",
       "│           ┆           ┆ 13        ┆           ┆   ┆          ┆           ┆           ┆           │\n",
       "│ min       ┆ 0.0       ┆ 110.61560 ┆ 0.000221  ┆ … ┆ GPU A100 ┆ 50/50     ┆ 1.5116544 ┆ 1.1146e8  │\n",
       "│           ┆           ┆ 1         ┆           ┆   ┆          ┆ poisson   ┆ e7        ┆           │\n",
       "│ 25%       ┆ 1.0271e11 ┆ 121.95208 ┆ 0.000244  ┆ … ┆ null     ┆ null      ┆ 1.90848e8 ┆ 6.1155e11 │\n",
       "│ 50%       ┆ 1.0389e11 ┆ 130.34127 ┆ 0.000261  ┆ … ┆ null     ┆ null      ┆ 1.90848e8 ┆ 7.3211e11 │\n",
       "│           ┆           ┆ 8         ┆           ┆   ┆          ┆           ┆           ┆           │\n",
       "│ 75%       ┆ 1.2696e11 ┆ 156.03581 ┆ 0.000312  ┆ … ┆ null     ┆ null      ┆ 1.90848e8 ┆ 7.8247e11 │\n",
       "│           ┆           ┆ 2         ┆           ┆   ┆          ┆           ┆           ┆           │\n",
       "│ max       ┆ 1.7584e11 ┆ 13561.860 ┆ 0.135619  ┆ … ┆ WSE CS-2 ┆ denovo    ┆ 1.90848e8 ┆ 8.6266e11 │\n",
       "│           ┆           ┆ 352       ┆           ┆   ┆          ┆ site-expl ┆           ┆           │\n",
       "│           ┆           ┆           ┆           ┆   ┆          ┆ icit      ┆           ┆           │\n",
       "└───────────┴───────────┴───────────┴───────────┴───┴──────────┴───────────┴───────────┴───────────┘"
      ]
     },
     "metadata": {},
     "output_type": "display_data"
    }
   ],
   "source": [
    "df = pl.concat([cupy_perf, wse_perf])\n",
    "display(df)\n",
    "display(df.describe())\n"
   ]
  },
  {
   "cell_type": "markdown",
   "metadata": {},
   "source": [
    "## Absolute performance\n"
   ]
  },
  {
   "cell_type": "code",
   "execution_count": 8,
   "metadata": {
    "execution": {
     "iopub.execute_input": "2025-03-13T13:33:33.106559Z",
     "iopub.status.busy": "2025-03-13T13:33:33.106198Z",
     "iopub.status.idle": "2025-03-13T13:33:36.730815Z",
     "shell.execute_reply": "2025-03-13T13:33:36.730164Z"
    }
   },
   "outputs": [
    {
     "name": "stderr",
     "output_type": "stream",
     "text": [
      "/usr/local/lib/python3.10/dist-packages/backstrip/_backplot.py:127: UserWarning: The palette list has more values (8) than needed (2), which may not be intended.\n",
      "  g = sns.catplot(\n"
     ]
    },
    {
     "name": "stdout",
     "output_type": "stream",
     "text": [
      "teeplots/perf-wse-vs-gpu-100k/col=experiment-design+hue=hardware+orient=h+viz=backplot+x=throughput-agent-generations-sec+ext=.pdf\n",
      "teeplots/perf-wse-vs-gpu-100k/col=experiment-design+hue=hardware+orient=h+viz=backplot+x=throughput-agent-generations-sec+ext=.png\n"
     ]
    },
    {
     "data": {
      "image/png": "[encoded data removed]",
      "text/plain": [
       "<Figure size 719.5x300 with 4 Axes>"
      ]
     },
     "metadata": {},
     "output_type": "display_data"
    },
    {
     "data": {
      "text/plain": [
       "<seaborn.axisgrid.FacetGrid at 0x7fddcfc805e0>"
      ]
     },
     "execution_count": 8,
     "metadata": {},
     "output_type": "execute_result"
    }
   ],
   "source": [
    "tp.tee(\n",
    "    backplot,\n",
    "    data=df.to_pandas(),\n",
    "    col=\"experiment design\",\n",
    "    x=\"throughput (agent-generations/sec)\",\n",
    "    hue=\"hardware\",\n",
    "    aspect=2,\n",
    "    col_wrap=2,\n",
    "    height=1.5,\n",
    "    orient=\"h\",\n",
    "    log_scale=(True, False),\n",
    "    palette=sns.color_palette(\"Accent\"),\n",
    "    sharey=False,\n",
    "    teeplot_outexclude=\"post\",\n",
    "    teeplot_postprocess=\"\"\"\n",
    "for ax in teed.axes.flat[2:]:\n",
    "    ax.set_ylim(-0.1, 0.5)\n",
    "\"\"\",\n",
    "    teeplot_subdir=teeplot_subdir,\n",
    ")\n"
   ]
  },
  {
   "cell_type": "code",
   "execution_count": 9,
   "metadata": {
    "execution": {
     "iopub.execute_input": "2025-03-13T13:33:36.732894Z",
     "iopub.status.busy": "2025-03-13T13:33:36.732514Z",
     "iopub.status.idle": "2025-03-13T13:33:36.737848Z",
     "shell.execute_reply": "2025-03-13T13:33:36.737380Z"
    }
   },
   "outputs": [
    {
     "data": {
      "text/html": [
       "<div><style>\n",
       ".dataframe > thead > tr,\n",
       ".dataframe > tbody > tr {\n",
       "  text-align: right;\n",
       "  white-space: pre-wrap;\n",
       "}\n",
       "</style>\n",
       "<small>shape: (5, 6)</small><table border=\"1\" class=\"dataframe\"><thead><tr><th>hardware</th><th>experiment design</th><th>mean_throughput</th><th>std_throughput</th><th>mean_speed</th><th>std_speed</th></tr><tr><td>str</td><td>str</td><td>f64</td><td>f64</td><td>f32</td><td>f32</td></tr></thead><tbody><tr><td>&quot;GPU A100&quot;</td><td>&quot;denovo poisson&quot;</td><td>1.1215e8</td><td>487314.016066</td><td>7.418887</td><td>0.032237</td></tr><tr><td>&quot;WSE CS-2&quot;</td><td>&quot;50/50 site-explicit&quot;</td><td>6.7028e11</td><td>1.1047e11</td><td>3512.122314</td><td>578.845947</td></tr><tr><td>&quot;WSE CS-2&quot;</td><td>&quot;50/50 poisson&quot;</td><td>8.2192e11</td><td>2.9740e10</td><td>4306.648438</td><td>155.83284</td></tr><tr><td>&quot;WSE CS-2&quot;</td><td>&quot;denovo poisson&quot;</td><td>7.8222e11</td><td>5.2905e8</td><td>4098.675781</td><td>2.772118</td></tr><tr><td>&quot;WSE CS-2&quot;</td><td>&quot;denovo site-explicit&quot;</td><td>6.5376e11</td><td>5.4374e10</td><td>3425.558105</td><td>284.907532</td></tr></tbody></table></div>"
      ],
      "text/plain": [
       "shape: (5, 6)\n",
       "┌──────────┬──────────────────────┬─────────────────┬────────────────┬─────────────┬────────────┐\n",
       "│ hardware ┆ experiment design    ┆ mean_throughput ┆ std_throughput ┆ mean_speed  ┆ std_speed  │\n",
       "│ ---      ┆ ---                  ┆ ---             ┆ ---            ┆ ---         ┆ ---        │\n",
       "│ str      ┆ str                  ┆ f64             ┆ f64            ┆ f32         ┆ f32        │\n",
       "╞══════════╪══════════════════════╪═════════════════╪════════════════╪═════════════╪════════════╡\n",
       "│ GPU A100 ┆ denovo poisson       ┆ 1.1215e8        ┆ 487314.016066  ┆ 7.418887    ┆ 0.032237   │\n",
       "│ WSE CS-2 ┆ 50/50 site-explicit  ┆ 6.7028e11       ┆ 1.1047e11      ┆ 3512.122314 ┆ 578.845947 │\n",
       "│ WSE CS-2 ┆ 50/50 poisson        ┆ 8.2192e11       ┆ 2.9740e10      ┆ 4306.648438 ┆ 155.83284  │\n",
       "│ WSE CS-2 ┆ denovo poisson       ┆ 7.8222e11       ┆ 5.2905e8       ┆ 4098.675781 ┆ 2.772118   │\n",
       "│ WSE CS-2 ┆ denovo site-explicit ┆ 6.5376e11       ┆ 5.4374e10      ┆ 3425.558105 ┆ 284.907532 │\n",
       "└──────────┴──────────────────────┴─────────────────┴────────────────┴─────────────┴────────────┘"
      ]
     },
     "execution_count": 9,
     "metadata": {},
     "output_type": "execute_result"
    }
   ],
   "source": [
    "df.group_by(\"hardware\", \"experiment design\",).agg(\n",
    "    pl.col(\"throughput (agent-generations/sec)\")\n",
    "    .mean()\n",
    "    .alias(\"mean_throughput\"),\n",
    "    pl.col(\"throughput (agent-generations/sec)\").std().alias(\"std_throughput\"),\n",
    "    pl.col(\"tsc cycle hertz\").mean().alias(\"mean_speed\"),\n",
    "    pl.col(\"tsc cycle hertz\").std().alias(\"std_speed\"),\n",
    ")\n"
   ]
  },
  {
   "cell_type": "markdown",
   "metadata": {},
   "source": [
    "## Relative Performance\n"
   ]
  },
  {
   "cell_type": "code",
   "execution_count": 10,
   "metadata": {
    "execution": {
     "iopub.execute_input": "2025-03-13T13:33:36.739791Z",
     "iopub.status.busy": "2025-03-13T13:33:36.739441Z",
     "iopub.status.idle": "2025-03-13T13:33:36.748041Z",
     "shell.execute_reply": "2025-03-13T13:33:36.747480Z"
    }
   },
   "outputs": [
    {
     "name": "stdout",
     "output_type": "stream",
     "text": [
      "shape: (1, 2)\n",
      "┌───────────────────┬──────────┐\n",
      "│ experiment design ┆ gpu_mean │\n",
      "│ ---               ┆ ---      │\n",
      "│ str               ┆ f64      │\n",
      "╞═══════════════════╪══════════╡\n",
      "│ denovo poisson    ┆ 1.1215e8 │\n",
      "└───────────────────┴──────────┘\n"
     ]
    },
    {
     "data": {
      "text/html": [
       "<div><style>\n",
       ".dataframe > thead > tr,\n",
       ".dataframe > tbody > tr {\n",
       "  text-align: right;\n",
       "  white-space: pre-wrap;\n",
       "}\n",
       "</style>\n",
       "<small>shape: (273, 27)</small><table border=\"1\" class=\"dataframe\"><thead><tr><th>tsc ticks</th><th>tsc seconds</th><th>tsc seconds per cycle</th><th>tsc cycle hertz</th><th>tsc ns per cycle</th><th>recv sum</th><th>send sum</th><th>cycle count</th><th>tsc start</th><th>tsc end</th><th>send N</th><th>send S</th><th>send E</th><th>send W</th><th>recv N</th><th>recv S</th><th>recv E</th><th>recv W</th><th>tile</th><th>row</th><th>col</th><th>hardware</th><th>experiment design</th><th>net population size</th><th>throughput (agent-generations/sec)</th><th>gpu_mean</th><th>speedup</th></tr><tr><td>u64</td><td>f32</td><td>f32</td><td>f32</td><td>f32</td><td>u32</td><td>u32</td><td>u32</td><td>u64</td><td>u64</td><td>u32</td><td>u32</td><td>u32</td><td>u32</td><td>u32</td><td>u32</td><td>u32</td><td>u32</td><td>u32</td><td>u16</td><td>u16</td><td>str</td><td>str</td><td>i32</td><td>f64</td><td>f64</td><td>f64</td></tr></thead><tbody><tr><td>0</td><td>13424.635742</td><td>0.134246</td><td>7.448992</td><td>1.34246352e8</td><td>0</td><td>0</td><td>0</td><td>0</td><td>0</td><td>0</td><td>0</td><td>0</td><td>0</td><td>0</td><td>0</td><td>0</td><td>0</td><td>0</td><td>0</td><td>0</td><td>&quot;GPU A100&quot;</td><td>&quot;denovo poisson&quot;</td><td>15116544</td><td>1.1260e8</td><td>1.1215e8</td><td>1.004058</td></tr><tr><td>0</td><td>13424.725586</td><td>0.134247</td><td>7.448942</td><td>1.34247248e8</td><td>0</td><td>0</td><td>0</td><td>0</td><td>0</td><td>0</td><td>0</td><td>0</td><td>0</td><td>0</td><td>0</td><td>0</td><td>0</td><td>0</td><td>0</td><td>0</td><td>&quot;GPU A100&quot;</td><td>&quot;denovo poisson&quot;</td><td>15116544</td><td>1.1260e8</td><td>1.1215e8</td><td>1.004051</td></tr><tr><td>0</td><td>13426.507812</td><td>0.134265</td><td>7.447953</td><td>1.34265072e8</td><td>0</td><td>0</td><td>0</td><td>0</td><td>0</td><td>0</td><td>0</td><td>0</td><td>0</td><td>0</td><td>0</td><td>0</td><td>0</td><td>0</td><td>0</td><td>0</td><td>&quot;GPU A100&quot;</td><td>&quot;denovo poisson&quot;</td><td>15116544</td><td>1.1259e8</td><td>1.1215e8</td><td>1.003918</td></tr><tr><td>0</td><td>13435.211914</td><td>0.134352</td><td>7.443128</td><td>1.34352128e8</td><td>0</td><td>0</td><td>0</td><td>0</td><td>0</td><td>0</td><td>0</td><td>0</td><td>0</td><td>0</td><td>0</td><td>0</td><td>0</td><td>0</td><td>0</td><td>0</td><td>&quot;GPU A100&quot;</td><td>&quot;denovo poisson&quot;</td><td>15116544</td><td>1.1251e8</td><td>1.1215e8</td><td>1.003268</td></tr><tr><td>0</td><td>13437.150391</td><td>0.134372</td><td>7.442054</td><td>1.34371504e8</td><td>0</td><td>0</td><td>0</td><td>0</td><td>0</td><td>0</td><td>0</td><td>0</td><td>0</td><td>0</td><td>0</td><td>0</td><td>0</td><td>0</td><td>0</td><td>0</td><td>&quot;GPU A100&quot;</td><td>&quot;denovo poisson&quot;</td><td>15116544</td><td>1.1250e8</td><td>1.1215e8</td><td>1.003123</td></tr><tr><td>&hellip;</td><td>&hellip;</td><td>&hellip;</td><td>&hellip;</td><td>&hellip;</td><td>&hellip;</td><td>&hellip;</td><td>&hellip;</td><td>&hellip;</td><td>&hellip;</td><td>&hellip;</td><td>&hellip;</td><td>&hellip;</td><td>&hellip;</td><td>&hellip;</td><td>&hellip;</td><td>&hellip;</td><td>&hellip;</td><td>&hellip;</td><td>&hellip;</td><td>&hellip;</td><td>&hellip;</td><td>&hellip;</td><td>&hellip;</td><td>&hellip;</td><td>&hellip;</td><td>&hellip;</td></tr><tr><td>103685662536</td><td>121.983131</td><td>0.000244</td><td>4098.927246</td><td>243966.265625</td><td>1000003</td><td>4000008</td><td>500000</td><td>27523</td><td>103685690059</td><td>1000002</td><td>1000002</td><td>1000002</td><td>1000002</td><td>250001</td><td>250000</td><td>250001</td><td>250001</td><td>743756</td><td>991</td><td>506</td><td>&quot;WSE CS-2&quot;</td><td>&quot;denovo poisson&quot;</td><td>190848000</td><td>7.8227e11</td><td>1.1215e8</td><td>6975.360142</td></tr><tr><td>103659336568</td><td>121.952164</td><td>0.000244</td><td>4099.968262</td><td>243904.328125</td><td>1000002</td><td>4000008</td><td>500000</td><td>27559</td><td>103659364127</td><td>1000002</td><td>1000002</td><td>1000002</td><td>1000002</td><td>250000</td><td>250000</td><td>250001</td><td>250001</td><td>743756</td><td>991</td><td>506</td><td>&quot;WSE CS-2&quot;</td><td>&quot;denovo poisson&quot;</td><td>190848000</td><td>7.8247e11</td><td>1.1215e8</td><td>6977.131763</td></tr><tr><td>103683860081</td><td>121.98101</td><td>0.000244</td><td>4098.998535</td><td>243962.03125</td><td>1000000</td><td>4000008</td><td>500000</td><td>27558</td><td>103683887639</td><td>1000002</td><td>1000002</td><td>1000002</td><td>1000002</td><td>250000</td><td>250000</td><td>250000</td><td>250000</td><td>743756</td><td>991</td><td>506</td><td>&quot;WSE CS-2&quot;</td><td>&quot;denovo poisson&quot;</td><td>190848000</td><td>7.8229e11</td><td>1.1215e8</td><td>6975.481218</td></tr><tr><td>103884915780</td><td>122.217545</td><td>0.000244</td><td>4091.06543</td><td>244435.09375</td><td>1000001</td><td>4000008</td><td>500000</td><td>28261</td><td>103884944041</td><td>1000002</td><td>1000002</td><td>1000002</td><td>1000002</td><td>250000</td><td>250000</td><td>250001</td><td>250000</td><td>743756</td><td>991</td><td>506</td><td>&quot;WSE CS-2&quot;</td><td>&quot;denovo poisson&quot;</td><td>190848000</td><td>7.8077e11</td><td>1.1215e8</td><td>6961.981199</td></tr><tr><td>103659250820</td><td>121.952057</td><td>0.000244</td><td>4099.97168</td><td>243904.125</td><td>1000000</td><td>4000008</td><td>500000</td><td>28261</td><td>103659279081</td><td>1000002</td><td>1000002</td><td>1000002</td><td>1000002</td><td>250000</td><td>250000</td><td>250000</td><td>250000</td><td>743756</td><td>991</td><td>506</td><td>&quot;WSE CS-2&quot;</td><td>&quot;denovo poisson&quot;</td><td>190848000</td><td>7.8247e11</td><td>1.1215e8</td><td>6977.137591</td></tr></tbody></table></div>"
      ],
      "text/plain": [
       "shape: (273, 27)\n",
       "┌───────────┬───────────┬───────────┬───────────┬───┬───────────┬───────────┬──────────┬───────────┐\n",
       "│ tsc ticks ┆ tsc       ┆ tsc       ┆ tsc cycle ┆ … ┆ net popul ┆ throughpu ┆ gpu_mean ┆ speedup   │\n",
       "│ ---       ┆ seconds   ┆ seconds   ┆ hertz     ┆   ┆ ation     ┆ t (agent- ┆ ---      ┆ ---       │\n",
       "│ u64       ┆ ---       ┆ per cycle ┆ ---       ┆   ┆ size      ┆ generatio ┆ f64      ┆ f64       │\n",
       "│           ┆ f32       ┆ ---       ┆ f32       ┆   ┆ ---       ┆ ns/…      ┆          ┆           │\n",
       "│           ┆           ┆ f32       ┆           ┆   ┆ i32       ┆ ---       ┆          ┆           │\n",
       "│           ┆           ┆           ┆           ┆   ┆           ┆ f64       ┆          ┆           │\n",
       "╞═══════════╪═══════════╪═══════════╪═══════════╪═══╪═══════════╪═══════════╪══════════╪═══════════╡\n",
       "│ 0         ┆ 13424.635 ┆ 0.134246  ┆ 7.448992  ┆ … ┆ 15116544  ┆ 1.1260e8  ┆ 1.1215e8 ┆ 1.004058  │\n",
       "│           ┆ 742       ┆           ┆           ┆   ┆           ┆           ┆          ┆           │\n",
       "│ 0         ┆ 13424.725 ┆ 0.134247  ┆ 7.448942  ┆ … ┆ 15116544  ┆ 1.1260e8  ┆ 1.1215e8 ┆ 1.004051  │\n",
       "│           ┆ 586       ┆           ┆           ┆   ┆           ┆           ┆          ┆           │\n",
       "│ 0         ┆ 13426.507 ┆ 0.134265  ┆ 7.447953  ┆ … ┆ 15116544  ┆ 1.1259e8  ┆ 1.1215e8 ┆ 1.003918  │\n",
       "│           ┆ 812       ┆           ┆           ┆   ┆           ┆           ┆          ┆           │\n",
       "│ 0         ┆ 13435.211 ┆ 0.134352  ┆ 7.443128  ┆ … ┆ 15116544  ┆ 1.1251e8  ┆ 1.1215e8 ┆ 1.003268  │\n",
       "│           ┆ 914       ┆           ┆           ┆   ┆           ┆           ┆          ┆           │\n",
       "│ 0         ┆ 13437.150 ┆ 0.134372  ┆ 7.442054  ┆ … ┆ 15116544  ┆ 1.1250e8  ┆ 1.1215e8 ┆ 1.003123  │\n",
       "│           ┆ 391       ┆           ┆           ┆   ┆           ┆           ┆          ┆           │\n",
       "│ …         ┆ …         ┆ …         ┆ …         ┆ … ┆ …         ┆ …         ┆ …        ┆ …         │\n",
       "│ 103685662 ┆ 121.98313 ┆ 0.000244  ┆ 4098.9272 ┆ … ┆ 190848000 ┆ 7.8227e11 ┆ 1.1215e8 ┆ 6975.3601 │\n",
       "│ 536       ┆ 1         ┆           ┆ 46        ┆   ┆           ┆           ┆          ┆ 42        │\n",
       "│ 103659336 ┆ 121.95216 ┆ 0.000244  ┆ 4099.9682 ┆ … ┆ 190848000 ┆ 7.8247e11 ┆ 1.1215e8 ┆ 6977.1317 │\n",
       "│ 568       ┆ 4         ┆           ┆ 62        ┆   ┆           ┆           ┆          ┆ 63        │\n",
       "│ 103683860 ┆ 121.98101 ┆ 0.000244  ┆ 4098.9985 ┆ … ┆ 190848000 ┆ 7.8229e11 ┆ 1.1215e8 ┆ 6975.4812 │\n",
       "│ 081       ┆           ┆           ┆ 35        ┆   ┆           ┆           ┆          ┆ 18        │\n",
       "│ 103884915 ┆ 122.21754 ┆ 0.000244  ┆ 4091.0654 ┆ … ┆ 190848000 ┆ 7.8077e11 ┆ 1.1215e8 ┆ 6961.9811 │\n",
       "│ 780       ┆ 5         ┆           ┆ 3         ┆   ┆           ┆           ┆          ┆ 99        │\n",
       "│ 103659250 ┆ 121.95205 ┆ 0.000244  ┆ 4099.9716 ┆ … ┆ 190848000 ┆ 7.8247e11 ┆ 1.1215e8 ┆ 6977.1375 │\n",
       "│ 820       ┆ 7         ┆           ┆ 8         ┆   ┆           ┆           ┆          ┆ 91        │\n",
       "└───────────┴───────────┴───────────┴───────────┴───┴───────────┴───────────┴──────────┴───────────┘"
      ]
     },
     "execution_count": 10,
     "metadata": {},
     "output_type": "execute_result"
    }
   ],
   "source": [
    "# Step 1: Filter for GPU and calculate the mean throughput per experiment design\n",
    "gpu_means = (\n",
    "    df.filter(pl.col(\"hardware\").str.contains(\"GPU\"))\n",
    "    .group_by(\"experiment design\")\n",
    "    .agg(pl.mean(\"throughput (agent-generations/sec)\").alias(\"gpu_mean\"))\n",
    ")\n",
    "print(gpu_means)\n",
    "\n",
    "# Step 2: Join the GPU mean back to the original DataFrame\n",
    "df_with_mean = df.join(gpu_means, on=\"experiment design\", how=\"left\")\n",
    "\n",
    "# Step 3: Calculate the speedup by dividing throughput by the GPU mean\n",
    "df_with_speedup = df_with_mean.with_columns(\n",
    "    (pl.col(\"throughput (agent-generations/sec)\") / pl.col(\"gpu_mean\")).alias(\n",
    "        \"speedup\"\n",
    "    )\n",
    ")\n",
    "\n",
    "# Show the resulting DataFrame with speedup\n",
    "df_with_speedup\n"
   ]
  },
  {
   "cell_type": "code",
   "execution_count": 11,
   "metadata": {
    "execution": {
     "iopub.execute_input": "2025-03-13T13:33:36.749910Z",
     "iopub.status.busy": "2025-03-13T13:33:36.749559Z",
     "iopub.status.idle": "2025-03-13T13:33:37.519281Z",
     "shell.execute_reply": "2025-03-13T13:33:37.518604Z"
    }
   },
   "outputs": [
    {
     "name": "stderr",
     "output_type": "stream",
     "text": [
      "/usr/local/lib/python3.10/dist-packages/backstrip/_backplot.py:127: UserWarning: The palette list has more values (8) than needed (2), which may not be intended.\n",
      "  g = sns.catplot(\n"
     ]
    },
    {
     "name": "stdout",
     "output_type": "stream",
     "text": [
      "teeplots/perf-wse-vs-gpu-100k/hue=hardware+orient=h+viz=backplot+x=speedup+y=experiment-design+ext=.pdf\n",
      "teeplots/perf-wse-vs-gpu-100k/hue=hardware+orient=h+viz=backplot+x=speedup+y=experiment-design+ext=.png\n"
     ]
    },
    {
     "data": {
      "image/png": "[encoded data removed]",
      "text/plain": [
       "<Figure size 519.5x200 with 1 Axes>"
      ]
     },
     "metadata": {},
     "output_type": "display_data"
    },
    {
     "data": {
      "text/plain": [
       "<seaborn.axisgrid.FacetGrid at 0x7fddbe90ae30>"
      ]
     },
     "execution_count": 11,
     "metadata": {},
     "output_type": "execute_result"
    }
   ],
   "source": [
    "tp.tee(\n",
    "    backplot,\n",
    "    data=df_with_speedup.to_pandas(),\n",
    "    y=\"experiment design\",\n",
    "    x=\"speedup\",\n",
    "    hue=\"hardware\",\n",
    "    aspect=2,\n",
    "    height=2,\n",
    "    order=[\"50/50 poisson\", \"denovo poisson\"],\n",
    "    orient=\"h\",\n",
    "    log_scale=(True, False),\n",
    "    palette=sns.color_palette(\"Accent\"),\n",
    "    teeplot_subdir=teeplot_subdir,\n",
    ")\n"
   ]
  },
  {
   "cell_type": "code",
   "execution_count": 12,
   "metadata": {
    "execution": {
     "iopub.execute_input": "2025-03-13T13:33:37.521720Z",
     "iopub.status.busy": "2025-03-13T13:33:37.521197Z",
     "iopub.status.idle": "2025-03-13T13:33:37.526745Z",
     "shell.execute_reply": "2025-03-13T13:33:37.526255Z"
    }
   },
   "outputs": [
    {
     "data": {
      "text/html": [
       "<div><style>\n",
       ".dataframe > thead > tr,\n",
       ".dataframe > tbody > tr {\n",
       "  text-align: right;\n",
       "  white-space: pre-wrap;\n",
       "}\n",
       "</style>\n",
       "<small>shape: (5, 4)</small><table border=\"1\" class=\"dataframe\"><thead><tr><th>hardware</th><th>experiment design</th><th>mean_speedup</th><th>std_speedup</th></tr><tr><td>str</td><td>str</td><td>f64</td><td>f64</td></tr></thead><tbody><tr><td>&quot;WSE CS-2&quot;</td><td>&quot;50/50 poisson&quot;</td><td>null</td><td>null</td></tr><tr><td>&quot;WSE CS-2&quot;</td><td>&quot;denovo site-explicit&quot;</td><td>null</td><td>null</td></tr><tr><td>&quot;WSE CS-2&quot;</td><td>&quot;50/50 site-explicit&quot;</td><td>null</td><td>null</td></tr><tr><td>&quot;WSE CS-2&quot;</td><td>&quot;denovo poisson&quot;</td><td>6974.933729</td><td>4.717457</td></tr><tr><td>&quot;GPU A100&quot;</td><td>&quot;denovo poisson&quot;</td><td>1.0</td><td>0.004345</td></tr></tbody></table></div>"
      ],
      "text/plain": [
       "shape: (5, 4)\n",
       "┌──────────┬──────────────────────┬──────────────┬─────────────┐\n",
       "│ hardware ┆ experiment design    ┆ mean_speedup ┆ std_speedup │\n",
       "│ ---      ┆ ---                  ┆ ---          ┆ ---         │\n",
       "│ str      ┆ str                  ┆ f64          ┆ f64         │\n",
       "╞══════════╪══════════════════════╪══════════════╪═════════════╡\n",
       "│ WSE CS-2 ┆ 50/50 poisson        ┆ null         ┆ null        │\n",
       "│ WSE CS-2 ┆ denovo site-explicit ┆ null         ┆ null        │\n",
       "│ WSE CS-2 ┆ 50/50 site-explicit  ┆ null         ┆ null        │\n",
       "│ WSE CS-2 ┆ denovo poisson       ┆ 6974.933729  ┆ 4.717457    │\n",
       "│ GPU A100 ┆ denovo poisson       ┆ 1.0          ┆ 0.004345    │\n",
       "└──────────┴──────────────────────┴──────────────┴─────────────┘"
      ]
     },
     "execution_count": 12,
     "metadata": {},
     "output_type": "execute_result"
    }
   ],
   "source": [
    "df_with_speedup.group_by(\"hardware\", \"experiment design\",).agg(\n",
    "    pl.col(\"speedup\").mean().alias(\"mean_speedup\"),\n",
    "    pl.col(\"speedup\").std().alias(\"std_speedup\"),\n",
    ")\n"
   ]
  }
 ],
 "metadata": {
  "kernelspec": {
   "display_name": "Python 3",
   "language": "python",
   "name": "python3"
  },
  "language_info": {
   "codemirror_mode": {
    "name": "ipython",
    "version": 3
   },
   "file_extension": ".py",
   "mimetype": "text/x-python",
   "name": "python",
   "nbconvert_exporter": "python",
   "pygments_lexer": "ipython3",
   "version": "3.10.12"
  }
 },
 "nbformat": 4,
 "nbformat_minor": 2
}
