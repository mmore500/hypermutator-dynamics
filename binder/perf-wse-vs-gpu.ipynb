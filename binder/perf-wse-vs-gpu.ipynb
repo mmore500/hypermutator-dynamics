{
 "cells": [
  {
   "cell_type": "code",
   "execution_count": null,
   "metadata": {},
   "outputs": [],
   "source": [
    "%load_ext watermark\n"
   ]
  },
  {
   "cell_type": "code",
   "execution_count": null,
   "metadata": {},
   "outputs": [],
   "source": [
    "from IPython.display import display\n",
    "from backstrip import backplot\n",
    "import polars as pl\n",
    "import seaborn as sns\n",
    "from teeplot import teeplot as tp\n"
   ]
  },
  {
   "cell_type": "code",
   "execution_count": null,
   "metadata": {},
   "outputs": [],
   "source": [
    "%watermark -diwmuv -iv\n"
   ]
  },
  {
   "cell_type": "markdown",
   "metadata": {},
   "source": [
    "## Prep Data\n"
   ]
  },
  {
   "cell_type": "code",
   "execution_count": null,
   "metadata": {},
   "outputs": [],
   "source": [
    "cpu_perf = (\n",
    "    pl.concat(\n",
    "        [\n",
    "            pl.read_parquet(\n",
    "                \"https://osf.io/z65g3/download\",\n",
    "                use_pyarrow=True,\n",
    "            ).with_columns(\n",
    "                pl.lit(\"CPU\").alias(\"hardware\"),\n",
    "                pl.lit(\"50/50 counter-based\").alias(\"experiment design\"),\n",
    "                pl.lit(256 * 81 * 81).alias(\"net population size\"),\n",
    "            ),\n",
    "            pl.read_parquet(\n",
    "                \"https://osf.io/tcv9q/download\",\n",
    "                use_pyarrow=True,\n",
    "            ).with_columns(\n",
    "                pl.lit(\"CPU\").alias(\"hardware\"),\n",
    "                pl.lit(\"de novo counter-based\").alias(\"experiment design\"),\n",
    "                pl.lit(256 * 81 * 81).alias(\"net population size\"),\n",
    "            ),\n",
    "        ],\n",
    "    )\n",
    "    .filter(pl.col(\"tile\") == 0)\n",
    "    .with_columns(\n",
    "        (\n",
    "            pl.col(\"net population size\") / pl.col(\"tsc seconds per cycle\")\n",
    "        ).alias(\"throughput (agent-generations/sec)\"),\n",
    "    )\n",
    ")\n",
    "display(cpu_perf)\n",
    "display(cpu_perf.describe())\n"
   ]
  },
  {
   "cell_type": "code",
   "execution_count": null,
   "metadata": {},
   "outputs": [],
   "source": [
    "cupy_perf = (\n",
    "    pl.concat(\n",
    "        [\n",
    "            pl.read_parquet(\n",
    "                \"https://osf.io/jz3eq/download\",\n",
    "                use_pyarrow=True,\n",
    "            ).with_columns(\n",
    "                pl.lit(\"GPU\").alias(\"hardware\"),\n",
    "                pl.lit(\"50/50 counter-based\").alias(\"experiment design\"),\n",
    "                pl.lit(256 * 243 * 243).alias(\"net population size\"),\n",
    "            ),\n",
    "            pl.read_parquet(\n",
    "                \"https://osf.io/ya29p/download\",\n",
    "                use_pyarrow=True,\n",
    "            ).with_columns(\n",
    "                pl.lit(\"GPU\").alias(\"hardware\"),\n",
    "                pl.lit(\"de novo counter-based\").alias(\"experiment design\"),\n",
    "                pl.lit(256 * 243 * 243).alias(\"net population size\"),\n",
    "            ),\n",
    "        ],\n",
    "    )\n",
    "    .filter(pl.col(\"tile\") == 0)\n",
    "    .with_columns(\n",
    "        (\n",
    "            pl.col(\"net population size\") / pl.col(\"tsc seconds per cycle\")\n",
    "        ).alias(\"throughput (agent-generations/sec)\"),\n",
    "    )\n",
    ")\n",
    "display(cupy_perf)\n",
    "display(cupy_perf.describe())\n"
   ]
  },
  {
   "cell_type": "code",
   "execution_count": null,
   "metadata": {},
   "outputs": [],
   "source": [
    "wse_perf = pl.concat(\n",
    "    [\n",
    "        pl.read_parquet(\n",
    "            \"https://osf.io/h3tu4/download\",\n",
    "            use_pyarrow=True,\n",
    "        )\n",
    "        .filter(pl.col(\"tile\") == 749 * 993 - 1)\n",
    "        .with_columns(\n",
    "            pl.lit(\"WSE\").alias(\"hardware\"),\n",
    "            pl.lit(\"50/50 site-explicit\").alias(\"experiment design\"),\n",
    "            pl.lit(256 * 750 * 994).alias(\"net population size\"),\n",
    "        ),\n",
    "        pl.read_parquet(\n",
    "            \"https://osf.io/w97nx/download\",\n",
    "            use_pyarrow=True,\n",
    "        )\n",
    "        .filter(pl.col(\"tile\") == 749 * 993 - 1)\n",
    "        .with_columns(\n",
    "            pl.lit(\"WSE\").alias(\"hardware\"),\n",
    "            pl.lit(\"de novo site-explicit\").alias(\"experiment design\"),\n",
    "            pl.lit(256 * 750 * 994).alias(\"net population size\"),\n",
    "        ),\n",
    "        pl.read_parquet(\n",
    "            \"https://osf.io/vh9pb/download\",\n",
    "            use_pyarrow=True,\n",
    "        )\n",
    "        .filter(pl.col(\"tile\") == 749 * 993 - 1)\n",
    "        .with_columns(\n",
    "            pl.lit(\"WSE\").alias(\"hardware\"),\n",
    "            pl.lit(\"50/50 counter-based\").alias(\"experiment design\"),\n",
    "            pl.lit(256 * 750 * 994).alias(\"net population size\"),\n",
    "        ),\n",
    "        pl.read_parquet(\n",
    "            \"https://osf.io/zp9gt/download\",\n",
    "            use_pyarrow=True,\n",
    "        )\n",
    "        .filter(pl.col(\"tile\") == 749 * 993 - 1)\n",
    "        .with_columns(\n",
    "            pl.lit(\"WSE\").alias(\"hardware\"),\n",
    "            pl.lit(\"de novo counter-based\").alias(\"experiment design\"),\n",
    "            pl.lit(256 * 750 * 994).alias(\"net population size\"),\n",
    "        ),\n",
    "    ],\n",
    ").with_columns(\n",
    "    (pl.col(\"net population size\") / pl.col(\"tsc seconds per cycle\")).alias(\n",
    "        \"throughput (agent-generations/sec)\"\n",
    "    ),\n",
    ")\n"
   ]
  },
  {
   "cell_type": "code",
   "execution_count": null,
   "metadata": {},
   "outputs": [],
   "source": [
    "df = pl.concat([cpu_perf, cupy_perf, wse_perf])\n",
    "display(df)\n",
    "display(df.describe())\n"
   ]
  },
  {
   "cell_type": "markdown",
   "metadata": {},
   "source": [
    "## Absolute performance\n"
   ]
  },
  {
   "cell_type": "code",
   "execution_count": null,
   "metadata": {},
   "outputs": [],
   "source": [
    "tp.tee(\n",
    "    backplot,\n",
    "    data=df.to_pandas(),\n",
    "    col=\"experiment design\",\n",
    "    x=\"throughput (agent-generations/sec)\",\n",
    "    hue=\"hardware\",\n",
    "    aspect=2,\n",
    "    col_wrap=2,\n",
    "    height=1.5,\n",
    "    orient=\"h\",\n",
    "    log_scale=(True, False),\n",
    "    palette=sns.color_palette(\"Accent\"),\n",
    "    sharey=False,\n",
    "    teeplot_outexclude=\"post\",\n",
    "    teeplot_postprocess=\"\"\"\n",
    "for ax in teed.axes.flat[2:]:\n",
    "    ax.set_ylim(0.1, 0.5)\n",
    "\"\"\",\n",
    ")\n"
   ]
  },
  {
   "cell_type": "code",
   "execution_count": null,
   "metadata": {},
   "outputs": [],
   "source": [
    "df.group_by(\"hardware\", \"experiment design\",).agg(\n",
    "    pl.col(\"throughput (agent-generations/sec)\")\n",
    "    .mean()\n",
    "    .alias(\"mean_throughput\"),\n",
    "    pl.col(\"throughput (agent-generations/sec)\").std().alias(\"std_throughput\"),\n",
    "    pl.col(\"tsc cycle hertz\").mean().alias(\"mean_speed\"),\n",
    "    pl.col(\"tsc cycle hertz\").std().alias(\"std_speed\"),\n",
    ")\n"
   ]
  },
  {
   "cell_type": "markdown",
   "metadata": {},
   "source": [
    "## Relative Performance\n"
   ]
  },
  {
   "cell_type": "code",
   "execution_count": null,
   "metadata": {},
   "outputs": [],
   "source": [
    "# Step 1: Filter for GPU and calculate the mean throughput per experiment design\n",
    "cpu_means = (\n",
    "    df.filter(pl.col(\"hardware\").str.contains(\"CPU\"))\n",
    "    .group_by(\"experiment design\")\n",
    "    .agg(pl.mean(\"throughput (agent-generations/sec)\").alias(\"cpu_mean\"))\n",
    ")\n",
    "print(cpu_means)\n",
    "\n",
    "# Step 2: Join the GPU mean back to the original DataFrame\n",
    "df_with_mean = df.join(cpu_means, on=\"experiment design\", how=\"left\")\n",
    "\n",
    "# Step 3: Calculate the speedup by dividing throughput by the GPU mean\n",
    "df_with_speedup = df_with_mean.with_columns(\n",
    "    (pl.col(\"throughput (agent-generations/sec)\") / pl.col(\"cpu_mean\")).alias(\n",
    "        \"speedup\"\n",
    "    )\n",
    ")\n",
    "\n",
    "# Show the resulting DataFrame with speedup\n",
    "df_with_speedup\n"
   ]
  },
  {
   "cell_type": "code",
   "execution_count": null,
   "metadata": {},
   "outputs": [],
   "source": [
    "tp.tee(\n",
    "    backplot,\n",
    "    data=df_with_speedup.to_pandas(),\n",
    "    y=\"experiment design\",\n",
    "    x=\"speedup\",\n",
    "    hue=\"hardware\",\n",
    "    aspect=2,\n",
    "    height=2,\n",
    "    order=[\"50/50 counter-based\", \"de novo counter-based\"],\n",
    "    orient=\"h\",\n",
    "    log_scale=(True, False),\n",
    "    palette=sns.color_palette(\"Accent\"),\n",
    ")\n"
   ]
  },
  {
   "cell_type": "code",
   "execution_count": null,
   "metadata": {},
   "outputs": [],
   "source": [
    "df_with_speedup.group_by(\"hardware\", \"experiment design\",).agg(\n",
    "    pl.col(\"speedup\").mean().alias(\"mean_speedup\"),\n",
    "    pl.col(\"speedup\").std().alias(\"std_speedup\"),\n",
    ")\n"
   ]
  }
 ],
 "metadata": {
  "kernelspec": {
   "display_name": "Python 3",
   "language": "python",
   "name": "python3"
  },
  "language_info": {
   "codemirror_mode": {
    "name": "ipython",
    "version": 3
   },
   "file_extension": ".py",
   "mimetype": "text/x-python",
   "name": "python",
   "nbconvert_exporter": "python",
   "pygments_lexer": "ipython3"
  }
 },
 "nbformat": 4,
 "nbformat_minor": 2
}
