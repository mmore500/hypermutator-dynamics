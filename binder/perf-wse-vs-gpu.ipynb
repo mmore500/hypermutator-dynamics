{
 "cells": [
  {
   "cell_type": "code",
   "execution_count": 1,
   "metadata": {
    "execution": {
     "iopub.execute_input": "2024-10-14T21:08:22.102788Z",
     "iopub.status.busy": "2024-10-14T21:08:22.102347Z",
     "iopub.status.idle": "2024-10-14T21:08:22.115949Z",
     "shell.execute_reply": "2024-10-14T21:08:22.115373Z"
    }
   },
   "outputs": [],
   "source": [
    "%load_ext watermark\n"
   ]
  },
  {
   "cell_type": "code",
   "execution_count": 2,
   "metadata": {
    "execution": {
     "iopub.execute_input": "2024-10-14T21:08:22.118072Z",
     "iopub.status.busy": "2024-10-14T21:08:22.117754Z",
     "iopub.status.idle": "2024-10-14T21:08:24.887385Z",
     "shell.execute_reply": "2024-10-14T21:08:24.886780Z"
    }
   },
   "outputs": [],
   "source": [
    "from IPython.display import display\n",
    "from backstrip import backplot\n",
    "import polars as pl\n",
    "import seaborn as sns\n",
    "from teeplot import teeplot as tp\n"
   ]
  },
  {
   "cell_type": "code",
   "execution_count": 3,
   "metadata": {
    "execution": {
     "iopub.execute_input": "2024-10-14T21:08:24.889576Z",
     "iopub.status.busy": "2024-10-14T21:08:24.889188Z",
     "iopub.status.idle": "2024-10-14T21:08:24.898369Z",
     "shell.execute_reply": "2024-10-14T21:08:24.897799Z"
    }
   },
   "outputs": [
    {
     "name": "stdout",
     "output_type": "stream",
     "text": [
      "Last updated: 2024-10-14T21:08:24.890630+00:00\n",
      "\n",
      "Python implementation: CPython\n",
      "Python version       : 3.10.12\n",
      "IPython version      : 7.31.1\n",
      "\n",
      "Compiler    : GCC 11.4.0\n",
      "OS          : Linux\n",
      "Release     : 6.5.0-1025-azure\n",
      "Machine     : x86_64\n",
      "Processor   : x86_64\n",
      "CPU cores   : 4\n",
      "Architecture: 64bit\n",
      "\n",
      "polars : 1.9.0\n",
      "seaborn: 0.13.2\n",
      "teeplot: 1.1.3\n",
      "\n",
      "Watermark: 2.4.3\n",
      "\n"
     ]
    }
   ],
   "source": [
    "%watermark -diwmuv -iv\n"
   ]
  },
  {
   "cell_type": "markdown",
   "metadata": {},
   "source": [
    "## Prep Data\n"
   ]
  },
  {
   "cell_type": "code",
   "execution_count": 4,
   "metadata": {
    "execution": {
     "iopub.execute_input": "2024-10-14T21:08:24.923380Z",
     "iopub.status.busy": "2024-10-14T21:08:24.923014Z",
     "iopub.status.idle": "2024-10-14T21:08:27.272337Z",
     "shell.execute_reply": "2024-10-14T21:08:27.271817Z"
    }
   },
   "outputs": [
    {
     "data": {
      "text/html": [
       "<div><style>\n",
       ".dataframe > thead > tr,\n",
       ".dataframe > tbody > tr {\n",
       "  text-align: right;\n",
       "  white-space: pre-wrap;\n",
       "}\n",
       "</style>\n",
       "<small>shape: (90, 25)</small><table border=\"1\" class=\"dataframe\"><thead><tr><th>tsc ticks</th><th>tsc seconds</th><th>tsc seconds per cycle</th><th>tsc cycle hertz</th><th>tsc ns per cycle</th><th>recv sum</th><th>send sum</th><th>cycle count</th><th>tsc start</th><th>tsc end</th><th>send N</th><th>send S</th><th>send E</th><th>send W</th><th>recv N</th><th>recv S</th><th>recv E</th><th>recv W</th><th>tile</th><th>row</th><th>col</th><th>hardware</th><th>experiment design</th><th>net population size</th><th>throughput (agent-generations/sec)</th></tr><tr><td>u64</td><td>f32</td><td>f32</td><td>f32</td><td>f32</td><td>u32</td><td>u32</td><td>u32</td><td>u64</td><td>u64</td><td>u32</td><td>u32</td><td>u32</td><td>u32</td><td>u32</td><td>u32</td><td>u32</td><td>u32</td><td>u32</td><td>u16</td><td>u16</td><td>str</td><td>str</td><td>i32</td><td>f64</td></tr></thead><tbody><tr><td>0</td><td>2612.250244</td><td>0.005225</td><td>191.405853</td><td>5224500.5</td><td>0</td><td>0</td><td>0</td><td>0</td><td>0</td><td>0</td><td>0</td><td>0</td><td>0</td><td>0</td><td>0</td><td>0</td><td>0</td><td>0</td><td>0</td><td>0</td><td>&quot;GPU A100&quot;</td><td>&quot;50/50 poisson&quot;</td><td>15116544</td><td>2.8934e9</td></tr><tr><td>0</td><td>2717.378662</td><td>0.005435</td><td>184.000854</td><td>5434757.5</td><td>0</td><td>0</td><td>0</td><td>0</td><td>0</td><td>0</td><td>0</td><td>0</td><td>0</td><td>0</td><td>0</td><td>0</td><td>0</td><td>0</td><td>0</td><td>0</td><td>&quot;GPU A100&quot;</td><td>&quot;50/50 poisson&quot;</td><td>15116544</td><td>2.7815e9</td></tr><tr><td>0</td><td>2719.092773</td><td>0.005438</td><td>183.884872</td><td>5438185.5</td><td>0</td><td>0</td><td>0</td><td>0</td><td>0</td><td>0</td><td>0</td><td>0</td><td>0</td><td>0</td><td>0</td><td>0</td><td>0</td><td>0</td><td>0</td><td>0</td><td>&quot;GPU A100&quot;</td><td>&quot;50/50 poisson&quot;</td><td>15116544</td><td>2.7797e9</td></tr><tr><td>0</td><td>2721.032471</td><td>0.005442</td><td>183.753784</td><td>5.442065e6</td><td>0</td><td>0</td><td>0</td><td>0</td><td>0</td><td>0</td><td>0</td><td>0</td><td>0</td><td>0</td><td>0</td><td>0</td><td>0</td><td>0</td><td>0</td><td>0</td><td>&quot;GPU A100&quot;</td><td>&quot;50/50 poisson&quot;</td><td>15116544</td><td>2.7777e9</td></tr><tr><td>0</td><td>2610.844727</td><td>0.005222</td><td>191.508911</td><td>5221689.5</td><td>0</td><td>0</td><td>0</td><td>0</td><td>0</td><td>0</td><td>0</td><td>0</td><td>0</td><td>0</td><td>0</td><td>0</td><td>0</td><td>0</td><td>0</td><td>0</td><td>&quot;GPU A100&quot;</td><td>&quot;50/50 poisson&quot;</td><td>15116544</td><td>2.8950e9</td></tr><tr><td>&hellip;</td><td>&hellip;</td><td>&hellip;</td><td>&hellip;</td><td>&hellip;</td><td>&hellip;</td><td>&hellip;</td><td>&hellip;</td><td>&hellip;</td><td>&hellip;</td><td>&hellip;</td><td>&hellip;</td><td>&hellip;</td><td>&hellip;</td><td>&hellip;</td><td>&hellip;</td><td>&hellip;</td><td>&hellip;</td><td>&hellip;</td><td>&hellip;</td><td>&hellip;</td><td>&hellip;</td><td>&hellip;</td><td>&hellip;</td><td>&hellip;</td></tr><tr><td>0</td><td>2827.758789</td><td>0.005656</td><td>176.818466</td><td>5.655518e6</td><td>0</td><td>0</td><td>0</td><td>0</td><td>0</td><td>0</td><td>0</td><td>0</td><td>0</td><td>0</td><td>0</td><td>0</td><td>0</td><td>0</td><td>0</td><td>0</td><td>&quot;GPU A100&quot;</td><td>&quot;denovo poisson&quot;</td><td>15116544</td><td>2.6729e9</td></tr><tr><td>0</td><td>2833.894287</td><td>0.005668</td><td>176.435669</td><td>5667788.5</td><td>0</td><td>0</td><td>0</td><td>0</td><td>0</td><td>0</td><td>0</td><td>0</td><td>0</td><td>0</td><td>0</td><td>0</td><td>0</td><td>0</td><td>0</td><td>0</td><td>&quot;GPU A100&quot;</td><td>&quot;denovo poisson&quot;</td><td>15116544</td><td>2.6671e9</td></tr><tr><td>0</td><td>2822.179199</td><td>0.005644</td><td>177.168045</td><td>5644358.5</td><td>0</td><td>0</td><td>0</td><td>0</td><td>0</td><td>0</td><td>0</td><td>0</td><td>0</td><td>0</td><td>0</td><td>0</td><td>0</td><td>0</td><td>0</td><td>0</td><td>&quot;GPU A100&quot;</td><td>&quot;denovo poisson&quot;</td><td>15116544</td><td>2.6782e9</td></tr><tr><td>0</td><td>2822.637939</td><td>0.005645</td><td>177.139267</td><td>5.645276e6</td><td>0</td><td>0</td><td>0</td><td>0</td><td>0</td><td>0</td><td>0</td><td>0</td><td>0</td><td>0</td><td>0</td><td>0</td><td>0</td><td>0</td><td>0</td><td>0</td><td>&quot;GPU A100&quot;</td><td>&quot;denovo poisson&quot;</td><td>15116544</td><td>2.6777e9</td></tr><tr><td>0</td><td>2848.984863</td><td>0.005698</td><td>175.501114</td><td>5697969.5</td><td>0</td><td>0</td><td>0</td><td>0</td><td>0</td><td>0</td><td>0</td><td>0</td><td>0</td><td>0</td><td>0</td><td>0</td><td>0</td><td>0</td><td>0</td><td>0</td><td>&quot;GPU A100&quot;</td><td>&quot;denovo poisson&quot;</td><td>15116544</td><td>2.6530e9</td></tr></tbody></table></div>"
      ],
      "text/plain": [
       "shape: (90, 25)\n",
       "┌───────────┬───────────┬───────────┬───────────┬───┬──────────┬───────────┬───────────┬───────────┐\n",
       "│ tsc ticks ┆ tsc       ┆ tsc       ┆ tsc cycle ┆ … ┆ hardware ┆ experimen ┆ net popul ┆ throughpu │\n",
       "│ ---       ┆ seconds   ┆ seconds   ┆ hertz     ┆   ┆ ---      ┆ t design  ┆ ation     ┆ t (agent- │\n",
       "│ u64       ┆ ---       ┆ per cycle ┆ ---       ┆   ┆ str      ┆ ---       ┆ size      ┆ generatio │\n",
       "│           ┆ f32       ┆ ---       ┆ f32       ┆   ┆          ┆ str       ┆ ---       ┆ ns/…      │\n",
       "│           ┆           ┆ f32       ┆           ┆   ┆          ┆           ┆ i32       ┆ ---       │\n",
       "│           ┆           ┆           ┆           ┆   ┆          ┆           ┆           ┆ f64       │\n",
       "╞═══════════╪═══════════╪═══════════╪═══════════╪═══╪══════════╪═══════════╪═══════════╪═══════════╡\n",
       "│ 0         ┆ 2612.2502 ┆ 0.005225  ┆ 191.40585 ┆ … ┆ GPU A100 ┆ 50/50     ┆ 15116544  ┆ 2.8934e9  │\n",
       "│           ┆ 44        ┆           ┆ 3         ┆   ┆          ┆ poisson   ┆           ┆           │\n",
       "│ 0         ┆ 2717.3786 ┆ 0.005435  ┆ 184.00085 ┆ … ┆ GPU A100 ┆ 50/50     ┆ 15116544  ┆ 2.7815e9  │\n",
       "│           ┆ 62        ┆           ┆ 4         ┆   ┆          ┆ poisson   ┆           ┆           │\n",
       "│ 0         ┆ 2719.0927 ┆ 0.005438  ┆ 183.88487 ┆ … ┆ GPU A100 ┆ 50/50     ┆ 15116544  ┆ 2.7797e9  │\n",
       "│           ┆ 73        ┆           ┆ 2         ┆   ┆          ┆ poisson   ┆           ┆           │\n",
       "│ 0         ┆ 2721.0324 ┆ 0.005442  ┆ 183.75378 ┆ … ┆ GPU A100 ┆ 50/50     ┆ 15116544  ┆ 2.7777e9  │\n",
       "│           ┆ 71        ┆           ┆ 4         ┆   ┆          ┆ poisson   ┆           ┆           │\n",
       "│ 0         ┆ 2610.8447 ┆ 0.005222  ┆ 191.50891 ┆ … ┆ GPU A100 ┆ 50/50     ┆ 15116544  ┆ 2.8950e9  │\n",
       "│           ┆ 27        ┆           ┆ 1         ┆   ┆          ┆ poisson   ┆           ┆           │\n",
       "│ …         ┆ …         ┆ …         ┆ …         ┆ … ┆ …        ┆ …         ┆ …         ┆ …         │\n",
       "│ 0         ┆ 2827.7587 ┆ 0.005656  ┆ 176.81846 ┆ … ┆ GPU A100 ┆ denovo    ┆ 15116544  ┆ 2.6729e9  │\n",
       "│           ┆ 89        ┆           ┆ 6         ┆   ┆          ┆ poisson   ┆           ┆           │\n",
       "│ 0         ┆ 2833.8942 ┆ 0.005668  ┆ 176.43566 ┆ … ┆ GPU A100 ┆ denovo    ┆ 15116544  ┆ 2.6671e9  │\n",
       "│           ┆ 87        ┆           ┆ 9         ┆   ┆          ┆ poisson   ┆           ┆           │\n",
       "│ 0         ┆ 2822.1791 ┆ 0.005644  ┆ 177.16804 ┆ … ┆ GPU A100 ┆ denovo    ┆ 15116544  ┆ 2.6782e9  │\n",
       "│           ┆ 99        ┆           ┆ 5         ┆   ┆          ┆ poisson   ┆           ┆           │\n",
       "│ 0         ┆ 2822.6379 ┆ 0.005645  ┆ 177.13926 ┆ … ┆ GPU A100 ┆ denovo    ┆ 15116544  ┆ 2.6777e9  │\n",
       "│           ┆ 39        ┆           ┆ 7         ┆   ┆          ┆ poisson   ┆           ┆           │\n",
       "│ 0         ┆ 2848.9848 ┆ 0.005698  ┆ 175.50111 ┆ … ┆ GPU A100 ┆ denovo    ┆ 15116544  ┆ 2.6530e9  │\n",
       "│           ┆ 63        ┆           ┆ 4         ┆   ┆          ┆ poisson   ┆           ┆           │\n",
       "└───────────┴───────────┴───────────┴───────────┴───┴──────────┴───────────┴───────────┴───────────┘"
      ]
     },
     "metadata": {},
     "output_type": "display_data"
    },
    {
     "data": {
      "text/html": [
       "<div><style>\n",
       ".dataframe > thead > tr,\n",
       ".dataframe > tbody > tr {\n",
       "  text-align: right;\n",
       "  white-space: pre-wrap;\n",
       "}\n",
       "</style>\n",
       "<small>shape: (9, 26)</small><table border=\"1\" class=\"dataframe\"><thead><tr><th>statistic</th><th>tsc ticks</th><th>tsc seconds</th><th>tsc seconds per cycle</th><th>tsc cycle hertz</th><th>tsc ns per cycle</th><th>recv sum</th><th>send sum</th><th>cycle count</th><th>tsc start</th><th>tsc end</th><th>send N</th><th>send S</th><th>send E</th><th>send W</th><th>recv N</th><th>recv S</th><th>recv E</th><th>recv W</th><th>tile</th><th>row</th><th>col</th><th>hardware</th><th>experiment design</th><th>net population size</th><th>throughput (agent-generations/sec)</th></tr><tr><td>str</td><td>f64</td><td>f64</td><td>f64</td><td>f64</td><td>f64</td><td>f64</td><td>f64</td><td>f64</td><td>f64</td><td>f64</td><td>f64</td><td>f64</td><td>f64</td><td>f64</td><td>f64</td><td>f64</td><td>f64</td><td>f64</td><td>f64</td><td>f64</td><td>f64</td><td>str</td><td>str</td><td>f64</td><td>f64</td></tr></thead><tbody><tr><td>&quot;count&quot;</td><td>90.0</td><td>90.0</td><td>90.0</td><td>90.0</td><td>90.0</td><td>90.0</td><td>90.0</td><td>90.0</td><td>90.0</td><td>90.0</td><td>90.0</td><td>90.0</td><td>90.0</td><td>90.0</td><td>90.0</td><td>90.0</td><td>90.0</td><td>90.0</td><td>90.0</td><td>90.0</td><td>90.0</td><td>&quot;90&quot;</td><td>&quot;90&quot;</td><td>90.0</td><td>90.0</td></tr><tr><td>&quot;null_count&quot;</td><td>0.0</td><td>0.0</td><td>0.0</td><td>0.0</td><td>0.0</td><td>0.0</td><td>0.0</td><td>0.0</td><td>0.0</td><td>0.0</td><td>0.0</td><td>0.0</td><td>0.0</td><td>0.0</td><td>0.0</td><td>0.0</td><td>0.0</td><td>0.0</td><td>0.0</td><td>0.0</td><td>0.0</td><td>&quot;0&quot;</td><td>&quot;0&quot;</td><td>0.0</td><td>0.0</td></tr><tr><td>&quot;mean&quot;</td><td>0.0</td><td>2759.198242</td><td>0.005518</td><td>181.469513</td><td>5518396.5</td><td>0.0</td><td>0.0</td><td>0.0</td><td>0.0</td><td>0.0</td><td>0.0</td><td>0.0</td><td>0.0</td><td>0.0</td><td>0.0</td><td>0.0</td><td>0.0</td><td>0.0</td><td>0.0</td><td>0.0</td><td>0.0</td><td>null</td><td>null</td><td>1.5116544e7</td><td>2.7432e9</td></tr><tr><td>&quot;std&quot;</td><td>0.0</td><td>103.762825</td><td>0.000208</td><td>6.924452</td><td>207525.640625</td><td>0.0</td><td>0.0</td><td>0.0</td><td>0.0</td><td>0.0</td><td>0.0</td><td>0.0</td><td>0.0</td><td>0.0</td><td>0.0</td><td>0.0</td><td>0.0</td><td>0.0</td><td>0.0</td><td>0.0</td><td>0.0</td><td>null</td><td>null</td><td>0.0</td><td>1.0467e8</td></tr><tr><td>&quot;min&quot;</td><td>0.0</td><td>2610.844727</td><td>0.005222</td><td>170.905243</td><td>5221689.5</td><td>0.0</td><td>0.0</td><td>0.0</td><td>0.0</td><td>0.0</td><td>0.0</td><td>0.0</td><td>0.0</td><td>0.0</td><td>0.0</td><td>0.0</td><td>0.0</td><td>0.0</td><td>0.0</td><td>0.0</td><td>0.0</td><td>&quot;GPU A100&quot;</td><td>&quot;50/50 poisson&quot;</td><td>1.5116544e7</td><td>2.5835e9</td></tr><tr><td>&quot;25%&quot;</td><td>0.0</td><td>2626.729492</td><td>0.005253</td><td>176.605942</td><td>5.253459e6</td><td>0.0</td><td>0.0</td><td>0.0</td><td>0.0</td><td>0.0</td><td>0.0</td><td>0.0</td><td>0.0</td><td>0.0</td><td>0.0</td><td>0.0</td><td>0.0</td><td>0.0</td><td>0.0</td><td>0.0</td><td>0.0</td><td>null</td><td>null</td><td>1.5116544e7</td><td>2.6697e9</td></tr><tr><td>&quot;50%&quot;</td><td>0.0</td><td>2823.922119</td><td>0.005648</td><td>177.073914</td><td>5.647844e6</td><td>0.0</td><td>0.0</td><td>0.0</td><td>0.0</td><td>0.0</td><td>0.0</td><td>0.0</td><td>0.0</td><td>0.0</td><td>0.0</td><td>0.0</td><td>0.0</td><td>0.0</td><td>0.0</td><td>0.0</td><td>0.0</td><td>null</td><td>null</td><td>1.5116544e7</td><td>2.6767e9</td></tr><tr><td>&quot;75%&quot;</td><td>0.0</td><td>2831.161865</td><td>0.005662</td><td>190.350769</td><td>5662323.5</td><td>0.0</td><td>0.0</td><td>0.0</td><td>0.0</td><td>0.0</td><td>0.0</td><td>0.0</td><td>0.0</td><td>0.0</td><td>0.0</td><td>0.0</td><td>0.0</td><td>0.0</td><td>0.0</td><td>0.0</td><td>0.0</td><td>null</td><td>null</td><td>1.5116544e7</td><td>2.8774e9</td></tr><tr><td>&quot;max&quot;</td><td>0.0</td><td>2925.5979</td><td>0.005851</td><td>191.508911</td><td>5851195.5</td><td>0.0</td><td>0.0</td><td>0.0</td><td>0.0</td><td>0.0</td><td>0.0</td><td>0.0</td><td>0.0</td><td>0.0</td><td>0.0</td><td>0.0</td><td>0.0</td><td>0.0</td><td>0.0</td><td>0.0</td><td>0.0</td><td>&quot;GPU A100&quot;</td><td>&quot;denovo poisson&quot;</td><td>1.5116544e7</td><td>2.8950e9</td></tr></tbody></table></div>"
      ],
      "text/plain": [
       "shape: (9, 26)\n",
       "┌───────────┬───────────┬───────────┬───────────┬───┬──────────┬───────────┬───────────┬───────────┐\n",
       "│ statistic ┆ tsc ticks ┆ tsc       ┆ tsc       ┆ … ┆ hardware ┆ experimen ┆ net popul ┆ throughpu │\n",
       "│ ---       ┆ ---       ┆ seconds   ┆ seconds   ┆   ┆ ---      ┆ t design  ┆ ation     ┆ t (agent- │\n",
       "│ str       ┆ f64       ┆ ---       ┆ per cycle ┆   ┆ str      ┆ ---       ┆ size      ┆ generatio │\n",
       "│           ┆           ┆ f64       ┆ ---       ┆   ┆          ┆ str       ┆ ---       ┆ ns/…      │\n",
       "│           ┆           ┆           ┆ f64       ┆   ┆          ┆           ┆ f64       ┆ ---       │\n",
       "│           ┆           ┆           ┆           ┆   ┆          ┆           ┆           ┆ f64       │\n",
       "╞═══════════╪═══════════╪═══════════╪═══════════╪═══╪══════════╪═══════════╪═══════════╪═══════════╡\n",
       "│ count     ┆ 90.0      ┆ 90.0      ┆ 90.0      ┆ … ┆ 90       ┆ 90        ┆ 90.0      ┆ 90.0      │\n",
       "│ null_coun ┆ 0.0       ┆ 0.0       ┆ 0.0       ┆ … ┆ 0        ┆ 0         ┆ 0.0       ┆ 0.0       │\n",
       "│ t         ┆           ┆           ┆           ┆   ┆          ┆           ┆           ┆           │\n",
       "│ mean      ┆ 0.0       ┆ 2759.1982 ┆ 0.005518  ┆ … ┆ null     ┆ null      ┆ 1.5116544 ┆ 2.7432e9  │\n",
       "│           ┆           ┆ 42        ┆           ┆   ┆          ┆           ┆ e7        ┆           │\n",
       "│ std       ┆ 0.0       ┆ 103.76282 ┆ 0.000208  ┆ … ┆ null     ┆ null      ┆ 0.0       ┆ 1.0467e8  │\n",
       "│           ┆           ┆ 5         ┆           ┆   ┆          ┆           ┆           ┆           │\n",
       "│ min       ┆ 0.0       ┆ 2610.8447 ┆ 0.005222  ┆ … ┆ GPU A100 ┆ 50/50     ┆ 1.5116544 ┆ 2.5835e9  │\n",
       "│           ┆           ┆ 27        ┆           ┆   ┆          ┆ poisson   ┆ e7        ┆           │\n",
       "│ 25%       ┆ 0.0       ┆ 2626.7294 ┆ 0.005253  ┆ … ┆ null     ┆ null      ┆ 1.5116544 ┆ 2.6697e9  │\n",
       "│           ┆           ┆ 92        ┆           ┆   ┆          ┆           ┆ e7        ┆           │\n",
       "│ 50%       ┆ 0.0       ┆ 2823.9221 ┆ 0.005648  ┆ … ┆ null     ┆ null      ┆ 1.5116544 ┆ 2.6767e9  │\n",
       "│           ┆           ┆ 19        ┆           ┆   ┆          ┆           ┆ e7        ┆           │\n",
       "│ 75%       ┆ 0.0       ┆ 2831.1618 ┆ 0.005662  ┆ … ┆ null     ┆ null      ┆ 1.5116544 ┆ 2.8774e9  │\n",
       "│           ┆           ┆ 65        ┆           ┆   ┆          ┆           ┆ e7        ┆           │\n",
       "│ max       ┆ 0.0       ┆ 2925.5979 ┆ 0.005851  ┆ … ┆ GPU A100 ┆ denovo    ┆ 1.5116544 ┆ 2.8950e9  │\n",
       "│           ┆           ┆           ┆           ┆   ┆          ┆ poisson   ┆ e7        ┆           │\n",
       "└───────────┴───────────┴───────────┴───────────┴───┴──────────┴───────────┴───────────┴───────────┘"
      ]
     },
     "metadata": {},
     "output_type": "display_data"
    }
   ],
   "source": [
    "cupy_perf = (\n",
    "    pl.concat(\n",
    "        [\n",
    "            pl.read_parquet(\n",
    "                \"https://osf.io/jz3eq/download\",\n",
    "                use_pyarrow=True,\n",
    "            ).with_columns(\n",
    "                pl.lit(\"GPU A100\").alias(\"hardware\"),\n",
    "                pl.lit(\"50/50 poisson\").alias(\"experiment design\"),\n",
    "                pl.lit(256 * 243 * 243).alias(\"net population size\"),\n",
    "            ),\n",
    "            pl.read_parquet(\n",
    "                \"https://osf.io/ya29p/download\",\n",
    "                use_pyarrow=True,\n",
    "            ).with_columns(\n",
    "                pl.lit(\"GPU A100\").alias(\"hardware\"),\n",
    "                pl.lit(\"denovo poisson\").alias(\"experiment design\"),\n",
    "                pl.lit(256 * 243 * 243).alias(\"net population size\"),\n",
    "            ),\n",
    "        ],\n",
    "    )\n",
    "    .filter(pl.col(\"tile\") == 0)\n",
    "    .with_columns(\n",
    "        (\n",
    "            pl.col(\"net population size\") / pl.col(\"tsc seconds per cycle\")\n",
    "        ).alias(\"throughput (agent-generations/sec)\"),\n",
    "    )\n",
    ")\n",
    "display(cupy_perf)\n",
    "display(cupy_perf.describe())\n"
   ]
  },
  {
   "cell_type": "code",
   "execution_count": 5,
   "metadata": {
    "execution": {
     "iopub.execute_input": "2024-10-14T21:08:27.274412Z",
     "iopub.status.busy": "2024-10-14T21:08:27.274055Z",
     "iopub.status.idle": "2024-10-14T21:08:32.381298Z",
     "shell.execute_reply": "2024-10-14T21:08:32.380633Z"
    }
   },
   "outputs": [],
   "source": [
    "wse_perf = pl.concat(\n",
    "    [\n",
    "        pl.read_parquet(\n",
    "            \"https://osf.io/h3tu4/download\",\n",
    "            use_pyarrow=True,\n",
    "        )\n",
    "        .filter(pl.col(\"tile\") == 749 * 993 - 1)\n",
    "        .with_columns(\n",
    "            pl.lit(\"WSE CS-2\").alias(\"hardware\"),\n",
    "            pl.lit(\"50/50 site-explicit\").alias(\"experiment design\"),\n",
    "            pl.lit(256 * 750 * 994).alias(\"net population size\"),\n",
    "        ),\n",
    "        pl.read_parquet(\n",
    "            \"https://osf.io/w97nx/download\",\n",
    "            use_pyarrow=True,\n",
    "        )\n",
    "        .filter(pl.col(\"tile\") == 749 * 993 - 1)\n",
    "        .with_columns(\n",
    "            pl.lit(\"WSE CS-2\").alias(\"hardware\"),\n",
    "            pl.lit(\"denovo site-explicit\").alias(\"experiment design\"),\n",
    "            pl.lit(256 * 750 * 994).alias(\"net population size\"),\n",
    "        ),\n",
    "        pl.read_parquet(\n",
    "            \"https://osf.io/vh9pb/download\",\n",
    "            use_pyarrow=True,\n",
    "        )\n",
    "        .filter(pl.col(\"tile\") == 749 * 993 - 1)\n",
    "        .with_columns(\n",
    "            pl.lit(\"WSE CS-2\").alias(\"hardware\"),\n",
    "            pl.lit(\"50/50 poisson\").alias(\"experiment design\"),\n",
    "            pl.lit(256 * 750 * 994).alias(\"net population size\"),\n",
    "        ),\n",
    "        pl.read_parquet(\n",
    "            \"https://osf.io/zp9gt/download\",\n",
    "            use_pyarrow=True,\n",
    "        )\n",
    "        .filter(pl.col(\"tile\") == 749 * 993 - 1)\n",
    "        .with_columns(\n",
    "            pl.lit(\"WSE CS-2\").alias(\"hardware\"),\n",
    "            pl.lit(\"denovo poisson\").alias(\"experiment design\"),\n",
    "            pl.lit(256 * 750 * 994).alias(\"net population size\"),\n",
    "        ),\n",
    "    ],\n",
    ").with_columns(\n",
    "    (pl.col(\"net population size\") / pl.col(\"tsc seconds per cycle\")).alias(\n",
    "        \"throughput (agent-generations/sec)\"\n",
    "    ),\n",
    ")\n"
   ]
  },
  {
   "cell_type": "code",
   "execution_count": 6,
   "metadata": {
    "execution": {
     "iopub.execute_input": "2024-10-14T21:08:32.383626Z",
     "iopub.status.busy": "2024-10-14T21:08:32.383217Z",
     "iopub.status.idle": "2024-10-14T21:08:32.395841Z",
     "shell.execute_reply": "2024-10-14T21:08:32.395283Z"
    }
   },
   "outputs": [
    {
     "data": {
      "text/html": [
       "<div><style>\n",
       ".dataframe > thead > tr,\n",
       ".dataframe > tbody > tr {\n",
       "  text-align: right;\n",
       "  white-space: pre-wrap;\n",
       "}\n",
       "</style>\n",
       "<small>shape: (342, 25)</small><table border=\"1\" class=\"dataframe\"><thead><tr><th>tsc ticks</th><th>tsc seconds</th><th>tsc seconds per cycle</th><th>tsc cycle hertz</th><th>tsc ns per cycle</th><th>recv sum</th><th>send sum</th><th>cycle count</th><th>tsc start</th><th>tsc end</th><th>send N</th><th>send S</th><th>send E</th><th>send W</th><th>recv N</th><th>recv S</th><th>recv E</th><th>recv W</th><th>tile</th><th>row</th><th>col</th><th>hardware</th><th>experiment design</th><th>net population size</th><th>throughput (agent-generations/sec)</th></tr><tr><td>u64</td><td>f32</td><td>f32</td><td>f32</td><td>f32</td><td>u32</td><td>u32</td><td>u32</td><td>u64</td><td>u64</td><td>u32</td><td>u32</td><td>u32</td><td>u32</td><td>u32</td><td>u32</td><td>u32</td><td>u32</td><td>u32</td><td>u16</td><td>u16</td><td>str</td><td>str</td><td>i32</td><td>f64</td></tr></thead><tbody><tr><td>0</td><td>2612.250244</td><td>0.005225</td><td>191.405853</td><td>5224500.5</td><td>0</td><td>0</td><td>0</td><td>0</td><td>0</td><td>0</td><td>0</td><td>0</td><td>0</td><td>0</td><td>0</td><td>0</td><td>0</td><td>0</td><td>0</td><td>0</td><td>&quot;GPU A100&quot;</td><td>&quot;50/50 poisson&quot;</td><td>15116544</td><td>2.8934e9</td></tr><tr><td>0</td><td>2717.378662</td><td>0.005435</td><td>184.000854</td><td>5434757.5</td><td>0</td><td>0</td><td>0</td><td>0</td><td>0</td><td>0</td><td>0</td><td>0</td><td>0</td><td>0</td><td>0</td><td>0</td><td>0</td><td>0</td><td>0</td><td>0</td><td>&quot;GPU A100&quot;</td><td>&quot;50/50 poisson&quot;</td><td>15116544</td><td>2.7815e9</td></tr><tr><td>0</td><td>2719.092773</td><td>0.005438</td><td>183.884872</td><td>5438185.5</td><td>0</td><td>0</td><td>0</td><td>0</td><td>0</td><td>0</td><td>0</td><td>0</td><td>0</td><td>0</td><td>0</td><td>0</td><td>0</td><td>0</td><td>0</td><td>0</td><td>&quot;GPU A100&quot;</td><td>&quot;50/50 poisson&quot;</td><td>15116544</td><td>2.7797e9</td></tr><tr><td>0</td><td>2721.032471</td><td>0.005442</td><td>183.753784</td><td>5.442065e6</td><td>0</td><td>0</td><td>0</td><td>0</td><td>0</td><td>0</td><td>0</td><td>0</td><td>0</td><td>0</td><td>0</td><td>0</td><td>0</td><td>0</td><td>0</td><td>0</td><td>&quot;GPU A100&quot;</td><td>&quot;50/50 poisson&quot;</td><td>15116544</td><td>2.7777e9</td></tr><tr><td>0</td><td>2610.844727</td><td>0.005222</td><td>191.508911</td><td>5221689.5</td><td>0</td><td>0</td><td>0</td><td>0</td><td>0</td><td>0</td><td>0</td><td>0</td><td>0</td><td>0</td><td>0</td><td>0</td><td>0</td><td>0</td><td>0</td><td>0</td><td>&quot;GPU A100&quot;</td><td>&quot;50/50 poisson&quot;</td><td>15116544</td><td>2.8950e9</td></tr><tr><td>&hellip;</td><td>&hellip;</td><td>&hellip;</td><td>&hellip;</td><td>&hellip;</td><td>&hellip;</td><td>&hellip;</td><td>&hellip;</td><td>&hellip;</td><td>&hellip;</td><td>&hellip;</td><td>&hellip;</td><td>&hellip;</td><td>&hellip;</td><td>&hellip;</td><td>&hellip;</td><td>&hellip;</td><td>&hellip;</td><td>&hellip;</td><td>&hellip;</td><td>&hellip;</td><td>&hellip;</td><td>&hellip;</td><td>&hellip;</td><td>&hellip;</td></tr><tr><td>103685662536</td><td>121.983131</td><td>0.000244</td><td>4098.927246</td><td>243966.265625</td><td>1000003</td><td>4000008</td><td>500000</td><td>27523</td><td>103685690059</td><td>1000002</td><td>1000002</td><td>1000002</td><td>1000002</td><td>250001</td><td>250000</td><td>250001</td><td>250001</td><td>743756</td><td>991</td><td>506</td><td>&quot;WSE CS-2&quot;</td><td>&quot;denovo poisson&quot;</td><td>190848000</td><td>7.8227e11</td></tr><tr><td>103659336568</td><td>121.952164</td><td>0.000244</td><td>4099.968262</td><td>243904.328125</td><td>1000002</td><td>4000008</td><td>500000</td><td>27559</td><td>103659364127</td><td>1000002</td><td>1000002</td><td>1000002</td><td>1000002</td><td>250000</td><td>250000</td><td>250001</td><td>250001</td><td>743756</td><td>991</td><td>506</td><td>&quot;WSE CS-2&quot;</td><td>&quot;denovo poisson&quot;</td><td>190848000</td><td>7.8247e11</td></tr><tr><td>103683860081</td><td>121.98101</td><td>0.000244</td><td>4098.998535</td><td>243962.03125</td><td>1000000</td><td>4000008</td><td>500000</td><td>27558</td><td>103683887639</td><td>1000002</td><td>1000002</td><td>1000002</td><td>1000002</td><td>250000</td><td>250000</td><td>250000</td><td>250000</td><td>743756</td><td>991</td><td>506</td><td>&quot;WSE CS-2&quot;</td><td>&quot;denovo poisson&quot;</td><td>190848000</td><td>7.8229e11</td></tr><tr><td>103884915780</td><td>122.217545</td><td>0.000244</td><td>4091.06543</td><td>244435.09375</td><td>1000001</td><td>4000008</td><td>500000</td><td>28261</td><td>103884944041</td><td>1000002</td><td>1000002</td><td>1000002</td><td>1000002</td><td>250000</td><td>250000</td><td>250001</td><td>250000</td><td>743756</td><td>991</td><td>506</td><td>&quot;WSE CS-2&quot;</td><td>&quot;denovo poisson&quot;</td><td>190848000</td><td>7.8077e11</td></tr><tr><td>103659250820</td><td>121.952057</td><td>0.000244</td><td>4099.97168</td><td>243904.125</td><td>1000000</td><td>4000008</td><td>500000</td><td>28261</td><td>103659279081</td><td>1000002</td><td>1000002</td><td>1000002</td><td>1000002</td><td>250000</td><td>250000</td><td>250000</td><td>250000</td><td>743756</td><td>991</td><td>506</td><td>&quot;WSE CS-2&quot;</td><td>&quot;denovo poisson&quot;</td><td>190848000</td><td>7.8247e11</td></tr></tbody></table></div>"
      ],
      "text/plain": [
       "shape: (342, 25)\n",
       "┌───────────┬───────────┬───────────┬───────────┬───┬──────────┬───────────┬───────────┬───────────┐\n",
       "│ tsc ticks ┆ tsc       ┆ tsc       ┆ tsc cycle ┆ … ┆ hardware ┆ experimen ┆ net popul ┆ throughpu │\n",
       "│ ---       ┆ seconds   ┆ seconds   ┆ hertz     ┆   ┆ ---      ┆ t design  ┆ ation     ┆ t (agent- │\n",
       "│ u64       ┆ ---       ┆ per cycle ┆ ---       ┆   ┆ str      ┆ ---       ┆ size      ┆ generatio │\n",
       "│           ┆ f32       ┆ ---       ┆ f32       ┆   ┆          ┆ str       ┆ ---       ┆ ns/…      │\n",
       "│           ┆           ┆ f32       ┆           ┆   ┆          ┆           ┆ i32       ┆ ---       │\n",
       "│           ┆           ┆           ┆           ┆   ┆          ┆           ┆           ┆ f64       │\n",
       "╞═══════════╪═══════════╪═══════════╪═══════════╪═══╪══════════╪═══════════╪═══════════╪═══════════╡\n",
       "│ 0         ┆ 2612.2502 ┆ 0.005225  ┆ 191.40585 ┆ … ┆ GPU A100 ┆ 50/50     ┆ 15116544  ┆ 2.8934e9  │\n",
       "│           ┆ 44        ┆           ┆ 3         ┆   ┆          ┆ poisson   ┆           ┆           │\n",
       "│ 0         ┆ 2717.3786 ┆ 0.005435  ┆ 184.00085 ┆ … ┆ GPU A100 ┆ 50/50     ┆ 15116544  ┆ 2.7815e9  │\n",
       "│           ┆ 62        ┆           ┆ 4         ┆   ┆          ┆ poisson   ┆           ┆           │\n",
       "│ 0         ┆ 2719.0927 ┆ 0.005438  ┆ 183.88487 ┆ … ┆ GPU A100 ┆ 50/50     ┆ 15116544  ┆ 2.7797e9  │\n",
       "│           ┆ 73        ┆           ┆ 2         ┆   ┆          ┆ poisson   ┆           ┆           │\n",
       "│ 0         ┆ 2721.0324 ┆ 0.005442  ┆ 183.75378 ┆ … ┆ GPU A100 ┆ 50/50     ┆ 15116544  ┆ 2.7777e9  │\n",
       "│           ┆ 71        ┆           ┆ 4         ┆   ┆          ┆ poisson   ┆           ┆           │\n",
       "│ 0         ┆ 2610.8447 ┆ 0.005222  ┆ 191.50891 ┆ … ┆ GPU A100 ┆ 50/50     ┆ 15116544  ┆ 2.8950e9  │\n",
       "│           ┆ 27        ┆           ┆ 1         ┆   ┆          ┆ poisson   ┆           ┆           │\n",
       "│ …         ┆ …         ┆ …         ┆ …         ┆ … ┆ …        ┆ …         ┆ …         ┆ …         │\n",
       "│ 103685662 ┆ 121.98313 ┆ 0.000244  ┆ 4098.9272 ┆ … ┆ WSE CS-2 ┆ denovo    ┆ 190848000 ┆ 7.8227e11 │\n",
       "│ 536       ┆ 1         ┆           ┆ 46        ┆   ┆          ┆ poisson   ┆           ┆           │\n",
       "│ 103659336 ┆ 121.95216 ┆ 0.000244  ┆ 4099.9682 ┆ … ┆ WSE CS-2 ┆ denovo    ┆ 190848000 ┆ 7.8247e11 │\n",
       "│ 568       ┆ 4         ┆           ┆ 62        ┆   ┆          ┆ poisson   ┆           ┆           │\n",
       "│ 103683860 ┆ 121.98101 ┆ 0.000244  ┆ 4098.9985 ┆ … ┆ WSE CS-2 ┆ denovo    ┆ 190848000 ┆ 7.8229e11 │\n",
       "│ 081       ┆           ┆           ┆ 35        ┆   ┆          ┆ poisson   ┆           ┆           │\n",
       "│ 103884915 ┆ 122.21754 ┆ 0.000244  ┆ 4091.0654 ┆ … ┆ WSE CS-2 ┆ denovo    ┆ 190848000 ┆ 7.8077e11 │\n",
       "│ 780       ┆ 5         ┆           ┆ 3         ┆   ┆          ┆ poisson   ┆           ┆           │\n",
       "│ 103659250 ┆ 121.95205 ┆ 0.000244  ┆ 4099.9716 ┆ … ┆ WSE CS-2 ┆ denovo    ┆ 190848000 ┆ 7.8247e11 │\n",
       "│ 820       ┆ 7         ┆           ┆ 8         ┆   ┆          ┆ poisson   ┆           ┆           │\n",
       "└───────────┴───────────┴───────────┴───────────┴───┴──────────┴───────────┴───────────┴───────────┘"
      ]
     },
     "metadata": {},
     "output_type": "display_data"
    },
    {
     "data": {
      "text/html": [
       "<div><style>\n",
       ".dataframe > thead > tr,\n",
       ".dataframe > tbody > tr {\n",
       "  text-align: right;\n",
       "  white-space: pre-wrap;\n",
       "}\n",
       "</style>\n",
       "<small>shape: (9, 26)</small><table border=\"1\" class=\"dataframe\"><thead><tr><th>statistic</th><th>tsc ticks</th><th>tsc seconds</th><th>tsc seconds per cycle</th><th>tsc cycle hertz</th><th>tsc ns per cycle</th><th>recv sum</th><th>send sum</th><th>cycle count</th><th>tsc start</th><th>tsc end</th><th>send N</th><th>send S</th><th>send E</th><th>send W</th><th>recv N</th><th>recv S</th><th>recv E</th><th>recv W</th><th>tile</th><th>row</th><th>col</th><th>hardware</th><th>experiment design</th><th>net population size</th><th>throughput (agent-generations/sec)</th></tr><tr><td>str</td><td>f64</td><td>f64</td><td>f64</td><td>f64</td><td>f64</td><td>f64</td><td>f64</td><td>f64</td><td>f64</td><td>f64</td><td>f64</td><td>f64</td><td>f64</td><td>f64</td><td>f64</td><td>f64</td><td>f64</td><td>f64</td><td>f64</td><td>f64</td><td>f64</td><td>str</td><td>str</td><td>f64</td><td>f64</td></tr></thead><tbody><tr><td>&quot;count&quot;</td><td>342.0</td><td>342.0</td><td>342.0</td><td>342.0</td><td>342.0</td><td>342.0</td><td>342.0</td><td>342.0</td><td>342.0</td><td>342.0</td><td>342.0</td><td>342.0</td><td>342.0</td><td>342.0</td><td>342.0</td><td>342.0</td><td>342.0</td><td>342.0</td><td>342.0</td><td>342.0</td><td>342.0</td><td>&quot;342&quot;</td><td>&quot;342&quot;</td><td>342.0</td><td>342.0</td></tr><tr><td>&quot;null_count&quot;</td><td>0.0</td><td>0.0</td><td>0.0</td><td>0.0</td><td>0.0</td><td>0.0</td><td>0.0</td><td>0.0</td><td>0.0</td><td>0.0</td><td>0.0</td><td>0.0</td><td>0.0</td><td>0.0</td><td>0.0</td><td>0.0</td><td>0.0</td><td>0.0</td><td>0.0</td><td>0.0</td><td>0.0</td><td>&quot;0&quot;</td><td>&quot;0&quot;</td><td>0.0</td><td>0.0</td></tr><tr><td>&quot;mean&quot;</td><td>8.5820e10</td><td>827.069763</td><td>0.001654</td><td>2800.49292</td><td>1.6541e6</td><td>736842.429825</td><td>2.9474e6</td><td>368421.052632</td><td>21461.988304</td><td>8.5820e10</td><td>736843.578947</td><td>736843.578947</td><td>736843.578947</td><td>736843.578947</td><td>184210.643275</td><td>184210.248538</td><td>184210.78655</td><td>184210.751462</td><td>548030.736842</td><td>730.210526</td><td>372.842105</td><td>null</td><td>null</td><td>1.4460288e8</td><td>5.2608e11</td></tr><tr><td>&quot;std&quot;</td><td>5.3940e10</td><td>1157.736084</td><td>0.002315</td><td>1633.710938</td><td>2.315472e6</td><td>440992.774668</td><td>1.7640e6</td><td>220496.290181</td><td>13017.326909</td><td>5.3940e10</td><td>440993.462347</td><td>440993.462347</td><td>440993.462347</td><td>440993.462347</td><td>110248.215178</td><td>110247.978881</td><td>110248.300841</td><td>110248.279845</td><td>327990.8776</td><td>437.023647</td><td>223.142246</td><td>null</td><td>null</td><td>7.7496e7</td><td>3.2531e11</td></tr><tr><td>&quot;min&quot;</td><td>0.0</td><td>110.615601</td><td>0.000221</td><td>170.905243</td><td>221231.203125</td><td>0.0</td><td>0.0</td><td>0.0</td><td>0.0</td><td>0.0</td><td>0.0</td><td>0.0</td><td>0.0</td><td>0.0</td><td>0.0</td><td>0.0</td><td>0.0</td><td>0.0</td><td>0.0</td><td>0.0</td><td>0.0</td><td>&quot;GPU A100&quot;</td><td>&quot;50/50 poisson&quot;</td><td>1.5116544e7</td><td>2.5835e9</td></tr><tr><td>&quot;25%&quot;</td><td>0.0</td><td>121.953316</td><td>0.000244</td><td>191.037094</td><td>243906.625</td><td>0.0</td><td>0.0</td><td>0.0</td><td>0.0</td><td>0.0</td><td>0.0</td><td>0.0</td><td>0.0</td><td>0.0</td><td>0.0</td><td>0.0</td><td>0.0</td><td>0.0</td><td>0.0</td><td>0.0</td><td>0.0</td><td>null</td><td>null</td><td>1.5116544e7</td><td>2.8878e9</td></tr><tr><td>&quot;50%&quot;</td><td>1.0366e11</td><td>149.345856</td><td>0.000299</td><td>3496.033691</td><td>298691.6875</td><td>1e6</td><td>4.000008e6</td><td>500000.0</td><td>28195.0</td><td>1.0366e11</td><td>1.000002e6</td><td>1.000002e6</td><td>1.000002e6</td><td>1.000002e6</td><td>250000.0</td><td>250000.0</td><td>250000.0</td><td>250000.0</td><td>743756.0</td><td>991.0</td><td>506.0</td><td>null</td><td>null</td><td>1.90848e8</td><td>6.6721e11</td></tr><tr><td>&quot;75%&quot;</td><td>1.2156e11</td><td>2617.292725</td><td>0.005235</td><td>4099.929688</td><td>5234585.5</td><td>1.000002e6</td><td>4.000008e6</td><td>500000.0</td><td>28507.0</td><td>1.2156e11</td><td>1.000002e6</td><td>1.000002e6</td><td>1.000002e6</td><td>1.000002e6</td><td>250001.0</td><td>250000.0</td><td>250001.0</td><td>250001.0</td><td>743756.0</td><td>991.0</td><td>506.0</td><td>null</td><td>null</td><td>1.90848e8</td><td>7.8246e11</td></tr><tr><td>&quot;max&quot;</td><td>1.7584e11</td><td>2925.5979</td><td>0.005851</td><td>4520.158203</td><td>5851195.5</td><td>1.000004e6</td><td>4.000008e6</td><td>500000.0</td><td>35548.0</td><td>1.7584e11</td><td>1.000002e6</td><td>1.000002e6</td><td>1.000002e6</td><td>1.000002e6</td><td>250001.0</td><td>250001.0</td><td>250001.0</td><td>250001.0</td><td>743756.0</td><td>991.0</td><td>506.0</td><td>&quot;WSE CS-2&quot;</td><td>&quot;denovo site-explicit&quot;</td><td>1.90848e8</td><td>8.6266e11</td></tr></tbody></table></div>"
      ],
      "text/plain": [
       "shape: (9, 26)\n",
       "┌───────────┬───────────┬───────────┬───────────┬───┬──────────┬───────────┬───────────┬───────────┐\n",
       "│ statistic ┆ tsc ticks ┆ tsc       ┆ tsc       ┆ … ┆ hardware ┆ experimen ┆ net popul ┆ throughpu │\n",
       "│ ---       ┆ ---       ┆ seconds   ┆ seconds   ┆   ┆ ---      ┆ t design  ┆ ation     ┆ t (agent- │\n",
       "│ str       ┆ f64       ┆ ---       ┆ per cycle ┆   ┆ str      ┆ ---       ┆ size      ┆ generatio │\n",
       "│           ┆           ┆ f64       ┆ ---       ┆   ┆          ┆ str       ┆ ---       ┆ ns/…      │\n",
       "│           ┆           ┆           ┆ f64       ┆   ┆          ┆           ┆ f64       ┆ ---       │\n",
       "│           ┆           ┆           ┆           ┆   ┆          ┆           ┆           ┆ f64       │\n",
       "╞═══════════╪═══════════╪═══════════╪═══════════╪═══╪══════════╪═══════════╪═══════════╪═══════════╡\n",
       "│ count     ┆ 342.0     ┆ 342.0     ┆ 342.0     ┆ … ┆ 342      ┆ 342       ┆ 342.0     ┆ 342.0     │\n",
       "│ null_coun ┆ 0.0       ┆ 0.0       ┆ 0.0       ┆ … ┆ 0        ┆ 0         ┆ 0.0       ┆ 0.0       │\n",
       "│ t         ┆           ┆           ┆           ┆   ┆          ┆           ┆           ┆           │\n",
       "│ mean      ┆ 8.5820e10 ┆ 827.06976 ┆ 0.001654  ┆ … ┆ null     ┆ null      ┆ 1.4460288 ┆ 5.2608e11 │\n",
       "│           ┆           ┆ 3         ┆           ┆   ┆          ┆           ┆ e8        ┆           │\n",
       "│ std       ┆ 5.3940e10 ┆ 1157.7360 ┆ 0.002315  ┆ … ┆ null     ┆ null      ┆ 7.7496e7  ┆ 3.2531e11 │\n",
       "│           ┆           ┆ 84        ┆           ┆   ┆          ┆           ┆           ┆           │\n",
       "│ min       ┆ 0.0       ┆ 110.61560 ┆ 0.000221  ┆ … ┆ GPU A100 ┆ 50/50     ┆ 1.5116544 ┆ 2.5835e9  │\n",
       "│           ┆           ┆ 1         ┆           ┆   ┆          ┆ poisson   ┆ e7        ┆           │\n",
       "│ 25%       ┆ 0.0       ┆ 121.95331 ┆ 0.000244  ┆ … ┆ null     ┆ null      ┆ 1.5116544 ┆ 2.8878e9  │\n",
       "│           ┆           ┆ 6         ┆           ┆   ┆          ┆           ┆ e7        ┆           │\n",
       "│ 50%       ┆ 1.0366e11 ┆ 149.34585 ┆ 0.000299  ┆ … ┆ null     ┆ null      ┆ 1.90848e8 ┆ 6.6721e11 │\n",
       "│           ┆           ┆ 6         ┆           ┆   ┆          ┆           ┆           ┆           │\n",
       "│ 75%       ┆ 1.2156e11 ┆ 2617.2927 ┆ 0.005235  ┆ … ┆ null     ┆ null      ┆ 1.90848e8 ┆ 7.8246e11 │\n",
       "│           ┆           ┆ 25        ┆           ┆   ┆          ┆           ┆           ┆           │\n",
       "│ max       ┆ 1.7584e11 ┆ 2925.5979 ┆ 0.005851  ┆ … ┆ WSE CS-2 ┆ denovo    ┆ 1.90848e8 ┆ 8.6266e11 │\n",
       "│           ┆           ┆           ┆           ┆   ┆          ┆ site-expl ┆           ┆           │\n",
       "│           ┆           ┆           ┆           ┆   ┆          ┆ icit      ┆           ┆           │\n",
       "└───────────┴───────────┴───────────┴───────────┴───┴──────────┴───────────┴───────────┴───────────┘"
      ]
     },
     "metadata": {},
     "output_type": "display_data"
    }
   ],
   "source": [
    "df = pl.concat([cupy_perf, wse_perf])\n",
    "display(df)\n",
    "display(df.describe())\n"
   ]
  },
  {
   "cell_type": "markdown",
   "metadata": {},
   "source": [
    "## Absolute performance\n"
   ]
  },
  {
   "cell_type": "code",
   "execution_count": 7,
   "metadata": {
    "execution": {
     "iopub.execute_input": "2024-10-14T21:08:32.397828Z",
     "iopub.status.busy": "2024-10-14T21:08:32.397495Z",
     "iopub.status.idle": "2024-10-14T21:08:35.354735Z",
     "shell.execute_reply": "2024-10-14T21:08:35.354098Z"
    }
   },
   "outputs": [
    {
     "name": "stderr",
     "output_type": "stream",
     "text": [
      "/usr/local/lib/python3.10/dist-packages/backstrip/_backplot.py:127: UserWarning: The palette list has more values (8) than needed (2), which may not be intended.\n",
      "  g = sns.catplot(\n"
     ]
    },
    {
     "name": "stdout",
     "output_type": "stream",
     "text": [
      "teeplots/col=experiment-design+hue=hardware+orient=h+viz=backplot+x=throughput-agent-generations-sec+ext=.pdf\n",
      "teeplots/col=experiment-design+hue=hardware+orient=h+viz=backplot+x=throughput-agent-generations-sec+ext=.png\n"
     ]
    },
    {
     "data": {
      "image/png": "[encoded data removed]",
      "text/plain": [
       "<Figure size 719.5x300 with 4 Axes>"
      ]
     },
     "metadata": {},
     "output_type": "display_data"
    },
    {
     "data": {
      "text/plain": [
       "<seaborn.axisgrid.FacetGrid at 0x7fb180051f90>"
      ]
     },
     "execution_count": 7,
     "metadata": {},
     "output_type": "execute_result"
    }
   ],
   "source": [
    "tp.tee(\n",
    "    backplot,\n",
    "    data=df.to_pandas(),\n",
    "    col=\"experiment design\",\n",
    "    x=\"throughput (agent-generations/sec)\",\n",
    "    hue=\"hardware\",\n",
    "    aspect=2,\n",
    "    col_wrap=2,\n",
    "    height=1.5,\n",
    "    orient=\"h\",\n",
    "    log_scale=(True, False),\n",
    "    palette=sns.color_palette(\"Accent\"),\n",
    "    sharey=False,\n",
    "    teeplot_outexclude=\"post\",\n",
    "    teeplot_postprocess=\"\"\"\n",
    "for ax in teed.axes.flat[2:]:\n",
    "    ax.set_ylim(-0.1, 0.5)\n",
    "\"\"\",\n",
    ")\n"
   ]
  },
  {
   "cell_type": "code",
   "execution_count": 8,
   "metadata": {
    "execution": {
     "iopub.execute_input": "2024-10-14T21:08:35.356739Z",
     "iopub.status.busy": "2024-10-14T21:08:35.356361Z",
     "iopub.status.idle": "2024-10-14T21:08:35.361842Z",
     "shell.execute_reply": "2024-10-14T21:08:35.361375Z"
    }
   },
   "outputs": [
    {
     "data": {
      "text/html": [
       "<div><style>\n",
       ".dataframe > thead > tr,\n",
       ".dataframe > tbody > tr {\n",
       "  text-align: right;\n",
       "  white-space: pre-wrap;\n",
       "}\n",
       "</style>\n",
       "<small>shape: (6, 6)</small><table border=\"1\" class=\"dataframe\"><thead><tr><th>hardware</th><th>experiment design</th><th>mean_throughput</th><th>std_throughput</th><th>mean_speed</th><th>std_speed</th></tr><tr><td>str</td><td>str</td><td>f64</td><td>f64</td><td>f32</td><td>f32</td></tr></thead><tbody><tr><td>&quot;WSE CS-2&quot;</td><td>&quot;50/50 poisson&quot;</td><td>8.2192e11</td><td>2.9740e10</td><td>4306.648438</td><td>155.83284</td></tr><tr><td>&quot;WSE CS-2&quot;</td><td>&quot;denovo poisson&quot;</td><td>7.8222e11</td><td>5.2905e8</td><td>4098.675781</td><td>2.772118</td></tr><tr><td>&quot;WSE CS-2&quot;</td><td>&quot;50/50 site-explicit&quot;</td><td>6.7028e11</td><td>1.1047e11</td><td>3512.122314</td><td>578.845947</td></tr><tr><td>&quot;GPU A100&quot;</td><td>&quot;50/50 poisson&quot;</td><td>2.8646e9</td><td>3.9513e7</td><td>189.501465</td><td>2.613894</td></tr><tr><td>&quot;WSE CS-2&quot;</td><td>&quot;denovo site-explicit&quot;</td><td>6.5376e11</td><td>5.4374e10</td><td>3425.558105</td><td>284.907532</td></tr><tr><td>&quot;GPU A100&quot;</td><td>&quot;denovo poisson&quot;</td><td>2.6622e9</td><td>2.6056e7</td><td>176.114853</td><td>1.723704</td></tr></tbody></table></div>"
      ],
      "text/plain": [
       "shape: (6, 6)\n",
       "┌──────────┬──────────────────────┬─────────────────┬────────────────┬─────────────┬────────────┐\n",
       "│ hardware ┆ experiment design    ┆ mean_throughput ┆ std_throughput ┆ mean_speed  ┆ std_speed  │\n",
       "│ ---      ┆ ---                  ┆ ---             ┆ ---            ┆ ---         ┆ ---        │\n",
       "│ str      ┆ str                  ┆ f64             ┆ f64            ┆ f32         ┆ f32        │\n",
       "╞══════════╪══════════════════════╪═════════════════╪════════════════╪═════════════╪════════════╡\n",
       "│ WSE CS-2 ┆ 50/50 poisson        ┆ 8.2192e11       ┆ 2.9740e10      ┆ 4306.648438 ┆ 155.83284  │\n",
       "│ WSE CS-2 ┆ denovo poisson       ┆ 7.8222e11       ┆ 5.2905e8       ┆ 4098.675781 ┆ 2.772118   │\n",
       "│ WSE CS-2 ┆ 50/50 site-explicit  ┆ 6.7028e11       ┆ 1.1047e11      ┆ 3512.122314 ┆ 578.845947 │\n",
       "│ GPU A100 ┆ 50/50 poisson        ┆ 2.8646e9        ┆ 3.9513e7       ┆ 189.501465  ┆ 2.613894   │\n",
       "│ WSE CS-2 ┆ denovo site-explicit ┆ 6.5376e11       ┆ 5.4374e10      ┆ 3425.558105 ┆ 284.907532 │\n",
       "│ GPU A100 ┆ denovo poisson       ┆ 2.6622e9        ┆ 2.6056e7       ┆ 176.114853  ┆ 1.723704   │\n",
       "└──────────┴──────────────────────┴─────────────────┴────────────────┴─────────────┴────────────┘"
      ]
     },
     "execution_count": 8,
     "metadata": {},
     "output_type": "execute_result"
    }
   ],
   "source": [
    "df.group_by(\"hardware\", \"experiment design\",).agg(\n",
    "    pl.col(\"throughput (agent-generations/sec)\")\n",
    "    .mean()\n",
    "    .alias(\"mean_throughput\"),\n",
    "    pl.col(\"throughput (agent-generations/sec)\").std().alias(\"std_throughput\"),\n",
    "    pl.col(\"tsc cycle hertz\").mean().alias(\"mean_speed\"),\n",
    "    pl.col(\"tsc cycle hertz\").std().alias(\"std_speed\"),\n",
    ")\n"
   ]
  },
  {
   "cell_type": "markdown",
   "metadata": {},
   "source": [
    "## Relative Performance\n"
   ]
  },
  {
   "cell_type": "code",
   "execution_count": 9,
   "metadata": {
    "execution": {
     "iopub.execute_input": "2024-10-14T21:08:35.363728Z",
     "iopub.status.busy": "2024-10-14T21:08:35.363373Z",
     "iopub.status.idle": "2024-10-14T21:08:35.372386Z",
     "shell.execute_reply": "2024-10-14T21:08:35.371810Z"
    }
   },
   "outputs": [
    {
     "name": "stdout",
     "output_type": "stream",
     "text": [
      "shape: (2, 2)\n",
      "┌───────────────────┬──────────┐\n",
      "│ experiment design ┆ gpu_mean │\n",
      "│ ---               ┆ ---      │\n",
      "│ str               ┆ f64      │\n",
      "╞═══════════════════╪══════════╡\n",
      "│ 50/50 poisson     ┆ 2.8646e9 │\n",
      "│ denovo poisson    ┆ 2.6622e9 │\n",
      "└───────────────────┴──────────┘\n"
     ]
    },
    {
     "data": {
      "text/html": [
       "<div><style>\n",
       ".dataframe > thead > tr,\n",
       ".dataframe > tbody > tr {\n",
       "  text-align: right;\n",
       "  white-space: pre-wrap;\n",
       "}\n",
       "</style>\n",
       "<small>shape: (342, 27)</small><table border=\"1\" class=\"dataframe\"><thead><tr><th>tsc ticks</th><th>tsc seconds</th><th>tsc seconds per cycle</th><th>tsc cycle hertz</th><th>tsc ns per cycle</th><th>recv sum</th><th>send sum</th><th>cycle count</th><th>tsc start</th><th>tsc end</th><th>send N</th><th>send S</th><th>send E</th><th>send W</th><th>recv N</th><th>recv S</th><th>recv E</th><th>recv W</th><th>tile</th><th>row</th><th>col</th><th>hardware</th><th>experiment design</th><th>net population size</th><th>throughput (agent-generations/sec)</th><th>gpu_mean</th><th>speedup</th></tr><tr><td>u64</td><td>f32</td><td>f32</td><td>f32</td><td>f32</td><td>u32</td><td>u32</td><td>u32</td><td>u64</td><td>u64</td><td>u32</td><td>u32</td><td>u32</td><td>u32</td><td>u32</td><td>u32</td><td>u32</td><td>u32</td><td>u32</td><td>u16</td><td>u16</td><td>str</td><td>str</td><td>i32</td><td>f64</td><td>f64</td><td>f64</td></tr></thead><tbody><tr><td>0</td><td>2612.250244</td><td>0.005225</td><td>191.405853</td><td>5224500.5</td><td>0</td><td>0</td><td>0</td><td>0</td><td>0</td><td>0</td><td>0</td><td>0</td><td>0</td><td>0</td><td>0</td><td>0</td><td>0</td><td>0</td><td>0</td><td>0</td><td>&quot;GPU A100&quot;</td><td>&quot;50/50 poisson&quot;</td><td>15116544</td><td>2.8934e9</td><td>2.8646e9</td><td>1.010049</td></tr><tr><td>0</td><td>2717.378662</td><td>0.005435</td><td>184.000854</td><td>5434757.5</td><td>0</td><td>0</td><td>0</td><td>0</td><td>0</td><td>0</td><td>0</td><td>0</td><td>0</td><td>0</td><td>0</td><td>0</td><td>0</td><td>0</td><td>0</td><td>0</td><td>&quot;GPU A100&quot;</td><td>&quot;50/50 poisson&quot;</td><td>15116544</td><td>2.7815e9</td><td>2.8646e9</td><td>0.970973</td></tr><tr><td>0</td><td>2719.092773</td><td>0.005438</td><td>183.884872</td><td>5438185.5</td><td>0</td><td>0</td><td>0</td><td>0</td><td>0</td><td>0</td><td>0</td><td>0</td><td>0</td><td>0</td><td>0</td><td>0</td><td>0</td><td>0</td><td>0</td><td>0</td><td>&quot;GPU A100&quot;</td><td>&quot;50/50 poisson&quot;</td><td>15116544</td><td>2.7797e9</td><td>2.8646e9</td><td>0.970361</td></tr><tr><td>0</td><td>2721.032471</td><td>0.005442</td><td>183.753784</td><td>5.442065e6</td><td>0</td><td>0</td><td>0</td><td>0</td><td>0</td><td>0</td><td>0</td><td>0</td><td>0</td><td>0</td><td>0</td><td>0</td><td>0</td><td>0</td><td>0</td><td>0</td><td>&quot;GPU A100&quot;</td><td>&quot;50/50 poisson&quot;</td><td>15116544</td><td>2.7777e9</td><td>2.8646e9</td><td>0.969669</td></tr><tr><td>0</td><td>2610.844727</td><td>0.005222</td><td>191.508911</td><td>5221689.5</td><td>0</td><td>0</td><td>0</td><td>0</td><td>0</td><td>0</td><td>0</td><td>0</td><td>0</td><td>0</td><td>0</td><td>0</td><td>0</td><td>0</td><td>0</td><td>0</td><td>&quot;GPU A100&quot;</td><td>&quot;50/50 poisson&quot;</td><td>15116544</td><td>2.8950e9</td><td>2.8646e9</td><td>1.010593</td></tr><tr><td>&hellip;</td><td>&hellip;</td><td>&hellip;</td><td>&hellip;</td><td>&hellip;</td><td>&hellip;</td><td>&hellip;</td><td>&hellip;</td><td>&hellip;</td><td>&hellip;</td><td>&hellip;</td><td>&hellip;</td><td>&hellip;</td><td>&hellip;</td><td>&hellip;</td><td>&hellip;</td><td>&hellip;</td><td>&hellip;</td><td>&hellip;</td><td>&hellip;</td><td>&hellip;</td><td>&hellip;</td><td>&hellip;</td><td>&hellip;</td><td>&hellip;</td><td>&hellip;</td><td>&hellip;</td></tr><tr><td>103685662536</td><td>121.983131</td><td>0.000244</td><td>4098.927246</td><td>243966.265625</td><td>1000003</td><td>4000008</td><td>500000</td><td>27523</td><td>103685690059</td><td>1000002</td><td>1000002</td><td>1000002</td><td>1000002</td><td>250001</td><td>250000</td><td>250001</td><td>250001</td><td>743756</td><td>991</td><td>506</td><td>&quot;WSE CS-2&quot;</td><td>&quot;denovo poisson&quot;</td><td>190848000</td><td>7.8227e11</td><td>2.6622e9</td><td>293.838935</td></tr><tr><td>103659336568</td><td>121.952164</td><td>0.000244</td><td>4099.968262</td><td>243904.328125</td><td>1000002</td><td>4000008</td><td>500000</td><td>27559</td><td>103659364127</td><td>1000002</td><td>1000002</td><td>1000002</td><td>1000002</td><td>250000</td><td>250000</td><td>250001</td><td>250001</td><td>743756</td><td>991</td><td>506</td><td>&quot;WSE CS-2&quot;</td><td>&quot;denovo poisson&quot;</td><td>190848000</td><td>7.8247e11</td><td>2.6622e9</td><td>293.913565</td></tr><tr><td>103683860081</td><td>121.98101</td><td>0.000244</td><td>4098.998535</td><td>243962.03125</td><td>1000000</td><td>4000008</td><td>500000</td><td>27558</td><td>103683887639</td><td>1000002</td><td>1000002</td><td>1000002</td><td>1000002</td><td>250000</td><td>250000</td><td>250000</td><td>250000</td><td>743756</td><td>991</td><td>506</td><td>&quot;WSE CS-2&quot;</td><td>&quot;denovo poisson&quot;</td><td>190848000</td><td>7.8229e11</td><td>2.6622e9</td><td>293.844036</td></tr><tr><td>103884915780</td><td>122.217545</td><td>0.000244</td><td>4091.06543</td><td>244435.09375</td><td>1000001</td><td>4000008</td><td>500000</td><td>28261</td><td>103884944041</td><td>1000002</td><td>1000002</td><td>1000002</td><td>1000002</td><td>250000</td><td>250000</td><td>250001</td><td>250000</td><td>743756</td><td>991</td><td>506</td><td>&quot;WSE CS-2&quot;</td><td>&quot;denovo poisson&quot;</td><td>190848000</td><td>7.8077e11</td><td>2.6622e9</td><td>293.275344</td></tr><tr><td>103659250820</td><td>121.952057</td><td>0.000244</td><td>4099.97168</td><td>243904.125</td><td>1000000</td><td>4000008</td><td>500000</td><td>28261</td><td>103659279081</td><td>1000002</td><td>1000002</td><td>1000002</td><td>1000002</td><td>250000</td><td>250000</td><td>250000</td><td>250000</td><td>743756</td><td>991</td><td>506</td><td>&quot;WSE CS-2&quot;</td><td>&quot;denovo poisson&quot;</td><td>190848000</td><td>7.8247e11</td><td>2.6622e9</td><td>293.913811</td></tr></tbody></table></div>"
      ],
      "text/plain": [
       "shape: (342, 27)\n",
       "┌───────────┬───────────┬───────────┬───────────┬───┬───────────┬───────────┬──────────┬───────────┐\n",
       "│ tsc ticks ┆ tsc       ┆ tsc       ┆ tsc cycle ┆ … ┆ net popul ┆ throughpu ┆ gpu_mean ┆ speedup   │\n",
       "│ ---       ┆ seconds   ┆ seconds   ┆ hertz     ┆   ┆ ation     ┆ t (agent- ┆ ---      ┆ ---       │\n",
       "│ u64       ┆ ---       ┆ per cycle ┆ ---       ┆   ┆ size      ┆ generatio ┆ f64      ┆ f64       │\n",
       "│           ┆ f32       ┆ ---       ┆ f32       ┆   ┆ ---       ┆ ns/…      ┆          ┆           │\n",
       "│           ┆           ┆ f32       ┆           ┆   ┆ i32       ┆ ---       ┆          ┆           │\n",
       "│           ┆           ┆           ┆           ┆   ┆           ┆ f64       ┆          ┆           │\n",
       "╞═══════════╪═══════════╪═══════════╪═══════════╪═══╪═══════════╪═══════════╪══════════╪═══════════╡\n",
       "│ 0         ┆ 2612.2502 ┆ 0.005225  ┆ 191.40585 ┆ … ┆ 15116544  ┆ 2.8934e9  ┆ 2.8646e9 ┆ 1.010049  │\n",
       "│           ┆ 44        ┆           ┆ 3         ┆   ┆           ┆           ┆          ┆           │\n",
       "│ 0         ┆ 2717.3786 ┆ 0.005435  ┆ 184.00085 ┆ … ┆ 15116544  ┆ 2.7815e9  ┆ 2.8646e9 ┆ 0.970973  │\n",
       "│           ┆ 62        ┆           ┆ 4         ┆   ┆           ┆           ┆          ┆           │\n",
       "│ 0         ┆ 2719.0927 ┆ 0.005438  ┆ 183.88487 ┆ … ┆ 15116544  ┆ 2.7797e9  ┆ 2.8646e9 ┆ 0.970361  │\n",
       "│           ┆ 73        ┆           ┆ 2         ┆   ┆           ┆           ┆          ┆           │\n",
       "│ 0         ┆ 2721.0324 ┆ 0.005442  ┆ 183.75378 ┆ … ┆ 15116544  ┆ 2.7777e9  ┆ 2.8646e9 ┆ 0.969669  │\n",
       "│           ┆ 71        ┆           ┆ 4         ┆   ┆           ┆           ┆          ┆           │\n",
       "│ 0         ┆ 2610.8447 ┆ 0.005222  ┆ 191.50891 ┆ … ┆ 15116544  ┆ 2.8950e9  ┆ 2.8646e9 ┆ 1.010593  │\n",
       "│           ┆ 27        ┆           ┆ 1         ┆   ┆           ┆           ┆          ┆           │\n",
       "│ …         ┆ …         ┆ …         ┆ …         ┆ … ┆ …         ┆ …         ┆ …        ┆ …         │\n",
       "│ 103685662 ┆ 121.98313 ┆ 0.000244  ┆ 4098.9272 ┆ … ┆ 190848000 ┆ 7.8227e11 ┆ 2.6622e9 ┆ 293.83893 │\n",
       "│ 536       ┆ 1         ┆           ┆ 46        ┆   ┆           ┆           ┆          ┆ 5         │\n",
       "│ 103659336 ┆ 121.95216 ┆ 0.000244  ┆ 4099.9682 ┆ … ┆ 190848000 ┆ 7.8247e11 ┆ 2.6622e9 ┆ 293.91356 │\n",
       "│ 568       ┆ 4         ┆           ┆ 62        ┆   ┆           ┆           ┆          ┆ 5         │\n",
       "│ 103683860 ┆ 121.98101 ┆ 0.000244  ┆ 4098.9985 ┆ … ┆ 190848000 ┆ 7.8229e11 ┆ 2.6622e9 ┆ 293.84403 │\n",
       "│ 081       ┆           ┆           ┆ 35        ┆   ┆           ┆           ┆          ┆ 6         │\n",
       "│ 103884915 ┆ 122.21754 ┆ 0.000244  ┆ 4091.0654 ┆ … ┆ 190848000 ┆ 7.8077e11 ┆ 2.6622e9 ┆ 293.27534 │\n",
       "│ 780       ┆ 5         ┆           ┆ 3         ┆   ┆           ┆           ┆          ┆ 4         │\n",
       "│ 103659250 ┆ 121.95205 ┆ 0.000244  ┆ 4099.9716 ┆ … ┆ 190848000 ┆ 7.8247e11 ┆ 2.6622e9 ┆ 293.91381 │\n",
       "│ 820       ┆ 7         ┆           ┆ 8         ┆   ┆           ┆           ┆          ┆ 1         │\n",
       "└───────────┴───────────┴───────────┴───────────┴───┴───────────┴───────────┴──────────┴───────────┘"
      ]
     },
     "execution_count": 9,
     "metadata": {},
     "output_type": "execute_result"
    }
   ],
   "source": [
    "# Step 1: Filter for GPU and calculate the mean throughput per experiment design\n",
    "gpu_means = (\n",
    "    df.filter(pl.col(\"hardware\").str.contains(\"GPU\"))\n",
    "    .group_by(\"experiment design\")\n",
    "    .agg(pl.mean(\"throughput (agent-generations/sec)\").alias(\"gpu_mean\"))\n",
    ")\n",
    "print(gpu_means)\n",
    "\n",
    "# Step 2: Join the GPU mean back to the original DataFrame\n",
    "df_with_mean = df.join(gpu_means, on=\"experiment design\", how=\"left\")\n",
    "\n",
    "# Step 3: Calculate the speedup by dividing throughput by the GPU mean\n",
    "df_with_speedup = df_with_mean.with_columns(\n",
    "    (pl.col(\"throughput (agent-generations/sec)\") / pl.col(\"gpu_mean\")).alias(\n",
    "        \"speedup\"\n",
    "    )\n",
    ")\n",
    "\n",
    "# Show the resulting DataFrame with speedup\n",
    "df_with_speedup\n"
   ]
  },
  {
   "cell_type": "code",
   "execution_count": 10,
   "metadata": {
    "execution": {
     "iopub.execute_input": "2024-10-14T21:08:35.374101Z",
     "iopub.status.busy": "2024-10-14T21:08:35.373918Z",
     "iopub.status.idle": "2024-10-14T21:08:36.131922Z",
     "shell.execute_reply": "2024-10-14T21:08:36.131277Z"
    }
   },
   "outputs": [
    {
     "name": "stderr",
     "output_type": "stream",
     "text": [
      "/usr/local/lib/python3.10/dist-packages/backstrip/_backplot.py:127: UserWarning: The palette list has more values (8) than needed (2), which may not be intended.\n",
      "  g = sns.catplot(\n"
     ]
    },
    {
     "name": "stdout",
     "output_type": "stream",
     "text": [
      "teeplots/hue=hardware+orient=h+viz=backplot+x=speedup+y=experiment-design+ext=.pdf\n",
      "teeplots/hue=hardware+orient=h+viz=backplot+x=speedup+y=experiment-design+ext=.png\n"
     ]
    },
    {
     "data": {
      "image/png": "[encoded data removed]",
      "text/plain": [
       "<Figure size 519.5x200 with 1 Axes>"
      ]
     },
     "metadata": {},
     "output_type": "display_data"
    },
    {
     "data": {
      "text/plain": [
       "<seaborn.axisgrid.FacetGrid at 0x7fb1961b8610>"
      ]
     },
     "execution_count": 10,
     "metadata": {},
     "output_type": "execute_result"
    }
   ],
   "source": [
    "tp.tee(\n",
    "    backplot,\n",
    "    data=df_with_speedup.to_pandas(),\n",
    "    y=\"experiment design\",\n",
    "    x=\"speedup\",\n",
    "    hue=\"hardware\",\n",
    "    aspect=2,\n",
    "    height=2,\n",
    "    order=[\"50/50 poisson\", \"denovo poisson\"],\n",
    "    orient=\"h\",\n",
    "    log_scale=(True, False),\n",
    "    palette=sns.color_palette(\"Accent\"),\n",
    ")\n"
   ]
  },
  {
   "cell_type": "code",
   "execution_count": 11,
   "metadata": {
    "execution": {
     "iopub.execute_input": "2024-10-14T21:08:36.134083Z",
     "iopub.status.busy": "2024-10-14T21:08:36.133629Z",
     "iopub.status.idle": "2024-10-14T21:08:36.139050Z",
     "shell.execute_reply": "2024-10-14T21:08:36.138544Z"
    }
   },
   "outputs": [
    {
     "data": {
      "text/html": [
       "<div><style>\n",
       ".dataframe > thead > tr,\n",
       ".dataframe > tbody > tr {\n",
       "  text-align: right;\n",
       "  white-space: pre-wrap;\n",
       "}\n",
       "</style>\n",
       "<small>shape: (6, 4)</small><table border=\"1\" class=\"dataframe\"><thead><tr><th>hardware</th><th>experiment design</th><th>mean_speedup</th><th>std_speedup</th></tr><tr><td>str</td><td>str</td><td>f64</td><td>f64</td></tr></thead><tbody><tr><td>&quot;WSE CS-2&quot;</td><td>&quot;denovo poisson&quot;</td><td>293.820973</td><td>0.198724</td></tr><tr><td>&quot;GPU A100&quot;</td><td>&quot;50/50 poisson&quot;</td><td>1.0</td><td>0.013794</td></tr><tr><td>&quot;WSE CS-2&quot;</td><td>&quot;50/50 site-explicit&quot;</td><td>null</td><td>null</td></tr><tr><td>&quot;WSE CS-2&quot;</td><td>&quot;50/50 poisson&quot;</td><td>286.920722</td><td>10.382012</td></tr><tr><td>&quot;WSE CS-2&quot;</td><td>&quot;denovo site-explicit&quot;</td><td>null</td><td>null</td></tr><tr><td>&quot;GPU A100&quot;</td><td>&quot;denovo poisson&quot;</td><td>1.0</td><td>0.009787</td></tr></tbody></table></div>"
      ],
      "text/plain": [
       "shape: (6, 4)\n",
       "┌──────────┬──────────────────────┬──────────────┬─────────────┐\n",
       "│ hardware ┆ experiment design    ┆ mean_speedup ┆ std_speedup │\n",
       "│ ---      ┆ ---                  ┆ ---          ┆ ---         │\n",
       "│ str      ┆ str                  ┆ f64          ┆ f64         │\n",
       "╞══════════╪══════════════════════╪══════════════╪═════════════╡\n",
       "│ WSE CS-2 ┆ denovo poisson       ┆ 293.820973   ┆ 0.198724    │\n",
       "│ GPU A100 ┆ 50/50 poisson        ┆ 1.0          ┆ 0.013794    │\n",
       "│ WSE CS-2 ┆ 50/50 site-explicit  ┆ null         ┆ null        │\n",
       "│ WSE CS-2 ┆ 50/50 poisson        ┆ 286.920722   ┆ 10.382012   │\n",
       "│ WSE CS-2 ┆ denovo site-explicit ┆ null         ┆ null        │\n",
       "│ GPU A100 ┆ denovo poisson       ┆ 1.0          ┆ 0.009787    │\n",
       "└──────────┴──────────────────────┴──────────────┴─────────────┘"
      ]
     },
     "execution_count": 11,
     "metadata": {},
     "output_type": "execute_result"
    }
   ],
   "source": [
    "df_with_speedup.group_by(\"hardware\", \"experiment design\",).agg(\n",
    "    pl.col(\"speedup\").mean().alias(\"mean_speedup\"),\n",
    "    pl.col(\"speedup\").std().alias(\"std_speedup\"),\n",
    ")\n"
   ]
  }
 ],
 "metadata": {
  "kernelspec": {
   "display_name": "Python 3",
   "language": "python",
   "name": "python3"
  },
  "language_info": {
   "codemirror_mode": {
    "name": "ipython",
    "version": 3
   },
   "file_extension": ".py",
   "mimetype": "text/x-python",
   "name": "python",
   "nbconvert_exporter": "python",
   "pygments_lexer": "ipython3",
   "version": "3.10.12"
  }
 },
 "nbformat": 4,
 "nbformat_minor": 2
}
