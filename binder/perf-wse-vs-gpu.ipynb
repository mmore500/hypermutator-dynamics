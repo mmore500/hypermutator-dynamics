{
 "cells": [
  {
   "cell_type": "code",
   "execution_count": 1,
   "metadata": {
    "execution": {
     "iopub.execute_input": "2024-11-02T14:43:10.488862Z",
     "iopub.status.busy": "2024-11-02T14:43:10.488688Z",
     "iopub.status.idle": "2024-11-02T14:43:10.501378Z",
     "shell.execute_reply": "2024-11-02T14:43:10.500896Z"
    }
   },
   "outputs": [],
   "source": [
    "%load_ext watermark\n"
   ]
  },
  {
   "cell_type": "code",
   "execution_count": 2,
   "metadata": {
    "execution": {
     "iopub.execute_input": "2024-11-02T14:43:10.503232Z",
     "iopub.status.busy": "2024-11-02T14:43:10.502899Z",
     "iopub.status.idle": "2024-11-02T14:43:14.431014Z",
     "shell.execute_reply": "2024-11-02T14:43:14.430381Z"
    }
   },
   "outputs": [],
   "source": [
    "from IPython.display import display\n",
    "from backstrip import backplot\n",
    "import polars as pl\n",
    "import seaborn as sns\n",
    "from teeplot import teeplot as tp\n"
   ]
  },
  {
   "cell_type": "code",
   "execution_count": 3,
   "metadata": {
    "execution": {
     "iopub.execute_input": "2024-11-02T14:43:14.433369Z",
     "iopub.status.busy": "2024-11-02T14:43:14.433100Z",
     "iopub.status.idle": "2024-11-02T14:43:14.473336Z",
     "shell.execute_reply": "2024-11-02T14:43:14.472704Z"
    }
   },
   "outputs": [
    {
     "name": "stdout",
     "output_type": "stream",
     "text": [
      "Last updated: 2024-11-02T14:43:14.434370+00:00\n",
      "\n",
      "Python implementation: CPython\n",
      "Python version       : 3.10.12\n",
      "IPython version      : 7.31.1\n",
      "\n",
      "Compiler    : GCC 11.4.0\n",
      "OS          : Linux\n",
      "Release     : 6.5.0-1025-azure\n",
      "Machine     : x86_64\n",
      "Processor   : x86_64\n",
      "CPU cores   : 4\n",
      "Architecture: 64bit\n",
      "\n",
      "seaborn: 0.13.2\n",
      "polars : 1.9.0\n",
      "teeplot: 1.1.3\n",
      "\n",
      "Watermark: 2.4.3\n",
      "\n"
     ]
    }
   ],
   "source": [
    "%watermark -diwmuv -iv\n"
   ]
  },
  {
   "cell_type": "markdown",
   "metadata": {},
   "source": [
    "## Prep Data\n"
   ]
  },
  {
   "cell_type": "code",
   "execution_count": 4,
   "metadata": {
    "execution": {
     "iopub.execute_input": "2024-11-02T14:43:14.498932Z",
     "iopub.status.busy": "2024-11-02T14:43:14.498643Z",
     "iopub.status.idle": "2024-11-02T14:43:16.843815Z",
     "shell.execute_reply": "2024-11-02T14:43:16.843301Z"
    }
   },
   "outputs": [
    {
     "data": {
      "text/html": [
       "<div><style>\n",
       ".dataframe > thead > tr,\n",
       ".dataframe > tbody > tr {\n",
       "  text-align: right;\n",
       "  white-space: pre-wrap;\n",
       "}\n",
       "</style>\n",
       "<small>shape: (20, 25)</small><table border=\"1\" class=\"dataframe\"><thead><tr><th>tsc ticks</th><th>tsc seconds</th><th>tsc seconds per cycle</th><th>tsc cycle hertz</th><th>tsc ns per cycle</th><th>recv sum</th><th>send sum</th><th>cycle count</th><th>tsc start</th><th>tsc end</th><th>send N</th><th>send S</th><th>send E</th><th>send W</th><th>recv N</th><th>recv S</th><th>recv E</th><th>recv W</th><th>tile</th><th>row</th><th>col</th><th>hardware</th><th>experiment design</th><th>net population size</th><th>throughput (agent-generations/sec)</th></tr><tr><td>u64</td><td>f32</td><td>f32</td><td>f32</td><td>f32</td><td>u32</td><td>u32</td><td>u32</td><td>u64</td><td>u64</td><td>u32</td><td>u32</td><td>u32</td><td>u32</td><td>u32</td><td>u32</td><td>u32</td><td>u32</td><td>u32</td><td>u16</td><td>u16</td><td>str</td><td>str</td><td>i32</td><td>f64</td></tr></thead><tbody><tr><td>0</td><td>209.579391</td><td>0.209579</td><td>4.771461</td><td>2.09579392e8</td><td>0</td><td>0</td><td>0</td><td>0</td><td>0</td><td>0</td><td>0</td><td>0</td><td>0</td><td>0</td><td>0</td><td>0</td><td>0</td><td>0</td><td>0</td><td>0</td><td>&quot;CPU&quot;</td><td>&quot;50/50 poisson&quot;</td><td>1679616</td><td>8.0142e6</td></tr><tr><td>0</td><td>229.492737</td><td>0.229493</td><td>4.357437</td><td>2.29492736e8</td><td>0</td><td>0</td><td>0</td><td>0</td><td>0</td><td>0</td><td>0</td><td>0</td><td>0</td><td>0</td><td>0</td><td>0</td><td>0</td><td>0</td><td>0</td><td>0</td><td>&quot;CPU&quot;</td><td>&quot;50/50 poisson&quot;</td><td>1679616</td><td>7.3188e6</td></tr><tr><td>0</td><td>228.172424</td><td>0.228172</td><td>4.382651</td><td>2.28172416e8</td><td>0</td><td>0</td><td>0</td><td>0</td><td>0</td><td>0</td><td>0</td><td>0</td><td>0</td><td>0</td><td>0</td><td>0</td><td>0</td><td>0</td><td>0</td><td>0</td><td>&quot;CPU&quot;</td><td>&quot;50/50 poisson&quot;</td><td>1679616</td><td>7.3612e6</td></tr><tr><td>0</td><td>235.708771</td><td>0.235709</td><td>4.242524</td><td>2.35708768e8</td><td>0</td><td>0</td><td>0</td><td>0</td><td>0</td><td>0</td><td>0</td><td>0</td><td>0</td><td>0</td><td>0</td><td>0</td><td>0</td><td>0</td><td>0</td><td>0</td><td>&quot;CPU&quot;</td><td>&quot;50/50 poisson&quot;</td><td>1679616</td><td>7.1258e6</td></tr><tr><td>0</td><td>247.554077</td><td>0.247554</td><td>4.039521</td><td>2.4755408e8</td><td>0</td><td>0</td><td>0</td><td>0</td><td>0</td><td>0</td><td>0</td><td>0</td><td>0</td><td>0</td><td>0</td><td>0</td><td>0</td><td>0</td><td>0</td><td>0</td><td>&quot;CPU&quot;</td><td>&quot;50/50 poisson&quot;</td><td>1679616</td><td>6.7848e6</td></tr><tr><td>&hellip;</td><td>&hellip;</td><td>&hellip;</td><td>&hellip;</td><td>&hellip;</td><td>&hellip;</td><td>&hellip;</td><td>&hellip;</td><td>&hellip;</td><td>&hellip;</td><td>&hellip;</td><td>&hellip;</td><td>&hellip;</td><td>&hellip;</td><td>&hellip;</td><td>&hellip;</td><td>&hellip;</td><td>&hellip;</td><td>&hellip;</td><td>&hellip;</td><td>&hellip;</td><td>&hellip;</td><td>&hellip;</td><td>&hellip;</td><td>&hellip;</td></tr><tr><td>0</td><td>212.446671</td><td>0.212447</td><td>4.707064</td><td>2.12446672e8</td><td>0</td><td>0</td><td>0</td><td>0</td><td>0</td><td>0</td><td>0</td><td>0</td><td>0</td><td>0</td><td>0</td><td>0</td><td>0</td><td>0</td><td>0</td><td>0</td><td>&quot;CPU&quot;</td><td>&quot;de novo poisson&quot;</td><td>1679616</td><td>7.9061e6</td></tr><tr><td>0</td><td>220.222626</td><td>0.220223</td><td>4.540859</td><td>2.2022264e8</td><td>0</td><td>0</td><td>0</td><td>0</td><td>0</td><td>0</td><td>0</td><td>0</td><td>0</td><td>0</td><td>0</td><td>0</td><td>0</td><td>0</td><td>0</td><td>0</td><td>&quot;CPU&quot;</td><td>&quot;de novo poisson&quot;</td><td>1679616</td><td>7.6269e6</td></tr><tr><td>0</td><td>240.948883</td><td>0.240949</td><td>4.150258</td><td>2.4094888e8</td><td>0</td><td>0</td><td>0</td><td>0</td><td>0</td><td>0</td><td>0</td><td>0</td><td>0</td><td>0</td><td>0</td><td>0</td><td>0</td><td>0</td><td>0</td><td>0</td><td>&quot;CPU&quot;</td><td>&quot;de novo poisson&quot;</td><td>1679616</td><td>6.9708e6</td></tr><tr><td>0</td><td>241.049347</td><td>0.241049</td><td>4.148528</td><td>2.41049344e8</td><td>0</td><td>0</td><td>0</td><td>0</td><td>0</td><td>0</td><td>0</td><td>0</td><td>0</td><td>0</td><td>0</td><td>0</td><td>0</td><td>0</td><td>0</td><td>0</td><td>&quot;CPU&quot;</td><td>&quot;de novo poisson&quot;</td><td>1679616</td><td>6.9679e6</td></tr><tr><td>0</td><td>270.273621</td><td>0.270274</td><td>3.699954</td><td>2.70273632e8</td><td>0</td><td>0</td><td>0</td><td>0</td><td>0</td><td>0</td><td>0</td><td>0</td><td>0</td><td>0</td><td>0</td><td>0</td><td>0</td><td>0</td><td>0</td><td>0</td><td>&quot;CPU&quot;</td><td>&quot;de novo poisson&quot;</td><td>1679616</td><td>6.2145e6</td></tr></tbody></table></div>"
      ],
      "text/plain": [
       "shape: (20, 25)\n",
       "┌───────────┬───────────┬───────────┬───────────┬───┬──────────┬───────────┬───────────┬───────────┐\n",
       "│ tsc ticks ┆ tsc       ┆ tsc       ┆ tsc cycle ┆ … ┆ hardware ┆ experimen ┆ net popul ┆ throughpu │\n",
       "│ ---       ┆ seconds   ┆ seconds   ┆ hertz     ┆   ┆ ---      ┆ t design  ┆ ation     ┆ t (agent- │\n",
       "│ u64       ┆ ---       ┆ per cycle ┆ ---       ┆   ┆ str      ┆ ---       ┆ size      ┆ generatio │\n",
       "│           ┆ f32       ┆ ---       ┆ f32       ┆   ┆          ┆ str       ┆ ---       ┆ ns/…      │\n",
       "│           ┆           ┆ f32       ┆           ┆   ┆          ┆           ┆ i32       ┆ ---       │\n",
       "│           ┆           ┆           ┆           ┆   ┆          ┆           ┆           ┆ f64       │\n",
       "╞═══════════╪═══════════╪═══════════╪═══════════╪═══╪══════════╪═══════════╪═══════════╪═══════════╡\n",
       "│ 0         ┆ 209.57939 ┆ 0.209579  ┆ 4.771461  ┆ … ┆ CPU      ┆ 50/50     ┆ 1679616   ┆ 8.0142e6  │\n",
       "│           ┆ 1         ┆           ┆           ┆   ┆          ┆ poisson   ┆           ┆           │\n",
       "│ 0         ┆ 229.49273 ┆ 0.229493  ┆ 4.357437  ┆ … ┆ CPU      ┆ 50/50     ┆ 1679616   ┆ 7.3188e6  │\n",
       "│           ┆ 7         ┆           ┆           ┆   ┆          ┆ poisson   ┆           ┆           │\n",
       "│ 0         ┆ 228.17242 ┆ 0.228172  ┆ 4.382651  ┆ … ┆ CPU      ┆ 50/50     ┆ 1679616   ┆ 7.3612e6  │\n",
       "│           ┆ 4         ┆           ┆           ┆   ┆          ┆ poisson   ┆           ┆           │\n",
       "│ 0         ┆ 235.70877 ┆ 0.235709  ┆ 4.242524  ┆ … ┆ CPU      ┆ 50/50     ┆ 1679616   ┆ 7.1258e6  │\n",
       "│           ┆ 1         ┆           ┆           ┆   ┆          ┆ poisson   ┆           ┆           │\n",
       "│ 0         ┆ 247.55407 ┆ 0.247554  ┆ 4.039521  ┆ … ┆ CPU      ┆ 50/50     ┆ 1679616   ┆ 6.7848e6  │\n",
       "│           ┆ 7         ┆           ┆           ┆   ┆          ┆ poisson   ┆           ┆           │\n",
       "│ …         ┆ …         ┆ …         ┆ …         ┆ … ┆ …        ┆ …         ┆ …         ┆ …         │\n",
       "│ 0         ┆ 212.44667 ┆ 0.212447  ┆ 4.707064  ┆ … ┆ CPU      ┆ de novo   ┆ 1679616   ┆ 7.9061e6  │\n",
       "│           ┆ 1         ┆           ┆           ┆   ┆          ┆ poisson   ┆           ┆           │\n",
       "│ 0         ┆ 220.22262 ┆ 0.220223  ┆ 4.540859  ┆ … ┆ CPU      ┆ de novo   ┆ 1679616   ┆ 7.6269e6  │\n",
       "│           ┆ 6         ┆           ┆           ┆   ┆          ┆ poisson   ┆           ┆           │\n",
       "│ 0         ┆ 240.94888 ┆ 0.240949  ┆ 4.150258  ┆ … ┆ CPU      ┆ de novo   ┆ 1679616   ┆ 6.9708e6  │\n",
       "│           ┆ 3         ┆           ┆           ┆   ┆          ┆ poisson   ┆           ┆           │\n",
       "│ 0         ┆ 241.04934 ┆ 0.241049  ┆ 4.148528  ┆ … ┆ CPU      ┆ de novo   ┆ 1679616   ┆ 6.9679e6  │\n",
       "│           ┆ 7         ┆           ┆           ┆   ┆          ┆ poisson   ┆           ┆           │\n",
       "│ 0         ┆ 270.27362 ┆ 0.270274  ┆ 3.699954  ┆ … ┆ CPU      ┆ de novo   ┆ 1679616   ┆ 6.2145e6  │\n",
       "│           ┆ 1         ┆           ┆           ┆   ┆          ┆ poisson   ┆           ┆           │\n",
       "└───────────┴───────────┴───────────┴───────────┴───┴──────────┴───────────┴───────────┴───────────┘"
      ]
     },
     "metadata": {},
     "output_type": "display_data"
    },
    {
     "data": {
      "text/html": [
       "<div><style>\n",
       ".dataframe > thead > tr,\n",
       ".dataframe > tbody > tr {\n",
       "  text-align: right;\n",
       "  white-space: pre-wrap;\n",
       "}\n",
       "</style>\n",
       "<small>shape: (9, 26)</small><table border=\"1\" class=\"dataframe\"><thead><tr><th>statistic</th><th>tsc ticks</th><th>tsc seconds</th><th>tsc seconds per cycle</th><th>tsc cycle hertz</th><th>tsc ns per cycle</th><th>recv sum</th><th>send sum</th><th>cycle count</th><th>tsc start</th><th>tsc end</th><th>send N</th><th>send S</th><th>send E</th><th>send W</th><th>recv N</th><th>recv S</th><th>recv E</th><th>recv W</th><th>tile</th><th>row</th><th>col</th><th>hardware</th><th>experiment design</th><th>net population size</th><th>throughput (agent-generations/sec)</th></tr><tr><td>str</td><td>f64</td><td>f64</td><td>f64</td><td>f64</td><td>f64</td><td>f64</td><td>f64</td><td>f64</td><td>f64</td><td>f64</td><td>f64</td><td>f64</td><td>f64</td><td>f64</td><td>f64</td><td>f64</td><td>f64</td><td>f64</td><td>f64</td><td>f64</td><td>f64</td><td>str</td><td>str</td><td>f64</td><td>f64</td></tr></thead><tbody><tr><td>&quot;count&quot;</td><td>20.0</td><td>20.0</td><td>20.0</td><td>20.0</td><td>20.0</td><td>20.0</td><td>20.0</td><td>20.0</td><td>20.0</td><td>20.0</td><td>20.0</td><td>20.0</td><td>20.0</td><td>20.0</td><td>20.0</td><td>20.0</td><td>20.0</td><td>20.0</td><td>20.0</td><td>20.0</td><td>20.0</td><td>&quot;20&quot;</td><td>&quot;20&quot;</td><td>20.0</td><td>20.0</td></tr><tr><td>&quot;null_count&quot;</td><td>0.0</td><td>0.0</td><td>0.0</td><td>0.0</td><td>0.0</td><td>0.0</td><td>0.0</td><td>0.0</td><td>0.0</td><td>0.0</td><td>0.0</td><td>0.0</td><td>0.0</td><td>0.0</td><td>0.0</td><td>0.0</td><td>0.0</td><td>0.0</td><td>0.0</td><td>0.0</td><td>0.0</td><td>&quot;0&quot;</td><td>&quot;0&quot;</td><td>0.0</td><td>0.0</td></tr><tr><td>&quot;mean&quot;</td><td>0.0</td><td>235.323624</td><td>0.235324</td><td>4.269971</td><td>2.35323616e8</td><td>0.0</td><td>0.0</td><td>0.0</td><td>0.0</td><td>0.0</td><td>0.0</td><td>0.0</td><td>0.0</td><td>0.0</td><td>0.0</td><td>0.0</td><td>0.0</td><td>0.0</td><td>0.0</td><td>0.0</td><td>0.0</td><td>null</td><td>null</td><td>1.679616e6</td><td>7.1719e6</td></tr><tr><td>&quot;std&quot;</td><td>0.0</td><td>16.729038</td><td>0.016729</td><td>0.304561</td><td>1.6729037e7</td><td>0.0</td><td>0.0</td><td>0.0</td><td>0.0</td><td>0.0</td><td>0.0</td><td>0.0</td><td>0.0</td><td>0.0</td><td>0.0</td><td>0.0</td><td>0.0</td><td>0.0</td><td>0.0</td><td>0.0</td><td>0.0</td><td>null</td><td>null</td><td>0.0</td><td>511544.660551</td></tr><tr><td>&quot;min&quot;</td><td>0.0</td><td>207.383804</td><td>0.207384</td><td>3.699954</td><td>2.07383808e8</td><td>0.0</td><td>0.0</td><td>0.0</td><td>0.0</td><td>0.0</td><td>0.0</td><td>0.0</td><td>0.0</td><td>0.0</td><td>0.0</td><td>0.0</td><td>0.0</td><td>0.0</td><td>0.0</td><td>0.0</td><td>0.0</td><td>&quot;CPU&quot;</td><td>&quot;50/50 poisson&quot;</td><td>1.679616e6</td><td>6.2145e6</td></tr><tr><td>&quot;25%&quot;</td><td>0.0</td><td>226.40416</td><td>0.226404</td><td>4.039521</td><td>2.2640416e8</td><td>0.0</td><td>0.0</td><td>0.0</td><td>0.0</td><td>0.0</td><td>0.0</td><td>0.0</td><td>0.0</td><td>0.0</td><td>0.0</td><td>0.0</td><td>0.0</td><td>0.0</td><td>0.0</td><td>0.0</td><td>0.0</td><td>null</td><td>null</td><td>1.679616e6</td><td>6.7848e6</td></tr><tr><td>&quot;50%&quot;</td><td>0.0</td><td>236.85994</td><td>0.23686</td><td>4.242524</td><td>2.36859936e8</td><td>0.0</td><td>0.0</td><td>0.0</td><td>0.0</td><td>0.0</td><td>0.0</td><td>0.0</td><td>0.0</td><td>0.0</td><td>0.0</td><td>0.0</td><td>0.0</td><td>0.0</td><td>0.0</td><td>0.0</td><td>0.0</td><td>null</td><td>null</td><td>1.679616e6</td><td>7.1258e6</td></tr><tr><td>&quot;75%&quot;</td><td>0.0</td><td>247.554077</td><td>0.247554</td><td>4.41688</td><td>2.4755408e8</td><td>0.0</td><td>0.0</td><td>0.0</td><td>0.0</td><td>0.0</td><td>0.0</td><td>0.0</td><td>0.0</td><td>0.0</td><td>0.0</td><td>0.0</td><td>0.0</td><td>0.0</td><td>0.0</td><td>0.0</td><td>0.0</td><td>null</td><td>null</td><td>1.679616e6</td><td>7.4187e6</td></tr><tr><td>&quot;max&quot;</td><td>0.0</td><td>270.273621</td><td>0.270274</td><td>4.821977</td><td>2.70273632e8</td><td>0.0</td><td>0.0</td><td>0.0</td><td>0.0</td><td>0.0</td><td>0.0</td><td>0.0</td><td>0.0</td><td>0.0</td><td>0.0</td><td>0.0</td><td>0.0</td><td>0.0</td><td>0.0</td><td>0.0</td><td>0.0</td><td>&quot;CPU&quot;</td><td>&quot;de novo poisson&quot;</td><td>1.679616e6</td><td>8.0991e6</td></tr></tbody></table></div>"
      ],
      "text/plain": [
       "shape: (9, 26)\n",
       "┌───────────┬───────────┬───────────┬───────────┬───┬──────────┬───────────┬───────────┬───────────┐\n",
       "│ statistic ┆ tsc ticks ┆ tsc       ┆ tsc       ┆ … ┆ hardware ┆ experimen ┆ net popul ┆ throughpu │\n",
       "│ ---       ┆ ---       ┆ seconds   ┆ seconds   ┆   ┆ ---      ┆ t design  ┆ ation     ┆ t (agent- │\n",
       "│ str       ┆ f64       ┆ ---       ┆ per cycle ┆   ┆ str      ┆ ---       ┆ size      ┆ generatio │\n",
       "│           ┆           ┆ f64       ┆ ---       ┆   ┆          ┆ str       ┆ ---       ┆ ns/…      │\n",
       "│           ┆           ┆           ┆ f64       ┆   ┆          ┆           ┆ f64       ┆ ---       │\n",
       "│           ┆           ┆           ┆           ┆   ┆          ┆           ┆           ┆ f64       │\n",
       "╞═══════════╪═══════════╪═══════════╪═══════════╪═══╪══════════╪═══════════╪═══════════╪═══════════╡\n",
       "│ count     ┆ 20.0      ┆ 20.0      ┆ 20.0      ┆ … ┆ 20       ┆ 20        ┆ 20.0      ┆ 20.0      │\n",
       "│ null_coun ┆ 0.0       ┆ 0.0       ┆ 0.0       ┆ … ┆ 0        ┆ 0         ┆ 0.0       ┆ 0.0       │\n",
       "│ t         ┆           ┆           ┆           ┆   ┆          ┆           ┆           ┆           │\n",
       "│ mean      ┆ 0.0       ┆ 235.32362 ┆ 0.235324  ┆ … ┆ null     ┆ null      ┆ 1.679616e ┆ 7.1719e6  │\n",
       "│           ┆           ┆ 4         ┆           ┆   ┆          ┆           ┆ 6         ┆           │\n",
       "│ std       ┆ 0.0       ┆ 16.729038 ┆ 0.016729  ┆ … ┆ null     ┆ null      ┆ 0.0       ┆ 511544.66 │\n",
       "│           ┆           ┆           ┆           ┆   ┆          ┆           ┆           ┆ 0551      │\n",
       "│ min       ┆ 0.0       ┆ 207.38380 ┆ 0.207384  ┆ … ┆ CPU      ┆ 50/50     ┆ 1.679616e ┆ 6.2145e6  │\n",
       "│           ┆           ┆ 4         ┆           ┆   ┆          ┆ poisson   ┆ 6         ┆           │\n",
       "│ 25%       ┆ 0.0       ┆ 226.40416 ┆ 0.226404  ┆ … ┆ null     ┆ null      ┆ 1.679616e ┆ 6.7848e6  │\n",
       "│           ┆           ┆           ┆           ┆   ┆          ┆           ┆ 6         ┆           │\n",
       "│ 50%       ┆ 0.0       ┆ 236.85994 ┆ 0.23686   ┆ … ┆ null     ┆ null      ┆ 1.679616e ┆ 7.1258e6  │\n",
       "│           ┆           ┆           ┆           ┆   ┆          ┆           ┆ 6         ┆           │\n",
       "│ 75%       ┆ 0.0       ┆ 247.55407 ┆ 0.247554  ┆ … ┆ null     ┆ null      ┆ 1.679616e ┆ 7.4187e6  │\n",
       "│           ┆           ┆ 7         ┆           ┆   ┆          ┆           ┆ 6         ┆           │\n",
       "│ max       ┆ 0.0       ┆ 270.27362 ┆ 0.270274  ┆ … ┆ CPU      ┆ de novo   ┆ 1.679616e ┆ 8.0991e6  │\n",
       "│           ┆           ┆ 1         ┆           ┆   ┆          ┆ poisson   ┆ 6         ┆           │\n",
       "└───────────┴───────────┴───────────┴───────────┴───┴──────────┴───────────┴───────────┴───────────┘"
      ]
     },
     "metadata": {},
     "output_type": "display_data"
    }
   ],
   "source": [
    "cpu_perf = (\n",
    "    pl.concat(\n",
    "        [\n",
    "            pl.read_parquet(\n",
    "                \"https://osf.io/z65g3/download\",\n",
    "                use_pyarrow=True,\n",
    "            ).with_columns(\n",
    "                pl.lit(\"CPU\").alias(\"hardware\"),\n",
    "                pl.lit(\"50/50 poisson\").alias(\"experiment design\"),\n",
    "                pl.lit(256 * 81 * 81).alias(\"net population size\"),\n",
    "            ),\n",
    "            pl.read_parquet(\n",
    "                \"https://osf.io/tcv9q/download\",\n",
    "                use_pyarrow=True,\n",
    "            ).with_columns(\n",
    "                pl.lit(\"CPU\").alias(\"hardware\"),\n",
    "                pl.lit(\"de novo poisson\").alias(\"experiment design\"),\n",
    "                pl.lit(256 * 81 * 81).alias(\"net population size\"),\n",
    "            ),\n",
    "        ],\n",
    "    )\n",
    "    .filter(pl.col(\"tile\") == 0)\n",
    "    .with_columns(\n",
    "        (\n",
    "            pl.col(\"net population size\") / pl.col(\"tsc seconds per cycle\")\n",
    "        ).alias(\"throughput (agent-generations/sec)\"),\n",
    "    )\n",
    ")\n",
    "display(cpu_perf)\n",
    "display(cpu_perf.describe())\n"
   ]
  },
  {
   "cell_type": "code",
   "execution_count": 5,
   "metadata": {
    "execution": {
     "iopub.execute_input": "2024-11-02T14:43:16.845843Z",
     "iopub.status.busy": "2024-11-02T14:43:16.845399Z",
     "iopub.status.idle": "2024-11-02T14:43:20.339818Z",
     "shell.execute_reply": "2024-11-02T14:43:20.339171Z"
    }
   },
   "outputs": [
    {
     "data": {
      "text/html": [
       "<div><style>\n",
       ".dataframe > thead > tr,\n",
       ".dataframe > tbody > tr {\n",
       "  text-align: right;\n",
       "  white-space: pre-wrap;\n",
       "}\n",
       "</style>\n",
       "<small>shape: (90, 25)</small><table border=\"1\" class=\"dataframe\"><thead><tr><th>tsc ticks</th><th>tsc seconds</th><th>tsc seconds per cycle</th><th>tsc cycle hertz</th><th>tsc ns per cycle</th><th>recv sum</th><th>send sum</th><th>cycle count</th><th>tsc start</th><th>tsc end</th><th>send N</th><th>send S</th><th>send E</th><th>send W</th><th>recv N</th><th>recv S</th><th>recv E</th><th>recv W</th><th>tile</th><th>row</th><th>col</th><th>hardware</th><th>experiment design</th><th>net population size</th><th>throughput (agent-generations/sec)</th></tr><tr><td>u64</td><td>f32</td><td>f32</td><td>f32</td><td>f32</td><td>u32</td><td>u32</td><td>u32</td><td>u64</td><td>u64</td><td>u32</td><td>u32</td><td>u32</td><td>u32</td><td>u32</td><td>u32</td><td>u32</td><td>u32</td><td>u32</td><td>u16</td><td>u16</td><td>str</td><td>str</td><td>i32</td><td>f64</td></tr></thead><tbody><tr><td>0</td><td>2612.250244</td><td>0.005225</td><td>191.405853</td><td>5224500.5</td><td>0</td><td>0</td><td>0</td><td>0</td><td>0</td><td>0</td><td>0</td><td>0</td><td>0</td><td>0</td><td>0</td><td>0</td><td>0</td><td>0</td><td>0</td><td>0</td><td>&quot;GPU&quot;</td><td>&quot;50/50 poisson&quot;</td><td>15116544</td><td>2.8934e9</td></tr><tr><td>0</td><td>2717.378662</td><td>0.005435</td><td>184.000854</td><td>5434757.5</td><td>0</td><td>0</td><td>0</td><td>0</td><td>0</td><td>0</td><td>0</td><td>0</td><td>0</td><td>0</td><td>0</td><td>0</td><td>0</td><td>0</td><td>0</td><td>0</td><td>&quot;GPU&quot;</td><td>&quot;50/50 poisson&quot;</td><td>15116544</td><td>2.7815e9</td></tr><tr><td>0</td><td>2719.092773</td><td>0.005438</td><td>183.884872</td><td>5438185.5</td><td>0</td><td>0</td><td>0</td><td>0</td><td>0</td><td>0</td><td>0</td><td>0</td><td>0</td><td>0</td><td>0</td><td>0</td><td>0</td><td>0</td><td>0</td><td>0</td><td>&quot;GPU&quot;</td><td>&quot;50/50 poisson&quot;</td><td>15116544</td><td>2.7797e9</td></tr><tr><td>0</td><td>2721.032471</td><td>0.005442</td><td>183.753784</td><td>5.442065e6</td><td>0</td><td>0</td><td>0</td><td>0</td><td>0</td><td>0</td><td>0</td><td>0</td><td>0</td><td>0</td><td>0</td><td>0</td><td>0</td><td>0</td><td>0</td><td>0</td><td>&quot;GPU&quot;</td><td>&quot;50/50 poisson&quot;</td><td>15116544</td><td>2.7777e9</td></tr><tr><td>0</td><td>2610.844727</td><td>0.005222</td><td>191.508911</td><td>5221689.5</td><td>0</td><td>0</td><td>0</td><td>0</td><td>0</td><td>0</td><td>0</td><td>0</td><td>0</td><td>0</td><td>0</td><td>0</td><td>0</td><td>0</td><td>0</td><td>0</td><td>&quot;GPU&quot;</td><td>&quot;50/50 poisson&quot;</td><td>15116544</td><td>2.8950e9</td></tr><tr><td>&hellip;</td><td>&hellip;</td><td>&hellip;</td><td>&hellip;</td><td>&hellip;</td><td>&hellip;</td><td>&hellip;</td><td>&hellip;</td><td>&hellip;</td><td>&hellip;</td><td>&hellip;</td><td>&hellip;</td><td>&hellip;</td><td>&hellip;</td><td>&hellip;</td><td>&hellip;</td><td>&hellip;</td><td>&hellip;</td><td>&hellip;</td><td>&hellip;</td><td>&hellip;</td><td>&hellip;</td><td>&hellip;</td><td>&hellip;</td><td>&hellip;</td></tr><tr><td>0</td><td>2827.758789</td><td>0.005656</td><td>176.818466</td><td>5.655518e6</td><td>0</td><td>0</td><td>0</td><td>0</td><td>0</td><td>0</td><td>0</td><td>0</td><td>0</td><td>0</td><td>0</td><td>0</td><td>0</td><td>0</td><td>0</td><td>0</td><td>&quot;GPU&quot;</td><td>&quot;de novo poisson&quot;</td><td>15116544</td><td>2.6729e9</td></tr><tr><td>0</td><td>2833.894287</td><td>0.005668</td><td>176.435669</td><td>5667788.5</td><td>0</td><td>0</td><td>0</td><td>0</td><td>0</td><td>0</td><td>0</td><td>0</td><td>0</td><td>0</td><td>0</td><td>0</td><td>0</td><td>0</td><td>0</td><td>0</td><td>&quot;GPU&quot;</td><td>&quot;de novo poisson&quot;</td><td>15116544</td><td>2.6671e9</td></tr><tr><td>0</td><td>2822.179199</td><td>0.005644</td><td>177.168045</td><td>5644358.5</td><td>0</td><td>0</td><td>0</td><td>0</td><td>0</td><td>0</td><td>0</td><td>0</td><td>0</td><td>0</td><td>0</td><td>0</td><td>0</td><td>0</td><td>0</td><td>0</td><td>&quot;GPU&quot;</td><td>&quot;de novo poisson&quot;</td><td>15116544</td><td>2.6782e9</td></tr><tr><td>0</td><td>2822.637939</td><td>0.005645</td><td>177.139267</td><td>5.645276e6</td><td>0</td><td>0</td><td>0</td><td>0</td><td>0</td><td>0</td><td>0</td><td>0</td><td>0</td><td>0</td><td>0</td><td>0</td><td>0</td><td>0</td><td>0</td><td>0</td><td>&quot;GPU&quot;</td><td>&quot;de novo poisson&quot;</td><td>15116544</td><td>2.6777e9</td></tr><tr><td>0</td><td>2848.984863</td><td>0.005698</td><td>175.501114</td><td>5697969.5</td><td>0</td><td>0</td><td>0</td><td>0</td><td>0</td><td>0</td><td>0</td><td>0</td><td>0</td><td>0</td><td>0</td><td>0</td><td>0</td><td>0</td><td>0</td><td>0</td><td>&quot;GPU&quot;</td><td>&quot;de novo poisson&quot;</td><td>15116544</td><td>2.6530e9</td></tr></tbody></table></div>"
      ],
      "text/plain": [
       "shape: (90, 25)\n",
       "┌───────────┬───────────┬───────────┬───────────┬───┬──────────┬───────────┬───────────┬───────────┐\n",
       "│ tsc ticks ┆ tsc       ┆ tsc       ┆ tsc cycle ┆ … ┆ hardware ┆ experimen ┆ net popul ┆ throughpu │\n",
       "│ ---       ┆ seconds   ┆ seconds   ┆ hertz     ┆   ┆ ---      ┆ t design  ┆ ation     ┆ t (agent- │\n",
       "│ u64       ┆ ---       ┆ per cycle ┆ ---       ┆   ┆ str      ┆ ---       ┆ size      ┆ generatio │\n",
       "│           ┆ f32       ┆ ---       ┆ f32       ┆   ┆          ┆ str       ┆ ---       ┆ ns/…      │\n",
       "│           ┆           ┆ f32       ┆           ┆   ┆          ┆           ┆ i32       ┆ ---       │\n",
       "│           ┆           ┆           ┆           ┆   ┆          ┆           ┆           ┆ f64       │\n",
       "╞═══════════╪═══════════╪═══════════╪═══════════╪═══╪══════════╪═══════════╪═══════════╪═══════════╡\n",
       "│ 0         ┆ 2612.2502 ┆ 0.005225  ┆ 191.40585 ┆ … ┆ GPU      ┆ 50/50     ┆ 15116544  ┆ 2.8934e9  │\n",
       "│           ┆ 44        ┆           ┆ 3         ┆   ┆          ┆ poisson   ┆           ┆           │\n",
       "│ 0         ┆ 2717.3786 ┆ 0.005435  ┆ 184.00085 ┆ … ┆ GPU      ┆ 50/50     ┆ 15116544  ┆ 2.7815e9  │\n",
       "│           ┆ 62        ┆           ┆ 4         ┆   ┆          ┆ poisson   ┆           ┆           │\n",
       "│ 0         ┆ 2719.0927 ┆ 0.005438  ┆ 183.88487 ┆ … ┆ GPU      ┆ 50/50     ┆ 15116544  ┆ 2.7797e9  │\n",
       "│           ┆ 73        ┆           ┆ 2         ┆   ┆          ┆ poisson   ┆           ┆           │\n",
       "│ 0         ┆ 2721.0324 ┆ 0.005442  ┆ 183.75378 ┆ … ┆ GPU      ┆ 50/50     ┆ 15116544  ┆ 2.7777e9  │\n",
       "│           ┆ 71        ┆           ┆ 4         ┆   ┆          ┆ poisson   ┆           ┆           │\n",
       "│ 0         ┆ 2610.8447 ┆ 0.005222  ┆ 191.50891 ┆ … ┆ GPU      ┆ 50/50     ┆ 15116544  ┆ 2.8950e9  │\n",
       "│           ┆ 27        ┆           ┆ 1         ┆   ┆          ┆ poisson   ┆           ┆           │\n",
       "│ …         ┆ …         ┆ …         ┆ …         ┆ … ┆ …        ┆ …         ┆ …         ┆ …         │\n",
       "│ 0         ┆ 2827.7587 ┆ 0.005656  ┆ 176.81846 ┆ … ┆ GPU      ┆ de novo   ┆ 15116544  ┆ 2.6729e9  │\n",
       "│           ┆ 89        ┆           ┆ 6         ┆   ┆          ┆ poisson   ┆           ┆           │\n",
       "│ 0         ┆ 2833.8942 ┆ 0.005668  ┆ 176.43566 ┆ … ┆ GPU      ┆ de novo   ┆ 15116544  ┆ 2.6671e9  │\n",
       "│           ┆ 87        ┆           ┆ 9         ┆   ┆          ┆ poisson   ┆           ┆           │\n",
       "│ 0         ┆ 2822.1791 ┆ 0.005644  ┆ 177.16804 ┆ … ┆ GPU      ┆ de novo   ┆ 15116544  ┆ 2.6782e9  │\n",
       "│           ┆ 99        ┆           ┆ 5         ┆   ┆          ┆ poisson   ┆           ┆           │\n",
       "│ 0         ┆ 2822.6379 ┆ 0.005645  ┆ 177.13926 ┆ … ┆ GPU      ┆ de novo   ┆ 15116544  ┆ 2.6777e9  │\n",
       "│           ┆ 39        ┆           ┆ 7         ┆   ┆          ┆ poisson   ┆           ┆           │\n",
       "│ 0         ┆ 2848.9848 ┆ 0.005698  ┆ 175.50111 ┆ … ┆ GPU      ┆ de novo   ┆ 15116544  ┆ 2.6530e9  │\n",
       "│           ┆ 63        ┆           ┆ 4         ┆   ┆          ┆ poisson   ┆           ┆           │\n",
       "└───────────┴───────────┴───────────┴───────────┴───┴──────────┴───────────┴───────────┴───────────┘"
      ]
     },
     "metadata": {},
     "output_type": "display_data"
    },
    {
     "data": {
      "text/html": [
       "<div><style>\n",
       ".dataframe > thead > tr,\n",
       ".dataframe > tbody > tr {\n",
       "  text-align: right;\n",
       "  white-space: pre-wrap;\n",
       "}\n",
       "</style>\n",
       "<small>shape: (9, 26)</small><table border=\"1\" class=\"dataframe\"><thead><tr><th>statistic</th><th>tsc ticks</th><th>tsc seconds</th><th>tsc seconds per cycle</th><th>tsc cycle hertz</th><th>tsc ns per cycle</th><th>recv sum</th><th>send sum</th><th>cycle count</th><th>tsc start</th><th>tsc end</th><th>send N</th><th>send S</th><th>send E</th><th>send W</th><th>recv N</th><th>recv S</th><th>recv E</th><th>recv W</th><th>tile</th><th>row</th><th>col</th><th>hardware</th><th>experiment design</th><th>net population size</th><th>throughput (agent-generations/sec)</th></tr><tr><td>str</td><td>f64</td><td>f64</td><td>f64</td><td>f64</td><td>f64</td><td>f64</td><td>f64</td><td>f64</td><td>f64</td><td>f64</td><td>f64</td><td>f64</td><td>f64</td><td>f64</td><td>f64</td><td>f64</td><td>f64</td><td>f64</td><td>f64</td><td>f64</td><td>f64</td><td>str</td><td>str</td><td>f64</td><td>f64</td></tr></thead><tbody><tr><td>&quot;count&quot;</td><td>90.0</td><td>90.0</td><td>90.0</td><td>90.0</td><td>90.0</td><td>90.0</td><td>90.0</td><td>90.0</td><td>90.0</td><td>90.0</td><td>90.0</td><td>90.0</td><td>90.0</td><td>90.0</td><td>90.0</td><td>90.0</td><td>90.0</td><td>90.0</td><td>90.0</td><td>90.0</td><td>90.0</td><td>&quot;90&quot;</td><td>&quot;90&quot;</td><td>90.0</td><td>90.0</td></tr><tr><td>&quot;null_count&quot;</td><td>0.0</td><td>0.0</td><td>0.0</td><td>0.0</td><td>0.0</td><td>0.0</td><td>0.0</td><td>0.0</td><td>0.0</td><td>0.0</td><td>0.0</td><td>0.0</td><td>0.0</td><td>0.0</td><td>0.0</td><td>0.0</td><td>0.0</td><td>0.0</td><td>0.0</td><td>0.0</td><td>0.0</td><td>&quot;0&quot;</td><td>&quot;0&quot;</td><td>0.0</td><td>0.0</td></tr><tr><td>&quot;mean&quot;</td><td>0.0</td><td>2759.198242</td><td>0.005518</td><td>181.469513</td><td>5518396.5</td><td>0.0</td><td>0.0</td><td>0.0</td><td>0.0</td><td>0.0</td><td>0.0</td><td>0.0</td><td>0.0</td><td>0.0</td><td>0.0</td><td>0.0</td><td>0.0</td><td>0.0</td><td>0.0</td><td>0.0</td><td>0.0</td><td>null</td><td>null</td><td>1.5116544e7</td><td>2.7432e9</td></tr><tr><td>&quot;std&quot;</td><td>0.0</td><td>103.762825</td><td>0.000208</td><td>6.924452</td><td>207525.640625</td><td>0.0</td><td>0.0</td><td>0.0</td><td>0.0</td><td>0.0</td><td>0.0</td><td>0.0</td><td>0.0</td><td>0.0</td><td>0.0</td><td>0.0</td><td>0.0</td><td>0.0</td><td>0.0</td><td>0.0</td><td>0.0</td><td>null</td><td>null</td><td>0.0</td><td>1.0467e8</td></tr><tr><td>&quot;min&quot;</td><td>0.0</td><td>2610.844727</td><td>0.005222</td><td>170.905243</td><td>5221689.5</td><td>0.0</td><td>0.0</td><td>0.0</td><td>0.0</td><td>0.0</td><td>0.0</td><td>0.0</td><td>0.0</td><td>0.0</td><td>0.0</td><td>0.0</td><td>0.0</td><td>0.0</td><td>0.0</td><td>0.0</td><td>0.0</td><td>&quot;GPU&quot;</td><td>&quot;50/50 poisson&quot;</td><td>1.5116544e7</td><td>2.5835e9</td></tr><tr><td>&quot;25%&quot;</td><td>0.0</td><td>2626.729492</td><td>0.005253</td><td>176.605942</td><td>5.253459e6</td><td>0.0</td><td>0.0</td><td>0.0</td><td>0.0</td><td>0.0</td><td>0.0</td><td>0.0</td><td>0.0</td><td>0.0</td><td>0.0</td><td>0.0</td><td>0.0</td><td>0.0</td><td>0.0</td><td>0.0</td><td>0.0</td><td>null</td><td>null</td><td>1.5116544e7</td><td>2.6697e9</td></tr><tr><td>&quot;50%&quot;</td><td>0.0</td><td>2823.922119</td><td>0.005648</td><td>177.073914</td><td>5.647844e6</td><td>0.0</td><td>0.0</td><td>0.0</td><td>0.0</td><td>0.0</td><td>0.0</td><td>0.0</td><td>0.0</td><td>0.0</td><td>0.0</td><td>0.0</td><td>0.0</td><td>0.0</td><td>0.0</td><td>0.0</td><td>0.0</td><td>null</td><td>null</td><td>1.5116544e7</td><td>2.6767e9</td></tr><tr><td>&quot;75%&quot;</td><td>0.0</td><td>2831.161865</td><td>0.005662</td><td>190.350769</td><td>5662323.5</td><td>0.0</td><td>0.0</td><td>0.0</td><td>0.0</td><td>0.0</td><td>0.0</td><td>0.0</td><td>0.0</td><td>0.0</td><td>0.0</td><td>0.0</td><td>0.0</td><td>0.0</td><td>0.0</td><td>0.0</td><td>0.0</td><td>null</td><td>null</td><td>1.5116544e7</td><td>2.8774e9</td></tr><tr><td>&quot;max&quot;</td><td>0.0</td><td>2925.5979</td><td>0.005851</td><td>191.508911</td><td>5851195.5</td><td>0.0</td><td>0.0</td><td>0.0</td><td>0.0</td><td>0.0</td><td>0.0</td><td>0.0</td><td>0.0</td><td>0.0</td><td>0.0</td><td>0.0</td><td>0.0</td><td>0.0</td><td>0.0</td><td>0.0</td><td>0.0</td><td>&quot;GPU&quot;</td><td>&quot;de novo poisson&quot;</td><td>1.5116544e7</td><td>2.8950e9</td></tr></tbody></table></div>"
      ],
      "text/plain": [
       "shape: (9, 26)\n",
       "┌───────────┬───────────┬───────────┬───────────┬───┬──────────┬───────────┬───────────┬───────────┐\n",
       "│ statistic ┆ tsc ticks ┆ tsc       ┆ tsc       ┆ … ┆ hardware ┆ experimen ┆ net popul ┆ throughpu │\n",
       "│ ---       ┆ ---       ┆ seconds   ┆ seconds   ┆   ┆ ---      ┆ t design  ┆ ation     ┆ t (agent- │\n",
       "│ str       ┆ f64       ┆ ---       ┆ per cycle ┆   ┆ str      ┆ ---       ┆ size      ┆ generatio │\n",
       "│           ┆           ┆ f64       ┆ ---       ┆   ┆          ┆ str       ┆ ---       ┆ ns/…      │\n",
       "│           ┆           ┆           ┆ f64       ┆   ┆          ┆           ┆ f64       ┆ ---       │\n",
       "│           ┆           ┆           ┆           ┆   ┆          ┆           ┆           ┆ f64       │\n",
       "╞═══════════╪═══════════╪═══════════╪═══════════╪═══╪══════════╪═══════════╪═══════════╪═══════════╡\n",
       "│ count     ┆ 90.0      ┆ 90.0      ┆ 90.0      ┆ … ┆ 90       ┆ 90        ┆ 90.0      ┆ 90.0      │\n",
       "│ null_coun ┆ 0.0       ┆ 0.0       ┆ 0.0       ┆ … ┆ 0        ┆ 0         ┆ 0.0       ┆ 0.0       │\n",
       "│ t         ┆           ┆           ┆           ┆   ┆          ┆           ┆           ┆           │\n",
       "│ mean      ┆ 0.0       ┆ 2759.1982 ┆ 0.005518  ┆ … ┆ null     ┆ null      ┆ 1.5116544 ┆ 2.7432e9  │\n",
       "│           ┆           ┆ 42        ┆           ┆   ┆          ┆           ┆ e7        ┆           │\n",
       "│ std       ┆ 0.0       ┆ 103.76282 ┆ 0.000208  ┆ … ┆ null     ┆ null      ┆ 0.0       ┆ 1.0467e8  │\n",
       "│           ┆           ┆ 5         ┆           ┆   ┆          ┆           ┆           ┆           │\n",
       "│ min       ┆ 0.0       ┆ 2610.8447 ┆ 0.005222  ┆ … ┆ GPU      ┆ 50/50     ┆ 1.5116544 ┆ 2.5835e9  │\n",
       "│           ┆           ┆ 27        ┆           ┆   ┆          ┆ poisson   ┆ e7        ┆           │\n",
       "│ 25%       ┆ 0.0       ┆ 2626.7294 ┆ 0.005253  ┆ … ┆ null     ┆ null      ┆ 1.5116544 ┆ 2.6697e9  │\n",
       "│           ┆           ┆ 92        ┆           ┆   ┆          ┆           ┆ e7        ┆           │\n",
       "│ 50%       ┆ 0.0       ┆ 2823.9221 ┆ 0.005648  ┆ … ┆ null     ┆ null      ┆ 1.5116544 ┆ 2.6767e9  │\n",
       "│           ┆           ┆ 19        ┆           ┆   ┆          ┆           ┆ e7        ┆           │\n",
       "│ 75%       ┆ 0.0       ┆ 2831.1618 ┆ 0.005662  ┆ … ┆ null     ┆ null      ┆ 1.5116544 ┆ 2.8774e9  │\n",
       "│           ┆           ┆ 65        ┆           ┆   ┆          ┆           ┆ e7        ┆           │\n",
       "│ max       ┆ 0.0       ┆ 2925.5979 ┆ 0.005851  ┆ … ┆ GPU      ┆ de novo   ┆ 1.5116544 ┆ 2.8950e9  │\n",
       "│           ┆           ┆           ┆           ┆   ┆          ┆ poisson   ┆ e7        ┆           │\n",
       "└───────────┴───────────┴───────────┴───────────┴───┴──────────┴───────────┴───────────┴───────────┘"
      ]
     },
     "metadata": {},
     "output_type": "display_data"
    }
   ],
   "source": [
    "cupy_perf = (\n",
    "    pl.concat(\n",
    "        [\n",
    "            pl.read_parquet(\n",
    "                \"https://osf.io/jz3eq/download\",\n",
    "                use_pyarrow=True,\n",
    "            ).with_columns(\n",
    "                pl.lit(\"GPU\").alias(\"hardware\"),\n",
    "                pl.lit(\"50/50 poisson\").alias(\"experiment design\"),\n",
    "                pl.lit(256 * 243 * 243).alias(\"net population size\"),\n",
    "            ),\n",
    "            pl.read_parquet(\n",
    "                \"https://osf.io/ya29p/download\",\n",
    "                use_pyarrow=True,\n",
    "            ).with_columns(\n",
    "                pl.lit(\"GPU\").alias(\"hardware\"),\n",
    "                pl.lit(\"de novo poisson\").alias(\"experiment design\"),\n",
    "                pl.lit(256 * 243 * 243).alias(\"net population size\"),\n",
    "            ),\n",
    "        ],\n",
    "    )\n",
    "    .filter(pl.col(\"tile\") == 0)\n",
    "    .with_columns(\n",
    "        (\n",
    "            pl.col(\"net population size\") / pl.col(\"tsc seconds per cycle\")\n",
    "        ).alias(\"throughput (agent-generations/sec)\"),\n",
    "    )\n",
    ")\n",
    "display(cupy_perf)\n",
    "display(cupy_perf.describe())\n"
   ]
  },
  {
   "cell_type": "code",
   "execution_count": 6,
   "metadata": {
    "execution": {
     "iopub.execute_input": "2024-11-02T14:43:20.341688Z",
     "iopub.status.busy": "2024-11-02T14:43:20.341499Z",
     "iopub.status.idle": "2024-11-02T14:43:26.747250Z",
     "shell.execute_reply": "2024-11-02T14:43:26.746727Z"
    }
   },
   "outputs": [],
   "source": [
    "wse_perf = pl.concat(\n",
    "    [\n",
    "        pl.read_parquet(\n",
    "            \"https://osf.io/h3tu4/download\",\n",
    "            use_pyarrow=True,\n",
    "        )\n",
    "        .filter(pl.col(\"tile\") == 749 * 993 - 1)\n",
    "        .with_columns(\n",
    "            pl.lit(\"WSE\").alias(\"hardware\"),\n",
    "            pl.lit(\"50/50 site-explicit\").alias(\"experiment design\"),\n",
    "            pl.lit(256 * 750 * 994).alias(\"net population size\"),\n",
    "        ),\n",
    "        pl.read_parquet(\n",
    "            \"https://osf.io/w97nx/download\",\n",
    "            use_pyarrow=True,\n",
    "        )\n",
    "        .filter(pl.col(\"tile\") == 749 * 993 - 1)\n",
    "        .with_columns(\n",
    "            pl.lit(\"WSE\").alias(\"hardware\"),\n",
    "            pl.lit(\"de novo site-explicit\").alias(\"experiment design\"),\n",
    "            pl.lit(256 * 750 * 994).alias(\"net population size\"),\n",
    "        ),\n",
    "        pl.read_parquet(\n",
    "            \"https://osf.io/vh9pb/download\",\n",
    "            use_pyarrow=True,\n",
    "        )\n",
    "        .filter(pl.col(\"tile\") == 749 * 993 - 1)\n",
    "        .with_columns(\n",
    "            pl.lit(\"WSE\").alias(\"hardware\"),\n",
    "            pl.lit(\"50/50 poisson\").alias(\"experiment design\"),\n",
    "            pl.lit(256 * 750 * 994).alias(\"net population size\"),\n",
    "        ),\n",
    "        pl.read_parquet(\n",
    "            \"https://osf.io/zp9gt/download\",\n",
    "            use_pyarrow=True,\n",
    "        )\n",
    "        .filter(pl.col(\"tile\") == 749 * 993 - 1)\n",
    "        .with_columns(\n",
    "            pl.lit(\"WSE\").alias(\"hardware\"),\n",
    "            pl.lit(\"de novo poisson\").alias(\"experiment design\"),\n",
    "            pl.lit(256 * 750 * 994).alias(\"net population size\"),\n",
    "        ),\n",
    "    ],\n",
    ").with_columns(\n",
    "    (pl.col(\"net population size\") / pl.col(\"tsc seconds per cycle\")).alias(\n",
    "        \"throughput (agent-generations/sec)\"\n",
    "    ),\n",
    ")\n"
   ]
  },
  {
   "cell_type": "code",
   "execution_count": 7,
   "metadata": {
    "execution": {
     "iopub.execute_input": "2024-11-02T14:43:26.749548Z",
     "iopub.status.busy": "2024-11-02T14:43:26.749212Z",
     "iopub.status.idle": "2024-11-02T14:43:26.761525Z",
     "shell.execute_reply": "2024-11-02T14:43:26.761044Z"
    }
   },
   "outputs": [
    {
     "data": {
      "text/html": [
       "<div><style>\n",
       ".dataframe > thead > tr,\n",
       ".dataframe > tbody > tr {\n",
       "  text-align: right;\n",
       "  white-space: pre-wrap;\n",
       "}\n",
       "</style>\n",
       "<small>shape: (362, 25)</small><table border=\"1\" class=\"dataframe\"><thead><tr><th>tsc ticks</th><th>tsc seconds</th><th>tsc seconds per cycle</th><th>tsc cycle hertz</th><th>tsc ns per cycle</th><th>recv sum</th><th>send sum</th><th>cycle count</th><th>tsc start</th><th>tsc end</th><th>send N</th><th>send S</th><th>send E</th><th>send W</th><th>recv N</th><th>recv S</th><th>recv E</th><th>recv W</th><th>tile</th><th>row</th><th>col</th><th>hardware</th><th>experiment design</th><th>net population size</th><th>throughput (agent-generations/sec)</th></tr><tr><td>u64</td><td>f32</td><td>f32</td><td>f32</td><td>f32</td><td>u32</td><td>u32</td><td>u32</td><td>u64</td><td>u64</td><td>u32</td><td>u32</td><td>u32</td><td>u32</td><td>u32</td><td>u32</td><td>u32</td><td>u32</td><td>u32</td><td>u16</td><td>u16</td><td>str</td><td>str</td><td>i32</td><td>f64</td></tr></thead><tbody><tr><td>0</td><td>209.579391</td><td>0.209579</td><td>4.771461</td><td>2.09579392e8</td><td>0</td><td>0</td><td>0</td><td>0</td><td>0</td><td>0</td><td>0</td><td>0</td><td>0</td><td>0</td><td>0</td><td>0</td><td>0</td><td>0</td><td>0</td><td>0</td><td>&quot;CPU&quot;</td><td>&quot;50/50 poisson&quot;</td><td>1679616</td><td>8.0142e6</td></tr><tr><td>0</td><td>229.492737</td><td>0.229493</td><td>4.357437</td><td>2.29492736e8</td><td>0</td><td>0</td><td>0</td><td>0</td><td>0</td><td>0</td><td>0</td><td>0</td><td>0</td><td>0</td><td>0</td><td>0</td><td>0</td><td>0</td><td>0</td><td>0</td><td>&quot;CPU&quot;</td><td>&quot;50/50 poisson&quot;</td><td>1679616</td><td>7.3188e6</td></tr><tr><td>0</td><td>228.172424</td><td>0.228172</td><td>4.382651</td><td>2.28172416e8</td><td>0</td><td>0</td><td>0</td><td>0</td><td>0</td><td>0</td><td>0</td><td>0</td><td>0</td><td>0</td><td>0</td><td>0</td><td>0</td><td>0</td><td>0</td><td>0</td><td>&quot;CPU&quot;</td><td>&quot;50/50 poisson&quot;</td><td>1679616</td><td>7.3612e6</td></tr><tr><td>0</td><td>235.708771</td><td>0.235709</td><td>4.242524</td><td>2.35708768e8</td><td>0</td><td>0</td><td>0</td><td>0</td><td>0</td><td>0</td><td>0</td><td>0</td><td>0</td><td>0</td><td>0</td><td>0</td><td>0</td><td>0</td><td>0</td><td>0</td><td>&quot;CPU&quot;</td><td>&quot;50/50 poisson&quot;</td><td>1679616</td><td>7.1258e6</td></tr><tr><td>0</td><td>247.554077</td><td>0.247554</td><td>4.039521</td><td>2.4755408e8</td><td>0</td><td>0</td><td>0</td><td>0</td><td>0</td><td>0</td><td>0</td><td>0</td><td>0</td><td>0</td><td>0</td><td>0</td><td>0</td><td>0</td><td>0</td><td>0</td><td>&quot;CPU&quot;</td><td>&quot;50/50 poisson&quot;</td><td>1679616</td><td>6.7848e6</td></tr><tr><td>&hellip;</td><td>&hellip;</td><td>&hellip;</td><td>&hellip;</td><td>&hellip;</td><td>&hellip;</td><td>&hellip;</td><td>&hellip;</td><td>&hellip;</td><td>&hellip;</td><td>&hellip;</td><td>&hellip;</td><td>&hellip;</td><td>&hellip;</td><td>&hellip;</td><td>&hellip;</td><td>&hellip;</td><td>&hellip;</td><td>&hellip;</td><td>&hellip;</td><td>&hellip;</td><td>&hellip;</td><td>&hellip;</td><td>&hellip;</td><td>&hellip;</td></tr><tr><td>103685662536</td><td>121.983131</td><td>0.000244</td><td>4098.927246</td><td>243966.265625</td><td>1000003</td><td>4000008</td><td>500000</td><td>27523</td><td>103685690059</td><td>1000002</td><td>1000002</td><td>1000002</td><td>1000002</td><td>250001</td><td>250000</td><td>250001</td><td>250001</td><td>743756</td><td>991</td><td>506</td><td>&quot;WSE&quot;</td><td>&quot;de novo poisson&quot;</td><td>190848000</td><td>7.8227e11</td></tr><tr><td>103659336568</td><td>121.952164</td><td>0.000244</td><td>4099.968262</td><td>243904.328125</td><td>1000002</td><td>4000008</td><td>500000</td><td>27559</td><td>103659364127</td><td>1000002</td><td>1000002</td><td>1000002</td><td>1000002</td><td>250000</td><td>250000</td><td>250001</td><td>250001</td><td>743756</td><td>991</td><td>506</td><td>&quot;WSE&quot;</td><td>&quot;de novo poisson&quot;</td><td>190848000</td><td>7.8247e11</td></tr><tr><td>103683860081</td><td>121.98101</td><td>0.000244</td><td>4098.998535</td><td>243962.03125</td><td>1000000</td><td>4000008</td><td>500000</td><td>27558</td><td>103683887639</td><td>1000002</td><td>1000002</td><td>1000002</td><td>1000002</td><td>250000</td><td>250000</td><td>250000</td><td>250000</td><td>743756</td><td>991</td><td>506</td><td>&quot;WSE&quot;</td><td>&quot;de novo poisson&quot;</td><td>190848000</td><td>7.8229e11</td></tr><tr><td>103884915780</td><td>122.217545</td><td>0.000244</td><td>4091.06543</td><td>244435.09375</td><td>1000001</td><td>4000008</td><td>500000</td><td>28261</td><td>103884944041</td><td>1000002</td><td>1000002</td><td>1000002</td><td>1000002</td><td>250000</td><td>250000</td><td>250001</td><td>250000</td><td>743756</td><td>991</td><td>506</td><td>&quot;WSE&quot;</td><td>&quot;de novo poisson&quot;</td><td>190848000</td><td>7.8077e11</td></tr><tr><td>103659250820</td><td>121.952057</td><td>0.000244</td><td>4099.97168</td><td>243904.125</td><td>1000000</td><td>4000008</td><td>500000</td><td>28261</td><td>103659279081</td><td>1000002</td><td>1000002</td><td>1000002</td><td>1000002</td><td>250000</td><td>250000</td><td>250000</td><td>250000</td><td>743756</td><td>991</td><td>506</td><td>&quot;WSE&quot;</td><td>&quot;de novo poisson&quot;</td><td>190848000</td><td>7.8247e11</td></tr></tbody></table></div>"
      ],
      "text/plain": [
       "shape: (362, 25)\n",
       "┌───────────┬───────────┬───────────┬───────────┬───┬──────────┬───────────┬───────────┬───────────┐\n",
       "│ tsc ticks ┆ tsc       ┆ tsc       ┆ tsc cycle ┆ … ┆ hardware ┆ experimen ┆ net popul ┆ throughpu │\n",
       "│ ---       ┆ seconds   ┆ seconds   ┆ hertz     ┆   ┆ ---      ┆ t design  ┆ ation     ┆ t (agent- │\n",
       "│ u64       ┆ ---       ┆ per cycle ┆ ---       ┆   ┆ str      ┆ ---       ┆ size      ┆ generatio │\n",
       "│           ┆ f32       ┆ ---       ┆ f32       ┆   ┆          ┆ str       ┆ ---       ┆ ns/…      │\n",
       "│           ┆           ┆ f32       ┆           ┆   ┆          ┆           ┆ i32       ┆ ---       │\n",
       "│           ┆           ┆           ┆           ┆   ┆          ┆           ┆           ┆ f64       │\n",
       "╞═══════════╪═══════════╪═══════════╪═══════════╪═══╪══════════╪═══════════╪═══════════╪═══════════╡\n",
       "│ 0         ┆ 209.57939 ┆ 0.209579  ┆ 4.771461  ┆ … ┆ CPU      ┆ 50/50     ┆ 1679616   ┆ 8.0142e6  │\n",
       "│           ┆ 1         ┆           ┆           ┆   ┆          ┆ poisson   ┆           ┆           │\n",
       "│ 0         ┆ 229.49273 ┆ 0.229493  ┆ 4.357437  ┆ … ┆ CPU      ┆ 50/50     ┆ 1679616   ┆ 7.3188e6  │\n",
       "│           ┆ 7         ┆           ┆           ┆   ┆          ┆ poisson   ┆           ┆           │\n",
       "│ 0         ┆ 228.17242 ┆ 0.228172  ┆ 4.382651  ┆ … ┆ CPU      ┆ 50/50     ┆ 1679616   ┆ 7.3612e6  │\n",
       "│           ┆ 4         ┆           ┆           ┆   ┆          ┆ poisson   ┆           ┆           │\n",
       "│ 0         ┆ 235.70877 ┆ 0.235709  ┆ 4.242524  ┆ … ┆ CPU      ┆ 50/50     ┆ 1679616   ┆ 7.1258e6  │\n",
       "│           ┆ 1         ┆           ┆           ┆   ┆          ┆ poisson   ┆           ┆           │\n",
       "│ 0         ┆ 247.55407 ┆ 0.247554  ┆ 4.039521  ┆ … ┆ CPU      ┆ 50/50     ┆ 1679616   ┆ 6.7848e6  │\n",
       "│           ┆ 7         ┆           ┆           ┆   ┆          ┆ poisson   ┆           ┆           │\n",
       "│ …         ┆ …         ┆ …         ┆ …         ┆ … ┆ …        ┆ …         ┆ …         ┆ …         │\n",
       "│ 103685662 ┆ 121.98313 ┆ 0.000244  ┆ 4098.9272 ┆ … ┆ WSE      ┆ de novo   ┆ 190848000 ┆ 7.8227e11 │\n",
       "│ 536       ┆ 1         ┆           ┆ 46        ┆   ┆          ┆ poisson   ┆           ┆           │\n",
       "│ 103659336 ┆ 121.95216 ┆ 0.000244  ┆ 4099.9682 ┆ … ┆ WSE      ┆ de novo   ┆ 190848000 ┆ 7.8247e11 │\n",
       "│ 568       ┆ 4         ┆           ┆ 62        ┆   ┆          ┆ poisson   ┆           ┆           │\n",
       "│ 103683860 ┆ 121.98101 ┆ 0.000244  ┆ 4098.9985 ┆ … ┆ WSE      ┆ de novo   ┆ 190848000 ┆ 7.8229e11 │\n",
       "│ 081       ┆           ┆           ┆ 35        ┆   ┆          ┆ poisson   ┆           ┆           │\n",
       "│ 103884915 ┆ 122.21754 ┆ 0.000244  ┆ 4091.0654 ┆ … ┆ WSE      ┆ de novo   ┆ 190848000 ┆ 7.8077e11 │\n",
       "│ 780       ┆ 5         ┆           ┆ 3         ┆   ┆          ┆ poisson   ┆           ┆           │\n",
       "│ 103659250 ┆ 121.95205 ┆ 0.000244  ┆ 4099.9716 ┆ … ┆ WSE      ┆ de novo   ┆ 190848000 ┆ 7.8247e11 │\n",
       "│ 820       ┆ 7         ┆           ┆ 8         ┆   ┆          ┆ poisson   ┆           ┆           │\n",
       "└───────────┴───────────┴───────────┴───────────┴───┴──────────┴───────────┴───────────┴───────────┘"
      ]
     },
     "metadata": {},
     "output_type": "display_data"
    },
    {
     "data": {
      "text/html": [
       "<div><style>\n",
       ".dataframe > thead > tr,\n",
       ".dataframe > tbody > tr {\n",
       "  text-align: right;\n",
       "  white-space: pre-wrap;\n",
       "}\n",
       "</style>\n",
       "<small>shape: (9, 26)</small><table border=\"1\" class=\"dataframe\"><thead><tr><th>statistic</th><th>tsc ticks</th><th>tsc seconds</th><th>tsc seconds per cycle</th><th>tsc cycle hertz</th><th>tsc ns per cycle</th><th>recv sum</th><th>send sum</th><th>cycle count</th><th>tsc start</th><th>tsc end</th><th>send N</th><th>send S</th><th>send E</th><th>send W</th><th>recv N</th><th>recv S</th><th>recv E</th><th>recv W</th><th>tile</th><th>row</th><th>col</th><th>hardware</th><th>experiment design</th><th>net population size</th><th>throughput (agent-generations/sec)</th></tr><tr><td>str</td><td>f64</td><td>f64</td><td>f64</td><td>f64</td><td>f64</td><td>f64</td><td>f64</td><td>f64</td><td>f64</td><td>f64</td><td>f64</td><td>f64</td><td>f64</td><td>f64</td><td>f64</td><td>f64</td><td>f64</td><td>f64</td><td>f64</td><td>f64</td><td>f64</td><td>str</td><td>str</td><td>f64</td><td>f64</td></tr></thead><tbody><tr><td>&quot;count&quot;</td><td>362.0</td><td>362.0</td><td>362.0</td><td>362.0</td><td>362.0</td><td>362.0</td><td>362.0</td><td>362.0</td><td>362.0</td><td>362.0</td><td>362.0</td><td>362.0</td><td>362.0</td><td>362.0</td><td>362.0</td><td>362.0</td><td>362.0</td><td>362.0</td><td>362.0</td><td>362.0</td><td>362.0</td><td>&quot;362&quot;</td><td>&quot;362&quot;</td><td>362.0</td><td>362.0</td></tr><tr><td>&quot;null_count&quot;</td><td>0.0</td><td>0.0</td><td>0.0</td><td>0.0</td><td>0.0</td><td>0.0</td><td>0.0</td><td>0.0</td><td>0.0</td><td>0.0</td><td>0.0</td><td>0.0</td><td>0.0</td><td>0.0</td><td>0.0</td><td>0.0</td><td>0.0</td><td>0.0</td><td>0.0</td><td>0.0</td><td>0.0</td><td>&quot;0&quot;</td><td>&quot;0&quot;</td><td>0.0</td><td>0.0</td></tr><tr><td>&quot;mean&quot;</td><td>8.1079e10</td><td>794.376648</td><td>0.014564</td><td>2646.005615</td><td>1.4564056e7</td><td>696132.903315</td><td>2.7845e6</td><td>348066.298343</td><td>20276.243094</td><td>8.1079e10</td><td>696133.98895</td><td>696133.98895</td><td>696133.98895</td><td>696133.98895</td><td>174033.259669</td><td>174032.88674</td><td>174033.395028</td><td>174033.361878</td><td>517752.79558</td><td>689.867403</td><td>352.243094</td><td>null</td><td>null</td><td>1.3671e8</td><td>4.9701e11</td></tr><tr><td>&quot;std&quot;</td><td>5.5981e10</td><td>1133.330322</td><td>0.053644</td><td>1711.838013</td><td>5.3643976e7</td><td>460562.865051</td><td>1.8423e6</td><td>230281.331065</td><td>13570.99855</td><td>5.5981e10</td><td>460563.583256</td><td>460563.583256</td><td>460563.583256</td><td>460563.583256</td><td>115140.738718</td><td>115140.491942</td><td>115140.828194</td><td>115140.806266</td><td>342546.243336</td><td>456.417598</td><td>233.044707</td><td>null</td><td>null</td><td>8.2110e7</td><td>3.3830e11</td></tr><tr><td>&quot;min&quot;</td><td>0.0</td><td>110.615601</td><td>0.000221</td><td>3.699954</td><td>221231.203125</td><td>0.0</td><td>0.0</td><td>0.0</td><td>0.0</td><td>0.0</td><td>0.0</td><td>0.0</td><td>0.0</td><td>0.0</td><td>0.0</td><td>0.0</td><td>0.0</td><td>0.0</td><td>0.0</td><td>0.0</td><td>0.0</td><td>&quot;CPU&quot;</td><td>&quot;50/50 poisson&quot;</td><td>1.679616e6</td><td>6.2145e6</td></tr><tr><td>&quot;25%&quot;</td><td>0.0</td><td>121.957214</td><td>0.000244</td><td>190.483765</td><td>243914.4375</td><td>0.0</td><td>0.0</td><td>0.0</td><td>0.0</td><td>0.0</td><td>0.0</td><td>0.0</td><td>0.0</td><td>0.0</td><td>0.0</td><td>0.0</td><td>0.0</td><td>0.0</td><td>0.0</td><td>0.0</td><td>0.0</td><td>null</td><td>null</td><td>1.5116544e7</td><td>2.8795e9</td></tr><tr><td>&quot;50%&quot;</td><td>1.0366e11</td><td>149.360596</td><td>0.000299</td><td>3347.615723</td><td>298721.1875</td><td>1e6</td><td>4.000008e6</td><td>500000.0</td><td>27559.0</td><td>1.0366e11</td><td>1.000002e6</td><td>1.000002e6</td><td>1.000002e6</td><td>1.000002e6</td><td>250000.0</td><td>250000.0</td><td>250000.0</td><td>250000.0</td><td>743756.0</td><td>991.0</td><td>506.0</td><td>null</td><td>null</td><td>1.90848e8</td><td>6.3889e11</td></tr><tr><td>&quot;75%&quot;</td><td>1.1618e11</td><td>270.273621</td><td>0.00525</td><td>4099.79834</td><td>5.249791e6</td><td>1.000002e6</td><td>4.000008e6</td><td>500000.0</td><td>28507.0</td><td>1.1618e11</td><td>1.000002e6</td><td>1.000002e6</td><td>1.000002e6</td><td>1.000002e6</td><td>250001.0</td><td>250000.0</td><td>250001.0</td><td>250001.0</td><td>743756.0</td><td>991.0</td><td>506.0</td><td>null</td><td>null</td><td>1.90848e8</td><td>7.8244e11</td></tr><tr><td>&quot;max&quot;</td><td>1.7584e11</td><td>2925.5979</td><td>0.270274</td><td>4520.158203</td><td>2.70273632e8</td><td>1.000004e6</td><td>4.000008e6</td><td>500000.0</td><td>35548.0</td><td>1.7584e11</td><td>1.000002e6</td><td>1.000002e6</td><td>1.000002e6</td><td>1.000002e6</td><td>250001.0</td><td>250001.0</td><td>250001.0</td><td>250001.0</td><td>743756.0</td><td>991.0</td><td>506.0</td><td>&quot;WSE&quot;</td><td>&quot;de novo site-explicit&quot;</td><td>1.90848e8</td><td>8.6266e11</td></tr></tbody></table></div>"
      ],
      "text/plain": [
       "shape: (9, 26)\n",
       "┌───────────┬───────────┬───────────┬───────────┬───┬──────────┬───────────┬───────────┬───────────┐\n",
       "│ statistic ┆ tsc ticks ┆ tsc       ┆ tsc       ┆ … ┆ hardware ┆ experimen ┆ net popul ┆ throughpu │\n",
       "│ ---       ┆ ---       ┆ seconds   ┆ seconds   ┆   ┆ ---      ┆ t design  ┆ ation     ┆ t (agent- │\n",
       "│ str       ┆ f64       ┆ ---       ┆ per cycle ┆   ┆ str      ┆ ---       ┆ size      ┆ generatio │\n",
       "│           ┆           ┆ f64       ┆ ---       ┆   ┆          ┆ str       ┆ ---       ┆ ns/…      │\n",
       "│           ┆           ┆           ┆ f64       ┆   ┆          ┆           ┆ f64       ┆ ---       │\n",
       "│           ┆           ┆           ┆           ┆   ┆          ┆           ┆           ┆ f64       │\n",
       "╞═══════════╪═══════════╪═══════════╪═══════════╪═══╪══════════╪═══════════╪═══════════╪═══════════╡\n",
       "│ count     ┆ 362.0     ┆ 362.0     ┆ 362.0     ┆ … ┆ 362      ┆ 362       ┆ 362.0     ┆ 362.0     │\n",
       "│ null_coun ┆ 0.0       ┆ 0.0       ┆ 0.0       ┆ … ┆ 0        ┆ 0         ┆ 0.0       ┆ 0.0       │\n",
       "│ t         ┆           ┆           ┆           ┆   ┆          ┆           ┆           ┆           │\n",
       "│ mean      ┆ 8.1079e10 ┆ 794.37664 ┆ 0.014564  ┆ … ┆ null     ┆ null      ┆ 1.3671e8  ┆ 4.9701e11 │\n",
       "│           ┆           ┆ 8         ┆           ┆   ┆          ┆           ┆           ┆           │\n",
       "│ std       ┆ 5.5981e10 ┆ 1133.3303 ┆ 0.053644  ┆ … ┆ null     ┆ null      ┆ 8.2110e7  ┆ 3.3830e11 │\n",
       "│           ┆           ┆ 22        ┆           ┆   ┆          ┆           ┆           ┆           │\n",
       "│ min       ┆ 0.0       ┆ 110.61560 ┆ 0.000221  ┆ … ┆ CPU      ┆ 50/50     ┆ 1.679616e ┆ 6.2145e6  │\n",
       "│           ┆           ┆ 1         ┆           ┆   ┆          ┆ poisson   ┆ 6         ┆           │\n",
       "│ 25%       ┆ 0.0       ┆ 121.95721 ┆ 0.000244  ┆ … ┆ null     ┆ null      ┆ 1.5116544 ┆ 2.8795e9  │\n",
       "│           ┆           ┆ 4         ┆           ┆   ┆          ┆           ┆ e7        ┆           │\n",
       "│ 50%       ┆ 1.0366e11 ┆ 149.36059 ┆ 0.000299  ┆ … ┆ null     ┆ null      ┆ 1.90848e8 ┆ 6.3889e11 │\n",
       "│           ┆           ┆ 6         ┆           ┆   ┆          ┆           ┆           ┆           │\n",
       "│ 75%       ┆ 1.1618e11 ┆ 270.27362 ┆ 0.00525   ┆ … ┆ null     ┆ null      ┆ 1.90848e8 ┆ 7.8244e11 │\n",
       "│           ┆           ┆ 1         ┆           ┆   ┆          ┆           ┆           ┆           │\n",
       "│ max       ┆ 1.7584e11 ┆ 2925.5979 ┆ 0.270274  ┆ … ┆ WSE      ┆ de novo   ┆ 1.90848e8 ┆ 8.6266e11 │\n",
       "│           ┆           ┆           ┆           ┆   ┆          ┆ site-expl ┆           ┆           │\n",
       "│           ┆           ┆           ┆           ┆   ┆          ┆ icit      ┆           ┆           │\n",
       "└───────────┴───────────┴───────────┴───────────┴───┴──────────┴───────────┴───────────┴───────────┘"
      ]
     },
     "metadata": {},
     "output_type": "display_data"
    }
   ],
   "source": [
    "df = pl.concat([cpu_perf, cupy_perf, wse_perf])\n",
    "display(df)\n",
    "display(df.describe())\n"
   ]
  },
  {
   "cell_type": "markdown",
   "metadata": {},
   "source": [
    "## Absolute performance\n"
   ]
  },
  {
   "cell_type": "code",
   "execution_count": 8,
   "metadata": {
    "execution": {
     "iopub.execute_input": "2024-11-02T14:43:26.763367Z",
     "iopub.status.busy": "2024-11-02T14:43:26.763061Z",
     "iopub.status.idle": "2024-11-02T14:43:30.513439Z",
     "shell.execute_reply": "2024-11-02T14:43:30.512790Z"
    }
   },
   "outputs": [
    {
     "name": "stderr",
     "output_type": "stream",
     "text": [
      "/usr/local/lib/python3.10/dist-packages/backstrip/_backplot.py:127: UserWarning: The palette list has more values (8) than needed (3), which may not be intended.\n",
      "  g = sns.catplot(\n"
     ]
    },
    {
     "name": "stdout",
     "output_type": "stream",
     "text": [
      "teeplots/col=experiment-design+hue=hardware+orient=h+viz=backplot+x=throughput-agent-generations-sec+ext=.pdf\n",
      "teeplots/col=experiment-design+hue=hardware+orient=h+viz=backplot+x=throughput-agent-generations-sec+ext=.png\n"
     ]
    },
    {
     "data": {
      "image/png": "[encoded data removed]",
      "text/plain": [
       "<Figure size 681.25x300 with 4 Axes>"
      ]
     },
     "metadata": {},
     "output_type": "display_data"
    },
    {
     "data": {
      "text/plain": [
       "<seaborn.axisgrid.FacetGrid at 0x7fdbe41162f0>"
      ]
     },
     "execution_count": 8,
     "metadata": {},
     "output_type": "execute_result"
    }
   ],
   "source": [
    "tp.tee(\n",
    "    backplot,\n",
    "    data=df.to_pandas(),\n",
    "    col=\"experiment design\",\n",
    "    x=\"throughput (agent-generations/sec)\",\n",
    "    hue=\"hardware\",\n",
    "    aspect=2,\n",
    "    col_wrap=2,\n",
    "    height=1.5,\n",
    "    orient=\"h\",\n",
    "    log_scale=(True, False),\n",
    "    palette=sns.color_palette(\"Accent\"),\n",
    "    sharey=False,\n",
    "    teeplot_outexclude=\"post\",\n",
    "    teeplot_postprocess=\"\"\"\n",
    "for ax in teed.axes.flat[2:]:\n",
    "    ax.set_ylim(0.1, 0.5)\n",
    "\"\"\",\n",
    ")\n"
   ]
  },
  {
   "cell_type": "code",
   "execution_count": 9,
   "metadata": {
    "execution": {
     "iopub.execute_input": "2024-11-02T14:43:30.515366Z",
     "iopub.status.busy": "2024-11-02T14:43:30.515064Z",
     "iopub.status.idle": "2024-11-02T14:43:30.520768Z",
     "shell.execute_reply": "2024-11-02T14:43:30.520317Z"
    }
   },
   "outputs": [
    {
     "data": {
      "text/html": [
       "<div><style>\n",
       ".dataframe > thead > tr,\n",
       ".dataframe > tbody > tr {\n",
       "  text-align: right;\n",
       "  white-space: pre-wrap;\n",
       "}\n",
       "</style>\n",
       "<small>shape: (8, 6)</small><table border=\"1\" class=\"dataframe\"><thead><tr><th>hardware</th><th>experiment design</th><th>mean_throughput</th><th>std_throughput</th><th>mean_speed</th><th>std_speed</th></tr><tr><td>str</td><td>str</td><td>f64</td><td>f64</td><td>f32</td><td>f32</td></tr></thead><tbody><tr><td>&quot;WSE&quot;</td><td>&quot;50/50 poisson&quot;</td><td>8.2192e11</td><td>2.9740e10</td><td>4306.648438</td><td>155.83284</td></tr><tr><td>&quot;GPU&quot;</td><td>&quot;de novo poisson&quot;</td><td>2.6622e9</td><td>2.6056e7</td><td>176.114853</td><td>1.723704</td></tr><tr><td>&quot;CPU&quot;</td><td>&quot;de novo poisson&quot;</td><td>7.0413e6</td><td>502113.15638</td><td>4.192197</td><td>0.298945</td></tr><tr><td>&quot;GPU&quot;</td><td>&quot;50/50 poisson&quot;</td><td>2.8646e9</td><td>3.9513e7</td><td>189.501465</td><td>2.613894</td></tr><tr><td>&quot;WSE&quot;</td><td>&quot;50/50 site-explicit&quot;</td><td>6.7028e11</td><td>1.1047e11</td><td>3512.122314</td><td>578.845947</td></tr><tr><td>&quot;WSE&quot;</td><td>&quot;de novo poisson&quot;</td><td>7.8222e11</td><td>5.2905e8</td><td>4098.675781</td><td>2.772118</td></tr><tr><td>&quot;WSE&quot;</td><td>&quot;de novo site-explicit&quot;</td><td>6.5376e11</td><td>5.4374e10</td><td>3425.558105</td><td>284.907532</td></tr><tr><td>&quot;CPU&quot;</td><td>&quot;50/50 poisson&quot;</td><td>7.3025e6</td><td>512242.10246</td><td>4.347747</td><td>0.304976</td></tr></tbody></table></div>"
      ],
      "text/plain": [
       "shape: (8, 6)\n",
       "┌──────────┬───────────────────────┬─────────────────┬────────────────┬─────────────┬────────────┐\n",
       "│ hardware ┆ experiment design     ┆ mean_throughput ┆ std_throughput ┆ mean_speed  ┆ std_speed  │\n",
       "│ ---      ┆ ---                   ┆ ---             ┆ ---            ┆ ---         ┆ ---        │\n",
       "│ str      ┆ str                   ┆ f64             ┆ f64            ┆ f32         ┆ f32        │\n",
       "╞══════════╪═══════════════════════╪═════════════════╪════════════════╪═════════════╪════════════╡\n",
       "│ WSE      ┆ 50/50 poisson         ┆ 8.2192e11       ┆ 2.9740e10      ┆ 4306.648438 ┆ 155.83284  │\n",
       "│ GPU      ┆ de novo poisson       ┆ 2.6622e9        ┆ 2.6056e7       ┆ 176.114853  ┆ 1.723704   │\n",
       "│ CPU      ┆ de novo poisson       ┆ 7.0413e6        ┆ 502113.15638   ┆ 4.192197    ┆ 0.298945   │\n",
       "│ GPU      ┆ 50/50 poisson         ┆ 2.8646e9        ┆ 3.9513e7       ┆ 189.501465  ┆ 2.613894   │\n",
       "│ WSE      ┆ 50/50 site-explicit   ┆ 6.7028e11       ┆ 1.1047e11      ┆ 3512.122314 ┆ 578.845947 │\n",
       "│ WSE      ┆ de novo poisson       ┆ 7.8222e11       ┆ 5.2905e8       ┆ 4098.675781 ┆ 2.772118   │\n",
       "│ WSE      ┆ de novo site-explicit ┆ 6.5376e11       ┆ 5.4374e10      ┆ 3425.558105 ┆ 284.907532 │\n",
       "│ CPU      ┆ 50/50 poisson         ┆ 7.3025e6        ┆ 512242.10246   ┆ 4.347747    ┆ 0.304976   │\n",
       "└──────────┴───────────────────────┴─────────────────┴────────────────┴─────────────┴────────────┘"
      ]
     },
     "execution_count": 9,
     "metadata": {},
     "output_type": "execute_result"
    }
   ],
   "source": [
    "df.group_by(\"hardware\", \"experiment design\",).agg(\n",
    "    pl.col(\"throughput (agent-generations/sec)\")\n",
    "    .mean()\n",
    "    .alias(\"mean_throughput\"),\n",
    "    pl.col(\"throughput (agent-generations/sec)\").std().alias(\"std_throughput\"),\n",
    "    pl.col(\"tsc cycle hertz\").mean().alias(\"mean_speed\"),\n",
    "    pl.col(\"tsc cycle hertz\").std().alias(\"std_speed\"),\n",
    ")\n"
   ]
  },
  {
   "cell_type": "markdown",
   "metadata": {},
   "source": [
    "## Relative Performance\n"
   ]
  },
  {
   "cell_type": "code",
   "execution_count": 10,
   "metadata": {
    "execution": {
     "iopub.execute_input": "2024-11-02T14:43:30.522434Z",
     "iopub.status.busy": "2024-11-02T14:43:30.522261Z",
     "iopub.status.idle": "2024-11-02T14:43:30.531299Z",
     "shell.execute_reply": "2024-11-02T14:43:30.530729Z"
    }
   },
   "outputs": [
    {
     "name": "stdout",
     "output_type": "stream",
     "text": [
      "shape: (2, 2)\n",
      "┌───────────────────┬──────────┐\n",
      "│ experiment design ┆ cpu_mean │\n",
      "│ ---               ┆ ---      │\n",
      "│ str               ┆ f64      │\n",
      "╞═══════════════════╪══════════╡\n",
      "│ de novo poisson   ┆ 7.0413e6 │\n",
      "│ 50/50 poisson     ┆ 7.3025e6 │\n",
      "└───────────────────┴──────────┘\n"
     ]
    },
    {
     "data": {
      "text/html": [
       "<div><style>\n",
       ".dataframe > thead > tr,\n",
       ".dataframe > tbody > tr {\n",
       "  text-align: right;\n",
       "  white-space: pre-wrap;\n",
       "}\n",
       "</style>\n",
       "<small>shape: (362, 27)</small><table border=\"1\" class=\"dataframe\"><thead><tr><th>tsc ticks</th><th>tsc seconds</th><th>tsc seconds per cycle</th><th>tsc cycle hertz</th><th>tsc ns per cycle</th><th>recv sum</th><th>send sum</th><th>cycle count</th><th>tsc start</th><th>tsc end</th><th>send N</th><th>send S</th><th>send E</th><th>send W</th><th>recv N</th><th>recv S</th><th>recv E</th><th>recv W</th><th>tile</th><th>row</th><th>col</th><th>hardware</th><th>experiment design</th><th>net population size</th><th>throughput (agent-generations/sec)</th><th>cpu_mean</th><th>speedup</th></tr><tr><td>u64</td><td>f32</td><td>f32</td><td>f32</td><td>f32</td><td>u32</td><td>u32</td><td>u32</td><td>u64</td><td>u64</td><td>u32</td><td>u32</td><td>u32</td><td>u32</td><td>u32</td><td>u32</td><td>u32</td><td>u32</td><td>u32</td><td>u16</td><td>u16</td><td>str</td><td>str</td><td>i32</td><td>f64</td><td>f64</td><td>f64</td></tr></thead><tbody><tr><td>0</td><td>209.579391</td><td>0.209579</td><td>4.771461</td><td>2.09579392e8</td><td>0</td><td>0</td><td>0</td><td>0</td><td>0</td><td>0</td><td>0</td><td>0</td><td>0</td><td>0</td><td>0</td><td>0</td><td>0</td><td>0</td><td>0</td><td>0</td><td>&quot;CPU&quot;</td><td>&quot;50/50 poisson&quot;</td><td>1679616</td><td>8.0142e6</td><td>7.3025e6</td><td>1.097456</td></tr><tr><td>0</td><td>229.492737</td><td>0.229493</td><td>4.357437</td><td>2.29492736e8</td><td>0</td><td>0</td><td>0</td><td>0</td><td>0</td><td>0</td><td>0</td><td>0</td><td>0</td><td>0</td><td>0</td><td>0</td><td>0</td><td>0</td><td>0</td><td>0</td><td>&quot;CPU&quot;</td><td>&quot;50/50 poisson&quot;</td><td>1679616</td><td>7.3188e6</td><td>7.3025e6</td><td>1.002229</td></tr><tr><td>0</td><td>228.172424</td><td>0.228172</td><td>4.382651</td><td>2.28172416e8</td><td>0</td><td>0</td><td>0</td><td>0</td><td>0</td><td>0</td><td>0</td><td>0</td><td>0</td><td>0</td><td>0</td><td>0</td><td>0</td><td>0</td><td>0</td><td>0</td><td>&quot;CPU&quot;</td><td>&quot;50/50 poisson&quot;</td><td>1679616</td><td>7.3612e6</td><td>7.3025e6</td><td>1.008028</td></tr><tr><td>0</td><td>235.708771</td><td>0.235709</td><td>4.242524</td><td>2.35708768e8</td><td>0</td><td>0</td><td>0</td><td>0</td><td>0</td><td>0</td><td>0</td><td>0</td><td>0</td><td>0</td><td>0</td><td>0</td><td>0</td><td>0</td><td>0</td><td>0</td><td>&quot;CPU&quot;</td><td>&quot;50/50 poisson&quot;</td><td>1679616</td><td>7.1258e6</td><td>7.3025e6</td><td>0.975798</td></tr><tr><td>0</td><td>247.554077</td><td>0.247554</td><td>4.039521</td><td>2.4755408e8</td><td>0</td><td>0</td><td>0</td><td>0</td><td>0</td><td>0</td><td>0</td><td>0</td><td>0</td><td>0</td><td>0</td><td>0</td><td>0</td><td>0</td><td>0</td><td>0</td><td>&quot;CPU&quot;</td><td>&quot;50/50 poisson&quot;</td><td>1679616</td><td>6.7848e6</td><td>7.3025e6</td><td>0.929107</td></tr><tr><td>&hellip;</td><td>&hellip;</td><td>&hellip;</td><td>&hellip;</td><td>&hellip;</td><td>&hellip;</td><td>&hellip;</td><td>&hellip;</td><td>&hellip;</td><td>&hellip;</td><td>&hellip;</td><td>&hellip;</td><td>&hellip;</td><td>&hellip;</td><td>&hellip;</td><td>&hellip;</td><td>&hellip;</td><td>&hellip;</td><td>&hellip;</td><td>&hellip;</td><td>&hellip;</td><td>&hellip;</td><td>&hellip;</td><td>&hellip;</td><td>&hellip;</td><td>&hellip;</td><td>&hellip;</td></tr><tr><td>103685662536</td><td>121.983131</td><td>0.000244</td><td>4098.927246</td><td>243966.265625</td><td>1000003</td><td>4000008</td><td>500000</td><td>27523</td><td>103685690059</td><td>1000002</td><td>1000002</td><td>1000002</td><td>1000002</td><td>250001</td><td>250000</td><td>250001</td><td>250001</td><td>743756</td><td>991</td><td>506</td><td>&quot;WSE&quot;</td><td>&quot;de novo poisson&quot;</td><td>190848000</td><td>7.8227e11</td><td>7.0413e6</td><td>111097.992571</td></tr><tr><td>103659336568</td><td>121.952164</td><td>0.000244</td><td>4099.968262</td><td>243904.328125</td><td>1000002</td><td>4000008</td><td>500000</td><td>27559</td><td>103659364127</td><td>1000002</td><td>1000002</td><td>1000002</td><td>1000002</td><td>250000</td><td>250000</td><td>250001</td><td>250001</td><td>743756</td><td>991</td><td>506</td><td>&quot;WSE&quot;</td><td>&quot;de novo poisson&quot;</td><td>190848000</td><td>7.8247e11</td><td>7.0413e6</td><td>111126.209551</td></tr><tr><td>103683860081</td><td>121.98101</td><td>0.000244</td><td>4098.998535</td><td>243962.03125</td><td>1000000</td><td>4000008</td><td>500000</td><td>27558</td><td>103683887639</td><td>1000002</td><td>1000002</td><td>1000002</td><td>1000002</td><td>250000</td><td>250000</td><td>250000</td><td>250000</td><td>743756</td><td>991</td><td>506</td><td>&quot;WSE&quot;</td><td>&quot;de novo poisson&quot;</td><td>190848000</td><td>7.8229e11</td><td>7.0413e6</td><td>111099.920971</td></tr><tr><td>103884915780</td><td>122.217545</td><td>0.000244</td><td>4091.06543</td><td>244435.09375</td><td>1000001</td><td>4000008</td><td>500000</td><td>28261</td><td>103884944041</td><td>1000002</td><td>1000002</td><td>1000002</td><td>1000002</td><td>250000</td><td>250000</td><td>250001</td><td>250000</td><td>743756</td><td>991</td><td>506</td><td>&quot;WSE&quot;</td><td>&quot;de novo poisson&quot;</td><td>190848000</td><td>7.8077e11</td><td>7.0413e6</td><td>110884.9034</td></tr><tr><td>103659250820</td><td>121.952057</td><td>0.000244</td><td>4099.97168</td><td>243904.125</td><td>1000000</td><td>4000008</td><td>500000</td><td>28261</td><td>103659279081</td><td>1000002</td><td>1000002</td><td>1000002</td><td>1000002</td><td>250000</td><td>250000</td><td>250000</td><td>250000</td><td>743756</td><td>991</td><td>506</td><td>&quot;WSE&quot;</td><td>&quot;de novo poisson&quot;</td><td>190848000</td><td>7.8247e11</td><td>7.0413e6</td><td>111126.302372</td></tr></tbody></table></div>"
      ],
      "text/plain": [
       "shape: (362, 27)\n",
       "┌───────────┬───────────┬───────────┬───────────┬───┬───────────┬───────────┬──────────┬───────────┐\n",
       "│ tsc ticks ┆ tsc       ┆ tsc       ┆ tsc cycle ┆ … ┆ net popul ┆ throughpu ┆ cpu_mean ┆ speedup   │\n",
       "│ ---       ┆ seconds   ┆ seconds   ┆ hertz     ┆   ┆ ation     ┆ t (agent- ┆ ---      ┆ ---       │\n",
       "│ u64       ┆ ---       ┆ per cycle ┆ ---       ┆   ┆ size      ┆ generatio ┆ f64      ┆ f64       │\n",
       "│           ┆ f32       ┆ ---       ┆ f32       ┆   ┆ ---       ┆ ns/…      ┆          ┆           │\n",
       "│           ┆           ┆ f32       ┆           ┆   ┆ i32       ┆ ---       ┆          ┆           │\n",
       "│           ┆           ┆           ┆           ┆   ┆           ┆ f64       ┆          ┆           │\n",
       "╞═══════════╪═══════════╪═══════════╪═══════════╪═══╪═══════════╪═══════════╪══════════╪═══════════╡\n",
       "│ 0         ┆ 209.57939 ┆ 0.209579  ┆ 4.771461  ┆ … ┆ 1679616   ┆ 8.0142e6  ┆ 7.3025e6 ┆ 1.097456  │\n",
       "│           ┆ 1         ┆           ┆           ┆   ┆           ┆           ┆          ┆           │\n",
       "│ 0         ┆ 229.49273 ┆ 0.229493  ┆ 4.357437  ┆ … ┆ 1679616   ┆ 7.3188e6  ┆ 7.3025e6 ┆ 1.002229  │\n",
       "│           ┆ 7         ┆           ┆           ┆   ┆           ┆           ┆          ┆           │\n",
       "│ 0         ┆ 228.17242 ┆ 0.228172  ┆ 4.382651  ┆ … ┆ 1679616   ┆ 7.3612e6  ┆ 7.3025e6 ┆ 1.008028  │\n",
       "│           ┆ 4         ┆           ┆           ┆   ┆           ┆           ┆          ┆           │\n",
       "│ 0         ┆ 235.70877 ┆ 0.235709  ┆ 4.242524  ┆ … ┆ 1679616   ┆ 7.1258e6  ┆ 7.3025e6 ┆ 0.975798  │\n",
       "│           ┆ 1         ┆           ┆           ┆   ┆           ┆           ┆          ┆           │\n",
       "│ 0         ┆ 247.55407 ┆ 0.247554  ┆ 4.039521  ┆ … ┆ 1679616   ┆ 6.7848e6  ┆ 7.3025e6 ┆ 0.929107  │\n",
       "│           ┆ 7         ┆           ┆           ┆   ┆           ┆           ┆          ┆           │\n",
       "│ …         ┆ …         ┆ …         ┆ …         ┆ … ┆ …         ┆ …         ┆ …        ┆ …         │\n",
       "│ 103685662 ┆ 121.98313 ┆ 0.000244  ┆ 4098.9272 ┆ … ┆ 190848000 ┆ 7.8227e11 ┆ 7.0413e6 ┆ 111097.99 │\n",
       "│ 536       ┆ 1         ┆           ┆ 46        ┆   ┆           ┆           ┆          ┆ 2571      │\n",
       "│ 103659336 ┆ 121.95216 ┆ 0.000244  ┆ 4099.9682 ┆ … ┆ 190848000 ┆ 7.8247e11 ┆ 7.0413e6 ┆ 111126.20 │\n",
       "│ 568       ┆ 4         ┆           ┆ 62        ┆   ┆           ┆           ┆          ┆ 9551      │\n",
       "│ 103683860 ┆ 121.98101 ┆ 0.000244  ┆ 4098.9985 ┆ … ┆ 190848000 ┆ 7.8229e11 ┆ 7.0413e6 ┆ 111099.92 │\n",
       "│ 081       ┆           ┆           ┆ 35        ┆   ┆           ┆           ┆          ┆ 0971      │\n",
       "│ 103884915 ┆ 122.21754 ┆ 0.000244  ┆ 4091.0654 ┆ … ┆ 190848000 ┆ 7.8077e11 ┆ 7.0413e6 ┆ 110884.90 │\n",
       "│ 780       ┆ 5         ┆           ┆ 3         ┆   ┆           ┆           ┆          ┆ 34        │\n",
       "│ 103659250 ┆ 121.95205 ┆ 0.000244  ┆ 4099.9716 ┆ … ┆ 190848000 ┆ 7.8247e11 ┆ 7.0413e6 ┆ 111126.30 │\n",
       "│ 820       ┆ 7         ┆           ┆ 8         ┆   ┆           ┆           ┆          ┆ 2372      │\n",
       "└───────────┴───────────┴───────────┴───────────┴───┴───────────┴───────────┴──────────┴───────────┘"
      ]
     },
     "execution_count": 10,
     "metadata": {},
     "output_type": "execute_result"
    }
   ],
   "source": [
    "# Step 1: Filter for GPU and calculate the mean throughput per experiment design\n",
    "cpu_means = (\n",
    "    df.filter(pl.col(\"hardware\").str.contains(\"CPU\"))\n",
    "    .group_by(\"experiment design\")\n",
    "    .agg(pl.mean(\"throughput (agent-generations/sec)\").alias(\"cpu_mean\"))\n",
    ")\n",
    "print(cpu_means)\n",
    "\n",
    "# Step 2: Join the GPU mean back to the original DataFrame\n",
    "df_with_mean = df.join(cpu_means, on=\"experiment design\", how=\"left\")\n",
    "\n",
    "# Step 3: Calculate the speedup by dividing throughput by the GPU mean\n",
    "df_with_speedup = df_with_mean.with_columns(\n",
    "    (pl.col(\"throughput (agent-generations/sec)\") / pl.col(\"cpu_mean\")).alias(\n",
    "        \"speedup\"\n",
    "    )\n",
    ")\n",
    "\n",
    "# Show the resulting DataFrame with speedup\n",
    "df_with_speedup\n"
   ]
  },
  {
   "cell_type": "code",
   "execution_count": 11,
   "metadata": {
    "execution": {
     "iopub.execute_input": "2024-11-02T14:43:30.533330Z",
     "iopub.status.busy": "2024-11-02T14:43:30.532888Z",
     "iopub.status.idle": "2024-11-02T14:43:31.184414Z",
     "shell.execute_reply": "2024-11-02T14:43:31.183820Z"
    }
   },
   "outputs": [
    {
     "name": "stderr",
     "output_type": "stream",
     "text": [
      "/usr/local/lib/python3.10/dist-packages/backstrip/_backplot.py:127: UserWarning: The palette list has more values (8) than needed (3), which may not be intended.\n",
      "  g = sns.catplot(\n"
     ]
    },
    {
     "name": "stdout",
     "output_type": "stream",
     "text": [
      "teeplots/hue=hardware+orient=h+viz=backplot+x=speedup+y=experiment-design+ext=.pdf\n",
      "teeplots/hue=hardware+orient=h+viz=backplot+x=speedup+y=experiment-design+ext=.png\n"
     ]
    },
    {
     "data": {
      "image/png": "[encoded data removed]",
      "text/plain": [
       "<Figure size 481.25x200 with 1 Axes>"
      ]
     },
     "metadata": {},
     "output_type": "display_data"
    },
    {
     "data": {
      "text/plain": [
       "<seaborn.axisgrid.FacetGrid at 0x7fdb9a2ca740>"
      ]
     },
     "execution_count": 11,
     "metadata": {},
     "output_type": "execute_result"
    }
   ],
   "source": [
    "tp.tee(\n",
    "    backplot,\n",
    "    data=df_with_speedup.to_pandas(),\n",
    "    y=\"experiment design\",\n",
    "    x=\"speedup\",\n",
    "    hue=\"hardware\",\n",
    "    aspect=2,\n",
    "    height=2,\n",
    "    order=[\"50/50 poisson\", \"de novo poisson\"],\n",
    "    orient=\"h\",\n",
    "    log_scale=(True, False),\n",
    "    palette=sns.color_palette(\"Accent\"),\n",
    ")\n"
   ]
  },
  {
   "cell_type": "code",
   "execution_count": 12,
   "metadata": {
    "execution": {
     "iopub.execute_input": "2024-11-02T14:43:31.186441Z",
     "iopub.status.busy": "2024-11-02T14:43:31.186082Z",
     "iopub.status.idle": "2024-11-02T14:43:31.191020Z",
     "shell.execute_reply": "2024-11-02T14:43:31.190559Z"
    }
   },
   "outputs": [
    {
     "data": {
      "text/html": [
       "<div><style>\n",
       ".dataframe > thead > tr,\n",
       ".dataframe > tbody > tr {\n",
       "  text-align: right;\n",
       "  white-space: pre-wrap;\n",
       "}\n",
       "</style>\n",
       "<small>shape: (8, 4)</small><table border=\"1\" class=\"dataframe\"><thead><tr><th>hardware</th><th>experiment design</th><th>mean_speedup</th><th>std_speedup</th></tr><tr><td>str</td><td>str</td><td>f64</td><td>f64</td></tr></thead><tbody><tr><td>&quot;GPU&quot;</td><td>&quot;de novo poisson&quot;</td><td>378.091462</td><td>3.700527</td></tr><tr><td>&quot;CPU&quot;</td><td>&quot;de novo poisson&quot;</td><td>1.0</td><td>0.07131</td></tr><tr><td>&quot;WSE&quot;</td><td>&quot;de novo poisson&quot;</td><td>111091.201013</td><td>75.135898</td></tr><tr><td>&quot;GPU&quot;</td><td>&quot;50/50 poisson&quot;</td><td>392.275299</td><td>5.410857</td></tr><tr><td>&quot;CPU&quot;</td><td>&quot;50/50 poisson&quot;</td><td>1.0</td><td>0.070146</td></tr><tr><td>&quot;WSE&quot;</td><td>&quot;de novo site-explicit&quot;</td><td>null</td><td>null</td></tr><tr><td>&quot;WSE&quot;</td><td>&quot;50/50 poisson&quot;</td><td>112551.912107</td><td>4072.606743</td></tr><tr><td>&quot;WSE&quot;</td><td>&quot;50/50 site-explicit&quot;</td><td>null</td><td>null</td></tr></tbody></table></div>"
      ],
      "text/plain": [
       "shape: (8, 4)\n",
       "┌──────────┬───────────────────────┬───────────────┬─────────────┐\n",
       "│ hardware ┆ experiment design     ┆ mean_speedup  ┆ std_speedup │\n",
       "│ ---      ┆ ---                   ┆ ---           ┆ ---         │\n",
       "│ str      ┆ str                   ┆ f64           ┆ f64         │\n",
       "╞══════════╪═══════════════════════╪═══════════════╪═════════════╡\n",
       "│ GPU      ┆ de novo poisson       ┆ 378.091462    ┆ 3.700527    │\n",
       "│ CPU      ┆ de novo poisson       ┆ 1.0           ┆ 0.07131     │\n",
       "│ WSE      ┆ de novo poisson       ┆ 111091.201013 ┆ 75.135898   │\n",
       "│ GPU      ┆ 50/50 poisson         ┆ 392.275299    ┆ 5.410857    │\n",
       "│ CPU      ┆ 50/50 poisson         ┆ 1.0           ┆ 0.070146    │\n",
       "│ WSE      ┆ de novo site-explicit ┆ null          ┆ null        │\n",
       "│ WSE      ┆ 50/50 poisson         ┆ 112551.912107 ┆ 4072.606743 │\n",
       "│ WSE      ┆ 50/50 site-explicit   ┆ null          ┆ null        │\n",
       "└──────────┴───────────────────────┴───────────────┴─────────────┘"
      ]
     },
     "execution_count": 12,
     "metadata": {},
     "output_type": "execute_result"
    }
   ],
   "source": [
    "df_with_speedup.group_by(\"hardware\", \"experiment design\",).agg(\n",
    "    pl.col(\"speedup\").mean().alias(\"mean_speedup\"),\n",
    "    pl.col(\"speedup\").std().alias(\"std_speedup\"),\n",
    ")\n"
   ]
  }
 ],
 "metadata": {
  "kernelspec": {
   "display_name": "Python 3",
   "language": "python",
   "name": "python3"
  },
  "language_info": {
   "codemirror_mode": {
    "name": "ipython",
    "version": 3
   },
   "file_extension": ".py",
   "mimetype": "text/x-python",
   "name": "python",
   "nbconvert_exporter": "python",
   "pygments_lexer": "ipython3",
   "version": "3.10.12"
  }
 },
 "nbformat": 4,
 "nbformat_minor": 2
}
