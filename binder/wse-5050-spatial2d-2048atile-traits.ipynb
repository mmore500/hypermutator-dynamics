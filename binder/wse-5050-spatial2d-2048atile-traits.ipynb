{
 "cells": [
  {
   "cell_type": "code",
   "execution_count": null,
   "metadata": {},
   "outputs": [],
   "source": [
    "%load_ext watermark\n"
   ]
  },
  {
   "cell_type": "code",
   "execution_count": null,
   "metadata": {},
   "outputs": [],
   "source": [
    "import itertools as it\n",
    "\n",
    "from IPython.display import display\n",
    "import numpy as np\n",
    "import pandas as pd\n",
    "import polars as pl\n",
    "import seaborn as sns\n",
    "from teeplot import teeplot as tp\n",
    "\n",
    "from pylib.viz._get_nben_cmap import get_nben_cmap\n",
    "from pylib.viz._get_nben_hue_norm import get_nben_hue_norm\n",
    "from pylib.viz._size_fixation_areaplot import size_fixation_areaplot\n",
    "from pylib.viz._size_fixation_cliffplot import size_fixation_cliffplot\n",
    "from pylib.viz._size_fixation_heatmap import size_fixation_heatmap\n"
   ]
  },
  {
   "cell_type": "code",
   "execution_count": null,
   "metadata": {},
   "outputs": [],
   "source": [
    "%watermark -diwmuv -iv\n"
   ]
  },
  {
   "cell_type": "code",
   "execution_count": null,
   "metadata": {},
   "outputs": [],
   "source": [
    "teeplot_subdir = \"wse-5050-spatial2d-2048atile-traits\"\n",
    "teeplot_subdir\n"
   ]
  },
  {
   "cell_type": "markdown",
   "metadata": {},
   "source": [
    "## Prep Data\n"
   ]
  },
  {
   "cell_type": "code",
   "execution_count": null,
   "metadata": {},
   "outputs": [],
   "source": [
    "dfxs = pd.concat(\n",
    "    [\n",
    "        pd.read_parquet(\"https://osf.io/b7xzc/download\"),\n",
    "        pd.read_parquet(\"https://osf.io/mz7wt/download\"),\n",
    "        pd.read_parquet(\"https://osf.io/7r8hx/download\"),\n",
    "        pd.read_parquet(\"https://osf.io/369g8/download\"),\n",
    "        pd.read_parquet(\"https://osf.io/d29z6/download\"),\n",
    "        pd.read_parquet(\"https://osf.io/s6mwg/download\"),\n",
    "    ],\n",
    ")\n",
    "display(dfxs.describe()), display(dfxs.head()), display(dfxs.tail());\n"
   ]
  },
  {
   "cell_type": "code",
   "execution_count": null,
   "metadata": {},
   "outputs": [],
   "source": [
    "apn = dfxs[\"population size\"].min()  # agents per node\n",
    "apn\n"
   ]
  },
  {
   "cell_type": "markdown",
   "metadata": {},
   "source": [
    "## Size Fixation Curves\n"
   ]
  },
  {
   "cell_type": "code",
   "execution_count": null,
   "metadata": {},
   "outputs": [],
   "source": [
    "for errorbar in \"sd\", \"se\", \"ci\", None:\n",
    "    tp.tee(\n",
    "        sns.relplot,\n",
    "        data=dfxs,\n",
    "        x=\"population size\",\n",
    "        y=\"fixation probability\",\n",
    "        hue=\"genotype\",\n",
    "        hue_order=[\"normomutator\", \"hypermutator\"],\n",
    "        col=\"available beneficial mutations\",\n",
    "        style=\"genotype\",\n",
    "        style_order=[\"normomutator\", \"hypermutator\"],\n",
    "        aspect=1.5,\n",
    "        col_wrap=3,\n",
    "        errorbar=errorbar,\n",
    "        height=2,\n",
    "        kind=\"line\",\n",
    "        markers=True,\n",
    "        seed=1,\n",
    "        teeplot_outexclude=\"post\",\n",
    "        teeplot_subdir=teeplot_subdir,\n",
    "        teeplot_postprocess=f\"\"\"\n",
    "teed.set(xscale=\"log\", ylim=(-0.02, 1.02))\n",
    "teed.figure.suptitle(\"n={apn} agents per node\", x=0.63, y=1.02)\n",
    "teed.set_titles(col_template=\"{{col_var}} = {{col_name:.0f}}\")\n",
    "sns.move_legend(\n",
    "    teed,\n",
    "    \"lower center\",\n",
    "    bbox_to_anchor=(0.25, 0.97),\n",
    "    frameon=False,\n",
    "    ncol=2,\n",
    "    title=None,\n",
    ")\n",
    "\"\"\",\n",
    "    )\n"
   ]
  },
  {
   "cell_type": "code",
   "execution_count": null,
   "metadata": {},
   "outputs": [],
   "source": [
    "for errorbar in \"sd\", \"se\", \"ci\", None:\n",
    "    tp.tee(\n",
    "        sns.relplot,\n",
    "        data=dfxs[dfxs[\"genotype\"] == \"hypermutator\"],\n",
    "        x=\"population size\",\n",
    "        y=\"fixation probability\",\n",
    "        hue=\"available beneficial mutations\",\n",
    "        aspect=1.5,\n",
    "        height=3,\n",
    "        kind=\"line\",\n",
    "        errorbar=errorbar,\n",
    "        linewidth=2,\n",
    "        markers=True,\n",
    "        palette=get_nben_cmap(),\n",
    "        hue_norm=get_nben_hue_norm(),\n",
    "        seed=1,\n",
    "        teeplot_outexclude=\"post\",\n",
    "        teeplot_postprocess=f\"\"\"\n",
    "teed.set(xscale=\"log\", ylim=(-0.02, 1.02))\n",
    "teed.figure.suptitle(\"n={apn} agents per node\", x=0.63, y=1.02)\n",
    "teed.set_titles(col_template='{{col_var}} = {{col_name:.0f}}')\n",
    "\"\"\",\n",
    "        teeplot_subdir=teeplot_subdir,\n",
    "    )\n"
   ]
  },
  {
   "cell_type": "markdown",
   "metadata": {},
   "source": [
    "## Size Fixation Cliffplot\n"
   ]
  },
  {
   "cell_type": "code",
   "execution_count": null,
   "metadata": {},
   "outputs": [],
   "source": [
    "dfxs[\"available\\nbeneficial mutations\"] = dfxs[\n",
    "    \"available beneficial mutations\"\n",
    "]\n"
   ]
  },
  {
   "cell_type": "code",
   "execution_count": null,
   "metadata": {},
   "outputs": [],
   "source": [
    "for col_label, errorbar in it.product(\n",
    "    [\"\", None],\n",
    "    [\"ci\", None],\n",
    "):\n",
    "    tp.tee(\n",
    "        size_fixation_cliffplot,\n",
    "        fixprobs_df=dfxs[\n",
    "            # exclude non-4-scaled wafer-filling data\n",
    "            np.isclose(\n",
    "                np.mod(\n",
    "                    np.log(dfxs[\"population size\"] // apn) / np.log(4), 1.0\n",
    "                ),\n",
    "                0.0,\n",
    "            )\n",
    "        ].reset_index(drop=True),\n",
    "        x=\"fixation probability\",\n",
    "        y=\"available\\nbeneficial mutations\",\n",
    "        col=\"population size\",\n",
    "        hue=\"genotype\",\n",
    "        hue_order=[\"normomutator\", \"hypermutator\"],\n",
    "        col_label=col_label,\n",
    "        errorbar=errorbar,\n",
    "        ylim=(1, 4),\n",
    "        teeplot_subdir=teeplot_subdir,\n",
    "    )\n"
   ]
  },
  {
   "cell_type": "markdown",
   "metadata": {},
   "source": [
    "## Size Fixation Areaplot\n"
   ]
  },
  {
   "cell_type": "code",
   "execution_count": null,
   "metadata": {},
   "outputs": [],
   "source": [
    "for errorbar in \"sd\", \"se\", \"ci\", None:\n",
    "    tp.tee(\n",
    "        size_fixation_areaplot,\n",
    "        fixprobs_df=dfxs,\n",
    "        x=\"population size\",\n",
    "        y=\"fixation probability\",\n",
    "        hue=\"genotype\",\n",
    "        hue_order=[\"normomutator\", \"hypermutator\"],\n",
    "        col=\"available\\nbeneficial mutations\",\n",
    "        style=\"genotype\",\n",
    "        style_order=[\"normomutator\", \"hypermutator\"],\n",
    "        errorbar=errorbar,\n",
    "        height=2,\n",
    "        markers=True,\n",
    "        teeplot_outexclude=\"post\",\n",
    "        teeplot_subdir=teeplot_subdir,\n",
    "        teeplot_postprocess=f\"\"\"\n",
    "teed.figure.suptitle(\"n={apn} agents per node\", x=0.63, y=1.06)\n",
    "teed.set_titles(col_template=\"{{col_var}} = {{col_name:.0f}}\")\n",
    "sns.move_legend(\n",
    "    teed,\n",
    "    \"lower center\",\n",
    "    bbox_to_anchor=(0.25, 0.9),\n",
    "    frameon=False,\n",
    "    ncol=2,\n",
    "    title=None,\n",
    ")\n",
    "\"\"\",\n",
    "    )\n"
   ]
  },
  {
   "cell_type": "markdown",
   "metadata": {},
   "source": [
    "## Size Fixation Heatmap\n"
   ]
  },
  {
   "cell_type": "code",
   "execution_count": null,
   "metadata": {},
   "outputs": [],
   "source": [
    "tp.tee(\n",
    "    size_fixation_heatmap,\n",
    "    fixprobs_df=dfxs,\n",
    "    genotype=\"hypermutator\",\n",
    "    index=\"available beneficial mutations\",\n",
    "    on=\"population size\",\n",
    "    values=\"fixation probability\",\n",
    "    teeplot_subdir=teeplot_subdir,\n",
    ")\n"
   ]
  },
  {
   "cell_type": "markdown",
   "metadata": {},
   "source": [
    "## Quality Check: Number Replicates Available\n"
   ]
  },
  {
   "cell_type": "code",
   "execution_count": null,
   "metadata": {},
   "outputs": [],
   "source": [
    "categories = (\n",
    "    pl.DataFrame(dfxs)\n",
    "    .group_by(\n",
    "        \"population size\",\n",
    "    )\n",
    "    .first()[\"population size\"]\n",
    "    .sort()\n",
    "    .cast(pl.String)\n",
    "    .to_list()\n",
    ")\n",
    "categories\n"
   ]
  },
  {
   "cell_type": "code",
   "execution_count": null,
   "metadata": {},
   "outputs": [],
   "source": [
    "dfy = pl.DataFrame(dfxs).with_columns(\n",
    "    pl.col(\"population size\")\n",
    "    .cast(pl.String)\n",
    "    .cast(pl.Enum(categories))\n",
    "    .alias(\"population size cat\"),\n",
    ")\n",
    "display(dfy.describe()), display(dfy.head()), display(dfy.tail());\n"
   ]
  },
  {
   "cell_type": "code",
   "execution_count": null,
   "metadata": {},
   "outputs": [],
   "source": [
    "tp.tee(\n",
    "    sns.displot,\n",
    "    data=dfy.to_pandas(),\n",
    "    x=\"population size cat\",\n",
    "    hue=\"genotype\",\n",
    "    hue_order=[\"normomutator\", \"hypermutator\"],\n",
    "    col=\"available beneficial mutations\",\n",
    "    aspect=1.5,\n",
    "    col_wrap=3,\n",
    "    height=2,\n",
    "    kind=\"hist\",\n",
    "    multiple=\"dodge\",\n",
    "    teeplot_outexclude=\"post\",\n",
    "    teeplot_postprocess=f\"\"\"\n",
    "teed.set(yscale='log')\n",
    "teed.figure.suptitle(\"n={apn} agents per node\", x=0.63, y=1.02)\n",
    "teed.set_titles(col_template='{{col_var}} = {{col_name:.0f}}')\n",
    "for ax in teed.axes.flat:\n",
    "    for label in ax.get_xticklabels():\n",
    "        label.set_rotation(45)\n",
    "        label.set_ha(\"right\")\n",
    "sns.move_legend(\n",
    "    teed, \"lower center\",\n",
    "    bbox_to_anchor=(0.25, 0.97),\n",
    "    frameon=False,\n",
    "    ncol=2,\n",
    "    title=None,\n",
    ")\n",
    "\"\"\",\n",
    "    teeplot_subdir=teeplot_subdir,\n",
    ")\n"
   ]
  },
  {
   "cell_type": "markdown",
   "metadata": {},
   "source": [
    "## Quality Check: Has Reached Fixation?\n"
   ]
  },
  {
   "cell_type": "code",
   "execution_count": null,
   "metadata": {},
   "outputs": [],
   "source": [
    "dfxs_ = dfxs[dfxs[\"genotype\"] == \"hypermutator\"].copy().reset_index(drop=True)\n"
   ]
  },
  {
   "cell_type": "code",
   "execution_count": null,
   "metadata": {},
   "outputs": [],
   "source": [
    "dfxs_[\"unfixed\"] = (dfxs_[\"fixation probability\"] != 1.0) & (\n",
    "    dfxs_[\"fixation probability\"] > 0.001\n",
    ")\n",
    "any_unfixed = dfxs_[\"unfixed\"].any()\n",
    "any_unfixed\n"
   ]
  },
  {
   "cell_type": "code",
   "execution_count": null,
   "metadata": {},
   "outputs": [],
   "source": [
    "tp.tee(\n",
    "    sns.relplot,\n",
    "    data=dfxs_[dfxs_[\"unfixed\"]],\n",
    "    x=\"population size\",\n",
    "    y=\"fixation probability\",\n",
    "    hue=\"genotype\",\n",
    "    hue_order=[\"normomutator\", \"hypermutator\"],\n",
    "    col=[None, \"available beneficial mutations\"][int(any_unfixed)],\n",
    "    style=\"genotype\",\n",
    "    style_order=[\"normomutator\", \"hypermutator\"],\n",
    "    aspect=1.5,\n",
    "    col_wrap=[None, 3][int(any_unfixed)],\n",
    "    height=2,\n",
    "    kind=\"scatter\",\n",
    "    markers=bool(any_unfixed),\n",
    "    seed=1,\n",
    "    teeplot_outexclude=\"post\",\n",
    "    teeplot_postprocess=f\"\"\"\n",
    "teed.set(xscale='log', ylim=(-0.02, 1.02))\n",
    "teed.figure.suptitle(\"n={apn} agents per node\", x=0.63, y=1.02)\n",
    "teed.set_titles(col_template='{{col_var}} = {{col_name:.0f}}')\n",
    "try:\n",
    "    sns.move_legend(\n",
    "        teed,\n",
    "        \"lower center\",\n",
    "        bbox_to_anchor=(0.25, 0.97),\n",
    "        frameon=False,\n",
    "        ncol=2,\n",
    "        title=None,\n",
    "    )\n",
    "except ValueError:\n",
    "    pass\n",
    "\"\"\",\n",
    "    teeplot_subdir=teeplot_subdir,\n",
    ")\n"
   ]
  },
  {
   "cell_type": "code",
   "execution_count": null,
   "metadata": {},
   "outputs": [],
   "source": [
    "tp.tee(\n",
    "    sns.displot,\n",
    "    data=dfxs_.reset_index(drop=True),\n",
    "    x=\"population size\",\n",
    "    hue=\"unfixed\",\n",
    "    col=\"available beneficial mutations\",\n",
    "    col_wrap=3,\n",
    "    aspect=1.5,\n",
    "    height=2,\n",
    "    multiple=\"fill\",\n",
    "    bins=dfxs_[\"population size\"].nunique(),\n",
    "    log_scale=(True, False),\n",
    "    teeplot_outexclude=\"post\",\n",
    "    teeplot_postprocess=f\"\"\"\n",
    "teed.figure.suptitle(\"n={apn} agents per node\", x=0.63, y=1.02)\n",
    "teed.set_titles(col_template='{{col_var}} = {{col_name:.0f}}')\n",
    "sns.move_legend(\n",
    "    teed,\n",
    "    \"lower center\",\n",
    "    bbox_to_anchor=(0.25, 0.97),\n",
    "    frameon=False,\n",
    "    ncol=2,\n",
    "    title=None,\n",
    ")\n",
    "\"\"\",\n",
    "    teeplot_subdir=teeplot_subdir,\n",
    ")\n"
   ]
  }
 ],
 "metadata": {
  "kernelspec": {
   "display_name": "Python 3",
   "language": "python",
   "name": "python3"
  },
  "language_info": {
   "codemirror_mode": {
    "name": "ipython",
    "version": 3
   },
   "file_extension": ".py",
   "mimetype": "text/x-python",
   "name": "python",
   "nbconvert_exporter": "python",
   "pygments_lexer": "ipython3"
  }
 },
 "nbformat": 4,
 "nbformat_minor": 2
}
