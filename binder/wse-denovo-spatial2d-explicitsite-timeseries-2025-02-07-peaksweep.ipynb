{
 "cells": [
  {
   "cell_type": "code",
   "execution_count": 1,
   "metadata": {
    "execution": {
     "iopub.execute_input": "2025-06-08T01:10:38.847555Z",
     "iopub.status.busy": "2025-06-08T01:10:38.847132Z",
     "iopub.status.idle": "2025-06-08T01:10:38.860848Z",
     "shell.execute_reply": "2025-06-08T01:10:38.860344Z"
    }
   },
   "outputs": [],
   "source": [
    "%load_ext watermark\n"
   ]
  },
  {
   "cell_type": "code",
   "execution_count": 2,
   "metadata": {
    "execution": {
     "iopub.execute_input": "2025-06-08T01:10:38.862638Z",
     "iopub.status.busy": "2025-06-08T01:10:38.862467Z",
     "iopub.status.idle": "2025-06-08T01:10:41.755995Z",
     "shell.execute_reply": "2025-06-08T01:10:41.755353Z"
    }
   },
   "outputs": [],
   "source": [
    "import os\n",
    "\n",
    "import downstream\n",
    "import imageio\n",
    "from IPython.display import display\n",
    "import numpy as np\n",
    "import pandas as pd\n",
    "import polars as pl\n",
    "import seaborn as sns\n",
    "from teeplot import teeplot as tp\n",
    "from tqdm import tqdm\n",
    "\n",
    "from pylib.munge._addend_groups import addend_groups\n",
    "from pylib.munge._union_upsample import union_upsample\n",
    "from pylib.munge._squeeze import squeeze_int\n"
   ]
  },
  {
   "cell_type": "code",
   "execution_count": 3,
   "metadata": {
    "execution": {
     "iopub.execute_input": "2025-06-08T01:10:41.758179Z",
     "iopub.status.busy": "2025-06-08T01:10:41.757913Z",
     "iopub.status.idle": "2025-06-08T01:10:41.775542Z",
     "shell.execute_reply": "2025-06-08T01:10:41.774973Z"
    }
   },
   "outputs": [
    {
     "name": "stdout",
     "output_type": "stream",
     "text": [
      "Last updated: 2025-06-08T01:10:41.759250+00:00\n",
      "\n",
      "Python implementation: CPython\n",
      "Python version       : 3.10.12\n",
      "IPython version      : 7.31.1\n",
      "\n",
      "Compiler    : GCC 11.4.0\n",
      "OS          : Linux\n",
      "Release     : 6.8.0-1027-azure\n",
      "Machine     : x86_64\n",
      "Processor   : x86_64\n",
      "CPU cores   : 4\n",
      "Architecture: 64bit\n",
      "\n",
      "imageio   : 2.36.1\n",
      "teeplot   : 1.2.0\n",
      "polars    : 1.9.0\n",
      "seaborn   : 0.13.2\n",
      "downstream: 1.6.2\n",
      "pandas    : 2.2.3\n",
      "numpy     : 2.1.2\n",
      "\n",
      "Watermark: 2.4.3\n",
      "\n"
     ]
    }
   ],
   "source": [
    "%watermark -diwmuv -iv\n"
   ]
  },
  {
   "cell_type": "code",
   "execution_count": 4,
   "metadata": {
    "execution": {
     "iopub.execute_input": "2025-06-08T01:10:41.803212Z",
     "iopub.status.busy": "2025-06-08T01:10:41.802966Z",
     "iopub.status.idle": "2025-06-08T01:10:41.808936Z",
     "shell.execute_reply": "2025-06-08T01:10:41.808306Z"
    }
   },
   "outputs": [
    {
     "data": {
      "text/plain": [
       "'wse-denovo-spatial2d-explicitsite-timeseries-2025-02-07-peaksweep'"
      ]
     },
     "execution_count": 4,
     "metadata": {},
     "output_type": "execute_result"
    }
   ],
   "source": [
    "teeplot_subdir = \"wse-denovo-spatial2d-explicitsite-timeseries-2025-02-07-peaksweep\"\n",
    "teeplot_subdir\n"
   ]
  },
  {
   "cell_type": "markdown",
   "metadata": {},
   "source": [
    "## Prep Data\n"
   ]
  },
  {
   "cell_type": "code",
   "execution_count": 5,
   "metadata": {
    "execution": {
     "iopub.execute_input": "2025-06-08T01:10:41.810801Z",
     "iopub.status.busy": "2025-06-08T01:10:41.810456Z",
     "iopub.status.idle": "2025-06-08T01:10:49.040322Z",
     "shell.execute_reply": "2025-06-08T01:10:49.039759Z"
    }
   },
   "outputs": [
    {
     "data": {
      "text/html": [
       "<div><style>\n",
       ".dataframe > thead > tr,\n",
       ".dataframe > tbody > tr {\n",
       "  text-align: right;\n",
       "  white-space: pre-wrap;\n",
       "}\n",
       "</style>\n",
       "<small>shape: (9, 47)</small><table border=\"1\" class=\"dataframe\"><thead><tr><th>statistic</th><th>dstream_data_id</th><th>data_hex</th><th>tile</th><th>row</th><th>col</th><th>genomeFlavor</th><th>globalSeed</th><th>nCol</th><th>nRow</th><th>nWav</th><th>nTrait</th><th>nCycle</th><th>nColSubgrid</th><th>nRowSubgrid</th><th>nonBlock</th><th>tilePopSize</th><th>tournSize</th><th>msec</th><th>tsc</th><th>replicate</th><th>netbencount_hexoffset</th><th>netbencount_hexwidth</th><th>mutator_hexoffset</th><th>mutator_hexwidth</th><th>delcount_hexoffset</th><th>delcount_hexwidth</th><th>counter_hexoffset</th><th>counter_hexwidth</th><th>snapshot_netbencount_hexoffset</th><th>snapshot_netbencount_hexwidth</th><th>snapshot_counter_hexoffset</th><th>snapshot_counter_hexwidth</th><th>snapshot_counter_dilation</th><th>_compconf_dummy</th><th>CEREBRASLIB_HYPERMUT_NUM_AVAIL_BEN_MUTS</th><th>CEREBRASLIB_TRAITLOGGER_NUM_BITS</th><th>CEREBRASLIB_TRAITLOGGER_DSTREAM_ALGO_NAME</th><th>CEREBRASLIB_TRAITLOGGER_DILATION</th><th>ASYNC_GA_GENOME_FLAVOR</th><th>dstream_algo</th><th>dstream_storage_bitoffset</th><th>dstream_storage_bitwidth</th><th>dstream_S</th><th>dstream_T_bitoffset</th><th>dstream_T_bitwidth</th><th>trait_value</th></tr><tr><td>str</td><td>f64</td><td>str</td><td>f64</td><td>f64</td><td>f64</td><td>str</td><td>f64</td><td>f64</td><td>f64</td><td>f64</td><td>f64</td><td>f64</td><td>f64</td><td>f64</td><td>f64</td><td>f64</td><td>f64</td><td>f64</td><td>f64</td><td>str</td><td>f64</td><td>f64</td><td>f64</td><td>f64</td><td>f64</td><td>f64</td><td>f64</td><td>f64</td><td>f64</td><td>f64</td><td>f64</td><td>f64</td><td>f64</td><td>f64</td><td>f64</td><td>f64</td><td>str</td><td>f64</td><td>str</td><td>str</td><td>f64</td><td>f64</td><td>f64</td><td>f64</td><td>f64</td><td>f64</td></tr></thead><tbody><tr><td>&quot;count&quot;</td><td>1.491e7</td><td>&quot;14910000&quot;</td><td>1.491e7</td><td>1.491e7</td><td>1.491e7</td><td>&quot;14910000&quot;</td><td>1.491e7</td><td>1.491e7</td><td>1.491e7</td><td>1.491e7</td><td>1.491e7</td><td>1.491e7</td><td>1.491e7</td><td>1.491e7</td><td>1.491e7</td><td>1.491e7</td><td>1.491e7</td><td>1.491e7</td><td>1.491e7</td><td>&quot;14910000&quot;</td><td>1.491e7</td><td>1.491e7</td><td>1.491e7</td><td>1.491e7</td><td>1.491e7</td><td>1.491e7</td><td>1.491e7</td><td>1.491e7</td><td>1.491e7</td><td>1.491e7</td><td>1.491e7</td><td>1.491e7</td><td>1.491e7</td><td>1.491e7</td><td>1.491e7</td><td>1.491e7</td><td>&quot;14910000&quot;</td><td>1.491e7</td><td>&quot;14910000&quot;</td><td>&quot;14910000&quot;</td><td>1.491e7</td><td>1.491e7</td><td>1.491e7</td><td>1.491e7</td><td>1.491e7</td><td>1.491e7</td></tr><tr><td>&quot;null_count&quot;</td><td>0.0</td><td>&quot;0&quot;</td><td>0.0</td><td>0.0</td><td>0.0</td><td>&quot;0&quot;</td><td>0.0</td><td>0.0</td><td>0.0</td><td>0.0</td><td>0.0</td><td>0.0</td><td>0.0</td><td>0.0</td><td>0.0</td><td>0.0</td><td>0.0</td><td>0.0</td><td>0.0</td><td>&quot;0&quot;</td><td>0.0</td><td>0.0</td><td>0.0</td><td>0.0</td><td>0.0</td><td>0.0</td><td>0.0</td><td>0.0</td><td>0.0</td><td>0.0</td><td>0.0</td><td>0.0</td><td>0.0</td><td>0.0</td><td>0.0</td><td>0.0</td><td>&quot;0&quot;</td><td>0.0</td><td>&quot;0&quot;</td><td>&quot;0&quot;</td><td>0.0</td><td>0.0</td><td>0.0</td><td>0.0</td><td>0.0</td><td>0.0</td></tr><tr><td>&quot;mean&quot;</td><td>7454999.5</td><td>null</td><td>372749.5</td><td>496.5</td><td>374.5</td><td>null</td><td>10.5</td><td>750.0</td><td>994.0</td><td>3.0</td><td>2.0</td><td>300000.0</td><td>0.0</td><td>0.0</td><td>0.0</td><td>256.0</td><td>1.1</td><td>0.0</td><td>0.0</td><td>null</td><td>0.0</td><td>4.0</td><td>4.0</td><td>2.0</td><td>6.0</td><td>2.0</td><td>8.0</td><td>8.0</td><td>16.0</td><td>4.0</td><td>20.0</td><td>4.0</td><td>8.0</td><td>42.0</td><td>6.0</td><td>256.0</td><td>null</td><td>8.0</td><td>null</td><td>null</td><td>0.0</td><td>256.0</td><td>256.0</td><td>256.0</td><td>32.0</td><td>0.0</td></tr><tr><td>&quot;std&quot;</td><td>4.3041e6</td><td>null</td><td>215207.320057</td><td>286.942948</td><td>216.506166</td><td>null</td><td>5.766281</td><td>0.0</td><td>0.0</td><td>0.0</td><td>0.0</td><td>0.0</td><td>0.0</td><td>0.0</td><td>null</td><td>0.0</td><td>0.0</td><td>0.0</td><td>0.0</td><td>null</td><td>0.0</td><td>0.0</td><td>0.0</td><td>0.0</td><td>0.0</td><td>0.0</td><td>0.0</td><td>0.0</td><td>0.0</td><td>0.0</td><td>0.0</td><td>0.0</td><td>0.0</td><td>0.0</td><td>2.828427</td><td>0.0</td><td>null</td><td>0.0</td><td>null</td><td>null</td><td>0.0</td><td>0.0</td><td>0.0</td><td>0.0</td><td>0.0</td><td>0.0</td></tr><tr><td>&quot;min&quot;</td><td>0.0</td><td>&quot;000000000000000000000000000000…</td><td>0.0</td><td>0.0</td><td>0.0</td><td>null</td><td>1.0</td><td>750.0</td><td>994.0</td><td>3.0</td><td>2.0</td><td>300000.0</td><td>0.0</td><td>0.0</td><td>0.0</td><td>256.0</td><td>1.1</td><td>0.0</td><td>0.0</td><td>null</td><td>0.0</td><td>4.0</td><td>4.0</td><td>2.0</td><td>6.0</td><td>2.0</td><td>8.0</td><td>8.0</td><td>16.0</td><td>4.0</td><td>20.0</td><td>4.0</td><td>8.0</td><td>42.0</td><td>2.0</td><td>256.0</td><td>null</td><td>8.0</td><td>null</td><td>null</td><td>0.0</td><td>256.0</td><td>256.0</td><td>256.0</td><td>32.0</td><td>0.0</td></tr><tr><td>&quot;25%&quot;</td><td>3.7275e6</td><td>null</td><td>186375.0</td><td>248.0</td><td>187.0</td><td>null</td><td>6.0</td><td>750.0</td><td>994.0</td><td>3.0</td><td>2.0</td><td>300000.0</td><td>0.0</td><td>0.0</td><td>null</td><td>256.0</td><td>1.1</td><td>0.0</td><td>0.0</td><td>null</td><td>0.0</td><td>4.0</td><td>4.0</td><td>2.0</td><td>6.0</td><td>2.0</td><td>8.0</td><td>8.0</td><td>16.0</td><td>4.0</td><td>20.0</td><td>4.0</td><td>8.0</td><td>42.0</td><td>4.0</td><td>256.0</td><td>null</td><td>8.0</td><td>null</td><td>null</td><td>0.0</td><td>256.0</td><td>256.0</td><td>256.0</td><td>32.0</td><td>0.0</td></tr><tr><td>&quot;50%&quot;</td><td>7.455e6</td><td>null</td><td>372750.0</td><td>497.0</td><td>375.0</td><td>null</td><td>11.0</td><td>750.0</td><td>994.0</td><td>3.0</td><td>2.0</td><td>300000.0</td><td>0.0</td><td>0.0</td><td>null</td><td>256.0</td><td>1.1</td><td>0.0</td><td>0.0</td><td>null</td><td>0.0</td><td>4.0</td><td>4.0</td><td>2.0</td><td>6.0</td><td>2.0</td><td>8.0</td><td>8.0</td><td>16.0</td><td>4.0</td><td>20.0</td><td>4.0</td><td>8.0</td><td>42.0</td><td>6.0</td><td>256.0</td><td>null</td><td>8.0</td><td>null</td><td>null</td><td>0.0</td><td>256.0</td><td>256.0</td><td>256.0</td><td>32.0</td><td>0.0</td></tr><tr><td>&quot;75%&quot;</td><td>1.1182499e7</td><td>null</td><td>559124.0</td><td>745.0</td><td>562.0</td><td>null</td><td>15.0</td><td>750.0</td><td>994.0</td><td>3.0</td><td>2.0</td><td>300000.0</td><td>0.0</td><td>0.0</td><td>null</td><td>256.0</td><td>1.1</td><td>0.0</td><td>0.0</td><td>null</td><td>0.0</td><td>4.0</td><td>4.0</td><td>2.0</td><td>6.0</td><td>2.0</td><td>8.0</td><td>8.0</td><td>16.0</td><td>4.0</td><td>20.0</td><td>4.0</td><td>8.0</td><td>42.0</td><td>8.0</td><td>256.0</td><td>null</td><td>8.0</td><td>null</td><td>null</td><td>0.0</td><td>256.0</td><td>256.0</td><td>256.0</td><td>32.0</td><td>0.0</td></tr><tr><td>&quot;max&quot;</td><td>1.4909999e7</td><td>&quot;ffffffffffffffffffffffffffffff…</td><td>745499.0</td><td>993.0</td><td>749.0</td><td>null</td><td>20.0</td><td>750.0</td><td>994.0</td><td>3.0</td><td>2.0</td><td>300000.0</td><td>0.0</td><td>0.0</td><td>0.0</td><td>256.0</td><td>1.1</td><td>0.0</td><td>0.0</td><td>null</td><td>0.0</td><td>4.0</td><td>4.0</td><td>2.0</td><td>6.0</td><td>2.0</td><td>8.0</td><td>8.0</td><td>16.0</td><td>4.0</td><td>20.0</td><td>4.0</td><td>8.0</td><td>42.0</td><td>10.0</td><td>256.0</td><td>null</td><td>8.0</td><td>null</td><td>null</td><td>0.0</td><td>256.0</td><td>256.0</td><td>256.0</td><td>32.0</td><td>0.0</td></tr></tbody></table></div>"
      ],
      "text/plain": [
       "shape: (9, 47)\n",
       "┌───────────┬───────────┬───────────┬───────────┬───┬───────────┬───────────┬───────────┬──────────┐\n",
       "│ statistic ┆ dstream_d ┆ data_hex  ┆ tile      ┆ … ┆ dstream_S ┆ dstream_T ┆ dstream_T ┆ trait_va │\n",
       "│ ---       ┆ ata_id    ┆ ---       ┆ ---       ┆   ┆ ---       ┆ _bitoffse ┆ _bitwidth ┆ lue      │\n",
       "│ str       ┆ ---       ┆ str       ┆ f64       ┆   ┆ f64       ┆ t         ┆ ---       ┆ ---      │\n",
       "│           ┆ f64       ┆           ┆           ┆   ┆           ┆ ---       ┆ f64       ┆ f64      │\n",
       "│           ┆           ┆           ┆           ┆   ┆           ┆ f64       ┆           ┆          │\n",
       "╞═══════════╪═══════════╪═══════════╪═══════════╪═══╪═══════════╪═══════════╪═══════════╪══════════╡\n",
       "│ count     ┆ 1.491e7   ┆ 14910000  ┆ 1.491e7   ┆ … ┆ 1.491e7   ┆ 1.491e7   ┆ 1.491e7   ┆ 1.491e7  │\n",
       "│ null_coun ┆ 0.0       ┆ 0         ┆ 0.0       ┆ … ┆ 0.0       ┆ 0.0       ┆ 0.0       ┆ 0.0      │\n",
       "│ t         ┆           ┆           ┆           ┆   ┆           ┆           ┆           ┆          │\n",
       "│ mean      ┆ 7454999.5 ┆ null      ┆ 372749.5  ┆ … ┆ 256.0     ┆ 256.0     ┆ 32.0      ┆ 0.0      │\n",
       "│ std       ┆ 4.3041e6  ┆ null      ┆ 215207.32 ┆ … ┆ 0.0       ┆ 0.0       ┆ 0.0       ┆ 0.0      │\n",
       "│           ┆           ┆           ┆ 0057      ┆   ┆           ┆           ┆           ┆          │\n",
       "│ min       ┆ 0.0       ┆ 000000000 ┆ 0.0       ┆ … ┆ 256.0     ┆ 256.0     ┆ 32.0      ┆ 0.0      │\n",
       "│           ┆           ┆ 000000000 ┆           ┆   ┆           ┆           ┆           ┆          │\n",
       "│           ┆           ┆ 000000000 ┆           ┆   ┆           ┆           ┆           ┆          │\n",
       "│           ┆           ┆ 000…      ┆           ┆   ┆           ┆           ┆           ┆          │\n",
       "│ 25%       ┆ 3.7275e6  ┆ null      ┆ 186375.0  ┆ … ┆ 256.0     ┆ 256.0     ┆ 32.0      ┆ 0.0      │\n",
       "│ 50%       ┆ 7.455e6   ┆ null      ┆ 372750.0  ┆ … ┆ 256.0     ┆ 256.0     ┆ 32.0      ┆ 0.0      │\n",
       "│ 75%       ┆ 1.1182499 ┆ null      ┆ 559124.0  ┆ … ┆ 256.0     ┆ 256.0     ┆ 32.0      ┆ 0.0      │\n",
       "│           ┆ e7        ┆           ┆           ┆   ┆           ┆           ┆           ┆          │\n",
       "│ max       ┆ 1.4909999 ┆ fffffffff ┆ 745499.0  ┆ … ┆ 256.0     ┆ 256.0     ┆ 32.0      ┆ 0.0      │\n",
       "│           ┆ e7        ┆ fffffffff ┆           ┆   ┆           ┆           ┆           ┆          │\n",
       "│           ┆           ┆ fffffffff ┆           ┆   ┆           ┆           ┆           ┆          │\n",
       "│           ┆           ┆ fff…      ┆           ┆   ┆           ┆           ┆           ┆          │\n",
       "└───────────┴───────────┴───────────┴───────────┴───┴───────────┴───────────┴───────────┴──────────┘"
      ]
     },
     "metadata": {},
     "output_type": "display_data"
    },
    {
     "data": {
      "text/html": [
       "<div><style>\n",
       ".dataframe > thead > tr,\n",
       ".dataframe > tbody > tr {\n",
       "  text-align: right;\n",
       "  white-space: pre-wrap;\n",
       "}\n",
       "</style>\n",
       "<small>shape: (5, 46)</small><table border=\"1\" class=\"dataframe\"><thead><tr><th>dstream_data_id</th><th>data_hex</th><th>tile</th><th>row</th><th>col</th><th>genomeFlavor</th><th>globalSeed</th><th>nCol</th><th>nRow</th><th>nWav</th><th>nTrait</th><th>nCycle</th><th>nColSubgrid</th><th>nRowSubgrid</th><th>nonBlock</th><th>tilePopSize</th><th>tournSize</th><th>msec</th><th>tsc</th><th>replicate</th><th>netbencount_hexoffset</th><th>netbencount_hexwidth</th><th>mutator_hexoffset</th><th>mutator_hexwidth</th><th>delcount_hexoffset</th><th>delcount_hexwidth</th><th>counter_hexoffset</th><th>counter_hexwidth</th><th>snapshot_netbencount_hexoffset</th><th>snapshot_netbencount_hexwidth</th><th>snapshot_counter_hexoffset</th><th>snapshot_counter_hexwidth</th><th>snapshot_counter_dilation</th><th>_compconf_dummy</th><th>CEREBRASLIB_HYPERMUT_NUM_AVAIL_BEN_MUTS</th><th>CEREBRASLIB_TRAITLOGGER_NUM_BITS</th><th>CEREBRASLIB_TRAITLOGGER_DSTREAM_ALGO_NAME</th><th>CEREBRASLIB_TRAITLOGGER_DILATION</th><th>ASYNC_GA_GENOME_FLAVOR</th><th>dstream_algo</th><th>dstream_storage_bitoffset</th><th>dstream_storage_bitwidth</th><th>dstream_S</th><th>dstream_T_bitoffset</th><th>dstream_T_bitwidth</th><th>trait_value</th></tr><tr><td>u32</td><td>str</td><td>u32</td><td>u16</td><td>u16</td><td>cat</td><td>u32</td><td>u16</td><td>u16</td><td>u8</td><td>u8</td><td>u32</td><td>u16</td><td>u16</td><td>bool</td><td>u16</td><td>f32</td><td>f32</td><td>u64</td><td>cat</td><td>u8</td><td>u8</td><td>u8</td><td>u8</td><td>u8</td><td>u8</td><td>u8</td><td>u8</td><td>u8</td><td>u8</td><td>u8</td><td>u8</td><td>u8</td><td>u32</td><td>i16</td><td>u32</td><td>cat</td><td>u32</td><td>cat</td><td>cat</td><td>u16</td><td>u16</td><td>u16</td><td>u16</td><td>u16</td><td>u16</td></tr></thead><tbody><tr><td>0</td><td>&quot;ffffffffffffffffffffffffffffff…</td><td>0</td><td>0</td><td>0</td><td>&quot;genome_hypermutator_cappedxl_d…</td><td>17</td><td>750</td><td>994</td><td>3</td><td>2</td><td>300000</td><td>0</td><td>0</td><td>false</td><td>256</td><td>1.1</td><td>0.0</td><td>0</td><td>&quot;a7a99800-b303-43a6-8379-5005be…</td><td>0</td><td>4</td><td>4</td><td>2</td><td>6</td><td>2</td><td>8</td><td>8</td><td>16</td><td>4</td><td>20</td><td>4</td><td>8</td><td>42</td><td>10</td><td>256</td><td>&quot;hybrid_0_steady_1_stretched_2_…</td><td>8</td><td>&quot;genome_hypermutator_cappedxl_d…</td><td>&quot;dstream.hybrid_0_steady_1_stre…</td><td>0</td><td>256</td><td>256</td><td>256</td><td>32</td><td>0</td></tr><tr><td>1</td><td>&quot;ffffffffffffffffffffffffffffff…</td><td>1</td><td>0</td><td>1</td><td>&quot;genome_hypermutator_cappedxl_d…</td><td>17</td><td>750</td><td>994</td><td>3</td><td>2</td><td>300000</td><td>0</td><td>0</td><td>false</td><td>256</td><td>1.1</td><td>0.0</td><td>0</td><td>&quot;a7a99800-b303-43a6-8379-5005be…</td><td>0</td><td>4</td><td>4</td><td>2</td><td>6</td><td>2</td><td>8</td><td>8</td><td>16</td><td>4</td><td>20</td><td>4</td><td>8</td><td>42</td><td>10</td><td>256</td><td>&quot;hybrid_0_steady_1_stretched_2_…</td><td>8</td><td>&quot;genome_hypermutator_cappedxl_d…</td><td>&quot;dstream.hybrid_0_steady_1_stre…</td><td>0</td><td>256</td><td>256</td><td>256</td><td>32</td><td>0</td></tr><tr><td>2</td><td>&quot;ffffffffffffffffffffffffffffff…</td><td>2</td><td>0</td><td>2</td><td>&quot;genome_hypermutator_cappedxl_d…</td><td>17</td><td>750</td><td>994</td><td>3</td><td>2</td><td>300000</td><td>0</td><td>0</td><td>false</td><td>256</td><td>1.1</td><td>0.0</td><td>0</td><td>&quot;a7a99800-b303-43a6-8379-5005be…</td><td>0</td><td>4</td><td>4</td><td>2</td><td>6</td><td>2</td><td>8</td><td>8</td><td>16</td><td>4</td><td>20</td><td>4</td><td>8</td><td>42</td><td>10</td><td>256</td><td>&quot;hybrid_0_steady_1_stretched_2_…</td><td>8</td><td>&quot;genome_hypermutator_cappedxl_d…</td><td>&quot;dstream.hybrid_0_steady_1_stre…</td><td>0</td><td>256</td><td>256</td><td>256</td><td>32</td><td>0</td></tr><tr><td>3</td><td>&quot;ffffffffffffffffffffffffffffff…</td><td>3</td><td>0</td><td>3</td><td>&quot;genome_hypermutator_cappedxl_d…</td><td>17</td><td>750</td><td>994</td><td>3</td><td>2</td><td>300000</td><td>0</td><td>0</td><td>false</td><td>256</td><td>1.1</td><td>0.0</td><td>0</td><td>&quot;a7a99800-b303-43a6-8379-5005be…</td><td>0</td><td>4</td><td>4</td><td>2</td><td>6</td><td>2</td><td>8</td><td>8</td><td>16</td><td>4</td><td>20</td><td>4</td><td>8</td><td>42</td><td>10</td><td>256</td><td>&quot;hybrid_0_steady_1_stretched_2_…</td><td>8</td><td>&quot;genome_hypermutator_cappedxl_d…</td><td>&quot;dstream.hybrid_0_steady_1_stre…</td><td>0</td><td>256</td><td>256</td><td>256</td><td>32</td><td>0</td></tr><tr><td>4</td><td>&quot;ffffffffffffffffffffffffffffff…</td><td>4</td><td>0</td><td>4</td><td>&quot;genome_hypermutator_cappedxl_d…</td><td>17</td><td>750</td><td>994</td><td>3</td><td>2</td><td>300000</td><td>0</td><td>0</td><td>false</td><td>256</td><td>1.1</td><td>0.0</td><td>0</td><td>&quot;a7a99800-b303-43a6-8379-5005be…</td><td>0</td><td>4</td><td>4</td><td>2</td><td>6</td><td>2</td><td>8</td><td>8</td><td>16</td><td>4</td><td>20</td><td>4</td><td>8</td><td>42</td><td>10</td><td>256</td><td>&quot;hybrid_0_steady_1_stretched_2_…</td><td>8</td><td>&quot;genome_hypermutator_cappedxl_d…</td><td>&quot;dstream.hybrid_0_steady_1_stre…</td><td>0</td><td>256</td><td>256</td><td>256</td><td>32</td><td>0</td></tr></tbody></table></div>"
      ],
      "text/plain": [
       "shape: (5, 46)\n",
       "┌─────────────┬─────────────┬──────┬─────┬───┬───────────┬─────────────┬─────────────┬─────────────┐\n",
       "│ dstream_dat ┆ data_hex    ┆ tile ┆ row ┆ … ┆ dstream_S ┆ dstream_T_b ┆ dstream_T_b ┆ trait_value │\n",
       "│ a_id        ┆ ---         ┆ ---  ┆ --- ┆   ┆ ---       ┆ itoffset    ┆ itwidth     ┆ ---         │\n",
       "│ ---         ┆ str         ┆ u32  ┆ u16 ┆   ┆ u16       ┆ ---         ┆ ---         ┆ u16         │\n",
       "│ u32         ┆             ┆      ┆     ┆   ┆           ┆ u16         ┆ u16         ┆             │\n",
       "╞═════════════╪═════════════╪══════╪═════╪═══╪═══════════╪═════════════╪═════════════╪═════════════╡\n",
       "│ 0           ┆ fffffffffff ┆ 0    ┆ 0   ┆ … ┆ 256       ┆ 256         ┆ 32          ┆ 0           │\n",
       "│             ┆ fffffffffff ┆      ┆     ┆   ┆           ┆             ┆             ┆             │\n",
       "│             ┆ ffffffff…   ┆      ┆     ┆   ┆           ┆             ┆             ┆             │\n",
       "│ 1           ┆ fffffffffff ┆ 1    ┆ 0   ┆ … ┆ 256       ┆ 256         ┆ 32          ┆ 0           │\n",
       "│             ┆ fffffffffff ┆      ┆     ┆   ┆           ┆             ┆             ┆             │\n",
       "│             ┆ ffffffff…   ┆      ┆     ┆   ┆           ┆             ┆             ┆             │\n",
       "│ 2           ┆ fffffffffff ┆ 2    ┆ 0   ┆ … ┆ 256       ┆ 256         ┆ 32          ┆ 0           │\n",
       "│             ┆ fffffffffff ┆      ┆     ┆   ┆           ┆             ┆             ┆             │\n",
       "│             ┆ ffffffff…   ┆      ┆     ┆   ┆           ┆             ┆             ┆             │\n",
       "│ 3           ┆ fffffffffff ┆ 3    ┆ 0   ┆ … ┆ 256       ┆ 256         ┆ 32          ┆ 0           │\n",
       "│             ┆ fffffffffff ┆      ┆     ┆   ┆           ┆             ┆             ┆             │\n",
       "│             ┆ ffffffff…   ┆      ┆     ┆   ┆           ┆             ┆             ┆             │\n",
       "│ 4           ┆ fffffffffff ┆ 4    ┆ 0   ┆ … ┆ 256       ┆ 256         ┆ 32          ┆ 0           │\n",
       "│             ┆ fffffffffff ┆      ┆     ┆   ┆           ┆             ┆             ┆             │\n",
       "│             ┆ ffffffff…   ┆      ┆     ┆   ┆           ┆             ┆             ┆             │\n",
       "└─────────────┴─────────────┴──────┴─────┴───┴───────────┴─────────────┴─────────────┴─────────────┘"
      ]
     },
     "metadata": {},
     "output_type": "display_data"
    },
    {
     "data": {
      "text/html": [
       "<div><style>\n",
       ".dataframe > thead > tr,\n",
       ".dataframe > tbody > tr {\n",
       "  text-align: right;\n",
       "  white-space: pre-wrap;\n",
       "}\n",
       "</style>\n",
       "<small>shape: (5, 46)</small><table border=\"1\" class=\"dataframe\"><thead><tr><th>dstream_data_id</th><th>data_hex</th><th>tile</th><th>row</th><th>col</th><th>genomeFlavor</th><th>globalSeed</th><th>nCol</th><th>nRow</th><th>nWav</th><th>nTrait</th><th>nCycle</th><th>nColSubgrid</th><th>nRowSubgrid</th><th>nonBlock</th><th>tilePopSize</th><th>tournSize</th><th>msec</th><th>tsc</th><th>replicate</th><th>netbencount_hexoffset</th><th>netbencount_hexwidth</th><th>mutator_hexoffset</th><th>mutator_hexwidth</th><th>delcount_hexoffset</th><th>delcount_hexwidth</th><th>counter_hexoffset</th><th>counter_hexwidth</th><th>snapshot_netbencount_hexoffset</th><th>snapshot_netbencount_hexwidth</th><th>snapshot_counter_hexoffset</th><th>snapshot_counter_hexwidth</th><th>snapshot_counter_dilation</th><th>_compconf_dummy</th><th>CEREBRASLIB_HYPERMUT_NUM_AVAIL_BEN_MUTS</th><th>CEREBRASLIB_TRAITLOGGER_NUM_BITS</th><th>CEREBRASLIB_TRAITLOGGER_DSTREAM_ALGO_NAME</th><th>CEREBRASLIB_TRAITLOGGER_DILATION</th><th>ASYNC_GA_GENOME_FLAVOR</th><th>dstream_algo</th><th>dstream_storage_bitoffset</th><th>dstream_storage_bitwidth</th><th>dstream_S</th><th>dstream_T_bitoffset</th><th>dstream_T_bitwidth</th><th>trait_value</th></tr><tr><td>u32</td><td>str</td><td>u32</td><td>u16</td><td>u16</td><td>cat</td><td>u32</td><td>u16</td><td>u16</td><td>u8</td><td>u8</td><td>u32</td><td>u16</td><td>u16</td><td>bool</td><td>u16</td><td>f32</td><td>f32</td><td>u64</td><td>cat</td><td>u8</td><td>u8</td><td>u8</td><td>u8</td><td>u8</td><td>u8</td><td>u8</td><td>u8</td><td>u8</td><td>u8</td><td>u8</td><td>u8</td><td>u8</td><td>u32</td><td>i16</td><td>u32</td><td>cat</td><td>u32</td><td>cat</td><td>cat</td><td>u16</td><td>u16</td><td>u16</td><td>u16</td><td>u16</td><td>u16</td></tr></thead><tbody><tr><td>14909995</td><td>&quot;feffffffffffffffffffffffffffff…</td><td>745495</td><td>993</td><td>745</td><td>&quot;genome_hypermutator_cappedxl_d…</td><td>16</td><td>750</td><td>994</td><td>3</td><td>2</td><td>300000</td><td>0</td><td>0</td><td>false</td><td>256</td><td>1.1</td><td>0.0</td><td>0</td><td>&quot;07004ff3-c955-423f-a3e8-ba74a2…</td><td>0</td><td>4</td><td>4</td><td>2</td><td>6</td><td>2</td><td>8</td><td>8</td><td>16</td><td>4</td><td>20</td><td>4</td><td>8</td><td>42</td><td>8</td><td>256</td><td>&quot;hybrid_0_steady_1_stretched_2_…</td><td>8</td><td>&quot;genome_hypermutator_cappedxl_d…</td><td>&quot;dstream.hybrid_0_steady_1_stre…</td><td>0</td><td>256</td><td>256</td><td>256</td><td>32</td><td>0</td></tr><tr><td>14909996</td><td>&quot;feffffffffffffffffffffffffffff…</td><td>745496</td><td>993</td><td>746</td><td>&quot;genome_hypermutator_cappedxl_d…</td><td>16</td><td>750</td><td>994</td><td>3</td><td>2</td><td>300000</td><td>0</td><td>0</td><td>false</td><td>256</td><td>1.1</td><td>0.0</td><td>0</td><td>&quot;07004ff3-c955-423f-a3e8-ba74a2…</td><td>0</td><td>4</td><td>4</td><td>2</td><td>6</td><td>2</td><td>8</td><td>8</td><td>16</td><td>4</td><td>20</td><td>4</td><td>8</td><td>42</td><td>8</td><td>256</td><td>&quot;hybrid_0_steady_1_stretched_2_…</td><td>8</td><td>&quot;genome_hypermutator_cappedxl_d…</td><td>&quot;dstream.hybrid_0_steady_1_stre…</td><td>0</td><td>256</td><td>256</td><td>256</td><td>32</td><td>0</td></tr><tr><td>14909997</td><td>&quot;feffffffffffffffffffffffffffff…</td><td>745497</td><td>993</td><td>747</td><td>&quot;genome_hypermutator_cappedxl_d…</td><td>16</td><td>750</td><td>994</td><td>3</td><td>2</td><td>300000</td><td>0</td><td>0</td><td>false</td><td>256</td><td>1.1</td><td>0.0</td><td>0</td><td>&quot;07004ff3-c955-423f-a3e8-ba74a2…</td><td>0</td><td>4</td><td>4</td><td>2</td><td>6</td><td>2</td><td>8</td><td>8</td><td>16</td><td>4</td><td>20</td><td>4</td><td>8</td><td>42</td><td>8</td><td>256</td><td>&quot;hybrid_0_steady_1_stretched_2_…</td><td>8</td><td>&quot;genome_hypermutator_cappedxl_d…</td><td>&quot;dstream.hybrid_0_steady_1_stre…</td><td>0</td><td>256</td><td>256</td><td>256</td><td>32</td><td>0</td></tr><tr><td>14909998</td><td>&quot;feffffffffffffffffffffffffffff…</td><td>745498</td><td>993</td><td>748</td><td>&quot;genome_hypermutator_cappedxl_d…</td><td>16</td><td>750</td><td>994</td><td>3</td><td>2</td><td>300000</td><td>0</td><td>0</td><td>false</td><td>256</td><td>1.1</td><td>0.0</td><td>0</td><td>&quot;07004ff3-c955-423f-a3e8-ba74a2…</td><td>0</td><td>4</td><td>4</td><td>2</td><td>6</td><td>2</td><td>8</td><td>8</td><td>16</td><td>4</td><td>20</td><td>4</td><td>8</td><td>42</td><td>8</td><td>256</td><td>&quot;hybrid_0_steady_1_stretched_2_…</td><td>8</td><td>&quot;genome_hypermutator_cappedxl_d…</td><td>&quot;dstream.hybrid_0_steady_1_stre…</td><td>0</td><td>256</td><td>256</td><td>256</td><td>32</td><td>0</td></tr><tr><td>14909999</td><td>&quot;feffffffffffffffffffffffffffff…</td><td>745499</td><td>993</td><td>749</td><td>&quot;genome_hypermutator_cappedxl_d…</td><td>16</td><td>750</td><td>994</td><td>3</td><td>2</td><td>300000</td><td>0</td><td>0</td><td>false</td><td>256</td><td>1.1</td><td>0.0</td><td>0</td><td>&quot;07004ff3-c955-423f-a3e8-ba74a2…</td><td>0</td><td>4</td><td>4</td><td>2</td><td>6</td><td>2</td><td>8</td><td>8</td><td>16</td><td>4</td><td>20</td><td>4</td><td>8</td><td>42</td><td>8</td><td>256</td><td>&quot;hybrid_0_steady_1_stretched_2_…</td><td>8</td><td>&quot;genome_hypermutator_cappedxl_d…</td><td>&quot;dstream.hybrid_0_steady_1_stre…</td><td>0</td><td>256</td><td>256</td><td>256</td><td>32</td><td>0</td></tr></tbody></table></div>"
      ],
      "text/plain": [
       "shape: (5, 46)\n",
       "┌─────────────┬─────────────┬────────┬─────┬───┬───────────┬─────────────┬────────────┬────────────┐\n",
       "│ dstream_dat ┆ data_hex    ┆ tile   ┆ row ┆ … ┆ dstream_S ┆ dstream_T_b ┆ dstream_T_ ┆ trait_valu │\n",
       "│ a_id        ┆ ---         ┆ ---    ┆ --- ┆   ┆ ---       ┆ itoffset    ┆ bitwidth   ┆ e          │\n",
       "│ ---         ┆ str         ┆ u32    ┆ u16 ┆   ┆ u16       ┆ ---         ┆ ---        ┆ ---        │\n",
       "│ u32         ┆             ┆        ┆     ┆   ┆           ┆ u16         ┆ u16        ┆ u16        │\n",
       "╞═════════════╪═════════════╪════════╪═════╪═══╪═══════════╪═════════════╪════════════╪════════════╡\n",
       "│ 14909995    ┆ fefffffffff ┆ 745495 ┆ 993 ┆ … ┆ 256       ┆ 256         ┆ 32         ┆ 0          │\n",
       "│             ┆ fffffffffff ┆        ┆     ┆   ┆           ┆             ┆            ┆            │\n",
       "│             ┆ ffffffff…   ┆        ┆     ┆   ┆           ┆             ┆            ┆            │\n",
       "│ 14909996    ┆ fefffffffff ┆ 745496 ┆ 993 ┆ … ┆ 256       ┆ 256         ┆ 32         ┆ 0          │\n",
       "│             ┆ fffffffffff ┆        ┆     ┆   ┆           ┆             ┆            ┆            │\n",
       "│             ┆ ffffffff…   ┆        ┆     ┆   ┆           ┆             ┆            ┆            │\n",
       "│ 14909997    ┆ fefffffffff ┆ 745497 ┆ 993 ┆ … ┆ 256       ┆ 256         ┆ 32         ┆ 0          │\n",
       "│             ┆ fffffffffff ┆        ┆     ┆   ┆           ┆             ┆            ┆            │\n",
       "│             ┆ ffffffff…   ┆        ┆     ┆   ┆           ┆             ┆            ┆            │\n",
       "│ 14909998    ┆ fefffffffff ┆ 745498 ┆ 993 ┆ … ┆ 256       ┆ 256         ┆ 32         ┆ 0          │\n",
       "│             ┆ fffffffffff ┆        ┆     ┆   ┆           ┆             ┆            ┆            │\n",
       "│             ┆ ffffffff…   ┆        ┆     ┆   ┆           ┆             ┆            ┆            │\n",
       "│ 14909999    ┆ fefffffffff ┆ 745499 ┆ 993 ┆ … ┆ 256       ┆ 256         ┆ 32         ┆ 0          │\n",
       "│             ┆ fffffffffff ┆        ┆     ┆   ┆           ┆             ┆            ┆            │\n",
       "│             ┆ ffffffff…   ┆        ┆     ┆   ┆           ┆             ┆            ┆            │\n",
       "└─────────────┴─────────────┴────────┴─────┴───┴───────────┴─────────────┴────────────┴────────────┘"
      ]
     },
     "metadata": {},
     "output_type": "display_data"
    }
   ],
   "source": [
    "dfxs = pl.from_pandas(\n",
    "    pd.read_parquet(\"https://osf.io/yaedh/download\"),\n",
    ").with_row_index(\n",
    "    \"dstream_data_id\",\n",
    ")\n",
    "display(dfxs.describe()), display(dfxs.head()), display(dfxs.tail());\n"
   ]
  },
  {
   "cell_type": "code",
   "execution_count": 6,
   "metadata": {
    "execution": {
     "iopub.execute_input": "2025-06-08T01:10:49.042411Z",
     "iopub.status.busy": "2025-06-08T01:10:49.042040Z",
     "iopub.status.idle": "2025-06-08T01:10:49.048210Z",
     "shell.execute_reply": "2025-06-08T01:10:49.047723Z"
    }
   },
   "outputs": [],
   "source": [
    "def unpack_logger_timeseries_data(df: pl.DataFrame) -> pl.DataFrame:\n",
    "\n",
    "    # sample every 64th tile\n",
    "    df = df.filter((pl.col(\"col\") % 8 == 0) & (pl.col(\"row\") % 8 == 0))\n",
    "\n",
    "    # unpack dstream data items from logger hex strings\n",
    "    dfu = downstream.dataframe.unpack_data_packed(df)\n",
    "    df = downstream.dataframe.explode_lookup_unpacked(\n",
    "        dfu.with_columns(\n",
    "            # fast forward loggers to at least dstream_S entries\n",
    "            # (i.e., buffer filled)\n",
    "            # these will be semantically-correct zero values\n",
    "            dstream_T=pl.max_horizontal(\n",
    "                pl.col(\"dstream_T\"), pl.col(\"dstream_S\")\n",
    "            ),\n",
    "        ),\n",
    "        value_type=\"uint8\",\n",
    "    )\n",
    "\n",
    "    # join metadata onto unpacked data\n",
    "    df = df.join(\n",
    "        dfu.select(\n",
    "            \"dstream_data_id\",\n",
    "            \"CEREBRASLIB_HYPERMUT_NUM_AVAIL_BEN_MUTS\",\n",
    "            \"CEREBRASLIB_TRAITLOGGER_DILATION\",\n",
    "            \"col\",\n",
    "            \"replicate\",\n",
    "            \"row\",\n",
    "            \"tile\",\n",
    "        ),\n",
    "        on=\"dstream_data_id\",\n",
    "    )\n",
    "\n",
    "    # apply dilation to dstream_T and dstream_Tbar\n",
    "    df = df.with_columns(\n",
    "        dstream_T=pl.col(\"dstream_T\")\n",
    "        * pl.col(\"CEREBRASLIB_TRAITLOGGER_DILATION\"),\n",
    "        dstream_Tbar=pl.col(\"dstream_Tbar\")\n",
    "        * pl.col(\"CEREBRASLIB_TRAITLOGGER_DILATION\"),\n",
    "    )\n",
    "\n",
    "    # addend time time series groups with final zero value entry\n",
    "    df = addend_groups(\n",
    "        df,\n",
    "        group_by=[\"replicate\", \"tile\"],\n",
    "        aggs=(\n",
    "            pl.col(\"CEREBRASLIB_HYPERMUT_NUM_AVAIL_BEN_MUTS\")\n",
    "            .unique()\n",
    "            .pipe(squeeze_int),\n",
    "            pl.col(\"col\").unique().pipe(squeeze_int),\n",
    "            (pl.col(\"dstream_Tbar\") + 1).max().alias(\"dstream_Tbar\"),\n",
    "            pl.lit(0).alias(\"dstream_value\"),\n",
    "            pl.col(\"row\").unique().pipe(squeeze_int),\n",
    "        ),\n",
    "        inner_only=True,\n",
    "    )\n",
    "\n",
    "    # upsample to fill in dstream_Tbar dropped by some loggers\n",
    "    # prevents ampling biases from longer-running vs shorter-running loggers\n",
    "    df = union_upsample(\n",
    "        df,\n",
    "        upsample=\"dstream_Tbar\",\n",
    "        group_by=\"tile\",\n",
    "        fill_null_ops=[\n",
    "            (pl.all(), {\"strategy\": \"forward\"}),\n",
    "            (pl.col(\"dstream_Tbar\", \"dstream_value\"), {\"strategy\": \"zero\"}),\n",
    "            (pl.all(), {\"strategy\": \"backward\"}),\n",
    "        ],\n",
    "    )\n",
    "    assert len(df[\"dstream_Tbar\"].value_counts()[\"count\"].unique()) == 1\n",
    "\n",
    "    return df\n"
   ]
  },
  {
   "cell_type": "code",
   "execution_count": 7,
   "metadata": {
    "execution": {
     "iopub.execute_input": "2025-06-08T01:10:49.050056Z",
     "iopub.status.busy": "2025-06-08T01:10:49.049879Z",
     "iopub.status.idle": "2025-06-08T01:11:18.580810Z",
     "shell.execute_reply": "2025-06-08T01:11:18.580238Z"
    }
   },
   "outputs": [
    {
     "name": "stderr",
     "output_type": "stream",
     "text": [
      "0it [00:00, ?it/s]/usr/local/lib/python3.10/dist-packages/downstream/dataframe/_impl/_check_downstream_version.py:29: UserWarning: Dataframe downstream_version column not provided\n",
      "  warnings.warn(\n",
      "1it [00:01,  1.59s/it]/usr/local/lib/python3.10/dist-packages/downstream/dataframe/_impl/_check_downstream_version.py:29: UserWarning: Dataframe downstream_version column not provided\n",
      "  warnings.warn(\n",
      "2it [00:03,  1.52s/it]/usr/local/lib/python3.10/dist-packages/downstream/dataframe/_impl/_check_downstream_version.py:29: UserWarning: Dataframe downstream_version column not provided\n",
      "  warnings.warn(\n",
      "3it [00:04,  1.51s/it]/usr/local/lib/python3.10/dist-packages/downstream/dataframe/_impl/_check_downstream_version.py:29: UserWarning: Dataframe downstream_version column not provided\n",
      "  warnings.warn(\n",
      "4it [00:06,  1.49s/it]/usr/local/lib/python3.10/dist-packages/downstream/dataframe/_impl/_check_downstream_version.py:29: UserWarning: Dataframe downstream_version column not provided\n",
      "  warnings.warn(\n",
      "5it [00:07,  1.49s/it]/usr/local/lib/python3.10/dist-packages/downstream/dataframe/_impl/_check_downstream_version.py:29: UserWarning: Dataframe downstream_version column not provided\n",
      "  warnings.warn(\n",
      "6it [00:09,  1.50s/it]/usr/local/lib/python3.10/dist-packages/downstream/dataframe/_impl/_check_downstream_version.py:29: UserWarning: Dataframe downstream_version column not provided\n",
      "  warnings.warn(\n",
      "7it [00:10,  1.49s/it]/usr/local/lib/python3.10/dist-packages/downstream/dataframe/_impl/_check_downstream_version.py:29: UserWarning: Dataframe downstream_version column not provided\n",
      "  warnings.warn(\n",
      "8it [00:11,  1.48s/it]/usr/local/lib/python3.10/dist-packages/downstream/dataframe/_impl/_check_downstream_version.py:29: UserWarning: Dataframe downstream_version column not provided\n",
      "  warnings.warn(\n",
      "9it [00:13,  1.49s/it]/usr/local/lib/python3.10/dist-packages/downstream/dataframe/_impl/_check_downstream_version.py:29: UserWarning: Dataframe downstream_version column not provided\n",
      "  warnings.warn(\n",
      "10it [00:14,  1.46s/it]/usr/local/lib/python3.10/dist-packages/downstream/dataframe/_impl/_check_downstream_version.py:29: UserWarning: Dataframe downstream_version column not provided\n",
      "  warnings.warn(\n",
      "11it [00:16,  1.46s/it]/usr/local/lib/python3.10/dist-packages/downstream/dataframe/_impl/_check_downstream_version.py:29: UserWarning: Dataframe downstream_version column not provided\n",
      "  warnings.warn(\n",
      "12it [00:17,  1.48s/it]/usr/local/lib/python3.10/dist-packages/downstream/dataframe/_impl/_check_downstream_version.py:29: UserWarning: Dataframe downstream_version column not provided\n",
      "  warnings.warn(\n",
      "13it [00:19,  1.48s/it]/usr/local/lib/python3.10/dist-packages/downstream/dataframe/_impl/_check_downstream_version.py:29: UserWarning: Dataframe downstream_version column not provided\n",
      "  warnings.warn(\n",
      "14it [00:20,  1.48s/it]/usr/local/lib/python3.10/dist-packages/downstream/dataframe/_impl/_check_downstream_version.py:29: UserWarning: Dataframe downstream_version column not provided\n",
      "  warnings.warn(\n",
      "15it [00:22,  1.46s/it]/usr/local/lib/python3.10/dist-packages/downstream/dataframe/_impl/_check_downstream_version.py:29: UserWarning: Dataframe downstream_version column not provided\n",
      "  warnings.warn(\n",
      "16it [00:23,  1.47s/it]/usr/local/lib/python3.10/dist-packages/downstream/dataframe/_impl/_check_downstream_version.py:29: UserWarning: Dataframe downstream_version column not provided\n",
      "  warnings.warn(\n",
      "17it [00:25,  1.47s/it]/usr/local/lib/python3.10/dist-packages/downstream/dataframe/_impl/_check_downstream_version.py:29: UserWarning: Dataframe downstream_version column not provided\n",
      "  warnings.warn(\n",
      "18it [00:26,  1.45s/it]/usr/local/lib/python3.10/dist-packages/downstream/dataframe/_impl/_check_downstream_version.py:29: UserWarning: Dataframe downstream_version column not provided\n",
      "  warnings.warn(\n",
      "19it [00:28,  1.47s/it]/usr/local/lib/python3.10/dist-packages/downstream/dataframe/_impl/_check_downstream_version.py:29: UserWarning: Dataframe downstream_version column not provided\n",
      "  warnings.warn(\n",
      "20it [00:29,  1.48s/it]\n"
     ]
    }
   ],
   "source": [
    "res = []\n",
    "for _, df in tqdm(dfxs.group_by(\"replicate\")):\n",
    "    df = unpack_logger_timeseries_data(df)\n",
    "    res.append(df)\n",
    "\n",
    "df = pl.concat(res)\n"
   ]
  },
  {
   "cell_type": "markdown",
   "metadata": {},
   "source": [
    "## Plot Data\n"
   ]
  },
  {
   "cell_type": "code",
   "execution_count": 8,
   "metadata": {
    "execution": {
     "iopub.execute_input": "2025-06-08T01:11:18.582746Z",
     "iopub.status.busy": "2025-06-08T01:11:18.582567Z",
     "iopub.status.idle": "2025-06-08T01:11:20.699475Z",
     "shell.execute_reply": "2025-06-08T01:11:20.698890Z"
    }
   },
   "outputs": [],
   "source": [
    "# take the mean of dstream_value at each dstream_Tbar across tiles\n",
    "df_mean = df.group_by(\"replicate\", \"dstream_Tbar\").agg(\n",
    "    pl.col(\"dstream_value\").mean(),\n",
    "    pl.col(\"CEREBRASLIB_HYPERMUT_NUM_AVAIL_BEN_MUTS\")\n",
    "    .unique()\n",
    "    .pipe(squeeze_int),\n",
    ")\n"
   ]
  },
  {
   "cell_type": "code",
   "execution_count": 9,
   "metadata": {
    "execution": {
     "iopub.execute_input": "2025-06-08T01:11:20.701590Z",
     "iopub.status.busy": "2025-06-08T01:11:20.701413Z",
     "iopub.status.idle": "2025-06-08T01:11:26.182088Z",
     "shell.execute_reply": "2025-06-08T01:11:26.181454Z"
    }
   },
   "outputs": [
    {
     "name": "stderr",
     "output_type": "stream",
     "text": [
      "/usr/local/lib/python3.10/dist-packages/seaborn/axisgrid.py:123: UserWarning: Tight layout not applied. tight_layout cannot make Axes height small enough to accommodate all Axes decorations.\n",
      "  self._figure.tight_layout(*args, **kwargs)\n",
      "/usr/local/lib/python3.10/dist-packages/seaborn/axisgrid.py:123: UserWarning: Tight layout not applied. tight_layout cannot make Axes height small enough to accommodate all Axes decorations.\n",
      "  self._figure.tight_layout(*args, **kwargs)\n"
     ]
    },
    {
     "name": "stdout",
     "output_type": "stream",
     "text": [
      "teeplots/wse-denovo-spatial2d-explicitsite-timeseries-2025-02-07-peaksweep/col=replicate-number+hue=replicate+kind=line+row=cerebraslib-hypermut-num-avail-ben-muts+viz=relplot+x=dstream-tbar+y=dstream-value+ext=.pdf\n",
      "teeplots/wse-denovo-spatial2d-explicitsite-timeseries-2025-02-07-peaksweep/col=replicate-number+hue=replicate+kind=line+row=cerebraslib-hypermut-num-avail-ben-muts+viz=relplot+x=dstream-tbar+y=dstream-value+ext=.png\n"
     ]
    },
    {
     "data": {
      "image/png": "[encoded data removed]",
      "text/plain": [
       "<Figure size 720x600 with 20 Axes>"
      ]
     },
     "metadata": {},
     "output_type": "display_data"
    }
   ],
   "source": [
    "with tp.teed(\n",
    "    sns.relplot,\n",
    "    data=df_mean.with_columns(\n",
    "        pl.col(\"replicate\")\n",
    "        .rank(method=\"dense\")\n",
    "        .over(\"CEREBRASLIB_HYPERMUT_NUM_AVAIL_BEN_MUTS\")\n",
    "        .cast(pl.Int32)\n",
    "        .alias(\"replicate number\")\n",
    "    ),\n",
    "    x=\"dstream_Tbar\",\n",
    "    y=\"dstream_value\",\n",
    "    hue=\"replicate\",\n",
    "    col=\"replicate number\",\n",
    "    row=\"CEREBRASLIB_HYPERMUT_NUM_AVAIL_BEN_MUTS\",\n",
    "    alpha=0.5,\n",
    "    aspect=1.5,\n",
    "    errorbar=None,\n",
    "    height=1.2,\n",
    "    linewidth=1,\n",
    "    legend=False,\n",
    "    kind=\"line\",\n",
    "    marker=\"d\",\n",
    "    markersize=4,\n",
    "    markers=True,\n",
    "    facet_kws=dict(margin_titles=True),\n",
    "    teeplot_subdir=teeplot_subdir,\n",
    "    teeplot_outexclude=[\"marker\"],\n",
    ") as g:\n",
    "    g.set(xlim=(10, 80000))\n",
    "    g.set(ylim=(0.00001, 2))\n",
    "    g.set_titles(\n",
    "        col_template=\"\",\n",
    "        row_template=\"{row_name} Avail\\nBen Muts\",\n",
    "    )\n",
    "    g.set_axis_labels(x_var=\"Generations\", y_var=\"Normomut\\nPrevalence\")\n",
    "    for ax in g.axes.flat:\n",
    "        ax.axhline(1, ls=\"--\", color=\"black\", linewidth=1, zorder=-10)\n",
    "        ax.set_yscale(\"log\")\n",
    "        ax.set_xscale(\"log\")\n"
   ]
  },
  {
   "cell_type": "code",
   "execution_count": 10,
   "metadata": {
    "execution": {
     "iopub.execute_input": "2025-06-08T01:11:26.184274Z",
     "iopub.status.busy": "2025-06-08T01:11:26.183912Z",
     "iopub.status.idle": "2025-06-08T01:11:28.430186Z",
     "shell.execute_reply": "2025-06-08T01:11:28.429535Z"
    }
   },
   "outputs": [
    {
     "data": {
      "text/html": [
       "<div><style>\n",
       ".dataframe > thead > tr,\n",
       ".dataframe > tbody > tr {\n",
       "  text-align: right;\n",
       "  white-space: pre-wrap;\n",
       "}\n",
       "</style>\n",
       "<small>shape: (20, 3)</small><table border=\"1\" class=\"dataframe\"><thead><tr><th>replicate</th><th>dstream_value</th><th>CEREBRASLIB_HYPERMUT_NUM_AVAIL_BEN_MUTS</th></tr><tr><td>cat</td><td>f64</td><td>i64</td></tr></thead><tbody><tr><td>&quot;76e9aab2-0e99-4bcc-a14e-e4678d…</td><td>0.091319</td><td>8</td></tr><tr><td>&quot;8718a221-f4ea-4f41-8839-d93500…</td><td>0.31966</td><td>6</td></tr><tr><td>&quot;4269e405-b8ec-4d45-9621-73ea45…</td><td>0.308766</td><td>6</td></tr><tr><td>&quot;dd970b05-40a0-4825-81f4-c52bfa…</td><td>0.004851</td><td>10</td></tr><tr><td>&quot;a7a99800-b303-43a6-8379-5005be…</td><td>0.008</td><td>10</td></tr><tr><td>&hellip;</td><td>&hellip;</td><td>&hellip;</td></tr><tr><td>&quot;f02a438d-9671-4419-9369-b11614…</td><td>0.083915</td><td>8</td></tr><tr><td>&quot;9732c822-b816-49fc-9df4-862fed…</td><td>0.294979</td><td>6</td></tr><tr><td>&quot;e8f182bf-02f8-472e-a882-3e9ecc…</td><td>0.003234</td><td>10</td></tr><tr><td>&quot;47e3bd42-5a41-4b12-a064-2c8530…</td><td>0.784</td><td>4</td></tr><tr><td>&quot;715c2c6e-0c13-4f8f-8357-93be59…</td><td>0.754383</td><td>4</td></tr></tbody></table></div>"
      ],
      "text/plain": [
       "shape: (20, 3)\n",
       "┌─────────────────────────────────┬───────────────┬─────────────────────────────────┐\n",
       "│ replicate                       ┆ dstream_value ┆ CEREBRASLIB_HYPERMUT_NUM_AVAIL… │\n",
       "│ ---                             ┆ ---           ┆ ---                             │\n",
       "│ cat                             ┆ f64           ┆ i64                             │\n",
       "╞═════════════════════════════════╪═══════════════╪═════════════════════════════════╡\n",
       "│ 76e9aab2-0e99-4bcc-a14e-e4678d… ┆ 0.091319      ┆ 8                               │\n",
       "│ 8718a221-f4ea-4f41-8839-d93500… ┆ 0.31966       ┆ 6                               │\n",
       "│ 4269e405-b8ec-4d45-9621-73ea45… ┆ 0.308766      ┆ 6                               │\n",
       "│ dd970b05-40a0-4825-81f4-c52bfa… ┆ 0.004851      ┆ 10                              │\n",
       "│ a7a99800-b303-43a6-8379-5005be… ┆ 0.008         ┆ 10                              │\n",
       "│ …                               ┆ …             ┆ …                               │\n",
       "│ f02a438d-9671-4419-9369-b11614… ┆ 0.083915      ┆ 8                               │\n",
       "│ 9732c822-b816-49fc-9df4-862fed… ┆ 0.294979      ┆ 6                               │\n",
       "│ e8f182bf-02f8-472e-a882-3e9ecc… ┆ 0.003234      ┆ 10                              │\n",
       "│ 47e3bd42-5a41-4b12-a064-2c8530… ┆ 0.784         ┆ 4                               │\n",
       "│ 715c2c6e-0c13-4f8f-8357-93be59… ┆ 0.754383      ┆ 4                               │\n",
       "└─────────────────────────────────┴───────────────┴─────────────────────────────────┘"
      ]
     },
     "execution_count": 10,
     "metadata": {},
     "output_type": "execute_result"
    }
   ],
   "source": [
    "# take the mean of dstream_value at each dstream_Tbar across tiles\n",
    "df_min_mean = df.group_by(\"replicate\", \"dstream_Tbar\").agg(\n",
    "    pl.col(\"dstream_value\").mean(),\n",
    "    pl.col(\"CEREBRASLIB_HYPERMUT_NUM_AVAIL_BEN_MUTS\")\n",
    "    .unique()\n",
    "    .pipe(squeeze_int),\n",
    ").group_by(\"replicate\").agg(\n",
    "    pl.col(\"dstream_value\").filter(pl.col(\"dstream_value\") > 0).min(),\n",
    "    pl.col(\"CEREBRASLIB_HYPERMUT_NUM_AVAIL_BEN_MUTS\")\n",
    "    .unique()\n",
    "    .pipe(squeeze_int),\n",
    ")\n",
    "df_min_mean\n"
   ]
  },
  {
   "cell_type": "code",
   "execution_count": 11,
   "metadata": {
    "execution": {
     "iopub.execute_input": "2025-06-08T01:11:28.432223Z",
     "iopub.status.busy": "2025-06-08T01:11:28.432015Z",
     "iopub.status.idle": "2025-06-08T01:11:28.669224Z",
     "shell.execute_reply": "2025-06-08T01:11:28.668593Z"
    }
   },
   "outputs": [
    {
     "name": "stdout",
     "output_type": "stream",
     "text": [
      "teeplots/wse-denovo-spatial2d-explicitsite-timeseries-2025-02-07-peaksweep/color=orange+kind=line+viz=relplot+x=cerebraslib-hypermut-num-avail-ben-muts+y=dstream-value+ext=.pdf\n",
      "teeplots/wse-denovo-spatial2d-explicitsite-timeseries-2025-02-07-peaksweep/color=orange+kind=line+viz=relplot+x=cerebraslib-hypermut-num-avail-ben-muts+y=dstream-value+ext=.png\n"
     ]
    },
    {
     "data": {
      "image/png": "[encoded data removed]",
      "text/plain": [
       "<Figure size 252x140 with 1 Axes>"
      ]
     },
     "metadata": {},
     "output_type": "display_data"
    }
   ],
   "source": [
    "with tp.teed(\n",
    "    sns.relplot,\n",
    "    data=df_min_mean.with_columns(\n",
    "        pl.col(\"replicate\")\n",
    "        .rank(method=\"dense\")\n",
    "        .over(\"CEREBRASLIB_HYPERMUT_NUM_AVAIL_BEN_MUTS\")\n",
    "        .cast(pl.Int32)\n",
    "        .alias(\"replicate number\")\n",
    "    ).with_columns(\n",
    "        dstream_value=1 - pl.col(\"dstream_value\")\n",
    "    ),\n",
    "    x=\"CEREBRASLIB_HYPERMUT_NUM_AVAIL_BEN_MUTS\",\n",
    "    y=\"dstream_value\",\n",
    "    alpha=0.5,\n",
    "    aspect=1.8,\n",
    "    color=\"orange\",\n",
    "    errorbar=(\"pi\", 100),\n",
    "    height=1.4,\n",
    "    linewidth=1,\n",
    "    legend=False,\n",
    "    kind=\"line\",\n",
    "    marker=\"X\",\n",
    "    markersize=7,\n",
    "    markers=True,\n",
    "    facet_kws=dict(margin_titles=True),\n",
    "    teeplot_subdir=teeplot_subdir,\n",
    "    teeplot_outexclude=[\"marker\"],\n",
    ") as g:\n",
    "    # g.set(xlim=(10, 80000))\n",
    "    # g.set(ylim=(0.00001, 2))\n",
    "    g.set_titles(\n",
    "        col_template=\"\",\n",
    "        row_template=\"{row_name} Avail\\nBen Muts\",\n",
    "    )\n",
    "    g.set_axis_labels(x_var=\"Avail Ben Muts\", y_var=\"Max\\nMutator\\nPrevalence\")\n",
    "    for ax in g.axes.flat:\n",
    "        ax.axhline(1, ls=\"--\", color=\"black\", linewidth=1, zorder=-20)\n",
    "        ax.axhline(0.5, ls=\":\", color=\"black\", linewidth=1, zorder=-20)\n",
    "        ax.set_yticks([0, 0.5, 1])\n"
   ]
  },
  {
   "cell_type": "markdown",
   "metadata": {},
   "source": [
    "## Animate Data\n"
   ]
  },
  {
   "cell_type": "code",
   "execution_count": 12,
   "metadata": {
    "execution": {
     "iopub.execute_input": "2025-06-08T01:11:28.671310Z",
     "iopub.status.busy": "2025-06-08T01:11:28.670928Z",
     "iopub.status.idle": "2025-06-08T01:12:28.710248Z",
     "shell.execute_reply": "2025-06-08T01:12:28.709664Z"
    }
   },
   "outputs": [
    {
     "name": "stderr",
     "output_type": "stream",
     "text": [
      "0it [00:00, ?it/s]"
     ]
    },
    {
     "name": "stdout",
     "output_type": "stream",
     "text": [
      "257\n"
     ]
    },
    {
     "name": "stderr",
     "output_type": "stream",
     "text": [
      "1it [00:04,  4.70s/it]"
     ]
    },
    {
     "name": "stdout",
     "output_type": "stream",
     "text": [
      "257\n"
     ]
    },
    {
     "name": "stderr",
     "output_type": "stream",
     "text": [
      "2it [00:07,  3.76s/it]"
     ]
    },
    {
     "name": "stdout",
     "output_type": "stream",
     "text": [
      "257\n"
     ]
    },
    {
     "name": "stderr",
     "output_type": "stream",
     "text": [
      "3it [00:10,  3.16s/it]"
     ]
    },
    {
     "name": "stdout",
     "output_type": "stream",
     "text": [
      "257\n"
     ]
    },
    {
     "name": "stderr",
     "output_type": "stream",
     "text": [
      "4it [00:12,  2.92s/it]"
     ]
    },
    {
     "name": "stdout",
     "output_type": "stream",
     "text": [
      "257\n"
     ]
    },
    {
     "name": "stderr",
     "output_type": "stream",
     "text": [
      "5it [00:15,  2.97s/it]"
     ]
    },
    {
     "name": "stdout",
     "output_type": "stream",
     "text": [
      "257\n"
     ]
    },
    {
     "name": "stderr",
     "output_type": "stream",
     "text": [
      "6it [00:18,  3.02s/it]"
     ]
    },
    {
     "name": "stdout",
     "output_type": "stream",
     "text": [
      "257\n"
     ]
    },
    {
     "name": "stderr",
     "output_type": "stream",
     "text": [
      "7it [00:22,  3.06s/it]"
     ]
    },
    {
     "name": "stdout",
     "output_type": "stream",
     "text": [
      "257\n"
     ]
    },
    {
     "name": "stderr",
     "output_type": "stream",
     "text": [
      "8it [00:25,  3.07s/it]"
     ]
    },
    {
     "name": "stdout",
     "output_type": "stream",
     "text": [
      "257\n"
     ]
    },
    {
     "name": "stderr",
     "output_type": "stream",
     "text": [
      "9it [00:27,  2.93s/it]"
     ]
    },
    {
     "name": "stdout",
     "output_type": "stream",
     "text": [
      "257\n"
     ]
    },
    {
     "name": "stderr",
     "output_type": "stream",
     "text": [
      "10it [00:30,  2.99s/it]"
     ]
    },
    {
     "name": "stdout",
     "output_type": "stream",
     "text": [
      "257\n"
     ]
    },
    {
     "name": "stderr",
     "output_type": "stream",
     "text": [
      "11it [00:33,  2.86s/it]"
     ]
    },
    {
     "name": "stdout",
     "output_type": "stream",
     "text": [
      "257\n"
     ]
    },
    {
     "name": "stderr",
     "output_type": "stream",
     "text": [
      "12it [00:36,  2.93s/it]"
     ]
    },
    {
     "name": "stdout",
     "output_type": "stream",
     "text": [
      "257\n"
     ]
    },
    {
     "name": "stderr",
     "output_type": "stream",
     "text": [
      "13it [00:39,  2.93s/it]"
     ]
    },
    {
     "name": "stdout",
     "output_type": "stream",
     "text": [
      "257\n"
     ]
    },
    {
     "name": "stderr",
     "output_type": "stream",
     "text": [
      "14it [00:42,  2.91s/it]"
     ]
    },
    {
     "name": "stdout",
     "output_type": "stream",
     "text": [
      "257\n"
     ]
    },
    {
     "name": "stderr",
     "output_type": "stream",
     "text": [
      "15it [00:45,  2.97s/it]"
     ]
    },
    {
     "name": "stdout",
     "output_type": "stream",
     "text": [
      "257\n"
     ]
    },
    {
     "name": "stderr",
     "output_type": "stream",
     "text": [
      "16it [00:48,  2.97s/it]"
     ]
    },
    {
     "name": "stdout",
     "output_type": "stream",
     "text": [
      "257\n"
     ]
    },
    {
     "name": "stderr",
     "output_type": "stream",
     "text": [
      "17it [00:51,  2.96s/it]"
     ]
    },
    {
     "name": "stdout",
     "output_type": "stream",
     "text": [
      "257\n"
     ]
    },
    {
     "name": "stderr",
     "output_type": "stream",
     "text": [
      "18it [00:54,  2.92s/it]"
     ]
    },
    {
     "name": "stdout",
     "output_type": "stream",
     "text": [
      "257\n"
     ]
    },
    {
     "name": "stderr",
     "output_type": "stream",
     "text": [
      "19it [00:57,  2.92s/it]"
     ]
    },
    {
     "name": "stdout",
     "output_type": "stream",
     "text": [
      "257\n"
     ]
    },
    {
     "name": "stderr",
     "output_type": "stream",
     "text": [
      "20it [01:00,  3.00s/it]\n"
     ]
    }
   ],
   "source": [
    "os.makedirs(teeplot_subdir, exist_ok=True)\n",
    "\n",
    "for (replicate, nmut), dfr in tqdm(\n",
    "    df.group_by(\"replicate\", \"CEREBRASLIB_HYPERMUT_NUM_AVAIL_BEN_MUTS\"),\n",
    "):\n",
    "    frames = []\n",
    "    for (dstream_Tbar,), dff in dfr.sort(\"dstream_Tbar\").group_by(\n",
    "        \"dstream_Tbar\", maintain_order=True\n",
    "    ):\n",
    "\n",
    "        dff = dff.with_columns(\n",
    "            col_rank=pl.col(\"col\").rank(method=\"dense\").cast(pl.Int32) - 1,\n",
    "            row_rank=pl.col(\"row\").rank(method=\"dense\").cast(pl.Int32) - 1,\n",
    "        )\n",
    "\n",
    "        num_rows = dff[\"row_rank\"].max() + 1\n",
    "        num_cols = dff[\"col_rank\"].max() + 1\n",
    "\n",
    "        frame = np.empty((num_rows, num_cols), dtype=np.uint8)\n",
    "        frame[dff[\"row_rank\"], dff[\"col_rank\"]] = dff[\"dstream_value\"] * 255\n",
    "        frame = np.kron(frame, np.ones((4, 4), dtype=frame.dtype))\n",
    "        frames.append(frame)\n",
    "\n",
    "        outdir = f\"{teeplot_subdir}/a=traitframes+nmut={nmut}+rep={replicate}\"\n",
    "        os.makedirs(outdir, exist_ok=True)\n",
    "        outpath = f\"{outdir}/dstream_Tbar={dstream_Tbar:06}+ext=.png\"\n",
    "        imageio.imwrite(outpath, frame.T)\n",
    "\n",
    "    print(len(frames))\n",
    "    outpath = f\"{teeplot_subdir}/a=traits+nmut={nmut}+rep={replicate}+ext=.gif\"\n",
    "    imageio.mimsave(outpath, frames, duration=0.2)\n"
   ]
  }
 ],
 "metadata": {
  "kernelspec": {
   "display_name": "env310",
   "language": "python",
   "name": "python3"
  },
  "language_info": {
   "codemirror_mode": {
    "name": "ipython",
    "version": 3
   },
   "file_extension": ".py",
   "mimetype": "text/x-python",
   "name": "python",
   "nbconvert_exporter": "python",
   "pygments_lexer": "ipython3",
   "version": "3.10.12"
  }
 },
 "nbformat": 4,
 "nbformat_minor": 2
}
