{
 "cells": [
  {
   "cell_type": "code",
   "execution_count": 1,
   "metadata": {
    "execution": {
     "iopub.execute_input": "2025-03-02T01:16:15.198120Z",
     "iopub.status.busy": "2025-03-02T01:16:15.197671Z",
     "iopub.status.idle": "2025-03-02T01:16:15.211073Z",
     "shell.execute_reply": "2025-03-02T01:16:15.210571Z"
    }
   },
   "outputs": [],
   "source": [
    "%load_ext watermark\n"
   ]
  },
  {
   "cell_type": "code",
   "execution_count": 2,
   "metadata": {
    "execution": {
     "iopub.execute_input": "2025-03-02T01:16:15.213114Z",
     "iopub.status.busy": "2025-03-02T01:16:15.212757Z",
     "iopub.status.idle": "2025-03-02T01:16:18.062585Z",
     "shell.execute_reply": "2025-03-02T01:16:18.061937Z"
    }
   },
   "outputs": [],
   "source": [
    "from IPython.display import display\n",
    "import pandas as pd\n",
    "import polars as pl\n",
    "import seaborn as sns\n",
    "from teeplot import teeplot as tp\n"
   ]
  },
  {
   "cell_type": "code",
   "execution_count": 3,
   "metadata": {
    "execution": {
     "iopub.execute_input": "2025-03-02T01:16:18.065228Z",
     "iopub.status.busy": "2025-03-02T01:16:18.064687Z",
     "iopub.status.idle": "2025-03-02T01:16:18.078185Z",
     "shell.execute_reply": "2025-03-02T01:16:18.077590Z"
    }
   },
   "outputs": [
    {
     "name": "stdout",
     "output_type": "stream",
     "text": [
      "Last updated: 2025-03-02T01:16:18.066349+00:00\n",
      "\n",
      "Python implementation: CPython\n",
      "Python version       : 3.10.12\n",
      "IPython version      : 7.31.1\n",
      "\n",
      "Compiler    : GCC 11.4.0\n",
      "OS          : Linux\n",
      "Release     : 6.8.0-1021-azure\n",
      "Machine     : x86_64\n",
      "Processor   : x86_64\n",
      "CPU cores   : 4\n",
      "Architecture: 64bit\n",
      "\n",
      "teeplot: 1.2.0\n",
      "seaborn: 0.13.2\n",
      "pandas : 2.2.3\n",
      "polars : 1.9.0\n",
      "\n",
      "Watermark: 2.4.3\n",
      "\n"
     ]
    }
   ],
   "source": [
    "%watermark -diwmuv -iv\n"
   ]
  },
  {
   "cell_type": "code",
   "execution_count": 4,
   "metadata": {
    "execution": {
     "iopub.execute_input": "2025-03-02T01:16:18.107178Z",
     "iopub.status.busy": "2025-03-02T01:16:18.106658Z",
     "iopub.status.idle": "2025-03-02T01:16:18.112939Z",
     "shell.execute_reply": "2025-03-02T01:16:18.112352Z"
    }
   },
   "outputs": [
    {
     "data": {
      "text/plain": [
       "'wse-denovo-spatial2d-poisson-genomes'"
      ]
     },
     "execution_count": 4,
     "metadata": {},
     "output_type": "execute_result"
    }
   ],
   "source": [
    "teeplot_subdir = \"wse-denovo-spatial2d-poisson-genomes\"\n",
    "teeplot_subdir\n"
   ]
  },
  {
   "cell_type": "markdown",
   "metadata": {},
   "source": [
    "## Prep Data\n"
   ]
  },
  {
   "cell_type": "code",
   "execution_count": 5,
   "metadata": {
    "execution": {
     "iopub.execute_input": "2025-03-02T01:16:18.115073Z",
     "iopub.status.busy": "2025-03-02T01:16:18.114734Z",
     "iopub.status.idle": "2025-03-02T01:16:26.927929Z",
     "shell.execute_reply": "2025-03-02T01:16:26.927356Z"
    }
   },
   "outputs": [
    {
     "data": {
      "text/html": [
       "<div><style>\n",
       ".dataframe > thead > tr,\n",
       ".dataframe > tbody > tr {\n",
       "  text-align: right;\n",
       "  white-space: pre-wrap;\n",
       "}\n",
       "</style>\n",
       "<small>shape: (9, 41)</small><table border=\"1\" class=\"dataframe\"><thead><tr><th>statistic</th><th>data_hex</th><th>is_extant</th><th>fitness</th><th>tile</th><th>row</th><th>col</th><th>genomeFlavor</th><th>globalSeed</th><th>nCol</th><th>nRow</th><th>nWav</th><th>nTrait</th><th>nCycle</th><th>nColSubgrid</th><th>nRowSubgrid</th><th>nonBlock</th><th>tilePopSize</th><th>tournSize</th><th>msec</th><th>tsc</th><th>replicate</th><th>netbencount_hexoffset</th><th>netbencount_hexwidth</th><th>mutator_hexoffset</th><th>mutator_hexwidth</th><th>delcount_hexoffset</th><th>delcount_hexwidth</th><th>counter_hexoffset</th><th>counter_hexwidth</th><th>snapshot_netbencount_hexoffset</th><th>snapshot_netbencount_hexwidth</th><th>snapshot_counter_hexoffset</th><th>snapshot_counter_hexwidth</th><th>snapshot_counter_dilation</th><th>_compconf_dummy</th><th>CEREBRASLIB_HYPERMUT_NUM_AVAIL_BEN_MUTS</th><th>CEREBRASLIB_TRAITLOGGER_NUM_BITS</th><th>CEREBRASLIB_TRAITLOGGER_DSTREAM_ALGO_NAME</th><th>CEREBRASLIB_TRAITLOGGER_DILATION</th><th>ASYNC_GA_GENOME_FLAVOR</th></tr><tr><td>str</td><td>str</td><td>f64</td><td>f64</td><td>f64</td><td>f64</td><td>f64</td><td>str</td><td>f64</td><td>f64</td><td>f64</td><td>f64</td><td>f64</td><td>f64</td><td>f64</td><td>f64</td><td>f64</td><td>f64</td><td>f64</td><td>f64</td><td>f64</td><td>str</td><td>f64</td><td>f64</td><td>f64</td><td>f64</td><td>f64</td><td>f64</td><td>f64</td><td>f64</td><td>f64</td><td>f64</td><td>f64</td><td>f64</td><td>f64</td><td>f64</td><td>f64</td><td>f64</td><td>str</td><td>f64</td><td>str</td></tr></thead><tbody><tr><td>&quot;count&quot;</td><td>&quot;22365000&quot;</td><td>2.2365e7</td><td>2.2365e7</td><td>2.2365e7</td><td>2.2365e7</td><td>2.2365e7</td><td>&quot;22365000&quot;</td><td>2.2365e7</td><td>2.2365e7</td><td>2.2365e7</td><td>2.2365e7</td><td>2.2365e7</td><td>2.2365e7</td><td>2.2365e7</td><td>2.2365e7</td><td>2.2365e7</td><td>2.2365e7</td><td>2.2365e7</td><td>2.2365e7</td><td>2.2365e7</td><td>&quot;22365000&quot;</td><td>2.2365e7</td><td>2.2365e7</td><td>2.2365e7</td><td>2.2365e7</td><td>2.2365e7</td><td>2.2365e7</td><td>2.2365e7</td><td>2.2365e7</td><td>2.2365e7</td><td>2.2365e7</td><td>2.2365e7</td><td>2.2365e7</td><td>2.2365e7</td><td>2.2365e7</td><td>2.2365e7</td><td>2.2365e7</td><td>&quot;22365000&quot;</td><td>2.2365e7</td><td>&quot;22365000&quot;</td></tr><tr><td>&quot;null_count&quot;</td><td>&quot;0&quot;</td><td>0.0</td><td>0.0</td><td>0.0</td><td>0.0</td><td>0.0</td><td>&quot;0&quot;</td><td>0.0</td><td>0.0</td><td>0.0</td><td>0.0</td><td>0.0</td><td>0.0</td><td>0.0</td><td>0.0</td><td>0.0</td><td>0.0</td><td>0.0</td><td>0.0</td><td>0.0</td><td>&quot;0&quot;</td><td>0.0</td><td>0.0</td><td>0.0</td><td>0.0</td><td>0.0</td><td>0.0</td><td>0.0</td><td>0.0</td><td>0.0</td><td>0.0</td><td>0.0</td><td>0.0</td><td>0.0</td><td>0.0</td><td>0.0</td><td>0.0</td><td>&quot;0&quot;</td><td>0.0</td><td>&quot;0&quot;</td></tr><tr><td>&quot;mean&quot;</td><td>null</td><td>1.0</td><td>17.917253</td><td>372749.5</td><td>496.5</td><td>374.5</td><td>null</td><td>15.5</td><td>750.0</td><td>994.0</td><td>3.0</td><td>2.0</td><td>300000.0</td><td>0.0</td><td>0.0</td><td>0.0</td><td>256.0</td><td>1.1</td><td>0.0</td><td>0.0</td><td>null</td><td>0.0</td><td>4.0</td><td>4.0</td><td>2.0</td><td>6.0</td><td>2.0</td><td>8.0</td><td>8.0</td><td>16.0</td><td>4.0</td><td>20.0</td><td>4.0</td><td>8.0</td><td>42.0</td><td>18.0</td><td>256.0</td><td>null</td><td>8.0</td><td>null</td></tr><tr><td>&quot;std&quot;</td><td>null</td><td>null</td><td>4.224545</td><td>215207.317651</td><td>286.942945</td><td>216.506163</td><td>null</td><td>8.655442</td><td>0.0</td><td>0.0</td><td>0.0</td><td>0.0</td><td>0.0</td><td>0.0</td><td>0.0</td><td>null</td><td>0.0</td><td>0.0</td><td>0.0</td><td>0.0</td><td>null</td><td>0.0</td><td>0.0</td><td>0.0</td><td>0.0</td><td>0.0</td><td>0.0</td><td>0.0</td><td>0.0</td><td>0.0</td><td>0.0</td><td>0.0</td><td>0.0</td><td>0.0</td><td>0.0</td><td>4.242641</td><td>0.0</td><td>null</td><td>0.0</td><td>null</td></tr><tr><td>&quot;min&quot;</td><td>&quot;0001000c0004702ebeef0ace&quot;</td><td>1.0</td><td>9.0</td><td>0.0</td><td>0.0</td><td>0.0</td><td>null</td><td>1.0</td><td>750.0</td><td>994.0</td><td>3.0</td><td>2.0</td><td>300000.0</td><td>0.0</td><td>0.0</td><td>0.0</td><td>256.0</td><td>1.1</td><td>0.0</td><td>0.0</td><td>null</td><td>0.0</td><td>4.0</td><td>4.0</td><td>2.0</td><td>6.0</td><td>2.0</td><td>8.0</td><td>8.0</td><td>16.0</td><td>4.0</td><td>20.0</td><td>4.0</td><td>8.0</td><td>42.0</td><td>12.0</td><td>256.0</td><td>null</td><td>8.0</td><td>null</td></tr><tr><td>&quot;25%&quot;</td><td>null</td><td>null</td><td>15.0</td><td>186375.0</td><td>248.0</td><td>187.0</td><td>null</td><td>8.0</td><td>750.0</td><td>994.0</td><td>3.0</td><td>2.0</td><td>300000.0</td><td>0.0</td><td>0.0</td><td>null</td><td>256.0</td><td>1.1</td><td>0.0</td><td>0.0</td><td>null</td><td>0.0</td><td>4.0</td><td>4.0</td><td>2.0</td><td>6.0</td><td>2.0</td><td>8.0</td><td>8.0</td><td>16.0</td><td>4.0</td><td>20.0</td><td>4.0</td><td>8.0</td><td>42.0</td><td>15.0</td><td>256.0</td><td>null</td><td>8.0</td><td>null</td></tr><tr><td>&quot;50%&quot;</td><td>null</td><td>null</td><td>18.0</td><td>372750.0</td><td>497.0</td><td>375.0</td><td>null</td><td>16.0</td><td>750.0</td><td>994.0</td><td>3.0</td><td>2.0</td><td>300000.0</td><td>0.0</td><td>0.0</td><td>null</td><td>256.0</td><td>1.1</td><td>0.0</td><td>0.0</td><td>null</td><td>0.0</td><td>4.0</td><td>4.0</td><td>2.0</td><td>6.0</td><td>2.0</td><td>8.0</td><td>8.0</td><td>16.0</td><td>4.0</td><td>20.0</td><td>4.0</td><td>8.0</td><td>42.0</td><td>18.0</td><td>256.0</td><td>null</td><td>8.0</td><td>null</td></tr><tr><td>&quot;75%&quot;</td><td>null</td><td>null</td><td>21.0</td><td>559124.0</td><td>745.0</td><td>562.0</td><td>null</td><td>23.0</td><td>750.0</td><td>994.0</td><td>3.0</td><td>2.0</td><td>300000.0</td><td>0.0</td><td>0.0</td><td>null</td><td>256.0</td><td>1.1</td><td>0.0</td><td>0.0</td><td>null</td><td>0.0</td><td>4.0</td><td>4.0</td><td>2.0</td><td>6.0</td><td>2.0</td><td>8.0</td><td>8.0</td><td>16.0</td><td>4.0</td><td>20.0</td><td>4.0</td><td>8.0</td><td>42.0</td><td>21.0</td><td>256.0</td><td>null</td><td>8.0</td><td>null</td></tr><tr><td>&quot;max&quot;</td><td>&quot;0664000f00048003002e0001&quot;</td><td>1.0</td><td>24.0</td><td>745499.0</td><td>993.0</td><td>749.0</td><td>null</td><td>30.0</td><td>750.0</td><td>994.0</td><td>3.0</td><td>2.0</td><td>300000.0</td><td>0.0</td><td>0.0</td><td>0.0</td><td>256.0</td><td>1.1</td><td>0.0</td><td>0.0</td><td>null</td><td>0.0</td><td>4.0</td><td>4.0</td><td>2.0</td><td>6.0</td><td>2.0</td><td>8.0</td><td>8.0</td><td>16.0</td><td>4.0</td><td>20.0</td><td>4.0</td><td>8.0</td><td>42.0</td><td>24.0</td><td>256.0</td><td>null</td><td>8.0</td><td>null</td></tr></tbody></table></div>"
      ],
      "text/plain": [
       "shape: (9, 41)\n",
       "┌───────────┬───────────┬───────────┬───────────┬───┬───────────┬───────────┬───────────┬──────────┐\n",
       "│ statistic ┆ data_hex  ┆ is_extant ┆ fitness   ┆ … ┆ CEREBRASL ┆ CEREBRASL ┆ CEREBRASL ┆ ASYNC_GA │\n",
       "│ ---       ┆ ---       ┆ ---       ┆ ---       ┆   ┆ IB_TRAITL ┆ IB_TRAITL ┆ IB_TRAITL ┆ _GENOME_ │\n",
       "│ str       ┆ str       ┆ f64       ┆ f64       ┆   ┆ OGGER_NUM ┆ OGGER_DST ┆ OGGER_DIL ┆ FLAVOR   │\n",
       "│           ┆           ┆           ┆           ┆   ┆ _BI…      ┆ REA…      ┆ ATI…      ┆ ---      │\n",
       "│           ┆           ┆           ┆           ┆   ┆ ---       ┆ ---       ┆ ---       ┆ str      │\n",
       "│           ┆           ┆           ┆           ┆   ┆ f64       ┆ str       ┆ f64       ┆          │\n",
       "╞═══════════╪═══════════╪═══════════╪═══════════╪═══╪═══════════╪═══════════╪═══════════╪══════════╡\n",
       "│ count     ┆ 22365000  ┆ 2.2365e7  ┆ 2.2365e7  ┆ … ┆ 2.2365e7  ┆ 22365000  ┆ 2.2365e7  ┆ 22365000 │\n",
       "│ null_coun ┆ 0         ┆ 0.0       ┆ 0.0       ┆ … ┆ 0.0       ┆ 0         ┆ 0.0       ┆ 0        │\n",
       "│ t         ┆           ┆           ┆           ┆   ┆           ┆           ┆           ┆          │\n",
       "│ mean      ┆ null      ┆ 1.0       ┆ 17.917253 ┆ … ┆ 256.0     ┆ null      ┆ 8.0       ┆ null     │\n",
       "│ std       ┆ null      ┆ null      ┆ 4.224545  ┆ … ┆ 0.0       ┆ null      ┆ 0.0       ┆ null     │\n",
       "│ min       ┆ 0001000c0 ┆ 1.0       ┆ 9.0       ┆ … ┆ 256.0     ┆ null      ┆ 8.0       ┆ null     │\n",
       "│           ┆ 004702ebe ┆           ┆           ┆   ┆           ┆           ┆           ┆          │\n",
       "│           ┆ ef0ace    ┆           ┆           ┆   ┆           ┆           ┆           ┆          │\n",
       "│ 25%       ┆ null      ┆ null      ┆ 15.0      ┆ … ┆ 256.0     ┆ null      ┆ 8.0       ┆ null     │\n",
       "│ 50%       ┆ null      ┆ null      ┆ 18.0      ┆ … ┆ 256.0     ┆ null      ┆ 8.0       ┆ null     │\n",
       "│ 75%       ┆ null      ┆ null      ┆ 21.0      ┆ … ┆ 256.0     ┆ null      ┆ 8.0       ┆ null     │\n",
       "│ max       ┆ 0664000f0 ┆ 1.0       ┆ 24.0      ┆ … ┆ 256.0     ┆ null      ┆ 8.0       ┆ null     │\n",
       "│           ┆ 004800300 ┆           ┆           ┆   ┆           ┆           ┆           ┆          │\n",
       "│           ┆ 2e0001    ┆           ┆           ┆   ┆           ┆           ┆           ┆          │\n",
       "└───────────┴───────────┴───────────┴───────────┴───┴───────────┴───────────┴───────────┴──────────┘"
      ]
     },
     "metadata": {},
     "output_type": "display_data"
    },
    {
     "data": {
      "text/html": [
       "<div><style>\n",
       ".dataframe > thead > tr,\n",
       ".dataframe > tbody > tr {\n",
       "  text-align: right;\n",
       "  white-space: pre-wrap;\n",
       "}\n",
       "</style>\n",
       "<small>shape: (5, 40)</small><table border=\"1\" class=\"dataframe\"><thead><tr><th>data_hex</th><th>is_extant</th><th>fitness</th><th>tile</th><th>row</th><th>col</th><th>genomeFlavor</th><th>globalSeed</th><th>nCol</th><th>nRow</th><th>nWav</th><th>nTrait</th><th>nCycle</th><th>nColSubgrid</th><th>nRowSubgrid</th><th>nonBlock</th><th>tilePopSize</th><th>tournSize</th><th>msec</th><th>tsc</th><th>replicate</th><th>netbencount_hexoffset</th><th>netbencount_hexwidth</th><th>mutator_hexoffset</th><th>mutator_hexwidth</th><th>delcount_hexoffset</th><th>delcount_hexwidth</th><th>counter_hexoffset</th><th>counter_hexwidth</th><th>snapshot_netbencount_hexoffset</th><th>snapshot_netbencount_hexwidth</th><th>snapshot_counter_hexoffset</th><th>snapshot_counter_hexwidth</th><th>snapshot_counter_dilation</th><th>_compconf_dummy</th><th>CEREBRASLIB_HYPERMUT_NUM_AVAIL_BEN_MUTS</th><th>CEREBRASLIB_TRAITLOGGER_NUM_BITS</th><th>CEREBRASLIB_TRAITLOGGER_DSTREAM_ALGO_NAME</th><th>CEREBRASLIB_TRAITLOGGER_DILATION</th><th>ASYNC_GA_GENOME_FLAVOR</th></tr><tr><td>str</td><td>bool</td><td>f32</td><td>u32</td><td>u16</td><td>u16</td><td>cat</td><td>u32</td><td>u16</td><td>u16</td><td>u8</td><td>u8</td><td>u32</td><td>u16</td><td>u16</td><td>bool</td><td>u16</td><td>f32</td><td>f32</td><td>u64</td><td>cat</td><td>u8</td><td>u8</td><td>u8</td><td>u8</td><td>u8</td><td>u8</td><td>u8</td><td>u8</td><td>u8</td><td>u8</td><td>u8</td><td>u8</td><td>u8</td><td>u32</td><td>i16</td><td>u32</td><td>cat</td><td>u32</td><td>cat</td></tr></thead><tbody><tr><td>&quot;0001000c000473cabeef0ace&quot;</td><td>true</td><td>12.0</td><td>0</td><td>0</td><td>0</td><td>&quot;genome_hypermutator_cappedxl_d…</td><td>1</td><td>750</td><td>994</td><td>3</td><td>2</td><td>300000</td><td>0</td><td>0</td><td>false</td><td>256</td><td>1.1</td><td>0.0</td><td>0</td><td>&quot;93a0f38e-bfd5-4257-bade-2a1aab…</td><td>0</td><td>4</td><td>4</td><td>2</td><td>6</td><td>2</td><td>8</td><td>8</td><td>16</td><td>4</td><td>20</td><td>4</td><td>8</td><td>42</td><td>12</td><td>256</td><td>&quot;hybrid_0_steady_1_stretched_2_…</td><td>8</td><td>&quot;genome_hypermutator_cappedxl_d…</td></tr><tr><td>&quot;0001000c000478f2beef0ace&quot;</td><td>true</td><td>12.0</td><td>1</td><td>0</td><td>1</td><td>&quot;genome_hypermutator_cappedxl_d…</td><td>1</td><td>750</td><td>994</td><td>3</td><td>2</td><td>300000</td><td>0</td><td>0</td><td>false</td><td>256</td><td>1.1</td><td>0.0</td><td>0</td><td>&quot;93a0f38e-bfd5-4257-bade-2a1aab…</td><td>0</td><td>4</td><td>4</td><td>2</td><td>6</td><td>2</td><td>8</td><td>8</td><td>16</td><td>4</td><td>20</td><td>4</td><td>8</td><td>42</td><td>12</td><td>256</td><td>&quot;hybrid_0_steady_1_stretched_2_…</td><td>8</td><td>&quot;genome_hypermutator_cappedxl_d…</td></tr><tr><td>&quot;0001000c000478f8beef0ace&quot;</td><td>true</td><td>12.0</td><td>2</td><td>0</td><td>2</td><td>&quot;genome_hypermutator_cappedxl_d…</td><td>1</td><td>750</td><td>994</td><td>3</td><td>2</td><td>300000</td><td>0</td><td>0</td><td>false</td><td>256</td><td>1.1</td><td>0.0</td><td>0</td><td>&quot;93a0f38e-bfd5-4257-bade-2a1aab…</td><td>0</td><td>4</td><td>4</td><td>2</td><td>6</td><td>2</td><td>8</td><td>8</td><td>16</td><td>4</td><td>20</td><td>4</td><td>8</td><td>42</td><td>12</td><td>256</td><td>&quot;hybrid_0_steady_1_stretched_2_…</td><td>8</td><td>&quot;genome_hypermutator_cappedxl_d…</td></tr><tr><td>&quot;0001000c000478febeef0ace&quot;</td><td>true</td><td>12.0</td><td>3</td><td>0</td><td>3</td><td>&quot;genome_hypermutator_cappedxl_d…</td><td>1</td><td>750</td><td>994</td><td>3</td><td>2</td><td>300000</td><td>0</td><td>0</td><td>false</td><td>256</td><td>1.1</td><td>0.0</td><td>0</td><td>&quot;93a0f38e-bfd5-4257-bade-2a1aab…</td><td>0</td><td>4</td><td>4</td><td>2</td><td>6</td><td>2</td><td>8</td><td>8</td><td>16</td><td>4</td><td>20</td><td>4</td><td>8</td><td>42</td><td>12</td><td>256</td><td>&quot;hybrid_0_steady_1_stretched_2_…</td><td>8</td><td>&quot;genome_hypermutator_cappedxl_d…</td></tr><tr><td>&quot;0001000c000478f7beef0ace&quot;</td><td>true</td><td>12.0</td><td>4</td><td>0</td><td>4</td><td>&quot;genome_hypermutator_cappedxl_d…</td><td>1</td><td>750</td><td>994</td><td>3</td><td>2</td><td>300000</td><td>0</td><td>0</td><td>false</td><td>256</td><td>1.1</td><td>0.0</td><td>0</td><td>&quot;93a0f38e-bfd5-4257-bade-2a1aab…</td><td>0</td><td>4</td><td>4</td><td>2</td><td>6</td><td>2</td><td>8</td><td>8</td><td>16</td><td>4</td><td>20</td><td>4</td><td>8</td><td>42</td><td>12</td><td>256</td><td>&quot;hybrid_0_steady_1_stretched_2_…</td><td>8</td><td>&quot;genome_hypermutator_cappedxl_d…</td></tr></tbody></table></div>"
      ],
      "text/plain": [
       "shape: (5, 40)\n",
       "┌─────────────┬───────────┬─────────┬──────┬───┬────────────┬────────────┬────────────┬────────────┐\n",
       "│ data_hex    ┆ is_extant ┆ fitness ┆ tile ┆ … ┆ CEREBRASLI ┆ CEREBRASLI ┆ CEREBRASLI ┆ ASYNC_GA_G │\n",
       "│ ---         ┆ ---       ┆ ---     ┆ ---  ┆   ┆ B_TRAITLOG ┆ B_TRAITLOG ┆ B_TRAITLOG ┆ ENOME_FLAV │\n",
       "│ str         ┆ bool      ┆ f32     ┆ u32  ┆   ┆ GER_NUM_BI ┆ GER_DSTREA ┆ GER_DILATI ┆ OR         │\n",
       "│             ┆           ┆         ┆      ┆   ┆ …          ┆ …          ┆ …          ┆ ---        │\n",
       "│             ┆           ┆         ┆      ┆   ┆ ---        ┆ ---        ┆ ---        ┆ cat        │\n",
       "│             ┆           ┆         ┆      ┆   ┆ u32        ┆ cat        ┆ u32        ┆            │\n",
       "╞═════════════╪═══════════╪═════════╪══════╪═══╪════════════╪════════════╪════════════╪════════════╡\n",
       "│ 0001000c000 ┆ true      ┆ 12.0    ┆ 0    ┆ … ┆ 256        ┆ hybrid_0_s ┆ 8          ┆ genome_hyp │\n",
       "│ 473cabeef0a ┆           ┆         ┆      ┆   ┆            ┆ teady_1_st ┆            ┆ ermutator_ │\n",
       "│ ce          ┆           ┆         ┆      ┆   ┆            ┆ retched_2_ ┆            ┆ cappedxl_d │\n",
       "│             ┆           ┆         ┆      ┆   ┆            ┆ …          ┆            ┆ …          │\n",
       "│ 0001000c000 ┆ true      ┆ 12.0    ┆ 1    ┆ … ┆ 256        ┆ hybrid_0_s ┆ 8          ┆ genome_hyp │\n",
       "│ 478f2beef0a ┆           ┆         ┆      ┆   ┆            ┆ teady_1_st ┆            ┆ ermutator_ │\n",
       "│ ce          ┆           ┆         ┆      ┆   ┆            ┆ retched_2_ ┆            ┆ cappedxl_d │\n",
       "│             ┆           ┆         ┆      ┆   ┆            ┆ …          ┆            ┆ …          │\n",
       "│ 0001000c000 ┆ true      ┆ 12.0    ┆ 2    ┆ … ┆ 256        ┆ hybrid_0_s ┆ 8          ┆ genome_hyp │\n",
       "│ 478f8beef0a ┆           ┆         ┆      ┆   ┆            ┆ teady_1_st ┆            ┆ ermutator_ │\n",
       "│ ce          ┆           ┆         ┆      ┆   ┆            ┆ retched_2_ ┆            ┆ cappedxl_d │\n",
       "│             ┆           ┆         ┆      ┆   ┆            ┆ …          ┆            ┆ …          │\n",
       "│ 0001000c000 ┆ true      ┆ 12.0    ┆ 3    ┆ … ┆ 256        ┆ hybrid_0_s ┆ 8          ┆ genome_hyp │\n",
       "│ 478febeef0a ┆           ┆         ┆      ┆   ┆            ┆ teady_1_st ┆            ┆ ermutator_ │\n",
       "│ ce          ┆           ┆         ┆      ┆   ┆            ┆ retched_2_ ┆            ┆ cappedxl_d │\n",
       "│             ┆           ┆         ┆      ┆   ┆            ┆ …          ┆            ┆ …          │\n",
       "│ 0001000c000 ┆ true      ┆ 12.0    ┆ 4    ┆ … ┆ 256        ┆ hybrid_0_s ┆ 8          ┆ genome_hyp │\n",
       "│ 478f7beef0a ┆           ┆         ┆      ┆   ┆            ┆ teady_1_st ┆            ┆ ermutator_ │\n",
       "│ ce          ┆           ┆         ┆      ┆   ┆            ┆ retched_2_ ┆            ┆ cappedxl_d │\n",
       "│             ┆           ┆         ┆      ┆   ┆            ┆ …          ┆            ┆ …          │\n",
       "└─────────────┴───────────┴─────────┴──────┴───┴────────────┴────────────┴────────────┴────────────┘"
      ]
     },
     "metadata": {},
     "output_type": "display_data"
    },
    {
     "data": {
      "text/html": [
       "<div><style>\n",
       ".dataframe > thead > tr,\n",
       ".dataframe > tbody > tr {\n",
       "  text-align: right;\n",
       "  white-space: pre-wrap;\n",
       "}\n",
       "</style>\n",
       "<small>shape: (5, 40)</small><table border=\"1\" class=\"dataframe\"><thead><tr><th>data_hex</th><th>is_extant</th><th>fitness</th><th>tile</th><th>row</th><th>col</th><th>genomeFlavor</th><th>globalSeed</th><th>nCol</th><th>nRow</th><th>nWav</th><th>nTrait</th><th>nCycle</th><th>nColSubgrid</th><th>nRowSubgrid</th><th>nonBlock</th><th>tilePopSize</th><th>tournSize</th><th>msec</th><th>tsc</th><th>replicate</th><th>netbencount_hexoffset</th><th>netbencount_hexwidth</th><th>mutator_hexoffset</th><th>mutator_hexwidth</th><th>delcount_hexoffset</th><th>delcount_hexwidth</th><th>counter_hexoffset</th><th>counter_hexwidth</th><th>snapshot_netbencount_hexoffset</th><th>snapshot_netbencount_hexwidth</th><th>snapshot_counter_hexoffset</th><th>snapshot_counter_hexwidth</th><th>snapshot_counter_dilation</th><th>_compconf_dummy</th><th>CEREBRASLIB_HYPERMUT_NUM_AVAIL_BEN_MUTS</th><th>CEREBRASLIB_TRAITLOGGER_NUM_BITS</th><th>CEREBRASLIB_TRAITLOGGER_DSTREAM_ALGO_NAME</th><th>CEREBRASLIB_TRAITLOGGER_DILATION</th><th>ASYNC_GA_GENOME_FLAVOR</th></tr><tr><td>str</td><td>bool</td><td>f32</td><td>u32</td><td>u16</td><td>u16</td><td>cat</td><td>u32</td><td>u16</td><td>u16</td><td>u8</td><td>u8</td><td>u32</td><td>u16</td><td>u16</td><td>bool</td><td>u16</td><td>f32</td><td>f32</td><td>u64</td><td>cat</td><td>u8</td><td>u8</td><td>u8</td><td>u8</td><td>u8</td><td>u8</td><td>u8</td><td>u8</td><td>u8</td><td>u8</td><td>u8</td><td>u8</td><td>u8</td><td>u32</td><td>i16</td><td>u32</td><td>cat</td><td>u32</td><td>cat</td></tr></thead><tbody><tr><td>&quot;0064001800047a8000300001&quot;</td><td>true</td><td>24.0</td><td>745495</td><td>993</td><td>745</td><td>&quot;genome_hypermutator_cappedxl_d…</td><td>30</td><td>750</td><td>994</td><td>3</td><td>2</td><td>300000</td><td>0</td><td>0</td><td>false</td><td>256</td><td>1.1</td><td>0.0</td><td>0</td><td>&quot;1c63611f-1aec-4e9a-afd4-67a2a5…</td><td>0</td><td>4</td><td>4</td><td>2</td><td>6</td><td>2</td><td>8</td><td>8</td><td>16</td><td>4</td><td>20</td><td>4</td><td>8</td><td>42</td><td>24</td><td>256</td><td>&quot;hybrid_0_steady_1_stretched_2_…</td><td>8</td><td>&quot;genome_hypermutator_cappedxl_d…</td></tr><tr><td>&quot;0064001800047a5b00300001&quot;</td><td>true</td><td>24.0</td><td>745496</td><td>993</td><td>746</td><td>&quot;genome_hypermutator_cappedxl_d…</td><td>30</td><td>750</td><td>994</td><td>3</td><td>2</td><td>300000</td><td>0</td><td>0</td><td>false</td><td>256</td><td>1.1</td><td>0.0</td><td>0</td><td>&quot;1c63611f-1aec-4e9a-afd4-67a2a5…</td><td>0</td><td>4</td><td>4</td><td>2</td><td>6</td><td>2</td><td>8</td><td>8</td><td>16</td><td>4</td><td>20</td><td>4</td><td>8</td><td>42</td><td>24</td><td>256</td><td>&quot;hybrid_0_steady_1_stretched_2_…</td><td>8</td><td>&quot;genome_hypermutator_cappedxl_d…</td></tr><tr><td>&quot;0064001800047b3a00310001&quot;</td><td>true</td><td>24.0</td><td>745497</td><td>993</td><td>747</td><td>&quot;genome_hypermutator_cappedxl_d…</td><td>30</td><td>750</td><td>994</td><td>3</td><td>2</td><td>300000</td><td>0</td><td>0</td><td>false</td><td>256</td><td>1.1</td><td>0.0</td><td>0</td><td>&quot;1c63611f-1aec-4e9a-afd4-67a2a5…</td><td>0</td><td>4</td><td>4</td><td>2</td><td>6</td><td>2</td><td>8</td><td>8</td><td>16</td><td>4</td><td>20</td><td>4</td><td>8</td><td>42</td><td>24</td><td>256</td><td>&quot;hybrid_0_steady_1_stretched_2_…</td><td>8</td><td>&quot;genome_hypermutator_cappedxl_d…</td></tr><tr><td>&quot;0064001800047a9200300001&quot;</td><td>true</td><td>24.0</td><td>745498</td><td>993</td><td>748</td><td>&quot;genome_hypermutator_cappedxl_d…</td><td>30</td><td>750</td><td>994</td><td>3</td><td>2</td><td>300000</td><td>0</td><td>0</td><td>false</td><td>256</td><td>1.1</td><td>0.0</td><td>0</td><td>&quot;1c63611f-1aec-4e9a-afd4-67a2a5…</td><td>0</td><td>4</td><td>4</td><td>2</td><td>6</td><td>2</td><td>8</td><td>8</td><td>16</td><td>4</td><td>20</td><td>4</td><td>8</td><td>42</td><td>24</td><td>256</td><td>&quot;hybrid_0_steady_1_stretched_2_…</td><td>8</td><td>&quot;genome_hypermutator_cappedxl_d…</td></tr><tr><td>&quot;006400180004761100310001&quot;</td><td>true</td><td>24.0</td><td>745499</td><td>993</td><td>749</td><td>&quot;genome_hypermutator_cappedxl_d…</td><td>30</td><td>750</td><td>994</td><td>3</td><td>2</td><td>300000</td><td>0</td><td>0</td><td>false</td><td>256</td><td>1.1</td><td>0.0</td><td>0</td><td>&quot;1c63611f-1aec-4e9a-afd4-67a2a5…</td><td>0</td><td>4</td><td>4</td><td>2</td><td>6</td><td>2</td><td>8</td><td>8</td><td>16</td><td>4</td><td>20</td><td>4</td><td>8</td><td>42</td><td>24</td><td>256</td><td>&quot;hybrid_0_steady_1_stretched_2_…</td><td>8</td><td>&quot;genome_hypermutator_cappedxl_d…</td></tr></tbody></table></div>"
      ],
      "text/plain": [
       "shape: (5, 40)\n",
       "┌────────────┬───────────┬─────────┬────────┬───┬────────────┬────────────┬────────────┬───────────┐\n",
       "│ data_hex   ┆ is_extant ┆ fitness ┆ tile   ┆ … ┆ CEREBRASLI ┆ CEREBRASLI ┆ CEREBRASLI ┆ ASYNC_GA_ │\n",
       "│ ---        ┆ ---       ┆ ---     ┆ ---    ┆   ┆ B_TRAITLOG ┆ B_TRAITLOG ┆ B_TRAITLOG ┆ GENOME_FL │\n",
       "│ str        ┆ bool      ┆ f32     ┆ u32    ┆   ┆ GER_NUM_BI ┆ GER_DSTREA ┆ GER_DILATI ┆ AVOR      │\n",
       "│            ┆           ┆         ┆        ┆   ┆ …          ┆ …          ┆ …          ┆ ---       │\n",
       "│            ┆           ┆         ┆        ┆   ┆ ---        ┆ ---        ┆ ---        ┆ cat       │\n",
       "│            ┆           ┆         ┆        ┆   ┆ u32        ┆ cat        ┆ u32        ┆           │\n",
       "╞════════════╪═══════════╪═════════╪════════╪═══╪════════════╪════════════╪════════════╪═══════════╡\n",
       "│ 0064001800 ┆ true      ┆ 24.0    ┆ 745495 ┆ … ┆ 256        ┆ hybrid_0_s ┆ 8          ┆ genome_hy │\n",
       "│ 047a800030 ┆           ┆         ┆        ┆   ┆            ┆ teady_1_st ┆            ┆ permutato │\n",
       "│ 0001       ┆           ┆         ┆        ┆   ┆            ┆ retched_2_ ┆            ┆ r_cappedx │\n",
       "│            ┆           ┆         ┆        ┆   ┆            ┆ …          ┆            ┆ l_d…      │\n",
       "│ 0064001800 ┆ true      ┆ 24.0    ┆ 745496 ┆ … ┆ 256        ┆ hybrid_0_s ┆ 8          ┆ genome_hy │\n",
       "│ 047a5b0030 ┆           ┆         ┆        ┆   ┆            ┆ teady_1_st ┆            ┆ permutato │\n",
       "│ 0001       ┆           ┆         ┆        ┆   ┆            ┆ retched_2_ ┆            ┆ r_cappedx │\n",
       "│            ┆           ┆         ┆        ┆   ┆            ┆ …          ┆            ┆ l_d…      │\n",
       "│ 0064001800 ┆ true      ┆ 24.0    ┆ 745497 ┆ … ┆ 256        ┆ hybrid_0_s ┆ 8          ┆ genome_hy │\n",
       "│ 047b3a0031 ┆           ┆         ┆        ┆   ┆            ┆ teady_1_st ┆            ┆ permutato │\n",
       "│ 0001       ┆           ┆         ┆        ┆   ┆            ┆ retched_2_ ┆            ┆ r_cappedx │\n",
       "│            ┆           ┆         ┆        ┆   ┆            ┆ …          ┆            ┆ l_d…      │\n",
       "│ 0064001800 ┆ true      ┆ 24.0    ┆ 745498 ┆ … ┆ 256        ┆ hybrid_0_s ┆ 8          ┆ genome_hy │\n",
       "│ 047a920030 ┆           ┆         ┆        ┆   ┆            ┆ teady_1_st ┆            ┆ permutato │\n",
       "│ 0001       ┆           ┆         ┆        ┆   ┆            ┆ retched_2_ ┆            ┆ r_cappedx │\n",
       "│            ┆           ┆         ┆        ┆   ┆            ┆ …          ┆            ┆ l_d…      │\n",
       "│ 0064001800 ┆ true      ┆ 24.0    ┆ 745499 ┆ … ┆ 256        ┆ hybrid_0_s ┆ 8          ┆ genome_hy │\n",
       "│ 0476110031 ┆           ┆         ┆        ┆   ┆            ┆ teady_1_st ┆            ┆ permutato │\n",
       "│ 0001       ┆           ┆         ┆        ┆   ┆            ┆ retched_2_ ┆            ┆ r_cappedx │\n",
       "│            ┆           ┆         ┆        ┆   ┆            ┆ …          ┆            ┆ l_d…      │\n",
       "└────────────┴───────────┴─────────┴────────┴───┴────────────┴────────────┴────────────┴───────────┘"
      ]
     },
     "metadata": {},
     "output_type": "display_data"
    }
   ],
   "source": [
    "dfxs = pl.from_pandas(\n",
    "    pd.read_parquet(\"https://osf.io/rpbwg/download\"),\n",
    ")\n",
    "display(dfxs.describe()), display(dfxs.head()), display(dfxs.tail());\n"
   ]
  },
  {
   "cell_type": "code",
   "execution_count": 6,
   "metadata": {
    "execution": {
     "iopub.execute_input": "2025-03-02T01:16:26.929812Z",
     "iopub.status.busy": "2025-03-02T01:16:26.929594Z",
     "iopub.status.idle": "2025-03-02T01:16:26.933018Z",
     "shell.execute_reply": "2025-03-02T01:16:26.932525Z"
    }
   },
   "outputs": [],
   "source": [
    "def correct_endianness(name: str) -> pl.Expr:\n",
    "    offset = name + \"_hexoffset\"\n",
    "    width = name + \"_hexwidth\"\n",
    "    return (\n",
    "        pl.col(offset)\n",
    "        - pl.col(offset).mod(8)\n",
    "        + pl.col(offset).mod(8).xor(7)\n",
    "        - (pl.col(width) - 1)\n",
    "    )\n"
   ]
  },
  {
   "cell_type": "code",
   "execution_count": 7,
   "metadata": {
    "execution": {
     "iopub.execute_input": "2025-03-02T01:16:26.934921Z",
     "iopub.status.busy": "2025-03-02T01:16:26.934542Z",
     "iopub.status.idle": "2025-03-02T01:16:28.626243Z",
     "shell.execute_reply": "2025-03-02T01:16:28.625640Z"
    }
   },
   "outputs": [
    {
     "data": {
      "text/html": [
       "<div><style>\n",
       ".dataframe > thead > tr,\n",
       ".dataframe > tbody > tr {\n",
       "  text-align: right;\n",
       "  white-space: pre-wrap;\n",
       "}\n",
       "</style>\n",
       "<small>shape: (9, 41)</small><table border=\"1\" class=\"dataframe\"><thead><tr><th>statistic</th><th>data_hex</th><th>is_extant</th><th>fitness</th><th>tile</th><th>row</th><th>col</th><th>genomeFlavor</th><th>globalSeed</th><th>nCol</th><th>nRow</th><th>nWav</th><th>nTrait</th><th>nCycle</th><th>nColSubgrid</th><th>nRowSubgrid</th><th>nonBlock</th><th>tilePopSize</th><th>tournSize</th><th>msec</th><th>tsc</th><th>replicate</th><th>netbencount_hexoffset</th><th>netbencount_hexwidth</th><th>mutator_hexoffset</th><th>mutator_hexwidth</th><th>delcount_hexoffset</th><th>delcount_hexwidth</th><th>counter_hexoffset</th><th>counter_hexwidth</th><th>snapshot_netbencount_hexoffset</th><th>snapshot_netbencount_hexwidth</th><th>snapshot_counter_hexoffset</th><th>snapshot_counter_hexwidth</th><th>snapshot_counter_dilation</th><th>_compconf_dummy</th><th>CEREBRASLIB_HYPERMUT_NUM_AVAIL_BEN_MUTS</th><th>CEREBRASLIB_TRAITLOGGER_NUM_BITS</th><th>CEREBRASLIB_TRAITLOGGER_DSTREAM_ALGO_NAME</th><th>CEREBRASLIB_TRAITLOGGER_DILATION</th><th>ASYNC_GA_GENOME_FLAVOR</th></tr><tr><td>str</td><td>str</td><td>f64</td><td>f64</td><td>f64</td><td>f64</td><td>f64</td><td>str</td><td>f64</td><td>f64</td><td>f64</td><td>f64</td><td>f64</td><td>f64</td><td>f64</td><td>f64</td><td>f64</td><td>f64</td><td>f64</td><td>f64</td><td>f64</td><td>str</td><td>f64</td><td>f64</td><td>f64</td><td>f64</td><td>f64</td><td>f64</td><td>f64</td><td>f64</td><td>f64</td><td>f64</td><td>f64</td><td>f64</td><td>f64</td><td>f64</td><td>f64</td><td>f64</td><td>str</td><td>f64</td><td>str</td></tr></thead><tbody><tr><td>&quot;count&quot;</td><td>&quot;22365000&quot;</td><td>2.2365e7</td><td>2.2365e7</td><td>2.2365e7</td><td>2.2365e7</td><td>2.2365e7</td><td>&quot;22365000&quot;</td><td>2.2365e7</td><td>2.2365e7</td><td>2.2365e7</td><td>2.2365e7</td><td>2.2365e7</td><td>2.2365e7</td><td>2.2365e7</td><td>2.2365e7</td><td>2.2365e7</td><td>2.2365e7</td><td>2.2365e7</td><td>2.2365e7</td><td>2.2365e7</td><td>&quot;22365000&quot;</td><td>2.2365e7</td><td>2.2365e7</td><td>2.2365e7</td><td>2.2365e7</td><td>2.2365e7</td><td>2.2365e7</td><td>2.2365e7</td><td>2.2365e7</td><td>2.2365e7</td><td>2.2365e7</td><td>2.2365e7</td><td>2.2365e7</td><td>2.2365e7</td><td>2.2365e7</td><td>2.2365e7</td><td>2.2365e7</td><td>&quot;22365000&quot;</td><td>2.2365e7</td><td>&quot;22365000&quot;</td></tr><tr><td>&quot;null_count&quot;</td><td>&quot;0&quot;</td><td>0.0</td><td>0.0</td><td>0.0</td><td>0.0</td><td>0.0</td><td>&quot;0&quot;</td><td>0.0</td><td>0.0</td><td>0.0</td><td>0.0</td><td>0.0</td><td>0.0</td><td>0.0</td><td>0.0</td><td>0.0</td><td>0.0</td><td>0.0</td><td>0.0</td><td>0.0</td><td>&quot;0&quot;</td><td>0.0</td><td>0.0</td><td>0.0</td><td>0.0</td><td>0.0</td><td>0.0</td><td>0.0</td><td>0.0</td><td>0.0</td><td>0.0</td><td>0.0</td><td>0.0</td><td>0.0</td><td>0.0</td><td>0.0</td><td>0.0</td><td>&quot;0&quot;</td><td>0.0</td><td>&quot;0&quot;</td></tr><tr><td>&quot;mean&quot;</td><td>null</td><td>1.0</td><td>17.917253</td><td>372749.5</td><td>496.5</td><td>374.5</td><td>null</td><td>15.5</td><td>750.0</td><td>994.0</td><td>3.0</td><td>2.0</td><td>300000.0</td><td>0.0</td><td>0.0</td><td>0.0</td><td>256.0</td><td>1.1</td><td>0.0</td><td>0.0</td><td>null</td><td>4.0</td><td>4.0</td><td>2.0</td><td>2.0</td><td>0.0</td><td>2.0</td><td>8.0</td><td>8.0</td><td>20.0</td><td>4.0</td><td>16.0</td><td>4.0</td><td>256.0</td><td>42.0</td><td>18.0</td><td>256.0</td><td>null</td><td>8.0</td><td>null</td></tr><tr><td>&quot;std&quot;</td><td>null</td><td>null</td><td>4.224545</td><td>215207.317651</td><td>286.942945</td><td>216.506163</td><td>null</td><td>8.655442</td><td>0.0</td><td>0.0</td><td>0.0</td><td>0.0</td><td>0.0</td><td>0.0</td><td>0.0</td><td>null</td><td>0.0</td><td>0.0</td><td>0.0</td><td>0.0</td><td>null</td><td>0.0</td><td>0.0</td><td>0.0</td><td>0.0</td><td>0.0</td><td>0.0</td><td>0.0</td><td>0.0</td><td>0.0</td><td>0.0</td><td>0.0</td><td>0.0</td><td>0.0</td><td>0.0</td><td>4.242641</td><td>0.0</td><td>null</td><td>0.0</td><td>null</td></tr><tr><td>&quot;min&quot;</td><td>&quot;0001000c0004702ebeef0ace&quot;</td><td>1.0</td><td>9.0</td><td>0.0</td><td>0.0</td><td>0.0</td><td>null</td><td>1.0</td><td>750.0</td><td>994.0</td><td>3.0</td><td>2.0</td><td>300000.0</td><td>0.0</td><td>0.0</td><td>0.0</td><td>256.0</td><td>1.1</td><td>0.0</td><td>0.0</td><td>null</td><td>4.0</td><td>4.0</td><td>2.0</td><td>2.0</td><td>0.0</td><td>2.0</td><td>8.0</td><td>8.0</td><td>20.0</td><td>4.0</td><td>16.0</td><td>4.0</td><td>256.0</td><td>42.0</td><td>12.0</td><td>256.0</td><td>null</td><td>8.0</td><td>null</td></tr><tr><td>&quot;25%&quot;</td><td>null</td><td>null</td><td>15.0</td><td>186375.0</td><td>248.0</td><td>187.0</td><td>null</td><td>8.0</td><td>750.0</td><td>994.0</td><td>3.0</td><td>2.0</td><td>300000.0</td><td>0.0</td><td>0.0</td><td>null</td><td>256.0</td><td>1.1</td><td>0.0</td><td>0.0</td><td>null</td><td>4.0</td><td>4.0</td><td>2.0</td><td>2.0</td><td>0.0</td><td>2.0</td><td>8.0</td><td>8.0</td><td>20.0</td><td>4.0</td><td>16.0</td><td>4.0</td><td>256.0</td><td>42.0</td><td>15.0</td><td>256.0</td><td>null</td><td>8.0</td><td>null</td></tr><tr><td>&quot;50%&quot;</td><td>null</td><td>null</td><td>18.0</td><td>372750.0</td><td>497.0</td><td>375.0</td><td>null</td><td>16.0</td><td>750.0</td><td>994.0</td><td>3.0</td><td>2.0</td><td>300000.0</td><td>0.0</td><td>0.0</td><td>null</td><td>256.0</td><td>1.1</td><td>0.0</td><td>0.0</td><td>null</td><td>4.0</td><td>4.0</td><td>2.0</td><td>2.0</td><td>0.0</td><td>2.0</td><td>8.0</td><td>8.0</td><td>20.0</td><td>4.0</td><td>16.0</td><td>4.0</td><td>256.0</td><td>42.0</td><td>18.0</td><td>256.0</td><td>null</td><td>8.0</td><td>null</td></tr><tr><td>&quot;75%&quot;</td><td>null</td><td>null</td><td>21.0</td><td>559124.0</td><td>745.0</td><td>562.0</td><td>null</td><td>23.0</td><td>750.0</td><td>994.0</td><td>3.0</td><td>2.0</td><td>300000.0</td><td>0.0</td><td>0.0</td><td>null</td><td>256.0</td><td>1.1</td><td>0.0</td><td>0.0</td><td>null</td><td>4.0</td><td>4.0</td><td>2.0</td><td>2.0</td><td>0.0</td><td>2.0</td><td>8.0</td><td>8.0</td><td>20.0</td><td>4.0</td><td>16.0</td><td>4.0</td><td>256.0</td><td>42.0</td><td>21.0</td><td>256.0</td><td>null</td><td>8.0</td><td>null</td></tr><tr><td>&quot;max&quot;</td><td>&quot;0664000f00048003002e0001&quot;</td><td>1.0</td><td>24.0</td><td>745499.0</td><td>993.0</td><td>749.0</td><td>null</td><td>30.0</td><td>750.0</td><td>994.0</td><td>3.0</td><td>2.0</td><td>300000.0</td><td>0.0</td><td>0.0</td><td>0.0</td><td>256.0</td><td>1.1</td><td>0.0</td><td>0.0</td><td>null</td><td>4.0</td><td>4.0</td><td>2.0</td><td>2.0</td><td>0.0</td><td>2.0</td><td>8.0</td><td>8.0</td><td>20.0</td><td>4.0</td><td>16.0</td><td>4.0</td><td>256.0</td><td>42.0</td><td>24.0</td><td>256.0</td><td>null</td><td>8.0</td><td>null</td></tr></tbody></table></div>"
      ],
      "text/plain": [
       "shape: (9, 41)\n",
       "┌───────────┬───────────┬───────────┬───────────┬───┬───────────┬───────────┬───────────┬──────────┐\n",
       "│ statistic ┆ data_hex  ┆ is_extant ┆ fitness   ┆ … ┆ CEREBRASL ┆ CEREBRASL ┆ CEREBRASL ┆ ASYNC_GA │\n",
       "│ ---       ┆ ---       ┆ ---       ┆ ---       ┆   ┆ IB_TRAITL ┆ IB_TRAITL ┆ IB_TRAITL ┆ _GENOME_ │\n",
       "│ str       ┆ str       ┆ f64       ┆ f64       ┆   ┆ OGGER_NUM ┆ OGGER_DST ┆ OGGER_DIL ┆ FLAVOR   │\n",
       "│           ┆           ┆           ┆           ┆   ┆ _BI…      ┆ REA…      ┆ ATI…      ┆ ---      │\n",
       "│           ┆           ┆           ┆           ┆   ┆ ---       ┆ ---       ┆ ---       ┆ str      │\n",
       "│           ┆           ┆           ┆           ┆   ┆ f64       ┆ str       ┆ f64       ┆          │\n",
       "╞═══════════╪═══════════╪═══════════╪═══════════╪═══╪═══════════╪═══════════╪═══════════╪══════════╡\n",
       "│ count     ┆ 22365000  ┆ 2.2365e7  ┆ 2.2365e7  ┆ … ┆ 2.2365e7  ┆ 22365000  ┆ 2.2365e7  ┆ 22365000 │\n",
       "│ null_coun ┆ 0         ┆ 0.0       ┆ 0.0       ┆ … ┆ 0.0       ┆ 0         ┆ 0.0       ┆ 0        │\n",
       "│ t         ┆           ┆           ┆           ┆   ┆           ┆           ┆           ┆          │\n",
       "│ mean      ┆ null      ┆ 1.0       ┆ 17.917253 ┆ … ┆ 256.0     ┆ null      ┆ 8.0       ┆ null     │\n",
       "│ std       ┆ null      ┆ null      ┆ 4.224545  ┆ … ┆ 0.0       ┆ null      ┆ 0.0       ┆ null     │\n",
       "│ min       ┆ 0001000c0 ┆ 1.0       ┆ 9.0       ┆ … ┆ 256.0     ┆ null      ┆ 8.0       ┆ null     │\n",
       "│           ┆ 004702ebe ┆           ┆           ┆   ┆           ┆           ┆           ┆          │\n",
       "│           ┆ ef0ace    ┆           ┆           ┆   ┆           ┆           ┆           ┆          │\n",
       "│ 25%       ┆ null      ┆ null      ┆ 15.0      ┆ … ┆ 256.0     ┆ null      ┆ 8.0       ┆ null     │\n",
       "│ 50%       ┆ null      ┆ null      ┆ 18.0      ┆ … ┆ 256.0     ┆ null      ┆ 8.0       ┆ null     │\n",
       "│ 75%       ┆ null      ┆ null      ┆ 21.0      ┆ … ┆ 256.0     ┆ null      ┆ 8.0       ┆ null     │\n",
       "│ max       ┆ 0664000f0 ┆ 1.0       ┆ 24.0      ┆ … ┆ 256.0     ┆ null      ┆ 8.0       ┆ null     │\n",
       "│           ┆ 004800300 ┆           ┆           ┆   ┆           ┆           ┆           ┆          │\n",
       "│           ┆ 2e0001    ┆           ┆           ┆   ┆           ┆           ┆           ┆          │\n",
       "└───────────┴───────────┴───────────┴───────────┴───┴───────────┴───────────┴───────────┴──────────┘"
      ]
     },
     "metadata": {},
     "output_type": "display_data"
    },
    {
     "data": {
      "text/html": [
       "<div><style>\n",
       ".dataframe > thead > tr,\n",
       ".dataframe > tbody > tr {\n",
       "  text-align: right;\n",
       "  white-space: pre-wrap;\n",
       "}\n",
       "</style>\n",
       "<small>shape: (5, 40)</small><table border=\"1\" class=\"dataframe\"><thead><tr><th>data_hex</th><th>is_extant</th><th>fitness</th><th>tile</th><th>row</th><th>col</th><th>genomeFlavor</th><th>globalSeed</th><th>nCol</th><th>nRow</th><th>nWav</th><th>nTrait</th><th>nCycle</th><th>nColSubgrid</th><th>nRowSubgrid</th><th>nonBlock</th><th>tilePopSize</th><th>tournSize</th><th>msec</th><th>tsc</th><th>replicate</th><th>netbencount_hexoffset</th><th>netbencount_hexwidth</th><th>mutator_hexoffset</th><th>mutator_hexwidth</th><th>delcount_hexoffset</th><th>delcount_hexwidth</th><th>counter_hexoffset</th><th>counter_hexwidth</th><th>snapshot_netbencount_hexoffset</th><th>snapshot_netbencount_hexwidth</th><th>snapshot_counter_hexoffset</th><th>snapshot_counter_hexwidth</th><th>snapshot_counter_dilation</th><th>_compconf_dummy</th><th>CEREBRASLIB_HYPERMUT_NUM_AVAIL_BEN_MUTS</th><th>CEREBRASLIB_TRAITLOGGER_NUM_BITS</th><th>CEREBRASLIB_TRAITLOGGER_DSTREAM_ALGO_NAME</th><th>CEREBRASLIB_TRAITLOGGER_DILATION</th><th>ASYNC_GA_GENOME_FLAVOR</th></tr><tr><td>str</td><td>bool</td><td>f32</td><td>u32</td><td>u16</td><td>u16</td><td>cat</td><td>u32</td><td>u16</td><td>u16</td><td>u8</td><td>u8</td><td>u32</td><td>u16</td><td>u16</td><td>bool</td><td>u16</td><td>f32</td><td>f32</td><td>u64</td><td>cat</td><td>u8</td><td>u8</td><td>u8</td><td>u8</td><td>u8</td><td>u8</td><td>u8</td><td>u8</td><td>u8</td><td>u8</td><td>u8</td><td>u8</td><td>u16</td><td>u32</td><td>i16</td><td>u32</td><td>cat</td><td>u32</td><td>cat</td></tr></thead><tbody><tr><td>&quot;0001000c000473cabeef0ace&quot;</td><td>true</td><td>12.0</td><td>0</td><td>0</td><td>0</td><td>&quot;genome_hypermutator_cappedxl_d…</td><td>1</td><td>750</td><td>994</td><td>3</td><td>2</td><td>300000</td><td>0</td><td>0</td><td>false</td><td>256</td><td>1.1</td><td>0.0</td><td>0</td><td>&quot;93a0f38e-bfd5-4257-bade-2a1aab…</td><td>4</td><td>4</td><td>2</td><td>2</td><td>0</td><td>2</td><td>8</td><td>8</td><td>20</td><td>4</td><td>16</td><td>4</td><td>256</td><td>42</td><td>12</td><td>256</td><td>&quot;hybrid_0_steady_1_stretched_2_…</td><td>8</td><td>&quot;genome_hypermutator_cappedxl_d…</td></tr><tr><td>&quot;0001000c000478f2beef0ace&quot;</td><td>true</td><td>12.0</td><td>1</td><td>0</td><td>1</td><td>&quot;genome_hypermutator_cappedxl_d…</td><td>1</td><td>750</td><td>994</td><td>3</td><td>2</td><td>300000</td><td>0</td><td>0</td><td>false</td><td>256</td><td>1.1</td><td>0.0</td><td>0</td><td>&quot;93a0f38e-bfd5-4257-bade-2a1aab…</td><td>4</td><td>4</td><td>2</td><td>2</td><td>0</td><td>2</td><td>8</td><td>8</td><td>20</td><td>4</td><td>16</td><td>4</td><td>256</td><td>42</td><td>12</td><td>256</td><td>&quot;hybrid_0_steady_1_stretched_2_…</td><td>8</td><td>&quot;genome_hypermutator_cappedxl_d…</td></tr><tr><td>&quot;0001000c000478f8beef0ace&quot;</td><td>true</td><td>12.0</td><td>2</td><td>0</td><td>2</td><td>&quot;genome_hypermutator_cappedxl_d…</td><td>1</td><td>750</td><td>994</td><td>3</td><td>2</td><td>300000</td><td>0</td><td>0</td><td>false</td><td>256</td><td>1.1</td><td>0.0</td><td>0</td><td>&quot;93a0f38e-bfd5-4257-bade-2a1aab…</td><td>4</td><td>4</td><td>2</td><td>2</td><td>0</td><td>2</td><td>8</td><td>8</td><td>20</td><td>4</td><td>16</td><td>4</td><td>256</td><td>42</td><td>12</td><td>256</td><td>&quot;hybrid_0_steady_1_stretched_2_…</td><td>8</td><td>&quot;genome_hypermutator_cappedxl_d…</td></tr><tr><td>&quot;0001000c000478febeef0ace&quot;</td><td>true</td><td>12.0</td><td>3</td><td>0</td><td>3</td><td>&quot;genome_hypermutator_cappedxl_d…</td><td>1</td><td>750</td><td>994</td><td>3</td><td>2</td><td>300000</td><td>0</td><td>0</td><td>false</td><td>256</td><td>1.1</td><td>0.0</td><td>0</td><td>&quot;93a0f38e-bfd5-4257-bade-2a1aab…</td><td>4</td><td>4</td><td>2</td><td>2</td><td>0</td><td>2</td><td>8</td><td>8</td><td>20</td><td>4</td><td>16</td><td>4</td><td>256</td><td>42</td><td>12</td><td>256</td><td>&quot;hybrid_0_steady_1_stretched_2_…</td><td>8</td><td>&quot;genome_hypermutator_cappedxl_d…</td></tr><tr><td>&quot;0001000c000478f7beef0ace&quot;</td><td>true</td><td>12.0</td><td>4</td><td>0</td><td>4</td><td>&quot;genome_hypermutator_cappedxl_d…</td><td>1</td><td>750</td><td>994</td><td>3</td><td>2</td><td>300000</td><td>0</td><td>0</td><td>false</td><td>256</td><td>1.1</td><td>0.0</td><td>0</td><td>&quot;93a0f38e-bfd5-4257-bade-2a1aab…</td><td>4</td><td>4</td><td>2</td><td>2</td><td>0</td><td>2</td><td>8</td><td>8</td><td>20</td><td>4</td><td>16</td><td>4</td><td>256</td><td>42</td><td>12</td><td>256</td><td>&quot;hybrid_0_steady_1_stretched_2_…</td><td>8</td><td>&quot;genome_hypermutator_cappedxl_d…</td></tr></tbody></table></div>"
      ],
      "text/plain": [
       "shape: (5, 40)\n",
       "┌─────────────┬───────────┬─────────┬──────┬───┬────────────┬────────────┬────────────┬────────────┐\n",
       "│ data_hex    ┆ is_extant ┆ fitness ┆ tile ┆ … ┆ CEREBRASLI ┆ CEREBRASLI ┆ CEREBRASLI ┆ ASYNC_GA_G │\n",
       "│ ---         ┆ ---       ┆ ---     ┆ ---  ┆   ┆ B_TRAITLOG ┆ B_TRAITLOG ┆ B_TRAITLOG ┆ ENOME_FLAV │\n",
       "│ str         ┆ bool      ┆ f32     ┆ u32  ┆   ┆ GER_NUM_BI ┆ GER_DSTREA ┆ GER_DILATI ┆ OR         │\n",
       "│             ┆           ┆         ┆      ┆   ┆ …          ┆ …          ┆ …          ┆ ---        │\n",
       "│             ┆           ┆         ┆      ┆   ┆ ---        ┆ ---        ┆ ---        ┆ cat        │\n",
       "│             ┆           ┆         ┆      ┆   ┆ u32        ┆ cat        ┆ u32        ┆            │\n",
       "╞═════════════╪═══════════╪═════════╪══════╪═══╪════════════╪════════════╪════════════╪════════════╡\n",
       "│ 0001000c000 ┆ true      ┆ 12.0    ┆ 0    ┆ … ┆ 256        ┆ hybrid_0_s ┆ 8          ┆ genome_hyp │\n",
       "│ 473cabeef0a ┆           ┆         ┆      ┆   ┆            ┆ teady_1_st ┆            ┆ ermutator_ │\n",
       "│ ce          ┆           ┆         ┆      ┆   ┆            ┆ retched_2_ ┆            ┆ cappedxl_d │\n",
       "│             ┆           ┆         ┆      ┆   ┆            ┆ …          ┆            ┆ …          │\n",
       "│ 0001000c000 ┆ true      ┆ 12.0    ┆ 1    ┆ … ┆ 256        ┆ hybrid_0_s ┆ 8          ┆ genome_hyp │\n",
       "│ 478f2beef0a ┆           ┆         ┆      ┆   ┆            ┆ teady_1_st ┆            ┆ ermutator_ │\n",
       "│ ce          ┆           ┆         ┆      ┆   ┆            ┆ retched_2_ ┆            ┆ cappedxl_d │\n",
       "│             ┆           ┆         ┆      ┆   ┆            ┆ …          ┆            ┆ …          │\n",
       "│ 0001000c000 ┆ true      ┆ 12.0    ┆ 2    ┆ … ┆ 256        ┆ hybrid_0_s ┆ 8          ┆ genome_hyp │\n",
       "│ 478f8beef0a ┆           ┆         ┆      ┆   ┆            ┆ teady_1_st ┆            ┆ ermutator_ │\n",
       "│ ce          ┆           ┆         ┆      ┆   ┆            ┆ retched_2_ ┆            ┆ cappedxl_d │\n",
       "│             ┆           ┆         ┆      ┆   ┆            ┆ …          ┆            ┆ …          │\n",
       "│ 0001000c000 ┆ true      ┆ 12.0    ┆ 3    ┆ … ┆ 256        ┆ hybrid_0_s ┆ 8          ┆ genome_hyp │\n",
       "│ 478febeef0a ┆           ┆         ┆      ┆   ┆            ┆ teady_1_st ┆            ┆ ermutator_ │\n",
       "│ ce          ┆           ┆         ┆      ┆   ┆            ┆ retched_2_ ┆            ┆ cappedxl_d │\n",
       "│             ┆           ┆         ┆      ┆   ┆            ┆ …          ┆            ┆ …          │\n",
       "│ 0001000c000 ┆ true      ┆ 12.0    ┆ 4    ┆ … ┆ 256        ┆ hybrid_0_s ┆ 8          ┆ genome_hyp │\n",
       "│ 478f7beef0a ┆           ┆         ┆      ┆   ┆            ┆ teady_1_st ┆            ┆ ermutator_ │\n",
       "│ ce          ┆           ┆         ┆      ┆   ┆            ┆ retched_2_ ┆            ┆ cappedxl_d │\n",
       "│             ┆           ┆         ┆      ┆   ┆            ┆ …          ┆            ┆ …          │\n",
       "└─────────────┴───────────┴─────────┴──────┴───┴────────────┴────────────┴────────────┴────────────┘"
      ]
     },
     "metadata": {},
     "output_type": "display_data"
    },
    {
     "data": {
      "text/html": [
       "<div><style>\n",
       ".dataframe > thead > tr,\n",
       ".dataframe > tbody > tr {\n",
       "  text-align: right;\n",
       "  white-space: pre-wrap;\n",
       "}\n",
       "</style>\n",
       "<small>shape: (5, 40)</small><table border=\"1\" class=\"dataframe\"><thead><tr><th>data_hex</th><th>is_extant</th><th>fitness</th><th>tile</th><th>row</th><th>col</th><th>genomeFlavor</th><th>globalSeed</th><th>nCol</th><th>nRow</th><th>nWav</th><th>nTrait</th><th>nCycle</th><th>nColSubgrid</th><th>nRowSubgrid</th><th>nonBlock</th><th>tilePopSize</th><th>tournSize</th><th>msec</th><th>tsc</th><th>replicate</th><th>netbencount_hexoffset</th><th>netbencount_hexwidth</th><th>mutator_hexoffset</th><th>mutator_hexwidth</th><th>delcount_hexoffset</th><th>delcount_hexwidth</th><th>counter_hexoffset</th><th>counter_hexwidth</th><th>snapshot_netbencount_hexoffset</th><th>snapshot_netbencount_hexwidth</th><th>snapshot_counter_hexoffset</th><th>snapshot_counter_hexwidth</th><th>snapshot_counter_dilation</th><th>_compconf_dummy</th><th>CEREBRASLIB_HYPERMUT_NUM_AVAIL_BEN_MUTS</th><th>CEREBRASLIB_TRAITLOGGER_NUM_BITS</th><th>CEREBRASLIB_TRAITLOGGER_DSTREAM_ALGO_NAME</th><th>CEREBRASLIB_TRAITLOGGER_DILATION</th><th>ASYNC_GA_GENOME_FLAVOR</th></tr><tr><td>str</td><td>bool</td><td>f32</td><td>u32</td><td>u16</td><td>u16</td><td>cat</td><td>u32</td><td>u16</td><td>u16</td><td>u8</td><td>u8</td><td>u32</td><td>u16</td><td>u16</td><td>bool</td><td>u16</td><td>f32</td><td>f32</td><td>u64</td><td>cat</td><td>u8</td><td>u8</td><td>u8</td><td>u8</td><td>u8</td><td>u8</td><td>u8</td><td>u8</td><td>u8</td><td>u8</td><td>u8</td><td>u8</td><td>u16</td><td>u32</td><td>i16</td><td>u32</td><td>cat</td><td>u32</td><td>cat</td></tr></thead><tbody><tr><td>&quot;0064001800047a8000300001&quot;</td><td>true</td><td>24.0</td><td>745495</td><td>993</td><td>745</td><td>&quot;genome_hypermutator_cappedxl_d…</td><td>30</td><td>750</td><td>994</td><td>3</td><td>2</td><td>300000</td><td>0</td><td>0</td><td>false</td><td>256</td><td>1.1</td><td>0.0</td><td>0</td><td>&quot;1c63611f-1aec-4e9a-afd4-67a2a5…</td><td>4</td><td>4</td><td>2</td><td>2</td><td>0</td><td>2</td><td>8</td><td>8</td><td>20</td><td>4</td><td>16</td><td>4</td><td>256</td><td>42</td><td>24</td><td>256</td><td>&quot;hybrid_0_steady_1_stretched_2_…</td><td>8</td><td>&quot;genome_hypermutator_cappedxl_d…</td></tr><tr><td>&quot;0064001800047a5b00300001&quot;</td><td>true</td><td>24.0</td><td>745496</td><td>993</td><td>746</td><td>&quot;genome_hypermutator_cappedxl_d…</td><td>30</td><td>750</td><td>994</td><td>3</td><td>2</td><td>300000</td><td>0</td><td>0</td><td>false</td><td>256</td><td>1.1</td><td>0.0</td><td>0</td><td>&quot;1c63611f-1aec-4e9a-afd4-67a2a5…</td><td>4</td><td>4</td><td>2</td><td>2</td><td>0</td><td>2</td><td>8</td><td>8</td><td>20</td><td>4</td><td>16</td><td>4</td><td>256</td><td>42</td><td>24</td><td>256</td><td>&quot;hybrid_0_steady_1_stretched_2_…</td><td>8</td><td>&quot;genome_hypermutator_cappedxl_d…</td></tr><tr><td>&quot;0064001800047b3a00310001&quot;</td><td>true</td><td>24.0</td><td>745497</td><td>993</td><td>747</td><td>&quot;genome_hypermutator_cappedxl_d…</td><td>30</td><td>750</td><td>994</td><td>3</td><td>2</td><td>300000</td><td>0</td><td>0</td><td>false</td><td>256</td><td>1.1</td><td>0.0</td><td>0</td><td>&quot;1c63611f-1aec-4e9a-afd4-67a2a5…</td><td>4</td><td>4</td><td>2</td><td>2</td><td>0</td><td>2</td><td>8</td><td>8</td><td>20</td><td>4</td><td>16</td><td>4</td><td>256</td><td>42</td><td>24</td><td>256</td><td>&quot;hybrid_0_steady_1_stretched_2_…</td><td>8</td><td>&quot;genome_hypermutator_cappedxl_d…</td></tr><tr><td>&quot;0064001800047a9200300001&quot;</td><td>true</td><td>24.0</td><td>745498</td><td>993</td><td>748</td><td>&quot;genome_hypermutator_cappedxl_d…</td><td>30</td><td>750</td><td>994</td><td>3</td><td>2</td><td>300000</td><td>0</td><td>0</td><td>false</td><td>256</td><td>1.1</td><td>0.0</td><td>0</td><td>&quot;1c63611f-1aec-4e9a-afd4-67a2a5…</td><td>4</td><td>4</td><td>2</td><td>2</td><td>0</td><td>2</td><td>8</td><td>8</td><td>20</td><td>4</td><td>16</td><td>4</td><td>256</td><td>42</td><td>24</td><td>256</td><td>&quot;hybrid_0_steady_1_stretched_2_…</td><td>8</td><td>&quot;genome_hypermutator_cappedxl_d…</td></tr><tr><td>&quot;006400180004761100310001&quot;</td><td>true</td><td>24.0</td><td>745499</td><td>993</td><td>749</td><td>&quot;genome_hypermutator_cappedxl_d…</td><td>30</td><td>750</td><td>994</td><td>3</td><td>2</td><td>300000</td><td>0</td><td>0</td><td>false</td><td>256</td><td>1.1</td><td>0.0</td><td>0</td><td>&quot;1c63611f-1aec-4e9a-afd4-67a2a5…</td><td>4</td><td>4</td><td>2</td><td>2</td><td>0</td><td>2</td><td>8</td><td>8</td><td>20</td><td>4</td><td>16</td><td>4</td><td>256</td><td>42</td><td>24</td><td>256</td><td>&quot;hybrid_0_steady_1_stretched_2_…</td><td>8</td><td>&quot;genome_hypermutator_cappedxl_d…</td></tr></tbody></table></div>"
      ],
      "text/plain": [
       "shape: (5, 40)\n",
       "┌────────────┬───────────┬─────────┬────────┬───┬────────────┬────────────┬────────────┬───────────┐\n",
       "│ data_hex   ┆ is_extant ┆ fitness ┆ tile   ┆ … ┆ CEREBRASLI ┆ CEREBRASLI ┆ CEREBRASLI ┆ ASYNC_GA_ │\n",
       "│ ---        ┆ ---       ┆ ---     ┆ ---    ┆   ┆ B_TRAITLOG ┆ B_TRAITLOG ┆ B_TRAITLOG ┆ GENOME_FL │\n",
       "│ str        ┆ bool      ┆ f32     ┆ u32    ┆   ┆ GER_NUM_BI ┆ GER_DSTREA ┆ GER_DILATI ┆ AVOR      │\n",
       "│            ┆           ┆         ┆        ┆   ┆ …          ┆ …          ┆ …          ┆ ---       │\n",
       "│            ┆           ┆         ┆        ┆   ┆ ---        ┆ ---        ┆ ---        ┆ cat       │\n",
       "│            ┆           ┆         ┆        ┆   ┆ u32        ┆ cat        ┆ u32        ┆           │\n",
       "╞════════════╪═══════════╪═════════╪════════╪═══╪════════════╪════════════╪════════════╪═══════════╡\n",
       "│ 0064001800 ┆ true      ┆ 24.0    ┆ 745495 ┆ … ┆ 256        ┆ hybrid_0_s ┆ 8          ┆ genome_hy │\n",
       "│ 047a800030 ┆           ┆         ┆        ┆   ┆            ┆ teady_1_st ┆            ┆ permutato │\n",
       "│ 0001       ┆           ┆         ┆        ┆   ┆            ┆ retched_2_ ┆            ┆ r_cappedx │\n",
       "│            ┆           ┆         ┆        ┆   ┆            ┆ …          ┆            ┆ l_d…      │\n",
       "│ 0064001800 ┆ true      ┆ 24.0    ┆ 745496 ┆ … ┆ 256        ┆ hybrid_0_s ┆ 8          ┆ genome_hy │\n",
       "│ 047a5b0030 ┆           ┆         ┆        ┆   ┆            ┆ teady_1_st ┆            ┆ permutato │\n",
       "│ 0001       ┆           ┆         ┆        ┆   ┆            ┆ retched_2_ ┆            ┆ r_cappedx │\n",
       "│            ┆           ┆         ┆        ┆   ┆            ┆ …          ┆            ┆ l_d…      │\n",
       "│ 0064001800 ┆ true      ┆ 24.0    ┆ 745497 ┆ … ┆ 256        ┆ hybrid_0_s ┆ 8          ┆ genome_hy │\n",
       "│ 047b3a0031 ┆           ┆         ┆        ┆   ┆            ┆ teady_1_st ┆            ┆ permutato │\n",
       "│ 0001       ┆           ┆         ┆        ┆   ┆            ┆ retched_2_ ┆            ┆ r_cappedx │\n",
       "│            ┆           ┆         ┆        ┆   ┆            ┆ …          ┆            ┆ l_d…      │\n",
       "│ 0064001800 ┆ true      ┆ 24.0    ┆ 745498 ┆ … ┆ 256        ┆ hybrid_0_s ┆ 8          ┆ genome_hy │\n",
       "│ 047a920030 ┆           ┆         ┆        ┆   ┆            ┆ teady_1_st ┆            ┆ permutato │\n",
       "│ 0001       ┆           ┆         ┆        ┆   ┆            ┆ retched_2_ ┆            ┆ r_cappedx │\n",
       "│            ┆           ┆         ┆        ┆   ┆            ┆ …          ┆            ┆ l_d…      │\n",
       "│ 0064001800 ┆ true      ┆ 24.0    ┆ 745499 ┆ … ┆ 256        ┆ hybrid_0_s ┆ 8          ┆ genome_hy │\n",
       "│ 0476110031 ┆           ┆         ┆        ┆   ┆            ┆ teady_1_st ┆            ┆ permutato │\n",
       "│ 0001       ┆           ┆         ┆        ┆   ┆            ┆ retched_2_ ┆            ┆ r_cappedx │\n",
       "│            ┆           ┆         ┆        ┆   ┆            ┆ …          ┆            ┆ l_d…      │\n",
       "└────────────┴───────────┴─────────┴────────┴───┴────────────┴────────────┴────────────┴───────────┘"
      ]
     },
     "metadata": {},
     "output_type": "display_data"
    }
   ],
   "source": [
    "dfys = dfxs.with_columns(\n",
    "    netbencount_hexoffset=pl.lit(0, dtype=pl.UInt8),\n",
    "    netbencount_hexwidth=pl.lit(4, dtype=pl.UInt8),\n",
    "    mutator_hexoffset=pl.lit(4, dtype=pl.UInt8),\n",
    "    mutator_hexwidth=pl.lit(2, dtype=pl.UInt8),\n",
    "    delcount_hexoffset=pl.lit(6, dtype=pl.UInt8),\n",
    "    delcount_hexwidth=pl.lit(2, dtype=pl.UInt8),\n",
    "    counter_hexoffset=pl.lit(8, dtype=pl.UInt8),\n",
    "    counter_hexwidth=pl.lit(8, dtype=pl.UInt8),\n",
    "    snapshot_netbencount_hexoffset=pl.lit(16, dtype=pl.UInt8),\n",
    "    snapshot_netbencount_hexwidth=pl.lit(4, dtype=pl.UInt8),\n",
    "    snapshot_counter_hexoffset=pl.lit(20, dtype=pl.UInt8),\n",
    "    snapshot_counter_hexwidth=pl.lit(4, dtype=pl.UInt8),\n",
    "    snapshot_counter_dilation=pl.lit(256, dtype=pl.UInt16),\n",
    ").with_columns(\n",
    "    netbencount_hexoffset=correct_endianness(\"netbencount\"),\n",
    "    mutator_hexoffset=correct_endianness(\"mutator\"),\n",
    "    delcount_hexoffset=correct_endianness(\"delcount\"),\n",
    "    counter_hexoffset=correct_endianness(\"counter\"),\n",
    "    snapshot_netbencount_hexoffset=correct_endianness(\"snapshot_netbencount\"),\n",
    "    snapshot_counter_hexoffset=correct_endianness(\"snapshot_counter\"),\n",
    ")\n",
    "\n",
    "display(dfys.describe()), display(dfys.head()), display(dfys.tail());\n"
   ]
  },
  {
   "cell_type": "code",
   "execution_count": 8,
   "metadata": {
    "execution": {
     "iopub.execute_input": "2025-03-02T01:16:28.628472Z",
     "iopub.status.busy": "2025-03-02T01:16:28.628030Z",
     "iopub.status.idle": "2025-03-02T01:16:28.798567Z",
     "shell.execute_reply": "2025-03-02T01:16:28.797912Z"
    }
   },
   "outputs": [
    {
     "name": "stdout",
     "output_type": "stream",
     "text": [
      "dfys[\"data_hex\"].str.len_bytes().unique().item()=24\n",
      "dfys[\"delcount_hexoffset\"].unique().item()=0\n",
      "dfys[\"mutator_hexoffset\"].unique().item()=2\n",
      "dfys[\"snapshot_netbencount_hexoffset\"].unique().item()=20\n",
      "dfys[\"snapshot_counter_hexoffset\"].unique().item()=16\n"
     ]
    }
   ],
   "source": [
    "print(\n",
    "    f'{dfys[\"data_hex\"].str.len_bytes().unique().item()=}',\n",
    "    f'{dfys[\"delcount_hexoffset\"].unique().item()=}',\n",
    "    f'{dfys[\"mutator_hexoffset\"].unique().item()=}',\n",
    "    f'{dfys[\"snapshot_netbencount_hexoffset\"].unique().item()=}',\n",
    "    f'{dfys[\"snapshot_counter_hexoffset\"].unique().item()=}',\n",
    "    sep=\"\\n\",\n",
    ")\n"
   ]
  },
  {
   "cell_type": "code",
   "execution_count": 9,
   "metadata": {
    "execution": {
     "iopub.execute_input": "2025-03-02T01:16:28.800912Z",
     "iopub.status.busy": "2025-03-02T01:16:28.800513Z",
     "iopub.status.idle": "2025-03-02T01:16:30.075992Z",
     "shell.execute_reply": "2025-03-02T01:16:30.075265Z"
    }
   },
   "outputs": [
    {
     "data": {
      "text/html": [
       "<div><style>\n",
       ".dataframe > thead > tr,\n",
       ".dataframe > tbody > tr {\n",
       "  text-align: right;\n",
       "  white-space: pre-wrap;\n",
       "}\n",
       "</style>\n",
       "<small>shape: (22_365_000, 43)</small><table border=\"1\" class=\"dataframe\"><thead><tr><th>data_hex</th><th>is_extant</th><th>fitness</th><th>tile</th><th>row</th><th>col</th><th>genomeFlavor</th><th>globalSeed</th><th>nCol</th><th>nRow</th><th>nWav</th><th>nTrait</th><th>nCycle</th><th>nColSubgrid</th><th>nRowSubgrid</th><th>nonBlock</th><th>tilePopSize</th><th>tournSize</th><th>msec</th><th>tsc</th><th>replicate</th><th>netbencount_hexoffset</th><th>netbencount_hexwidth</th><th>mutator_hexoffset</th><th>mutator_hexwidth</th><th>delcount_hexoffset</th><th>delcount_hexwidth</th><th>counter_hexoffset</th><th>counter_hexwidth</th><th>snapshot_netbencount_hexoffset</th><th>snapshot_netbencount_hexwidth</th><th>snapshot_counter_hexoffset</th><th>snapshot_counter_hexwidth</th><th>snapshot_counter_dilation</th><th>_compconf_dummy</th><th>CEREBRASLIB_HYPERMUT_NUM_AVAIL_BEN_MUTS</th><th>CEREBRASLIB_TRAITLOGGER_NUM_BITS</th><th>CEREBRASLIB_TRAITLOGGER_DSTREAM_ALGO_NAME</th><th>CEREBRASLIB_TRAITLOGGER_DILATION</th><th>ASYNC_GA_GENOME_FLAVOR</th><th>mutator</th><th>snapshot_netbencount</th><th>snapshot_counter</th></tr><tr><td>str</td><td>bool</td><td>f32</td><td>u32</td><td>u16</td><td>u16</td><td>cat</td><td>u32</td><td>u16</td><td>u16</td><td>u8</td><td>u8</td><td>u32</td><td>u16</td><td>u16</td><td>bool</td><td>u16</td><td>f32</td><td>f32</td><td>u64</td><td>cat</td><td>u8</td><td>u8</td><td>u8</td><td>u8</td><td>u8</td><td>u8</td><td>u8</td><td>u8</td><td>u8</td><td>u8</td><td>u8</td><td>u8</td><td>u16</td><td>u32</td><td>i16</td><td>u32</td><td>cat</td><td>u32</td><td>cat</td><td>i64</td><td>i64</td><td>i64</td></tr></thead><tbody><tr><td>&quot;0001000c000473cabeef0ace&quot;</td><td>true</td><td>12.0</td><td>0</td><td>0</td><td>0</td><td>&quot;genome_hypermutator_cappedxl_d…</td><td>1</td><td>750</td><td>994</td><td>3</td><td>2</td><td>300000</td><td>0</td><td>0</td><td>false</td><td>256</td><td>1.1</td><td>0.0</td><td>0</td><td>&quot;93a0f38e-bfd5-4257-bade-2a1aab…</td><td>4</td><td>4</td><td>2</td><td>2</td><td>0</td><td>2</td><td>8</td><td>8</td><td>20</td><td>4</td><td>16</td><td>4</td><td>256</td><td>42</td><td>12</td><td>256</td><td>&quot;hybrid_0_steady_1_stretched_2_…</td><td>8</td><td>&quot;genome_hypermutator_cappedxl_d…</td><td>1</td><td>2766</td><td>12513024</td></tr><tr><td>&quot;0001000c000478f2beef0ace&quot;</td><td>true</td><td>12.0</td><td>1</td><td>0</td><td>1</td><td>&quot;genome_hypermutator_cappedxl_d…</td><td>1</td><td>750</td><td>994</td><td>3</td><td>2</td><td>300000</td><td>0</td><td>0</td><td>false</td><td>256</td><td>1.1</td><td>0.0</td><td>0</td><td>&quot;93a0f38e-bfd5-4257-bade-2a1aab…</td><td>4</td><td>4</td><td>2</td><td>2</td><td>0</td><td>2</td><td>8</td><td>8</td><td>20</td><td>4</td><td>16</td><td>4</td><td>256</td><td>42</td><td>12</td><td>256</td><td>&quot;hybrid_0_steady_1_stretched_2_…</td><td>8</td><td>&quot;genome_hypermutator_cappedxl_d…</td><td>1</td><td>2766</td><td>12513024</td></tr><tr><td>&quot;0001000c000478f8beef0ace&quot;</td><td>true</td><td>12.0</td><td>2</td><td>0</td><td>2</td><td>&quot;genome_hypermutator_cappedxl_d…</td><td>1</td><td>750</td><td>994</td><td>3</td><td>2</td><td>300000</td><td>0</td><td>0</td><td>false</td><td>256</td><td>1.1</td><td>0.0</td><td>0</td><td>&quot;93a0f38e-bfd5-4257-bade-2a1aab…</td><td>4</td><td>4</td><td>2</td><td>2</td><td>0</td><td>2</td><td>8</td><td>8</td><td>20</td><td>4</td><td>16</td><td>4</td><td>256</td><td>42</td><td>12</td><td>256</td><td>&quot;hybrid_0_steady_1_stretched_2_…</td><td>8</td><td>&quot;genome_hypermutator_cappedxl_d…</td><td>1</td><td>2766</td><td>12513024</td></tr><tr><td>&quot;0001000c000478febeef0ace&quot;</td><td>true</td><td>12.0</td><td>3</td><td>0</td><td>3</td><td>&quot;genome_hypermutator_cappedxl_d…</td><td>1</td><td>750</td><td>994</td><td>3</td><td>2</td><td>300000</td><td>0</td><td>0</td><td>false</td><td>256</td><td>1.1</td><td>0.0</td><td>0</td><td>&quot;93a0f38e-bfd5-4257-bade-2a1aab…</td><td>4</td><td>4</td><td>2</td><td>2</td><td>0</td><td>2</td><td>8</td><td>8</td><td>20</td><td>4</td><td>16</td><td>4</td><td>256</td><td>42</td><td>12</td><td>256</td><td>&quot;hybrid_0_steady_1_stretched_2_…</td><td>8</td><td>&quot;genome_hypermutator_cappedxl_d…</td><td>1</td><td>2766</td><td>12513024</td></tr><tr><td>&quot;0001000c000478f7beef0ace&quot;</td><td>true</td><td>12.0</td><td>4</td><td>0</td><td>4</td><td>&quot;genome_hypermutator_cappedxl_d…</td><td>1</td><td>750</td><td>994</td><td>3</td><td>2</td><td>300000</td><td>0</td><td>0</td><td>false</td><td>256</td><td>1.1</td><td>0.0</td><td>0</td><td>&quot;93a0f38e-bfd5-4257-bade-2a1aab…</td><td>4</td><td>4</td><td>2</td><td>2</td><td>0</td><td>2</td><td>8</td><td>8</td><td>20</td><td>4</td><td>16</td><td>4</td><td>256</td><td>42</td><td>12</td><td>256</td><td>&quot;hybrid_0_steady_1_stretched_2_…</td><td>8</td><td>&quot;genome_hypermutator_cappedxl_d…</td><td>1</td><td>2766</td><td>12513024</td></tr><tr><td>&hellip;</td><td>&hellip;</td><td>&hellip;</td><td>&hellip;</td><td>&hellip;</td><td>&hellip;</td><td>&hellip;</td><td>&hellip;</td><td>&hellip;</td><td>&hellip;</td><td>&hellip;</td><td>&hellip;</td><td>&hellip;</td><td>&hellip;</td><td>&hellip;</td><td>&hellip;</td><td>&hellip;</td><td>&hellip;</td><td>&hellip;</td><td>&hellip;</td><td>&hellip;</td><td>&hellip;</td><td>&hellip;</td><td>&hellip;</td><td>&hellip;</td><td>&hellip;</td><td>&hellip;</td><td>&hellip;</td><td>&hellip;</td><td>&hellip;</td><td>&hellip;</td><td>&hellip;</td><td>&hellip;</td><td>&hellip;</td><td>&hellip;</td><td>&hellip;</td><td>&hellip;</td><td>&hellip;</td><td>&hellip;</td><td>&hellip;</td><td>&hellip;</td><td>&hellip;</td><td>&hellip;</td></tr><tr><td>&quot;0064001800047a8000300001&quot;</td><td>true</td><td>24.0</td><td>745495</td><td>993</td><td>745</td><td>&quot;genome_hypermutator_cappedxl_d…</td><td>30</td><td>750</td><td>994</td><td>3</td><td>2</td><td>300000</td><td>0</td><td>0</td><td>false</td><td>256</td><td>1.1</td><td>0.0</td><td>0</td><td>&quot;1c63611f-1aec-4e9a-afd4-67a2a5…</td><td>4</td><td>4</td><td>2</td><td>2</td><td>0</td><td>2</td><td>8</td><td>8</td><td>20</td><td>4</td><td>16</td><td>4</td><td>256</td><td>42</td><td>24</td><td>256</td><td>&quot;hybrid_0_steady_1_stretched_2_…</td><td>8</td><td>&quot;genome_hypermutator_cappedxl_d…</td><td>100</td><td>1</td><td>12288</td></tr><tr><td>&quot;0064001800047a5b00300001&quot;</td><td>true</td><td>24.0</td><td>745496</td><td>993</td><td>746</td><td>&quot;genome_hypermutator_cappedxl_d…</td><td>30</td><td>750</td><td>994</td><td>3</td><td>2</td><td>300000</td><td>0</td><td>0</td><td>false</td><td>256</td><td>1.1</td><td>0.0</td><td>0</td><td>&quot;1c63611f-1aec-4e9a-afd4-67a2a5…</td><td>4</td><td>4</td><td>2</td><td>2</td><td>0</td><td>2</td><td>8</td><td>8</td><td>20</td><td>4</td><td>16</td><td>4</td><td>256</td><td>42</td><td>24</td><td>256</td><td>&quot;hybrid_0_steady_1_stretched_2_…</td><td>8</td><td>&quot;genome_hypermutator_cappedxl_d…</td><td>100</td><td>1</td><td>12288</td></tr><tr><td>&quot;0064001800047b3a00310001&quot;</td><td>true</td><td>24.0</td><td>745497</td><td>993</td><td>747</td><td>&quot;genome_hypermutator_cappedxl_d…</td><td>30</td><td>750</td><td>994</td><td>3</td><td>2</td><td>300000</td><td>0</td><td>0</td><td>false</td><td>256</td><td>1.1</td><td>0.0</td><td>0</td><td>&quot;1c63611f-1aec-4e9a-afd4-67a2a5…</td><td>4</td><td>4</td><td>2</td><td>2</td><td>0</td><td>2</td><td>8</td><td>8</td><td>20</td><td>4</td><td>16</td><td>4</td><td>256</td><td>42</td><td>24</td><td>256</td><td>&quot;hybrid_0_steady_1_stretched_2_…</td><td>8</td><td>&quot;genome_hypermutator_cappedxl_d…</td><td>100</td><td>1</td><td>12544</td></tr><tr><td>&quot;0064001800047a9200300001&quot;</td><td>true</td><td>24.0</td><td>745498</td><td>993</td><td>748</td><td>&quot;genome_hypermutator_cappedxl_d…</td><td>30</td><td>750</td><td>994</td><td>3</td><td>2</td><td>300000</td><td>0</td><td>0</td><td>false</td><td>256</td><td>1.1</td><td>0.0</td><td>0</td><td>&quot;1c63611f-1aec-4e9a-afd4-67a2a5…</td><td>4</td><td>4</td><td>2</td><td>2</td><td>0</td><td>2</td><td>8</td><td>8</td><td>20</td><td>4</td><td>16</td><td>4</td><td>256</td><td>42</td><td>24</td><td>256</td><td>&quot;hybrid_0_steady_1_stretched_2_…</td><td>8</td><td>&quot;genome_hypermutator_cappedxl_d…</td><td>100</td><td>1</td><td>12288</td></tr><tr><td>&quot;006400180004761100310001&quot;</td><td>true</td><td>24.0</td><td>745499</td><td>993</td><td>749</td><td>&quot;genome_hypermutator_cappedxl_d…</td><td>30</td><td>750</td><td>994</td><td>3</td><td>2</td><td>300000</td><td>0</td><td>0</td><td>false</td><td>256</td><td>1.1</td><td>0.0</td><td>0</td><td>&quot;1c63611f-1aec-4e9a-afd4-67a2a5…</td><td>4</td><td>4</td><td>2</td><td>2</td><td>0</td><td>2</td><td>8</td><td>8</td><td>20</td><td>4</td><td>16</td><td>4</td><td>256</td><td>42</td><td>24</td><td>256</td><td>&quot;hybrid_0_steady_1_stretched_2_…</td><td>8</td><td>&quot;genome_hypermutator_cappedxl_d…</td><td>100</td><td>1</td><td>12544</td></tr></tbody></table></div>"
      ],
      "text/plain": [
       "shape: (22_365_000, 43)\n",
       "┌─────────────┬───────────┬─────────┬────────┬───┬─────────────┬─────────┬────────────┬────────────┐\n",
       "│ data_hex    ┆ is_extant ┆ fitness ┆ tile   ┆ … ┆ ASYNC_GA_GE ┆ mutator ┆ snapshot_n ┆ snapshot_c │\n",
       "│ ---         ┆ ---       ┆ ---     ┆ ---    ┆   ┆ NOME_FLAVOR ┆ ---     ┆ etbencount ┆ ounter     │\n",
       "│ str         ┆ bool      ┆ f32     ┆ u32    ┆   ┆ ---         ┆ i64     ┆ ---        ┆ ---        │\n",
       "│             ┆           ┆         ┆        ┆   ┆ cat         ┆         ┆ i64        ┆ i64        │\n",
       "╞═════════════╪═══════════╪═════════╪════════╪═══╪═════════════╪═════════╪════════════╪════════════╡\n",
       "│ 0001000c000 ┆ true      ┆ 12.0    ┆ 0      ┆ … ┆ genome_hype ┆ 1       ┆ 2766       ┆ 12513024   │\n",
       "│ 473cabeef0a ┆           ┆         ┆        ┆   ┆ rmutator_ca ┆         ┆            ┆            │\n",
       "│ ce          ┆           ┆         ┆        ┆   ┆ ppedxl_d…   ┆         ┆            ┆            │\n",
       "│ 0001000c000 ┆ true      ┆ 12.0    ┆ 1      ┆ … ┆ genome_hype ┆ 1       ┆ 2766       ┆ 12513024   │\n",
       "│ 478f2beef0a ┆           ┆         ┆        ┆   ┆ rmutator_ca ┆         ┆            ┆            │\n",
       "│ ce          ┆           ┆         ┆        ┆   ┆ ppedxl_d…   ┆         ┆            ┆            │\n",
       "│ 0001000c000 ┆ true      ┆ 12.0    ┆ 2      ┆ … ┆ genome_hype ┆ 1       ┆ 2766       ┆ 12513024   │\n",
       "│ 478f8beef0a ┆           ┆         ┆        ┆   ┆ rmutator_ca ┆         ┆            ┆            │\n",
       "│ ce          ┆           ┆         ┆        ┆   ┆ ppedxl_d…   ┆         ┆            ┆            │\n",
       "│ 0001000c000 ┆ true      ┆ 12.0    ┆ 3      ┆ … ┆ genome_hype ┆ 1       ┆ 2766       ┆ 12513024   │\n",
       "│ 478febeef0a ┆           ┆         ┆        ┆   ┆ rmutator_ca ┆         ┆            ┆            │\n",
       "│ ce          ┆           ┆         ┆        ┆   ┆ ppedxl_d…   ┆         ┆            ┆            │\n",
       "│ 0001000c000 ┆ true      ┆ 12.0    ┆ 4      ┆ … ┆ genome_hype ┆ 1       ┆ 2766       ┆ 12513024   │\n",
       "│ 478f7beef0a ┆           ┆         ┆        ┆   ┆ rmutator_ca ┆         ┆            ┆            │\n",
       "│ ce          ┆           ┆         ┆        ┆   ┆ ppedxl_d…   ┆         ┆            ┆            │\n",
       "│ …           ┆ …         ┆ …       ┆ …      ┆ … ┆ …           ┆ …       ┆ …          ┆ …          │\n",
       "│ 00640018000 ┆ true      ┆ 24.0    ┆ 745495 ┆ … ┆ genome_hype ┆ 100     ┆ 1          ┆ 12288      │\n",
       "│ 47a80003000 ┆           ┆         ┆        ┆   ┆ rmutator_ca ┆         ┆            ┆            │\n",
       "│ 01          ┆           ┆         ┆        ┆   ┆ ppedxl_d…   ┆         ┆            ┆            │\n",
       "│ 00640018000 ┆ true      ┆ 24.0    ┆ 745496 ┆ … ┆ genome_hype ┆ 100     ┆ 1          ┆ 12288      │\n",
       "│ 47a5b003000 ┆           ┆         ┆        ┆   ┆ rmutator_ca ┆         ┆            ┆            │\n",
       "│ 01          ┆           ┆         ┆        ┆   ┆ ppedxl_d…   ┆         ┆            ┆            │\n",
       "│ 00640018000 ┆ true      ┆ 24.0    ┆ 745497 ┆ … ┆ genome_hype ┆ 100     ┆ 1          ┆ 12544      │\n",
       "│ 47b3a003100 ┆           ┆         ┆        ┆   ┆ rmutator_ca ┆         ┆            ┆            │\n",
       "│ 01          ┆           ┆         ┆        ┆   ┆ ppedxl_d…   ┆         ┆            ┆            │\n",
       "│ 00640018000 ┆ true      ┆ 24.0    ┆ 745498 ┆ … ┆ genome_hype ┆ 100     ┆ 1          ┆ 12288      │\n",
       "│ 47a92003000 ┆           ┆         ┆        ┆   ┆ rmutator_ca ┆         ┆            ┆            │\n",
       "│ 01          ┆           ┆         ┆        ┆   ┆ ppedxl_d…   ┆         ┆            ┆            │\n",
       "│ 00640018000 ┆ true      ┆ 24.0    ┆ 745499 ┆ … ┆ genome_hype ┆ 100     ┆ 1          ┆ 12544      │\n",
       "│ 47611003100 ┆           ┆         ┆        ┆   ┆ rmutator_ca ┆         ┆            ┆            │\n",
       "│ 01          ┆           ┆         ┆        ┆   ┆ ppedxl_d…   ┆         ┆            ┆            │\n",
       "└─────────────┴───────────┴─────────┴────────┴───┴─────────────┴─────────┴────────────┴────────────┘"
      ]
     },
     "execution_count": 9,
     "metadata": {},
     "output_type": "execute_result"
    }
   ],
   "source": [
    "dfzs = dfys.with_columns(\n",
    "    mutator=pl.col(\"data_hex\")\n",
    "    .str.slice(\n",
    "        int(dfys[\"mutator_hexoffset\"].unique().item()),\n",
    "        int(dfys[\"mutator_hexwidth\"].unique().item()),\n",
    "    )\n",
    "    .str.to_integer(base=16),\n",
    "    snapshot_netbencount=pl.col(\"data_hex\")\n",
    "    .str.slice(\n",
    "        int(dfys[\"snapshot_netbencount_hexoffset\"].unique().item()),\n",
    "        int(dfys[\"snapshot_netbencount_hexwidth\"].unique().item()),\n",
    "    )\n",
    "    .str.to_integer(base=16),\n",
    "    snapshot_counter=pl.col(\"data_hex\")\n",
    "    .str.slice(\n",
    "        int(dfys[\"snapshot_counter_hexoffset\"].unique().item()),\n",
    "        int(dfys[\"snapshot_counter_hexwidth\"].unique().item()),\n",
    "    )\n",
    "    .str.to_integer(base=16),\n",
    ").with_columns(\n",
    "    snapshot_counter=pl.col(\"snapshot_counter\")\n",
    "    * pl.col(\"snapshot_counter_dilation\"),\n",
    ")\n",
    "dfzs\n"
   ]
  },
  {
   "cell_type": "code",
   "execution_count": 10,
   "metadata": {
    "execution": {
     "iopub.execute_input": "2025-03-02T01:16:30.077935Z",
     "iopub.status.busy": "2025-03-02T01:16:30.077755Z",
     "iopub.status.idle": "2025-03-02T01:16:30.152942Z",
     "shell.execute_reply": "2025-03-02T01:16:30.152285Z"
    }
   },
   "outputs": [],
   "source": [
    "assert set(dfzs[\"mutator\"].unique()) <= {1, 100}, dfzs[\"mutator\"].unique()\n"
   ]
  },
  {
   "cell_type": "code",
   "execution_count": 11,
   "metadata": {
    "execution": {
     "iopub.execute_input": "2025-03-02T01:16:30.155673Z",
     "iopub.status.busy": "2025-03-02T01:16:30.155210Z",
     "iopub.status.idle": "2025-03-02T01:16:30.210765Z",
     "shell.execute_reply": "2025-03-02T01:16:30.210162Z"
    }
   },
   "outputs": [],
   "source": [
    "df = dfzs.group_by(\"replicate\").first()\n"
   ]
  },
  {
   "cell_type": "markdown",
   "metadata": {},
   "source": [
    "## Plot Data\n"
   ]
  },
  {
   "cell_type": "code",
   "execution_count": 12,
   "metadata": {
    "execution": {
     "iopub.execute_input": "2025-03-02T01:16:30.213366Z",
     "iopub.status.busy": "2025-03-02T01:16:30.212993Z",
     "iopub.status.idle": "2025-03-02T01:16:31.026082Z",
     "shell.execute_reply": "2025-03-02T01:16:31.025409Z"
    }
   },
   "outputs": [
    {
     "name": "stdout",
     "output_type": "stream",
     "text": [
      "teeplots/wse-denovo-spatial2d-poisson-genomes/viz=catplot+x=cerebraslib-hypermut-num-avail-ben-muts+y=snapshot-netbencount+ext=.pdf\n",
      "teeplots/wse-denovo-spatial2d-poisson-genomes/viz=catplot+x=cerebraslib-hypermut-num-avail-ben-muts+y=snapshot-netbencount+ext=.png\n"
     ]
    },
    {
     "data": {
      "image/png": "[encoded data removed]",
      "text/plain": [
       "<Figure size 511.111x500 with 1 Axes>"
      ]
     },
     "metadata": {},
     "output_type": "display_data"
    }
   ],
   "source": [
    "with tp.teed(\n",
    "    sns.catplot,\n",
    "    data=df.filter(\n",
    "        pl.col(\"mutator\") == 100,\n",
    "    ),\n",
    "    x=\"CEREBRASLIB_HYPERMUT_NUM_AVAIL_BEN_MUTS\",\n",
    "    y=\"snapshot_netbencount\",\n",
    "    teeplot_subdir=teeplot_subdir,\n",
    ") as g:\n",
    "    pass\n"
   ]
  },
  {
   "cell_type": "code",
   "execution_count": 13,
   "metadata": {
    "execution": {
     "iopub.execute_input": "2025-03-02T01:16:31.028171Z",
     "iopub.status.busy": "2025-03-02T01:16:31.027806Z",
     "iopub.status.idle": "2025-03-02T01:16:32.337854Z",
     "shell.execute_reply": "2025-03-02T01:16:32.337159Z"
    }
   },
   "outputs": [
    {
     "name": "stdout",
     "output_type": "stream",
     "text": [
      "teeplots/wse-denovo-spatial2d-poisson-genomes/col=cerebraslib-hypermut-num-avail-ben-muts+viz=catplot+y=snapshot-counter+ext=.pdf\n",
      "teeplots/wse-denovo-spatial2d-poisson-genomes/col=cerebraslib-hypermut-num-avail-ben-muts+viz=catplot+y=snapshot-counter+ext=.png\n"
     ]
    },
    {
     "data": {
      "image/png": "[encoded data removed]",
      "text/plain": [
       "<Figure size 2011.11x500 with 4 Axes>"
      ]
     },
     "metadata": {},
     "output_type": "display_data"
    }
   ],
   "source": [
    "with tp.teed(\n",
    "    sns.catplot,\n",
    "    data=df.filter(\n",
    "        pl.col(\"mutator\") == 100,\n",
    "    ),\n",
    "    col=\"CEREBRASLIB_HYPERMUT_NUM_AVAIL_BEN_MUTS\",\n",
    "    y=\"snapshot_counter\",\n",
    "    teeplot_subdir=teeplot_subdir,\n",
    ") as g:\n",
    "    pass\n"
   ]
  }
 ],
 "metadata": {
  "kernelspec": {
   "display_name": "env",
   "language": "python",
   "name": "python3"
  },
  "language_info": {
   "codemirror_mode": {
    "name": "ipython",
    "version": 3
   },
   "file_extension": ".py",
   "mimetype": "text/x-python",
   "name": "python",
   "nbconvert_exporter": "python",
   "pygments_lexer": "ipython3",
   "version": "3.10.12"
  }
 },
 "nbformat": 4,
 "nbformat_minor": 2
}
