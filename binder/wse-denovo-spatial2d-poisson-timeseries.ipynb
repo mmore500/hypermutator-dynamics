{
 "cells": [
  {
   "cell_type": "code",
   "execution_count": 1,
   "metadata": {
    "execution": {
     "iopub.execute_input": "2025-08-24T01:21:48.378926Z",
     "iopub.status.busy": "2025-08-24T01:21:48.378741Z",
     "iopub.status.idle": "2025-08-24T01:21:48.392415Z",
     "shell.execute_reply": "2025-08-24T01:21:48.391774Z"
    }
   },
   "outputs": [],
   "source": [
    "%load_ext watermark\n"
   ]
  },
  {
   "cell_type": "code",
   "execution_count": 2,
   "metadata": {
    "execution": {
     "iopub.execute_input": "2025-08-24T01:21:48.394275Z",
     "iopub.status.busy": "2025-08-24T01:21:48.394087Z",
     "iopub.status.idle": "2025-08-24T01:21:51.291546Z",
     "shell.execute_reply": "2025-08-24T01:21:51.290905Z"
    }
   },
   "outputs": [],
   "source": [
    "import os\n",
    "\n",
    "import downstream\n",
    "import imageio\n",
    "from IPython.display import display\n",
    "import numpy as np\n",
    "import pandas as pd\n",
    "import polars as pl\n",
    "import seaborn as sns\n",
    "from teeplot import teeplot as tp\n",
    "from tqdm import tqdm\n",
    "\n",
    "from pylib.munge._addend_groups import addend_groups\n",
    "from pylib.munge._union_upsample import union_upsample\n",
    "from pylib.munge._squeeze import squeeze_int\n"
   ]
  },
  {
   "cell_type": "code",
   "execution_count": 3,
   "metadata": {
    "execution": {
     "iopub.execute_input": "2025-08-24T01:21:51.294376Z",
     "iopub.status.busy": "2025-08-24T01:21:51.293561Z",
     "iopub.status.idle": "2025-08-24T01:21:51.311459Z",
     "shell.execute_reply": "2025-08-24T01:21:51.310749Z"
    }
   },
   "outputs": [
    {
     "name": "stdout",
     "output_type": "stream",
     "text": [
      "Last updated: 2025-08-24T01:21:51.295620+00:00\n",
      "\n",
      "Python implementation: CPython\n",
      "Python version       : 3.10.12\n",
      "IPython version      : 7.31.1\n",
      "\n",
      "Compiler    : GCC 11.4.0\n",
      "OS          : Linux\n",
      "Release     : 6.8.0-1031-azure\n",
      "Machine     : x86_64\n",
      "Processor   : x86_64\n",
      "CPU cores   : 4\n",
      "Architecture: 64bit\n",
      "\n",
      "imageio   : 2.36.1\n",
      "polars    : 1.9.0\n",
      "pandas    : 2.2.3\n",
      "numpy     : 2.1.2\n",
      "downstream: 1.6.2\n",
      "teeplot   : 1.2.0\n",
      "seaborn   : 0.13.2\n",
      "\n",
      "Watermark: 2.4.3\n",
      "\n"
     ]
    }
   ],
   "source": [
    "%watermark -diwmuv -iv\n"
   ]
  },
  {
   "cell_type": "code",
   "execution_count": 4,
   "metadata": {
    "execution": {
     "iopub.execute_input": "2025-08-24T01:21:51.340382Z",
     "iopub.status.busy": "2025-08-24T01:21:51.339730Z",
     "iopub.status.idle": "2025-08-24T01:21:51.346063Z",
     "shell.execute_reply": "2025-08-24T01:21:51.345566Z"
    }
   },
   "outputs": [
    {
     "data": {
      "text/plain": [
       "'wse-denovo-spatial2d-poisson-timeseries'"
      ]
     },
     "execution_count": 4,
     "metadata": {},
     "output_type": "execute_result"
    }
   ],
   "source": [
    "teeplot_subdir = \"wse-denovo-spatial2d-poisson-timeseries\"\n",
    "teeplot_subdir\n"
   ]
  },
  {
   "cell_type": "markdown",
   "metadata": {},
   "source": [
    "## Prep Data\n"
   ]
  },
  {
   "cell_type": "code",
   "execution_count": 5,
   "metadata": {
    "execution": {
     "iopub.execute_input": "2025-08-24T01:21:51.347825Z",
     "iopub.status.busy": "2025-08-24T01:21:51.347639Z",
     "iopub.status.idle": "2025-08-24T01:22:05.236866Z",
     "shell.execute_reply": "2025-08-24T01:22:05.236354Z"
    }
   },
   "outputs": [
    {
     "data": {
      "text/html": [
       "<div><style>\n",
       ".dataframe > thead > tr,\n",
       ".dataframe > tbody > tr {\n",
       "  text-align: right;\n",
       "  white-space: pre-wrap;\n",
       "}\n",
       "</style>\n",
       "<small>shape: (9, 47)</small><table border=\"1\" class=\"dataframe\"><thead><tr><th>statistic</th><th>dstream_data_id</th><th>data_hex</th><th>tile</th><th>row</th><th>col</th><th>genomeFlavor</th><th>globalSeed</th><th>nCol</th><th>nRow</th><th>nWav</th><th>nTrait</th><th>nCycle</th><th>nColSubgrid</th><th>nRowSubgrid</th><th>nonBlock</th><th>tilePopSize</th><th>tournSize</th><th>msec</th><th>tsc</th><th>replicate</th><th>netbencount_hexoffset</th><th>netbencount_hexwidth</th><th>mutator_hexoffset</th><th>mutator_hexwidth</th><th>delcount_hexoffset</th><th>delcount_hexwidth</th><th>counter_hexoffset</th><th>counter_hexwidth</th><th>snapshot_netbencount_hexoffset</th><th>snapshot_netbencount_hexwidth</th><th>snapshot_counter_hexoffset</th><th>snapshot_counter_hexwidth</th><th>snapshot_counter_dilation</th><th>_compconf_dummy</th><th>CEREBRASLIB_HYPERMUT_NUM_AVAIL_BEN_MUTS</th><th>CEREBRASLIB_TRAITLOGGER_NUM_BITS</th><th>CEREBRASLIB_TRAITLOGGER_DSTREAM_ALGO_NAME</th><th>CEREBRASLIB_TRAITLOGGER_DILATION</th><th>ASYNC_GA_GENOME_FLAVOR</th><th>dstream_algo</th><th>dstream_storage_bitoffset</th><th>dstream_storage_bitwidth</th><th>dstream_S</th><th>dstream_T_bitoffset</th><th>dstream_T_bitwidth</th><th>trait_value</th></tr><tr><td>str</td><td>f64</td><td>str</td><td>f64</td><td>f64</td><td>f64</td><td>str</td><td>f64</td><td>f64</td><td>f64</td><td>f64</td><td>f64</td><td>f64</td><td>f64</td><td>f64</td><td>f64</td><td>f64</td><td>f64</td><td>f64</td><td>f64</td><td>str</td><td>f64</td><td>f64</td><td>f64</td><td>f64</td><td>f64</td><td>f64</td><td>f64</td><td>f64</td><td>f64</td><td>f64</td><td>f64</td><td>f64</td><td>f64</td><td>f64</td><td>f64</td><td>f64</td><td>str</td><td>f64</td><td>str</td><td>str</td><td>f64</td><td>f64</td><td>f64</td><td>f64</td><td>f64</td><td>f64</td></tr></thead><tbody><tr><td>&quot;count&quot;</td><td>2.2365e7</td><td>&quot;22365000&quot;</td><td>2.2365e7</td><td>2.2365e7</td><td>2.2365e7</td><td>&quot;22365000&quot;</td><td>2.2365e7</td><td>2.2365e7</td><td>2.2365e7</td><td>2.2365e7</td><td>2.2365e7</td><td>2.2365e7</td><td>2.2365e7</td><td>2.2365e7</td><td>2.2365e7</td><td>2.2365e7</td><td>2.2365e7</td><td>2.2365e7</td><td>2.2365e7</td><td>&quot;22365000&quot;</td><td>2.2365e7</td><td>2.2365e7</td><td>2.2365e7</td><td>2.2365e7</td><td>2.2365e7</td><td>2.2365e7</td><td>2.2365e7</td><td>2.2365e7</td><td>2.2365e7</td><td>2.2365e7</td><td>2.2365e7</td><td>2.2365e7</td><td>2.2365e7</td><td>2.2365e7</td><td>2.2365e7</td><td>2.2365e7</td><td>&quot;22365000&quot;</td><td>2.2365e7</td><td>&quot;22365000&quot;</td><td>&quot;22365000&quot;</td><td>2.2365e7</td><td>2.2365e7</td><td>2.2365e7</td><td>2.2365e7</td><td>2.2365e7</td><td>2.2365e7</td></tr><tr><td>&quot;null_count&quot;</td><td>0.0</td><td>&quot;0&quot;</td><td>0.0</td><td>0.0</td><td>0.0</td><td>&quot;0&quot;</td><td>0.0</td><td>0.0</td><td>0.0</td><td>0.0</td><td>0.0</td><td>0.0</td><td>0.0</td><td>0.0</td><td>0.0</td><td>0.0</td><td>0.0</td><td>0.0</td><td>0.0</td><td>&quot;0&quot;</td><td>0.0</td><td>0.0</td><td>0.0</td><td>0.0</td><td>0.0</td><td>0.0</td><td>0.0</td><td>0.0</td><td>0.0</td><td>0.0</td><td>0.0</td><td>0.0</td><td>0.0</td><td>0.0</td><td>0.0</td><td>0.0</td><td>&quot;0&quot;</td><td>0.0</td><td>&quot;0&quot;</td><td>&quot;0&quot;</td><td>0.0</td><td>0.0</td><td>0.0</td><td>0.0</td><td>0.0</td><td>0.0</td></tr><tr><td>&quot;mean&quot;</td><td>1.1182e7</td><td>null</td><td>372749.5</td><td>496.5</td><td>374.5</td><td>null</td><td>15.5</td><td>750.0</td><td>994.0</td><td>3.0</td><td>2.0</td><td>300000.0</td><td>0.0</td><td>0.0</td><td>0.0</td><td>256.0</td><td>1.1</td><td>0.0</td><td>0.0</td><td>null</td><td>0.0</td><td>4.0</td><td>4.0</td><td>2.0</td><td>6.0</td><td>2.0</td><td>8.0</td><td>8.0</td><td>16.0</td><td>4.0</td><td>20.0</td><td>4.0</td><td>8.0</td><td>42.0</td><td>18.0</td><td>256.0</td><td>null</td><td>8.0</td><td>null</td><td>null</td><td>0.0</td><td>256.0</td><td>256.0</td><td>256.0</td><td>32.0</td><td>0.0</td></tr><tr><td>&quot;std&quot;</td><td>6.4562e6</td><td>null</td><td>215207.317651</td><td>286.942945</td><td>216.506163</td><td>null</td><td>8.655442</td><td>0.0</td><td>0.0</td><td>0.0</td><td>0.0</td><td>0.0</td><td>0.0</td><td>0.0</td><td>null</td><td>0.0</td><td>0.0</td><td>0.0</td><td>0.0</td><td>null</td><td>0.0</td><td>0.0</td><td>0.0</td><td>0.0</td><td>0.0</td><td>0.0</td><td>0.0</td><td>0.0</td><td>0.0</td><td>0.0</td><td>0.0</td><td>0.0</td><td>0.0</td><td>0.0</td><td>4.242641</td><td>0.0</td><td>null</td><td>0.0</td><td>null</td><td>null</td><td>0.0</td><td>0.0</td><td>0.0</td><td>0.0</td><td>0.0</td><td>0.0</td></tr><tr><td>&quot;min&quot;</td><td>0.0</td><td>&quot;000000000000000000000000000000…</td><td>0.0</td><td>0.0</td><td>0.0</td><td>null</td><td>1.0</td><td>750.0</td><td>994.0</td><td>3.0</td><td>2.0</td><td>300000.0</td><td>0.0</td><td>0.0</td><td>0.0</td><td>256.0</td><td>1.1</td><td>0.0</td><td>0.0</td><td>null</td><td>0.0</td><td>4.0</td><td>4.0</td><td>2.0</td><td>6.0</td><td>2.0</td><td>8.0</td><td>8.0</td><td>16.0</td><td>4.0</td><td>20.0</td><td>4.0</td><td>8.0</td><td>42.0</td><td>12.0</td><td>256.0</td><td>null</td><td>8.0</td><td>null</td><td>null</td><td>0.0</td><td>256.0</td><td>256.0</td><td>256.0</td><td>32.0</td><td>0.0</td></tr><tr><td>&quot;25%&quot;</td><td>5.59125e6</td><td>null</td><td>186375.0</td><td>248.0</td><td>187.0</td><td>null</td><td>8.0</td><td>750.0</td><td>994.0</td><td>3.0</td><td>2.0</td><td>300000.0</td><td>0.0</td><td>0.0</td><td>null</td><td>256.0</td><td>1.1</td><td>0.0</td><td>0.0</td><td>null</td><td>0.0</td><td>4.0</td><td>4.0</td><td>2.0</td><td>6.0</td><td>2.0</td><td>8.0</td><td>8.0</td><td>16.0</td><td>4.0</td><td>20.0</td><td>4.0</td><td>8.0</td><td>42.0</td><td>15.0</td><td>256.0</td><td>null</td><td>8.0</td><td>null</td><td>null</td><td>0.0</td><td>256.0</td><td>256.0</td><td>256.0</td><td>32.0</td><td>0.0</td></tr><tr><td>&quot;50%&quot;</td><td>1.11825e7</td><td>null</td><td>372750.0</td><td>497.0</td><td>375.0</td><td>null</td><td>16.0</td><td>750.0</td><td>994.0</td><td>3.0</td><td>2.0</td><td>300000.0</td><td>0.0</td><td>0.0</td><td>null</td><td>256.0</td><td>1.1</td><td>0.0</td><td>0.0</td><td>null</td><td>0.0</td><td>4.0</td><td>4.0</td><td>2.0</td><td>6.0</td><td>2.0</td><td>8.0</td><td>8.0</td><td>16.0</td><td>4.0</td><td>20.0</td><td>4.0</td><td>8.0</td><td>42.0</td><td>18.0</td><td>256.0</td><td>null</td><td>8.0</td><td>null</td><td>null</td><td>0.0</td><td>256.0</td><td>256.0</td><td>256.0</td><td>32.0</td><td>0.0</td></tr><tr><td>&quot;75%&quot;</td><td>1.6773749e7</td><td>null</td><td>559124.0</td><td>745.0</td><td>562.0</td><td>null</td><td>23.0</td><td>750.0</td><td>994.0</td><td>3.0</td><td>2.0</td><td>300000.0</td><td>0.0</td><td>0.0</td><td>null</td><td>256.0</td><td>1.1</td><td>0.0</td><td>0.0</td><td>null</td><td>0.0</td><td>4.0</td><td>4.0</td><td>2.0</td><td>6.0</td><td>2.0</td><td>8.0</td><td>8.0</td><td>16.0</td><td>4.0</td><td>20.0</td><td>4.0</td><td>8.0</td><td>42.0</td><td>21.0</td><td>256.0</td><td>null</td><td>8.0</td><td>null</td><td>null</td><td>0.0</td><td>256.0</td><td>256.0</td><td>256.0</td><td>32.0</td><td>0.0</td></tr><tr><td>&quot;max&quot;</td><td>2.2364999e7</td><td>&quot;ffffffffffffffffffffffffffffff…</td><td>745499.0</td><td>993.0</td><td>749.0</td><td>null</td><td>30.0</td><td>750.0</td><td>994.0</td><td>3.0</td><td>2.0</td><td>300000.0</td><td>0.0</td><td>0.0</td><td>0.0</td><td>256.0</td><td>1.1</td><td>0.0</td><td>0.0</td><td>null</td><td>0.0</td><td>4.0</td><td>4.0</td><td>2.0</td><td>6.0</td><td>2.0</td><td>8.0</td><td>8.0</td><td>16.0</td><td>4.0</td><td>20.0</td><td>4.0</td><td>8.0</td><td>42.0</td><td>24.0</td><td>256.0</td><td>null</td><td>8.0</td><td>null</td><td>null</td><td>0.0</td><td>256.0</td><td>256.0</td><td>256.0</td><td>32.0</td><td>0.0</td></tr></tbody></table></div>"
      ],
      "text/plain": [
       "shape: (9, 47)\n",
       "┌───────────┬───────────┬───────────┬───────────┬───┬───────────┬───────────┬───────────┬──────────┐\n",
       "│ statistic ┆ dstream_d ┆ data_hex  ┆ tile      ┆ … ┆ dstream_S ┆ dstream_T ┆ dstream_T ┆ trait_va │\n",
       "│ ---       ┆ ata_id    ┆ ---       ┆ ---       ┆   ┆ ---       ┆ _bitoffse ┆ _bitwidth ┆ lue      │\n",
       "│ str       ┆ ---       ┆ str       ┆ f64       ┆   ┆ f64       ┆ t         ┆ ---       ┆ ---      │\n",
       "│           ┆ f64       ┆           ┆           ┆   ┆           ┆ ---       ┆ f64       ┆ f64      │\n",
       "│           ┆           ┆           ┆           ┆   ┆           ┆ f64       ┆           ┆          │\n",
       "╞═══════════╪═══════════╪═══════════╪═══════════╪═══╪═══════════╪═══════════╪═══════════╪══════════╡\n",
       "│ count     ┆ 2.2365e7  ┆ 22365000  ┆ 2.2365e7  ┆ … ┆ 2.2365e7  ┆ 2.2365e7  ┆ 2.2365e7  ┆ 2.2365e7 │\n",
       "│ null_coun ┆ 0.0       ┆ 0         ┆ 0.0       ┆ … ┆ 0.0       ┆ 0.0       ┆ 0.0       ┆ 0.0      │\n",
       "│ t         ┆           ┆           ┆           ┆   ┆           ┆           ┆           ┆          │\n",
       "│ mean      ┆ 1.1182e7  ┆ null      ┆ 372749.5  ┆ … ┆ 256.0     ┆ 256.0     ┆ 32.0      ┆ 0.0      │\n",
       "│ std       ┆ 6.4562e6  ┆ null      ┆ 215207.31 ┆ … ┆ 0.0       ┆ 0.0       ┆ 0.0       ┆ 0.0      │\n",
       "│           ┆           ┆           ┆ 7651      ┆   ┆           ┆           ┆           ┆          │\n",
       "│ min       ┆ 0.0       ┆ 000000000 ┆ 0.0       ┆ … ┆ 256.0     ┆ 256.0     ┆ 32.0      ┆ 0.0      │\n",
       "│           ┆           ┆ 000000000 ┆           ┆   ┆           ┆           ┆           ┆          │\n",
       "│           ┆           ┆ 000000000 ┆           ┆   ┆           ┆           ┆           ┆          │\n",
       "│           ┆           ┆ 000…      ┆           ┆   ┆           ┆           ┆           ┆          │\n",
       "│ 25%       ┆ 5.59125e6 ┆ null      ┆ 186375.0  ┆ … ┆ 256.0     ┆ 256.0     ┆ 32.0      ┆ 0.0      │\n",
       "│ 50%       ┆ 1.11825e7 ┆ null      ┆ 372750.0  ┆ … ┆ 256.0     ┆ 256.0     ┆ 32.0      ┆ 0.0      │\n",
       "│ 75%       ┆ 1.6773749 ┆ null      ┆ 559124.0  ┆ … ┆ 256.0     ┆ 256.0     ┆ 32.0      ┆ 0.0      │\n",
       "│           ┆ e7        ┆           ┆           ┆   ┆           ┆           ┆           ┆          │\n",
       "│ max       ┆ 2.2364999 ┆ fffffffff ┆ 745499.0  ┆ … ┆ 256.0     ┆ 256.0     ┆ 32.0      ┆ 0.0      │\n",
       "│           ┆ e7        ┆ fffffffff ┆           ┆   ┆           ┆           ┆           ┆          │\n",
       "│           ┆           ┆ fffffffff ┆           ┆   ┆           ┆           ┆           ┆          │\n",
       "│           ┆           ┆ fff…      ┆           ┆   ┆           ┆           ┆           ┆          │\n",
       "└───────────┴───────────┴───────────┴───────────┴───┴───────────┴───────────┴───────────┴──────────┘"
      ]
     },
     "metadata": {},
     "output_type": "display_data"
    },
    {
     "data": {
      "text/html": [
       "<div><style>\n",
       ".dataframe > thead > tr,\n",
       ".dataframe > tbody > tr {\n",
       "  text-align: right;\n",
       "  white-space: pre-wrap;\n",
       "}\n",
       "</style>\n",
       "<small>shape: (5, 46)</small><table border=\"1\" class=\"dataframe\"><thead><tr><th>dstream_data_id</th><th>data_hex</th><th>tile</th><th>row</th><th>col</th><th>genomeFlavor</th><th>globalSeed</th><th>nCol</th><th>nRow</th><th>nWav</th><th>nTrait</th><th>nCycle</th><th>nColSubgrid</th><th>nRowSubgrid</th><th>nonBlock</th><th>tilePopSize</th><th>tournSize</th><th>msec</th><th>tsc</th><th>replicate</th><th>netbencount_hexoffset</th><th>netbencount_hexwidth</th><th>mutator_hexoffset</th><th>mutator_hexwidth</th><th>delcount_hexoffset</th><th>delcount_hexwidth</th><th>counter_hexoffset</th><th>counter_hexwidth</th><th>snapshot_netbencount_hexoffset</th><th>snapshot_netbencount_hexwidth</th><th>snapshot_counter_hexoffset</th><th>snapshot_counter_hexwidth</th><th>snapshot_counter_dilation</th><th>_compconf_dummy</th><th>CEREBRASLIB_HYPERMUT_NUM_AVAIL_BEN_MUTS</th><th>CEREBRASLIB_TRAITLOGGER_NUM_BITS</th><th>CEREBRASLIB_TRAITLOGGER_DSTREAM_ALGO_NAME</th><th>CEREBRASLIB_TRAITLOGGER_DILATION</th><th>ASYNC_GA_GENOME_FLAVOR</th><th>dstream_algo</th><th>dstream_storage_bitoffset</th><th>dstream_storage_bitwidth</th><th>dstream_S</th><th>dstream_T_bitoffset</th><th>dstream_T_bitwidth</th><th>trait_value</th></tr><tr><td>u32</td><td>str</td><td>u32</td><td>u16</td><td>u16</td><td>cat</td><td>u32</td><td>u16</td><td>u16</td><td>u8</td><td>u8</td><td>u32</td><td>u16</td><td>u16</td><td>bool</td><td>u16</td><td>f32</td><td>f32</td><td>u64</td><td>cat</td><td>u8</td><td>u8</td><td>u8</td><td>u8</td><td>u8</td><td>u8</td><td>u8</td><td>u8</td><td>u8</td><td>u8</td><td>u8</td><td>u8</td><td>u8</td><td>u32</td><td>i16</td><td>u32</td><td>cat</td><td>u32</td><td>cat</td><td>cat</td><td>u16</td><td>u16</td><td>u16</td><td>u16</td><td>u16</td><td>u16</td></tr></thead><tbody><tr><td>0</td><td>&quot;0787183666d2db6dfaffffffffffff…</td><td>0</td><td>0</td><td>0</td><td>&quot;genome_hypermutator_cappedxl_d…</td><td>1</td><td>750</td><td>994</td><td>3</td><td>2</td><td>300000</td><td>0</td><td>0</td><td>false</td><td>256</td><td>1.1</td><td>0.0</td><td>0</td><td>&quot;93a0f38e-bfd5-4257-bade-2a1aab…</td><td>0</td><td>4</td><td>4</td><td>2</td><td>6</td><td>2</td><td>8</td><td>8</td><td>16</td><td>4</td><td>20</td><td>4</td><td>8</td><td>42</td><td>12</td><td>256</td><td>&quot;hybrid_0_steady_1_stretched_2_…</td><td>8</td><td>&quot;genome_hypermutator_cappedxl_d…</td><td>&quot;dstream.hybrid_0_steady_1_stre…</td><td>0</td><td>256</td><td>256</td><td>256</td><td>32</td><td>0</td></tr><tr><td>1</td><td>&quot;0787183666d2db6dfbffffffffffff…</td><td>1</td><td>0</td><td>1</td><td>&quot;genome_hypermutator_cappedxl_d…</td><td>1</td><td>750</td><td>994</td><td>3</td><td>2</td><td>300000</td><td>0</td><td>0</td><td>false</td><td>256</td><td>1.1</td><td>0.0</td><td>0</td><td>&quot;93a0f38e-bfd5-4257-bade-2a1aab…</td><td>0</td><td>4</td><td>4</td><td>2</td><td>6</td><td>2</td><td>8</td><td>8</td><td>16</td><td>4</td><td>20</td><td>4</td><td>8</td><td>42</td><td>12</td><td>256</td><td>&quot;hybrid_0_steady_1_stretched_2_…</td><td>8</td><td>&quot;genome_hypermutator_cappedxl_d…</td><td>&quot;dstream.hybrid_0_steady_1_stre…</td><td>0</td><td>256</td><td>256</td><td>256</td><td>32</td><td>0</td></tr><tr><td>2</td><td>&quot;0787183666d2db6dfbffffffffffff…</td><td>2</td><td>0</td><td>2</td><td>&quot;genome_hypermutator_cappedxl_d…</td><td>1</td><td>750</td><td>994</td><td>3</td><td>2</td><td>300000</td><td>0</td><td>0</td><td>false</td><td>256</td><td>1.1</td><td>0.0</td><td>0</td><td>&quot;93a0f38e-bfd5-4257-bade-2a1aab…</td><td>0</td><td>4</td><td>4</td><td>2</td><td>6</td><td>2</td><td>8</td><td>8</td><td>16</td><td>4</td><td>20</td><td>4</td><td>8</td><td>42</td><td>12</td><td>256</td><td>&quot;hybrid_0_steady_1_stretched_2_…</td><td>8</td><td>&quot;genome_hypermutator_cappedxl_d…</td><td>&quot;dstream.hybrid_0_steady_1_stre…</td><td>0</td><td>256</td><td>256</td><td>256</td><td>32</td><td>0</td></tr><tr><td>3</td><td>&quot;0787183666d2db6dfbffffffffffff…</td><td>3</td><td>0</td><td>3</td><td>&quot;genome_hypermutator_cappedxl_d…</td><td>1</td><td>750</td><td>994</td><td>3</td><td>2</td><td>300000</td><td>0</td><td>0</td><td>false</td><td>256</td><td>1.1</td><td>0.0</td><td>0</td><td>&quot;93a0f38e-bfd5-4257-bade-2a1aab…</td><td>0</td><td>4</td><td>4</td><td>2</td><td>6</td><td>2</td><td>8</td><td>8</td><td>16</td><td>4</td><td>20</td><td>4</td><td>8</td><td>42</td><td>12</td><td>256</td><td>&quot;hybrid_0_steady_1_stretched_2_…</td><td>8</td><td>&quot;genome_hypermutator_cappedxl_d…</td><td>&quot;dstream.hybrid_0_steady_1_stre…</td><td>0</td><td>256</td><td>256</td><td>256</td><td>32</td><td>0</td></tr><tr><td>4</td><td>&quot;0687183666d2db6dfbffffffffffff…</td><td>4</td><td>0</td><td>4</td><td>&quot;genome_hypermutator_cappedxl_d…</td><td>1</td><td>750</td><td>994</td><td>3</td><td>2</td><td>300000</td><td>0</td><td>0</td><td>false</td><td>256</td><td>1.1</td><td>0.0</td><td>0</td><td>&quot;93a0f38e-bfd5-4257-bade-2a1aab…</td><td>0</td><td>4</td><td>4</td><td>2</td><td>6</td><td>2</td><td>8</td><td>8</td><td>16</td><td>4</td><td>20</td><td>4</td><td>8</td><td>42</td><td>12</td><td>256</td><td>&quot;hybrid_0_steady_1_stretched_2_…</td><td>8</td><td>&quot;genome_hypermutator_cappedxl_d…</td><td>&quot;dstream.hybrid_0_steady_1_stre…</td><td>0</td><td>256</td><td>256</td><td>256</td><td>32</td><td>0</td></tr></tbody></table></div>"
      ],
      "text/plain": [
       "shape: (5, 46)\n",
       "┌─────────────┬─────────────┬──────┬─────┬───┬───────────┬─────────────┬─────────────┬─────────────┐\n",
       "│ dstream_dat ┆ data_hex    ┆ tile ┆ row ┆ … ┆ dstream_S ┆ dstream_T_b ┆ dstream_T_b ┆ trait_value │\n",
       "│ a_id        ┆ ---         ┆ ---  ┆ --- ┆   ┆ ---       ┆ itoffset    ┆ itwidth     ┆ ---         │\n",
       "│ ---         ┆ str         ┆ u32  ┆ u16 ┆   ┆ u16       ┆ ---         ┆ ---         ┆ u16         │\n",
       "│ u32         ┆             ┆      ┆     ┆   ┆           ┆ u16         ┆ u16         ┆             │\n",
       "╞═════════════╪═════════════╪══════╪═════╪═══╪═══════════╪═════════════╪═════════════╪═════════════╡\n",
       "│ 0           ┆ 0787183666d ┆ 0    ┆ 0   ┆ … ┆ 256       ┆ 256         ┆ 32          ┆ 0           │\n",
       "│             ┆ 2db6dfaffff ┆      ┆     ┆   ┆           ┆             ┆             ┆             │\n",
       "│             ┆ ffffffff…   ┆      ┆     ┆   ┆           ┆             ┆             ┆             │\n",
       "│ 1           ┆ 0787183666d ┆ 1    ┆ 0   ┆ … ┆ 256       ┆ 256         ┆ 32          ┆ 0           │\n",
       "│             ┆ 2db6dfbffff ┆      ┆     ┆   ┆           ┆             ┆             ┆             │\n",
       "│             ┆ ffffffff…   ┆      ┆     ┆   ┆           ┆             ┆             ┆             │\n",
       "│ 2           ┆ 0787183666d ┆ 2    ┆ 0   ┆ … ┆ 256       ┆ 256         ┆ 32          ┆ 0           │\n",
       "│             ┆ 2db6dfbffff ┆      ┆     ┆   ┆           ┆             ┆             ┆             │\n",
       "│             ┆ ffffffff…   ┆      ┆     ┆   ┆           ┆             ┆             ┆             │\n",
       "│ 3           ┆ 0787183666d ┆ 3    ┆ 0   ┆ … ┆ 256       ┆ 256         ┆ 32          ┆ 0           │\n",
       "│             ┆ 2db6dfbffff ┆      ┆     ┆   ┆           ┆             ┆             ┆             │\n",
       "│             ┆ ffffffff…   ┆      ┆     ┆   ┆           ┆             ┆             ┆             │\n",
       "│ 4           ┆ 0687183666d ┆ 4    ┆ 0   ┆ … ┆ 256       ┆ 256         ┆ 32          ┆ 0           │\n",
       "│             ┆ 2db6dfbffff ┆      ┆     ┆   ┆           ┆             ┆             ┆             │\n",
       "│             ┆ ffffffff…   ┆      ┆     ┆   ┆           ┆             ┆             ┆             │\n",
       "└─────────────┴─────────────┴──────┴─────┴───┴───────────┴─────────────┴─────────────┴─────────────┘"
      ]
     },
     "metadata": {},
     "output_type": "display_data"
    },
    {
     "data": {
      "text/html": [
       "<div><style>\n",
       ".dataframe > thead > tr,\n",
       ".dataframe > tbody > tr {\n",
       "  text-align: right;\n",
       "  white-space: pre-wrap;\n",
       "}\n",
       "</style>\n",
       "<small>shape: (5, 46)</small><table border=\"1\" class=\"dataframe\"><thead><tr><th>dstream_data_id</th><th>data_hex</th><th>tile</th><th>row</th><th>col</th><th>genomeFlavor</th><th>globalSeed</th><th>nCol</th><th>nRow</th><th>nWav</th><th>nTrait</th><th>nCycle</th><th>nColSubgrid</th><th>nRowSubgrid</th><th>nonBlock</th><th>tilePopSize</th><th>tournSize</th><th>msec</th><th>tsc</th><th>replicate</th><th>netbencount_hexoffset</th><th>netbencount_hexwidth</th><th>mutator_hexoffset</th><th>mutator_hexwidth</th><th>delcount_hexoffset</th><th>delcount_hexwidth</th><th>counter_hexoffset</th><th>counter_hexwidth</th><th>snapshot_netbencount_hexoffset</th><th>snapshot_netbencount_hexwidth</th><th>snapshot_counter_hexoffset</th><th>snapshot_counter_hexwidth</th><th>snapshot_counter_dilation</th><th>_compconf_dummy</th><th>CEREBRASLIB_HYPERMUT_NUM_AVAIL_BEN_MUTS</th><th>CEREBRASLIB_TRAITLOGGER_NUM_BITS</th><th>CEREBRASLIB_TRAITLOGGER_DSTREAM_ALGO_NAME</th><th>CEREBRASLIB_TRAITLOGGER_DILATION</th><th>ASYNC_GA_GENOME_FLAVOR</th><th>dstream_algo</th><th>dstream_storage_bitoffset</th><th>dstream_storage_bitwidth</th><th>dstream_S</th><th>dstream_T_bitoffset</th><th>dstream_T_bitwidth</th><th>trait_value</th></tr><tr><td>u32</td><td>str</td><td>u32</td><td>u16</td><td>u16</td><td>cat</td><td>u32</td><td>u16</td><td>u16</td><td>u8</td><td>u8</td><td>u32</td><td>u16</td><td>u16</td><td>bool</td><td>u16</td><td>f32</td><td>f32</td><td>u64</td><td>cat</td><td>u8</td><td>u8</td><td>u8</td><td>u8</td><td>u8</td><td>u8</td><td>u8</td><td>u8</td><td>u8</td><td>u8</td><td>u8</td><td>u8</td><td>u8</td><td>u32</td><td>i16</td><td>u32</td><td>cat</td><td>u32</td><td>cat</td><td>cat</td><td>u16</td><td>u16</td><td>u16</td><td>u16</td><td>u16</td><td>u16</td></tr></thead><tbody><tr><td>22364995</td><td>&quot;ffffffffffffffffffdfffffffdfff…</td><td>745495</td><td>993</td><td>745</td><td>&quot;genome_hypermutator_cappedxl_d…</td><td>30</td><td>750</td><td>994</td><td>3</td><td>2</td><td>300000</td><td>0</td><td>0</td><td>false</td><td>256</td><td>1.1</td><td>0.0</td><td>0</td><td>&quot;1c63611f-1aec-4e9a-afd4-67a2a5…</td><td>0</td><td>4</td><td>4</td><td>2</td><td>6</td><td>2</td><td>8</td><td>8</td><td>16</td><td>4</td><td>20</td><td>4</td><td>8</td><td>42</td><td>24</td><td>256</td><td>&quot;hybrid_0_steady_1_stretched_2_…</td><td>8</td><td>&quot;genome_hypermutator_cappedxl_d…</td><td>&quot;dstream.hybrid_0_steady_1_stre…</td><td>0</td><td>256</td><td>256</td><td>256</td><td>32</td><td>0</td></tr><tr><td>22364996</td><td>&quot;ffffffffffffffffffffffffffdfff…</td><td>745496</td><td>993</td><td>746</td><td>&quot;genome_hypermutator_cappedxl_d…</td><td>30</td><td>750</td><td>994</td><td>3</td><td>2</td><td>300000</td><td>0</td><td>0</td><td>false</td><td>256</td><td>1.1</td><td>0.0</td><td>0</td><td>&quot;1c63611f-1aec-4e9a-afd4-67a2a5…</td><td>0</td><td>4</td><td>4</td><td>2</td><td>6</td><td>2</td><td>8</td><td>8</td><td>16</td><td>4</td><td>20</td><td>4</td><td>8</td><td>42</td><td>24</td><td>256</td><td>&quot;hybrid_0_steady_1_stretched_2_…</td><td>8</td><td>&quot;genome_hypermutator_cappedxl_d…</td><td>&quot;dstream.hybrid_0_steady_1_stre…</td><td>0</td><td>256</td><td>256</td><td>256</td><td>32</td><td>0</td></tr><tr><td>22364997</td><td>&quot;ffffffffffffffffffffffffffffff…</td><td>745497</td><td>993</td><td>747</td><td>&quot;genome_hypermutator_cappedxl_d…</td><td>30</td><td>750</td><td>994</td><td>3</td><td>2</td><td>300000</td><td>0</td><td>0</td><td>false</td><td>256</td><td>1.1</td><td>0.0</td><td>0</td><td>&quot;1c63611f-1aec-4e9a-afd4-67a2a5…</td><td>0</td><td>4</td><td>4</td><td>2</td><td>6</td><td>2</td><td>8</td><td>8</td><td>16</td><td>4</td><td>20</td><td>4</td><td>8</td><td>42</td><td>24</td><td>256</td><td>&quot;hybrid_0_steady_1_stretched_2_…</td><td>8</td><td>&quot;genome_hypermutator_cappedxl_d…</td><td>&quot;dstream.hybrid_0_steady_1_stre…</td><td>0</td><td>256</td><td>256</td><td>256</td><td>32</td><td>0</td></tr><tr><td>22364998</td><td>&quot;ffffffffffffffffffffffffffffff…</td><td>745498</td><td>993</td><td>748</td><td>&quot;genome_hypermutator_cappedxl_d…</td><td>30</td><td>750</td><td>994</td><td>3</td><td>2</td><td>300000</td><td>0</td><td>0</td><td>false</td><td>256</td><td>1.1</td><td>0.0</td><td>0</td><td>&quot;1c63611f-1aec-4e9a-afd4-67a2a5…</td><td>0</td><td>4</td><td>4</td><td>2</td><td>6</td><td>2</td><td>8</td><td>8</td><td>16</td><td>4</td><td>20</td><td>4</td><td>8</td><td>42</td><td>24</td><td>256</td><td>&quot;hybrid_0_steady_1_stretched_2_…</td><td>8</td><td>&quot;genome_hypermutator_cappedxl_d…</td><td>&quot;dstream.hybrid_0_steady_1_stre…</td><td>0</td><td>256</td><td>256</td><td>256</td><td>32</td><td>0</td></tr><tr><td>22364999</td><td>&quot;ffffffffffffffffffffffffffffff…</td><td>745499</td><td>993</td><td>749</td><td>&quot;genome_hypermutator_cappedxl_d…</td><td>30</td><td>750</td><td>994</td><td>3</td><td>2</td><td>300000</td><td>0</td><td>0</td><td>false</td><td>256</td><td>1.1</td><td>0.0</td><td>0</td><td>&quot;1c63611f-1aec-4e9a-afd4-67a2a5…</td><td>0</td><td>4</td><td>4</td><td>2</td><td>6</td><td>2</td><td>8</td><td>8</td><td>16</td><td>4</td><td>20</td><td>4</td><td>8</td><td>42</td><td>24</td><td>256</td><td>&quot;hybrid_0_steady_1_stretched_2_…</td><td>8</td><td>&quot;genome_hypermutator_cappedxl_d…</td><td>&quot;dstream.hybrid_0_steady_1_stre…</td><td>0</td><td>256</td><td>256</td><td>256</td><td>32</td><td>0</td></tr></tbody></table></div>"
      ],
      "text/plain": [
       "shape: (5, 46)\n",
       "┌─────────────┬─────────────┬────────┬─────┬───┬───────────┬─────────────┬────────────┬────────────┐\n",
       "│ dstream_dat ┆ data_hex    ┆ tile   ┆ row ┆ … ┆ dstream_S ┆ dstream_T_b ┆ dstream_T_ ┆ trait_valu │\n",
       "│ a_id        ┆ ---         ┆ ---    ┆ --- ┆   ┆ ---       ┆ itoffset    ┆ bitwidth   ┆ e          │\n",
       "│ ---         ┆ str         ┆ u32    ┆ u16 ┆   ┆ u16       ┆ ---         ┆ ---        ┆ ---        │\n",
       "│ u32         ┆             ┆        ┆     ┆   ┆           ┆ u16         ┆ u16        ┆ u16        │\n",
       "╞═════════════╪═════════════╪════════╪═════╪═══╪═══════════╪═════════════╪════════════╪════════════╡\n",
       "│ 22364995    ┆ fffffffffff ┆ 745495 ┆ 993 ┆ … ┆ 256       ┆ 256         ┆ 32         ┆ 0          │\n",
       "│             ┆ fffffffdfff ┆        ┆     ┆   ┆           ┆             ┆            ┆            │\n",
       "│             ┆ ffffdfff…   ┆        ┆     ┆   ┆           ┆             ┆            ┆            │\n",
       "│ 22364996    ┆ fffffffffff ┆ 745496 ┆ 993 ┆ … ┆ 256       ┆ 256         ┆ 32         ┆ 0          │\n",
       "│             ┆ fffffffffff ┆        ┆     ┆   ┆           ┆             ┆            ┆            │\n",
       "│             ┆ ffffdfff…   ┆        ┆     ┆   ┆           ┆             ┆            ┆            │\n",
       "│ 22364997    ┆ fffffffffff ┆ 745497 ┆ 993 ┆ … ┆ 256       ┆ 256         ┆ 32         ┆ 0          │\n",
       "│             ┆ fffffffffff ┆        ┆     ┆   ┆           ┆             ┆            ┆            │\n",
       "│             ┆ ffffffff…   ┆        ┆     ┆   ┆           ┆             ┆            ┆            │\n",
       "│ 22364998    ┆ fffffffffff ┆ 745498 ┆ 993 ┆ … ┆ 256       ┆ 256         ┆ 32         ┆ 0          │\n",
       "│             ┆ fffffffffff ┆        ┆     ┆   ┆           ┆             ┆            ┆            │\n",
       "│             ┆ ffffffff…   ┆        ┆     ┆   ┆           ┆             ┆            ┆            │\n",
       "│ 22364999    ┆ fffffffffff ┆ 745499 ┆ 993 ┆ … ┆ 256       ┆ 256         ┆ 32         ┆ 0          │\n",
       "│             ┆ fffffffffff ┆        ┆     ┆   ┆           ┆             ┆            ┆            │\n",
       "│             ┆ ffffffff…   ┆        ┆     ┆   ┆           ┆             ┆            ┆            │\n",
       "└─────────────┴─────────────┴────────┴─────┴───┴───────────┴─────────────┴────────────┴────────────┘"
      ]
     },
     "metadata": {},
     "output_type": "display_data"
    }
   ],
   "source": [
    "dfxs = pl.from_pandas(\n",
    "    pd.read_parquet(\"https://osf.io/cq7zd/download\"),\n",
    ").with_row_index(\n",
    "    \"dstream_data_id\",\n",
    ")\n",
    "display(dfxs.describe()), display(dfxs.head()), display(dfxs.tail());\n"
   ]
  },
  {
   "cell_type": "code",
   "execution_count": 6,
   "metadata": {
    "execution": {
     "iopub.execute_input": "2025-08-24T01:22:05.238796Z",
     "iopub.status.busy": "2025-08-24T01:22:05.238582Z",
     "iopub.status.idle": "2025-08-24T01:22:05.245091Z",
     "shell.execute_reply": "2025-08-24T01:22:05.244493Z"
    }
   },
   "outputs": [],
   "source": [
    "def unpack_logger_timeseries_data(df: pl.DataFrame) -> pl.DataFrame:\n",
    "\n",
    "    # sample every 256th tile\n",
    "    df = df.filter((pl.col(\"col\") % 16 == 0) & (pl.col(\"row\") % 16 == 0))\n",
    "\n",
    "    # unpack dstream data items from logger hex strings\n",
    "    dfu = downstream.dataframe.unpack_data_packed(df)\n",
    "    df = downstream.dataframe.explode_lookup_unpacked(\n",
    "        dfu.with_columns(\n",
    "            # fast forward loggers to at least dstream_S entries\n",
    "            # (i.e., buffer filled)\n",
    "            # these will be semantically-correct zero values\n",
    "            dstream_T=pl.max_horizontal(\n",
    "                pl.col(\"dstream_T\"), pl.col(\"dstream_S\")\n",
    "            ),\n",
    "        ),\n",
    "        value_type=\"uint8\",\n",
    "    )\n",
    "\n",
    "    # join metadata onto unpacked data\n",
    "    df = df.join(\n",
    "        dfu.select(\n",
    "            \"dstream_data_id\",\n",
    "            \"CEREBRASLIB_HYPERMUT_NUM_AVAIL_BEN_MUTS\",\n",
    "            \"CEREBRASLIB_TRAITLOGGER_DILATION\",\n",
    "            \"col\",\n",
    "            \"replicate\",\n",
    "            \"row\",\n",
    "            \"tile\",\n",
    "        ),\n",
    "        on=\"dstream_data_id\",\n",
    "    )\n",
    "\n",
    "    # apply dilation to dstream_T and dstream_Tbar\n",
    "    df = df.with_columns(\n",
    "        dstream_T=pl.col(\"dstream_T\")\n",
    "        * pl.col(\"CEREBRASLIB_TRAITLOGGER_DILATION\"),\n",
    "        dstream_Tbar=pl.col(\"dstream_Tbar\")\n",
    "        * pl.col(\"CEREBRASLIB_TRAITLOGGER_DILATION\"),\n",
    "    )\n",
    "\n",
    "    # addend time time series groups with final zero value entry\n",
    "    df = addend_groups(\n",
    "        df,\n",
    "        group_by=[\"replicate\", \"tile\"],\n",
    "        aggs=(\n",
    "            pl.col(\"CEREBRASLIB_HYPERMUT_NUM_AVAIL_BEN_MUTS\")\n",
    "            .unique()\n",
    "            .pipe(squeeze_int),\n",
    "            pl.col(\"col\").unique().pipe(squeeze_int),\n",
    "            (pl.col(\"dstream_Tbar\") + 1).max().alias(\"dstream_Tbar\"),\n",
    "            pl.lit(0).alias(\"dstream_value\"),\n",
    "            pl.col(\"row\").unique().pipe(squeeze_int),\n",
    "        ),\n",
    "        inner_only=True,\n",
    "    )\n",
    "\n",
    "    # upsample to fill in dstream_Tbar dropped by some loggers\n",
    "    # prevents ampling biases from longer-running vs shorter-running loggers\n",
    "    df = union_upsample(\n",
    "        df,\n",
    "        upsample=\"dstream_Tbar\",\n",
    "        group_by=\"tile\",\n",
    "        fill_null_ops=[\n",
    "            (pl.all(), {\"strategy\": \"forward\"}),\n",
    "            (pl.col(\"dstream_Tbar\", \"dstream_value\"), {\"strategy\": \"zero\"}),\n",
    "            (pl.all(), {\"strategy\": \"backward\"}),\n",
    "        ],\n",
    "    )\n",
    "    assert len(df[\"dstream_Tbar\"].value_counts()[\"count\"].unique()) == 1\n",
    "\n",
    "    return df\n"
   ]
  },
  {
   "cell_type": "code",
   "execution_count": 7,
   "metadata": {
    "execution": {
     "iopub.execute_input": "2025-08-24T01:22:05.246863Z",
     "iopub.status.busy": "2025-08-24T01:22:05.246675Z",
     "iopub.status.idle": "2025-08-24T01:22:18.766110Z",
     "shell.execute_reply": "2025-08-24T01:22:18.765555Z"
    }
   },
   "outputs": [
    {
     "name": "stderr",
     "output_type": "stream",
     "text": [
      "0it [00:00, ?it/s]/usr/local/lib/python3.10/dist-packages/downstream/dataframe/_impl/_check_downstream_version.py:29: UserWarning: Dataframe downstream_version column not provided\n",
      "  warnings.warn(\n",
      "1it [00:00,  1.99it/s]/usr/local/lib/python3.10/dist-packages/downstream/dataframe/_impl/_check_downstream_version.py:29: UserWarning: Dataframe downstream_version column not provided\n",
      "  warnings.warn(\n",
      "2it [00:00,  2.15it/s]/usr/local/lib/python3.10/dist-packages/downstream/dataframe/_impl/_check_downstream_version.py:29: UserWarning: Dataframe downstream_version column not provided\n",
      "  warnings.warn(\n",
      "3it [00:01,  2.09it/s]/usr/local/lib/python3.10/dist-packages/downstream/dataframe/_impl/_check_downstream_version.py:29: UserWarning: Dataframe downstream_version column not provided\n",
      "  warnings.warn(\n",
      "4it [00:01,  2.09it/s]/usr/local/lib/python3.10/dist-packages/downstream/dataframe/_impl/_check_downstream_version.py:29: UserWarning: Dataframe downstream_version column not provided\n",
      "  warnings.warn(\n",
      "5it [00:02,  2.13it/s]/usr/local/lib/python3.10/dist-packages/downstream/dataframe/_impl/_check_downstream_version.py:29: UserWarning: Dataframe downstream_version column not provided\n",
      "  warnings.warn(\n",
      "6it [00:02,  2.13it/s]/usr/local/lib/python3.10/dist-packages/downstream/dataframe/_impl/_check_downstream_version.py:29: UserWarning: Dataframe downstream_version column not provided\n",
      "  warnings.warn(\n",
      "7it [00:03,  2.16it/s]/usr/local/lib/python3.10/dist-packages/downstream/dataframe/_impl/_check_downstream_version.py:29: UserWarning: Dataframe downstream_version column not provided\n",
      "  warnings.warn(\n",
      "8it [00:03,  2.12it/s]/usr/local/lib/python3.10/dist-packages/downstream/dataframe/_impl/_check_downstream_version.py:29: UserWarning: Dataframe downstream_version column not provided\n",
      "  warnings.warn(\n",
      "9it [00:04,  2.38it/s]/usr/local/lib/python3.10/dist-packages/downstream/dataframe/_impl/_check_downstream_version.py:29: UserWarning: Dataframe downstream_version column not provided\n",
      "  warnings.warn(\n",
      "10it [00:04,  2.27it/s]/usr/local/lib/python3.10/dist-packages/downstream/dataframe/_impl/_check_downstream_version.py:29: UserWarning: Dataframe downstream_version column not provided\n",
      "  warnings.warn(\n",
      "11it [00:05,  2.15it/s]/usr/local/lib/python3.10/dist-packages/downstream/dataframe/_impl/_check_downstream_version.py:29: UserWarning: Dataframe downstream_version column not provided\n",
      "  warnings.warn(\n",
      "12it [00:05,  2.06it/s]/usr/local/lib/python3.10/dist-packages/downstream/dataframe/_impl/_check_downstream_version.py:29: UserWarning: Dataframe downstream_version column not provided\n",
      "  warnings.warn(\n",
      "13it [00:05,  2.33it/s]/usr/local/lib/python3.10/dist-packages/downstream/dataframe/_impl/_check_downstream_version.py:29: UserWarning: Dataframe downstream_version column not provided\n",
      "  warnings.warn(\n",
      "14it [00:06,  2.23it/s]/usr/local/lib/python3.10/dist-packages/downstream/dataframe/_impl/_check_downstream_version.py:29: UserWarning: Dataframe downstream_version column not provided\n",
      "  warnings.warn(\n",
      "15it [00:06,  2.17it/s]/usr/local/lib/python3.10/dist-packages/downstream/dataframe/_impl/_check_downstream_version.py:29: UserWarning: Dataframe downstream_version column not provided\n",
      "  warnings.warn(\n",
      "16it [00:07,  2.18it/s]/usr/local/lib/python3.10/dist-packages/downstream/dataframe/_impl/_check_downstream_version.py:29: UserWarning: Dataframe downstream_version column not provided\n",
      "  warnings.warn(\n",
      "17it [00:07,  2.19it/s]/usr/local/lib/python3.10/dist-packages/downstream/dataframe/_impl/_check_downstream_version.py:29: UserWarning: Dataframe downstream_version column not provided\n",
      "  warnings.warn(\n",
      "18it [00:08,  2.18it/s]/usr/local/lib/python3.10/dist-packages/downstream/dataframe/_impl/_check_downstream_version.py:29: UserWarning: Dataframe downstream_version column not provided\n",
      "  warnings.warn(\n",
      "19it [00:08,  2.14it/s]/usr/local/lib/python3.10/dist-packages/downstream/dataframe/_impl/_check_downstream_version.py:29: UserWarning: Dataframe downstream_version column not provided\n",
      "  warnings.warn(\n",
      "20it [00:09,  2.38it/s]/usr/local/lib/python3.10/dist-packages/downstream/dataframe/_impl/_check_downstream_version.py:29: UserWarning: Dataframe downstream_version column not provided\n",
      "  warnings.warn(\n",
      "21it [00:09,  2.64it/s]/usr/local/lib/python3.10/dist-packages/downstream/dataframe/_impl/_check_downstream_version.py:29: UserWarning: Dataframe downstream_version column not provided\n",
      "  warnings.warn(\n",
      "22it [00:09,  2.48it/s]/usr/local/lib/python3.10/dist-packages/downstream/dataframe/_impl/_check_downstream_version.py:29: UserWarning: Dataframe downstream_version column not provided\n",
      "  warnings.warn(\n",
      "23it [00:10,  2.31it/s]/usr/local/lib/python3.10/dist-packages/downstream/dataframe/_impl/_check_downstream_version.py:29: UserWarning: Dataframe downstream_version column not provided\n",
      "  warnings.warn(\n",
      "24it [00:10,  2.56it/s]/usr/local/lib/python3.10/dist-packages/downstream/dataframe/_impl/_check_downstream_version.py:29: UserWarning: Dataframe downstream_version column not provided\n",
      "  warnings.warn(\n",
      "25it [00:11,  2.39it/s]/usr/local/lib/python3.10/dist-packages/downstream/dataframe/_impl/_check_downstream_version.py:29: UserWarning: Dataframe downstream_version column not provided\n",
      "  warnings.warn(\n",
      "26it [00:11,  2.33it/s]/usr/local/lib/python3.10/dist-packages/downstream/dataframe/_impl/_check_downstream_version.py:29: UserWarning: Dataframe downstream_version column not provided\n",
      "  warnings.warn(\n",
      "27it [00:12,  2.17it/s]/usr/local/lib/python3.10/dist-packages/downstream/dataframe/_impl/_check_downstream_version.py:29: UserWarning: Dataframe downstream_version column not provided\n",
      "  warnings.warn(\n",
      "28it [00:12,  2.14it/s]/usr/local/lib/python3.10/dist-packages/downstream/dataframe/_impl/_check_downstream_version.py:29: UserWarning: Dataframe downstream_version column not provided\n",
      "  warnings.warn(\n",
      "29it [00:13,  2.11it/s]/usr/local/lib/python3.10/dist-packages/downstream/dataframe/_impl/_check_downstream_version.py:29: UserWarning: Dataframe downstream_version column not provided\n",
      "  warnings.warn(\n",
      "30it [00:13,  2.22it/s]\n"
     ]
    }
   ],
   "source": [
    "res = []\n",
    "for _, df in tqdm(dfxs.group_by(\"replicate\")):\n",
    "    df = unpack_logger_timeseries_data(df)\n",
    "    res.append(df)\n",
    "\n",
    "df = pl.concat(res)\n"
   ]
  },
  {
   "cell_type": "markdown",
   "metadata": {},
   "source": [
    "## Plot Data\n"
   ]
  },
  {
   "cell_type": "code",
   "execution_count": 8,
   "metadata": {
    "execution": {
     "iopub.execute_input": "2025-08-24T01:22:18.768259Z",
     "iopub.status.busy": "2025-08-24T01:22:18.767859Z",
     "iopub.status.idle": "2025-08-24T01:22:19.924357Z",
     "shell.execute_reply": "2025-08-24T01:22:19.923787Z"
    }
   },
   "outputs": [],
   "source": [
    "# take the mean of dstream_value at each dstream_Tbar across tiles\n",
    "df_mean = df.group_by(\"replicate\", \"dstream_Tbar\").agg(\n",
    "    pl.col(\"dstream_value\").mean(),\n",
    "    pl.col(\"CEREBRASLIB_HYPERMUT_NUM_AVAIL_BEN_MUTS\")\n",
    "    .unique()\n",
    "    .pipe(squeeze_int),\n",
    ")\n"
   ]
  },
  {
   "cell_type": "code",
   "execution_count": 9,
   "metadata": {
    "execution": {
     "iopub.execute_input": "2025-08-24T01:22:19.926741Z",
     "iopub.status.busy": "2025-08-24T01:22:19.926349Z",
     "iopub.status.idle": "2025-08-24T01:22:28.135385Z",
     "shell.execute_reply": "2025-08-24T01:22:28.134732Z"
    }
   },
   "outputs": [
    {
     "name": "stderr",
     "output_type": "stream",
     "text": [
      "/usr/local/lib/python3.10/dist-packages/seaborn/axisgrid.py:123: UserWarning: Tight layout not applied. tight_layout cannot make Axes height small enough to accommodate all Axes decorations.\n",
      "  self._figure.tight_layout(*args, **kwargs)\n",
      "/usr/local/lib/python3.10/dist-packages/seaborn/axisgrid.py:123: UserWarning: Tight layout not applied. tight_layout cannot make Axes height small enough to accommodate all Axes decorations.\n",
      "  self._figure.tight_layout(*args, **kwargs)\n"
     ]
    },
    {
     "name": "stdout",
     "output_type": "stream",
     "text": [
      "teeplots/wse-denovo-spatial2d-poisson-timeseries/col=replicate-number+hue=replicate+kind=line+row=cerebraslib-hypermut-num-avail-ben-muts+viz=relplot+x=dstream-tbar+y=dstream-value+ext=.pdf\n",
      "teeplots/wse-denovo-spatial2d-poisson-timeseries/col=replicate-number+hue=replicate+kind=line+row=cerebraslib-hypermut-num-avail-ben-muts+viz=relplot+x=dstream-tbar+y=dstream-value+ext=.png\n"
     ]
    },
    {
     "data": {
      "image/png": "[encoded data removed]",
      "text/plain": [
       "<Figure size 1080x600 with 30 Axes>"
      ]
     },
     "metadata": {},
     "output_type": "display_data"
    }
   ],
   "source": [
    "with tp.teed(\n",
    "    sns.relplot,\n",
    "    data=df_mean.with_columns(\n",
    "        pl.col(\"replicate\")\n",
    "        .rank(method=\"dense\")\n",
    "        .over(\"CEREBRASLIB_HYPERMUT_NUM_AVAIL_BEN_MUTS\")\n",
    "        .cast(pl.Int32)\n",
    "        .alias(\"replicate number\")\n",
    "    ),\n",
    "    x=\"dstream_Tbar\",\n",
    "    y=\"dstream_value\",\n",
    "    hue=\"replicate\",\n",
    "    col=\"replicate number\",\n",
    "    row=\"CEREBRASLIB_HYPERMUT_NUM_AVAIL_BEN_MUTS\",\n",
    "    alpha=0.5,\n",
    "    aspect=1.5,\n",
    "    errorbar=None,\n",
    "    height=1.2,\n",
    "    linewidth=1,\n",
    "    legend=False,\n",
    "    kind=\"line\",\n",
    "    marker=\"d\",\n",
    "    markersize=4,\n",
    "    markers=True,\n",
    "    facet_kws=dict(margin_titles=True),\n",
    "    teeplot_subdir=teeplot_subdir,\n",
    "    teeplot_outexclude=[\"marker\"],\n",
    ") as g:\n",
    "    g.set(xlim=(10, 80000))\n",
    "    g.set(ylim=(0.00001, 2))\n",
    "    g.set_titles(\n",
    "        col_template=\"\",\n",
    "        row_template=\"{row_name} Avail\\nBen Muts\",\n",
    "    )\n",
    "    g.set_axis_labels(x_var=\"Generations\", y_var=\"Normomut\\nPrevalence\")\n",
    "    for ax in g.axes.flat:\n",
    "        ax.axhline(1, ls=\"--\", color=\"black\", linewidth=1, zorder=-10)\n",
    "        ax.set_yscale(\"log\")\n",
    "        ax.set_xscale(\"log\")\n"
   ]
  },
  {
   "cell_type": "markdown",
   "metadata": {},
   "source": [
    "## Animate Data\n"
   ]
  },
  {
   "cell_type": "code",
   "execution_count": 10,
   "metadata": {
    "execution": {
     "iopub.execute_input": "2025-08-24T01:22:28.137508Z",
     "iopub.status.busy": "2025-08-24T01:22:28.137330Z",
     "iopub.status.idle": "2025-08-24T01:23:15.196572Z",
     "shell.execute_reply": "2025-08-24T01:23:15.196044Z"
    }
   },
   "outputs": [
    {
     "name": "stderr",
     "output_type": "stream",
     "text": [
      "0it [00:00, ?it/s]"
     ]
    },
    {
     "name": "stdout",
     "output_type": "stream",
     "text": [
      "455\n"
     ]
    },
    {
     "name": "stderr",
     "output_type": "stream",
     "text": [
      "1it [00:02,  2.72s/it]"
     ]
    },
    {
     "name": "stdout",
     "output_type": "stream",
     "text": [
      "442\n"
     ]
    },
    {
     "name": "stderr",
     "output_type": "stream",
     "text": [
      "2it [00:04,  2.14s/it]"
     ]
    },
    {
     "name": "stdout",
     "output_type": "stream",
     "text": [
      "453\n"
     ]
    },
    {
     "name": "stderr",
     "output_type": "stream",
     "text": [
      "3it [00:06,  1.97s/it]"
     ]
    },
    {
     "name": "stdout",
     "output_type": "stream",
     "text": [
      "449\n"
     ]
    },
    {
     "name": "stderr",
     "output_type": "stream",
     "text": [
      "4it [00:07,  1.88s/it]"
     ]
    },
    {
     "name": "stdout",
     "output_type": "stream",
     "text": [
      "452\n"
     ]
    },
    {
     "name": "stderr",
     "output_type": "stream",
     "text": [
      "5it [00:09,  1.82s/it]"
     ]
    },
    {
     "name": "stdout",
     "output_type": "stream",
     "text": [
      "428\n"
     ]
    },
    {
     "name": "stderr",
     "output_type": "stream",
     "text": [
      "6it [00:11,  1.77s/it]"
     ]
    },
    {
     "name": "stdout",
     "output_type": "stream",
     "text": [
      "257\n"
     ]
    },
    {
     "name": "stderr",
     "output_type": "stream",
     "text": [
      "7it [00:12,  1.47s/it]"
     ]
    },
    {
     "name": "stdout",
     "output_type": "stream",
     "text": [
      "412\n"
     ]
    },
    {
     "name": "stderr",
     "output_type": "stream",
     "text": [
      "8it [00:13,  1.51s/it]"
     ]
    },
    {
     "name": "stdout",
     "output_type": "stream",
     "text": [
      "421\n"
     ]
    },
    {
     "name": "stderr",
     "output_type": "stream",
     "text": [
      "9it [00:15,  1.55s/it]"
     ]
    },
    {
     "name": "stdout",
     "output_type": "stream",
     "text": [
      "428\n"
     ]
    },
    {
     "name": "stderr",
     "output_type": "stream",
     "text": [
      "10it [00:17,  1.58s/it]"
     ]
    },
    {
     "name": "stdout",
     "output_type": "stream",
     "text": [
      "257\n"
     ]
    },
    {
     "name": "stderr",
     "output_type": "stream",
     "text": [
      "11it [00:17,  1.36s/it]"
     ]
    },
    {
     "name": "stdout",
     "output_type": "stream",
     "text": [
      "257\n"
     ]
    },
    {
     "name": "stderr",
     "output_type": "stream",
     "text": [
      "12it [00:18,  1.22s/it]"
     ]
    },
    {
     "name": "stdout",
     "output_type": "stream",
     "text": [
      "257\n"
     ]
    },
    {
     "name": "stderr",
     "output_type": "stream",
     "text": [
      "13it [00:19,  1.11s/it]"
     ]
    },
    {
     "name": "stdout",
     "output_type": "stream",
     "text": [
      "448\n"
     ]
    },
    {
     "name": "stderr",
     "output_type": "stream",
     "text": [
      "14it [00:21,  1.30s/it]"
     ]
    },
    {
     "name": "stdout",
     "output_type": "stream",
     "text": [
      "424\n"
     ]
    },
    {
     "name": "stderr",
     "output_type": "stream",
     "text": [
      "15it [00:23,  1.40s/it]"
     ]
    },
    {
     "name": "stdout",
     "output_type": "stream",
     "text": [
      "449\n"
     ]
    },
    {
     "name": "stderr",
     "output_type": "stream",
     "text": [
      "16it [00:24,  1.49s/it]"
     ]
    },
    {
     "name": "stdout",
     "output_type": "stream",
     "text": [
      "442\n"
     ]
    },
    {
     "name": "stderr",
     "output_type": "stream",
     "text": [
      "17it [00:26,  1.56s/it]"
     ]
    },
    {
     "name": "stdout",
     "output_type": "stream",
     "text": [
      "449\n"
     ]
    },
    {
     "name": "stderr",
     "output_type": "stream",
     "text": [
      "18it [00:28,  1.62s/it]"
     ]
    },
    {
     "name": "stdout",
     "output_type": "stream",
     "text": [
      "257\n"
     ]
    },
    {
     "name": "stderr",
     "output_type": "stream",
     "text": [
      "19it [00:29,  1.40s/it]"
     ]
    },
    {
     "name": "stdout",
     "output_type": "stream",
     "text": [
      "437\n"
     ]
    },
    {
     "name": "stderr",
     "output_type": "stream",
     "text": [
      "20it [00:30,  1.49s/it]"
     ]
    },
    {
     "name": "stdout",
     "output_type": "stream",
     "text": [
      "451\n"
     ]
    },
    {
     "name": "stderr",
     "output_type": "stream",
     "text": [
      "21it [00:32,  1.57s/it]"
     ]
    },
    {
     "name": "stdout",
     "output_type": "stream",
     "text": [
      "449\n"
     ]
    },
    {
     "name": "stderr",
     "output_type": "stream",
     "text": [
      "22it [00:34,  1.63s/it]"
     ]
    },
    {
     "name": "stdout",
     "output_type": "stream",
     "text": [
      "469\n"
     ]
    },
    {
     "name": "stderr",
     "output_type": "stream",
     "text": [
      "23it [00:36,  1.69s/it]"
     ]
    },
    {
     "name": "stdout",
     "output_type": "stream",
     "text": [
      "434\n"
     ]
    },
    {
     "name": "stderr",
     "output_type": "stream",
     "text": [
      "24it [00:37,  1.67s/it]"
     ]
    },
    {
     "name": "stdout",
     "output_type": "stream",
     "text": [
      "434\n"
     ]
    },
    {
     "name": "stderr",
     "output_type": "stream",
     "text": [
      "25it [00:39,  1.66s/it]"
     ]
    },
    {
     "name": "stdout",
     "output_type": "stream",
     "text": [
      "438\n"
     ]
    },
    {
     "name": "stderr",
     "output_type": "stream",
     "text": [
      "26it [00:41,  1.67s/it]"
     ]
    },
    {
     "name": "stdout",
     "output_type": "stream",
     "text": [
      "417\n"
     ]
    },
    {
     "name": "stderr",
     "output_type": "stream",
     "text": [
      "27it [00:42,  1.65s/it]"
     ]
    },
    {
     "name": "stdout",
     "output_type": "stream",
     "text": [
      "439\n"
     ]
    },
    {
     "name": "stderr",
     "output_type": "stream",
     "text": [
      "28it [00:44,  1.67s/it]"
     ]
    },
    {
     "name": "stdout",
     "output_type": "stream",
     "text": [
      "443\n"
     ]
    },
    {
     "name": "stderr",
     "output_type": "stream",
     "text": [
      "29it [00:46,  1.68s/it]"
     ]
    },
    {
     "name": "stdout",
     "output_type": "stream",
     "text": [
      "257\n"
     ]
    },
    {
     "name": "stderr",
     "output_type": "stream",
     "text": [
      "30it [00:47,  1.57s/it]\n"
     ]
    }
   ],
   "source": [
    "os.makedirs(teeplot_subdir, exist_ok=True)\n",
    "\n",
    "for (replicate, nmut), dfr in tqdm(\n",
    "    df.group_by(\"replicate\", \"CEREBRASLIB_HYPERMUT_NUM_AVAIL_BEN_MUTS\"),\n",
    "):\n",
    "    frames = []\n",
    "    for (dstream_Tbar,), dff in dfr.sort(\"dstream_Tbar\").group_by(\n",
    "        \"dstream_Tbar\", maintain_order=True\n",
    "    ):\n",
    "\n",
    "        dff = dff.with_columns(\n",
    "            col_rank=pl.col(\"col\").rank(method=\"dense\").cast(pl.Int32) - 1,\n",
    "            row_rank=pl.col(\"row\").rank(method=\"dense\").cast(pl.Int32) - 1,\n",
    "        )\n",
    "\n",
    "        num_rows = dff[\"row_rank\"].max() + 1\n",
    "        num_cols = dff[\"col_rank\"].max() + 1\n",
    "\n",
    "        frame = np.empty((num_rows, num_cols), dtype=np.uint8)\n",
    "        frame[dff[\"row_rank\"], dff[\"col_rank\"]] = dff[\"dstream_value\"] * 255\n",
    "        frame = np.kron(frame, np.ones((4, 4), dtype=frame.dtype))\n",
    "        frames.append(frame)\n",
    "\n",
    "        outdir = f\"{teeplot_subdir}/a=traitframes+nmut={nmut}+rep={replicate}\"\n",
    "        os.makedirs(outdir, exist_ok=True)\n",
    "        outpath = f\"{outdir}/dstream_Tbar={dstream_Tbar:06}+ext=.png\"\n",
    "        imageio.imwrite(outpath, frame.T)\n",
    "\n",
    "    print(len(frames))\n",
    "    outpath = f\"{teeplot_subdir}/a=traits+nmut={nmut}+rep={replicate}+ext=.gif\"\n",
    "    imageio.mimsave(outpath, frames, duration=0.2)\n"
   ]
  }
 ],
 "metadata": {
  "kernelspec": {
   "display_name": "env",
   "language": "python",
   "name": "python3"
  },
  "language_info": {
   "codemirror_mode": {
    "name": "ipython",
    "version": 3
   },
   "file_extension": ".py",
   "mimetype": "text/x-python",
   "name": "python",
   "nbconvert_exporter": "python",
   "pygments_lexer": "ipython3",
   "version": "3.10.12"
  }
 },
 "nbformat": 4,
 "nbformat_minor": 2
}
